{
 "cells": [
  {
   "cell_type": "markdown",
   "id": "afa94e48",
   "metadata": {},
   "source": [
    "## Exception Handling"
   ]
  },
  {
   "cell_type": "markdown",
   "id": "7fe050c5",
   "metadata": {},
   "source": [
    "- In any programming language, there are 2 types of possible errors:\n",
    "1. Syntax Errors\n",
    "2. Runtime Errors\n",
    "\n",
    "### 1. Syntax Errors:-\n",
    "1. The errors which occurs because of invalid syntax, such type of errors are considered as Syntax Errors.\n",
    "2. Programmer is responsible to correct these syntax errors. Once all syntax errors are corrected, then only program execution will be started.\n",
    "\n",
    "### 2. Runtime Errors:-\n",
    "1. Also known as Exceptions.\n",
    "2. While executing the program, at runtime if someting goes wrong because of end user input, memory problems, programming logic etc, then we will get Runtime errors.\n",
    "3. Exception Handling concept applicable for Runtime errors but not for syntax errors.\n",
    "\n",
    "### 3. Most important questions:-\n",
    "1. What is Exception?\n",
    "- An unwanted and unexpected event that disturbs normal flow of program is called exception.\n",
    "\n",
    "2. What is the main objective of Exception Handling?\n",
    "- It is highly recommended to handle exceptions.\n",
    "- The main objective of exception handling is Graceful Termination/ Normal Termination of the application(i.e., we should not bloc our resources and we should not miss anything).\n",
    "\n",
    "3. What is the meaning of Exception Handling?\n",
    "- S1 :- This week end I am planning to go to my native place by bus.\n",
    "- S2 :- This week end I am planning to go to my native place by bus. If bus is not available then I will try for train. If train is not available then I will try for flight. Still it is not avaialble then I will go for cab.\n",
    "- Exception Handling does not mean repairing an exception. We have to define alternative way to continue rest of the program normally.\n",
    "- This way of defining alternative is nothing but exception handling.\n",
    "\n",
    "\n",
    "### Default Exception Handling in python.\n",
    "1. Every exception in python is an object, for every exception type the corresponding class is available.\n",
    "2. Whenever an exception occurs PVM will create the corresponding exception object and will check for handling code. If handling code is available then it will be executed and rest of the program will be executed normally.\n",
    "3. If handling code is not abailable then PVM will terminates program abnormally and print corresponding exception information to the consolr. The rest of the program won't be executed.\n",
    "4. To prevent this abnormal termination, we should handle exceptions explicitly of course by using try-except blocks."
   ]
  },
  {
   "cell_type": "markdown",
   "id": "fcf555b7",
   "metadata": {},
   "source": [
    "### Python's Exception Hierarchy\n",
    "1. Every Exception in python is a class.\n",
    "2. All Exception classes are child class of BaseException acts as root for python exception Hirarchy.\n",
    "3. Being a programmer, most of the times, we have to concentrate/ handle exception its child classes."
   ]
  },
  {
   "cell_type": "markdown",
   "id": "6041cf30",
   "metadata": {},
   "source": [
    "### Customized exception Handling by using try-except"
   ]
  },
  {
   "cell_type": "markdown",
   "id": "9cd0db30",
   "metadata": {},
   "source": [
    "1. Without try-except\n",
    "- Abnormal Termination, Non-graceful termination"
   ]
  },
  {
   "cell_type": "code",
   "execution_count": 1,
   "id": "e2282444",
   "metadata": {},
   "outputs": [
    {
     "name": "stdout",
     "output_type": "stream",
     "text": [
      "Stat-1\n"
     ]
    },
    {
     "ename": "ZeroDivisionError",
     "evalue": "division by zero",
     "output_type": "error",
     "traceback": [
      "\u001b[1;31m---------------------------------------------------------------------------\u001b[0m",
      "\u001b[1;31mZeroDivisionError\u001b[0m                         Traceback (most recent call last)",
      "Cell \u001b[1;32mIn[1], line 2\u001b[0m\n\u001b[0;32m      1\u001b[0m \u001b[38;5;28mprint\u001b[39m(\u001b[38;5;124m\"\u001b[39m\u001b[38;5;124mStat-1\u001b[39m\u001b[38;5;124m\"\u001b[39m)\n\u001b[1;32m----> 2\u001b[0m \u001b[38;5;28mprint\u001b[39m(\u001b[38;5;241;43m10\u001b[39;49m\u001b[38;5;241;43m/\u001b[39;49m\u001b[38;5;241;43m0\u001b[39;49m)\n\u001b[0;32m      3\u001b[0m \u001b[38;5;28mprint\u001b[39m(\u001b[38;5;124m\"\u001b[39m\u001b[38;5;124mStat-3\u001b[39m\u001b[38;5;124m\"\u001b[39m)\n",
      "\u001b[1;31mZeroDivisionError\u001b[0m: division by zero"
     ]
    }
   ],
   "source": [
    "print(\"Stat-1\")\n",
    "print(10/0)\n",
    "print(\"Stat-3\")"
   ]
  },
  {
   "cell_type": "markdown",
   "id": "97d7a4a1",
   "metadata": {},
   "source": [
    "2. With try-except\n",
    "- Normal termination, Graceful termination."
   ]
  },
  {
   "cell_type": "code",
   "execution_count": 2,
   "id": "7fb2aee7",
   "metadata": {},
   "outputs": [
    {
     "name": "stdout",
     "output_type": "stream",
     "text": [
      "Stat-1\n",
      "5.0\n",
      "Stat-3\n"
     ]
    }
   ],
   "source": [
    "print(\"Stat-1\")\n",
    "try:\n",
    "    print(10/0)\n",
    "except ZeroDivisionError:\n",
    "    print(10/2)\n",
    "\n",
    "print(\"Stat-3\")"
   ]
  },
  {
   "cell_type": "markdown",
   "id": "875fa0a9",
   "metadata": {},
   "source": [
    "1. It is Highly recommended to handle exceptions.\n",
    "2. The code which may raise an exception is called Risky code and we have to take that risky code inside try block\n",
    "3. The corresponding handling code we have to take inside except block."
   ]
  },
  {
   "cell_type": "markdown",
   "id": "87236108",
   "metadata": {},
   "source": [
    "### Control flow in try-except\n",
    "```py\n",
    "try:\n",
    "    stat-1\n",
    "    stat-2 # exception\n",
    "    stat-3\n",
    "\n",
    "except xxx:\n",
    "    stat-4 #alternative flow\n",
    "\n",
    "stat-5\n",
    "```\n",
    "\n",
    "1. If there is no exception:-\n",
    "- 1,2,3,5,NT(Normal Termination)\n",
    "2. If an exception raised at stat-2 and corresponding except block matched.\n",
    "- 1, 4, 5, NT\n",
    "3. If an exception raised at stat-2, but corresponding except block not matched.\n",
    "- 1, AT(Abnormal Termination)\n",
    "4. If exception raised at stat-4 or stat-5\n",
    "- Abnormal Termination."
   ]
  },
  {
   "cell_type": "markdown",
   "id": "0592e917",
   "metadata": {},
   "source": [
    "1. Within the try block if anywhere an exception raised then rest of the try block won't be executed even though we handled that exception. Hence inside try block we have to take only risky code and the length of the try block should be less as possible.\n",
    "2. In addition to try block, there may be a chance of raising exceptions inside except and finally block also.\n",
    "3. If any statement which not part of try block, raising an exception then it is always Abnormal Termination."
   ]
  },
  {
   "cell_type": "markdown",
   "id": "857a74d0",
   "metadata": {},
   "source": [
    "### How to print Exception Information :-"
   ]
  },
  {
   "cell_type": "code",
   "execution_count": 3,
   "id": "cd765742",
   "metadata": {},
   "outputs": [
    {
     "name": "stdout",
     "output_type": "stream",
     "text": [
      "The type of exception : <class 'ZeroDivisionError'>\n",
      "The type of exception : <class 'ZeroDivisionError'>\n",
      "The Exception class Name : ZeroDivisionError\n",
      "The Description of Exception : division by zero\n"
     ]
    }
   ],
   "source": [
    "try:\n",
    "    print(10/0)\n",
    "\n",
    "except ZeroDivisionError as msg:\n",
    "    print(\"The type of exception :\", type(msg))\n",
    "    print(\"The type of exception :\", msg.__class__)\n",
    "    print(\"The Exception class Name :\", msg.__class__.__name__)\n",
    "    print(\"The Description of Exception :\", msg)"
   ]
  },
  {
   "cell_type": "code",
   "execution_count": 5,
   "id": "07c548be",
   "metadata": {},
   "outputs": [
    {
     "name": "stdout",
     "output_type": "stream",
     "text": [
      "The Result 1.75\n"
     ]
    }
   ],
   "source": [
    "try:\n",
    "    x = int(input(\"Enter first number\"))\n",
    "    y = int(input(\"Enter Second Number\"))\n",
    "    print(\"The Result\",x/y)\n",
    "\n",
    "except BaseException as msg:\n",
    "    print(\"The type of exception :\", type(msg))\n",
    "    print(\"The type of exception :\", msg.__class__)\n",
    "    print(\"The Exception cl\\ass Name :\", msg.__class__.__name__)\n",
    "    print(\"The Description of Exception :\", msg)"
   ]
  },
  {
   "cell_type": "markdown",
   "id": "572ae306",
   "metadata": {},
   "source": [
    "### Try with multiple except blocks :-\n",
    "```py\n",
    "try:\n",
    "    -----\n",
    "    -----\n",
    "    ----\n",
    "except ZeroDivisionErro:\n",
    "    perform alternative arithemetic oprerations\n",
    "\n",
    "except fileNotFoundError:\n",
    "    Use local file instead of remote file\n",
    "```\n",
    "1. The way of handling an exception is varied from exception to exception.\n",
    "2. Hence for every possible exception type, we have to take a seperate except block, try with multiple except blocks is possible and recomended to use.\n",
    "3. If try with multiple except blocks available, then based on raised exception the corresponding except block will be executed.\n",
    "4. If try with multiple except blocks available then order of these blocks is important. Python virtual machine will always consider from top to bottom until matched except block identified."
   ]
  },
  {
   "cell_type": "code",
   "execution_count": 8,
   "id": "b597f381",
   "metadata": {},
   "outputs": [
    {
     "name": "stdout",
     "output_type": "stream",
     "text": [
      "Cannot divide with Zero.\n"
     ]
    }
   ],
   "source": [
    "try:\n",
    "    x= int(input(\"Enter first number\"))\n",
    "    y= int(input(\"Enter second number\"))\n",
    "    print(x/y)\n",
    "\n",
    "except ZeroDivisionError:\n",
    "    print(\"Cannot divide with Zero.\")\n",
    "except ValueError:\n",
    "    print(\"Please provide int values only.\")"
   ]
  },
  {
   "cell_type": "markdown",
   "id": "3e7d02b8",
   "metadata": {},
   "source": [
    "### Single except block that can handle multiple different exceptions."
   ]
  },
  {
   "cell_type": "code",
   "execution_count": 11,
   "id": "c57e31e8",
   "metadata": {},
   "outputs": [
    {
     "name": "stdout",
     "output_type": "stream",
     "text": [
      "Exception Name ValueError\n",
      "Description of Exception invalid literal for int() with base 10: 'kj'\n",
      "Please provide valid information only\n"
     ]
    }
   ],
   "source": [
    "try:\n",
    "    x= int(input(\"Enter first number\"))\n",
    "    y= int(input(\"Enter second number\"))\n",
    "    print(\"The Result\",x/y)\n",
    "\n",
    "except (ZeroDivisionError, ValueError) as msg:\n",
    "    print(\"Exception Name\", msg.__class__.__name__)\n",
    "    print(\"Description of Exception\", msg)\n",
    "    print(\"Please provide valid information only\")"
   ]
  },
  {
   "cell_type": "markdown",
   "id": "bf5b18d1",
   "metadata": {},
   "source": [
    "- If handling code is same for multiple exceptions, then instead of taking different except blocks, we can take single except block that can handle all those exceptions.\n",
    "\n",
    "```py\n",
    "except (Exception1, Exception2,.....):\n",
    "except (Exception1, Exception2,....) as msg:\n",
    "```\n",
    "\n",
    "- Parenthesis are mandatory and this group of exceptions internally considered as tuple.\n",
    "\n",
    "### Default except block\n",
    "1. We can use default except block to handle any type of exceptions.\n",
    "2. In default except block, generally we can print exception information to the console.\n",
    "\n",
    "```py\n",
    "Syntax\n",
    "except:\n",
    "    statements\n",
    "```\n"
   ]
  },
  {
   "cell_type": "code",
   "execution_count": 13,
   "id": "c578770f",
   "metadata": {},
   "outputs": [
    {
     "name": "stdout",
     "output_type": "stream",
     "text": [
      "ZeroDivision: divided by zero\n"
     ]
    }
   ],
   "source": [
    "try:\n",
    "    x= int(input(\"Enter first number\"))\n",
    "    y= int(input(\"Enter second number\"))\n",
    "    print(\"The Result\",x/y)\n",
    "except ZeroDivisionError:\n",
    "    print(\"ZeroDivision: divided by zero\")\n",
    "except:\n",
    "    print(\"Default Except block: provide int values only.\")"
   ]
  },
  {
   "cell_type": "markdown",
   "id": "0bb2c19f",
   "metadata": {},
   "source": [
    "3. If default except block is defined then compulsory it must be last except block, otherwise we will get SyntaxError.\n",
    "4. This restriction is applicable only for default except block but not for normal except blocks, i.e., normal except blocks can be in any order.\n",
    "\n",
    "### Various possible combinations of except blocks\n",
    "```py\n",
    "Valid Combinations ✔️\n",
    "1. except ZeroDivisionError:\n",
    "2. except (ZeroDivisionError):\n",
    "3. except ZeroDivisionError as msg:\n",
    "4. except (ZeroDivisionError) as msg:\n",
    "5. except (ZeroDivisionError, ValueError):\n",
    "6. except (ZeroDivisionError, ValueError) as msg:\n",
    "7. except:\n",
    "```\n",
    "```py\n",
    "Invalid Combinations ❌\n",
    "1. except (ZeroDivisionError as msg):\n",
    "2. except (ZeroDivisionError, ValueError):\n",
    "3. except (ZeroDivisionError, ValueError as msg):\n",
    "```\n",
    "\n",
    "5. If except block is defined for only one exception then parenthesis are optional. If multiple exceptions are there parenthesis are mandatory.\n",
    "6. If we use parenthesis then as must be outside of parenthesis only."
   ]
  },
  {
   "cell_type": "markdown",
   "id": "b3d1a74d",
   "metadata": {},
   "source": []
  }
 ],
 "metadata": {
  "kernelspec": {
   "display_name": "Python 3",
   "language": "python",
   "name": "python3"
  },
  "language_info": {
   "codemirror_mode": {
    "name": "ipython",
    "version": 3
   },
   "file_extension": ".py",
   "mimetype": "text/x-python",
   "name": "python",
   "nbconvert_exporter": "python",
   "pygments_lexer": "ipython3",
   "version": "3.10.0"
  }
 },
 "nbformat": 4,
 "nbformat_minor": 5
}
