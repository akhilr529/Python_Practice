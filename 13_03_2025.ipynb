{
 "cells": [
  {
   "cell_type": "code",
   "execution_count": 3,
   "metadata": {},
   "outputs": [
    {
     "name": "stdout",
     "output_type": "stream",
     "text": [
      "The number 543234 not in between 1 and 100\n"
     ]
    }
   ],
   "source": [
    "#WAP to check whether the given number is in between 1 and 100 or not:\n",
    "n=int(input(\"Enter a number\"))\n",
    "if n<100 and n>1:\n",
    "    print(\"The number {} is in between 1 and 100\".format(n))\n",
    "else:\n",
    "    print(\"The number {} not in between 1 and 100\".format(n))"
   ]
  },
  {
   "cell_type": "code",
   "execution_count": 9,
   "metadata": {},
   "outputs": [
    {
     "name": "stdout",
     "output_type": "stream",
     "text": [
      "Five\n"
     ]
    }
   ],
   "source": [
    "#WAP to take a single digit number from the keyboard and print its value in English word?\n",
    "number = int(input(\"Enter a single digit number\"))\n",
    "single_digit_words = [\"Zero\",\"One\", \"Two\", \"Three\",\"Four\", \"Five\", \"Six\",\"Seven\",\"Eight\",\"Nine\"]\n",
    "if number<10:\n",
    "    print(single_digit_words[number])\n",
    "else:\n",
    "    print(\"Please give single digit number.\")"
   ]
  },
  {
   "cell_type": "code",
   "execution_count": 19,
   "metadata": {},
   "outputs": [
    {
     "name": "stdout",
     "output_type": "stream",
     "text": [
      "Thirty Five\n"
     ]
    }
   ],
   "source": [
    "#0 to 99\n",
    "number = int(input(\"Enter a single digit number\"))\n",
    "words_upto_19 = [\" \",\"One\", \"Two\", \"Three\",\"Four\", \"Five\", \"Six\",\"Seven\",\"Eight\",\"Nine\", \"Ten\",\"Eleven\", \"Twelve\", \"Thirteen\", \"Fouteen\", \"Fifteen\", \"Sixteen\", \"Seventeen\", \"Eighteen\", \"Nineteen\"]\n",
    "words_for_tens = [\" \",\" \", \"Twenty\", \"Thirty\", \"Fourty\", \"Fifty\", \"Sixty\", \"Seventy\", \"Eighty\", \"Ninety\"]\n",
    "if number==0:\n",
    "    output = \"Zero\"\n",
    "elif number<20:\n",
    "    output = words_upto_19[number]\n",
    "elif number<100:\n",
    "    output = words_for_tens[number//10] +\" \"+ words_upto_19[number%10]\n",
    "print(output)"
   ]
  },
  {
   "cell_type": "markdown",
   "metadata": {},
   "source": [
    "### Iterative Statements\n",
    "1. for loop\n",
    "2. while loop\n"
   ]
  },
  {
   "cell_type": "markdown",
   "metadata": {},
   "source": [
    "- for x in sequence:\n",
    "-       activity"
   ]
  },
  {
   "cell_type": "code",
   "execution_count": 21,
   "metadata": {},
   "outputs": [
    {
     "name": "stdout",
     "output_type": "stream",
     "text": [
      "A\n",
      "k\n",
      "h\n",
      "i\n",
      "l\n"
     ]
    }
   ],
   "source": [
    "s= \"Akhil\"\n",
    "for i in s:\n",
    "    print(i)"
   ]
  },
  {
   "cell_type": "code",
   "execution_count": 22,
   "metadata": {},
   "outputs": [
    {
     "name": "stdout",
     "output_type": "stream",
     "text": [
      "The Character index=0 and the character =A\n",
      "The Character index=1 and the character =k\n",
      "The Character index=2 and the character =h\n",
      "The Character index=3 and the character =i\n",
      "The Character index=4 and the character =l\n"
     ]
    }
   ],
   "source": [
    "index=0\n",
    "for i in s:\n",
    "    print(\"The Character index={} and the character ={}\".format(index,i))\n",
    "    index +=1"
   ]
  },
  {
   "cell_type": "code",
   "execution_count": 24,
   "metadata": {},
   "outputs": [
    {
     "name": "stdout",
     "output_type": "stream",
     "text": [
      "1 3 5 7 9 11 13 15 17 19 "
     ]
    }
   ],
   "source": [
    "#To display odd numbers from 0-20\n",
    "for i in range(21):\n",
    "    if i%2!=0:\n",
    "        print(i, end=\" \")"
   ]
  },
  {
   "cell_type": "code",
   "execution_count": 25,
   "metadata": {},
   "outputs": [
    {
     "name": "stdout",
     "output_type": "stream",
     "text": [
      "15\n"
     ]
    }
   ],
   "source": [
    "#To print the sum of the numbers n the given list:\n",
    "list_ = eval(input(\"Enter a list\"))\n",
    "sum = 0\n",
    "for i in list_:\n",
    "    sum = sum+i\n",
    "print(sum)"
   ]
  },
  {
   "cell_type": "markdown",
   "metadata": {},
   "source": [
    "- while conditon:\n",
    "-       body"
   ]
  },
  {
   "cell_type": "code",
   "execution_count": 26,
   "metadata": {},
   "outputs": [
    {
     "name": "stdout",
     "output_type": "stream",
     "text": [
      "Hello, welcome to while loop\n",
      "Hello, welcome to while loop\n",
      "Hello, welcome to while loop\n",
      "Hello, welcome to while loop\n",
      "Hello, welcome to while loop\n",
      "Hello, welcome to while loop\n",
      "Hello, welcome to while loop\n",
      "Hello, welcome to while loop\n",
      "Hello, welcome to while loop\n",
      "Hello, welcome to while loop\n"
     ]
    }
   ],
   "source": [
    "i=1\n",
    "while i<=10:\n",
    "    print(\"Hello, welcome to while loop\")\n",
    "    i +=1"
   ]
  },
  {
   "cell_type": "code",
   "execution_count": 28,
   "metadata": {},
   "outputs": [
    {
     "name": "stdout",
     "output_type": "stream",
     "text": [
      "45\n"
     ]
    }
   ],
   "source": [
    "#WAP to display sum of first n natural numbers\n",
    "number = int(input(\"Enter a number\"))\n",
    "sum=0\n",
    "i=1\n",
    "while i<=number:\n",
    "    sum=sum+i\n",
    "    i+=1\n",
    "print(sum)"
   ]
  },
  {
   "cell_type": "markdown",
   "metadata": {},
   "source": [
    "### Nested loops\n"
   ]
  },
  {
   "cell_type": "code",
   "execution_count": 29,
   "metadata": {},
   "outputs": [
    {
     "name": "stdout",
     "output_type": "stream",
     "text": [
      "i = 0 and j = 0\n",
      "i = 0 and j = 1\n",
      "i = 1 and j = 0\n",
      "i = 1 and j = 1\n",
      "i = 2 and j = 0\n",
      "i = 2 and j = 1\n"
     ]
    }
   ],
   "source": [
    "for i in range(3):\n",
    "    for j in range(2):\n",
    "        print(\"i = {} and j = {}\".format(i,j))"
   ]
  },
  {
   "cell_type": "markdown",
   "metadata": {},
   "source": [
    "### Transfer statements\n",
    "1. break\n",
    "2. continue"
   ]
  },
  {
   "cell_type": "code",
   "execution_count": 31,
   "metadata": {},
   "outputs": [
    {
     "name": "stdout",
     "output_type": "stream",
     "text": [
      "0\n",
      "1\n",
      "2\n",
      "3\n",
      "4\n",
      "5\n",
      "6\n",
      "processing is enough, break loop execution.\n",
      "outside of loop\n"
     ]
    }
   ],
   "source": [
    "#break\n",
    "for i in range(10):\n",
    "    if i==7:\n",
    "        print(\"processing is enough, break loop execution.\")\n",
    "        break\n",
    "    print(i)\n",
    "print(\"outside of loop\")"
   ]
  },
  {
   "cell_type": "code",
   "execution_count": 36,
   "metadata": {},
   "outputs": [
    {
     "name": "stdout",
     "output_type": "stream",
     "text": [
      "1 3 5 7 9 "
     ]
    }
   ],
   "source": [
    "#continue\n",
    "for i in range(10):\n",
    "    if i%2 ==0:\n",
    "        continue\n",
    "    print(i, end=\" \")"
   ]
  },
  {
   "cell_type": "code",
   "execution_count": 38,
   "metadata": {},
   "outputs": [
    {
     "name": "stdout",
     "output_type": "stream",
     "text": [
      "100/10 = 10.0\n",
      "100/20 = 5.0\n",
      "100/30 = 3.3333333333333335\n",
      "Hello Stupid, How we can divide with zero\n",
      "100/5 = 20.0\n",
      "Hello Stupid, How we can divide with zero\n",
      "100/30 = 3.3333333333333335\n"
     ]
    }
   ],
   "source": [
    "l=[10,20,30,0,5,0,30]\n",
    "for i in l:\n",
    "    # print(\"100/{} = {}\".format(i, 100/i))\n",
    "    if i==0:\n",
    "        print(\"Hello Stupid, How we can divide with zero\")\n",
    "        continue\n",
    "    print(\"100/{} = {}\".format(i, 100/i))"
   ]
  },
  {
   "cell_type": "code",
   "execution_count": 39,
   "metadata": {},
   "outputs": [
    {
     "name": "stdout",
     "output_type": "stream",
     "text": [
      "1 0\n",
      "2 0\n",
      "2 1\n"
     ]
    }
   ],
   "source": [
    "for i in range(3):\n",
    "    for j in range(3):\n",
    "        if i==j:\n",
    "            break\n",
    "        print(i,j)"
   ]
  },
  {
   "cell_type": "code",
   "execution_count": 40,
   "metadata": {},
   "outputs": [
    {
     "name": "stdout",
     "output_type": "stream",
     "text": [
      "0 1\n",
      "0 2\n",
      "1 0\n",
      "1 2\n",
      "2 0\n",
      "2 1\n"
     ]
    }
   ],
   "source": [
    "for i in range(3):\n",
    "    for j in range(3):\n",
    "        if i==j:\n",
    "            continue\n",
    "        print(i,j)"
   ]
  },
  {
   "cell_type": "markdown",
   "metadata": {},
   "source": [
    "### Loop with else block\n",
    "- Loop executed without break statement then only else part will be executed."
   ]
  },
  {
   "cell_type": "code",
   "execution_count": 41,
   "metadata": {},
   "outputs": [
    {
     "name": "stdout",
     "output_type": "stream",
     "text": [
      "Processing items: 10\n",
      "Processing items: 20\n",
      "Processing items: 30\n",
      "Processing items: 40\n",
      "We can't place this order.\n"
     ]
    }
   ],
   "source": [
    "cart=[10,20,30,40,600,50,60]\n",
    "for item in cart:\n",
    "    if item>500:\n",
    "        print(\"We can't place this order.\")\n",
    "        break\n",
    "    print(\"Processing items:\", item)\n",
    "else:\n",
    "    print(\"Congratualations, all items are processed sucessfully\")"
   ]
  },
  {
   "cell_type": "code",
   "execution_count": 42,
   "metadata": {},
   "outputs": [
    {
     "name": "stdout",
     "output_type": "stream",
     "text": [
      "Processing items: 10\n",
      "Processing items: 20\n",
      "Processing items: 30\n",
      "Processing items: 40\n",
      "Processing items: 50\n",
      "Processing items: 60\n",
      "Congratualations, all items are processed sucessfully\n"
     ]
    }
   ],
   "source": [
    "cart=[10,20,30,40,50,60]\n",
    "for item in cart:\n",
    "    if item>500:\n",
    "        print(\"We can't place this order.\")\n",
    "        break\n",
    "    print(\"Processing items:\", item)\n",
    "else:\n",
    "    print(\"Congratualations, all items are processed sucessfully\")"
   ]
  },
  {
   "cell_type": "markdown",
   "metadata": {},
   "source": [
    "- What are the difference between for and while loops in python\n",
    "- For loop is always based on sequence/collection while loop is always based on condition \n",
    "-       or\n",
    "- Repeat code for every item in sequence: for loop\n",
    "- Repeat code as long as some condition is True : while loop\n",
    "-----\n",
    "- How to exit from the loop?\n",
    "- By using break statement\n",
    "------- \n",
    "- How to skip some iteration inside loop?\n",
    "- By using continue statement\n",
    "------\n",
    "- When else part will be executed in loops?\n",
    "- If loop executed without break then only else block will be executed"
   ]
  },
  {
   "cell_type": "markdown",
   "metadata": {},
   "source": [
    "### pass statement\n",
    "- def f1():\n",
    "-       pass"
   ]
  },
  {
   "cell_type": "markdown",
   "metadata": {},
   "source": [
    "- Pass statement acts as empty body, whereever empty block is required that place happily we can replace with pass statement.\n",
    "- Pass statement acts as place holder for future implementation."
   ]
  },
  {
   "cell_type": "markdown",
   "metadata": {},
   "source": [
    "### Conclusion about pass:-\n",
    "1. pass statement acts as empty statement in python\n",
    "2. It acts as a placeholder to implement future code.\n",
    "3. It can be used to define minimal classes and functions\n",
    "4. To define abstract methods, pass statement is the best choice."
   ]
  },
  {
   "cell_type": "markdown",
   "metadata": {},
   "source": [
    "### del statement"
   ]
  },
  {
   "cell_type": "code",
   "execution_count": 43,
   "metadata": {},
   "outputs": [
    {
     "ename": "NameError",
     "evalue": "name 'x' is not defined",
     "output_type": "error",
     "traceback": [
      "\u001b[1;31m---------------------------------------------------------------------------\u001b[0m",
      "\u001b[1;31mNameError\u001b[0m                                 Traceback (most recent call last)",
      "Cell \u001b[1;32mIn[43], line 3\u001b[0m\n\u001b[0;32m      1\u001b[0m x\u001b[38;5;241m=\u001b[39m\u001b[38;5;241m10\u001b[39m\n\u001b[0;32m      2\u001b[0m \u001b[38;5;28;01mdel\u001b[39;00m(x)\n\u001b[1;32m----> 3\u001b[0m \u001b[38;5;28mprint\u001b[39m(\u001b[43mx\u001b[49m)\n",
      "\u001b[1;31mNameError\u001b[0m: name 'x' is not defined"
     ]
    }
   ],
   "source": [
    "x=10\n",
    "del(x)\n",
    "print(x)"
   ]
  },
  {
   "cell_type": "code",
   "execution_count": 44,
   "metadata": {},
   "outputs": [
    {
     "name": "stdout",
     "output_type": "stream",
     "text": [
      "akhil\n",
      "akhil\n"
     ]
    }
   ],
   "source": [
    "s1= \"akhil\"\n",
    "s2=s1\n",
    "s3=s1\n",
    "del s1\n",
    "print(s2)\n",
    "print(s3)"
   ]
  },
  {
   "cell_type": "code",
   "execution_count": 49,
   "metadata": {},
   "outputs": [
    {
     "ename": "TypeError",
     "evalue": "'str' object doesn't support item deletion",
     "output_type": "error",
     "traceback": [
      "\u001b[1;31m---------------------------------------------------------------------------\u001b[0m",
      "\u001b[1;31mTypeError\u001b[0m                                 Traceback (most recent call last)",
      "Cell \u001b[1;32mIn[49], line 5\u001b[0m\n\u001b[0;32m      3\u001b[0m \u001b[38;5;28;01mdel\u001b[39;00m s\n\u001b[0;32m      4\u001b[0m s\u001b[38;5;241m=\u001b[39m\u001b[38;5;124m\"\u001b[39m\u001b[38;5;124makhil\u001b[39m\u001b[38;5;124m\"\u001b[39m\n\u001b[1;32m----> 5\u001b[0m \u001b[38;5;28;01mdel\u001b[39;00m s[\u001b[38;5;241m0\u001b[39m]\n",
      "\u001b[1;31mTypeError\u001b[0m: 'str' object doesn't support item deletion"
     ]
    }
   ],
   "source": [
    "#2 del vs immmutable objects\n",
    "s=\"akhil\"\n",
    "del s\n",
    "s=\"akhil\"\n",
    "del s[0]"
   ]
  },
  {
   "cell_type": "code",
   "execution_count": 47,
   "metadata": {},
   "outputs": [
    {
     "ename": "NameError",
     "evalue": "name 'x' is not defined",
     "output_type": "error",
     "traceback": [
      "\u001b[1;31m---------------------------------------------------------------------------\u001b[0m",
      "\u001b[1;31mNameError\u001b[0m                                 Traceback (most recent call last)",
      "Cell \u001b[1;32mIn[47], line 4\u001b[0m\n\u001b[0;32m      2\u001b[0m x\u001b[38;5;241m=\u001b[39m\u001b[38;5;241m10\u001b[39m\n\u001b[0;32m      3\u001b[0m \u001b[38;5;28;01mdel\u001b[39;00m x\n\u001b[1;32m----> 4\u001b[0m \u001b[38;5;28mprint\u001b[39m(\u001b[43mx\u001b[49m)\n",
      "\u001b[1;31mNameError\u001b[0m: name 'x' is not defined"
     ]
    }
   ],
   "source": [
    "#3 del vs None\n",
    "x=10\n",
    "del x\n",
    "print(x)"
   ]
  },
  {
   "cell_type": "code",
   "execution_count": 48,
   "metadata": {},
   "outputs": [
    {
     "name": "stdout",
     "output_type": "stream",
     "text": [
      "None\n"
     ]
    }
   ],
   "source": [
    "x=None\n",
    "print(x)"
   ]
  },
  {
   "cell_type": "markdown",
   "metadata": {},
   "source": [
    "### del Statement\n",
    "\n",
    "1. del is a keyword in python\n",
    "2. We can use del to delete a variable\n",
    "3. The main advantage of del is we can make objects eligible for Garbage Collection, so that free memory will be improved.\n",
    "\n",
    "4. The chance of failing python program with memory problems will be very less so that python application will become more robust.\n",
    "-----\n",
    "- del vs mutiple variable\n",
    "- We can use del to delete multiple variables. If we delete all reference variable then only object eligible for GC\n",
    "----\n",
    "- del vs immutable object\n",
    "- We can delete reference variable, which is pointing to the immutable object. But we cannot delete elements of the immutable objects.\n",
    "----\n",
    "- del vs NOne\n",
    "- After del we cannot use that variable but after assigning with None value, we can access that variable."
   ]
  },
  {
   "cell_type": "markdown",
   "metadata": {},
   "source": [
    "### Prime number\n",
    "- What is a prime number?\n",
    "- A positive integer greater than 1 which has no other factors except 1 and the number itself is called a prime number.\n",
    "- 2,3,5,7 etc., are prime numbers as they do not have any others factors.\n",
    "- but 6 is not prime(it is composite) since, 2x3 = 6"
   ]
  },
  {
   "cell_type": "code",
   "execution_count": 55,
   "metadata": {},
   "outputs": [
    {
     "name": "stdout",
     "output_type": "stream",
     "text": [
      "It is a prime number\n"
     ]
    }
   ],
   "source": [
    "#WAP to check whether the given number is prime or not\n",
    "n=int(input(\"Enter a number\"))\n",
    "if n<=1:\n",
    "    print(\"It is not a prime number\")\n",
    "else:\n",
    "    is_prime = True\n",
    "    for i in range(2, (n//2)+1):\n",
    "        if n%i ==0:\n",
    "            is_prime =False\n",
    "            break\n",
    "    if is_prime == True:\n",
    "        print(\"It is a prime number\")\n",
    "    else:\n",
    "        print(\"It is not a prime number\")"
   ]
  },
  {
   "cell_type": "code",
   "execution_count": 65,
   "metadata": {},
   "outputs": [
    {
     "name": "stdout",
     "output_type": "stream",
     "text": [
      "2\n",
      "3\n",
      "5\n"
     ]
    }
   ],
   "source": [
    "#WAP to generate prime numbers which are less then or equal to given number?\n",
    "n=int(input(\"Enter a number\"))\n",
    "n1=2\n",
    "while n1<=n:\n",
    "    is_prime =True\n",
    "    for i in range(2, (n1//2)+1):\n",
    "        if n1%i ==0:\n",
    "            is_prime=False\n",
    "            break\n",
    "    if is_prime==True:\n",
    "        print(n1)\n",
    "    n1 +=1"
   ]
  },
  {
   "cell_type": "code",
   "execution_count": 67,
   "metadata": {},
   "outputs": [
    {
     "name": "stdout",
     "output_type": "stream",
     "text": [
      "2 3 5 7 11 13 17 19 23 29 "
     ]
    }
   ],
   "source": [
    "#WAP to generate first n prime numbers?\n",
    "n= int(input(\"Enter a number\"))\n",
    "n1 =2\n",
    "count=0\n",
    "while True:\n",
    "    is_prime=True\n",
    "    for i in range(2, (n1//2)+1):\n",
    "        if n1%i == 0:\n",
    "            is_prime = False\n",
    "            break\n",
    "    if is_prime==True:\n",
    "        print(n1, end=\" \")\n",
    "        count = count+1\n",
    "    if count == n:\n",
    "        break\n",
    "    n1=n1+1"
   ]
  },
  {
   "cell_type": "code",
   "execution_count": null,
   "metadata": {},
   "outputs": [],
   "source": []
  }
 ],
 "metadata": {
  "kernelspec": {
   "display_name": "Python 3",
   "language": "python",
   "name": "python3"
  },
  "language_info": {
   "codemirror_mode": {
    "name": "ipython",
    "version": 3
   },
   "file_extension": ".py",
   "mimetype": "text/x-python",
   "name": "python",
   "nbconvert_exporter": "python",
   "pygments_lexer": "ipython3",
   "version": "3.10.0"
  }
 },
 "nbformat": 4,
 "nbformat_minor": 2
}
