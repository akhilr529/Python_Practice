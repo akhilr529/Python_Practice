{
 "cells": [
  {
   "cell_type": "markdown",
   "metadata": {},
   "source": [
    "### Dictionary Data Structure"
   ]
  },
  {
   "cell_type": "markdown",
   "metadata": {},
   "source": [
    "1. key-value pairs\n",
    "2. Duplicate keys was not applicable\n",
    "    Value can be duplicates\n",
    "3. Insertion order is not preserved and it is based on hash code of the keys\n",
    "4. Indexing and slicing are not allowed\n",
    "5. Heterogenous objects ---keys and --- values\n",
    "6. Mutable\n",
    "7. Dynamic\n",
    "8. d={k1:v1,k2:v2}"
   ]
  },
  {
   "cell_type": "code",
   "execution_count": 1,
   "metadata": {},
   "outputs": [],
   "source": [
    "l=[10,20,30]\n",
    "t=(10,20,30)\n",
    "s={10,20,30}\n",
    "d={100:\"akhil\", 200:\"ravi\"}"
   ]
  },
  {
   "cell_type": "code",
   "execution_count": 2,
   "metadata": {},
   "outputs": [
    {
     "name": "stdout",
     "output_type": "stream",
     "text": [
      "{100: 'Sudheer', 200: 'sasi', 'A': 300, 'B': 400}\n"
     ]
    }
   ],
   "source": [
    "d={100:\"akhil\", 200:\"sasi\", \"A\":300, \"B\":400, 100:\"Sudheer\"}\n",
    "print(d)"
   ]
  },
  {
   "cell_type": "markdown",
   "metadata": {},
   "source": [
    "##### Creation of dict objects\n",
    "1. Empty dict"
   ]
  },
  {
   "cell_type": "code",
   "execution_count": 3,
   "metadata": {},
   "outputs": [
    {
     "name": "stdout",
     "output_type": "stream",
     "text": [
      "<class 'dict'>\n",
      "<class 'dict'>\n"
     ]
    }
   ],
   "source": [
    "d={}\n",
    "print(type(d))\n",
    "d=dict()\n",
    "print(type(d))"
   ]
  },
  {
   "cell_type": "markdown",
   "metadata": {},
   "source": [
    "2. If we know the data"
   ]
  },
  {
   "cell_type": "code",
   "execution_count": 4,
   "metadata": {},
   "outputs": [
    {
     "name": "stdout",
     "output_type": "stream",
     "text": [
      "<class 'dict'>\n"
     ]
    }
   ],
   "source": [
    "d={100:\"Akhil\", 200:\"Sasi\"}\n",
    "print(type(d))"
   ]
  },
  {
   "cell_type": "markdown",
   "metadata": {},
   "source": [
    "3. By using dict()\n",
    "\n",
    "        list of tuples\n",
    "        tuples of tuples\n",
    "        set of tuples\n",
    "        list of lists\n",
    "        tuple of lists\n",
    "- **Compulsory internal elements should contain two elements**"
   ]
  },
  {
   "cell_type": "code",
   "execution_count": 5,
   "metadata": {},
   "outputs": [
    {
     "name": "stdout",
     "output_type": "stream",
     "text": [
      "{100: 'A', 200: 'B', 300: 'C'}\n",
      "<class 'dict'>\n"
     ]
    }
   ],
   "source": [
    "l=[(100,\"A\"), (200,\"B\"), (300,\"C\")]\n",
    "d=dict(l)\n",
    "print(d)\n",
    "print(type(d))"
   ]
  },
  {
   "cell_type": "markdown",
   "metadata": {},
   "source": [
    "4. By using dynamic input"
   ]
  },
  {
   "cell_type": "code",
   "execution_count": 6,
   "metadata": {},
   "outputs": [
    {
     "name": "stdout",
     "output_type": "stream",
     "text": [
      "<class 'dict'>\n",
      "{100: 'akhil', 200: 'sasi'}\n"
     ]
    }
   ],
   "source": [
    "d= eval(input(\"Enter the dict\"))\n",
    "print(type(d))\n",
    "print(d)"
   ]
  },
  {
   "cell_type": "markdown",
   "metadata": {},
   "source": [
    "##### How to access data from the dictionary"
   ]
  },
  {
   "cell_type": "code",
   "execution_count": 7,
   "metadata": {},
   "outputs": [
    {
     "name": "stdout",
     "output_type": "stream",
     "text": [
      "Akhil\n",
      "Sudheer\n"
     ]
    },
    {
     "ename": "KeyError",
     "evalue": "700",
     "output_type": "error",
     "traceback": [
      "\u001b[1;31m---------------------------------------------------------------------------\u001b[0m",
      "\u001b[1;31mKeyError\u001b[0m                                  Traceback (most recent call last)",
      "Cell \u001b[1;32mIn[7], line 4\u001b[0m\n\u001b[0;32m      2\u001b[0m \u001b[38;5;28mprint\u001b[39m(d[\u001b[38;5;241m100\u001b[39m])\n\u001b[0;32m      3\u001b[0m \u001b[38;5;28mprint\u001b[39m(d[\u001b[38;5;241m300\u001b[39m])\n\u001b[1;32m----> 4\u001b[0m \u001b[38;5;28mprint\u001b[39m(\u001b[43md\u001b[49m\u001b[43m[\u001b[49m\u001b[38;5;241;43m700\u001b[39;49m\u001b[43m]\u001b[49m)\n",
      "\u001b[1;31mKeyError\u001b[0m: 700"
     ]
    }
   ],
   "source": [
    "d={100:\"Akhil\", 200:\"Sasi\", 300:\"Sudheer\"}\n",
    "print(d[100])\n",
    "print(d[300])\n",
    "print(d[700])"
   ]
  },
  {
   "cell_type": "code",
   "execution_count": 10,
   "metadata": {},
   "outputs": [
    {
     "name": "stdout",
     "output_type": "stream",
     "text": [
      "The corresponding value : Sasi\n"
     ]
    }
   ],
   "source": [
    "key = int(input(\"Enter the key to find the value\"))\n",
    "if key in d:\n",
    "    print(\"The corresponding value :\",d[key])\n",
    "else:\n",
    "    print(\"Specified key not available\")"
   ]
  },
  {
   "cell_type": "markdown",
   "metadata": {},
   "source": [
    "##### How to add/update data in dict"
   ]
  },
  {
   "cell_type": "code",
   "execution_count": 11,
   "metadata": {},
   "outputs": [
    {
     "name": "stdout",
     "output_type": "stream",
     "text": [
      "{100: 'Akhil', 200: 'Sasi', 300: 'Sudheer', 400: 'Nari'}\n",
      "{100: 'Shashi', 200: 'Sasi', 300: 'Sudheer', 400: 'Nari'}\n"
     ]
    }
   ],
   "source": [
    "d={100:\"Akhil\", 200:\"Sasi\", 300:\"Sudheer\"}\n",
    "d[400]= \"Nari\"\n",
    "print(d)\n",
    "d[100] = \"Shashi\"\n",
    "print(d)"
   ]
  },
  {
   "cell_type": "markdown",
   "metadata": {},
   "source": [
    "##### How to delete data from dict"
   ]
  },
  {
   "cell_type": "code",
   "execution_count": 12,
   "metadata": {},
   "outputs": [
    {
     "name": "stdout",
     "output_type": "stream",
     "text": [
      "{200: 'Sasi', 300: 'Sudheer'}\n"
     ]
    },
    {
     "ename": "KeyError",
     "evalue": "100",
     "output_type": "error",
     "traceback": [
      "\u001b[1;31m---------------------------------------------------------------------------\u001b[0m",
      "\u001b[1;31mKeyError\u001b[0m                                  Traceback (most recent call last)",
      "Cell \u001b[1;32mIn[12], line 4\u001b[0m\n\u001b[0;32m      2\u001b[0m \u001b[38;5;28;01mdel\u001b[39;00m d[\u001b[38;5;241m100\u001b[39m]\n\u001b[0;32m      3\u001b[0m \u001b[38;5;28mprint\u001b[39m(d)\n\u001b[1;32m----> 4\u001b[0m \u001b[38;5;28;01mdel\u001b[39;00m d[\u001b[38;5;241m100\u001b[39m]\n",
      "\u001b[1;31mKeyError\u001b[0m: 100"
     ]
    }
   ],
   "source": [
    "d={100:\"Akhil\", 200:\"Sasi\", 300:\"Sudheer\"}\n",
    "del d[100]\n",
    "print(d)\n",
    "del d[100]\n"
   ]
  },
  {
   "cell_type": "code",
   "execution_count": 13,
   "metadata": {},
   "outputs": [
    {
     "name": "stdout",
     "output_type": "stream",
     "text": [
      "{}\n"
     ]
    }
   ],
   "source": [
    "del d[200],d[300]\n",
    "print(d)"
   ]
  },
  {
   "cell_type": "code",
   "execution_count": 14,
   "metadata": {},
   "outputs": [
    {
     "name": "stdout",
     "output_type": "stream",
     "text": [
      "{'akhil': 95, 'Sasi': 100}\n"
     ]
    }
   ],
   "source": [
    "#WAP to enter name and marks into a dictionary and display information on the screen\n",
    "n = int(input(\"Enter no. of students\"))\n",
    "d={}\n",
    "for x in range(n):\n",
    "    name = input(\"Enter the student name\")\n",
    "    marks = int(input(\"Enter the marks\"))\n",
    "    d[name] = marks\n",
    "print(d)"
   ]
  },
  {
   "cell_type": "code",
   "execution_count": 15,
   "metadata": {},
   "outputs": [
    {
     "name": "stdout",
     "output_type": "stream",
     "text": [
      "******************************\n",
      "Name \t\t Marks\n",
      "******************************\n",
      "akhil \t\t 95\n",
      "Sasi \t\t 100\n"
     ]
    }
   ],
   "source": [
    "print(\"*\"*30)\n",
    "print(\"Name\", \"\\t\\t\", \"Marks\")\n",
    "print(\"*\"*30)\n",
    "for name in d:\n",
    "    print(name,\"\\t\\t\", d[name])"
   ]
  },
  {
   "cell_type": "markdown",
   "metadata": {},
   "source": [
    "##### Operators for dict"
   ]
  },
  {
   "cell_type": "code",
   "execution_count": 16,
   "metadata": {},
   "outputs": [
    {
     "ename": "TypeError",
     "evalue": "unsupported operand type(s) for +: 'dict' and 'dict'",
     "output_type": "error",
     "traceback": [
      "\u001b[1;31m---------------------------------------------------------------------------\u001b[0m",
      "\u001b[1;31mTypeError\u001b[0m                                 Traceback (most recent call last)",
      "Cell \u001b[1;32mIn[16], line 3\u001b[0m\n\u001b[0;32m      1\u001b[0m d1\u001b[38;5;241m=\u001b[39m {\u001b[38;5;241m100\u001b[39m:\u001b[38;5;124m\"\u001b[39m\u001b[38;5;124mA\u001b[39m\u001b[38;5;124m\"\u001b[39m,\u001b[38;5;241m200\u001b[39m:\u001b[38;5;124m\"\u001b[39m\u001b[38;5;124mB\u001b[39m\u001b[38;5;124m\"\u001b[39m}\n\u001b[0;32m      2\u001b[0m d2\u001b[38;5;241m=\u001b[39m{\u001b[38;5;241m300\u001b[39m:\u001b[38;5;124m\"\u001b[39m\u001b[38;5;124mC\u001b[39m\u001b[38;5;124m\"\u001b[39m,\u001b[38;5;241m400\u001b[39m:\u001b[38;5;124m\"\u001b[39m\u001b[38;5;124mD\u001b[39m\u001b[38;5;124m\"\u001b[39m}\n\u001b[1;32m----> 3\u001b[0m d3\u001b[38;5;241m=\u001b[39m\u001b[43md1\u001b[49m\u001b[38;5;241;43m+\u001b[39;49m\u001b[43md2\u001b[49m\n",
      "\u001b[1;31mTypeError\u001b[0m: unsupported operand type(s) for +: 'dict' and 'dict'"
     ]
    }
   ],
   "source": [
    "d1= {100:\"A\",200:\"B\"}\n",
    "d2={300:\"C\",400:\"D\"}\n",
    "d3=d1+d2"
   ]
  },
  {
   "cell_type": "code",
   "execution_count": 17,
   "metadata": {},
   "outputs": [
    {
     "ename": "TypeError",
     "evalue": "unsupported operand type(s) for *: 'dict' and 'int'",
     "output_type": "error",
     "traceback": [
      "\u001b[1;31m---------------------------------------------------------------------------\u001b[0m",
      "\u001b[1;31mTypeError\u001b[0m                                 Traceback (most recent call last)",
      "Cell \u001b[1;32mIn[17], line 1\u001b[0m\n\u001b[1;32m----> 1\u001b[0m d4\u001b[38;5;241m=\u001b[39m\u001b[43md1\u001b[49m\u001b[38;5;241;43m*\u001b[39;49m\u001b[38;5;241;43m3\u001b[39;49m\n",
      "\u001b[1;31mTypeError\u001b[0m: unsupported operand type(s) for *: 'dict' and 'int'"
     ]
    }
   ],
   "source": [
    "d4=d1*3"
   ]
  },
  {
   "cell_type": "code",
   "execution_count": 18,
   "metadata": {},
   "outputs": [
    {
     "name": "stdout",
     "output_type": "stream",
     "text": [
      "False\n"
     ]
    }
   ],
   "source": [
    "print(d1==d2)"
   ]
  },
  {
   "cell_type": "code",
   "execution_count": 19,
   "metadata": {},
   "outputs": [
    {
     "name": "stdout",
     "output_type": "stream",
     "text": [
      "True\n"
     ]
    }
   ],
   "source": [
    "d3={200:\"B\", 100:\"A\"}\n",
    "print(d1==d3)"
   ]
  },
  {
   "cell_type": "code",
   "execution_count": 20,
   "metadata": {},
   "outputs": [
    {
     "ename": "TypeError",
     "evalue": "'<' not supported between instances of 'dict' and 'dict'",
     "output_type": "error",
     "traceback": [
      "\u001b[1;31m---------------------------------------------------------------------------\u001b[0m",
      "\u001b[1;31mTypeError\u001b[0m                                 Traceback (most recent call last)",
      "Cell \u001b[1;32mIn[20], line 1\u001b[0m\n\u001b[1;32m----> 1\u001b[0m \u001b[38;5;28mprint\u001b[39m(\u001b[43md1\u001b[49m\u001b[38;5;241;43m<\u001b[39;49m\u001b[43md2\u001b[49m)\n",
      "\u001b[1;31mTypeError\u001b[0m: '<' not supported between instances of 'dict' and 'dict'"
     ]
    }
   ],
   "source": [
    "print(d1<d2)"
   ]
  },
  {
   "cell_type": "code",
   "execution_count": 21,
   "metadata": {},
   "outputs": [
    {
     "ename": "TypeError",
     "evalue": "'>' not supported between instances of 'dict' and 'dict'",
     "output_type": "error",
     "traceback": [
      "\u001b[1;31m---------------------------------------------------------------------------\u001b[0m",
      "\u001b[1;31mTypeError\u001b[0m                                 Traceback (most recent call last)",
      "Cell \u001b[1;32mIn[21], line 1\u001b[0m\n\u001b[1;32m----> 1\u001b[0m \u001b[38;5;28mprint\u001b[39m(\u001b[43md1\u001b[49m\u001b[38;5;241;43m>\u001b[39;49m\u001b[43md2\u001b[49m)\n",
      "\u001b[1;31mTypeError\u001b[0m: '>' not supported between instances of 'dict' and 'dict'"
     ]
    }
   ],
   "source": [
    "print(d1>d2)"
   ]
  },
  {
   "cell_type": "code",
   "execution_count": 22,
   "metadata": {},
   "outputs": [
    {
     "name": "stdout",
     "output_type": "stream",
     "text": [
      "True\n"
     ]
    }
   ],
   "source": [
    "d1= {100:\"A\",200:\"B\"}\n",
    "print(100 in d1)"
   ]
  },
  {
   "cell_type": "code",
   "execution_count": 23,
   "metadata": {},
   "outputs": [
    {
     "name": "stdout",
     "output_type": "stream",
     "text": [
      "False\n"
     ]
    }
   ],
   "source": [
    "print(1000 in d1)"
   ]
  },
  {
   "cell_type": "code",
   "execution_count": 24,
   "metadata": {},
   "outputs": [
    {
     "name": "stdout",
     "output_type": "stream",
     "text": [
      "False\n"
     ]
    }
   ],
   "source": [
    "print(\"A\" in d1)"
   ]
  },
  {
   "cell_type": "markdown",
   "metadata": {},
   "source": [
    "##### Important functions/ methods for dict\n",
    "1. len()"
   ]
  },
  {
   "cell_type": "code",
   "execution_count": 25,
   "metadata": {},
   "outputs": [
    {
     "name": "stdout",
     "output_type": "stream",
     "text": [
      "3\n"
     ]
    }
   ],
   "source": [
    "d={100:\"Akhil\", 200:\"Sasi\", 300:\"Sudheer\"}\n",
    "print(len(d))"
   ]
  },
  {
   "cell_type": "markdown",
   "metadata": {},
   "source": [
    "2. get(key)"
   ]
  },
  {
   "cell_type": "code",
   "execution_count": 26,
   "metadata": {},
   "outputs": [
    {
     "name": "stdout",
     "output_type": "stream",
     "text": [
      "Akhil\n",
      "None\n"
     ]
    }
   ],
   "source": [
    "d={100:\"Akhil\", 200:\"Sasi\", 300:\"Sudheer\"}\n",
    "print(d.get(100))\n",
    "print(d.get(500))"
   ]
  },
  {
   "cell_type": "markdown",
   "metadata": {},
   "source": [
    "    d.get(key, default value)"
   ]
  },
  {
   "cell_type": "code",
   "execution_count": 29,
   "metadata": {},
   "outputs": [
    {
     "name": "stdout",
     "output_type": "stream",
     "text": [
      "Shashi\n",
      "Akhil\n"
     ]
    }
   ],
   "source": [
    "print(d.get(500,\"Shashi\"))\n",
    "print(d.get(100,\"asfa\"))"
   ]
  },
  {
   "cell_type": "code",
   "execution_count": 28,
   "metadata": {},
   "outputs": [
    {
     "name": "stdout",
     "output_type": "stream",
     "text": [
      "{100: 'Akhil', 200: 'Sasi', 300: 'Sudheer'}\n"
     ]
    }
   ],
   "source": [
    "print(d)"
   ]
  },
  {
   "cell_type": "markdown",
   "metadata": {},
   "source": [
    "3. update()"
   ]
  },
  {
   "cell_type": "code",
   "execution_count": 30,
   "metadata": {},
   "outputs": [
    {
     "name": "stdout",
     "output_type": "stream",
     "text": [
      "{100: 'A', 200: 'B', 300: 'C', 400: 'D'}\n",
      "{300: 'C', 400: 'D'}\n"
     ]
    }
   ],
   "source": [
    "d1={100:\"A\",200:\"B\"}\n",
    "d2={300:\"C\",400:\"D\"}\n",
    "d1.update(d2)\n",
    "print(d1)\n",
    "print(d2)"
   ]
  },
  {
   "cell_type": "markdown",
   "metadata": {},
   "source": [
    "4. d.keys()"
   ]
  },
  {
   "cell_type": "code",
   "execution_count": 31,
   "metadata": {},
   "outputs": [
    {
     "name": "stdout",
     "output_type": "stream",
     "text": [
      "dict_keys([100, 200, 300, 400])\n"
     ]
    }
   ],
   "source": [
    "d={100: 'A', 200: 'B', 300: 'C', 400: 'D'}\n",
    "k=d.keys()\n",
    "print(k)"
   ]
  },
  {
   "cell_type": "code",
   "execution_count": 32,
   "metadata": {},
   "outputs": [
    {
     "name": "stdout",
     "output_type": "stream",
     "text": [
      "100 200 300 400 "
     ]
    }
   ],
   "source": [
    "for key in k:\n",
    "    print(key, end=\" \")"
   ]
  },
  {
   "cell_type": "markdown",
   "metadata": {},
   "source": [
    "5. d.values()"
   ]
  },
  {
   "cell_type": "code",
   "execution_count": 33,
   "metadata": {},
   "outputs": [
    {
     "name": "stdout",
     "output_type": "stream",
     "text": [
      "dict_values(['A', 'B', 'C', 'D'])\n"
     ]
    }
   ],
   "source": [
    "d={100: 'A', 200: 'B', 300: 'C', 400: 'D'}\n",
    "v= d.values()\n",
    "print(v)"
   ]
  },
  {
   "cell_type": "code",
   "execution_count": 34,
   "metadata": {},
   "outputs": [
    {
     "name": "stdout",
     "output_type": "stream",
     "text": [
      "A B C D "
     ]
    }
   ],
   "source": [
    "for value in v:\n",
    "    print(value, end=\" \")"
   ]
  },
  {
   "cell_type": "markdown",
   "metadata": {},
   "source": [
    "6. d.items()"
   ]
  },
  {
   "cell_type": "code",
   "execution_count": 35,
   "metadata": {},
   "outputs": [
    {
     "name": "stdout",
     "output_type": "stream",
     "text": [
      "dict_items([(100, 'A'), (200, 'B'), (300, 'C'), (400, 'D')])\n"
     ]
    }
   ],
   "source": [
    "d={100: 'A', 200: 'B', 300: 'C', 400: 'D'}\n",
    "i=d.items()\n",
    "print(i)"
   ]
  },
  {
   "cell_type": "code",
   "execution_count": 36,
   "metadata": {},
   "outputs": [
    {
     "name": "stdout",
     "output_type": "stream",
     "text": [
      "(100, 'A') (200, 'B') (300, 'C') (400, 'D') "
     ]
    }
   ],
   "source": [
    "for item in i:\n",
    "    print(item, end=\" \")"
   ]
  },
  {
   "cell_type": "code",
   "execution_count": 37,
   "metadata": {},
   "outputs": [
    {
     "name": "stdout",
     "output_type": "stream",
     "text": [
      "100 ............. A\n",
      "200 ............. B\n",
      "300 ............. C\n",
      "400 ............. D\n"
     ]
    }
   ],
   "source": [
    "for k,v in i:\n",
    "    print(k,\".............\",v)"
   ]
  },
  {
   "cell_type": "code",
   "execution_count": 3,
   "metadata": {},
   "outputs": [
    {
     "name": "stdout",
     "output_type": "stream",
     "text": [
      "The corresponding value: A\n"
     ]
    }
   ],
   "source": [
    "#WAP to get value from the dictionary for the given key\n",
    "d={100: 'A', 200: 'B', 300: 'C', 400: 'D'}\n",
    "key = int(input(\"Enter key to get value\"))\n",
    "if key in d:\n",
    "    print(\"The corresponding value:\", d[key])\n",
    "else:\n",
    "    print(\"The specifid key is not available\")"
   ]
  },
  {
   "cell_type": "code",
   "execution_count": 6,
   "metadata": {},
   "outputs": [
    {
     "name": "stdout",
     "output_type": "stream",
     "text": [
      "Specified value not found dict\n"
     ]
    }
   ],
   "source": [
    "#WAP to get key from the dictionary of the given value\n",
    "d={100: 'A', 200: 'B', 300: 'C', 400: 'D'}\n",
    "value=input(\"Enter the value to get the key\")\n",
    "available= False\n",
    "for k,v in d.items():\n",
    "    if v == value:\n",
    "        print(\"The corresponding key:\", k)\n",
    "        available=True\n",
    "if available==False:\n",
    "    print(\"Specified value not found dict\")"
   ]
  },
  {
   "cell_type": "markdown",
   "metadata": {},
   "source": [
    "- pop(key)\n",
    "     - Removes item associated with specified key an returns the corresponding value\n",
    "    "
   ]
  },
  {
   "cell_type": "code",
   "execution_count": 9,
   "metadata": {},
   "outputs": [
    {
     "name": "stdout",
     "output_type": "stream",
     "text": [
      "A\n",
      "B\n"
     ]
    }
   ],
   "source": [
    "d={100: 'A', 200: 'B', 300: 'C', 400: 'D'}\n",
    "print(d.pop(100))\n",
    "print(d.pop(200))"
   ]
  },
  {
   "cell_type": "code",
   "execution_count": 10,
   "metadata": {},
   "outputs": [
    {
     "ename": "KeyError",
     "evalue": "788",
     "output_type": "error",
     "traceback": [
      "\u001b[1;31m---------------------------------------------------------------------------\u001b[0m",
      "\u001b[1;31mKeyError\u001b[0m                                  Traceback (most recent call last)",
      "Cell \u001b[1;32mIn[10], line 1\u001b[0m\n\u001b[1;32m----> 1\u001b[0m \u001b[38;5;28mprint\u001b[39m(\u001b[43md\u001b[49m\u001b[38;5;241;43m.\u001b[39;49m\u001b[43mpop\u001b[49m\u001b[43m(\u001b[49m\u001b[38;5;241;43m788\u001b[39;49m\u001b[43m)\u001b[49m)\n",
      "\u001b[1;31mKeyError\u001b[0m: 788"
     ]
    }
   ],
   "source": [
    "print(d.pop(788))"
   ]
  },
  {
   "cell_type": "markdown",
   "metadata": {},
   "source": [
    "- d.pop(key, value)\n",
    "    - To remove item associated with specified key and return corresponding value\n",
    "    - If the specified key is not available then we will get provided value instead of key error"
   ]
  },
  {
   "cell_type": "code",
   "execution_count": 11,
   "metadata": {},
   "outputs": [
    {
     "name": "stdout",
     "output_type": "stream",
     "text": [
      "A\n",
      "Guest\n"
     ]
    }
   ],
   "source": [
    "d={100: 'A', 200: 'B', 300: 'C', 400: 'D'}\n",
    "print(d.pop(100,\"A\"))\n",
    "print(d.pop(890, \"Guest\"))"
   ]
  },
  {
   "cell_type": "code",
   "execution_count": 12,
   "metadata": {},
   "outputs": [
    {
     "name": "stdout",
     "output_type": "stream",
     "text": [
      "{200: 'B', 300: 'C', 400: 'D'}\n"
     ]
    }
   ],
   "source": [
    "print(d)"
   ]
  },
  {
   "cell_type": "markdown",
   "metadata": {},
   "source": [
    "- d.popitem()\n",
    "    - It removes an arbitary item(key-value pair) from dict and return that item.\n",
    "    - If the dict is empty then we will get keyerror"
   ]
  },
  {
   "cell_type": "code",
   "execution_count": 13,
   "metadata": {},
   "outputs": [
    {
     "name": "stdout",
     "output_type": "stream",
     "text": [
      "(400, 'D')\n"
     ]
    }
   ],
   "source": [
    "d={100: 'A', 200: 'B', 300: 'C', 400: 'D'}\n",
    "print(d.popitem())"
   ]
  },
  {
   "cell_type": "code",
   "execution_count": 14,
   "metadata": {},
   "outputs": [
    {
     "ename": "KeyError",
     "evalue": "'popitem(): dictionary is empty'",
     "output_type": "error",
     "traceback": [
      "\u001b[1;31m---------------------------------------------------------------------------\u001b[0m",
      "\u001b[1;31mKeyError\u001b[0m                                  Traceback (most recent call last)",
      "Cell \u001b[1;32mIn[14], line 2\u001b[0m\n\u001b[0;32m      1\u001b[0m d1\u001b[38;5;241m=\u001b[39m{}\n\u001b[1;32m----> 2\u001b[0m \u001b[38;5;28mprint\u001b[39m(\u001b[43md1\u001b[49m\u001b[38;5;241;43m.\u001b[39;49m\u001b[43mpopitem\u001b[49m\u001b[43m(\u001b[49m\u001b[43m)\u001b[49m)\n",
      "\u001b[1;31mKeyError\u001b[0m: 'popitem(): dictionary is empty'"
     ]
    }
   ],
   "source": [
    "d1={}\n",
    "print(d1.popitem())"
   ]
  },
  {
   "cell_type": "markdown",
   "metadata": {},
   "source": [
    "- d.clear()"
   ]
  },
  {
   "cell_type": "code",
   "execution_count": 15,
   "metadata": {},
   "outputs": [
    {
     "name": "stdout",
     "output_type": "stream",
     "text": [
      "None\n"
     ]
    }
   ],
   "source": [
    "d={100: 'A', 200: 'B', 300: 'C', 400: 'D'}\n",
    "print(d.clear())"
   ]
  },
  {
   "cell_type": "code",
   "execution_count": 16,
   "metadata": {},
   "outputs": [
    {
     "name": "stdout",
     "output_type": "stream",
     "text": [
      "{}\n"
     ]
    }
   ],
   "source": [
    "print(d)"
   ]
  },
  {
   "cell_type": "markdown",
   "metadata": {},
   "source": [
    "- s.setdefault(k,v)\n",
    "    - If the specified key is already available then simply returns associated value without any replacement.\n",
    "    - If the specified key is not already available then new key-value pair will be added"
   ]
  },
  {
   "cell_type": "code",
   "execution_count": 17,
   "metadata": {},
   "outputs": [
    {
     "name": "stdout",
     "output_type": "stream",
     "text": [
      "D\n"
     ]
    }
   ],
   "source": [
    "d={100: 'A', 200: 'B', 300: 'C', 400: 'D'}\n",
    "\n",
    "print(d.setdefault(400, \"GH\"))"
   ]
  },
  {
   "cell_type": "code",
   "execution_count": 18,
   "metadata": {},
   "outputs": [
    {
     "name": "stdout",
     "output_type": "stream",
     "text": [
      "F\n"
     ]
    }
   ],
   "source": [
    "print(d.setdefault(600, \"F\"))"
   ]
  },
  {
   "cell_type": "code",
   "execution_count": 19,
   "metadata": {},
   "outputs": [
    {
     "name": "stdout",
     "output_type": "stream",
     "text": [
      "{100: 'A', 200: 'B', 300: 'C', 400: 'D', 600: 'F'}\n"
     ]
    }
   ],
   "source": [
    "print(d)"
   ]
  },
  {
   "cell_type": "markdown",
   "metadata": {},
   "source": [
    "##### Aliasing and cloning"
   ]
  },
  {
   "cell_type": "code",
   "execution_count": 20,
   "metadata": {},
   "outputs": [
    {
     "name": "stdout",
     "output_type": "stream",
     "text": [
      "{100: 'A', 200: 'B', 300: 'C', 400: 'D', 500: 'E'}\n",
      "{100: 'A', 200: 'B', 300: 'C', 400: 'D', 500: 'E'}\n"
     ]
    }
   ],
   "source": [
    "d1={100: 'A', 200: 'B', 300: 'C', 400: 'D'}\n",
    "d2=d1\n",
    "d2[500] =\"E\"\n",
    "print(d1)\n",
    "print(d2)"
   ]
  },
  {
   "cell_type": "markdown",
   "metadata": {},
   "source": [
    "#### Cloning"
   ]
  },
  {
   "cell_type": "code",
   "execution_count": 53,
   "metadata": {},
   "outputs": [
    {
     "name": "stdout",
     "output_type": "stream",
     "text": [
      "{100: 'A', 200: 'B', 300: 'C', 400: 'D'}\n",
      "{100: 'A', 200: 'B', 300: 'C', 400: 'D', 500: 'E'}\n"
     ]
    }
   ],
   "source": [
    "d1={100: 'A', 200: 'B', 300: 'C', 400: 'D'}\n",
    "d2= d1.copy()\n",
    "d2[500] = \"E\"\n",
    "print(d1)\n",
    "print(d2)"
   ]
  },
  {
   "cell_type": "markdown",
   "metadata": {},
   "source": [
    "#### Important \n",
    "1. len(d):\n",
    "    - Returns the number of items(key-vlaue pairs) present in the dictionary\n",
    "2. get(key):-\n",
    "    - Returns the value associated with specified key. If the specified keu is not availabel then we will get None.\n",
    "3. get(key, default_value):-\n",
    "    - Returns the value associated with specific key. If the specified key is not available then we will get provided default value instead of None.\n",
    "4. d1.update(d2)\n",
    "    - To add all the items present in d2 to d1\n",
    "5. d1.key()\n",
    "    - Returns all the keys present in the dictionary\n",
    "6. d1.values()\n",
    "    - Returns all the values present in the dictionary\n",
    "7. s1.items()\n",
    "    - Returns all items(key-value pairs) present in the dictionary\n",
    "8. d.pop(key)\n",
    "    - To remove item associated with specified key and returns corresponding value.\n",
    "    - If the specified key is not available then we will get KeyError.\n",
    "9. d.pop(key, value)\n",
    "    - To remove the item associated with specified key and returns corresponding value.\n",
    "    - If the specified key is not available then we will get provided value instead of KeyError.\n",
    "10. d.popitem()\n",
    "    - It removes an arbitrary item(key-value pair) from dict and returns that item.\n",
    "    - If the dict is empty then we will get KeyError\n",
    "11. d.clear()\n",
    "    - It removes all the items(key-vlaue pairs) from the dictionary\n",
    "12. d.setdefault(k,v)\n",
    "    - If the specified key is already available then simply returns associated value without any replacement.\n",
    "    - If the specified key is not already available then new key-value pair will be added.\n",
    "13. s.copy()\n",
    "    - To get cloned copy(cloning)"
   ]
  },
  {
   "cell_type": "code",
   "execution_count": 25,
   "metadata": {},
   "outputs": [
    {
     "name": "stdout",
     "output_type": "stream",
     "text": [
      "600\n"
     ]
    }
   ],
   "source": [
    "#WAP to take dictionary from the keyboard and print the sum of values\n",
    "d= eval(input(\"Enter the dict\"))\n",
    "sum=0\n",
    "for item in d.items():\n",
    "    sum=sum+item[1]\n",
    "print(sum)"
   ]
  },
  {
   "cell_type": "code",
   "execution_count": 45,
   "metadata": {},
   "outputs": [
    {
     "name": "stdout",
     "output_type": "stream",
     "text": [
      "dict_values([100, 200, 300])\n",
      "The sum of values: 600\n"
     ]
    }
   ],
   "source": [
    "d= eval(input(\"Enter the dict\"))\n",
    "print(d.values())\n",
    "\n",
    "print(\"The sum of values:\", sum(d.values()))"
   ]
  },
  {
   "cell_type": "code",
   "execution_count": 46,
   "metadata": {},
   "outputs": [
    {
     "name": "stdout",
     "output_type": "stream",
     "text": [
      "{'A': 3, 'B': 2, 'C': 1}\n",
      "A ........... 3\n",
      "B ........... 2\n",
      "C ........... 1\n"
     ]
    }
   ],
   "source": [
    "#WAP to find number of occurrence of each letter present in the given string\n",
    "word = input(\"Enter any string\")\n",
    "d={}\n",
    "for ch in word:\n",
    "    d[ch] = d.get(ch,0)+1\n",
    "print(d)\n",
    "for k,v in d.items():\n",
    "    print(k,\"...........\",v)"
   ]
  },
  {
   "cell_type": "code",
   "execution_count": 47,
   "metadata": {},
   "outputs": [
    {
     "name": "stdout",
     "output_type": "stream",
     "text": [
      "a occured 2 times\n",
      "e occured 1 times\n"
     ]
    }
   ],
   "source": [
    "#WAP to find the number of occurences of each vowel present in the given string\n",
    "word = input(\"Enter any string\")\n",
    "vowels =[\"a\", \"e\",\"i\",\"o\",\"u\"]\n",
    "d={}\n",
    "for ch in word:\n",
    "    if ch in vowels:\n",
    "        d[ch]=d.get(ch,0)+1\n",
    "for k,v in d.items():\n",
    "    print(k, \"occured\", v, \"times\")"
   ]
  },
  {
   "cell_type": "code",
   "execution_count": 55,
   "metadata": {},
   "outputs": [
    {
     "name": "stdout",
     "output_type": "stream",
     "text": [
      "******************************\n",
      "name \t\t marks\n",
      "******************************\n",
      "Akhil \t\t 80\n",
      "Sasi \t\t 99\n",
      "Sushma \t\t 100\n"
     ]
    }
   ],
   "source": [
    "#WAP to accept student name and marks from the keyboard and creates a dictionary. Also display students marks by taking students name as the input\n",
    "n=int(input(\"Enter number of students\"))\n",
    "d={}\n",
    "for details in range(n):\n",
    "    name = input(\"Enter the students name\")\n",
    "    marks = int(input(f\"Enter student : {name} : marks\"))\n",
    "    d[name] = marks\n",
    "print(\"*\"*30)\n",
    "print(\"name\", \"\\t\\t\", \"marks\")\n",
    "print(\"*\"*30)\n",
    "for k,v in d.items():\n",
    "    print(k,\"\\t\\t\",v)"
   ]
  },
  {
   "cell_type": "code",
   "execution_count": 58,
   "metadata": {},
   "outputs": [
    {
     "name": "stdout",
     "output_type": "stream",
     "text": [
      "Search operation started\n",
      "Marks of Akhil are 80\n",
      "Marks of Sushma are 100\n",
      "Marks of Sasi are 99\n",
      "Student not found\n",
      "Thanks for using our application\n"
     ]
    }
   ],
   "source": [
    "print(\"Search operation started\")\n",
    "while True:\n",
    "    name = input(\"Enter the name to find marks\")\n",
    "    marks = d.get(name,-1)\n",
    "    if marks ==-1:\n",
    "        print(\"Student not found\")\n",
    "    else:\n",
    "        print(\"Marks of\", name, \"are\", marks)\n",
    "    option = input(\"Do you want to find another studet, yes/no\")\n",
    "    if option.lower() == \"no\":\n",
    "        break\n",
    "print(\"Thanks for using our application\")"
   ]
  },
  {
   "cell_type": "markdown",
   "metadata": {},
   "source": [
    "#### dict comprehension\n",
    "1. list ✔️\n",
    "2. tuple❌\n",
    "3. set ✔️\n",
    "4. dict✔️"
   ]
  },
  {
   "cell_type": "code",
   "execution_count": 59,
   "metadata": {},
   "outputs": [
    {
     "name": "stdout",
     "output_type": "stream",
     "text": [
      "[1, 2, 3, 4, 5]\n",
      "{1, 4, 9, 16, 25}\n",
      "{1: 1, 2: 4, 3: 9, 4: 16, 5: 25}\n"
     ]
    }
   ],
   "source": [
    "l=[x for x in range(1,6)]\n",
    "print(l)\n",
    "s={x*x for x in range(1,6)}\n",
    "print(s)\n",
    "d={x:x*x for x in range(1,6)}\n",
    "print(d)"
   ]
  },
  {
   "cell_type": "markdown",
   "metadata": {},
   "source": [
    "#### Merging of collections\n",
    "1. list merging"
   ]
  },
  {
   "cell_type": "code",
   "execution_count": 63,
   "metadata": {},
   "outputs": [
    {
     "name": "stdout",
     "output_type": "stream",
     "text": [
      "[1, 2, 3, 4, 30, 40]\n",
      "[[1, 2, 3, 4], [30, 40]]\n",
      "[1, 2, 3, 4, 30, 40]\n"
     ]
    }
   ],
   "source": [
    "l1=[1,2,3,4]\n",
    "l2 = [30,40]\n",
    "l3=l1+l2\n",
    "print(l3)\n",
    "l4=[l1,l2]\n",
    "print(l4)\n",
    "l5=[*l1,*l2]\n",
    "print(l5)"
   ]
  },
  {
   "cell_type": "markdown",
   "metadata": {},
   "source": [
    "2. Tuple merging"
   ]
  },
  {
   "cell_type": "code",
   "execution_count": 64,
   "metadata": {},
   "outputs": [
    {
     "name": "stdout",
     "output_type": "stream",
     "text": [
      "(10, 20, 30, 40)\n",
      "(10, 20, 30, 40)\n"
     ]
    }
   ],
   "source": [
    "t1=(10,20)\n",
    "t2=(30,40)\n",
    "t3=t1+t2\n",
    "print(t3)\n",
    "t4=(*t1,*t2)\n",
    "print(t4)"
   ]
  },
  {
   "cell_type": "markdown",
   "metadata": {},
   "source": [
    "3. set merging"
   ]
  },
  {
   "cell_type": "code",
   "execution_count": null,
   "metadata": {},
   "outputs": [
    {
     "ename": "TypeError",
     "evalue": "unsupported operand type(s) for +: 'set' and 'set'",
     "output_type": "error",
     "traceback": [
      "\u001b[1;31m---------------------------------------------------------------------------\u001b[0m",
      "\u001b[1;31mTypeError\u001b[0m                                 Traceback (most recent call last)",
      "Cell \u001b[1;32mIn[65], line 3\u001b[0m\n\u001b[0;32m      1\u001b[0m s1\u001b[38;5;241m=\u001b[39m{\u001b[38;5;241m10\u001b[39m,\u001b[38;5;241m20\u001b[39m}\n\u001b[0;32m      2\u001b[0m s2\u001b[38;5;241m=\u001b[39m{\u001b[38;5;241m30\u001b[39m,\u001b[38;5;241m40\u001b[39m}\n\u001b[1;32m----> 3\u001b[0m s3\u001b[38;5;241m=\u001b[39m\u001b[43ms1\u001b[49m\u001b[38;5;241;43m+\u001b[39;49m\u001b[43ms2\u001b[49m\n",
      "\u001b[1;31mTypeError\u001b[0m: unsupported operand type(s) for +: 'set' and 'set'"
     ]
    }
   ],
   "source": [
    "s1={10,20}\n",
    "s2={30,40}\n",
    "\n",
    "s3=s1+s2"
   ]
  },
  {
   "cell_type": "code",
   "execution_count": 66,
   "metadata": {},
   "outputs": [
    {
     "name": "stdout",
     "output_type": "stream",
     "text": [
      "{40, 10, 20, 30}\n"
     ]
    }
   ],
   "source": [
    "s3 = {*s1,*s2}\n",
    "print(s3)"
   ]
  },
  {
   "cell_type": "markdown",
   "metadata": {},
   "source": [
    "4. dict merging\n"
   ]
  },
  {
   "cell_type": "code",
   "execution_count": 67,
   "metadata": {},
   "outputs": [
    {
     "ename": "TypeError",
     "evalue": "unsupported operand type(s) for +: 'dict' and 'dict'",
     "output_type": "error",
     "traceback": [
      "\u001b[1;31m---------------------------------------------------------------------------\u001b[0m",
      "\u001b[1;31mTypeError\u001b[0m                                 Traceback (most recent call last)",
      "Cell \u001b[1;32mIn[67], line 3\u001b[0m\n\u001b[0;32m      1\u001b[0m d1 \u001b[38;5;241m=\u001b[39m {\u001b[38;5;241m100\u001b[39m:\u001b[38;5;124m\"\u001b[39m\u001b[38;5;124mA\u001b[39m\u001b[38;5;124m\"\u001b[39m, \u001b[38;5;241m200\u001b[39m:\u001b[38;5;124m\"\u001b[39m\u001b[38;5;124mB\u001b[39m\u001b[38;5;124m\"\u001b[39m}\n\u001b[0;32m      2\u001b[0m d2\u001b[38;5;241m=\u001b[39m {\u001b[38;5;241m300\u001b[39m:\u001b[38;5;124m\"\u001b[39m\u001b[38;5;124mC\u001b[39m\u001b[38;5;124m\"\u001b[39m, \u001b[38;5;241m400\u001b[39m: \u001b[38;5;124m\"\u001b[39m\u001b[38;5;124mD\u001b[39m\u001b[38;5;124m\"\u001b[39m}\n\u001b[1;32m----> 3\u001b[0m d3\u001b[38;5;241m=\u001b[39m\u001b[43md1\u001b[49m\u001b[38;5;241;43m+\u001b[39;49m\u001b[43md2\u001b[49m\n",
      "\u001b[1;31mTypeError\u001b[0m: unsupported operand type(s) for +: 'dict' and 'dict'"
     ]
    }
   ],
   "source": [
    "d1 = {100:\"A\", 200:\"B\"}\n",
    "d2= {300:\"C\", 400: \"D\"}\n",
    "d3=d1+d2"
   ]
  },
  {
   "cell_type": "code",
   "execution_count": 69,
   "metadata": {},
   "outputs": [
    {
     "name": "stdout",
     "output_type": "stream",
     "text": [
      "{100: 'A', 200: 'B', 300: 'C', 400: 'D'}\n"
     ]
    }
   ],
   "source": [
    "d3={**d1, **d2}\n",
    "print(d3)"
   ]
  },
  {
   "cell_type": "markdown",
   "metadata": {},
   "source": [
    "### Nested collections"
   ]
  },
  {
   "cell_type": "code",
   "execution_count": 71,
   "metadata": {},
   "outputs": [
    {
     "name": "stdout",
     "output_type": "stream",
     "text": [
      "10\n"
     ]
    }
   ],
   "source": [
    "l1=[(10,20,30), (40,50,60)]\n",
    "print(l1[0][0])"
   ]
  },
  {
   "cell_type": "code",
   "execution_count": 74,
   "metadata": {},
   "outputs": [
    {
     "name": "stdout",
     "output_type": "stream",
     "text": [
      "Honda\n",
      "Nokia\n"
     ]
    }
   ],
   "source": [
    "d= {\"cars\":(\"innova\", \"Honda\",\"Maruti\"),\n",
    "    \"mobiles\": (\"Samsung\", \"Iphone\",\"Nokia\")}\n",
    "print(d[\"cars\"][1])\n",
    "print(d[\"mobiles\"][2])"
   ]
  },
  {
   "cell_type": "code",
   "execution_count": 75,
   "metadata": {},
   "outputs": [
    {
     "name": "stdout",
     "output_type": "stream",
     "text": [
      "Samsung\n",
      "Iphone\n",
      "Nokia\n"
     ]
    }
   ],
   "source": [
    "for mobile in d[\"mobiles\"]:\n",
    "    print(mobile)"
   ]
  },
  {
   "cell_type": "code",
   "execution_count": 76,
   "metadata": {},
   "outputs": [
    {
     "data": {
      "text/plain": [
       "('Samsung', 'Iphone', 'Nokia')"
      ]
     },
     "execution_count": 76,
     "metadata": {},
     "output_type": "execute_result"
    }
   ],
   "source": [
    "d[\"mobiles\"]"
   ]
  },
  {
   "cell_type": "code",
   "execution_count": 77,
   "metadata": {},
   "outputs": [],
   "source": [
    "supermarket = {\n",
    "    \"store1\":{\n",
    "        \"name\":\"Akhil General Store\",\n",
    "        \"items\":[\n",
    "            {\n",
    "                \"name\":\"Soap\",\"Quantity\":20\n",
    "            },\n",
    "            {\n",
    "                \"name\":\"Brush\",\"Quantity\":30\n",
    "            },\n",
    "            {\n",
    "                \"name\":\"Pen\",\"Quantity\":40\n",
    "            }\n",
    "        ]\n",
    "    },\n",
    "    \"store2\":{\n",
    "        \"name\":\"Akhil Book Store\",\n",
    "        \"items\":[\n",
    "            {\n",
    "                \"name\":\"Python\",\"Quantity\":200\n",
    "            },\n",
    "            {\n",
    "                \"name\":\"Django\",\"Quantity\":300\n",
    "            },\n",
    "            {\n",
    "                \"name\":\"Java\",\"Quantity\":400\n",
    "            }\n",
    "        ]\n",
    "    }\n",
    "}"
   ]
  },
  {
   "cell_type": "code",
   "execution_count": 78,
   "metadata": {},
   "outputs": [
    {
     "name": "stdout",
     "output_type": "stream",
     "text": [
      "Akhil General Store\n"
     ]
    }
   ],
   "source": [
    "#to print name of store1\n",
    "print(supermarket[\"store1\"][\"name\"])"
   ]
  },
  {
   "cell_type": "code",
   "execution_count": 79,
   "metadata": {},
   "outputs": [
    {
     "name": "stdout",
     "output_type": "stream",
     "text": [
      "Akhil General Store\n"
     ]
    }
   ],
   "source": [
    "print(supermarket.get(\"store1\").get(\"name\"))"
   ]
  },
  {
   "cell_type": "code",
   "execution_count": 80,
   "metadata": {},
   "outputs": [
    {
     "name": "stdout",
     "output_type": "stream",
     "text": [
      "[{'name': 'Soap', 'Quantity': 20}, {'name': 'Brush', 'Quantity': 30}, {'name': 'Pen', 'Quantity': 40}]\n"
     ]
    }
   ],
   "source": [
    "#To print all items present in store1\n",
    "print(supermarket[\"store1\"][\"items\"])"
   ]
  },
  {
   "cell_type": "code",
   "execution_count": 83,
   "metadata": {},
   "outputs": [
    {
     "name": "stdout",
     "output_type": "stream",
     "text": [
      "Soap\n",
      "Brush\n",
      "Pen\n"
     ]
    }
   ],
   "source": [
    "for item in supermarket[\"store1\"][\"items\"]:\n",
    "    print(item[\"name\"])"
   ]
  },
  {
   "cell_type": "code",
   "execution_count": 89,
   "metadata": {},
   "outputs": [
    {
     "name": "stdout",
     "output_type": "stream",
     "text": [
      "300\n"
     ]
    }
   ],
   "source": [
    "#To print quantity of django\n",
    "print(supermarket[\"store2\"][\"items\"][1][\"Quantity\"])"
   ]
  },
  {
   "cell_type": "code",
   "execution_count": 90,
   "metadata": {},
   "outputs": [
    {
     "name": "stdout",
     "output_type": "stream",
     "text": [
      "300\n"
     ]
    }
   ],
   "source": [
    "for d in supermarket[\"store2\"][\"items\"]:\n",
    "    if d[\"name\"] == \"Django\":\n",
    "        print(d[\"Quantity\"])"
   ]
  },
  {
   "cell_type": "code",
   "execution_count": null,
   "metadata": {},
   "outputs": [],
   "source": []
  }
 ],
 "metadata": {
  "kernelspec": {
   "display_name": "Python 3",
   "language": "python",
   "name": "python3"
  },
  "language_info": {
   "codemirror_mode": {
    "name": "ipython",
    "version": 3
   },
   "file_extension": ".py",
   "mimetype": "text/x-python",
   "name": "python",
   "nbconvert_exporter": "python",
   "pygments_lexer": "ipython3",
   "version": "3.10.0"
  }
 },
 "nbformat": 4,
 "nbformat_minor": 2
}
