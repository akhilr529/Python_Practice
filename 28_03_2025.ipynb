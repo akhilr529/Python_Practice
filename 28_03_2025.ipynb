{
 "cells": [
  {
   "cell_type": "code",
   "execution_count": 2,
   "metadata": {},
   "outputs": [
    {
     "name": "stdout",
     "output_type": "stream",
     "text": [
      "Object Initialization Activities.\n",
      "----\n",
      "Fulfilling last wish and performing cleaning activities...\n",
      "End of the application\n"
     ]
    }
   ],
   "source": [
    "import time\n",
    "class Test:\n",
    "    def __init__(self):\n",
    "        print(\"Object Initialization Activities.\")\n",
    "    def __del__(self):\n",
    "        print(\"Fulfilling last wish and performing cleaning activities...\")\n",
    "\n",
    "t=Test()\n",
    "print(\"----\")\n",
    "t = None\n",
    "time.sleep(5)\n",
    "print(\"End of the application\")"
   ]
  },
  {
   "cell_type": "code",
   "execution_count": 6,
   "metadata": {},
   "outputs": [
    {
     "name": "stdout",
     "output_type": "stream",
     "text": [
      "Object Initialization Activities.\n",
      "Fulfilling last wish and performing cleaning activities...\n",
      "--\n",
      "Object Initialization Activities.\n",
      "Fulfilling last wish and performing cleaning activities...\n",
      "-----\n",
      "End of application\n"
     ]
    }
   ],
   "source": [
    "t1 = Test()\n",
    "print(\"--\")\n",
    "t2 = Test()\n",
    "print(\"-----\")\n",
    "print(\"End of application\")"
   ]
  },
  {
   "cell_type": "markdown",
   "metadata": {},
   "source": [
    "### __Important Conclusion :- Destructor:-__\n",
    "1. Once control reaches end of the program, all objects which are created as the part of that program are by default eligible for Garbage Collection.\n",
    "2. If the object does not contain any reference variable then only it is eligible for Garbage Collection, i.e., if the reference count is zero then only object eligible for Garbage collection."
   ]
  },
  {
   "cell_type": "code",
   "execution_count": 8,
   "metadata": {},
   "outputs": [
    {
     "name": "stdout",
     "output_type": "stream",
     "text": [
      "Constructor Execution\n",
      "Object not destroyed after deleting t1\n",
      "Object not destroyed after deleting t2\n",
      "Removing Last reference\n",
      "Destructor Execution\n",
      "End of the application\n"
     ]
    }
   ],
   "source": [
    "import time\n",
    "class Test2:\n",
    "    def __init__(self):\n",
    "        print(\"Constructor Execution\")\n",
    "    def __del__(self):\n",
    "        print(\"Destructor Execution\")\n",
    "\n",
    "t1 = Test2()\n",
    "t2 = t1\n",
    "t3 = t2\n",
    "del t1\n",
    "time.sleep(5)\n",
    "print(\"Object not destroyed after deleting t1\")\n",
    "del t2\n",
    "print(\"Object not destroyed after deleting t2\")\n",
    "print(\"Removing Last reference\")\n",
    "del t3\n",
    "print(\"End of the application\")"
   ]
  },
  {
   "cell_type": "markdown",
   "metadata": {},
   "source": [
    "1. What is the difference between del t1 and t1 = None"
   ]
  },
  {
   "cell_type": "code",
   "execution_count": 9,
   "metadata": {},
   "outputs": [
    {
     "name": "stdout",
     "output_type": "stream",
     "text": [
      "constructor\n",
      "Destructor\n",
      "End of the application\n"
     ]
    }
   ],
   "source": [
    "class Test3:\n",
    "    def __init__(self):\n",
    "        print(\"constructor\")\n",
    "    def __del__(self):\n",
    "        print(\"Destructor\")\n",
    "t1 = Test3()\n",
    "del t1\n",
    "print(\"End of the application\")"
   ]
  },
  {
   "cell_type": "code",
   "execution_count": 10,
   "metadata": {},
   "outputs": [
    {
     "name": "stdout",
     "output_type": "stream",
     "text": [
      "constructor\n",
      "Destructor\n",
      "End of the application\n"
     ]
    }
   ],
   "source": [
    "t1= Test3()\n",
    "t1 = None\n",
    "print(\"End of the application\")"
   ]
  },
  {
   "cell_type": "markdown",
   "metadata": {},
   "source": [
    "### del t1\n",
    "1. t1 deleted and corresponding object eligible of G.C. We cannot use t1\n",
    "2. If we don't want object and corresponding reference vaiable then we have to use this approach.\n",
    "\n",
    "### t1 = None\n",
    "1. t1 now onwards pointing to None object. Just it is reasigning the reference variable. The Test object eligible for GC. We can use t1(but its value is None).\n",
    "2. If we want reference variable but not object then we have to use this approach"
   ]
  },
  {
   "cell_type": "markdown",
   "metadata": {},
   "source": [
    "2. Q. How to find the number of references of an object"
   ]
  },
  {
   "cell_type": "code",
   "execution_count": 14,
   "metadata": {},
   "outputs": [
    {
     "name": "stdout",
     "output_type": "stream",
     "text": [
      "7\n"
     ]
    }
   ],
   "source": [
    "import sys\n",
    "class Test4:\n",
    "    pass\n",
    "h1=Test4\n",
    "h2=h1\n",
    "h3=h2\n",
    "h4=h3\n",
    "del h3, h4\n",
    "print(sys.getrefcount(h1))"
   ]
  },
  {
   "cell_type": "markdown",
   "metadata": {},
   "source": [
    "### What is the difference between Constructor and Destructor\n",
    "\n",
    "|  | Constructor | Destructor |\n",
    "| - | ---------- | ---------- |\n",
    "| 1 | The name of the constructor should be _*_init__() | The name of the destructor should be _*_del__() |\n",
    "| 2 | The main objective of the constructor is to perform the initialization activities of an object. Initialization means assigning the values to instance variables. | The main Objective of destructor is to perform cleanup activities of an object. Cleanup activities means resource deallocation activities like close database connection etc |\n",
    "| 3 | Just after creating an object, PVM will execute constructor automatically to perform initialization activities. | Just before destroying an object, Garbage collector will execute destrucor automatically to perform cleanup activities. |"
   ]
  },
  {
   "cell_type": "markdown",
   "metadata": {},
   "source": [
    "__Questions__\n",
    "1. Which of the following are True?\n",
    "- The main purpose of constructor is to create an object.\n",
    "- The main purpose of constructor is to perform initialization of an object.✔️\n",
    "- The main purpose of destructor is to destroy an object.\n",
    "- The main purpose of destructor is to perform cleanup activities before destroying an object. ✔️\n",
    "\n",
    "2. Which of the following are True?\n",
    "- Constructor is responsible to create object where as Destructor is responsible to destroy an object.\n",
    "- Constructor will be executed just after creating an object to perform initialization activities.✔️\n",
    "- Destructor will be executed just before destroying an object to perform cleanup activities.✔️\n",
    "- All the above."
   ]
  },
  {
   "cell_type": "markdown",
   "metadata": {},
   "source": [
    "### Using Members of one class inside another class\n",
    "1. By Has-A relationship(Composition)\n",
    "2. By Is-A relationship(Inheritence)"
   ]
  },
  {
   "cell_type": "markdown",
   "metadata": {},
   "source": [
    "### 1. By composition(Has-A relationship)\n",
    "1. By using creating an object, we can access members of one class inside another class. This approach is nothing but composition of Has-A relationship.\n",
    "2. The main advantages of Has-A relationship is code reusability."
   ]
  },
  {
   "cell_type": "code",
   "execution_count": 16,
   "metadata": {},
   "outputs": [
    {
     "name": "stdout",
     "output_type": "stream",
     "text": [
      "Car Required engine functionality.\n",
      "Engine Specific functionality\n"
     ]
    }
   ],
   "source": [
    "class Engine:\n",
    "    def m1(self):\n",
    "        print(\"Engine Specific functionality\")\n",
    "\n",
    "class Car:\n",
    "    def __init__(self):\n",
    "        self.engine = Engine()\n",
    "    def m2(self):\n",
    "        print(\"Car Required engine functionality.\")\n",
    "        self.engine.m1()\n",
    "\n",
    "\n",
    "\n",
    "c = Car()\n",
    "c.m2()"
   ]
  },
  {
   "cell_type": "code",
   "execution_count": 17,
   "metadata": {},
   "outputs": [
    {
     "name": "stdout",
     "output_type": "stream",
     "text": [
      "Employee Name : Akhil\n",
      "Employee Number : 529\n",
      "Employee Car info :-\n",
      "Car Name : Innova\n",
      "Car Model : 2.5v\n",
      "Car Color : Grey\n"
     ]
    }
   ],
   "source": [
    "class Car:\n",
    "    def __init__(self, name , model, color):\n",
    "        self.name = name\n",
    "        self.model = model\n",
    "        self.color = color\n",
    "    def get_info(self):\n",
    "        print(\"Car Name : {}\\nCar Model : {}\\nCar Color : {}\".format(self.name, self.model, self.color))\n",
    "class Employee:\n",
    "    def __init__(self, ename, eno, car):\n",
    "        self.ename = ename\n",
    "        self.eno = eno\n",
    "        self.car = car\n",
    "\n",
    "    def emp_info(self):\n",
    "        print(\"Employee Name :\", self.ename)\n",
    "        print(\"Employee Number :\",self.eno)\n",
    "        print(\"Employee Car info :-\")\n",
    "        self.car.get_info()\n",
    "\n",
    "\n",
    "car = Car(\"Innova\", \"2.5v\", \"Grey\") \n",
    "emp = Employee(\"Akhil\", 529, car) \n",
    "emp.emp_info()     "
   ]
  },
  {
   "cell_type": "code",
   "execution_count": 20,
   "metadata": {},
   "outputs": [
    {
     "name": "stdout",
     "output_type": "stream",
     "text": [
      "Welcome to Akhil News:\n",
      "Sports information1..\n",
      "Sports information2..\n",
      "Movies Information - 1\n",
      "Movies Information - 2\n",
      "Political Information - 1\n",
      "Political Information - 2\n"
     ]
    }
   ],
   "source": [
    "class SportsNews:\n",
    "    def sportsInfo(self):\n",
    "        print(\"Sports information1..\")\n",
    "        print(\"Sports information2..\")\n",
    "\n",
    "class MovieNews:\n",
    "    def movieInfo(self):\n",
    "        print(\"Movies Information - 1\")\n",
    "        print(\"Movies Information - 2\")\n",
    "\n",
    "class PolitcalNews:\n",
    "    def politicalInfo(self):\n",
    "        print(\"Political Information - 1\")\n",
    "        print(\"Political Information - 2\")\n",
    "\n",
    "class AkhilNews:\n",
    "    def __init__(self):\n",
    "        self.sports = SportsNews()\n",
    "        self.movie = MovieNews()\n",
    "        self.politics = PolitcalNews()\n",
    "    def getTotlaNews(self):\n",
    "        print(\"Welcome to Akhil News:\")\n",
    "        self.sports.sportsInfo()\n",
    "        self.movie.movieInfo()\n",
    "        self.politics.politicalInfo()\n",
    "\n",
    "\n",
    "anews = AkhilNews()\n",
    "anews.getTotlaNews()"
   ]
  },
  {
   "cell_type": "code",
   "execution_count": 21,
   "metadata": {},
   "outputs": [
    {
     "name": "stdout",
     "output_type": "stream",
     "text": [
      "Welcome to Akhil News:\n",
      "Sports information1..\n",
      "Sports information2..\n",
      "Movies Information - 1\n",
      "Movies Information - 2\n",
      "Political Information - 1\n",
      "Political Information - 2\n"
     ]
    }
   ],
   "source": [
    "class AkhilNews:\n",
    "    def __init__(self, sports, movie, politics):\n",
    "        self.sports = sports\n",
    "        self.movie = movie\n",
    "        self.politics = politics\n",
    "    def getTotlaNews(self):\n",
    "        print(\"Welcome to Akhil News:\")\n",
    "        self.sports.sportsInfo()\n",
    "        self.movie.movieInfo()\n",
    "        self.politics.politicalInfo()\n",
    "sports = SportsNews()\n",
    "movie = MovieNews()\n",
    "politics = PolitcalNews()\n",
    "anews = AkhilNews(sports, movie, politics)\n",
    "anews.getTotlaNews()"
   ]
  },
  {
   "cell_type": "markdown",
   "metadata": {},
   "source": [
    "2. By Inheritance(Is-A relationship)\n",
    "\n",
    "- Parent to child Relationship\n",
    "- Parent class members are by default available to the child class and hence child class can reuse parent class functionality without rewriting(code reusability).\n",
    "- child class can define new members also. Hence child class can extend parent class functionality.(code extendibility)"
   ]
  },
  {
   "cell_type": "code",
   "execution_count": 1,
   "metadata": {},
   "outputs": [
    {
     "name": "stdout",
     "output_type": "stream",
     "text": [
      "Child method\n",
      "Parent method\n"
     ]
    }
   ],
   "source": [
    "class P:\n",
    "    def m1(self):\n",
    "        print('Parent method')\n",
    "class C(P):\n",
    "    def m2(self):\n",
    "        print(\"Child method\")\n",
    "\n",
    "\n",
    "c= C()\n",
    "c.m2()\n",
    "c.m1()"
   ]
  },
  {
   "cell_type": "code",
   "execution_count": 4,
   "metadata": {},
   "outputs": [
    {
     "name": "stdout",
     "output_type": "stream",
     "text": [
      "Parent Constructor\n",
      "10\n",
      "20\n",
      "Parent instance method.\n",
      "Parent class method\n",
      "Parent static method\n",
      "Parent class method\n"
     ]
    }
   ],
   "source": [
    "class P:\n",
    "    a=10\n",
    "    def __init__(self):\n",
    "        print(\"Parent Constructor\")\n",
    "        self.b =20\n",
    "    def m1(self):\n",
    "        print(\"Parent instance method.\")\n",
    "    @classmethod\n",
    "    def m2(cls):\n",
    "        print(\"Parent class method\")\n",
    "    @staticmethod\n",
    "    def m3():\n",
    "        print(\"Parent static method\")\n",
    "\n",
    "class C(P):\n",
    "    pass\n",
    "\n",
    "c = C()\n",
    "print(c.a)\n",
    "print(c.b)\n",
    "c.m1()\n",
    "c.m2()\n",
    "c.m3()\n",
    "C.m2()\n"
   ]
  },
  {
   "cell_type": "code",
   "execution_count": 5,
   "metadata": {},
   "outputs": [
    {
     "name": "stdout",
     "output_type": "stream",
     "text": [
      "Eat Biriyani & Drink Beer\n",
      "Coding Python program\n",
      "Akhil\n",
      "24\n",
      "529\n",
      "10000\n"
     ]
    }
   ],
   "source": [
    "class Person:\n",
    "    def __init__(self, name, age):\n",
    "        self.name = name\n",
    "        self.age = age\n",
    "    def eatndrink(self):\n",
    "        print(\"Eat Biriyani & Drink Beer\")\n",
    "\n",
    "class Employee(Person):\n",
    "    def __init__(self, name, age, eno, esal):\n",
    "        super().__init__(name, age)\n",
    "        self.eno = eno\n",
    "        self.esal = esal\n",
    "\n",
    "    def work(self):\n",
    "        print(\"Coding Python program\")\n",
    "\n",
    "    def empInfo(self):\n",
    "        print(self.name)\n",
    "        print(self.age)\n",
    "        print(self.eno)\n",
    "        print(self.esal)\n",
    "emp = Employee(\"Akhil\", 24, 529, 10000)\n",
    "emp.eatndrink()\n",
    "emp.work()\n",
    "emp.empInfo()\n",
    "        "
   ]
  },
  {
   "cell_type": "markdown",
   "metadata": {},
   "source": [
    "### Is-A vs Has-A relationship\n",
    "1. If we want to extend existing functionality with some more extra functionality then we shoud go for Is-A relationship or Inheritence.\n",
    "2. If we don't want to extend and just we have to use existing functionality then we should go for Has-A relationship or composition."
   ]
  },
  {
   "cell_type": "code",
   "execution_count": 6,
   "metadata": {},
   "outputs": [
    {
     "name": "stdout",
     "output_type": "stream",
     "text": [
      "Eating Biriyani & Drinking Beer\n",
      "Coding Python Programs.....\n",
      "Employee Name : Akhil\n",
      "Employee Age : 23\n",
      "Employee Number : 529\n",
      "Employee Salary : 100000\n",
      "Employee Car Information\n",
      "\tCar Name : Innova\n",
      "\tModel : 2.5v\n",
      "\tColor : Grey\n"
     ]
    }
   ],
   "source": [
    "class Car:\n",
    "    def __init__(self, name, model, color):\n",
    "        self.name = name\n",
    "        self.model = model\n",
    "        self.color = color\n",
    "\n",
    "    def getInfo(self):\n",
    "        print(\"\\tCar Name : {}\\n\\tModel : {}\\n\\tColor : {}\".format(self.name, self.model, self.color))\n",
    "\n",
    "class Person:\n",
    "    def __init__(self, name, age):\n",
    "        self.name = name\n",
    "        self.age = age\n",
    "    def eatndrink(self):\n",
    "        print(\"Eating Biriyani & Drinking Beer\")\n",
    "    \n",
    "class Employee(Person):\n",
    "    def __init__(self, name, age, eno, esal, car):\n",
    "        super().__init__(name, age)\n",
    "        self.eno = eno\n",
    "        self.esal = esal\n",
    "        self.car = car\n",
    "\n",
    "    def work(self):\n",
    "        print(\"Coding Python Programs.....\")\n",
    "\n",
    "    def empInfo(self):\n",
    "        print(\"Employee Name :\", self.name)\n",
    "        print(\"Employee Age :\", self.age)\n",
    "        print(\"Employee Number :\", self.eno)\n",
    "        print(\"Employee Salary :\", self.esal)\n",
    "        print(\"Employee Car Information\")\n",
    "        self.car.getInfo()\n",
    "\n",
    "\n",
    "car = Car(\"Innova\", \"2.5v\", \"Grey\")\n",
    "e = Employee(\"Akhil\", 23, 529, 100000, car)\n",
    "e.eatndrink()\n",
    "e.work()\n",
    "e.empInfo()"
   ]
  },
  {
   "cell_type": "code",
   "execution_count": null,
   "metadata": {},
   "outputs": [],
   "source": []
  }
 ],
 "metadata": {
  "kernelspec": {
   "display_name": "Python 3",
   "language": "python",
   "name": "python3"
  },
  "language_info": {
   "codemirror_mode": {
    "name": "ipython",
    "version": 3
   },
   "file_extension": ".py",
   "mimetype": "text/x-python",
   "name": "python",
   "nbconvert_exporter": "python",
   "pygments_lexer": "ipython3",
   "version": "3.10.0"
  }
 },
 "nbformat": 4,
 "nbformat_minor": 2
}
