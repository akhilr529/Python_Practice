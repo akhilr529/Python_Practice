{
 "cells": [
  {
   "cell_type": "markdown",
   "id": "a89a1044",
   "metadata": {},
   "source": [
    "### Closing a file\n",
    "1. After completing our operations on the file, it is highly recommended to close the file for this we have use __close()__ method.\n",
    "```py\n",
    "f= open(\"abc.txt\",\"mode\")\n",
    "#Perform required write or read operations\n",
    "f.close()\n",
    "```\n",
    "2. Whenever we are closing the file, all system resources which are associated  with that file will be released.\n",
    "3. If we are not closing the file, then there may be performance issues.\n",
    "\n",
    "### Various properties of file object.\n",
    "1. Once we opened a file, we will get file object we can get various details related to that file by using the following attributes and methods.\n",
    "```py\n",
    "f = open('abc.txt','w')\n",
    "1. f.name ----> Name of the opened file\n",
    "2. f.mode ----> Mode in which the file is opened.\n",
    "3. f.closed ----> Returns boolean value indicates that whether the file is closed or not \n",
    "4. f.readable() ---> Returns boolean value indicates that whether file is readable or not\n",
    "5. f.writable() ---> Returns boolean value indicates that whether file is writable or not\n",
    "```\n",
    "\n"
   ]
  },
  {
   "cell_type": "code",
   "execution_count": 1,
   "id": "a2053151",
   "metadata": {},
   "outputs": [
    {
     "name": "stdout",
     "output_type": "stream",
     "text": [
      "file Name abc.txt\n",
      "file mode r\n",
      "Is file closed False\n",
      "Is file readable True\n",
      "is file writable False\n",
      "Is file closed True\n"
     ]
    }
   ],
   "source": [
    "#Example:-\n",
    "f = open(\"abc.txt\", \"r\")\n",
    "print(\"file Name\", f.name)\n",
    "print(\"file mode\",f.mode)\n",
    "print(\"Is file closed\", f.closed)\n",
    "print(\"Is file readable\", f.readable())\n",
    "print(\"is file writable\", f.writable())\n",
    "f.close()\n",
    "print(\"Is file closed\", f.closed)"
   ]
  },
  {
   "cell_type": "markdown",
   "id": "d6395002",
   "metadata": {},
   "source": [
    "### Writing data to text files:-\n",
    "1. We can write character data to text files by using the following 2 methods.\n",
    "- 1. write(str)\n",
    "- 2. writelines(list of lines)\n"
   ]
  },
  {
   "cell_type": "code",
   "execution_count": 2,
   "id": "5b1de1e9",
   "metadata": {},
   "outputs": [
    {
     "name": "stdout",
     "output_type": "stream",
     "text": [
      "Data written to the file.\n"
     ]
    }
   ],
   "source": [
    "f = open('abc.txt', 'w') #'a' --> append mode\n",
    "f.write(\"Akhil\") ##\"Akhil\\n\" ---> multiple lines \n",
    "f.write(\"Software\")\n",
    "f.write(\"Solutions\")\n",
    "f.write(\"Hyderabad\")\n",
    "f.close()\n",
    "print(\"Data written to the file.\")"
   ]
  },
  {
   "cell_type": "code",
   "execution_count": null,
   "id": "f40c88ce",
   "metadata": {},
   "outputs": [
    {
     "name": "stdout",
     "output_type": "stream",
     "text": [
      "Data written to the file.\n"
     ]
    }
   ],
   "source": [
    "f = open('abc.txt', 'w') #'a' --> append mode\n",
    "f.write(\"Akhil\\n\") ## multiple lines \n",
    "f.write(\"Software\\n\")\n",
    "f.write(\"Solutions\\n\")\n",
    "f.write(\"Hyderabad\")\n",
    "f.close()\n",
    "print(\"Data written to the file.\")"
   ]
  },
  {
   "cell_type": "code",
   "execution_count": null,
   "id": "e2ee04f8",
   "metadata": {},
   "outputs": [],
   "source": [
    "f = open(\"abc.txt\", 'w')\n",
    "l= [\"Akhil\", \"Sunny\", \"Bunny\", \"Shashi\"] #single line\n",
    "f.writelines(l)\n",
    "f.close()"
   ]
  },
  {
   "cell_type": "code",
   "execution_count": 5,
   "id": "e57d2b1b",
   "metadata": {},
   "outputs": [],
   "source": [
    "f = open(\"abc.txt\", 'w')\n",
    "l= [\"Akhil\\n\", \"Sunny\\n\", \"Bunny\\n\", \"Shashi\"]## multiple lines \n",
    "f.writelines(l)\n",
    "f.close()"
   ]
  },
  {
   "cell_type": "code",
   "execution_count": 13,
   "id": "9dd3a8e1",
   "metadata": {},
   "outputs": [],
   "source": [
    "f = open(\"abc.txt\", 'w')\n",
    "d= {\"Akhil\":\"Sudheer\", \"Ravi\":\"Shashi\"}\n",
    "f.writelines(d)# Only keys\n",
    "#Keys should be strings only\n",
    "f.writelines(d.values()) #== only values\n",
    "f.close()"
   ]
  },
  {
   "cell_type": "markdown",
   "id": "7913c339",
   "metadata": {},
   "source": [
    "1. Instead of list, we can pass tuple, set and dict also. But in the case of dict, only keys will be added and keys should be string type only, otherwise we will get TypeError.\n",
    "2. In the case of dict, only keys will be added. Instead of keys if we want ot add values the we have to write the code explicitly.\n",
    "3. While writing data by using write() methods, compulsory we have to provide __line seperator(\\n)__ explicitly, otherwise total data will be written to a single ling."
   ]
  },
  {
   "cell_type": "code",
   "execution_count": 12,
   "id": "d7c422aa",
   "metadata": {},
   "outputs": [],
   "source": [
    "f = open(\"abc.txt\", 'w')\n",
    "d= {100:\"Akhil\", 200:\"Ravi\"}\n",
    "f.writelines([d[100], d[200]])\n",
    "f.write(\"\\n\")\n",
    "f.writelines(d.values())\n",
    "f.close()\n"
   ]
  },
  {
   "cell_type": "code",
   "execution_count": 3,
   "id": "a540b49a",
   "metadata": {},
   "outputs": [
    {
     "name": "stdout",
     "output_type": "stream",
     "text": [
      "Data written to the file successfulley into the abc_test.txt\n"
     ]
    }
   ],
   "source": [
    "#write a program to specify file name and data dynamically from the keyboard.\n",
    "fname = input(\"Enter the filename \")\n",
    "f = open(fname,\"w\")\n",
    "while True:\n",
    "    data = input(\"Enter the data to write:\")\n",
    "    f.write(data+\"\\n\" )\n",
    "    option = input(\"Do you want to add some more data[Yes/No]\")\n",
    "    if option.lower() == \"no\"\n",
    "        break\n",
    "f.close()\n",
    "print(\"Data written to the file successfulley into the\", fname)"
   ]
  },
  {
   "cell_type": "markdown",
   "id": "51976fda",
   "metadata": {},
   "source": [
    "### Reading character data from text files.\n",
    "1. We can read character data from text files by using the following methods:-\n",
    "```py\n",
    "1. read() ----> To read total data from the file\n",
    "2. read(n) --> To read \"n\" characters from the file.\n",
    "3. readline() --> To read only one line.\n",
    "4. readlines() ---> To read all lines into a list.\n",
    "```"
   ]
  },
  {
   "cell_type": "code",
   "execution_count": 4,
   "id": "9bd3b5ea",
   "metadata": {},
   "outputs": [
    {
     "name": "stdout",
     "output_type": "stream",
     "text": [
      "Hi this text file \n",
      "In the file handling concept\n",
      "\n"
     ]
    }
   ],
   "source": [
    "# To read total data from the file\n",
    "f = open(\"abc_test.txt\", \"r\")\n",
    "data = f.read()\n",
    "print(data)\n",
    "f.close()"
   ]
  },
  {
   "cell_type": "code",
   "execution_count": 5,
   "id": "70ec5858",
   "metadata": {},
   "outputs": [
    {
     "name": "stdout",
     "output_type": "stream",
     "text": [
      "Hi this te\n"
     ]
    }
   ],
   "source": [
    "# To read 'n' characters from the file\n",
    "f = open(\"abc_test.txt\", \"r\")\n",
    "data = f.read(10)\n",
    "print(data)\n",
    "f.close()"
   ]
  },
  {
   "cell_type": "markdown",
   "id": "454d3621",
   "metadata": {},
   "source": [
    "1. If the specified number of characters are not available in the file then, only available characters will get.\n",
    "```py\n",
    "data = f.read(10000)\n",
    "```\n",
    "2. If we are passing __\"-ve\"__ int values as argument, then we will get total file content.\n",
    "```py\n",
    "data = f.read(-1)\n",
    "```\n",
    "3. For any __\"-ve\"__ value result is always same."
   ]
  },
  {
   "cell_type": "code",
   "execution_count": 7,
   "id": "4472d948",
   "metadata": {},
   "outputs": [
    {
     "name": "stdout",
     "output_type": "stream",
     "text": [
      "first line  Hi this text file \n",
      "Second line  In the file handling concept\n",
      "Third line  "
     ]
    }
   ],
   "source": [
    "# To read data line by line\n",
    "f = open(\"abc_test.txt\",\"r\")\n",
    "line1 = f.readline()\n",
    "print(\"first line \", line1, end=\"\")\n",
    "line2 = f.readline()\n",
    "print(\"Second line \", line2, end = \"\")\n",
    "line3 = f.readline()\n",
    "print(\"Third line \", line3, end = \"\")\n",
    "f.close()"
   ]
  },
  {
   "cell_type": "code",
   "execution_count": 8,
   "id": "1d167b2f",
   "metadata": {},
   "outputs": [
    {
     "name": "stdout",
     "output_type": "stream",
     "text": [
      "Hi this text file \n",
      "In the file handling concept\n"
     ]
    }
   ],
   "source": [
    "f = open(\"abc_test.txt\", \"r\")\n",
    "line = f.readline()\n",
    "while line != \"\":\n",
    "    print(line, end = \"\")\n",
    "    line = f.readline()\n",
    "\n",
    "f.close()\n"
   ]
  },
  {
   "cell_type": "markdown",
   "id": "4d7c589e",
   "metadata": {},
   "source": [
    "1. If control reaches end of file(i.e., if there is no next line in the file) then readline() method returns empty string"
   ]
  },
  {
   "cell_type": "code",
   "execution_count": null,
   "id": "f09c78bb",
   "metadata": {},
   "outputs": [
    {
     "name": "stdout",
     "output_type": "stream",
     "text": [
      "Hi this text file \n",
      "In the file handling concept\n"
     ]
    }
   ],
   "source": [
    "\n",
    "#To read all lines into a list\n",
    "f=open(\"abc_test.txt\", 'r')\n",
    "l=f.readlines()\n",
    "for line in l:\n",
    "    print(line, end=\"\")\n",
    "f.close()"
   ]
  },
  {
   "cell_type": "code",
   "execution_count": 11,
   "id": "606a9fe6",
   "metadata": {},
   "outputs": [
    {
     "name": "stdout",
     "output_type": "stream",
     "text": [
      "Akhi\n",
      "l\n",
      "\n",
      "-----\n",
      "Ravi\n",
      "\n",
      "Sud\n",
      "Remaining data\n",
      "heer\n",
      "Shashi\n"
     ]
    }
   ],
   "source": [
    "# To use mutliple read methods.\n",
    "f = open(\"abc.txt\", 'r')\n",
    "print(f.read(4))\n",
    "print(f.readline())\n",
    "print(\"-----\")\n",
    "print(f.readline())\n",
    "print(f.read(3))\n",
    "print(\"Remaining data\")\n",
    "print(f.read())\n",
    "f.close()"
   ]
  },
  {
   "cell_type": "code",
   "execution_count": 12,
   "id": "d16950ca",
   "metadata": {},
   "outputs": [],
   "source": [
    "# Write a program to read data from one file(abc.txt) and write to another file(abc_test.txt)?\n",
    "f1 = open(\"abc.txt\", \"r\")\n",
    "f2 = open(\"abc_test.txt\", \"w\")\n",
    "data = f1.read()\n",
    "f2.write(data)\n",
    "f1.close()\n",
    "f2.close()"
   ]
  },
  {
   "cell_type": "markdown",
   "id": "5b74f771",
   "metadata": {},
   "source": [
    "### The with statement\n",
    "```py\n",
    "f= open('abc.txt','w')\n",
    "#perform write operations\n",
    "f.close()\n",
    "---------\n",
    "with open('abc.txt', 'w') as f:\n",
    "    -----\n",
    "    -----\n",
    "```\n",
    "1. The __with statemt__ can be used while opening a file. we can use this to group file, operation statements within the block.\n",
    "2. The advantage of with statement is, it will take care closing of file automatically once control reaches end of with block. Even in the case of exceptions also, file will be closed automatically and we are not required to close explicitly.\n"
   ]
  },
  {
   "cell_type": "code",
   "execution_count": 13,
   "id": "629c1741",
   "metadata": {},
   "outputs": [
    {
     "name": "stdout",
     "output_type": "stream",
     "text": [
      "Is file closed False\n",
      "Is file closed True\n"
     ]
    }
   ],
   "source": [
    "with open(\"abc.txt\", 'w') as f:\n",
    "    f.write(\"Akhil\\n\")\n",
    "    f.write(\"Shashi\\n\")\n",
    "    f.write(\"Naresh\\n\")\n",
    "    f.write(\"Kunal\\n\")\n",
    "    f.write(\"Sushma\\n\")\n",
    "    f.write(\"Hyderabad\\n\")\n",
    "    print(\"Is file closed\", f.closed)\n",
    "print(\"Is file closed\", f.closed)"
   ]
  },
  {
   "cell_type": "markdown",
   "id": "1898e2f7",
   "metadata": {},
   "source": [
    "1. Q. What is the advantage of using with block while opening a file?\n",
    "- After completing our operations on the file, the file will be closed automatically and we are not required to close explicitly.\n",
    "2. Q. What is the difference between:-\n",
    "```py\n",
    "f= open(\"abc.txt\", \"w\") and with open(\"abc.txt\", \"w\") as f:\n",
    "Answer\n",
    "---------\n",
    "f=open(\"abc.txt\", \"w\"):\n",
    "- In this case we have to close the file explicitly.\n",
    "\n",
    "with open(\"abc.txt\",'w'):\n",
    "- In this case we are not required to close the file explicitly and it will be closed automatically.\n",
    "```\n"
   ]
  },
  {
   "cell_type": "markdown",
   "id": "fb697ed8",
   "metadata": {},
   "source": [
    "### tell() and seek() methods"
   ]
  },
  {
   "cell_type": "code",
   "execution_count": 1,
   "id": "17a0cd39",
   "metadata": {},
   "outputs": [
    {
     "name": "stdout",
     "output_type": "stream",
     "text": [
      "0\n",
      "Ak\n",
      "2\n",
      "hil\n",
      "5\n"
     ]
    }
   ],
   "source": [
    "f=open(\"abc.txt\", \"r\")\n",
    "print(f.tell()) #0\n",
    "print(f.read(2)) \n",
    "print(f.tell())#2\n",
    "print(f.read(3))\n",
    "print(f.tell())\n",
    "f.close()"
   ]
  },
  {
   "cell_type": "markdown",
   "id": "ce899224",
   "metadata": {},
   "source": [
    "### tell() method\n",
    "1. We can use tell() method to return current position of the cursor(file pointer) from begining of the file [can you please tell your current position]\n",
    "2. The position[index] of first character in files is zero just like string index.\n",
    "\n",
    "### seel() method\n",
    "\n",
    "Syntax\n",
    "\n",
    "f.seek(3)\n",
    "\n",
    "1. We can use seek() method to move the cursor(filepointer) to specified location.\n",
    "[Can you please seek the cursor to a particular location]\n",
    "2. Python 3.x terminology:-\n",
    "3. Only zero allowed in python3\n",
    "4. Hence we can always seek only from beginning of the file only."
   ]
  },
  {
   "cell_type": "code",
   "execution_count": 4,
   "id": "c6dd1f8c",
   "metadata": {},
   "outputs": [
    {
     "name": "stdout",
     "output_type": "stream",
     "text": [
      "0\n",
      "3\n",
      "il\n",
      "20\n",
      "h\n",
      "Kunal\n",
      "Sushma\n",
      "Hyderabad\n",
      "\n",
      "Akhil\n",
      "Shashi\n",
      "Naresh\n",
      "Kunal\n",
      "Sushma\n",
      "Hyderabad\n",
      "\n"
     ]
    }
   ],
   "source": [
    "f = open(\"abc.txt\", \"r\")\n",
    "print(f.tell())\n",
    "f.seek(3)\n",
    "print(f.tell())\n",
    "print(f.read(2))\n",
    "f.seek(20)\n",
    "print(f.tell())\n",
    "print(f.read())\n",
    "f.seek(0)\n",
    "print(f.read())\n",
    "f.close()"
   ]
  },
  {
   "cell_type": "code",
   "execution_count": 6,
   "id": "b3566ead",
   "metadata": {},
   "outputs": [
    {
     "name": "stdout",
     "output_type": "stream",
     "text": [
      "Data Before Modification\n",
      "ALL STUDENTS ARE STUPIDS\n",
      "The current cursor position: 24\n",
      "Data after modifications\n",
      "ALL STUDENTS ARE GEMS!!!\n"
     ]
    }
   ],
   "source": [
    "f = open(\"abc.txt\",\"w\")\n",
    "f.write(\"ALL STUDENTS ARE STUPIDS\")\n",
    "with open(\"abc.txt\", \"r+\") as f:\n",
    "    text = f.read()\n",
    "    print(\"Data Before Modification\")\n",
    "    print(text)\n",
    "    print(\"The current cursor position:\", f.tell())\n",
    "    f.seek(17)\n",
    "    f.write(\"GEMS!!!\")\n",
    "    f.seek(0)\n",
    "    text = f.read()\n",
    "    print(\"Data after modifications\")\n",
    "    print(text)\n",
    "\n",
    "\n",
    "f.close()"
   ]
  },
  {
   "cell_type": "markdown",
   "id": "dd3a9811",
   "metadata": {},
   "source": [
    "### How to check a particular file exists or not?\n",
    "```py\n",
    "os.path.isfile(name)\n",
    "```\n",
    "1. We can use __os library__ to get the information about files in our computer. We can check whether a particular file exists or not by using __isfile__ function."
   ]
  },
  {
   "cell_type": "code",
   "execution_count": 7,
   "id": "3dcc7473",
   "metadata": {},
   "outputs": [
    {
     "name": "stdout",
     "output_type": "stream",
     "text": [
      "File exists abc.txt\n",
      "The content of the file\n",
      "******************************\n",
      "ALL STUDENTS ARE GEMS!!!\n",
      "******************************\n"
     ]
    }
   ],
   "source": [
    "#Write a program to check whether the given file exists or not. If it is available then print its content.\n",
    "import os\n",
    "fname = input(\"Enter the file name\")\n",
    "if os.path.isfile(fname):\n",
    "    print(\"File exists\", fname)\n",
    "    with open(fname, 'r') as f:\n",
    "        text = f.read()\n",
    "        print(\"The content of the file\")\n",
    "        print(\"*\"*30)\n",
    "        print(text)\n",
    "        print(\"*\"*30)\n",
    "\n",
    "else:\n",
    "    print(\"File not exists\", fname)"
   ]
  },
  {
   "cell_type": "code",
   "execution_count": 8,
   "id": "b42bf41b",
   "metadata": {},
   "outputs": [
    {
     "name": "stdout",
     "output_type": "stream",
     "text": [
      "The number of lines: 1\n",
      "The number of word count: 4\n",
      "The number of characters: 24\n"
     ]
    }
   ],
   "source": [
    "#Program to print the number of lines, words and characters present in the given file?\n",
    "import os\n",
    "fname = input(\"Enter the file name\")\n",
    "if os.path.isfile(fname):\n",
    "    ccount = 0\n",
    "    lcount = 0\n",
    "    wcount = 0\n",
    "    with open(\"abc.txt\", \"r\") as f:\n",
    "        for line in f:\n",
    "            lcount = lcount + 1\n",
    "            no_of_words_in_current_line= len(line.split())\n",
    "            wcount = wcount + no_of_words_in_current_line\n",
    "            no_of_characters_in_current_line = len(line)\n",
    "            ccount = ccount + no_of_characters_in_current_line\n",
    "\n",
    "        print(\"The number of lines:\", lcount)\n",
    "        print(\"The number of word count:\", wcount)\n",
    "        print(\"The number of characters:\", ccount)\n",
    "\n",
    "else:\n",
    "    print(\"File not found\", fname)"
   ]
  },
  {
   "cell_type": "markdown",
   "id": "5c1670f7",
   "metadata": {},
   "source": [
    "### Handling Binary Data:-"
   ]
  },
  {
   "cell_type": "code",
   "execution_count": 9,
   "id": "05b11d1c",
   "metadata": {},
   "outputs": [
    {
     "name": "stdout",
     "output_type": "stream",
     "text": [
      "<class 'bytes'>\n",
      "udemyguido.jpg image is ready\n"
     ]
    }
   ],
   "source": [
    "f1 = open(\"download.jpeg\", \"rb\")\n",
    "data = f1.read()\n",
    "print(type(data))\n",
    "f2 = open(\"udemyguido.jpg\", \"wb\")\n",
    "f2.write(data)\n",
    "print(\"udemyguido.jpg image is ready\")\n",
    "f1.close()\n",
    "f2.close()"
   ]
  },
  {
   "cell_type": "markdown",
   "id": "f2c5d7a2",
   "metadata": {},
   "source": [
    "### Handling csv files\n",
    "1. CSV ---> comma seperated values\n",
    "2. As the part of programming, it is very common requirement to write and read data to/from csv files.\n",
    "3. Python provides __csv module__ to handle csv files."
   ]
  },
  {
   "cell_type": "code",
   "execution_count": 10,
   "id": "b881c666",
   "metadata": {},
   "outputs": [
    {
     "name": "stdout",
     "output_type": "stream",
     "text": [
      "Writing data to the file completed succesfully.\n"
     ]
    }
   ],
   "source": [
    "import csv\n",
    "with open(\"emp.csv\", \"w\", newline=\"\") as f:\n",
    "    w = csv.writer(f)\n",
    "    w.writerow([\"ENo\", \"ENAME\", \"ESAL\", \"EADDR\"])\n",
    "    while True:\n",
    "        eno = int(input(\"Enter the employee number\"))\n",
    "        ename = input(\"Enter employee name\")\n",
    "        esal = float(input(\"Enter employee salary\"))\n",
    "        eaddr = input(\"Enter employee address\")\n",
    "        w.writerow([eno, ename, esal, eaddr])\n",
    "        option = input(\"Do you want to insert one more record[Yes/No]\")\n",
    "        if option.lower() =='no':\n",
    "            break\n",
    "print(\"Writing data to the file completed succesfully.\")"
   ]
  },
  {
   "cell_type": "code",
   "execution_count": 11,
   "id": "e303530b",
   "metadata": {},
   "outputs": [
    {
     "name": "stdout",
     "output_type": "stream",
     "text": [
      "------------------------------\n",
      "<class '_csv.reader'>\n",
      "------------------------------\n",
      "[['ENo', 'ENAME', 'ESAL', 'EADDR'], ['123', 'akhil', '90000.0', 'kollapanaidu palli']]\n",
      "------------------------------\n",
      "['ENo', 'ENAME', 'ESAL', 'EADDR']\n",
      "['123', 'akhil', '90000.0', 'kollapanaidu palli']\n",
      "------------------------------\n",
      "ENo \tENAME \tESAL \tEADDR \t\n",
      "123 \takhil \t90000.0 \tkollapanaidu palli \t\n"
     ]
    }
   ],
   "source": [
    "#Reading data from the csv files\n",
    "import csv\n",
    "with open(\"emp.csv\", \"r\") as f:\n",
    "    r = csv.reader(f)\n",
    "    print(\"-\"*30)\n",
    "    print(type(r))\n",
    "    data = list(r)\n",
    "    print(\"-\"*30)\n",
    "    print(data)\n",
    "    print(\"-\"*30)\n",
    "    for row in data:\n",
    "        print(row)\n",
    "\n",
    "    print(\"-\"*30)\n",
    "    for row in data:\n",
    "        for column in row:\n",
    "            print(column, \"\\t\", end=\"\")\n",
    "        print()\n",
    "\n",
    "\n",
    "        "
   ]
  },
  {
   "cell_type": "markdown",
   "id": "4fd8be05",
   "metadata": {},
   "source": [
    "### Zipping and Unzipping files\n",
    "1. It is very common requirement to zip and unzip files\n",
    "\n",
    "__The main advantages are :-__\n",
    "1. It is very convenient to use\n",
    "2. To improve memory utilization\n",
    "3. We can reduce transporation time \n",
    "4. We can improve performance ect.\n",
    "\n",
    "To perform zip and unzip operations, python contains one inbuilt module zipfile. this module contins a class __ZipFile__.\n",
    "\n",
    "```py\n",
    "Module name:- zipfile\n",
    "class name :- ZipFile\n",
    "```"
   ]
  },
  {
   "cell_type": "code",
   "execution_count": 14,
   "id": "4db82c78",
   "metadata": {},
   "outputs": [],
   "source": [
    "from zipfile import *\n",
    "f = ZipFile(\"files22042025.zip\", 'w', ZIP_DEFLATED)\n",
    "f.write(\"file1.txt\")\n",
    "f.write(\"file2.txt\")\n",
    "f.write(\"file3.txt\")"
   ]
  },
  {
   "cell_type": "markdown",
   "id": "139b6c3c",
   "metadata": {},
   "source": [
    "### To perform zip operation/to create a zip file:-\n",
    "1. We have to create __zipfile__ class object with the name of the zipfile, mode and constant __ZIP_DEFLATED__. This constant represents that, we are creating zip file.\n",
    "\n",
    "```py\n",
    "f = ZipFile(\"file1.zip\", \"w\", ZIP_DEFLATED)\n",
    "```\n",
    "2. Once we create zipfile object, we can add files by using write() method.\n",
    "```py\n",
    "f.write(filename)\n",
    "```\n"
   ]
  },
  {
   "cell_type": "code",
   "execution_count": 18,
   "id": "ee1c6d67",
   "metadata": {},
   "outputs": [
    {
     "name": "stdout",
     "output_type": "stream",
     "text": [
      "['download.jpeg']\n"
     ]
    }
   ],
   "source": [
    "from zipfile import *\n",
    "f= ZipFile(\"download.zip\", \"r\", ZIP_STORED)\n",
    "names = f.namelist()\n",
    "print(names)"
   ]
  },
  {
   "cell_type": "markdown",
   "id": "32ff921b",
   "metadata": {},
   "source": [
    "### To perform unzip operation:-\n",
    "1. We have to create zipfiel class object as follows\n",
    "```py\n",
    "f= zip(\"file1.zip\", 'r', ZIP_STORED)\n",
    "```\n",
    "\n",
    "__ZIP_STORED__ constant represents that we are performing unzip operation.\n",
    "\n",
    "2. This is default value and hence we are not required to specify.\n",
    "3. Once we create zipfile class object for unzip operation, we can get all file names present in that zip file by using namelist() method\n",
    "```py\n",
    "names = f.namelist()\n",
    "```"
   ]
  },
  {
   "cell_type": "markdown",
   "id": "a6e6623d",
   "metadata": {},
   "source": [
    "### Working with Directories\n",
    "- It is very common requirement to perform operations for directories like\n",
    "1. To know current working directory.\n",
    "2. To create a new directory.\n",
    "3. To remove an existing directory.\n",
    "4. To rename a directory.\n",
    "5. To list contents of the directory etc.\n",
    "\n",
    "To perform these operations, Python provides inbuilt module __os__\n",
    "\n",
    "__os__ module contains several functions to perform directory related operations."
   ]
  },
  {
   "cell_type": "markdown",
   "id": "5b043469",
   "metadata": {},
   "source": [
    "### 1. To know current working directory"
   ]
  },
  {
   "cell_type": "code",
   "execution_count": 19,
   "id": "58031041",
   "metadata": {},
   "outputs": [
    {
     "name": "stdout",
     "output_type": "stream",
     "text": [
      "The current working directory: e:\\Git_python_practice\n"
     ]
    }
   ],
   "source": [
    "import os\n",
    "cwd = os.getcwd()\n",
    "print(\"The current working directory:\", cwd)"
   ]
  },
  {
   "cell_type": "markdown",
   "id": "a5f80462",
   "metadata": {},
   "source": [
    "### 2. To create a sub directory in the current working directory"
   ]
  },
  {
   "cell_type": "code",
   "execution_count": 20,
   "id": "93b26492",
   "metadata": {},
   "outputs": [
    {
     "name": "stdout",
     "output_type": "stream",
     "text": [
      "Valmiki123 directory created in cwd.\n"
     ]
    }
   ],
   "source": [
    "import os \n",
    "os.mkdir(\"valmiki123\")\n",
    "print(\"Valmiki123 directory created in cwd.\")"
   ]
  },
  {
   "cell_type": "markdown",
   "id": "d0b1811f",
   "metadata": {},
   "source": [
    "> #### Note:- If the specified directory already exists then we will get __fileExistsError__"
   ]
  },
  {
   "cell_type": "markdown",
   "id": "6822a44d",
   "metadata": {},
   "source": [
    "### 3. To create a sub directory in valmiki123 directory"
   ]
  },
  {
   "cell_type": "code",
   "execution_count": 22,
   "id": "ff3d7e5f",
   "metadata": {},
   "outputs": [
    {
     "name": "stdout",
     "output_type": "stream",
     "text": [
      "Task Done\n"
     ]
    }
   ],
   "source": [
    "import os \n",
    "os.mkdir(\"valmiki123/varun123\")\n",
    "print(\"Task Done\")"
   ]
  },
  {
   "cell_type": "markdown",
   "id": "ee191699",
   "metadata": {},
   "source": [
    "> #### Note:- Compulsory base directory(valmiki123) should be available already, otherwise we will get FileNotFoundError\n",
    "\n",
    "- We can use mkdir() function to create directory anywhere in our system. But we have to use absolute path."
   ]
  },
  {
   "cell_type": "markdown",
   "id": "bfaf1366",
   "metadata": {},
   "source": [
    "### 4. To create both parent and child directories"
   ]
  },
  {
   "cell_type": "code",
   "execution_count": 23,
   "id": "a81c253e",
   "metadata": {},
   "outputs": [
    {
     "name": "stdout",
     "output_type": "stream",
     "text": [
      "Task done\n"
     ]
    }
   ],
   "source": [
    "import os\n",
    "os.makedirs(\"valmikidir/varundir/sandeshdir\")\n",
    "print(\"Task done\")"
   ]
  },
  {
   "cell_type": "markdown",
   "id": "3122a740",
   "metadata": {},
   "source": [
    "1. Q. What is the difference between the following:-\n",
    "```py\n",
    "1. os.mkdir(\"valmikidir/varundir/sandheshdir\")\n",
    "2. os.makedirs(\"valmikidir/varundir/sandheshdir\")\n",
    "----\n",
    "1. In this case only sandheshdir will be created and both valmikidir and varundir should be available already.\n",
    "\n",
    "2. In this case all directories will be created.\n",
    "```"
   ]
  },
  {
   "cell_type": "markdown",
   "id": "c8e7aa15",
   "metadata": {},
   "source": [
    "### 5. To remove a directory:-\n"
   ]
  },
  {
   "cell_type": "code",
   "execution_count": 24,
   "id": "b179f403",
   "metadata": {},
   "outputs": [
    {
     "name": "stdout",
     "output_type": "stream",
     "text": [
      "Task completed.\n"
     ]
    }
   ],
   "source": [
    "import os\n",
    "os.rmdir(\"valmiki123/varun123\")\n",
    "print(\"Task completed.\")"
   ]
  },
  {
   "cell_type": "markdown",
   "id": "6a2d6c77",
   "metadata": {},
   "source": [
    "1. In this case varun123 get removed.\n",
    "\n",
    "> Note:- To remove directory, compulsory it should be empty otherwise we will get __OSError__."
   ]
  },
  {
   "cell_type": "markdown",
   "id": "40fcdb8a",
   "metadata": {},
   "source": [
    "### 6. To remove both parent and child directories."
   ]
  },
  {
   "cell_type": "code",
   "execution_count": 25,
   "id": "7fc44f3d",
   "metadata": {},
   "outputs": [
    {
     "name": "stdout",
     "output_type": "stream",
     "text": [
      "Task completed.\n"
     ]
    }
   ],
   "source": [
    "import os\n",
    "os.removedirs(\"valmikidir/varundir/sandeshdir\")\n",
    "print(\"Task completed.\")"
   ]
  },
  {
   "cell_type": "markdown",
   "id": "857e1e48",
   "metadata": {},
   "source": [
    "In this case all 3 directories get removed."
   ]
  },
  {
   "cell_type": "markdown",
   "id": "36defd91",
   "metadata": {},
   "source": [
    "### 7. To rename a directory."
   ]
  },
  {
   "cell_type": "code",
   "execution_count": 26,
   "id": "13b2610d",
   "metadata": {},
   "outputs": [
    {
     "name": "stdout",
     "output_type": "stream",
     "text": [
      "Task Completed\n"
     ]
    }
   ],
   "source": [
    "import os\n",
    "os.rename(\"valmiki123\", \"varun123\")\n",
    "print(\"Task Completed\")"
   ]
  },
  {
   "cell_type": "markdown",
   "id": "ab2f6557",
   "metadata": {},
   "source": [
    "Valmiki123 directory renamed with varun123"
   ]
  },
  {
   "cell_type": "markdown",
   "id": "b159357d",
   "metadata": {},
   "source": [
    "### 8. To know the contents of directory."
   ]
  },
  {
   "cell_type": "code",
   "execution_count": 27,
   "id": "41a16315",
   "metadata": {},
   "outputs": [
    {
     "name": "stdout",
     "output_type": "stream",
     "text": [
      "['java.txt', 'python.txt', 'testing.txt']\n"
     ]
    }
   ],
   "source": [
    "import os\n",
    "l = os.listdir(\"material\")\n",
    "print(l)"
   ]
  },
  {
   "cell_type": "markdown",
   "id": "b11ed3ea",
   "metadata": {},
   "source": [
    "1. __os__ module provides listdir() to list out the contents of the specified directory.\n",
    "2. listdir() function consider only directory contents but not sub directory contents.\n",
    "3. The above code display contents present in material but not contents of sub directories.\n",
    "4. If we want the contents of a directory including sub directories then we should go for walk() function."
   ]
  },
  {
   "cell_type": "code",
   "execution_count": 34,
   "id": "2cb1a44b",
   "metadata": {},
   "outputs": [
    {
     "name": "stdout",
     "output_type": "stream",
     "text": [
      "<class 'generator'>\n",
      "('material', [], ['java.txt', 'python.txt', 'testing.txt'])\n"
     ]
    }
   ],
   "source": [
    "import os\n",
    "g = os.walk(\"material\")\n",
    "print(type(g))\n",
    "for x in g:\n",
    "    print(x)"
   ]
  },
  {
   "cell_type": "code",
   "execution_count": 33,
   "id": "fefeba99",
   "metadata": {},
   "outputs": [
    {
     "name": "stdout",
     "output_type": "stream",
     "text": [
      "Directory path: material\n",
      "Directory names []\n",
      "file names ['java.txt', 'python.txt', 'testing.txt']\n",
      "\n"
     ]
    }
   ],
   "source": [
    "import os\n",
    "g = os.walk(\"material\")\n",
    "for dirpath, dirnames, filenames in g:\n",
    "    print(\"Directory path:\", dirpath)\n",
    "    print(\"Directory names\", dirnames)\n",
    "    print(\"file names\",filenames)\n",
    "    print()"
   ]
  },
  {
   "cell_type": "markdown",
   "id": "9dd254dc",
   "metadata": {},
   "source": [
    "### 9. To know contents of directory including subdirectoy contents.\n",
    "\n",
    "1. We should use walk() function.\n",
    "2. The return type is generator object.\n",
    "3. Every element returned by generator is a tuple, which contains 2 elements\\\n",
    "__(directorypath, list of directories, list of filenames)__"
   ]
  },
  {
   "cell_type": "markdown",
   "id": "2f9f2f79",
   "metadata": {},
   "source": [
    "1. Q. What is the difference between listdir() and walk() functions?\n",
    "- In the case of listdir() function, we will get contents of the specified directories but not subdirectory contents.\n",
    "- But in the case of walk() function, we will get contents of the specified directory including sub directory contents also."
   ]
  },
  {
   "cell_type": "code",
   "execution_count": null,
   "id": "0034f42e",
   "metadata": {},
   "outputs": [],
   "source": []
  }
 ],
 "metadata": {
  "kernelspec": {
   "display_name": "Python 3",
   "language": "python",
   "name": "python3"
  },
  "language_info": {
   "codemirror_mode": {
    "name": "ipython",
    "version": 3
   },
   "file_extension": ".py",
   "mimetype": "text/x-python",
   "name": "python",
   "nbconvert_exporter": "python",
   "pygments_lexer": "ipython3",
   "version": "3.10.0"
  }
 },
 "nbformat": 4,
 "nbformat_minor": 5
}
