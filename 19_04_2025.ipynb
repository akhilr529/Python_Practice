{
 "cells": [
  {
   "cell_type": "markdown",
   "id": "352b1fd1",
   "metadata": {},
   "source": [
    "### Control flow in nested try-except-finally\n",
    "\n",
    "```py\n",
    "try:\n",
    "    stat-1\n",
    "    stat-2\n",
    "    stat-3\n",
    "    try:\n",
    "        stat-4\n",
    "        stat-5\n",
    "        stat-6\n",
    "    except xxxx:\n",
    "        stat-7\n",
    "    finally:\n",
    "        stat-8\n",
    "    stat-9\n",
    "except yyyy:\n",
    "    stat-10\n",
    "finally:\n",
    "    stat-11\n",
    "stat-12\n",
    "```\n",
    "```py\n",
    "AT - Abnormal Termination\n",
    "NT - Normal Termination\n",
    "```\n",
    "1. case-1 :- If there is no exception\n",
    "- stat - 1,2,3,4,5,6,8,9,11,12,NT\n",
    "\n",
    "2. If an exception raised at stat-2 and corresponding except block matched.\n",
    "- stat - 1, 10,11,12,NT\n",
    "\n",
    "3. case-3 :- If an exception raised at stat-2 and corresponding except block not matched.\n",
    "- stat - 1, 11, AT\n",
    "\n",
    "4. case-4 :- If an exception raised at stat-5 and inner except block matched.\n",
    "- stat - 1,2,3,4,7,8,9,11,12,NT\n",
    "\n",
    "5. case-5 :- If an exception raised at stat-5 and inner exception block not matched, but outer except block matched.\n",
    "- stat - 1,2,3,4,8,9,10,11,12,NT\n",
    "\n",
    "6. case-6 :- If an exception raised at stat-5 and both inner & outer except blocks are not matched.\n",
    "- stat - 1,2,3,4,8,11,AT\n",
    "\n",
    "7. case-7 :- If an exception raised at stat-7 and corresponding except block matched.\n",
    "- stat - 1,2,3,.,.,.,8,10,11,12,NT\n",
    "\n",
    "8. case-8 :- If an exception raised at stat-7 and corresponding except block not matched.\n",
    "- stat - 1,2,3,.,.,.,8,11,AT\n",
    "\n",
    "9. case-9 :- If an exception raised at stat-8 and corresponding except block matched.\n",
    "- stat - 1,2,3,.,.,.,10,11,12,NT\n",
    "\n",
    "10. case-10 :- If an exception raised at stat-8 and corresponding except block not matched.\n",
    "- stat - 1,2,3,.,.,.,11,AT\n",
    "\n",
    "11. case-11 :- If an exception raised at stat-9 and corresponding except block matched.\n",
    "- stat - 1,2,3,.,.,.,8,10,11,12,NT\n",
    "\n",
    "12. case-12 :- If an exception raised at stat-9 and corresponding except block not matched.\n",
    "- stat - 1,2,3,.,.,.,8,11,AT\n",
    "\n",
    "13. case-13 :- If an exception raised at stat-10, then it is always AT, but before AT only finally blocks will be executed.\n",
    "\n",
    "14. case-14 :- If an exception raised at stat-11 or stat-12, then it is always AT\n",
    "\n",
    "### else block with try-except-finally\n",
    "\n",
    "```py\n",
    "if-else\n",
    "x=10\n",
    "if x>10:\n",
    "    print(\"x>10\")\n",
    "else:\n",
    "    print(\"x is not >10\")\n",
    "```\n",
    "```py\n",
    "loops with else\n",
    "for x in range(10):\n",
    "    print(x)\n",
    "else:\n",
    "    print(\"Congratulations\")\n",
    "```\n",
    "\n",
    "1. if-else ==> if condition is false then only else will be executed.\n",
    "2. for-else ==> If loop executed without break then only else will be executed.\n",
    "3. while-else ==> If loop executed without break then only else will be executed.\n",
    "\n",
    "```py\n",
    "try-except-else-finally\n",
    "try:\n",
    "    Risky code\n",
    "except:\n",
    "    Handling code\n",
    "    It will be executed if exception in try block\n",
    "else:\n",
    "    It will be executed if there is no exception in try block\n",
    "finally:\n",
    "    cleanup code\n",
    "```\n",
    "1. We can use else block with try-except-finally blocks.\n",
    "2. If there is no exception in try block then only else will be executed.\n"
   ]
  },
  {
   "cell_type": "code",
   "execution_count": 1,
   "id": "170b7853",
   "metadata": {},
   "outputs": [
    {
     "name": "stdout",
     "output_type": "stream",
     "text": [
      "try\n",
      "else\n",
      "finally\n"
     ]
    }
   ],
   "source": [
    "try:\n",
    "    print(\"try\")\n",
    "except:\n",
    "    print(\"except\")\n",
    "else:\n",
    "    print(\"else\")\n",
    "finally:\n",
    "    print(\"finally\")"
   ]
  },
  {
   "cell_type": "code",
   "execution_count": 2,
   "id": "8f9e83f8",
   "metadata": {},
   "outputs": [
    {
     "name": "stdout",
     "output_type": "stream",
     "text": [
      "try\n",
      "except\n",
      "finally\n"
     ]
    }
   ],
   "source": [
    "try:\n",
    "    print(\"try\")\n",
    "    print(10/0)\n",
    "except:\n",
    "    print(\"except\")\n",
    "else:\n",
    "    print(\"else\")\n",
    "finally:\n",
    "    print(\"finally\")"
   ]
  },
  {
   "cell_type": "code",
   "execution_count": 3,
   "id": "a150d371",
   "metadata": {},
   "outputs": [
    {
     "ename": "SyntaxError",
     "evalue": "expected 'except' or 'finally' block (4060184508.py, line 4)",
     "output_type": "error",
     "traceback": [
      "\u001b[1;36m  Cell \u001b[1;32mIn[3], line 4\u001b[1;36m\u001b[0m\n\u001b[1;33m    else:\u001b[0m\n\u001b[1;37m    ^\u001b[0m\n\u001b[1;31mSyntaxError\u001b[0m\u001b[1;31m:\u001b[0m expected 'except' or 'finally' block\n"
     ]
    }
   ],
   "source": [
    "try:\n",
    "    print(\"try\")\n",
    "    print(10/0)\n",
    "else:\n",
    "    print(\"else\")\n",
    "finally:\n",
    "    print(\"finally\")"
   ]
  },
  {
   "cell_type": "markdown",
   "id": "74137789",
   "metadata": {},
   "source": [
    "1. There is no chance of executing both except and else simultaneously.\n",
    "2. If we want to take else block, compulsory except block should be there i.e., without except block is always invalid\n",
    "```py\n",
    "SyntaxError : Invalid Syntax\n",
    "```"
   ]
  },
  {
   "cell_type": "code",
   "execution_count": 4,
   "id": "c94d978c",
   "metadata": {},
   "outputs": [
    {
     "name": "stdout",
     "output_type": "stream",
     "text": [
      "Some problem while locating/opening file\n"
     ]
    }
   ],
   "source": [
    "f = None\n",
    "try:\n",
    "    f=open(\"abc.txt\",\"r\")\n",
    "except:\n",
    "    print(\"Some problem while locating/opening file\")\n",
    "else:\n",
    "    print(\"File Opened sucessfully\")\n",
    "    print(\"The content of the file:\")\n",
    "    print(\"#\"*30)\n",
    "    print(f.read())\n",
    "\n",
    "finally:\n",
    "    if f is not None:\n",
    "        f.close()"
   ]
  },
  {
   "cell_type": "code",
   "execution_count": 5,
   "id": "3c108b67",
   "metadata": {},
   "outputs": [
    {
     "name": "stdout",
     "output_type": "stream",
     "text": [
      "File Opened sucessfully\n",
      "The content of the file:\n",
      "##############################\n",
      "Hi this is for the test for the try-except-else-finally\n"
     ]
    }
   ],
   "source": [
    "f = None\n",
    "try:\n",
    "    f=open(\"abc.txt\",\"r\")\n",
    "except:\n",
    "    print(\"Some problem while locating/opening file\")\n",
    "else:\n",
    "    print(\"File Opened sucessfully\")\n",
    "    print(\"The content of the file:\")\n",
    "    print(\"#\"*30)\n",
    "    print(f.read())\n",
    "\n",
    "finally:\n",
    "    if f is not None:\n",
    "        f.close()"
   ]
  },
  {
   "cell_type": "markdown",
   "id": "b5bf0f12",
   "metadata": {},
   "source": [
    "### Various Possible combinations of try-except-else-finally"
   ]
  },
  {
   "cell_type": "code",
   "execution_count": 6,
   "id": "a9153d3f",
   "metadata": {},
   "outputs": [
    {
     "ename": "SyntaxError",
     "evalue": "expected 'except' or 'finally' block (6456375.py, line 3)",
     "output_type": "error",
     "traceback": [
      "\u001b[1;36m  Cell \u001b[1;32mIn[6], line 3\u001b[1;36m\u001b[0m\n\u001b[1;33m    print('try')\u001b[0m\n\u001b[1;37m                ^\u001b[0m\n\u001b[1;31mSyntaxError\u001b[0m\u001b[1;31m:\u001b[0m expected 'except' or 'finally' block\n"
     ]
    }
   ],
   "source": [
    "#1\n",
    "try:\n",
    "    print('try')"
   ]
  },
  {
   "cell_type": "code",
   "execution_count": 7,
   "id": "f053f283",
   "metadata": {},
   "outputs": [
    {
     "ename": "SyntaxError",
     "evalue": "invalid syntax (2268443772.py, line 2)",
     "output_type": "error",
     "traceback": [
      "\u001b[1;36m  Cell \u001b[1;32mIn[7], line 2\u001b[1;36m\u001b[0m\n\u001b[1;33m    except:\u001b[0m\n\u001b[1;37m    ^\u001b[0m\n\u001b[1;31mSyntaxError\u001b[0m\u001b[1;31m:\u001b[0m invalid syntax\n"
     ]
    }
   ],
   "source": [
    "#2\n",
    "except:\n",
    "    print(\"except\")"
   ]
  },
  {
   "cell_type": "code",
   "execution_count": 8,
   "id": "1ca0ed06",
   "metadata": {},
   "outputs": [
    {
     "ename": "SyntaxError",
     "evalue": "invalid syntax (2037086323.py, line 2)",
     "output_type": "error",
     "traceback": [
      "\u001b[1;36m  Cell \u001b[1;32mIn[8], line 2\u001b[1;36m\u001b[0m\n\u001b[1;33m    else:\u001b[0m\n\u001b[1;37m    ^\u001b[0m\n\u001b[1;31mSyntaxError\u001b[0m\u001b[1;31m:\u001b[0m invalid syntax\n"
     ]
    }
   ],
   "source": [
    "#3\n",
    "else:\n",
    "    print(\"else\")"
   ]
  },
  {
   "cell_type": "code",
   "execution_count": 9,
   "id": "164668fe",
   "metadata": {},
   "outputs": [
    {
     "ename": "SyntaxError",
     "evalue": "invalid syntax (372135061.py, line 2)",
     "output_type": "error",
     "traceback": [
      "\u001b[1;36m  Cell \u001b[1;32mIn[9], line 2\u001b[1;36m\u001b[0m\n\u001b[1;33m    finally:\u001b[0m\n\u001b[1;37m    ^\u001b[0m\n\u001b[1;31mSyntaxError\u001b[0m\u001b[1;31m:\u001b[0m invalid syntax\n"
     ]
    }
   ],
   "source": [
    "#4\n",
    "finally:\n",
    "    print(\"finally\")"
   ]
  },
  {
   "cell_type": "code",
   "execution_count": 10,
   "id": "238b2d9f",
   "metadata": {},
   "outputs": [
    {
     "name": "stdout",
     "output_type": "stream",
     "text": [
      "try\n"
     ]
    }
   ],
   "source": [
    "#5\n",
    "try:\n",
    "    print(\"try\")\n",
    "except:\n",
    "    print(\"except\")"
   ]
  },
  {
   "cell_type": "code",
   "execution_count": 11,
   "id": "0ce935b4",
   "metadata": {},
   "outputs": [
    {
     "ename": "SyntaxError",
     "evalue": "expected 'except' or 'finally' block (3069398247.py, line 4)",
     "output_type": "error",
     "traceback": [
      "\u001b[1;36m  Cell \u001b[1;32mIn[11], line 4\u001b[1;36m\u001b[0m\n\u001b[1;33m    else:\u001b[0m\n\u001b[1;37m    ^\u001b[0m\n\u001b[1;31mSyntaxError\u001b[0m\u001b[1;31m:\u001b[0m expected 'except' or 'finally' block\n"
     ]
    }
   ],
   "source": [
    "#6\n",
    "try:\n",
    "    print(\"try\")\n",
    "else:\n",
    "    print(\"else\")"
   ]
  },
  {
   "cell_type": "code",
   "execution_count": 12,
   "id": "2289f048",
   "metadata": {},
   "outputs": [
    {
     "name": "stdout",
     "output_type": "stream",
     "text": [
      "try\n",
      "finally\n"
     ]
    }
   ],
   "source": [
    "#7\n",
    "try:\n",
    "    print('try')\n",
    "finally:\n",
    "    print(\"finally\")"
   ]
  },
  {
   "cell_type": "code",
   "execution_count": 13,
   "id": "97d18d60",
   "metadata": {},
   "outputs": [
    {
     "ename": "SyntaxError",
     "evalue": "expected 'except' or 'finally' block (1212542213.py, line 4)",
     "output_type": "error",
     "traceback": [
      "\u001b[1;36m  Cell \u001b[1;32mIn[13], line 4\u001b[1;36m\u001b[0m\n\u001b[1;33m    else:\u001b[0m\n\u001b[1;37m    ^\u001b[0m\n\u001b[1;31mSyntaxError\u001b[0m\u001b[1;31m:\u001b[0m expected 'except' or 'finally' block\n"
     ]
    }
   ],
   "source": [
    "#8\n",
    "try:\n",
    "    print('try')\n",
    "else:\n",
    "    print('else')\n",
    "except:\n",
    "    print(\"except\")"
   ]
  },
  {
   "cell_type": "code",
   "execution_count": 14,
   "id": "a664483d",
   "metadata": {},
   "outputs": [
    {
     "ename": "SyntaxError",
     "evalue": "expected 'except' or 'finally' block (812366075.py, line 4)",
     "output_type": "error",
     "traceback": [
      "\u001b[1;36m  Cell \u001b[1;32mIn[14], line 4\u001b[1;36m\u001b[0m\n\u001b[1;33m    else:\u001b[0m\n\u001b[1;37m    ^\u001b[0m\n\u001b[1;31mSyntaxError\u001b[0m\u001b[1;31m:\u001b[0m expected 'except' or 'finally' block\n"
     ]
    }
   ],
   "source": [
    "#9\n",
    "try:\n",
    "    print('try')\n",
    "else:\n",
    "    print('else')\n",
    "finally:\n",
    "    print(\"finally\")"
   ]
  },
  {
   "cell_type": "code",
   "execution_count": null,
   "id": "fe0ddfb4",
   "metadata": {},
   "outputs": [
    {
     "name": "stdout",
     "output_type": "stream",
     "text": [
      "try\n",
      "else\n",
      "finally\n"
     ]
    }
   ],
   "source": [
    "#10\n",
    "try:\n",
    "    print('try')\n",
    "except:\n",
    "    print(\"except\")\n",
    "else:\n",
    "    print(\"else\")\n",
    "finally:\n",
    "    print(\"finally\")"
   ]
  },
  {
   "cell_type": "code",
   "execution_count": 16,
   "id": "e497d69e",
   "metadata": {},
   "outputs": [
    {
     "name": "stdout",
     "output_type": "stream",
     "text": [
      "try\n",
      "try\n",
      "finally\n"
     ]
    }
   ],
   "source": [
    "#11\n",
    "try:\n",
    "    print('try')\n",
    "except:\n",
    "    print(\"except\")\n",
    "\n",
    "try:\n",
    "    print('try')\n",
    "finally:\n",
    "    print(\"finally\")"
   ]
  },
  {
   "cell_type": "code",
   "execution_count": 17,
   "id": "7edfb845",
   "metadata": {},
   "outputs": [
    {
     "ename": "SyntaxError",
     "evalue": "expected 'except' or 'finally' block (1564434410.py, line 9)",
     "output_type": "error",
     "traceback": [
      "\u001b[1;36m  Cell \u001b[1;32mIn[17], line 9\u001b[1;36m\u001b[0m\n\u001b[1;33m    else:\u001b[0m\n\u001b[1;37m    ^\u001b[0m\n\u001b[1;31mSyntaxError\u001b[0m\u001b[1;31m:\u001b[0m expected 'except' or 'finally' block\n"
     ]
    }
   ],
   "source": [
    "#12\n",
    "try:\n",
    "    print('try')\n",
    "except:\n",
    "    print(\"except\")\n",
    "\n",
    "try:\n",
    "    print('try')\n",
    "else:\n",
    "    print(\"else\")"
   ]
  },
  {
   "cell_type": "code",
   "execution_count": 18,
   "id": "52c9953f",
   "metadata": {},
   "outputs": [
    {
     "name": "stdout",
     "output_type": "stream",
     "text": [
      "try\n"
     ]
    }
   ],
   "source": [
    "#13\n",
    "try:\n",
    "    print(\"try\")\n",
    "except ValueError:\n",
    "    print(\"except-1\")\n",
    "except ZeroDivisionError:\n",
    "    print(\"except-2\")"
   ]
  },
  {
   "cell_type": "code",
   "execution_count": 19,
   "id": "6f10b1b6",
   "metadata": {},
   "outputs": [
    {
     "ename": "SyntaxError",
     "evalue": "invalid syntax (3980206424.py, line 9)",
     "output_type": "error",
     "traceback": [
      "\u001b[1;36m  Cell \u001b[1;32mIn[19], line 9\u001b[1;36m\u001b[0m\n\u001b[1;33m    else:\u001b[0m\n\u001b[1;37m    ^\u001b[0m\n\u001b[1;31mSyntaxError\u001b[0m\u001b[1;31m:\u001b[0m invalid syntax\n"
     ]
    }
   ],
   "source": [
    "#14\n",
    "\n",
    "try:\n",
    "    print('try')\n",
    "except:\n",
    "    print(\"except\")\n",
    "else:\n",
    "    print(\"else-1\")\n",
    "else:\n",
    "    print(\"else-2\")"
   ]
  },
  {
   "cell_type": "code",
   "execution_count": 20,
   "id": "ce9a3540",
   "metadata": {},
   "outputs": [
    {
     "ename": "SyntaxError",
     "evalue": "invalid syntax (2940315581.py, line 8)",
     "output_type": "error",
     "traceback": [
      "\u001b[1;36m  Cell \u001b[1;32mIn[20], line 8\u001b[1;36m\u001b[0m\n\u001b[1;33m    finally:\u001b[0m\n\u001b[1;37m    ^\u001b[0m\n\u001b[1;31mSyntaxError\u001b[0m\u001b[1;31m:\u001b[0m invalid syntax\n"
     ]
    }
   ],
   "source": [
    "#15\n",
    "try:\n",
    "    print('try')\n",
    "except:\n",
    "    print(\"except\")\n",
    "finally:\n",
    "    print('finally-1')\n",
    "finally:\n",
    "    print('finally-2')"
   ]
  },
  {
   "cell_type": "code",
   "execution_count": 21,
   "id": "57bf5361",
   "metadata": {},
   "outputs": [
    {
     "name": "stdout",
     "output_type": "stream",
     "text": [
      "try\n",
      "else\n"
     ]
    }
   ],
   "source": [
    "#16\n",
    "try:\n",
    "    print('try')\n",
    "except:\n",
    "    print(\"except\")\n",
    "if 10>20:\n",
    "    print(\"if\")\n",
    "else:\n",
    "    print('else')"
   ]
  },
  {
   "cell_type": "code",
   "execution_count": 22,
   "id": "e7c2c67d",
   "metadata": {},
   "outputs": [
    {
     "ename": "SyntaxError",
     "evalue": "expected 'except' or 'finally' block (2809136664.py, line 4)",
     "output_type": "error",
     "traceback": [
      "\u001b[1;36m  Cell \u001b[1;32mIn[22], line 4\u001b[1;36m\u001b[0m\n\u001b[1;33m    print(\"hello\")\u001b[0m\n\u001b[1;37m    ^\u001b[0m\n\u001b[1;31mSyntaxError\u001b[0m\u001b[1;31m:\u001b[0m expected 'except' or 'finally' block\n"
     ]
    }
   ],
   "source": [
    "#17\n",
    "try:\n",
    "    print('try')\n",
    "print(\"hello\")\n",
    "except:\n",
    "    print(\"except\")"
   ]
  },
  {
   "cell_type": "code",
   "execution_count": 23,
   "id": "faff620d",
   "metadata": {},
   "outputs": [
    {
     "ename": "SyntaxError",
     "evalue": "invalid syntax (2562231127.py, line 7)",
     "output_type": "error",
     "traceback": [
      "\u001b[1;36m  Cell \u001b[1;32mIn[23], line 7\u001b[1;36m\u001b[0m\n\u001b[1;33m    except ZeroDivisionError:\u001b[0m\n\u001b[1;37m    ^\u001b[0m\n\u001b[1;31mSyntaxError\u001b[0m\u001b[1;31m:\u001b[0m invalid syntax\n"
     ]
    }
   ],
   "source": [
    "#18\n",
    "try:\n",
    "    print(\"try\")\n",
    "except ValueError:\n",
    "    print(\"except-1\")\n",
    "print(\"Hello\")\n",
    "except ZeroDivisionError:\n",
    "    print(\"except-2\")"
   ]
  },
  {
   "cell_type": "code",
   "execution_count": 24,
   "id": "2ce38fe7",
   "metadata": {},
   "outputs": [
    {
     "ename": "SyntaxError",
     "evalue": "invalid syntax (4128689491.py, line 7)",
     "output_type": "error",
     "traceback": [
      "\u001b[1;36m  Cell \u001b[1;32mIn[24], line 7\u001b[1;36m\u001b[0m\n\u001b[1;33m    else:\u001b[0m\n\u001b[1;37m    ^\u001b[0m\n\u001b[1;31mSyntaxError\u001b[0m\u001b[1;31m:\u001b[0m invalid syntax\n"
     ]
    }
   ],
   "source": [
    "#19\n",
    "try:\n",
    "    print(\"try\")\n",
    "except ValueError:\n",
    "    print(\"except-1\")\n",
    "print('Hello')\n",
    "else:\n",
    "    print('else')"
   ]
  },
  {
   "cell_type": "code",
   "execution_count": 25,
   "id": "d175396e",
   "metadata": {},
   "outputs": [
    {
     "ename": "SyntaxError",
     "evalue": "invalid syntax (2544455807.py, line 7)",
     "output_type": "error",
     "traceback": [
      "\u001b[1;36m  Cell \u001b[1;32mIn[25], line 7\u001b[1;36m\u001b[0m\n\u001b[1;33m    finally:\u001b[0m\n\u001b[1;37m    ^\u001b[0m\n\u001b[1;31mSyntaxError\u001b[0m\u001b[1;31m:\u001b[0m invalid syntax\n"
     ]
    }
   ],
   "source": [
    "#20\n",
    "try:\n",
    "    print(\"try\")\n",
    "except ValueError:\n",
    "    print(\"except-1\")\n",
    "print('Hello')\n",
    "finally:\n",
    "    print('finally')"
   ]
  },
  {
   "cell_type": "code",
   "execution_count": null,
   "id": "7a27f8f8",
   "metadata": {},
   "outputs": [
    {
     "name": "stdout",
     "output_type": "stream",
     "text": [
      "try\n",
      "Inner Try\n",
      "Inner finally\n"
     ]
    }
   ],
   "source": [
    "#21\n",
    "try:\n",
    "    print(\"try\")\n",
    "    try:\n",
    "        print('Inner Try')\n",
    "    except:\n",
    "        print(\"inner except\")\n",
    "    finally:\n",
    "        print('Inner finally')\n",
    "except:\n",
    "    print(\"Outer except\")"
   ]
  },
  {
   "cell_type": "code",
   "execution_count": 29,
   "id": "aa3aafba",
   "metadata": {},
   "outputs": [
    {
     "name": "stdout",
     "output_type": "stream",
     "text": [
      "try\n"
     ]
    }
   ],
   "source": [
    "#22\n",
    "try:\n",
    "    print(\"try\")\n",
    "except:\n",
    "    try:\n",
    "        print('inner try')\n",
    "    except:\n",
    "        print(\"inner except\")"
   ]
  },
  {
   "cell_type": "code",
   "execution_count": 30,
   "id": "1a836d18",
   "metadata": {},
   "outputs": [
    {
     "name": "stdout",
     "output_type": "stream",
     "text": [
      "try\n",
      "inner try\n"
     ]
    }
   ],
   "source": [
    "#23\n",
    "try:\n",
    "    print(\"try\")\n",
    "except:\n",
    "    print('except')\n",
    "else:\n",
    "    try:\n",
    "        print('inner try')\n",
    "    except:\n",
    "        print(\"inner except\")"
   ]
  },
  {
   "cell_type": "code",
   "execution_count": 31,
   "id": "08e774be",
   "metadata": {},
   "outputs": [
    {
     "name": "stdout",
     "output_type": "stream",
     "text": [
      "try\n",
      "inner try\n"
     ]
    }
   ],
   "source": [
    "#24\n",
    "try:\n",
    "    print(\"try\")\n",
    "except:\n",
    "    print('except')\n",
    "finally:\n",
    "    try:\n",
    "        print('inner try')\n",
    "    except:\n",
    "        print(\"inner except\")"
   ]
  },
  {
   "cell_type": "code",
   "execution_count": 32,
   "id": "51227900",
   "metadata": {},
   "outputs": [
    {
     "ename": "SyntaxError",
     "evalue": "expected 'except' or 'finally' block (3219147593.py, line 5)",
     "output_type": "error",
     "traceback": [
      "\u001b[1;36m  Cell \u001b[1;32mIn[32], line 5\u001b[1;36m\u001b[0m\n\u001b[1;33m    except:\u001b[0m\n\u001b[1;37m           ^\u001b[0m\n\u001b[1;31mSyntaxError\u001b[0m\u001b[1;31m:\u001b[0m expected 'except' or 'finally' block\n"
     ]
    }
   ],
   "source": [
    "#25\n",
    "try:\n",
    "    try:\n",
    "        print(\"inner try\")\n",
    "except:\n",
    "    print('except')"
   ]
  },
  {
   "cell_type": "code",
   "execution_count": 33,
   "id": "bde8ee41",
   "metadata": {},
   "outputs": [
    {
     "name": "stdout",
     "output_type": "stream",
     "text": [
      "inner try\n",
      "inner finally\n"
     ]
    }
   ],
   "source": [
    "#26\n",
    "try:\n",
    "    try:\n",
    "        print(\"inner try\")\n",
    "    finally:\n",
    "        print('inner finally')\n",
    "except:\n",
    "    print('except')"
   ]
  },
  {
   "cell_type": "markdown",
   "id": "580c8957",
   "metadata": {},
   "source": [
    "### Various Possible combinations of try-except-else-finally\n",
    "1. Whenever we are writing try block, compulsory we should write except or finally blocks, i.e., try without except or finally is always invalid.\n",
    "2. Whenever we are writing except block, compulsory try block should be there, i.e., except without try is always invalid.\n",
    "3. Whenever we are writing finally block, compulsory try block should be there, i.e., finally without try is always invalid.\n",
    "4. Whenever we are writing else block, compulsory except block should be there, i.e., else without except is always invalid.\n",
    "5. We can write multiple except blocks for the same try, but we cannot write multiple else blocks and finally blocks.\n",
    "6. In try-except-else-finally order is important.\n",
    "7. We can write try-except-else-finally inside try, except, else and finally blocks. Hence nesting of try-except-else-finally is always possible."
   ]
  },
  {
   "cell_type": "markdown",
   "id": "957a0f96",
   "metadata": {},
   "source": [
    "### Types of Exceptions:-\n",
    "### 1. Predefined exceptions :-\n",
    "1. Also know inbuilt exceptions or PVM exceptions.\n",
    "2. These will be raised automatically by Python Virtual machine Whenever a particular even occurs.\n",
    "- Eg1:- Whenever we are trying to perform division by zero, automatically python will raise ZeroDivisionError.\n",
    "```py\n",
    "print(10/0) ==> ZeroDivisionError\n",
    "```\n",
    "- Eg2:- Whenever we are trying to convert str value to int type and string does not contain int value then we will get ValueError automatically\n",
    "```py\n",
    "x = int(\"ten\") ==> ValueError\n",
    "```\n",
    "\n",
    "### 2. User Defined Exceptions:-\n",
    "```py\n",
    "1. Bank APP :\n",
    "def widraw(amount):\n",
    "    if amount > balance:\n",
    "        raise InSufficientFundsException()\n",
    "    else:\n",
    "        process request\n",
    "```\n",
    "```py\n",
    "2. Mobile Recharge APP :-\n",
    "def recharge(pin):\n",
    "    if pin is not valid:\n",
    "        raise InvalidPinException()\n",
    "```\n",
    "```py\n",
    "3. Durga Matrimonal APP:-\n",
    "Age - 18-60\n",
    "99 :- TooYoungException:\n",
    "Plz wait some more time definitely you will get best match.\n",
    "\n",
    "12:- TooOldException: \n",
    "Your age already crossed marriage age, no chance of getting marriage.\n",
    "```\n",
    "\n",
    "1. Also known as customized Exceptions or programmatic Exceptions.\n",
    "2. Sometimes we have to define and raise exceptions explicitly to indicate that something goes wrong, such type of exceptions are called user defined exceptions or customized exceptions or programmatic Exceptions.\n",
    "3. Programmer is responsible to define these exceptions and Python Virtual Machine not having any idea about these. Hence we have to raise explicitly based on our requirement by using '__raise__' keyword.\n",
    "\n",
    "```py\n",
    "Eg:-\n",
    "InSufficientFundsException\n",
    "InvalidPINException\n",
    "TooYoungException\n",
    "TooOldException\n",
    "```"
   ]
  },
  {
   "cell_type": "markdown",
   "id": "0cc1e371",
   "metadata": {},
   "source": [
    "### How to define and raise customized Exceptions\n",
    "```py\n",
    "Define \n",
    "class TooYoungException(Exception):\n",
    "    def __init__(self, msg):\n",
    "        self.msg = msg\n",
    "Raise\n",
    "raise TooYoungException(\"Plz wait some more time\")\n",
    "```\n",
    "1. Every exception in python is a class and it should be child class of BaseException\n",
    "```py\n",
    "Syntax\n",
    "class NameOfException(PredefinedException):\n",
    "    def __init__(self,msg):\n",
    "        self.msg = msg\n",
    "\n",
    "```\n",
    "\n",
    "1. TooYoungException is our exception class name and it is the child class of exception\n",
    "2. We can raise exception by using __raise__ keyword \n",
    "```py\n",
    "raise TooYoungException\n",
    "```\n"
   ]
  },
  {
   "cell_type": "code",
   "execution_count": 39,
   "id": "a459ae40",
   "metadata": {},
   "outputs": [
    {
     "name": "stdout",
     "output_type": "stream",
     "text": [
      "Your age = 5\n"
     ]
    },
    {
     "ename": "TooOldException",
     "evalue": "Your age already crossed marriage age, no chance of getting marriage",
     "output_type": "error",
     "traceback": [
      "\u001b[1;31m---------------------------------------------------------------------------\u001b[0m",
      "\u001b[1;31mTooOldException\u001b[0m                           Traceback (most recent call last)",
      "Cell \u001b[1;32mIn[39], line 13\u001b[0m\n\u001b[0;32m     11\u001b[0m     \u001b[38;5;28;01mraise\u001b[39;00m TooYoungException(\u001b[38;5;124m\"\u001b[39m\u001b[38;5;124mPlz wait some more time, definitely you will get best match\u001b[39m\u001b[38;5;124m\"\u001b[39m)\n\u001b[0;32m     12\u001b[0m \u001b[38;5;28;01melif\u001b[39;00m age\u001b[38;5;241m<\u001b[39m\u001b[38;5;241m18\u001b[39m:\n\u001b[1;32m---> 13\u001b[0m     \u001b[38;5;28;01mraise\u001b[39;00m TooOldException(\u001b[38;5;124m\"\u001b[39m\u001b[38;5;124mYour age already crossed marriage age, no chance of getting marriage\u001b[39m\u001b[38;5;124m\"\u001b[39m)\n\u001b[0;32m     14\u001b[0m \u001b[38;5;28;01melse\u001b[39;00m:\n\u001b[0;32m     15\u001b[0m     \u001b[38;5;28mprint\u001b[39m(\u001b[38;5;124m\"\u001b[39m\u001b[38;5;124mYou will get match details soon by email\u001b[39m\u001b[38;5;124m\"\u001b[39m)\n",
      "\u001b[1;31mTooOldException\u001b[0m: Your age already crossed marriage age, no chance of getting marriage"
     ]
    }
   ],
   "source": [
    "class TooYoungException(Exception):\n",
    "    def __init__(self, msg):\n",
    "        self.msg = msg\n",
    "class TooOldException(Exception):\n",
    "    def __init__(self, msg):\n",
    "        self.msg = msg\n",
    "#18-60\n",
    "age = int(input(\"Enter Age:\"))\n",
    "print(\"Your age =\", age)\n",
    "if age >60:\n",
    "    raise TooYoungException(\"Plz wait some more time, definitely you will get best match\")\n",
    "elif age<18:\n",
    "    raise TooOldException(\"Your age already crossed marriage age, no chance of getting marriage\")\n",
    "else:\n",
    "    print(\"You will get match details soon by email\")"
   ]
  },
  {
   "cell_type": "code",
   "execution_count": 40,
   "id": "e5199ddb",
   "metadata": {},
   "outputs": [
    {
     "name": "stdout",
     "output_type": "stream",
     "text": [
      "Your age = 77\n"
     ]
    },
    {
     "ename": "TooYoungException",
     "evalue": "Plz wait some more time, definitely you will get best match",
     "output_type": "error",
     "traceback": [
      "\u001b[1;31m---------------------------------------------------------------------------\u001b[0m",
      "\u001b[1;31mTooYoungException\u001b[0m                         Traceback (most recent call last)",
      "Cell \u001b[1;32mIn[40], line 4\u001b[0m\n\u001b[0;32m      2\u001b[0m \u001b[38;5;28mprint\u001b[39m(\u001b[38;5;124m\"\u001b[39m\u001b[38;5;124mYour age =\u001b[39m\u001b[38;5;124m\"\u001b[39m, age)\n\u001b[0;32m      3\u001b[0m \u001b[38;5;28;01mif\u001b[39;00m age \u001b[38;5;241m>\u001b[39m\u001b[38;5;241m60\u001b[39m:\n\u001b[1;32m----> 4\u001b[0m     \u001b[38;5;28;01mraise\u001b[39;00m TooYoungException(\u001b[38;5;124m\"\u001b[39m\u001b[38;5;124mPlz wait some more time, definitely you will get best match\u001b[39m\u001b[38;5;124m\"\u001b[39m)\n\u001b[0;32m      5\u001b[0m \u001b[38;5;28;01melif\u001b[39;00m age\u001b[38;5;241m<\u001b[39m\u001b[38;5;241m18\u001b[39m:\n\u001b[0;32m      6\u001b[0m     \u001b[38;5;28;01mraise\u001b[39;00m TooOldException(\u001b[38;5;124m\"\u001b[39m\u001b[38;5;124mYour age already crossed marriage age, no chance of getting marriage\u001b[39m\u001b[38;5;124m\"\u001b[39m)\n",
      "\u001b[1;31mTooYoungException\u001b[0m: Plz wait some more time, definitely you will get best match"
     ]
    }
   ],
   "source": [
    "age = int(input(\"Enter Age:\"))\n",
    "print(\"Your age =\", age)\n",
    "if age >60:\n",
    "    raise TooYoungException(\"Plz wait some more time, definitely you will get best match\")\n",
    "elif age<18:\n",
    "    raise TooOldException(\"Your age already crossed marriage age, no chance of getting marriage\")\n",
    "else:\n",
    "    print(\"You will get match details soon by email\")"
   ]
  },
  {
   "cell_type": "code",
   "execution_count": 41,
   "id": "b2373a50",
   "metadata": {},
   "outputs": [
    {
     "name": "stdout",
     "output_type": "stream",
     "text": [
      "Your age = 27\n",
      "You will get match details soon by email\n"
     ]
    }
   ],
   "source": [
    "age = int(input(\"Enter Age:\"))\n",
    "print(\"Your age =\", age)\n",
    "if age >60:\n",
    "    raise TooYoungException(\"Plz wait some more time, definitely you will get best match\")\n",
    "elif age<18:\n",
    "    raise TooOldException(\"Your age already crossed marriage age, no chance of getting marriage\")\n",
    "else:\n",
    "    print(\"You will get match details soon by email\")"
   ]
  },
  {
   "cell_type": "markdown",
   "id": "66ec3a3c",
   "metadata": {},
   "source": [
    "------\n",
    "------"
   ]
  },
  {
   "cell_type": "markdown",
   "id": "6632f5f4",
   "metadata": {},
   "source": [
    "## Python Logging\n",
    "- It is highly recommended to store complete application flow and exception information to a file. This process of writing data to the file is called logging\n",
    "- The main advantages of logging are :\n",
    "1. We can use log files while performing debugging.\n",
    "2. We can generate utilization reports like number of requests per dat etc.\n",
    "\n",
    "```py\n",
    "Logging levels:-\n",
    "1. CRITICAL(50)\n",
    "2. ERROR(40)\n",
    "3. WARNING(30)\n",
    "4. INFO(20)\n",
    "5. DEBUG(10)\n",
    "6. NOTSET(0)\n",
    "```\n",
    "1. CRITICAL(50) :- Represents a very serious problem that needs high attention like complete application failure.\n",
    "2. ERROR(40) :- Represents a serious error, some part of the application not working properly\n",
    "3. WARNING(30) :- Represents a warning message, some caution needed. It is alert to the programmer.\n",
    "4. INFO(20) :- Represents a message with some important information.\n",
    "5. DEBUG(10) :- Represents a message with debugging information.\n",
    "6. NOTSET(0) :- Represent that level is not set.\n",
    "\n",
    "### How to implement logging:-\n",
    "- Logging ---> BasicConfig(filename level)\n",
    "```py\n",
    "logging.basicConfig(filename = 'log.txt', level = logging.WARNING)\n",
    "logging.critical(message)\n",
    "logging.error(message)\n",
    "logging.warning(message)\n",
    "logging.info(message)\n",
    "logging.debug(message)\n",
    "```"
   ]
  },
  {
   "cell_type": "code",
   "execution_count": 6,
   "id": "dceadcc4",
   "metadata": {},
   "outputs": [
    {
     "name": "stdout",
     "output_type": "stream",
     "text": [
      "Logging demo\n"
     ]
    }
   ],
   "source": [
    "#Write a Python program to create a log file and write WARNING and higher level message?\n",
    "import logging\n",
    "logging.basicConfig(filename='log.txt', level=logging.WARNING, filemode=\"w\")\n",
    "print(\"Logging demo\")\n",
    "logging.critical(\"This is critical message\")\n",
    "logging.error(\"This is error message\")\n",
    "logging.warning(\"This is warning message\")\n",
    "logging.info(\"This is info message\")\n",
    "logging.debug(\"This is debug message\")"
   ]
  },
  {
   "cell_type": "markdown",
   "id": "678fa276",
   "metadata": {},
   "source": [
    "### How to configure log file in over writing mode?\n",
    "```py\n",
    "logging.basicConfig(filename='log.txt', level = logging.WARNING, filename = 'w')\n",
    "'a' --> append\n",
    "'w' --> over write\n",
    "Default values\n",
    "filemode ---> 'a'\n",
    "level ---> WARNING(30)\n",
    "filename ---> console\n",
    "```\n",
    "### How to format log messages?\n",
    "```py\n",
    "levelname:loggername:message\n",
    "logging.basicConfig(format = '%(levelname)s') ===> only levelname\n",
    "logging.basicConfig(format = '%(levelname)s:%(message)s') ==> level name and message\n",
    "logging.basicConfig(format = '%(levelname)s:%(name)s:%(message)s') ==> levelname, loggername and message\n",
    "\n",
    "How to add timestamp to the log messages\n",
    "logging.basicConfig(format = '%(asctime)s:%(levelname)s:%(message)s')\n",
    "%I ---> 12 hours scale\n",
    "%H ---> 24 hours scale\n",
    "logging.basicConfig(format = '%(asctime)s:%(levelname)s:%(message)s', datefmt = '%d/%m/%Y %I:%M:%S %p')\n",
    "```"
   ]
  },
  {
   "cell_type": "code",
   "execution_count": 48,
   "id": "8ed23bb8",
   "metadata": {},
   "outputs": [
    {
     "name": "stdout",
     "output_type": "stream",
     "text": [
      "Can not divide with zero\n"
     ]
    }
   ],
   "source": [
    "#How to write exception information to the log file?\n",
    "try:\n",
    "    x = int(input(\"Enter first number\"))\n",
    "    y = int(input(\"Enter second number\"))\n",
    "    print(\"The Result :\", x/y)\n",
    "\n",
    "except ZeroDivisionError:\n",
    "    print(\"Can not divide with zero\")\n",
    "except ValueError:\n",
    "    print(\"Provide int values only\")"
   ]
  },
  {
   "cell_type": "code",
   "execution_count": 5,
   "id": "91a6a2a8",
   "metadata": {},
   "outputs": [
    {
     "name": "stdout",
     "output_type": "stream",
     "text": [
      "The Result : 2.0\n"
     ]
    }
   ],
   "source": [
    "import logging\n",
    "logging.basicConfig(filename=\"mylog19042025.log\", level=logging.INFO,\n",
    "                    format='%(asctime)s: %(levelname)s: %(message)s',\n",
    "                    datefmt='%d/%m/%Y  %I:%M:%S %p')\n",
    "logging.info('A new request come')\n",
    "try:\n",
    "    x = int(input(\"Enter first number\"))\n",
    "    y = int(input(\"Enter second number\"))\n",
    "    print(\"The Result :\", x/y)\n",
    "\n",
    "except ZeroDivisionError as msg:\n",
    "    print(\"Can not divide with zero\")\n",
    "    logging.exception(msg)\n",
    "except ValueError as msg:\n",
    "    print(\"Provide int values only\")\n",
    "    logging.exception(msg)\n",
    "logging.info(\"Request Processing completed.\")"
   ]
  },
  {
   "cell_type": "markdown",
   "id": "35656b14",
   "metadata": {},
   "source": [
    "### Problems with root logger\n",
    "1. Once we set basic configuration then that configuration is final and we cannot change.\n",
    "2. we can use either file handler or console handler but not both simultaneously.\n",
    "3. It is not possible to configure logger with different configurations at different levels.\n",
    "4. we cannot specify multiple log files for multiple modules/classes/methods.\n",
    "\n",
    "### how to define and use customized loggers\n",
    "\n",
    "```py\n",
    "logger object <----- handler object <----- formatter object\n",
    "\n",
    "stream handler\n",
    "file handler\n",
    "SMTP handler\n",
    "HTTP handler\n",
    "```\n",
    "\n",
    "```py\n",
    "1. create logger object & set level:-\n",
    "logger = logging.getlogger(\"demologger\")\n",
    "logger.setlevel(logging.WARNING)\n",
    "\n",
    "2. Create handle object & set level:-\n",
    "consoleHandler = logging.StreamHandler()\n",
    "consoleHandler.setlevel(logging.ERROR)\n",
    "\n",
    "            or\n",
    "\n",
    "fileHandler = logging.fileHandle('abc.log', mode = 'w')\n",
    "fileHandler.setlevel(logging.ERROR)\n",
    "\n",
    "3. Create formater object:-\n",
    "formater = logging.formater('%(asctime)s:%(levelname)s:%(name)s:%(message)s',\n",
    "                            'datefmt = '%d/%m/%Y %I:%M:%S %p'')\n",
    "\n",
    "4. Set formater to handler:-\n",
    "consoleHandler.SetHandler(formater)\n",
    "\n",
    "5. add Handler to logger:-\n",
    "logger.addHandler(consoleHandler)\n",
    "\n",
    "6. Write log message by logger object:-\n",
    "logger.critical(msg)\n",
    "logger.error(msg)\n",
    "logger.warning(msg)\n",
    "logger.ingo(msg)\n",
    "logger.debug(msg)\n",
    "```"
   ]
  },
  {
   "cell_type": "code",
   "execution_count": 9,
   "id": "95893a17",
   "metadata": {},
   "outputs": [
    {
     "name": "stderr",
     "output_type": "stream",
     "text": [
      "19/04/2025 03:%M:00 PM:CRITICAL:Demologger:It is critical message\n",
      "19/04/2025 03:%m:00 PM:CRITICAL:Demologger:It is critical message\n",
      "19/04/2025 03:04:00 PM:CRITICAL:Demologger:It is critical message\n",
      "19/04/2025 03:%M:00 PM:ERROR:Demologger:This is error message\n",
      "19/04/2025 03:%m:00 PM:ERROR:Demologger:This is error message\n",
      "19/04/2025 03:04:00 PM:ERROR:Demologger:This is error message\n"
     ]
    }
   ],
   "source": [
    "#Write a program to define and use custom logger with console handler\n",
    "import logging\n",
    "logger = logging.getLogger(\"Demologger\")\n",
    "logger.setLevel(logging.DEBUG)\n",
    "consoleHandler = logging.StreamHandler()\n",
    "consoleHandler.setLevel(logging.ERROR)\n",
    "formater = logging.Formatter('%(asctime)s:%(levelname)s:%(name)s:%(message)s',\n",
    "                             datefmt='%d/%m/%Y %I:%m:%S %p')\n",
    "\n",
    "consoleHandler.setFormatter(formater)\n",
    "logger.addHandler(consoleHandler)\n",
    "logger.critical(\"It is critical message\")\n",
    "logger.error('This is error message')\n",
    "logger.warning(\"This is warning message\")\n",
    "logger.info(\"This is info message\")\n",
    "logger.debug(\"It is debug message\")"
   ]
  },
  {
   "cell_type": "markdown",
   "id": "1dcfe0c9",
   "metadata": {},
   "source": [
    "### Importance of inspect module:-\n",
    "```py\n",
    "check in the demo.py and test5.py\n",
    "```"
   ]
  },
  {
   "cell_type": "markdown",
   "id": "5a7946f8",
   "metadata": {},
   "source": [
    "### Advantages of Customized logger\n",
    "1. Modifications will become very easy.\n",
    "2. We can reuse same configurations in different modules.\n",
    "3. Length of the code will be reduced and readablity will be improved."
   ]
  },
  {
   "cell_type": "markdown",
   "id": "aa1c22c1",
   "metadata": {},
   "source": []
  }
 ],
 "metadata": {
  "kernelspec": {
   "display_name": "Python 3",
   "language": "python",
   "name": "python3"
  },
  "language_info": {
   "codemirror_mode": {
    "name": "ipython",
    "version": 3
   },
   "file_extension": ".py",
   "mimetype": "text/x-python",
   "name": "python",
   "nbconvert_exporter": "python",
   "pygments_lexer": "ipython3",
   "version": "3.10.0"
  }
 },
 "nbformat": 4,
 "nbformat_minor": 5
}
