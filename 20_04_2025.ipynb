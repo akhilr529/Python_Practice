{
 "cells": [
  {
   "cell_type": "markdown",
   "id": "e230e93c",
   "metadata": {},
   "source": [
    "## Assertions\n",
    "- __Bug__ :- The deviation between expected output and original output.\n",
    "- __Debugging__ :- The process of identifying and fixing the bug is called debugging.\n",
    "\n",
    "1. The most common way of debugging is usage of print() statement.\n",
    "2. But the problem with the print statement is, after fixing the bug compulsory we have to delete the extra added print() statments, otherwise these will be executed at runtime which creates performance problems and disturbs server logging/console output.\n",
    "3. To overcome this problem, we should go for assert statements instead of print statements. The main advantage of assert() statement over print() statements is after fixing the bug we are not required to delete assert statements explicitly. Based on our requirement, we can enable or disable assert statements.\n",
    "4. Hence the main purpose of assert statements is to perform debugging. \n",
    "- For any project, the following three types of environments available\n",
    "```py\n",
    "1. Development Environment(Dev)\n",
    "2. Test Environment(QA Env)\n",
    "3. Production Environment(Liv Env)\n",
    "```\n",
    "5. Usually we can perform debugging either in Development environment or Test environment but not in production environment. Hence assertion concept applicable only for Dev and Test environments but not for production environment.\n",
    "\n",
    "### Types of Assert Statements.\n",
    "1. Simple version\n",
    "2. Augmented version (More simpler version)\n",
    "\n",
    "1. Simple version:-\n",
    "```py\n",
    "assert conditonal-expresion\n",
    "```\n",
    "1. If condition is True then our assumption is satisfied and hence remaining code will be executed normally.\n",
    "2. If condition fails then somewhere something goes wrong. Hence the program will be stopped by raising AssertionError. By seeing AssertionError, programmer can analyze the code and fix the bug.\n",
    "\n",
    "2. Augmented version:-\n",
    "```py\n",
    "assert conditional_expression, message\n",
    "```\n",
    "1. If condition fails then message will be printed in addition to AssertionError, which is very helpful for debugging easily."
   ]
  },
  {
   "cell_type": "markdown",
   "id": "666bc562",
   "metadata": {},
   "source": [
    "### How to disable assert statements in python\n",
    "```py\n",
    "by using -O option\n",
    "py assertion.py ==> Assert statements will be executed\n",
    "py -O assertion.py ==> Assert Statements won't be executed\n",
    "```\n",
    "\n",
    "### Exception Handling vs Assertions\n",
    "1. Assertions concept can be used to alert programmer to resolve development time errors. It is applicable for Development and Test environment.\n",
    "2. Exception Handling concept can be used to handle runtime errors. It is applicable for production environment."
   ]
  },
  {
   "cell_type": "markdown",
   "id": "598877e4",
   "metadata": {},
   "source": [
    "----\n",
    "----"
   ]
  },
  {
   "cell_type": "markdown",
   "id": "dffe2db0",
   "metadata": {},
   "source": []
  }
 ],
 "metadata": {
  "kernelspec": {
   "display_name": "Python 3",
   "language": "python",
   "name": "python3"
  },
  "language_info": {
   "codemirror_mode": {
    "name": "ipython",
    "version": 3
   },
   "file_extension": ".py",
   "mimetype": "text/x-python",
   "name": "python",
   "nbconvert_exporter": "python",
   "pygments_lexer": "ipython3",
   "version": "3.10.0"
  }
 },
 "nbformat": 4,
 "nbformat_minor": 5
}
