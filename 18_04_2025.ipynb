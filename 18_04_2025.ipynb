{
 "cells": [
  {
   "cell_type": "markdown",
   "id": "7711f40a",
   "metadata": {},
   "source": [
    "### Finally Block\n",
    "```py\n",
    "try:\n",
    "    open db connection\n",
    "    Read data from db\n",
    "    close db connection #Resource deallocation code or cleanup code\n",
    "except:\n",
    "    Handling code\n",
    "```\n",
    "\n",
    "```py\n",
    "try:\n",
    "    Risky code\n",
    "except:\n",
    "    Handling code\n",
    "finally:\n",
    "    cleanup code\n",
    "```\n",
    "1. It is not recommended to place cleanup code(resource deallocation code like closing database connection etc) inside try block, because there is no guarantee for execution of every statement inside try block.\n",
    "2. It is not recommended to place cleanup code inside except block, because if there is no exception then except block won't be executed.\n",
    "3. Hence we required some place to maintain cleanup code which should be executed always irrespective of whethere exception raised or not raised and whether exception handled or not handled. Such type of best place is nothing but finally block.\n",
    "4. Hence the main purpose of finally block is to maintain cleanup code.\n",
    "\n",
    "```py\n",
    "Syntax\n",
    "try:\n",
    "    Risky code\n",
    "except:\n",
    "    Handling code\n",
    "finally:\n",
    "    cleanup code\n",
    "```\n",
    "5. The speciality of finally block is, it will be executed always irrespective of whether exception raised or not raised and whether exception handled or not handled."
   ]
  },
  {
   "cell_type": "code",
   "execution_count": 1,
   "id": "2ea810c9",
   "metadata": {},
   "outputs": [
    {
     "name": "stdout",
     "output_type": "stream",
     "text": [
      "try\n",
      "finally\n"
     ]
    }
   ],
   "source": [
    "#Case 1:- If no exception\n",
    "try:\n",
    "    print(\"try\")\n",
    "except:\n",
    "    print(\"except\")\n",
    "finally:\n",
    "    print(\"finally\")\n"
   ]
  },
  {
   "cell_type": "code",
   "execution_count": 1,
   "id": "0cb7fc19",
   "metadata": {},
   "outputs": [
    {
     "name": "stdout",
     "output_type": "stream",
     "text": [
      "try\n",
      "except\n",
      "finally\n"
     ]
    }
   ],
   "source": [
    "#Case 2:- If exception Raised & Handled\n",
    "try:\n",
    "    print(\"try\")\n",
    "    print(10/0)\n",
    "except ZeroDivisionError:\n",
    "    print(\"except\")\n",
    "\n",
    "finally:\n",
    "    print(\"finally\")\n",
    "    "
   ]
  },
  {
   "cell_type": "code",
   "execution_count": 2,
   "id": "0b0c80b9",
   "metadata": {},
   "outputs": [
    {
     "name": "stdout",
     "output_type": "stream",
     "text": [
      "try\n",
      "finally\n"
     ]
    },
    {
     "ename": "ZeroDivisionError",
     "evalue": "division by zero",
     "output_type": "error",
     "traceback": [
      "\u001b[1;31m---------------------------------------------------------------------------\u001b[0m",
      "\u001b[1;31mZeroDivisionError\u001b[0m                         Traceback (most recent call last)",
      "Cell \u001b[1;32mIn[2], line 4\u001b[0m\n\u001b[0;32m      2\u001b[0m \u001b[38;5;28;01mtry\u001b[39;00m:\n\u001b[0;32m      3\u001b[0m     \u001b[38;5;28mprint\u001b[39m(\u001b[38;5;124m\"\u001b[39m\u001b[38;5;124mtry\u001b[39m\u001b[38;5;124m\"\u001b[39m)\n\u001b[1;32m----> 4\u001b[0m     \u001b[38;5;28mprint\u001b[39m(\u001b[38;5;241;43m10\u001b[39;49m\u001b[38;5;241;43m/\u001b[39;49m\u001b[38;5;241;43m0\u001b[39;49m)\n\u001b[0;32m      5\u001b[0m \u001b[38;5;28;01mexcept\u001b[39;00m \u001b[38;5;167;01mValueError\u001b[39;00m:\n\u001b[0;32m      6\u001b[0m     \u001b[38;5;28mprint\u001b[39m(\u001b[38;5;124m\"\u001b[39m\u001b[38;5;124mexcept\u001b[39m\u001b[38;5;124m\"\u001b[39m)\n",
      "\u001b[1;31mZeroDivisionError\u001b[0m: division by zero"
     ]
    }
   ],
   "source": [
    "#Case 3:- If exception Raised but not handled\n",
    "try:\n",
    "    print(\"try\")\n",
    "    print(10/0)\n",
    "except ValueError:\n",
    "    print(\"except\")\n",
    "finally:\n",
    "    print(\"finally\")"
   ]
  },
  {
   "cell_type": "markdown",
   "id": "dd0981ef",
   "metadata": {},
   "source": [
    "### Finally block vs os._exit(0)\n"
   ]
  },
  {
   "cell_type": "code",
   "execution_count": null,
   "id": "f7f554fb",
   "metadata": {},
   "outputs": [
    {
     "ename": "",
     "evalue": "",
     "output_type": "error",
     "traceback": [
      "\u001b[1;31mThe Kernel crashed while executing code in the current cell or a previous cell. \n",
      "\u001b[1;31mPlease review the code in the cell(s) to identify a possible cause of the failure. \n",
      "\u001b[1;31mClick <a href='https://aka.ms/vscodeJupyterKernelCrash'>here</a> for more info. \n",
      "\u001b[1;31mView Jupyter <a href='command:jupyter.viewOutput'>log</a> for further details."
     ]
    }
   ],
   "source": [
    "import os\n",
    "try:\n",
    "    print('try')\n",
    "    os._exit(0)\n",
    "except ValueError:\n",
    "    print(\"except\")\n",
    "\n",
    "finally:\n",
    "    print(\"finally\")"
   ]
  },
  {
   "cell_type": "markdown",
   "id": "dff2555a",
   "metadata": {},
   "source": [
    "1. There is only one situation where finally block won't be executed i.e., whenever we are using os._exit(0)\n",
    "2. Whenever we are using os._exit(0) then python virtual machine itself will be shutdown. In this particular case finally block won't be executed.\n",
    "\n",
    "### 0s._exit(0)\n",
    "1. Hero zero represents status code\n",
    "2. Zero means normal termination.\n",
    "3. Non-zero means abnormal termination.\n",
    "4. This status code internally used by PVM.\n",
    "5. Whether it is zero or non-zero there is no difference in the result of the program.\n",
    "\n",
    "### Finally block vs Destructor.\n",
    "1. Finally block meant for maintaining cleanup code.\n",
    "2. Destructor meant for maintaining cleanup code.\n",
    "\n",
    "- Finally block meant for cleanup activities related to try block. i.e., whatever resources we opened as the part of try block will closed inside finally block.\n",
    "- Destructor meant for cleanup activities related to object. Whatever resources associated with the object should be deallocated inside destructor, which will be executed before destroying object.\n",
    "\n",
    "### Control flow in try-except-finally\n",
    "```py\n",
    "try:\n",
    "    stat-1\n",
    "    stat-2\n",
    "    stat-3\n",
    "except:\n",
    "    stat-4\n",
    "finally:\n",
    "    stat-5\n",
    "stat-6\n",
    "```\n",
    "```py\n",
    "AT - Abnormal Termination\n",
    "NT - Normal Termination\n",
    "```\n",
    "1. case-1 :- if there is no exception.\n",
    "- stat - 1,2,3,3,5,6, NT\n",
    "\n",
    "2. Case-2 :- If an exception raised at stat-2 and corresponding except block matched.\n",
    "- stat - 1,4,5,6,NT\n",
    "\n",
    "3. Case-2 :- If an exception raised at stat-2 but corresponding except block not matched.\n",
    "- Stat -1, 5, AT\n",
    "\n",
    "4. Case-4 :- If an exception raised at stat-4, then it is always, AbnormalTermination, but before AT only finally block executed\n",
    "\n",
    "5. Case-5 :- If an exception raised at stat-5 or stat-6, Then it is always AT."
   ]
  },
  {
   "cell_type": "markdown",
   "id": "1ce23d35",
   "metadata": {},
   "source": [
    "### Nested try-except finally blocks\n",
    "```py\n",
    "try:\n",
    "    try:\n",
    "        ---\n",
    "        ---\n",
    "        ---\n",
    "    except:\n",
    "        ---\n",
    "        ---\n",
    "        ---\n",
    "    finally:\n",
    "        ---\n",
    "        ---\n",
    "        ---\n",
    "except:\n",
    "    try:\n",
    "        ---\n",
    "        ---\n",
    "        ---\n",
    "    except:\n",
    "        ---\n",
    "        ---\n",
    "        ---\n",
    "    finally:\n",
    "        ---\n",
    "        ---\n",
    "        ---\n",
    "finally:\n",
    "    try:\n",
    "        ---\n",
    "        ---\n",
    "        ---\n",
    "    except:\n",
    "        ---\n",
    "        ---\n",
    "        ---\n",
    "    finally:\n",
    "        ---\n",
    "        ---\n",
    "        ---\n",
    "```\n",
    "1. We can take try-except-finally blocks inside try or except or finally. Hence nesting of try-except-finally blocks is possible.\n",
    "2. General Risky code we have to take inside outer try block and too much risky code we have to take inside inner try block.\n",
    "3. Inside inner try block if an exception raised then inner except block is responsible to handle. If it is unable to handle then outer except block is responsible to handle."
   ]
  },
  {
   "cell_type": "code",
   "execution_count": 4,
   "id": "870fcf31",
   "metadata": {},
   "outputs": [
    {
     "name": "stdout",
     "output_type": "stream",
     "text": [
      "Outer try block\n",
      "Inner try block\n",
      "Inner finally block\n",
      "Outer except block\n",
      "Outer finally block\n"
     ]
    }
   ],
   "source": [
    "try:\n",
    "    print(\"Outer try block\")\n",
    "    # print(10/0)\n",
    "    try:\n",
    "        print(\"Inner try block\")\n",
    "        print(10/0)\n",
    "    # except ZeroDivisionError:\n",
    "    #     print(\"Inner except block\")\n",
    "    except ValueError:\n",
    "        print(\"Inner except block\")\n",
    "    finally:\n",
    "        print(\"Inner finally block\")\n",
    "\n",
    "except:\n",
    "    print(\"Outer except block\")\n",
    "\n",
    "finally:\n",
    "    print(\"Outer finally block\")"
   ]
  },
  {
   "cell_type": "markdown",
   "id": "6ea733df",
   "metadata": {},
   "source": [
    "1. If the control not entered in the try block, then corresponding finally block won't be executed.\n",
    "2. Once control entered in the try block, compulsory the corresponding finally block will be executed."
   ]
  },
  {
   "cell_type": "markdown",
   "id": "db30451d",
   "metadata": {},
   "source": []
  }
 ],
 "metadata": {
  "kernelspec": {
   "display_name": "Python 3",
   "language": "python",
   "name": "python3"
  },
  "language_info": {
   "codemirror_mode": {
    "name": "ipython",
    "version": 3
   },
   "file_extension": ".py",
   "mimetype": "text/x-python",
   "name": "python",
   "nbconvert_exporter": "python",
   "pygments_lexer": "ipython3",
   "version": "3.10.0"
  }
 },
 "nbformat": 4,
 "nbformat_minor": 5
}
