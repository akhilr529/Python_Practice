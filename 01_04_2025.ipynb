{
 "cells": [
  {
   "cell_type": "markdown",
   "metadata": {},
   "source": [
    "### How to call method of a particular super class\n",
    "\n",
    "- By using super() we can call immediate parent class method. If we want a particular super class method then we have to use the following 2 approaches.\n",
    "1. classname.methodname(self): B.m1(self) ----> It will call m1() method of A class.\n",
    "2. super(classname, self).m1() ---> It will call m1() method of super of D.\n",
    "\n",
    "\n"
   ]
  },
  {
   "cell_type": "code",
   "execution_count": 1,
   "metadata": {},
   "outputs": [
    {
     "name": "stdout",
     "output_type": "stream",
     "text": [
      "888\n",
      "999\n",
      "888\n"
     ]
    },
    {
     "ename": "AttributeError",
     "evalue": "'super' object has no attribute 'b'",
     "output_type": "error",
     "traceback": [
      "\u001b[1;31m---------------------------------------------------------------------------\u001b[0m",
      "\u001b[1;31mAttributeError\u001b[0m                            Traceback (most recent call last)",
      "Cell \u001b[1;32mIn[1], line 14\u001b[0m\n\u001b[0;32m     11\u001b[0m         \u001b[38;5;28mprint\u001b[39m(\u001b[38;5;28msuper\u001b[39m()\u001b[38;5;241m.\u001b[39mb)\n\u001b[0;32m     13\u001b[0m c\u001b[38;5;241m=\u001b[39m C()\n\u001b[1;32m---> 14\u001b[0m \u001b[43mc\u001b[49m\u001b[38;5;241;43m.\u001b[39;49m\u001b[43mm1\u001b[49m\u001b[43m(\u001b[49m\u001b[43m)\u001b[49m\n",
      "Cell \u001b[1;32mIn[1], line 11\u001b[0m, in \u001b[0;36mC.m1\u001b[1;34m(self)\u001b[0m\n\u001b[0;32m      9\u001b[0m \u001b[38;5;28mprint\u001b[39m(\u001b[38;5;28mself\u001b[39m\u001b[38;5;241m.\u001b[39mb)\n\u001b[0;32m     10\u001b[0m \u001b[38;5;28mprint\u001b[39m(\u001b[38;5;28msuper\u001b[39m()\u001b[38;5;241m.\u001b[39ma)\n\u001b[1;32m---> 11\u001b[0m \u001b[38;5;28mprint\u001b[39m(\u001b[38;5;28;43msuper\u001b[39;49m\u001b[43m(\u001b[49m\u001b[43m)\u001b[49m\u001b[38;5;241;43m.\u001b[39;49m\u001b[43mb\u001b[49m)\n",
      "\u001b[1;31mAttributeError\u001b[0m: 'super' object has no attribute 'b'"
     ]
    }
   ],
   "source": [
    "class P:\n",
    "    a = 888\n",
    "    def __init__(self):\n",
    "        self.b = 999\n",
    "\n",
    "class C(P):\n",
    "    def m1(self):\n",
    "        print(self.a)\n",
    "        print(self.b)\n",
    "        print(super().a)\n",
    "        print(super().b)\n",
    "\n",
    "c= C()\n",
    "c.m1()"
   ]
  },
  {
   "cell_type": "markdown",
   "metadata": {},
   "source": [
    "### super() vs Parent class Instance variables\n",
    "- We cannot use super() to access parent class instance variables from child class. We should use self only."
   ]
  },
  {
   "cell_type": "code",
   "execution_count": 8,
   "metadata": {},
   "outputs": [
    {
     "name": "stdout",
     "output_type": "stream",
     "text": [
      "Parent Constructor\n",
      "Parent Instance method\n",
      "Parent Class method\n",
      "Parent Static method\n",
      "<__main__.C object at 0x000001E538209840>\n",
      "---------\n",
      "Parent Constructor\n",
      "Parent Instance method\n",
      "Parent Class method\n",
      "Parent Static method\n",
      "---------\n",
      "Parent Class method\n",
      "Parent Static method\n",
      "---------\n"
     ]
    }
   ],
   "source": [
    "class P:\n",
    "    def __init__(self):\n",
    "        print(\"Parent Constructor\")\n",
    "    \n",
    "    def m1(self):\n",
    "        print(\"Parent Instance method\")\n",
    "\n",
    "    @classmethod\n",
    "    def m2(cls):\n",
    "        print(\"Parent Class method\")\n",
    "\n",
    "    @staticmethod\n",
    "    def m3():\n",
    "        print(\"Parent Static method\")\n",
    "\n",
    "class C(P):\n",
    "    def __init__(self):\n",
    "        super().__init__()\n",
    "        super().m1()\n",
    "        super().m2()\n",
    "        super().m3()\n",
    "\n",
    "    def m1(self):\n",
    "        super().__init__()\n",
    "        super().m1()\n",
    "        super().m2()\n",
    "        super().m3()\n",
    "\n",
    "    @classmethod\n",
    "    def m2(cls):\n",
    "        super().m2()\n",
    "        super().m3()\n",
    "        # super().__init__() =====> TypeError\n",
    "        # super().m1() =====> TypeError\n",
    "    \n",
    "    @staticmethod\n",
    "    def m3():\n",
    "        # super().__init__() =====> TypeError\n",
    "        # super().m1() =====> TypeError\n",
    "        # super().m2() =====> TypeError\n",
    "        # super().m3() =====> TypeError\n",
    "        pass\n",
    "\n",
    "\n",
    "c = C()\n",
    "print(c)\n",
    "print(\"---------\")\n",
    "c.m1()\n",
    "print(\"---------\")\n",
    "c.m2()\n",
    "print(\"---------\")\n",
    "c.m3()"
   ]
  },
  {
   "cell_type": "markdown",
   "metadata": {},
   "source": [
    "1. From child class constructor and instance methods we can call parent class constructors, instance methods class methods adn static methods by using super().\n",
    "2. From child class, class method we cannot access parent class constructor and instance method directly by using super(), but we can access parent class static and class methods.\n",
    "- __Reason__ - Class method no way related to object . Without object also we can call class method. But constructor and instance methods are always associated with object.\n",
    "3. From child class static method, we cannot use super() to call parent class members. But indirectly we can call parent class static and class methods.\n"
   ]
  },
  {
   "cell_type": "code",
   "execution_count": 11,
   "metadata": {},
   "outputs": [
    {
     "name": "stdout",
     "output_type": "stream",
     "text": [
      "Parent Constructor\n",
      "Parent Instance method\n"
     ]
    }
   ],
   "source": [
    "#From class method of child class, how to call parent class constructor and instance methods directly?\n",
    "class P:\n",
    "    def __init__(self):\n",
    "        print(\"Parent Constructor\")\n",
    "    \n",
    "    def m1(self):\n",
    "        print(\"Parent Instance method\")\n",
    "\n",
    "class C(P):\n",
    "    @classmethod\n",
    "    def m2(cls):\n",
    "        super(C,cls).__init__(cls)\n",
    "        super(C,cls).m1(cls)\n",
    "\n",
    "C.m2()"
   ]
  },
  {
   "cell_type": "code",
   "execution_count": 14,
   "metadata": {},
   "outputs": [
    {
     "name": "stdout",
     "output_type": "stream",
     "text": [
      "Parent Class method\n",
      "Parent Static method\n"
     ]
    }
   ],
   "source": [
    "#How to call parent class static and class methods from child class static method?\n",
    "class P:\n",
    "    @classmethod\n",
    "    def m2(cls):\n",
    "        print(\"Parent Class method\")\n",
    "\n",
    "    @staticmethod\n",
    "    def m3():\n",
    "        print(\"Parent Static method\")\n",
    "\n",
    "\n",
    "class C(P):\n",
    "    @staticmethod\n",
    "    def m2():\n",
    "        super(C,C).m2()\n",
    "        super(C,C).m3()\n",
    "\n",
    "C.m2()"
   ]
  },
  {
   "cell_type": "code",
   "execution_count": null,
   "metadata": {},
   "outputs": [],
   "source": []
  }
 ],
 "metadata": {
  "kernelspec": {
   "display_name": "Python 3",
   "language": "python",
   "name": "python3"
  },
  "language_info": {
   "codemirror_mode": {
    "name": "ipython",
    "version": 3
   },
   "file_extension": ".py",
   "mimetype": "text/x-python",
   "name": "python",
   "nbconvert_exporter": "python",
   "pygments_lexer": "ipython3",
   "version": "3.10.0"
  }
 },
 "nbformat": 4,
 "nbformat_minor": 2
}
