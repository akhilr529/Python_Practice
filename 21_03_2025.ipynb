{
 "cells": [
  {
   "cell_type": "markdown",
   "metadata": {},
   "source": [
    "## Python Functions"
   ]
  },
  {
   "cell_type": "markdown",
   "metadata": {},
   "source": [
    "#### Need of functions and advantages\n",
    "- A group of repeatedly required statement is a function \n",
    "- Code reusability"
   ]
  },
  {
   "cell_type": "code",
   "execution_count": 1,
   "metadata": {},
   "outputs": [
    {
     "name": "stdout",
     "output_type": "stream",
     "text": [
      "The sum: 15\n",
      "The difference: -5\n",
      "The product: 50\n"
     ]
    }
   ],
   "source": [
    "def calculate(a,b):\n",
    "    print(\"The sum:\", a+b)\n",
    "    print(\"The difference:\", a-b)\n",
    "    print(\"The product:\", a*b)\n",
    "calculate(5,10)"
   ]
  },
  {
   "cell_type": "code",
   "execution_count": 2,
   "metadata": {},
   "outputs": [
    {
     "name": "stdout",
     "output_type": "stream",
     "text": [
      "The sum: 300\n",
      "The difference: 100\n",
      "The product: 20000\n"
     ]
    }
   ],
   "source": [
    "calculate(200,100)"
   ]
  },
  {
   "cell_type": "code",
   "execution_count": 3,
   "metadata": {},
   "outputs": [
    {
     "name": "stdout",
     "output_type": "stream",
     "text": [
      "The sum: 3000\n",
      "The difference: 1000\n",
      "The product: 2000000\n"
     ]
    }
   ],
   "source": [
    "calculate(2000,1000)"
   ]
  },
  {
   "cell_type": "markdown",
   "metadata": {},
   "source": [
    "#### Types of functions and syntax to define user define functions\n",
    "##### Types of functions\n",
    "1. Built-in functions/predefined functions\n",
    "    - id()\n",
    "    - type()\n",
    "    - print()\n",
    "    - input()\n",
    "    - eval()\n",
    "2. User defined functions/customized functions\n",
    "    - Synatx\n",
    "    - def function_name(parameters):\n",
    "        - \"docstring\"\n",
    "        - body\n",
    "        - return value \n",
    "\n",
    "    **1. def(mandatory)**,\n",
    "    **2. return(optional)**"
   ]
  },
  {
   "cell_type": "code",
   "execution_count": 4,
   "metadata": {},
   "outputs": [
    {
     "name": "stdout",
     "output_type": "stream",
     "text": [
      "Hello Friend, good morning\n"
     ]
    }
   ],
   "source": [
    "#Write a function to print wish message\n",
    "def wish():\n",
    "    print(\"Hello Friend, good morning\")\n",
    "wish()"
   ]
  },
  {
   "cell_type": "markdown",
   "metadata": {},
   "source": [
    "#### Function parameters and demo programs"
   ]
  },
  {
   "cell_type": "code",
   "execution_count": 5,
   "metadata": {},
   "outputs": [
    {
     "ename": "TypeError",
     "evalue": "wish() missing 1 required positional argument: 'name'",
     "output_type": "error",
     "traceback": [
      "\u001b[1;31m---------------------------------------------------------------------------\u001b[0m",
      "\u001b[1;31mTypeError\u001b[0m                                 Traceback (most recent call last)",
      "Cell \u001b[1;32mIn[5], line 4\u001b[0m\n\u001b[0;32m      2\u001b[0m \u001b[38;5;28;01mdef\u001b[39;00m \u001b[38;5;21mwish\u001b[39m(name):\n\u001b[0;32m      3\u001b[0m     \u001b[38;5;28mprint\u001b[39m(\u001b[38;5;124m\"\u001b[39m\u001b[38;5;124mHello\u001b[39m\u001b[38;5;124m\"\u001b[39m, name, \u001b[38;5;124m\"\u001b[39m\u001b[38;5;124mGood Evening\u001b[39m\u001b[38;5;124m\"\u001b[39m)\n\u001b[1;32m----> 4\u001b[0m \u001b[43mwish\u001b[49m\u001b[43m(\u001b[49m\u001b[43m)\u001b[49m\n",
      "\u001b[1;31mTypeError\u001b[0m: wish() missing 1 required positional argument: 'name'"
     ]
    }
   ],
   "source": [
    "#Write a function to take name of the student as input and print wish message by name?\n",
    "def wish(name):\n",
    "    print(\"Hello\", name, \"Good Evening\")\n",
    "wish()"
   ]
  },
  {
   "cell_type": "code",
   "execution_count": 6,
   "metadata": {},
   "outputs": [
    {
     "name": "stdout",
     "output_type": "stream",
     "text": [
      "Hello Akhil Good Evening\n"
     ]
    }
   ],
   "source": [
    "wish(\"Akhil\")"
   ]
  },
  {
   "cell_type": "code",
   "execution_count": 7,
   "metadata": {},
   "outputs": [
    {
     "name": "stdout",
     "output_type": "stream",
     "text": [
      "Hello Sunny Good Evening\n"
     ]
    }
   ],
   "source": [
    "wish(\"Sunny\")"
   ]
  },
  {
   "cell_type": "code",
   "execution_count": 8,
   "metadata": {},
   "outputs": [
    {
     "name": "stdout",
     "output_type": "stream",
     "text": [
      "The square of 4 is : 16\n"
     ]
    }
   ],
   "source": [
    "#Write a funtion to take a number as input and print its square value\n",
    "def squareit(num):\n",
    "    sq= num*num\n",
    "    print(\"The square of {} is : {}\".format(num, sq))\n",
    "\n",
    "squareit(4)"
   ]
  },
  {
   "cell_type": "code",
   "execution_count": 9,
   "metadata": {},
   "outputs": [
    {
     "name": "stdout",
     "output_type": "stream",
     "text": [
      "The square of 87 is : 7569\n"
     ]
    }
   ],
   "source": [
    "squareit(87)"
   ]
  },
  {
   "cell_type": "markdown",
   "metadata": {},
   "source": []
  },
  {
   "cell_type": "code",
   "execution_count": null,
   "metadata": {},
   "outputs": [],
   "source": [
    "\n"
   ]
  }
 ],
 "metadata": {
  "kernelspec": {
   "display_name": "Python 3",
   "language": "python",
   "name": "python3"
  },
  "language_info": {
   "codemirror_mode": {
    "name": "ipython",
    "version": 3
   },
   "file_extension": ".py",
   "mimetype": "text/x-python",
   "name": "python",
   "nbconvert_exporter": "python",
   "pygments_lexer": "ipython3",
   "version": "3.10.0"
  }
 },
 "nbformat": 4,
 "nbformat_minor": 2
}
