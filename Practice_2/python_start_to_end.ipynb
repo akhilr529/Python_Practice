{
 "cells": [
  {
   "cell_type": "markdown",
   "id": "6447cd8a",
   "metadata": {},
   "source": [
    "## **Reserved words**"
   ]
  },
  {
   "cell_type": "code",
   "execution_count": 1,
   "id": "ee9e78b4",
   "metadata": {},
   "outputs": [
    {
     "name": "stdout",
     "output_type": "stream",
     "text": [
      "['False', 'None', 'True', 'and', 'as', 'assert', 'async', 'await', 'break', 'class', 'continue', 'def', 'del', 'elif', 'else', 'except', 'finally', 'for', 'from', 'global', 'if', 'import', 'in', 'is', 'lambda', 'nonlocal', 'not', 'or', 'pass', 'raise', 'return', 'try', 'while', 'with', 'yield']\n"
     ]
    }
   ],
   "source": [
    "import keyword\n",
    "print(keyword.kwlist)"
   ]
  },
  {
   "cell_type": "code",
   "execution_count": 4,
   "id": "632b8314",
   "metadata": {},
   "outputs": [
    {
     "name": "stdout",
     "output_type": "stream",
     "text": [
      "Number of reserved words : 35\n"
     ]
    }
   ],
   "source": [
    "print(f\"Number of reserved words : {len(keyword.kwlist)}\")"
   ]
  },
  {
   "cell_type": "markdown",
   "id": "1c2749df",
   "metadata": {},
   "source": [
    "## Data types\n",
    "\n",
    "1. Int\n",
    "2. Float\n",
    "3. Complex\n",
    "4. Bool\n",
    "5. Str\n",
    "6. Bytes\n",
    "7. Bytearray\n",
    "8. Range\n",
    "9. List\n",
    "10. Tuple\n",
    "11. Set\n",
    "12. Frozenset\n",
    "13. Dict\n",
    "14. None"
   ]
  },
  {
   "cell_type": "markdown",
   "id": "5fdfbf75",
   "metadata": {},
   "source": [
    "1. int Data type:-\n",
    "    1. Decimal form\n",
    "    2. Binary form\n",
    "    3. Octal form\n",
    "    4. Hexa decimal form"
   ]
  },
  {
   "cell_type": "markdown",
   "id": "a244328b",
   "metadata": {},
   "source": [
    "### Base Conversations"
   ]
  },
  {
   "cell_type": "code",
   "execution_count": 10,
   "id": "fcda96b3",
   "metadata": {},
   "outputs": [
    {
     "name": "stdout",
     "output_type": "stream",
     "text": [
      "0b1111\n",
      "0b1111\n",
      "0b1111\n"
     ]
    }
   ],
   "source": [
    "# bin()\n",
    "print(bin(15))\n",
    "print(bin(0o17))\n",
    "print(bin(0xf))"
   ]
  },
  {
   "cell_type": "code",
   "execution_count": 11,
   "id": "8cdc4050",
   "metadata": {},
   "outputs": [
    {
     "name": "stdout",
     "output_type": "stream",
     "text": [
      "0o17\n",
      "0o17\n",
      "0o17\n"
     ]
    }
   ],
   "source": [
    "#oct()\n",
    "print(oct(15))\n",
    "print(oct(0b1111))\n",
    "print(oct(0xf))"
   ]
  },
  {
   "cell_type": "code",
   "execution_count": 12,
   "id": "d47bca7a",
   "metadata": {},
   "outputs": [
    {
     "name": "stdout",
     "output_type": "stream",
     "text": [
      "0xf\n",
      "0xf\n",
      "0xf\n"
     ]
    }
   ],
   "source": [
    "#hex()\n",
    "print(hex(15))\n",
    "print(hex(0b1111))\n",
    "print(hex(0o17))"
   ]
  },
  {
   "cell_type": "markdown",
   "id": "6575f3db",
   "metadata": {},
   "source": [
    "2. Float Data Type"
   ]
  },
  {
   "cell_type": "code",
   "execution_count": 13,
   "id": "f7cf83de",
   "metadata": {},
   "outputs": [
    {
     "name": "stdout",
     "output_type": "stream",
     "text": [
      "<class 'float'>\n",
      "1.234\n"
     ]
    }
   ],
   "source": [
    "f=1.234\n",
    "print(type(f))\n",
    "print(f)"
   ]
  },
  {
   "cell_type": "code",
   "execution_count": 15,
   "id": "870e638c",
   "metadata": {},
   "outputs": [
    {
     "name": "stdout",
     "output_type": "stream",
     "text": [
      "1200.0\n"
     ]
    }
   ],
   "source": [
    "f = 1.2e3 # e is exponential\n",
    "print(f)"
   ]
  },
  {
   "cell_type": "markdown",
   "id": "5fe74b75",
   "metadata": {},
   "source": [
    "3. Complex Data Types"
   ]
  },
  {
   "cell_type": "code",
   "execution_count": 22,
   "id": "5eedf5c4",
   "metadata": {},
   "outputs": [
    {
     "name": "stdout",
     "output_type": "stream",
     "text": [
      "(30+4j)\n",
      "<class 'complex'>\n"
     ]
    }
   ],
   "source": [
    "a= 10+1.5j\n",
    "b= 20+2.5j\n",
    "c=a+b\n",
    "print(c)\n",
    "print(type(c))"
   ]
  },
  {
   "cell_type": "code",
   "execution_count": 23,
   "id": "09e05225",
   "metadata": {},
   "outputs": [
    {
     "name": "stdout",
     "output_type": "stream",
     "text": [
      "30.0\n",
      "4.0\n"
     ]
    }
   ],
   "source": [
    "print(c.real)\n",
    "print(c.imag)"
   ]
  },
  {
   "cell_type": "markdown",
   "id": "955fe8a1",
   "metadata": {},
   "source": [
    "4. bool data type"
   ]
  },
  {
   "cell_type": "code",
   "execution_count": 24,
   "id": "cd573dbb",
   "metadata": {},
   "outputs": [
    {
     "name": "stdout",
     "output_type": "stream",
     "text": [
      "<class 'bool'>\n"
     ]
    }
   ],
   "source": [
    "b = True\n",
    "print(type(b))"
   ]
  },
  {
   "cell_type": "code",
   "execution_count": 28,
   "id": "d2f9fd98",
   "metadata": {},
   "outputs": [
    {
     "name": "stdout",
     "output_type": "stream",
     "text": [
      "c = False type of c is <class 'bool'>\n"
     ]
    }
   ],
   "source": [
    "a=10\n",
    "b=11\n",
    "c=a>b\n",
    "print(\"c =\", c,\"type of c is\", type(c))\n"
   ]
  },
  {
   "cell_type": "markdown",
   "id": "393e5e98",
   "metadata": {},
   "source": [
    "5. Str Data Type"
   ]
  },
  {
   "cell_type": "code",
   "execution_count": 29,
   "id": "bfb5ec55",
   "metadata": {},
   "outputs": [
    {
     "name": "stdout",
     "output_type": "stream",
     "text": [
      "<class 'str'>\n",
      "<class 'str'>\n"
     ]
    }
   ],
   "source": [
    "s1= \"Akhil\"\n",
    "s2= 'Akhil'\n",
    "print(type(s1))\n",
    "print(type(s2))"
   ]
  },
  {
   "cell_type": "code",
   "execution_count": 30,
   "id": "d8581126",
   "metadata": {},
   "outputs": [
    {
     "name": "stdout",
     "output_type": "stream",
     "text": [
      "Hi I am \n",
      "Akhil\n",
      "<class 'str'>\n"
     ]
    }
   ],
   "source": [
    "s1 = \"\"\"Hi I am \n",
    "Akhil\"\"\"\n",
    "print(s1)\n",
    "print(type(s1))"
   ]
  },
  {
   "cell_type": "code",
   "execution_count": 31,
   "id": "89f6c363",
   "metadata": {},
   "outputs": [
    {
     "name": "stdout",
     "output_type": "stream",
     "text": [
      "This is \" character\n"
     ]
    }
   ],
   "source": [
    "s1= '''This is \" character'''\n",
    "print(s1)"
   ]
  },
  {
   "cell_type": "code",
   "execution_count": 32,
   "id": "15fc03b8",
   "metadata": {},
   "outputs": [
    {
     "name": "stdout",
     "output_type": "stream",
     "text": [
      "This is \" character\n"
     ]
    }
   ],
   "source": [
    "s1= 'This is \" character'\n",
    "print(s1)"
   ]
  },
  {
   "cell_type": "code",
   "execution_count": 33,
   "id": "c746701b",
   "metadata": {},
   "outputs": [
    {
     "name": "stdout",
     "output_type": "stream",
     "text": [
      "This \"Python notebook is very helpful\" for python students\n"
     ]
    }
   ],
   "source": [
    "s1= '''This \"Python notebook is very helpful\" for python students'''\n",
    "print(s1)"
   ]
  },
  {
   "cell_type": "markdown",
   "id": "dcb89b5a",
   "metadata": {},
   "source": [
    "### Slice"
   ]
  },
  {
   "cell_type": "code",
   "execution_count": 34,
   "id": "ba673a96",
   "metadata": {},
   "outputs": [
    {
     "name": "stdout",
     "output_type": "stream",
     "text": [
      "A\n",
      "k\n",
      "l\n"
     ]
    }
   ],
   "source": [
    "s=\"Akhil\"\n",
    "print(s[0])\n",
    "print(s[1])\n",
    "print(s[-1])"
   ]
  },
  {
   "cell_type": "code",
   "execution_count": 36,
   "id": "20c88aa5",
   "metadata": {},
   "outputs": [
    {
     "ename": "IndexError",
     "evalue": "string index out of range",
     "output_type": "error",
     "traceback": [
      "\u001b[1;31m---------------------------------------------------------------------------\u001b[0m",
      "\u001b[1;31mIndexError\u001b[0m                                Traceback (most recent call last)",
      "Cell \u001b[1;32mIn[36], line 1\u001b[0m\n\u001b[1;32m----> 1\u001b[0m \u001b[38;5;28mprint\u001b[39m(\u001b[43ms\u001b[49m\u001b[43m[\u001b[49m\u001b[38;5;241;43m90\u001b[39;49m\u001b[43m]\u001b[49m)\n",
      "\u001b[1;31mIndexError\u001b[0m: string index out of range"
     ]
    }
   ],
   "source": [
    "print(s[90])"
   ]
  },
  {
   "cell_type": "code",
   "execution_count": 37,
   "id": "2bb8b3b0",
   "metadata": {},
   "outputs": [
    {
     "name": "stdout",
     "output_type": "stream",
     "text": [
      "khil\n",
      "khil\n",
      "Akhi\n",
      "Akhil\n",
      "AkhilAkhilAkhil\n",
      "5\n"
     ]
    }
   ],
   "source": [
    "print(s[1:90])\n",
    "print(s[1:])\n",
    "print(s[:4])\n",
    "print(s[:])\n",
    "print(s*3)\n",
    "print(len(s))"
   ]
  },
  {
   "cell_type": "markdown",
   "id": "fee1b2f0",
   "metadata": {},
   "source": [
    "### Type casting"
   ]
  },
  {
   "cell_type": "code",
   "execution_count": 38,
   "id": "7a0f7c57",
   "metadata": {},
   "outputs": [
    {
     "name": "stdout",
     "output_type": "stream",
     "text": [
      "123\n"
     ]
    }
   ],
   "source": [
    "#int()\n",
    "print(int(123.689))"
   ]
  },
  {
   "cell_type": "code",
   "execution_count": 39,
   "id": "0331459a",
   "metadata": {},
   "outputs": [
    {
     "ename": "TypeError",
     "evalue": "int() argument must be a string, a bytes-like object or a real number, not 'complex'",
     "output_type": "error",
     "traceback": [
      "\u001b[1;31m---------------------------------------------------------------------------\u001b[0m",
      "\u001b[1;31mTypeError\u001b[0m                                 Traceback (most recent call last)",
      "Cell \u001b[1;32mIn[39], line 1\u001b[0m\n\u001b[1;32m----> 1\u001b[0m \u001b[38;5;28;43mint\u001b[39;49m\u001b[43m(\u001b[49m\u001b[38;5;241;43m10\u001b[39;49m\u001b[38;5;241;43m+\u001b[39;49m\u001b[38;5;241;43m5\u001b[39;49m\u001b[43mj\u001b[49m\u001b[43m)\u001b[49m\n",
      "\u001b[1;31mTypeError\u001b[0m: int() argument must be a string, a bytes-like object or a real number, not 'complex'"
     ]
    }
   ],
   "source": [
    "int(10+5j)"
   ]
  },
  {
   "cell_type": "code",
   "execution_count": 40,
   "id": "760eeb99",
   "metadata": {},
   "outputs": [
    {
     "name": "stdout",
     "output_type": "stream",
     "text": [
      "1\n",
      "0\n",
      "10\n"
     ]
    }
   ],
   "source": [
    "print(int(True))\n",
    "print(int(False))\n",
    "print(int(\"10\"))\n"
   ]
  },
  {
   "cell_type": "code",
   "execution_count": 41,
   "id": "354a3475",
   "metadata": {},
   "outputs": [
    {
     "ename": "ValueError",
     "evalue": "invalid literal for int() with base 10: '10.5'",
     "output_type": "error",
     "traceback": [
      "\u001b[1;31m---------------------------------------------------------------------------\u001b[0m",
      "\u001b[1;31mValueError\u001b[0m                                Traceback (most recent call last)",
      "Cell \u001b[1;32mIn[41], line 1\u001b[0m\n\u001b[1;32m----> 1\u001b[0m \u001b[38;5;28mprint\u001b[39m(\u001b[38;5;28;43mint\u001b[39;49m\u001b[43m(\u001b[49m\u001b[38;5;124;43m\"\u001b[39;49m\u001b[38;5;124;43m10.5\u001b[39;49m\u001b[38;5;124;43m\"\u001b[39;49m\u001b[43m)\u001b[49m)\n",
      "\u001b[1;31mValueError\u001b[0m: invalid literal for int() with base 10: '10.5'"
     ]
    }
   ],
   "source": [
    "print(int(\"10.5\"))"
   ]
  },
  {
   "cell_type": "code",
   "execution_count": 42,
   "id": "fd9a0b51",
   "metadata": {},
   "outputs": [
    {
     "ename": "ValueError",
     "evalue": "invalid literal for int() with base 10: 'ten'",
     "output_type": "error",
     "traceback": [
      "\u001b[1;31m---------------------------------------------------------------------------\u001b[0m",
      "\u001b[1;31mValueError\u001b[0m                                Traceback (most recent call last)",
      "Cell \u001b[1;32mIn[42], line 1\u001b[0m\n\u001b[1;32m----> 1\u001b[0m \u001b[38;5;28;43mint\u001b[39;49m\u001b[43m(\u001b[49m\u001b[38;5;124;43m\"\u001b[39;49m\u001b[38;5;124;43mten\u001b[39;49m\u001b[38;5;124;43m\"\u001b[39;49m\u001b[43m)\u001b[49m\n",
      "\u001b[1;31mValueError\u001b[0m: invalid literal for int() with base 10: 'ten'"
     ]
    }
   ],
   "source": [
    "int(\"ten\")"
   ]
  },
  {
   "cell_type": "code",
   "execution_count": 43,
   "id": "bd370275",
   "metadata": {},
   "outputs": [
    {
     "ename": "ValueError",
     "evalue": "invalid literal for int() with base 10: '0B1111'",
     "output_type": "error",
     "traceback": [
      "\u001b[1;31m---------------------------------------------------------------------------\u001b[0m",
      "\u001b[1;31mValueError\u001b[0m                                Traceback (most recent call last)",
      "Cell \u001b[1;32mIn[43], line 1\u001b[0m\n\u001b[1;32m----> 1\u001b[0m \u001b[38;5;28;43mint\u001b[39;49m\u001b[43m(\u001b[49m\u001b[38;5;124;43m\"\u001b[39;49m\u001b[38;5;124;43m0B1111\u001b[39;49m\u001b[38;5;124;43m\"\u001b[39;49m\u001b[43m)\u001b[49m\n",
      "\u001b[1;31mValueError\u001b[0m: invalid literal for int() with base 10: '0B1111'"
     ]
    }
   ],
   "source": [
    "int(\"0B1111\")"
   ]
  },
  {
   "cell_type": "code",
   "execution_count": 44,
   "id": "433f8057",
   "metadata": {},
   "outputs": [
    {
     "name": "stdout",
     "output_type": "stream",
     "text": [
      "10.0\n"
     ]
    },
    {
     "ename": "TypeError",
     "evalue": "float() argument must be a string or a real number, not 'complex'",
     "output_type": "error",
     "traceback": [
      "\u001b[1;31m---------------------------------------------------------------------------\u001b[0m",
      "\u001b[1;31mTypeError\u001b[0m                                 Traceback (most recent call last)",
      "Cell \u001b[1;32mIn[44], line 3\u001b[0m\n\u001b[0;32m      1\u001b[0m \u001b[38;5;66;03m#float\u001b[39;00m\n\u001b[0;32m      2\u001b[0m \u001b[38;5;28mprint\u001b[39m(\u001b[38;5;28mfloat\u001b[39m(\u001b[38;5;241m10\u001b[39m))\n\u001b[1;32m----> 3\u001b[0m \u001b[38;5;28mprint\u001b[39m(\u001b[38;5;28;43mfloat\u001b[39;49m\u001b[43m(\u001b[49m\u001b[38;5;241;43m10\u001b[39;49m\u001b[38;5;241;43m+\u001b[39;49m\u001b[38;5;241;43m5\u001b[39;49m\u001b[43mj\u001b[49m\u001b[43m)\u001b[49m)\n",
      "\u001b[1;31mTypeError\u001b[0m: float() argument must be a string or a real number, not 'complex'"
     ]
    }
   ],
   "source": [
    "#float\n",
    "print(float(10))\n",
    "print(float(10+5j))"
   ]
  },
  {
   "cell_type": "code",
   "execution_count": 46,
   "id": "b72616c6",
   "metadata": {},
   "outputs": [
    {
     "name": "stdout",
     "output_type": "stream",
     "text": [
      "1.0\n",
      "0.0\n",
      "10.0\n",
      "10.5\n"
     ]
    }
   ],
   "source": [
    "print(float(True))\n",
    "print(float(False))\n",
    "print(float(\"10\"))\n",
    "print(float(\"10.5\"))"
   ]
  },
  {
   "cell_type": "code",
   "execution_count": 47,
   "id": "658ace2d",
   "metadata": {},
   "outputs": [
    {
     "ename": "ValueError",
     "evalue": "could not convert string to float: 'ten'",
     "output_type": "error",
     "traceback": [
      "\u001b[1;31m---------------------------------------------------------------------------\u001b[0m",
      "\u001b[1;31mValueError\u001b[0m                                Traceback (most recent call last)",
      "Cell \u001b[1;32mIn[47], line 1\u001b[0m\n\u001b[1;32m----> 1\u001b[0m \u001b[38;5;28;43mfloat\u001b[39;49m\u001b[43m(\u001b[49m\u001b[38;5;124;43m\"\u001b[39;49m\u001b[38;5;124;43mten\u001b[39;49m\u001b[38;5;124;43m\"\u001b[39;49m\u001b[43m)\u001b[49m\n",
      "\u001b[1;31mValueError\u001b[0m: could not convert string to float: 'ten'"
     ]
    }
   ],
   "source": [
    "float(\"ten\")"
   ]
  },
  {
   "cell_type": "code",
   "execution_count": 49,
   "id": "bc096f35",
   "metadata": {},
   "outputs": [
    {
     "ename": "ValueError",
     "evalue": "could not convert string to float: '0B1111'",
     "output_type": "error",
     "traceback": [
      "\u001b[1;31m---------------------------------------------------------------------------\u001b[0m",
      "\u001b[1;31mValueError\u001b[0m                                Traceback (most recent call last)",
      "Cell \u001b[1;32mIn[49], line 1\u001b[0m\n\u001b[1;32m----> 1\u001b[0m \u001b[38;5;28;43mfloat\u001b[39;49m\u001b[43m(\u001b[49m\u001b[38;5;124;43m\"\u001b[39;49m\u001b[38;5;124;43m0B1111\u001b[39;49m\u001b[38;5;124;43m\"\u001b[39;49m\u001b[43m)\u001b[49m\n",
      "\u001b[1;31mValueError\u001b[0m: could not convert string to float: '0B1111'"
     ]
    }
   ],
   "source": [
    "float(\"0B1111\")"
   ]
  },
  {
   "cell_type": "code",
   "execution_count": 51,
   "id": "2f0aec76",
   "metadata": {},
   "outputs": [
    {
     "name": "stdout",
     "output_type": "stream",
     "text": [
      "(10+0j)\n",
      "(10.5+0j)\n",
      "(1+0j)\n",
      "0j\n",
      "(10+0j)\n"
     ]
    },
    {
     "ename": "ValueError",
     "evalue": "complex() arg is a malformed string",
     "output_type": "error",
     "traceback": [
      "\u001b[1;31m---------------------------------------------------------------------------\u001b[0m",
      "\u001b[1;31mValueError\u001b[0m                                Traceback (most recent call last)",
      "Cell \u001b[1;32mIn[51], line 7\u001b[0m\n\u001b[0;32m      5\u001b[0m \u001b[38;5;28mprint\u001b[39m(\u001b[38;5;28mcomplex\u001b[39m(\u001b[38;5;28;01mFalse\u001b[39;00m))\n\u001b[0;32m      6\u001b[0m \u001b[38;5;28mprint\u001b[39m(\u001b[38;5;28mcomplex\u001b[39m(\u001b[38;5;124m\"\u001b[39m\u001b[38;5;124m10\u001b[39m\u001b[38;5;124m\"\u001b[39m))\n\u001b[1;32m----> 7\u001b[0m \u001b[38;5;28mprint\u001b[39m(\u001b[38;5;28;43mcomplex\u001b[39;49m\u001b[43m(\u001b[49m\u001b[38;5;124;43m\"\u001b[39;49m\u001b[38;5;124;43mten\u001b[39;49m\u001b[38;5;124;43m\"\u001b[39;49m\u001b[43m)\u001b[49m)\n",
      "\u001b[1;31mValueError\u001b[0m: complex() arg is a malformed string"
     ]
    }
   ],
   "source": [
    "#complex()\n",
    "print(complex(10))\n",
    "print(complex(10.5))\n",
    "print(complex(True))\n",
    "print(complex(False))\n",
    "print(complex(\"10\"))\n",
    "print(complex(\"ten\"))"
   ]
  },
  {
   "cell_type": "code",
   "execution_count": 52,
   "id": "d4c437c9",
   "metadata": {},
   "outputs": [
    {
     "data": {
      "text/plain": [
       "(10+2j)"
      ]
     },
     "execution_count": 52,
     "metadata": {},
     "output_type": "execute_result"
    }
   ],
   "source": [
    "complex(10,2)"
   ]
  },
  {
   "cell_type": "code",
   "execution_count": 53,
   "id": "6466ba9b",
   "metadata": {},
   "outputs": [
    {
     "data": {
      "text/plain": [
       "(1+0j)"
      ]
     },
     "execution_count": 53,
     "metadata": {},
     "output_type": "execute_result"
    }
   ],
   "source": [
    "complex(True,False)"
   ]
  },
  {
   "cell_type": "code",
   "execution_count": 56,
   "id": "fc5e2c28",
   "metadata": {},
   "outputs": [
    {
     "name": "stdout",
     "output_type": "stream",
     "text": [
      "False\n",
      "True\n",
      "True\n",
      "True\n",
      "False\n",
      "True\n",
      "False\n",
      "True\n",
      "True\n",
      "True\n",
      "False\n"
     ]
    }
   ],
   "source": [
    "#bool\n",
    "\n",
    "print(bool(0))\n",
    "print(bool(1))\n",
    "print(bool(10.5))\n",
    "print(bool(0.78))\n",
    "print(bool(0.0))\n",
    "print(bool(0+7j))\n",
    "print(bool(0+0j))\n",
    "print(bool(0-2j))\n",
    "print(bool(\"A\"))\n",
    "print(bool(\"K\"))\n",
    "print(bool(\"\"))"
   ]
  },
  {
   "cell_type": "code",
   "execution_count": 57,
   "id": "3a7565c9",
   "metadata": {},
   "outputs": [
    {
     "name": "stdout",
     "output_type": "stream",
     "text": [
      "10\n",
      "(10+7j)\n",
      "True\n",
      "10.5\n"
     ]
    }
   ],
   "source": [
    "#str\n",
    "\n",
    "print(str(10))\n",
    "print(str(10+7j))\n",
    "print(str(True))\n",
    "print(str(10.5))"
   ]
  },
  {
   "cell_type": "code",
   "execution_count": 58,
   "id": "4bb9d75f",
   "metadata": {},
   "outputs": [
    {
     "name": "stdout",
     "output_type": "stream",
     "text": [
      "True\n",
      "3251211010576\n",
      "3251211010576\n"
     ]
    }
   ],
   "source": [
    "a=10\n",
    "b=10\n",
    "print(a is b)\n",
    "print(id(a))\n",
    "print(id(b))"
   ]
  },
  {
   "cell_type": "markdown",
   "id": "6fd9d4bc",
   "metadata": {},
   "source": [
    "6. bytes data type"
   ]
  },
  {
   "cell_type": "code",
   "execution_count": 59,
   "id": "05428c9b",
   "metadata": {},
   "outputs": [
    {
     "name": "stdout",
     "output_type": "stream",
     "text": [
      "<class 'bytes'>\n",
      "10\n",
      "50\n",
      "10\n",
      "20\n",
      "30\n",
      "40\n",
      "50\n"
     ]
    }
   ],
   "source": [
    "x= [10,20,30,40,50]\n",
    "b= bytes(x)\n",
    "print(type(b))\n",
    "print(b[0])\n",
    "print(b[-1])\n",
    "for i in b:\n",
    "    print(i)"
   ]
  },
  {
   "cell_type": "code",
   "execution_count": 60,
   "id": "18147eda",
   "metadata": {},
   "outputs": [
    {
     "ename": "TypeError",
     "evalue": "'bytes' object does not support item assignment",
     "output_type": "error",
     "traceback": [
      "\u001b[1;31m---------------------------------------------------------------------------\u001b[0m",
      "\u001b[1;31mTypeError\u001b[0m                                 Traceback (most recent call last)",
      "Cell \u001b[1;32mIn[60], line 1\u001b[0m\n\u001b[1;32m----> 1\u001b[0m \u001b[43mb\u001b[49m\u001b[43m[\u001b[49m\u001b[38;5;241;43m0\u001b[39;49m\u001b[43m]\u001b[49m \u001b[38;5;241m=\u001b[39m \u001b[38;5;241m6\u001b[39m\n",
      "\u001b[1;31mTypeError\u001b[0m: 'bytes' object does not support item assignment"
     ]
    }
   ],
   "source": [
    "b[0] = 6"
   ]
  },
  {
   "cell_type": "markdown",
   "id": "e4184fb5",
   "metadata": {},
   "source": [
    "7. bytearray data type"
   ]
  },
  {
   "cell_type": "code",
   "execution_count": 61,
   "id": "4f110e7b",
   "metadata": {},
   "outputs": [
    {
     "name": "stdout",
     "output_type": "stream",
     "text": [
      "<class 'bytearray'>\n",
      "10\n",
      "50\n",
      "10\n",
      "20\n",
      "30\n",
      "40\n",
      "50\n"
     ]
    }
   ],
   "source": [
    "x= [10,20,30,40,50]\n",
    "b= bytearray(x)\n",
    "print(type(b))\n",
    "print(b[0])\n",
    "print(b[-1])\n",
    "for i in b:\n",
    "    print(i)"
   ]
  },
  {
   "cell_type": "code",
   "execution_count": 62,
   "id": "e57b689d",
   "metadata": {},
   "outputs": [
    {
     "name": "stdout",
     "output_type": "stream",
     "text": [
      "100\n",
      "20\n",
      "30\n",
      "40\n",
      "50\n"
     ]
    }
   ],
   "source": [
    "b[0] =100\n",
    "\n",
    "for i in b:\n",
    "    print(i)"
   ]
  },
  {
   "cell_type": "markdown",
   "id": "e91f67a9",
   "metadata": {},
   "source": [
    "8. list data type"
   ]
  },
  {
   "cell_type": "code",
   "execution_count": 63,
   "id": "6a22d37c",
   "metadata": {},
   "outputs": [
    {
     "name": "stdout",
     "output_type": "stream",
     "text": [
      "[10, 20, 'akhil', True, 76]\n"
     ]
    }
   ],
   "source": [
    "list = [10,20,\"akhil\", True, 76]\n",
    "print(list)"
   ]
  },
  {
   "cell_type": "code",
   "execution_count": 64,
   "id": "719d2c6d",
   "metadata": {},
   "outputs": [
    {
     "name": "stdout",
     "output_type": "stream",
     "text": [
      "10\n",
      "20\n",
      "akhil\n",
      "True\n",
      "76\n"
     ]
    }
   ],
   "source": [
    "for i in list:print(i)"
   ]
  },
  {
   "cell_type": "code",
   "execution_count": 65,
   "id": "526d0b6e",
   "metadata": {},
   "outputs": [
    {
     "name": "stdout",
     "output_type": "stream",
     "text": [
      "[10, 20, 'akhil', True, 76, 'hello']\n",
      "[20, 'akhil', True, 76, 'hello']\n",
      "[20, 'akhil', True, 76, 'hello', 20, 'akhil', True, 76, 'hello']\n"
     ]
    }
   ],
   "source": [
    "list.append(\"hello\")\n",
    "print(list)\n",
    "list.remove(10)\n",
    "print(list)\n",
    "list2 = list*2\n",
    "print(list2)"
   ]
  },
  {
   "cell_type": "markdown",
   "id": "5476dfd4",
   "metadata": {},
   "source": [
    "9. tuple data type:-"
   ]
  },
  {
   "cell_type": "code",
   "execution_count": 66,
   "id": "c060baf0",
   "metadata": {},
   "outputs": [
    {
     "name": "stdout",
     "output_type": "stream",
     "text": [
      "<class 'tuple'>\n",
      "10\n"
     ]
    }
   ],
   "source": [
    "t= (10,20,30,40,50,\"akhil\")\n",
    "print(type(t))\n",
    "print(t[0])"
   ]
  },
  {
   "cell_type": "code",
   "execution_count": 67,
   "id": "78b2fe12",
   "metadata": {},
   "outputs": [
    {
     "ename": "TypeError",
     "evalue": "'tuple' object does not support item assignment",
     "output_type": "error",
     "traceback": [
      "\u001b[1;31m---------------------------------------------------------------------------\u001b[0m",
      "\u001b[1;31mTypeError\u001b[0m                                 Traceback (most recent call last)",
      "Cell \u001b[1;32mIn[67], line 1\u001b[0m\n\u001b[1;32m----> 1\u001b[0m \u001b[43mt\u001b[49m\u001b[43m[\u001b[49m\u001b[38;5;241;43m0\u001b[39;49m\u001b[43m]\u001b[49m \u001b[38;5;241m=\u001b[39m\u001b[38;5;241m100\u001b[39m\n",
      "\u001b[1;31mTypeError\u001b[0m: 'tuple' object does not support item assignment"
     ]
    }
   ],
   "source": [
    "t[0] =100\n"
   ]
  },
  {
   "cell_type": "markdown",
   "id": "76f8a859",
   "metadata": {},
   "source": [
    "10. Range"
   ]
  },
  {
   "cell_type": "code",
   "execution_count": 71,
   "id": "0eed81f7",
   "metadata": {},
   "outputs": [
    {
     "name": "stdout",
     "output_type": "stream",
     "text": [
      "0 1 2 3 4 5 6 7 8 9 "
     ]
    }
   ],
   "source": [
    "r =range(10)\n",
    "for i in r:print(i, end=\" \")"
   ]
  },
  {
   "cell_type": "code",
   "execution_count": 72,
   "id": "9604e54b",
   "metadata": {},
   "outputs": [
    {
     "name": "stdout",
     "output_type": "stream",
     "text": [
      "10 11 12 13 14 15 16 17 18 19 "
     ]
    }
   ],
   "source": [
    "r =range(10, 20)\n",
    "for i in r:print(i, end=\" \")"
   ]
  },
  {
   "cell_type": "code",
   "execution_count": 73,
   "id": "6f2c9388",
   "metadata": {},
   "outputs": [
    {
     "name": "stdout",
     "output_type": "stream",
     "text": [
      "10 12 14 16 18 "
     ]
    }
   ],
   "source": [
    "r =range(10, 20, 2)\n",
    "for i in r:print(i, end=\" \")"
   ]
  },
  {
   "cell_type": "code",
   "execution_count": 74,
   "id": "52f2db01",
   "metadata": {},
   "outputs": [
    {
     "name": "stdout",
     "output_type": "stream",
     "text": [
      "10\n",
      "18\n"
     ]
    },
    {
     "ename": "IndexError",
     "evalue": "range object index out of range",
     "output_type": "error",
     "traceback": [
      "\u001b[1;31m---------------------------------------------------------------------------\u001b[0m",
      "\u001b[1;31mIndexError\u001b[0m                                Traceback (most recent call last)",
      "Cell \u001b[1;32mIn[74], line 3\u001b[0m\n\u001b[0;32m      1\u001b[0m \u001b[38;5;28mprint\u001b[39m(r[\u001b[38;5;241m0\u001b[39m])\n\u001b[0;32m      2\u001b[0m \u001b[38;5;28mprint\u001b[39m(r[\u001b[38;5;241m-\u001b[39m\u001b[38;5;241m1\u001b[39m])\n\u001b[1;32m----> 3\u001b[0m \u001b[38;5;28mprint\u001b[39m(\u001b[43mr\u001b[49m\u001b[43m[\u001b[49m\u001b[38;5;241;43m90\u001b[39;49m\u001b[43m]\u001b[49m)\n",
      "\u001b[1;31mIndexError\u001b[0m: range object index out of range"
     ]
    }
   ],
   "source": [
    "print(r[0])\n",
    "print(r[-1])\n",
    "print(r[90])"
   ]
  },
  {
   "cell_type": "code",
   "execution_count": 75,
   "id": "39166ef1",
   "metadata": {},
   "outputs": [
    {
     "ename": "TypeError",
     "evalue": "'range' object does not support item assignment",
     "output_type": "error",
     "traceback": [
      "\u001b[1;31m---------------------------------------------------------------------------\u001b[0m",
      "\u001b[1;31mTypeError\u001b[0m                                 Traceback (most recent call last)",
      "Cell \u001b[1;32mIn[75], line 1\u001b[0m\n\u001b[1;32m----> 1\u001b[0m \u001b[43mr\u001b[49m\u001b[43m[\u001b[49m\u001b[38;5;241;43m0\u001b[39;49m\u001b[43m]\u001b[49m \u001b[38;5;241m=\u001b[39m \u001b[38;5;241m100\u001b[39m\n",
      "\u001b[1;31mTypeError\u001b[0m: 'range' object does not support item assignment"
     ]
    }
   ],
   "source": [
    "r[0] = 100"
   ]
  },
  {
   "cell_type": "code",
   "execution_count": 1,
   "id": "89bad7bf",
   "metadata": {},
   "outputs": [
    {
     "name": "stdout",
     "output_type": "stream",
     "text": [
      "[0, 1, 2, 3, 4, 5, 6, 7, 8, 9]\n"
     ]
    }
   ],
   "source": [
    "l = list(range(10))\n",
    "print(l)"
   ]
  },
  {
   "cell_type": "markdown",
   "id": "def3d3b0",
   "metadata": {},
   "source": [
    "11. set data type"
   ]
  },
  {
   "cell_type": "code",
   "execution_count": 2,
   "id": "73041d8d",
   "metadata": {},
   "outputs": [
    {
     "name": "stdout",
     "output_type": "stream",
     "text": [
      "{20, 40, 10, 'akhil', 30}\n"
     ]
    }
   ],
   "source": [
    "s= {10,20,30,40,20,10,\"akhil\", 10}\n",
    "print(s)"
   ]
  },
  {
   "cell_type": "code",
   "execution_count": 3,
   "id": "2816a729",
   "metadata": {},
   "outputs": [
    {
     "ename": "TypeError",
     "evalue": "'set' object is not subscriptable",
     "output_type": "error",
     "traceback": [
      "\u001b[1;31m---------------------------------------------------------------------------\u001b[0m",
      "\u001b[1;31mTypeError\u001b[0m                                 Traceback (most recent call last)",
      "Cell \u001b[1;32mIn[3], line 1\u001b[0m\n\u001b[1;32m----> 1\u001b[0m \u001b[43ms\u001b[49m\u001b[43m[\u001b[49m\u001b[38;5;241;43m0\u001b[39;49m\u001b[43m]\u001b[49m\n",
      "\u001b[1;31mTypeError\u001b[0m: 'set' object is not subscriptable"
     ]
    }
   ],
   "source": [
    "s[0]"
   ]
  },
  {
   "cell_type": "code",
   "execution_count": 4,
   "id": "ef272079",
   "metadata": {},
   "outputs": [
    {
     "name": "stdout",
     "output_type": "stream",
     "text": [
      "{'hello', 20, 70, 40, 10, 'akhil', 30}\n"
     ]
    }
   ],
   "source": [
    "s.add(70)\n",
    "s.add(\"hello\")\n",
    "print(s)"
   ]
  },
  {
   "cell_type": "code",
   "execution_count": 5,
   "id": "1113eb86",
   "metadata": {},
   "outputs": [
    {
     "name": "stdout",
     "output_type": "stream",
     "text": [
      "{'hello', 70, 40, 10, 'akhil', 30}\n"
     ]
    }
   ],
   "source": [
    "s.remove(20)\n",
    "print(s)"
   ]
  },
  {
   "cell_type": "markdown",
   "id": "e3b24e7f",
   "metadata": {},
   "source": [
    "12. frozenset data type"
   ]
  },
  {
   "cell_type": "code",
   "execution_count": 6,
   "id": "5bcb0258",
   "metadata": {},
   "outputs": [
    {
     "name": "stdout",
     "output_type": "stream",
     "text": [
      "frozenset({40, 10, 20, 30})\n"
     ]
    }
   ],
   "source": [
    "s={10,20,30,40}\n",
    "fs = frozenset(s)\n",
    "print(fs)\n"
   ]
  },
  {
   "cell_type": "code",
   "execution_count": 7,
   "id": "f89b0e9b",
   "metadata": {},
   "outputs": [
    {
     "name": "stdout",
     "output_type": "stream",
     "text": [
      "40 10 20 30 "
     ]
    }
   ],
   "source": [
    "for i in fs:print(i, end=\" \")"
   ]
  },
  {
   "cell_type": "code",
   "execution_count": 11,
   "id": "9fcc6ef0",
   "metadata": {},
   "outputs": [
    {
     "ename": "AttributeError",
     "evalue": "'frozenset' object has no attribute 'add'",
     "output_type": "error",
     "traceback": [
      "\u001b[1;31m---------------------------------------------------------------------------\u001b[0m",
      "\u001b[1;31mAttributeError\u001b[0m                            Traceback (most recent call last)",
      "Cell \u001b[1;32mIn[11], line 1\u001b[0m\n\u001b[1;32m----> 1\u001b[0m \u001b[43mfs\u001b[49m\u001b[38;5;241;43m.\u001b[39;49m\u001b[43madd\u001b[49m(\u001b[38;5;241m789\u001b[39m)\n",
      "\u001b[1;31mAttributeError\u001b[0m: 'frozenset' object has no attribute 'add'"
     ]
    }
   ],
   "source": [
    "fs.add(789)"
   ]
  },
  {
   "cell_type": "code",
   "execution_count": 10,
   "id": "1a436309",
   "metadata": {},
   "outputs": [
    {
     "ename": "AttributeError",
     "evalue": "'frozenset' object has no attribute 'remove'",
     "output_type": "error",
     "traceback": [
      "\u001b[1;31m---------------------------------------------------------------------------\u001b[0m",
      "\u001b[1;31mAttributeError\u001b[0m                            Traceback (most recent call last)",
      "Cell \u001b[1;32mIn[10], line 1\u001b[0m\n\u001b[1;32m----> 1\u001b[0m \u001b[43mfs\u001b[49m\u001b[38;5;241;43m.\u001b[39;49m\u001b[43mremove\u001b[49m(\u001b[38;5;241m10\u001b[39m)\n",
      "\u001b[1;31mAttributeError\u001b[0m: 'frozenset' object has no attribute 'remove'"
     ]
    }
   ],
   "source": [
    "fs.remove(10)"
   ]
  },
  {
   "cell_type": "markdown",
   "id": "2b1d5f85",
   "metadata": {},
   "source": [
    "13. dict data type:-"
   ]
  },
  {
   "cell_type": "code",
   "execution_count": 12,
   "id": "39d243bb",
   "metadata": {},
   "outputs": [
    {
     "name": "stdout",
     "output_type": "stream",
     "text": [
      "{101: 'Akhil', 102: 'sasi', 103: 'suss'}\n"
     ]
    }
   ],
   "source": [
    "d= {101:\"Akhil\", 102: \"sasi\", 103: \"suss\"}\n",
    "print(d)"
   ]
  },
  {
   "cell_type": "code",
   "execution_count": 13,
   "id": "44857ed0",
   "metadata": {},
   "outputs": [
    {
     "name": "stdout",
     "output_type": "stream",
     "text": [
      "{101: 'Renangi', 102: 'sasi', 103: 'suss'}\n"
     ]
    }
   ],
   "source": [
    "d[101] = \"Renangi\"\n",
    "print(d)"
   ]
  },
  {
   "cell_type": "code",
   "execution_count": 14,
   "id": "6d41e3ef",
   "metadata": {},
   "outputs": [
    {
     "name": "stdout",
     "output_type": "stream",
     "text": [
      "<class 'dict'>\n",
      "{10: 'akhil', 'b': 10}\n"
     ]
    }
   ],
   "source": [
    "d={}\n",
    "print(type(d))\n",
    "d[10]=\"akhil\"\n",
    "d[\"b\"] =10\n",
    "print(d)"
   ]
  },
  {
   "cell_type": "markdown",
   "id": "fac7a51f",
   "metadata": {},
   "source": [
    "14. None"
   ]
  },
  {
   "cell_type": "code",
   "execution_count": 16,
   "id": "bb29947f",
   "metadata": {},
   "outputs": [
    {
     "name": "stdout",
     "output_type": "stream",
     "text": [
      "None\n"
     ]
    }
   ],
   "source": [
    "def m1():\n",
    "    a=10\n",
    "print(m1())"
   ]
  },
  {
   "cell_type": "markdown",
   "id": "85f2cc39",
   "metadata": {},
   "source": [
    "### Escape characters:-\n",
    "- \\n --> New line\n",
    "- \\t --> Horizontal tab\n",
    "- \\r --> Carriage Return\n",
    "- \\f --> Form feed\n",
    "- \\v --> Vertical tab\n",
    "- \\' --> single quote\n",
    "- \\\" --> Double quote\n",
    "- \\\\\\ --> Back slash symbol\n"
   ]
  },
  {
   "cell_type": "code",
   "execution_count": 17,
   "id": "c71cca41",
   "metadata": {},
   "outputs": [
    {
     "name": "stdout",
     "output_type": "stream",
     "text": [
      "Akhil\n",
      "Renangi\n"
     ]
    }
   ],
   "source": [
    "s= \"Akhil\\nRenangi\"\n",
    "print(s)"
   ]
  },
  {
   "cell_type": "code",
   "execution_count": 20,
   "id": "a5ef6883",
   "metadata": {},
   "outputs": [
    {
     "name": "stdout",
     "output_type": "stream",
     "text": [
      "Akhil\tRenangi\n"
     ]
    }
   ],
   "source": [
    "print(\"Akhil\\tRenangi\")\n"
   ]
  },
  {
   "cell_type": "code",
   "execution_count": 19,
   "id": "65fa9743",
   "metadata": {},
   "outputs": [
    {
     "name": "stdout",
     "output_type": "stream",
     "text": [
      "Akhil\u000bRenangi\n"
     ]
    }
   ],
   "source": [
    "print(\"Akhil\\vRenangi\")"
   ]
  },
  {
   "cell_type": "code",
   "execution_count": 22,
   "id": "3e8d95bd",
   "metadata": {},
   "outputs": [
    {
     "name": "stdout",
     "output_type": "stream",
     "text": [
      "AkhiRenangi\n"
     ]
    }
   ],
   "source": [
    "print(\"Akhil\\bRenangi\")"
   ]
  },
  {
   "cell_type": "code",
   "execution_count": 23,
   "id": "1f65052d",
   "metadata": {},
   "outputs": [
    {
     "name": "stdout",
     "output_type": "stream",
     "text": [
      "Renangi\n"
     ]
    }
   ],
   "source": [
    "print(\"Akhil\\rRenangi\")"
   ]
  },
  {
   "cell_type": "markdown",
   "id": "c07e2316",
   "metadata": {},
   "source": [
    "### Constants\n",
    "- Constant concept is not applicable in Python.\n",
    "- But it is convention to use only uppercase characters if we don't want to change value"
   ]
  },
  {
   "cell_type": "code",
   "execution_count": 24,
   "id": "a6cce022",
   "metadata": {},
   "outputs": [],
   "source": [
    "MAX_VALUE =10"
   ]
  },
  {
   "cell_type": "markdown",
   "id": "f8b511bb",
   "metadata": {},
   "source": [
    "---------------\n",
    "--------------"
   ]
  },
  {
   "cell_type": "markdown",
   "id": "f204afe3",
   "metadata": {},
   "source": [
    "## Operators"
   ]
  },
  {
   "cell_type": "markdown",
   "id": "9565e533",
   "metadata": {},
   "source": [
    "### 1. Arthimetic Operators\n",
    "- +, -,  *, /, %, //, **"
   ]
  },
  {
   "cell_type": "code",
   "execution_count": 26,
   "id": "6b1c2cf7",
   "metadata": {},
   "outputs": [
    {
     "name": "stdout",
     "output_type": "stream",
     "text": [
      "a= 10  b= 2\n",
      "a+b= 12\n",
      "a-b= 8\n",
      "a*b= 20\n",
      "a/b= 5.0\n",
      "a%b= 0\n",
      "a//b= 5\n",
      "a**b= 100\n"
     ]
    }
   ],
   "source": [
    "a= 10\n",
    "b=2\n",
    "print(\"a=\",a,\" b=\",b)\n",
    "print(\"a+b=\",a+b)\n",
    "print(\"a-b=\",a-b)\n",
    "print(\"a*b=\",a*b)\n",
    "print(\"a/b=\",a/b)\n",
    "print(\"a%b=\",a%b)\n",
    "print(\"a//b=\",a//b)\n",
    "print(\"a**b=\",a**b)"
   ]
  },
  {
   "cell_type": "code",
   "execution_count": 27,
   "id": "17cc8bbd",
   "metadata": {},
   "outputs": [
    {
     "name": "stdout",
     "output_type": "stream",
     "text": [
      "a= 10.5  b= 2\n",
      "a+b= 12.5\n",
      "a-b= 8.5\n",
      "a*b= 21.0\n",
      "a/b= 5.25\n",
      "a%b= 0.5\n",
      "a//b= 5.0\n",
      "a**b= 110.25\n"
     ]
    }
   ],
   "source": [
    "a= 10.5\n",
    "b=2\n",
    "print(\"a=\",a,\" b=\",b)\n",
    "print(\"a+b=\",a+b)\n",
    "print(\"a-b=\",a-b)\n",
    "print(\"a*b=\",a*b)\n",
    "print(\"a/b=\",a/b)\n",
    "print(\"a%b=\",a%b)\n",
    "print(\"a//b=\",a//b)\n",
    "print(\"a**b=\",a**b)"
   ]
  },
  {
   "cell_type": "code",
   "execution_count": 28,
   "id": "2f02765d",
   "metadata": {},
   "outputs": [
    {
     "ename": "TypeError",
     "evalue": "can only concatenate str (not \"int\") to str",
     "output_type": "error",
     "traceback": [
      "\u001b[1;31m---------------------------------------------------------------------------\u001b[0m",
      "\u001b[1;31mTypeError\u001b[0m                                 Traceback (most recent call last)",
      "Cell \u001b[1;32mIn[28], line 1\u001b[0m\n\u001b[1;32m----> 1\u001b[0m \u001b[38;5;28mprint\u001b[39m(\u001b[38;5;124;43m\"\u001b[39;49m\u001b[38;5;124;43makhil\u001b[39;49m\u001b[38;5;124;43m\"\u001b[39;49m\u001b[38;5;241;43m+\u001b[39;49m\u001b[38;5;241;43m10\u001b[39;49m)\n",
      "\u001b[1;31mTypeError\u001b[0m: can only concatenate str (not \"int\") to str"
     ]
    }
   ],
   "source": [
    "print(\"akhil\"+10)"
   ]
  },
  {
   "cell_type": "code",
   "execution_count": 29,
   "id": "aeb8c145",
   "metadata": {},
   "outputs": [
    {
     "name": "stdout",
     "output_type": "stream",
     "text": [
      "akhil Renangi\n"
     ]
    }
   ],
   "source": [
    "print(\"akhil\"+\" Renangi\")"
   ]
  },
  {
   "cell_type": "code",
   "execution_count": 30,
   "id": "51f142f9",
   "metadata": {},
   "outputs": [
    {
     "name": "stdout",
     "output_type": "stream",
     "text": [
      "akhil akhil akhil \n"
     ]
    }
   ],
   "source": [
    "print(\"akhil \"*3)"
   ]
  },
  {
   "cell_type": "code",
   "execution_count": 31,
   "id": "f9dcca02",
   "metadata": {},
   "outputs": [
    {
     "ename": "TypeError",
     "evalue": "can't multiply sequence by non-int of type 'float'",
     "output_type": "error",
     "traceback": [
      "\u001b[1;31m---------------------------------------------------------------------------\u001b[0m",
      "\u001b[1;31mTypeError\u001b[0m                                 Traceback (most recent call last)",
      "Cell \u001b[1;32mIn[31], line 1\u001b[0m\n\u001b[1;32m----> 1\u001b[0m \u001b[38;5;28mprint\u001b[39m(\u001b[38;5;124;43m\"\u001b[39;49m\u001b[38;5;124;43makhil \u001b[39;49m\u001b[38;5;124;43m\"\u001b[39;49m\u001b[38;5;241;43m*\u001b[39;49m\u001b[38;5;241;43m3.7\u001b[39;49m)\n",
      "\u001b[1;31mTypeError\u001b[0m: can't multiply sequence by non-int of type 'float'"
     ]
    }
   ],
   "source": [
    "print(\"akhil \"*3.7)"
   ]
  },
  {
   "cell_type": "markdown",
   "id": "32ecbe51",
   "metadata": {},
   "source": [
    "### 2. Relational Operators:\n",
    "- <, >, >=, <="
   ]
  },
  {
   "cell_type": "code",
   "execution_count": 32,
   "id": "004094ed",
   "metadata": {},
   "outputs": [
    {
     "name": "stdout",
     "output_type": "stream",
     "text": [
      "a<b is True\n",
      "a<=b is True\n",
      "a>b is False\n",
      "a>=b is False\n"
     ]
    }
   ],
   "source": [
    "a=10\n",
    "b=20\n",
    "print(\"a<b is\", a<b)\n",
    "print(\"a<=b is\", a<=b)\n",
    "print(\"a>b is\", a>b)\n",
    "print(\"a>=b is\", a>=b)"
   ]
  },
  {
   "cell_type": "code",
   "execution_count": 33,
   "id": "20bcf92e",
   "metadata": {},
   "outputs": [
    {
     "name": "stdout",
     "output_type": "stream",
     "text": [
      "a<b is False\n",
      "a<=b is True\n",
      "a>b is False\n",
      "a>=b is True\n"
     ]
    }
   ],
   "source": [
    "a=\"akhil\"\n",
    "b=\"akhil\"\n",
    "print(\"a<b is\", a<b)\n",
    "print(\"a<=b is\", a<=b)\n",
    "print(\"a>b is\", a>b)\n",
    "print(\"a>=b is\", a>=b)"
   ]
  },
  {
   "cell_type": "code",
   "execution_count": 34,
   "id": "51696d32",
   "metadata": {},
   "outputs": [
    {
     "name": "stdout",
     "output_type": "stream",
     "text": [
      "False\n",
      "True\n",
      "False\n"
     ]
    }
   ],
   "source": [
    "print(True>True)\n",
    "print(10>True)\n",
    "print(False>True)"
   ]
  },
  {
   "cell_type": "code",
   "execution_count": 35,
   "id": "27b276d8",
   "metadata": {},
   "outputs": [
    {
     "ename": "TypeError",
     "evalue": "'>' not supported between instances of 'int' and 'str'",
     "output_type": "error",
     "traceback": [
      "\u001b[1;31m---------------------------------------------------------------------------\u001b[0m",
      "\u001b[1;31mTypeError\u001b[0m                                 Traceback (most recent call last)",
      "Cell \u001b[1;32mIn[35], line 1\u001b[0m\n\u001b[1;32m----> 1\u001b[0m \u001b[38;5;28mprint\u001b[39m(\u001b[38;5;241;43m10\u001b[39;49m\u001b[38;5;241;43m>\u001b[39;49m\u001b[38;5;124;43m\"\u001b[39;49m\u001b[38;5;124;43makhil\u001b[39;49m\u001b[38;5;124;43m\"\u001b[39;49m)\n",
      "\u001b[1;31mTypeError\u001b[0m: '>' not supported between instances of 'int' and 'str'"
     ]
    }
   ],
   "source": [
    "print(10>\"akhil\")"
   ]
  },
  {
   "cell_type": "code",
   "execution_count": 36,
   "id": "8de9530a",
   "metadata": {},
   "outputs": [
    {
     "name": "stdout",
     "output_type": "stream",
     "text": [
      "b is bigger\n"
     ]
    }
   ],
   "source": [
    "a= 10\n",
    "b=20\n",
    "if a<b:\n",
    "    print(\"b is bigger\")\n",
    "else:\n",
    "    print(\"a is bigger\")"
   ]
  },
  {
   "cell_type": "markdown",
   "id": "abbb2294",
   "metadata": {},
   "source": [
    "### 3. Equality Operators:\n",
    "- ==, !="
   ]
  },
  {
   "cell_type": "code",
   "execution_count": 38,
   "id": "bf75bc77",
   "metadata": {},
   "outputs": [
    {
     "name": "stdout",
     "output_type": "stream",
     "text": [
      "False\n",
      "True\n",
      "False\n",
      "True\n"
     ]
    }
   ],
   "source": [
    "print(10 == 20)\n",
    "print(10 != 20)\n",
    "print(True == False)\n",
    "print(\"Akhil\" ==\"Akhil\")"
   ]
  },
  {
   "cell_type": "markdown",
   "id": "9db89cf8",
   "metadata": {},
   "source": [
    "### 4. Logical Operators:\n",
    "- and, or, not"
   ]
  },
  {
   "cell_type": "code",
   "execution_count": 39,
   "id": "17525a95",
   "metadata": {},
   "outputs": [
    {
     "name": "stdout",
     "output_type": "stream",
     "text": [
      "Renangi\n",
      "\n",
      "\n",
      "Akhil\n",
      "Akhil\n",
      "Akhil\n",
      "False\n",
      "True\n"
     ]
    }
   ],
   "source": [
    "print(\"Akhil\" and \"Renangi\")\n",
    "print(\"\" and \"Akhil\")\n",
    "print(\"Akhil\" and \"\")\n",
    "print(\"Akhil\" or \"Renangi\")\n",
    "print(\"\" or \"Akhil\")\n",
    "print(\"Akhil\" or \"\")\n",
    "print(not \"Akhil\")\n",
    "print(not \"\")\n"
   ]
  },
  {
   "cell_type": "markdown",
   "id": "a226f62d",
   "metadata": {},
   "source": [
    "### 5. Bitwise operators:\n",
    "- &, |, ^, ~, >>, <<"
   ]
  },
  {
   "cell_type": "code",
   "execution_count": 40,
   "id": "898c778c",
   "metadata": {},
   "outputs": [
    {
     "name": "stdout",
     "output_type": "stream",
     "text": [
      "4\n",
      "5\n",
      "1\n"
     ]
    }
   ],
   "source": [
    "print(4&5)\n",
    "print(4|5)\n",
    "print(4^5)"
   ]
  },
  {
   "cell_type": "code",
   "execution_count": 41,
   "id": "70d8be34",
   "metadata": {},
   "outputs": [
    {
     "name": "stdout",
     "output_type": "stream",
     "text": [
      "-6\n"
     ]
    }
   ],
   "source": [
    "print(~5)"
   ]
  },
  {
   "cell_type": "code",
   "execution_count": 42,
   "id": "5706b3d7",
   "metadata": {},
   "outputs": [
    {
     "name": "stdout",
     "output_type": "stream",
     "text": [
      "40\n"
     ]
    }
   ],
   "source": [
    "print(10<<2)"
   ]
  },
  {
   "cell_type": "code",
   "execution_count": 43,
   "id": "5e0c815f",
   "metadata": {},
   "outputs": [
    {
     "name": "stdout",
     "output_type": "stream",
     "text": [
      "2\n"
     ]
    }
   ],
   "source": [
    "print(10>>2)"
   ]
  },
  {
   "cell_type": "markdown",
   "id": "8673c118",
   "metadata": {},
   "source": [
    "### 7. Assignment Operators\n",
    "- +=, -=, *=, /=, %=, //=, **=, &=, |=, ^=, <<=, >>="
   ]
  },
  {
   "cell_type": "code",
   "execution_count": 44,
   "id": "11929206",
   "metadata": {},
   "outputs": [
    {
     "name": "stdout",
     "output_type": "stream",
     "text": [
      "100\n"
     ]
    }
   ],
   "source": [
    "x=10\n",
    "x **= 2\n",
    "print(x)"
   ]
  },
  {
   "cell_type": "code",
   "execution_count": 45,
   "id": "fa539588",
   "metadata": {},
   "outputs": [
    {
     "name": "stdout",
     "output_type": "stream",
     "text": [
      "50\n"
     ]
    }
   ],
   "source": [
    "x= 10\n",
    "x+=40\n",
    "print(x)"
   ]
  },
  {
   "cell_type": "markdown",
   "id": "3f9ac749",
   "metadata": {},
   "source": [
    "### 8. Ternary Operator or conditional operator\n",
    "- **Syntax:** x = firstValue if condition else secondValue "
   ]
  },
  {
   "cell_type": "code",
   "execution_count": 46,
   "id": "ed75d227",
   "metadata": {},
   "outputs": [
    {
     "name": "stdout",
     "output_type": "stream",
     "text": [
      "30\n"
     ]
    }
   ],
   "source": [
    "a, b =10,20\n",
    "x = 30 if a<b else 40\n",
    "print(x)"
   ]
  },
  {
   "cell_type": "code",
   "execution_count": 48,
   "id": "c6541bd1",
   "metadata": {},
   "outputs": [
    {
     "name": "stdout",
     "output_type": "stream",
     "text": [
      "The minimun number is 3 The two numbers are 56 3\n"
     ]
    }
   ],
   "source": [
    "#Read two numbers from the keyboard and print minimum value\n",
    "a= int(input(\"Enter first number\"))\n",
    "b= int(input(\"Enter first number\"))\n",
    "x = a if a<b else b\n",
    "print(\"The minimun number is\",x, \"The two numbers are\", a, b)"
   ]
  },
  {
   "cell_type": "code",
   "execution_count": 49,
   "id": "0d31e01c",
   "metadata": {},
   "outputs": [
    {
     "name": "stdout",
     "output_type": "stream",
     "text": [
      "Minimum value : 2\n"
     ]
    }
   ],
   "source": [
    "#program for minimum of 3 numbers\n",
    "a= int(input(\"Enter first number\"))\n",
    "b= int(input(\"Enter first number\"))\n",
    "c= int(input(\"Enter first number\"))\n",
    "minimum = a if a<b and a<c else b if b<c else c\n",
    "print(\"Minimum value :\", minimum)"
   ]
  },
  {
   "cell_type": "code",
   "execution_count": 50,
   "id": "816ffafe",
   "metadata": {},
   "outputs": [
    {
     "name": "stdout",
     "output_type": "stream",
     "text": [
      "Maximum value : 67\n"
     ]
    }
   ],
   "source": [
    "#program for maximum of 3 numbers\n",
    "a= int(input(\"Enter first number\"))\n",
    "b= int(input(\"Enter first number\"))\n",
    "c= int(input(\"Enter first number\"))\n",
    "minimum = a if a>b and a>c else b if b>c else c\n",
    "print(\"Maximum value :\", minimum)"
   ]
  },
  {
   "cell_type": "markdown",
   "id": "6864c92b",
   "metadata": {},
   "source": [
    "### 9. Special Operators:\n",
    "- Identity Operators\n",
    "- Membership Operators"
   ]
  },
  {
   "cell_type": "markdown",
   "id": "cd67ef3c",
   "metadata": {},
   "source": [
    "#### 1. Identity operators\n",
    "- is, is not"
   ]
  },
  {
   "cell_type": "code",
   "execution_count": 51,
   "id": "56aa4905",
   "metadata": {},
   "outputs": [
    {
     "name": "stdout",
     "output_type": "stream",
     "text": [
      "True\n",
      "True\n"
     ]
    }
   ],
   "source": [
    "a= 10\n",
    "b=10\n",
    "print(a is b)\n",
    "x= True\n",
    "y= True\n",
    "print(x is y)"
   ]
  },
  {
   "cell_type": "code",
   "execution_count": 52,
   "id": "6e572c5a",
   "metadata": {},
   "outputs": [
    {
     "name": "stdout",
     "output_type": "stream",
     "text": [
      "1670333665648\n",
      "1670333665648\n",
      "True\n"
     ]
    }
   ],
   "source": [
    "a= \"Akhil\"\n",
    "b= \"Akhil\"\n",
    "print(id(a))\n",
    "print(id(b))\n",
    "print(a is b)"
   ]
  },
  {
   "cell_type": "code",
   "execution_count": 53,
   "id": "8f2ceabf",
   "metadata": {},
   "outputs": [
    {
     "name": "stdout",
     "output_type": "stream",
     "text": [
      "1670312714816\n",
      "1670312390592\n",
      "False\n",
      "True\n",
      "True\n"
     ]
    }
   ],
   "source": [
    "a= [10,20,30]\n",
    "b= [10,20,30]\n",
    "print(id(a))\n",
    "print(id(b))\n",
    "print(a is b)\n",
    "print(a == b)\n",
    "print(a is not b)"
   ]
  },
  {
   "cell_type": "markdown",
   "id": "88e4841c",
   "metadata": {},
   "source": [
    "#### 2. Membership Operators:\n",
    "- in, not in"
   ]
  },
  {
   "cell_type": "code",
   "execution_count": 54,
   "id": "fd7d2ec1",
   "metadata": {},
   "outputs": [
    {
     "name": "stdout",
     "output_type": "stream",
     "text": [
      "True\n",
      "False\n",
      "True\n"
     ]
    }
   ],
   "source": [
    "x= \"Hello learning python is very easy\"\n",
    "print(\"H\" in x)\n",
    "print(\"d\" in x)\n",
    "print(\"python\" in x)\n"
   ]
  },
  {
   "cell_type": "code",
   "execution_count": 55,
   "id": "cdd08d0b",
   "metadata": {},
   "outputs": [
    {
     "name": "stdout",
     "output_type": "stream",
     "text": [
      "True\n",
      "False\n",
      "False\n"
     ]
    }
   ],
   "source": [
    "list1= [\"akhil\", \"sasi\",\"suss\"]\n",
    "print(\"akhil\" in list1)\n",
    "print(\"sudheer\" in list1)\n",
    "print(\"sasi\" not in list1)"
   ]
  },
  {
   "cell_type": "code",
   "execution_count": 64,
   "id": "d8a81a04",
   "metadata": {},
   "outputs": [
    {
     "name": "stdout",
     "output_type": "stream",
     "text": [
      "4.0\n",
      "3.141592653589793\n"
     ]
    }
   ],
   "source": [
    "import math\n",
    "print(math.sqrt(16))\n",
    "print(math.pi)"
   ]
  },
  {
   "cell_type": "code",
   "execution_count": 65,
   "id": "b90157f3",
   "metadata": {},
   "outputs": [
    {
     "name": "stdout",
     "output_type": "stream",
     "text": [
      "4.0\n",
      "3.141592653589793\n"
     ]
    }
   ],
   "source": [
    "import math as m\n",
    "print(m.sqrt(16))\n",
    "print(m.pi)"
   ]
  },
  {
   "cell_type": "code",
   "execution_count": 66,
   "id": "bfdb9158",
   "metadata": {},
   "outputs": [
    {
     "name": "stdout",
     "output_type": "stream",
     "text": [
      "4.0\n",
      "3.141592653589793\n"
     ]
    }
   ],
   "source": [
    "from math import sqrt, pi\n",
    "print(sqrt(16))\n",
    "print(pi)"
   ]
  },
  {
   "cell_type": "code",
   "execution_count": 67,
   "id": "91352b1b",
   "metadata": {},
   "outputs": [
    {
     "name": "stdout",
     "output_type": "stream",
     "text": [
      "804.247719318987\n"
     ]
    }
   ],
   "source": [
    "#Write a python program to find Area of circle\n",
    "from math import pi\n",
    "r = 16\n",
    "print(pi * r **2)"
   ]
  },
  {
   "cell_type": "markdown",
   "id": "bddc1b34",
   "metadata": {},
   "source": [
    "--------------------------------\n",
    "-------------------"
   ]
  },
  {
   "cell_type": "markdown",
   "id": "0b833a68",
   "metadata": {},
   "source": [
    "## Input and output statements"
   ]
  },
  {
   "cell_type": "code",
   "execution_count": 1,
   "id": "50443aac",
   "metadata": {},
   "outputs": [
    {
     "name": "stdout",
     "output_type": "stream",
     "text": [
      "The product is 50\n"
     ]
    }
   ],
   "source": [
    "#How to read multiple values from the keyboard in a single line\n",
    "\n",
    "a, b= [int(x) for x in input(\"Enter 2 numbers\").split()]\n",
    "print(\"The product is\", a*b)"
   ]
  },
  {
   "cell_type": "code",
   "execution_count": 5,
   "id": "98e0b0e1",
   "metadata": {},
   "outputs": [
    {
     "name": "stdout",
     "output_type": "stream",
     "text": [
      "The sum = 10.6\n"
     ]
    }
   ],
   "source": [
    "# Write a program to read 3 float numbers from the keyboard with , seperator and print their sum\n",
    "a,b,c = [float(x) for x in input(\"Enter 3 float numbers\").split(\",\")]\n",
    "print(\"The sum =\", a+b+c)"
   ]
  },
  {
   "cell_type": "markdown",
   "id": "f9df6f6d",
   "metadata": {},
   "source": [
    "### eval()"
   ]
  },
  {
   "cell_type": "code",
   "execution_count": 6,
   "id": "fbef2e94",
   "metadata": {},
   "outputs": [
    {
     "name": "stdout",
     "output_type": "stream",
     "text": [
      "30\n"
     ]
    }
   ],
   "source": [
    "x= eval(\"10+20\")\n",
    "print(x)"
   ]
  },
  {
   "cell_type": "code",
   "execution_count": 7,
   "id": "4d628ad0",
   "metadata": {},
   "outputs": [
    {
     "name": "stdout",
     "output_type": "stream",
     "text": [
      "11.5\n"
     ]
    }
   ],
   "source": [
    "x= eval(input(\"Enter expersion\"))\n",
    "print(x)"
   ]
  },
  {
   "cell_type": "code",
   "execution_count": 8,
   "id": "0f080d81",
   "metadata": {},
   "outputs": [
    {
     "name": "stdout",
     "output_type": "stream",
     "text": [
      "1,2,3\n",
      "1:2:3\n"
     ]
    }
   ],
   "source": [
    "a,b,c=1,2,3\n",
    "print(a,b,c,sep=\",\")\n",
    "print(a,b,c, sep=\":\")\n"
   ]
  },
  {
   "cell_type": "markdown",
   "id": "aea21c55",
   "metadata": {},
   "source": [
    "--------------------------\n",
    "---------------------"
   ]
  },
  {
   "cell_type": "markdown",
   "id": "d2ce3e82",
   "metadata": {},
   "source": [
    "## Flow Control"
   ]
  },
  {
   "cell_type": "markdown",
   "id": "1b9b0a18",
   "metadata": {},
   "source": [
    "### 1. Conditional statements"
   ]
  },
  {
   "cell_type": "code",
   "execution_count": null,
   "id": "6e1f466b",
   "metadata": {},
   "outputs": [
    {
     "name": "stdout",
     "output_type": "stream",
     "text": [
      "Hello Akhil, good morning\n",
      "How are you\n"
     ]
    }
   ],
   "source": [
    "#if\n",
    "name = input(\"Enter your name\")\n",
    "if name == \"akhil\":\n",
    "    print(\"Hello Akhil, good morning\")\n",
    "print(\"How are you\")"
   ]
  },
  {
   "cell_type": "code",
   "execution_count": null,
   "id": "8f91d960",
   "metadata": {},
   "outputs": [
    {
     "name": "stdout",
     "output_type": "stream",
     "text": [
      "Hello Guest, good morning\n",
      "How are you\n"
     ]
    }
   ],
   "source": [
    "#if-else\n",
    "name = input(\"Enter your name\")\n",
    "if name == \"akhil\":\n",
    "    print(\"Hello Akhil, good morning\")\n",
    "else:\n",
    "    print(\"Hello Guest, good morning\")\n",
    "print(\"How are you\")"
   ]
  },
  {
   "cell_type": "code",
   "execution_count": 13,
   "id": "2922f65e",
   "metadata": {},
   "outputs": [
    {
     "name": "stdout",
     "output_type": "stream",
     "text": [
      "Buy one get one\n"
     ]
    }
   ],
   "source": [
    "#if-elif-else\n",
    "brand = input(\"Enter your favourite brand\")\n",
    "if brand == \"RC\":\n",
    "    print(\"It is children brand\")\n",
    "elif brand == \"KF\":\n",
    "    print(\"It is not that much kick\")\n",
    "elif brand == \"FO\":\n",
    "    print(\"Buy one get one\")\n",
    "else:\n",
    "    print(\"Other brands are not recomended\")"
   ]
  },
  {
   "cell_type": "code",
   "execution_count": 16,
   "id": "e8fddeb5",
   "metadata": {},
   "outputs": [
    {
     "name": "stdout",
     "output_type": "stream",
     "text": [
      "The number:65 is not in between 1 and 10\n"
     ]
    }
   ],
   "source": [
    "#Write a program to check whether the given number is in between 1 to 10\n",
    "n= int(input(\"Enter a number\"))\n",
    "if n>0 and n<11:\n",
    "    print(f\"The number:{n} is in between 1 and 10\")\n",
    "else:\n",
    "    print(f\"The number:{n} is not in between 1 and 10\")"
   ]
  },
  {
   "cell_type": "code",
   "execution_count": 23,
   "id": "53e8a990",
   "metadata": {},
   "outputs": [
    {
     "name": "stdout",
     "output_type": "stream",
     "text": [
      "NINE\n"
     ]
    }
   ],
   "source": [
    "#Write a program to take a single digit number from the key board and print is value in English Word\n",
    "n= int(input(\"Enter a digit from 0 to 9\"))\n",
    "if n==0:\n",
    "    print(\"ZERO\")\n",
    "elif n==1:\n",
    "    print(\"ONE\")\n",
    "elif n==2:\n",
    "    print(\"TWO\")\n",
    "elif n==3:\n",
    "    print(\"THREE\")\n",
    "elif n==4:\n",
    "    print(\"FOUR\")\n",
    "elif n==5:\n",
    "    print(\"FIVE\")\n",
    "elif n==6:\n",
    "    print(\"SIX\")\n",
    "elif n==7:\n",
    "    print(\"SEVEN\")\n",
    "elif n==8:\n",
    "    print(\"EIGHT\")\n",
    "elif n==9:\n",
    "    print(\"NINE\")\n",
    "else:\n",
    "    print(\"Please enter a digit 0 to 9 only\")\n",
    "\n",
    "\n",
    "\n"
   ]
  },
  {
   "cell_type": "markdown",
   "id": "7750c95d",
   "metadata": {},
   "source": [
    "### 2. Iterative statements "
   ]
  },
  {
   "cell_type": "code",
   "execution_count": 24,
   "id": "0acf12f2",
   "metadata": {},
   "outputs": [
    {
     "name": "stdout",
     "output_type": "stream",
     "text": [
      "The character present at 0 index is A\n",
      "The character present at 1 index is k\n",
      "The character present at 2 index is h\n",
      "The character present at 3 index is i\n",
      "The character present at 4 index is l\n"
     ]
    }
   ],
   "source": [
    "#To print characters present in string index wise:\n",
    "s = input(\"Enter some string\")\n",
    "i=0\n",
    "for x in s:\n",
    "    print(\"The character present at\", i, \"index is\", x)\n",
    "    i= i+1"
   ]
  },
  {
   "cell_type": "code",
   "execution_count": 25,
   "id": "fbdc7c38",
   "metadata": {},
   "outputs": [
    {
     "name": "stdout",
     "output_type": "stream",
     "text": [
      "15\n"
     ]
    }
   ],
   "source": [
    "#To display the sum of first n numbers\n",
    "n= int(input(\"Enter a number\"))\n",
    "sum = 0\n",
    "i = 1\n",
    "while i<=n:\n",
    "    sum = sum +i\n",
    "    i = i +1\n",
    "print(sum)"
   ]
  },
  {
   "cell_type": "code",
   "execution_count": 26,
   "id": "321c9956",
   "metadata": {},
   "outputs": [
    {
     "name": "stdout",
     "output_type": "stream",
     "text": [
      "* \n",
      "* * \n",
      "* * * \n",
      "* * * * \n",
      "* * * * * \n"
     ]
    }
   ],
   "source": [
    "#Write a program to display *'s in right angled triangle form\n",
    "n= int(input(\"Enter number of rows\"))\n",
    "for i in range(1,n+1):\n",
    "    for j in range(1, i+1):\n",
    "        print(\"*\", end=\" \")\n",
    "    print()"
   ]
  },
  {
   "cell_type": "code",
   "execution_count": 27,
   "id": "3a1e668e",
   "metadata": {},
   "outputs": [
    {
     "name": "stdout",
     "output_type": "stream",
     "text": [
      "* \n",
      "* * \n",
      "* * * \n",
      "* * * * \n",
      "* * * * * \n"
     ]
    }
   ],
   "source": [
    "n= int(input(\"Enter number of rows\"))\n",
    "for i in range(1, n+1):\n",
    "    print(\"* \"*i)"
   ]
  },
  {
   "cell_type": "code",
   "execution_count": 28,
   "id": "f07e9fe3",
   "metadata": {},
   "outputs": [
    {
     "name": "stdout",
     "output_type": "stream",
     "text": [
      "    * \n",
      "   * * \n",
      "  * * * \n",
      " * * * * \n",
      "* * * * * \n"
     ]
    }
   ],
   "source": [
    "#Wrote a program to display *'s in pyramid style\n",
    "n= int(input(\"Enter number of rows\"))\n",
    "for i in range(1,n+1):\n",
    "    print(\" \"*(n-i), end=\"\")\n",
    "    print(\"* \"*i)"
   ]
  },
  {
   "cell_type": "markdown",
   "id": "2d72e280",
   "metadata": {},
   "source": [
    "### 3. Transfer Statements"
   ]
  },
  {
   "cell_type": "code",
   "execution_count": 30,
   "id": "3487ca69",
   "metadata": {},
   "outputs": [
    {
     "name": "stdout",
     "output_type": "stream",
     "text": [
      "10\n",
      "20\n",
      "To place this order insurence must be required\n"
     ]
    }
   ],
   "source": [
    "#break\n",
    "\n",
    "cart = [10,20,600,60,70]\n",
    "for item in cart:\n",
    "    if item>500:\n",
    "        print(\"To place this order insurence must be required\")\n",
    "        break\n",
    "    print(item)"
   ]
  },
  {
   "cell_type": "code",
   "execution_count": 31,
   "id": "bd3c36f1",
   "metadata": {},
   "outputs": [
    {
     "name": "stdout",
     "output_type": "stream",
     "text": [
      "10\n",
      "20\n",
      "We cannot process this item: 600\n",
      "We cannot process this item: 700\n",
      "60\n",
      "70\n"
     ]
    }
   ],
   "source": [
    "#continue\n",
    "cart = [10,20,600,700,60,70]\n",
    "for item in cart:\n",
    "    if item>500:\n",
    "        print(\"We cannot process this item:\", item)\n",
    "        continue\n",
    "    print(item)"
   ]
  },
  {
   "cell_type": "code",
   "execution_count": 33,
   "id": "2b5ee054",
   "metadata": {},
   "outputs": [
    {
     "name": "stdout",
     "output_type": "stream",
     "text": [
      "100/10 = 10.0\n",
      "100/20 = 5.0\n",
      "hey how we can divide with zero, just skipping.......\n",
      "100/30 = 3.3333333333333335\n",
      "hey how we can divide with zero, just skipping.......\n",
      "100/5 = 20.0\n",
      "100/40 = 2.5\n",
      "hey how we can divide with zero, just skipping.......\n"
     ]
    }
   ],
   "source": [
    "n=[10,20,0,30,0,5,40,0]\n",
    "for x in n:\n",
    "    if x==0:\n",
    "        print(\"hey how we can divide with zero, just skipping.......\")\n",
    "        continue\n",
    "    print(f\"100/{x} = {100/x}\")"
   ]
  },
  {
   "cell_type": "code",
   "execution_count": 36,
   "id": "592d4fc4",
   "metadata": {},
   "outputs": [
    {
     "name": "stdout",
     "output_type": "stream",
     "text": [
      "10\n",
      "20\n",
      "60\n",
      "70\n",
      "Congrats... all item processed succefully\n"
     ]
    }
   ],
   "source": [
    "cart = [10,20,60,70]\n",
    "for item in cart:\n",
    "    if item>500:\n",
    "        print(\"We cannot process this item:\", item)\n",
    "\n",
    "    print(item)\n",
    "else:\n",
    "    print(\"Congrats... all item processed succefully\")"
   ]
  },
  {
   "cell_type": "code",
   "execution_count": 37,
   "id": "51ca15c4",
   "metadata": {},
   "outputs": [
    {
     "name": "stdout",
     "output_type": "stream",
     "text": [
      "10\n",
      "20\n",
      "We cannot process this item: 600\n"
     ]
    }
   ],
   "source": [
    "cart = [10,20,600, 700,60,70]\n",
    "for item in cart:\n",
    "    if item>500:\n",
    "        print(\"We cannot process this item:\", item)\n",
    "        break\n",
    "    print(item)\n",
    "else:\n",
    "    print(\"Congrats... all item processed succefully\")"
   ]
  },
  {
   "cell_type": "markdown",
   "id": "d44847dc",
   "metadata": {},
   "source": [
    "-----------------------------\n",
    "---------------------------"
   ]
  },
  {
   "cell_type": "markdown",
   "id": "12b02102",
   "metadata": {},
   "source": [
    "## String Data Type"
   ]
  },
  {
   "cell_type": "code",
   "execution_count": 1,
   "id": "72d4548b",
   "metadata": {},
   "outputs": [
    {
     "name": "stdout",
     "output_type": "stream",
     "text": [
      "A\n",
      "A\n",
      "l\n"
     ]
    }
   ],
   "source": [
    "#Accessing characters by using Index\n",
    "s= \"Akhil\"\n",
    "print(s[0])\n",
    "print(s[-5])\n",
    "print(s[-1])\n"
   ]
  },
  {
   "cell_type": "code",
   "execution_count": 3,
   "id": "a92a7e4e",
   "metadata": {},
   "outputs": [
    {
     "ename": "IndexError",
     "evalue": "string index out of range",
     "output_type": "error",
     "traceback": [
      "\u001b[1;31m---------------------------------------------------------------------------\u001b[0m",
      "\u001b[1;31mIndexError\u001b[0m                                Traceback (most recent call last)",
      "Cell \u001b[1;32mIn[3], line 1\u001b[0m\n\u001b[1;32m----> 1\u001b[0m \u001b[43ms\u001b[49m\u001b[43m[\u001b[49m\u001b[38;5;241;43m900\u001b[39;49m\u001b[43m]\u001b[49m\n",
      "\u001b[1;31mIndexError\u001b[0m: string index out of range"
     ]
    }
   ],
   "source": [
    "s[900]"
   ]
  },
  {
   "cell_type": "code",
   "execution_count": 5,
   "id": "04a91d8e",
   "metadata": {},
   "outputs": [
    {
     "name": "stdout",
     "output_type": "stream",
     "text": [
      "The character present at +ve index : 0 and the -ve index : -5 is A\n",
      "The character present at +ve index : 1 and the -ve index : -4 is k\n",
      "The character present at +ve index : 2 and the -ve index : -3 is h\n",
      "The character present at +ve index : 3 and the -ve index : -2 is i\n",
      "The character present at +ve index : 4 and the -ve index : -1 is l\n"
     ]
    }
   ],
   "source": [
    "#Write a Program to Accept some string from the keyboard and display its characters by index wise(both positive and negative)\n",
    "s=input(\"Enter string\")\n",
    "for x in range(len(s)):\n",
    "    print(f\"The character present at +ve index : {x} and the -ve index : {x-len(s)} is {s[x]}\")"
   ]
  },
  {
   "cell_type": "code",
   "execution_count": 7,
   "id": "03838cee",
   "metadata": {},
   "outputs": [
    {
     "name": "stdout",
     "output_type": "stream",
     "text": [
      "earnin\n",
      "earnin\n",
      "eri\n",
      "g Python is very very easy\n",
      "Learning Python is very very easy\n",
      "ysae yrev yrev si nohtyP gninraeL\n",
      "Learning Python is very very easy\n"
     ]
    }
   ],
   "source": [
    "#Accessing characters by using slice operator;\n",
    "s=\"Learning Python is very very easy\"\n",
    "print(s[1:7:1])\n",
    "print(s[1:7])\n",
    "print(s[1:7:2])\n",
    "print(s[7:])\n",
    "print(s[::])\n",
    "print(s[::-1])\n",
    "print(s[:])"
   ]
  },
  {
   "cell_type": "code",
   "execution_count": 10,
   "id": "e0e74e2b",
   "metadata": {},
   "outputs": [
    {
     "data": {
      "text/plain": [
       "''"
      ]
     },
     "execution_count": 10,
     "metadata": {},
     "output_type": "execute_result"
    }
   ],
   "source": [
    "s[4:0]"
   ]
  },
  {
   "cell_type": "code",
   "execution_count": 14,
   "id": "899eacbe",
   "metadata": {},
   "outputs": [
    {
     "data": {
      "text/plain": [
       "''"
      ]
     },
     "execution_count": 14,
     "metadata": {},
     "output_type": "execute_result"
    }
   ],
   "source": [
    "s[-4:-1:-1]"
   ]
  },
  {
   "cell_type": "code",
   "execution_count": 15,
   "id": "59247369",
   "metadata": {},
   "outputs": [
    {
     "ename": "ValueError",
     "evalue": "slice step cannot be zero",
     "output_type": "error",
     "traceback": [
      "\u001b[1;31m---------------------------------------------------------------------------\u001b[0m",
      "\u001b[1;31mValueError\u001b[0m                                Traceback (most recent call last)",
      "Cell \u001b[1;32mIn[15], line 1\u001b[0m\n\u001b[1;32m----> 1\u001b[0m \u001b[43ms\u001b[49m\u001b[43m[\u001b[49m\u001b[38;5;241;43m7\u001b[39;49m\u001b[43m:\u001b[49m\u001b[38;5;241;43m0\u001b[39;49m\u001b[43m:\u001b[49m\u001b[38;5;241;43m0\u001b[39;49m\u001b[43m]\u001b[49m\n",
      "\u001b[1;31mValueError\u001b[0m: slice step cannot be zero"
     ]
    }
   ],
   "source": [
    "s[7:0:0]"
   ]
  },
  {
   "cell_type": "code",
   "execution_count": 23,
   "id": "0b9a1f74",
   "metadata": {},
   "outputs": [
    {
     "name": "stdout",
     "output_type": "stream",
     "text": [
      "forward direction\n",
      "L e a r n i n g   P y t h o n   i s   v e r y   e a s y ! ! ! \n",
      "backward direction\n",
      "! ! ! y s a e   y r e v   s i   n o h t y P   g n i n r a e L "
     ]
    }
   ],
   "source": [
    "#Write a program to access each character of string in forward and backward direction by using while loop\n",
    "s=\"Learning Python is very easy!!!\"\n",
    "n = len(s)\n",
    "i = 0\n",
    "print(\"forward direction\")\n",
    "while i<n:\n",
    "    print(s[i], end=\" \")\n",
    "    i = i+1\n",
    "print()\n",
    "print(\"backward direction\")\n",
    "i=0\n",
    "while i<n:\n",
    "    print(s[-1-i], end=\" \")\n",
    "    i = i +1"
   ]
  },
  {
   "cell_type": "code",
   "execution_count": null,
   "id": "2ff9a7ff",
   "metadata": {},
   "outputs": [
    {
     "name": "stdout",
     "output_type": "stream",
     "text": [
      "                  Hyderabad Hyderabad                  Hyderabad hi\n",
      "                  Hyderabad                 \n"
     ]
    }
   ],
   "source": [
    "#Removing spaces from the string\n",
    "#rstrip()\n",
    "#lstrip()\n",
    "#strip()\n",
    "s=\"                  Hyderabad                 \"\n",
    "print(s.rstrip(), s.lstrip(), s.strip(), \"hi\")\n",
    "print(s)"
   ]
  },
  {
   "cell_type": "code",
   "execution_count": 32,
   "id": "57f27a90",
   "metadata": {},
   "outputs": [
    {
     "name": "stdout",
     "output_type": "stream",
     "text": [
      "Found at position 0\n",
      "Found at position 3\n",
      "Found at position 5\n",
      "Found at position 7\n",
      "Found at position 9\n",
      "Found at position 11\n"
     ]
    }
   ],
   "source": [
    "#program to display all positions of substring in a given main string\n",
    "s=input(\"Enter main string\")\n",
    "subs = input(\"Enter sub string\")\n",
    "flag = False\n",
    "pos = -1\n",
    "n=len(s)\n",
    "while True:\n",
    "    pos = s.find(subs, pos +1,n)\n",
    "    if pos == -1:\n",
    "        break\n",
    "    print(\"Found at position\", pos)\n",
    "if flag ==-1:\n",
    "    print(\"Not found\")"
   ]
  },
  {
   "cell_type": "code",
   "execution_count": 33,
   "id": "a6c1170e",
   "metadata": {},
   "outputs": [
    {
     "name": "stdout",
     "output_type": "stream",
     "text": [
      "Learning Python is very easy\n"
     ]
    }
   ],
   "source": [
    "#replac()\n",
    "s=\"Learning Python is very difficult\"\n",
    "s2 = s.replace(\"difficult\", \"easy\")\n",
    "print(s2)"
   ]
  },
  {
   "cell_type": "code",
   "execution_count": 37,
   "id": "8f14bd92",
   "metadata": {},
   "outputs": [
    {
     "name": "stdout",
     "output_type": "stream",
     "text": [
      "['Learning', 'Python', 'is', 'very', 'difficult']\n"
     ]
    }
   ],
   "source": [
    "#splitting\n",
    "s=\"Learning Python is very difficult\"\n",
    "s1 = s.split()\n",
    "print(s1)"
   ]
  },
  {
   "cell_type": "code",
   "execution_count": 36,
   "id": "2890765a",
   "metadata": {},
   "outputs": [
    {
     "name": "stdout",
     "output_type": "stream",
     "text": [
      "['Learning', 'Python is very difficult']\n"
     ]
    }
   ],
   "source": [
    "s=\"Learning-Python is very difficult\"\n",
    "s1 = s.split(\"-\")\n",
    "print(s1)"
   ]
  },
  {
   "cell_type": "code",
   "execution_count": 38,
   "id": "a3811e43",
   "metadata": {},
   "outputs": [
    {
     "name": "stdout",
     "output_type": "stream",
     "text": [
      "Sunny-Bunny-Pinni\n"
     ]
    }
   ],
   "source": [
    "#joining of string\n",
    "t=(\"Sunny\", \"Bunny\", \"Pinni\")\n",
    "s=\"-\".join(t)\n",
    "print(s)"
   ]
  },
  {
   "cell_type": "code",
   "execution_count": 39,
   "id": "955d4526",
   "metadata": {},
   "outputs": [
    {
     "name": "stdout",
     "output_type": "stream",
     "text": [
      "Hyderabad:Chennai:Bangalore\n"
     ]
    }
   ],
   "source": [
    "l=[\"Hyderabad\",\"Chennai\",\"Bangalore\"]\n",
    "s=\":\".join(l)\n",
    "print(s)"
   ]
  },
  {
   "cell_type": "code",
   "execution_count": 40,
   "id": "23466aec",
   "metadata": {},
   "outputs": [
    {
     "name": "stdout",
     "output_type": "stream",
     "text": [
      "LEARNING PYTHON IS VERY EASY\n",
      "learning python is very easy\n",
      "lEARNING pYTHON IS VERY eASY\n",
      "Learning Python Is Very Easy\n",
      "Learning python is very easy\n"
     ]
    }
   ],
   "source": [
    "#Changing the case of string\n",
    "s= \"Learning Python is very Easy\"\n",
    "print(s.upper())\n",
    "print(s.lower())\n",
    "print(s.swapcase())\n",
    "print(s.title())\n",
    "print(s.capitalize())"
   ]
  },
  {
   "cell_type": "code",
   "execution_count": 41,
   "id": "e2239dd5",
   "metadata": {},
   "outputs": [
    {
     "name": "stdout",
     "output_type": "stream",
     "text": [
      "True\n",
      "True\n",
      "False\n"
     ]
    }
   ],
   "source": [
    "#checking starting and ending part of the string\n",
    "s = \"Learning Python is very easy\"\n",
    "print(s.startswith(\"L\"))\n",
    "print(s.endswith(\"easy\"))\n",
    "print(s.startswith(\"learning\"))"
   ]
  },
  {
   "cell_type": "code",
   "execution_count": 44,
   "id": "266d0b88",
   "metadata": {},
   "outputs": [
    {
     "name": "stdout",
     "output_type": "stream",
     "text": [
      "True\n",
      "True\n",
      "True\n",
      "False\n",
      "False\n",
      "True\n",
      "True\n"
     ]
    }
   ],
   "source": [
    "#to check type of character present in a string\n",
    "print(\"Akhil67\".isalnum())\n",
    "print(\"akhil\".isalpha())\n",
    "print(\"34\".isdigit())\n",
    "print(\"AKhil\".islower())\n",
    "print(\"af\".isupper())\n",
    "print(\"Hi Akhil\".istitle())\n",
    "print(\" \".isspace())"
   ]
  },
  {
   "cell_type": "code",
   "execution_count": 52,
   "id": "a1430784",
   "metadata": {},
   "outputs": [
    {
     "name": "stdout",
     "output_type": "stream",
     "text": [
      "The character is alpha numeric\n",
      "Alphabet character\n",
      "Lower case\n"
     ]
    }
   ],
   "source": [
    "#Demo\n",
    "s= input(\"Enter any character\")\n",
    "if s.isalnum():\n",
    "    print(\"The character is alpha numeric\")\n",
    "    if s.isalpha():\n",
    "        print(\"Alphabet character\")\n",
    "        if s.islower():\n",
    "            print(\"Lower case\")\n",
    "        else:\n",
    "            print(\"Upper case\")\n",
    "    else:\n",
    "        print(\"Digit\")\n",
    "elif s.isspace():\n",
    "    print(\"Space\")\n",
    "else:\n",
    "    print(\"Non space special character\")"
   ]
  },
  {
   "cell_type": "code",
   "execution_count": null,
   "id": "11d80dd7",
   "metadata": {},
   "outputs": [
    {
     "name": "stdout",
     "output_type": "stream",
     "text": [
      "lihkA\n",
      "lihkA\n"
     ]
    }
   ],
   "source": [
    "#1.write a program to reverse the given string\n",
    "#1.method\n",
    "s=\"Akhil\"\n",
    "print(s[::-1])\n",
    "#2. method\n",
    "print(\"\".join(reversed(s)))"
   ]
  },
  {
   "cell_type": "code",
   "execution_count": null,
   "id": "a2c1406c",
   "metadata": {},
   "outputs": [
    {
     "name": "stdout",
     "output_type": "stream",
     "text": [
      "['easy', 'very', 'is', 'Python', 'Learning']\n",
      "easy very is Python Learning\n"
     ]
    }
   ],
   "source": [
    "#2.Program to reverse order of words\n",
    "s=\"Learning Python is very easy\"\n",
    "l=s.split()\n",
    "s2=\" \".join(l[::-1])\n",
    "print(l[::-1])\n",
    "print(s2)"
   ]
  },
  {
   "cell_type": "code",
   "execution_count": 62,
   "id": "a67fce80",
   "metadata": {},
   "outputs": [
    {
     "name": "stdout",
     "output_type": "stream",
     "text": [
      "agruD erawtfoS snoituloS\n"
     ]
    }
   ],
   "source": [
    "#program to reverse internal content of each word\n",
    "s=\"Durga Software Solutions\"\n",
    "l=s.split()\n",
    "l2 =[]\n",
    "for x in l:\n",
    "    l2.append(x[::-1])\n",
    "s2 = \" \".join(l2)\n",
    "print(s2)"
   ]
  },
  {
   "cell_type": "code",
   "execution_count": 64,
   "id": "1b112e11",
   "metadata": {},
   "outputs": [
    {
     "name": "stdout",
     "output_type": "stream",
     "text": [
      "The characters at Even position : Lann yhni eyes\n",
      "The characters at odd position : erigPto svr ay\n"
     ]
    }
   ],
   "source": [
    "#Write a program to print characters at odd position and even position for the given string\n",
    "s=\"Learning Python is very easy\"\n",
    "print(\"The characters at Even position :\", s[::2])\n",
    "print(\"The characters at odd position :\", s[1::2])"
   ]
  },
  {
   "cell_type": "code",
   "execution_count": 68,
   "id": "2676cd2c",
   "metadata": {},
   "outputs": [
    {
     "name": "stdout",
     "output_type": "stream",
     "text": [
      "druarvgiasoft\n"
     ]
    }
   ],
   "source": [
    "#Program to merge characters of 2 strings into a single string by taking characters \n",
    "s1 = \"durga\"\n",
    "s2 = \"ravisoft\"\n",
    "output = \"\"\n",
    "for x in range(len(s1)):\n",
    "    if s1[x] == s1[-1]:\n",
    "        output = output + s1[x] + s2[x:]\n",
    "    else:\n",
    "        output = output + s1[x] + s2[x]\n",
    "print(output)"
   ]
  },
  {
   "cell_type": "code",
   "execution_count": null,
   "id": "84f8e1cb",
   "metadata": {},
   "outputs": [
    {
     "name": "stdout",
     "output_type": "stream",
     "text": [
      "ABD134\n"
     ]
    }
   ],
   "source": [
    "#write a program to sort the characters of the string and first Alphabet symbols followed by Numeric values\n",
    "s = \"B4A1D3\"\n",
    "digit =[]\n",
    "c = []\n",
    "for x in s:\n",
    "    if x.isdigit():\n",
    "        digit.append(x)\n",
    "    else:\n",
    "        c.append(x)\n",
    "output = \"\".join(sorted(c)+sorted(digit))\n",
    "print(output)"
   ]
  },
  {
   "cell_type": "code",
   "execution_count": 75,
   "id": "9ef30df1",
   "metadata": {},
   "outputs": [
    {
     "name": "stdout",
     "output_type": "stream",
     "text": [
      "aaaabbbccggggggggg\n"
     ]
    }
   ],
   "source": [
    "#Write a Program for the following Requirement  \n",
    "#Input: a4b3c2 \n",
    "#Output: aaaabbbcc \n",
    "s= \"a4b3c2g9\"\n",
    "output =\"\"\n",
    "for i in range(len(s)):\n",
    "    if s[i].isdigit():\n",
    "        output = output + (s[i-1]*int(s[i]))\n",
    "print(output)"
   ]
  },
  {
   "cell_type": "code",
   "execution_count": 83,
   "id": "65480f08",
   "metadata": {},
   "outputs": [
    {
     "name": "stdout",
     "output_type": "stream",
     "text": [
      "aeknbd\n"
     ]
    }
   ],
   "source": [
    "#Write a Program to perform the following Activity\n",
    "# Input: a4k3b2 \n",
    "# Outpt: aeknbd\n",
    "s = \"a4k3b2\"\n",
    "output = \"\"\n",
    "for i in range(len(s)):\n",
    "    if s[i].isdigit():\n",
    "        output = output + chr(ord(s[i-1])+int(s[i]))\n",
    "    else:\n",
    "        output = output + s[i]\n",
    "\n",
    "print(output)"
   ]
  },
  {
   "cell_type": "code",
   "execution_count": 91,
   "id": "bf80a7ec",
   "metadata": {},
   "outputs": [
    {
     "name": "stdout",
     "output_type": "stream",
     "text": [
      "ABCDEF\n"
     ]
    }
   ],
   "source": [
    "#Write a Program to Remove Duplicate Characters from  the given Input String? \n",
    "#Input: ABCDABBCDABBBCCCDDEEEF\n",
    "#Output: ABCDEF \n",
    "s=\"ABCDABBCDABBBCCCDDEEEF\"\n",
    "output =[]\n",
    "for x in s:\n",
    "    if x not in output:\n",
    "        output.append(x)\n",
    "s1= \"\".join(output)\n",
    "print(s1)"
   ]
  },
  {
   "cell_type": "code",
   "execution_count": 92,
   "id": "fcb137a8",
   "metadata": {},
   "outputs": [
    {
     "name": "stdout",
     "output_type": "stream",
     "text": [
      "A - 3 Times\n",
      "B - 4 Times\n",
      "C - 3 Times\n",
      "D - 1 Times\n",
      "E - 1 Times\n"
     ]
    }
   ],
   "source": [
    "#Write a Program to find the Number of Occurrences of each Character present in the given String? \n",
    "# Input: ABCABCABBCDE \n",
    "# Output: A-3,B-4,C-3,D-1,E-1 \n",
    "s = \"ABCABCABBCDE\"\n",
    "d = {}\n",
    "for x in s:\n",
    "    if x in d.keys():\n",
    "        d[x] = d[x]+1\n",
    "    else:\n",
    "        d[x] =1\n",
    "for k,v in d.items():\n",
    "    print(f\"{k} - {v} Times\")"
   ]
  },
  {
   "cell_type": "code",
   "execution_count": 102,
   "id": "802ab450",
   "metadata": {},
   "outputs": [
    {
     "name": "stdout",
     "output_type": "stream",
     "text": [
      "one owt three ruof five xis seven\n"
     ]
    }
   ],
   "source": [
    "#Write a Program to perform the following Task? \n",
    "# Input: 'one two three four five six seven' \n",
    "# Output: 'one owt three ruof five xis seven'\n",
    "s= \"one two three four five six seven\"\n",
    "l= s.split()\n",
    "for i in range(len(l)):\n",
    "    if i%2!=0:\n",
    "        s1 = l[i]\n",
    "        l[i] = s1[::-1]\n",
    "output = \" \".join(l)\n",
    "print(output)\n"
   ]
  },
  {
   "cell_type": "code",
   "execution_count": 93,
   "id": "3af49ebb",
   "metadata": {},
   "outputs": [
    {
     "data": {
      "text/plain": [
       "'sadf'"
      ]
     },
     "execution_count": 93,
     "metadata": {},
     "output_type": "execute_result"
    }
   ],
   "source": [
    "l= [\"afhil\", \"sadf\"]\n",
    "l[1]"
   ]
  },
  {
   "cell_type": "code",
   "execution_count": 97,
   "id": "4b150b2d",
   "metadata": {},
   "outputs": [],
   "source": [
    "s =l[1]"
   ]
  },
  {
   "cell_type": "code",
   "execution_count": 98,
   "id": "a1469e7b",
   "metadata": {},
   "outputs": [
    {
     "name": "stdout",
     "output_type": "stream",
     "text": [
      "<class 'str'>\n"
     ]
    }
   ],
   "source": [
    "print(type(s))"
   ]
  },
  {
   "cell_type": "code",
   "execution_count": 104,
   "id": "c5ae66e8",
   "metadata": {},
   "outputs": [
    {
     "name": "stdout",
     "output_type": "stream",
     "text": [
      "12.23\n"
     ]
    }
   ],
   "source": [
    "print(f\"{12.23456:.2f}\")"
   ]
  },
  {
   "cell_type": "code",
   "execution_count": 105,
   "id": "cfd53f32",
   "metadata": {},
   "outputs": [
    {
     "name": "stdout",
     "output_type": "stream",
     "text": [
      "ABCDEFXZ\n"
     ]
    }
   ],
   "source": [
    "s='ABCDABXXXBCDABBBBCCCZZZZCDDDDEEEEEF'   \n",
    "s1=set(s)   \n",
    "output=''.join(sorted(s1))   \n",
    "print(output) #CAEZBFD   "
   ]
  },
  {
   "cell_type": "markdown",
   "id": "8ea9b9e8",
   "metadata": {},
   "source": [
    "-------------------------\n",
    "------------------"
   ]
  },
  {
   "cell_type": "markdown",
   "id": "981eda2b",
   "metadata": {},
   "source": [
    "## List"
   ]
  },
  {
   "cell_type": "code",
   "execution_count": 107,
   "id": "611e120a",
   "metadata": {},
   "outputs": [
    {
     "name": "stdout",
     "output_type": "stream",
     "text": [
      "['u', 'a', 'o', 'e', 'i']\n",
      "The number of different vowels in durgasoftwaresolutions  is 5\n"
     ]
    }
   ],
   "source": [
    "#Write a program to display unique vowels present in the given word\n",
    "vowels = [\"a\", \"e\", \"i\",\"o\", \"u\"]\n",
    "word = input(\"Enter the word to search for vowels\")\n",
    "found = []\n",
    "for w in word:\n",
    "    if w in vowels:\n",
    "        if w not in found:\n",
    "            found.append(w)\n",
    "\n",
    "print(found)\n",
    "print(\"The number of different vowels in\", word, \"is\", len(found))"
   ]
  },
  {
   "cell_type": "markdown",
   "id": "3ea06a15",
   "metadata": {},
   "source": [
    "## Tuple"
   ]
  },
  {
   "cell_type": "code",
   "execution_count": 1,
   "id": "a5941f14",
   "metadata": {},
   "outputs": [
    {
     "name": "stdout",
     "output_type": "stream",
     "text": [
      "The sum = 10\n",
      "The average = 2.5\n"
     ]
    }
   ],
   "source": [
    "#Write a program to take a Tupple of Numbers from the keyboard and print its sum and Average?\n",
    "t = eval(input(\"Enter tuple\"))\n",
    "l = len(t)\n",
    "sum = 0\n",
    "for x in t:\n",
    "    sum = sum + x\n",
    "average = sum/l\n",
    "print(\"The sum =\", sum)\n",
    "print(\"The average =\", average)"
   ]
  },
  {
   "cell_type": "markdown",
   "id": "1fac63a1",
   "metadata": {},
   "source": [
    "## Set"
   ]
  },
  {
   "cell_type": "code",
   "execution_count": null,
   "id": "045ba41f",
   "metadata": {},
   "outputs": [
    {
     "name": "stdout",
     "output_type": "stream",
     "text": [
      "{40, 10, 20, 30}\n"
     ]
    }
   ],
   "source": [
    "# important functions of set:\n",
    "#1. add(x)\n",
    "s= {10,20,30}\n",
    "s.add(40)\n",
    "print(s)"
   ]
  },
  {
   "cell_type": "code",
   "execution_count": 3,
   "id": "38fbb8db",
   "metadata": {},
   "outputs": [
    {
     "name": "stdout",
     "output_type": "stream",
     "text": [
      "{0, 1, 2, 3, 4, 40, 10, 50, 20, 60, 30}\n"
     ]
    }
   ],
   "source": [
    "#2. update(x,y,z)\n",
    "s= {10,20,30}\n",
    "l = [40,50,60]\n",
    "s.update(l, range(5))\n",
    "print(s)"
   ]
  },
  {
   "cell_type": "code",
   "execution_count": 5,
   "id": "d126e1e1",
   "metadata": {},
   "outputs": [
    {
     "name": "stdout",
     "output_type": "stream",
     "text": [
      "{1, 2, 3} {1, 2, 3}\n",
      "2802675009344 2802643194304\n"
     ]
    }
   ],
   "source": [
    "# 3. copy()\n",
    "s= {1,2,3}\n",
    "s2 = s.copy()\n",
    "print(s, s2)\n",
    "print(id(s), id(s2))"
   ]
  },
  {
   "cell_type": "code",
   "execution_count": 8,
   "id": "47946844",
   "metadata": {},
   "outputs": [
    {
     "name": "stdout",
     "output_type": "stream",
     "text": [
      "{40, 10, 20, 30}\n",
      "40\n",
      "{10, 20, 30}\n"
     ]
    }
   ],
   "source": [
    "#4. pop()\n",
    "s={10,20,30,40}\n",
    "print(s)\n",
    "print(s.pop())\n",
    "print(s)"
   ]
  },
  {
   "cell_type": "code",
   "execution_count": 10,
   "id": "9a34bbc0",
   "metadata": {},
   "outputs": [
    {
     "name": "stdout",
     "output_type": "stream",
     "text": [
      "{40, 10, 20}\n"
     ]
    },
    {
     "ename": "KeyError",
     "evalue": "78",
     "output_type": "error",
     "traceback": [
      "\u001b[1;31m---------------------------------------------------------------------------\u001b[0m",
      "\u001b[1;31mKeyError\u001b[0m                                  Traceback (most recent call last)",
      "Cell \u001b[1;32mIn[10], line 5\u001b[0m\n\u001b[0;32m      3\u001b[0m s\u001b[38;5;241m.\u001b[39mremove(\u001b[38;5;241m30\u001b[39m)\n\u001b[0;32m      4\u001b[0m \u001b[38;5;28mprint\u001b[39m(s)\n\u001b[1;32m----> 5\u001b[0m \u001b[43ms\u001b[49m\u001b[38;5;241;43m.\u001b[39;49m\u001b[43mremove\u001b[49m\u001b[43m(\u001b[49m\u001b[38;5;241;43m78\u001b[39;49m\u001b[43m)\u001b[49m\n",
      "\u001b[1;31mKeyError\u001b[0m: 78"
     ]
    }
   ],
   "source": [
    "#5. remove(x)\n",
    "s = {10,20,30,40}\n",
    "s.remove(30)\n",
    "print(s)\n",
    "s.remove(78)"
   ]
  },
  {
   "cell_type": "code",
   "execution_count": 11,
   "id": "72eeaf8d",
   "metadata": {},
   "outputs": [
    {
     "name": "stdout",
     "output_type": "stream",
     "text": [
      "{20, 30}\n",
      "{20, 30}\n"
     ]
    }
   ],
   "source": [
    "#6. discard(x)\n",
    "s = {10,20,30}\n",
    "s.discard(10)\n",
    "print(s)\n",
    "s.discard(80)\n",
    "print(s)"
   ]
  },
  {
   "cell_type": "code",
   "execution_count": 12,
   "id": "6ac8346b",
   "metadata": {},
   "outputs": [
    {
     "name": "stdout",
     "output_type": "stream",
     "text": [
      "{10, 20, 30}\n",
      "set()\n"
     ]
    }
   ],
   "source": [
    "#7. clear()\n",
    "s= {10,20,30}\n",
    "print(s)\n",
    "s.clear()\n",
    "print(s)"
   ]
  },
  {
   "cell_type": "markdown",
   "id": "2525108b",
   "metadata": {},
   "source": [
    "### Mathematical operations on the set"
   ]
  },
  {
   "cell_type": "code",
   "execution_count": 13,
   "id": "b52aa8e3",
   "metadata": {},
   "outputs": [
    {
     "name": "stdout",
     "output_type": "stream",
     "text": [
      "{40, 10, 50, 20, 60, 30}\n"
     ]
    }
   ],
   "source": [
    "# 1. union()\n",
    "x = {10,20,30,40}\n",
    "y = {30,40,50,60}\n",
    "print(x.union(y))"
   ]
  },
  {
   "cell_type": "code",
   "execution_count": null,
   "id": "4492d0b7",
   "metadata": {},
   "outputs": [
    {
     "name": "stdout",
     "output_type": "stream",
     "text": [
      "{40, 30}\n"
     ]
    }
   ],
   "source": [
    "# 2. intersection()\n",
    "x = {10,20,30,40}\n",
    "y = {30,40,50,60}\n",
    "print(x.intersection(y))"
   ]
  },
  {
   "cell_type": "code",
   "execution_count": 15,
   "id": "609fd3f2",
   "metadata": {},
   "outputs": [
    {
     "name": "stdout",
     "output_type": "stream",
     "text": [
      "{10, 20}\n"
     ]
    }
   ],
   "source": [
    "# 3. difference()\n",
    "x = {10,20,30,40}\n",
    "y = {30,40,50,60}\n",
    "print(x.difference(y))"
   ]
  },
  {
   "cell_type": "code",
   "execution_count": 16,
   "id": "6647ff0b",
   "metadata": {},
   "outputs": [
    {
     "name": "stdout",
     "output_type": "stream",
     "text": [
      "{10, 50, 20, 60}\n"
     ]
    }
   ],
   "source": [
    "# 4. symetric_difference()\n",
    "x = {10,20,30,40}\n",
    "y = {30,40,50,60}\n",
    "print(x.symmetric_difference(y))"
   ]
  },
  {
   "cell_type": "code",
   "execution_count": 17,
   "id": "cc05d5f4",
   "metadata": {},
   "outputs": [
    {
     "name": "stdout",
     "output_type": "stream",
     "text": [
      "{0, 1, 4, 9, 16}\n"
     ]
    }
   ],
   "source": [
    "#set comprehension\n",
    "s = {x*x for x in range(5)}\n",
    "print(s)"
   ]
  },
  {
   "cell_type": "code",
   "execution_count": 18,
   "id": "ad13bd67",
   "metadata": {},
   "outputs": [
    {
     "name": "stdout",
     "output_type": "stream",
     "text": [
      "[1, 2, 3, 4, 5]\n"
     ]
    }
   ],
   "source": [
    "#Write a program to eliminate duplicates present in the list?\n",
    "l= [1,2,3,4,5,3,4,2,4,3,5]\n",
    "s= set(l)\n",
    "print(list(s))"
   ]
  },
  {
   "cell_type": "code",
   "execution_count": 19,
   "id": "24a377fb",
   "metadata": {},
   "outputs": [
    {
     "name": "stdout",
     "output_type": "stream",
     "text": [
      "[1, 2, 3, 4, 5]\n"
     ]
    }
   ],
   "source": [
    "l= [1,2,3,4,5,3,4,2,4,3,5]\n",
    "l1 = []\n",
    "for i in l:\n",
    "    if i not in l1:\n",
    "        l1.append(i)\n",
    "print(l1)"
   ]
  },
  {
   "cell_type": "code",
   "execution_count": 20,
   "id": "eb4c9762",
   "metadata": {},
   "outputs": [
    {
     "name": "stdout",
     "output_type": "stream",
     "text": [
      "{'u', 'a'}\n"
     ]
    }
   ],
   "source": [
    "#write a program to print different vowels present in the given word\n",
    "w= input(\"Enter the word\")\n",
    "s = set(w)\n",
    "v = {\"a\", \"e\", \"i\", \"o\", \"u\"}\n",
    "print(s.intersection(v))\n"
   ]
  },
  {
   "cell_type": "markdown",
   "id": "e2eab9d5",
   "metadata": {},
   "source": [
    "## Dictionary"
   ]
  },
  {
   "cell_type": "markdown",
   "id": "a68f7d39",
   "metadata": {},
   "source": [
    "#### How to create Dictionary"
   ]
  },
  {
   "cell_type": "code",
   "execution_count": 3,
   "id": "e9a2ffa0",
   "metadata": {},
   "outputs": [
    {
     "name": "stdout",
     "output_type": "stream",
     "text": [
      "<class 'dict'>\n",
      "<class 'dict'>\n",
      "{}\n",
      "{100: 'nari', 101: 'shashi', 102: 'sudheer'}\n",
      "<class 'dict'>\n",
      "<class 'dict'>\n",
      "{100: 'akhil', 101: 'sushma', 102: 'sasi'}\n"
     ]
    }
   ],
   "source": [
    "d = {}\n",
    "print(type(d))\n",
    "d = dict()\n",
    "print(type(d))\n",
    "print(d)\n",
    "d[100] = \"nari\"\n",
    "d[101] = \"shashi\"\n",
    "d[102] = \"sudheer\"\n",
    "print(d)\n",
    "print(type(d))\n",
    "d = {100:\"akhil\", 101:\"sushma\", 102:\"sasi\"}\n",
    "print(type(d))\n",
    "print(d)"
   ]
  },
  {
   "cell_type": "code",
   "execution_count": 4,
   "id": "36af96ba",
   "metadata": {},
   "outputs": [
    {
     "name": "stdout",
     "output_type": "stream",
     "text": [
      "akhil\n",
      "sasi\n"
     ]
    },
    {
     "ename": "KeyError",
     "evalue": "400",
     "output_type": "error",
     "traceback": [
      "\u001b[1;31m---------------------------------------------------------------------------\u001b[0m",
      "\u001b[1;31mKeyError\u001b[0m                                  Traceback (most recent call last)",
      "Cell \u001b[1;32mIn[4], line 5\u001b[0m\n\u001b[0;32m      3\u001b[0m \u001b[38;5;28mprint\u001b[39m(d[\u001b[38;5;241m100\u001b[39m])\n\u001b[0;32m      4\u001b[0m \u001b[38;5;28mprint\u001b[39m(d[\u001b[38;5;241m102\u001b[39m])\n\u001b[1;32m----> 5\u001b[0m \u001b[38;5;28mprint\u001b[39m(\u001b[43md\u001b[49m\u001b[43m[\u001b[49m\u001b[38;5;241;43m400\u001b[39;49m\u001b[43m]\u001b[49m)\n",
      "\u001b[1;31mKeyError\u001b[0m: 400"
     ]
    }
   ],
   "source": [
    "#Accessing the data from the dict\n",
    "d = {100:\"akhil\", 101:\"sushma\", 102:\"sasi\"}\n",
    "print(d[100])\n",
    "print(d[102])\n",
    "print(d[400])"
   ]
  },
  {
   "cell_type": "code",
   "execution_count": 5,
   "id": "e1f6b8c4",
   "metadata": {},
   "outputs": [
    {
     "name": "stdout",
     "output_type": "stream",
     "text": [
      "Name of Student \t % of marks\n",
      "--------------- \t ----------\n",
      "\t Akhil \t\t 90%\n",
      "\t Suss \t\t 99%\n",
      "\t Sasi \t\t 95%\n"
     ]
    }
   ],
   "source": [
    "#Write a program to enter name and percentage marks in a dict and display information on the screen\n",
    "n = int(input(\"Enter number of students\"))\n",
    "rec = {}\n",
    "i = 1\n",
    "while i <= n:\n",
    "    name = input(\"Enter the student name\")\n",
    "    marks = input(\"Enter % of marks of students\")\n",
    "    rec[name] = marks\n",
    "    i = i+1\n",
    "print(\"Name of Student\", \"\\t\", \"% of marks\")\n",
    "print(\"---------------\", \"\\t\", \"----------\")\n",
    "for x in rec:\n",
    "    print(\"\\t\", x, \"\\t\\t\", rec[x])"
   ]
  },
  {
   "cell_type": "code",
   "execution_count": 6,
   "id": "118a46f6",
   "metadata": {},
   "outputs": [
    {
     "name": "stdout",
     "output_type": "stream",
     "text": [
      "{101: 'sushma', 102: 'sasi'}\n",
      "{101: 'sushma'}\n"
     ]
    }
   ],
   "source": [
    "# how to delete elements from dict\n",
    "d = {100:\"akhil\", 101:\"sushma\", 102:\"sasi\"}\n",
    "del d[100]\n",
    "print(d)\n",
    "del d[102]\n",
    "print(d)"
   ]
  },
  {
   "cell_type": "code",
   "execution_count": 7,
   "id": "f00321ff",
   "metadata": {},
   "outputs": [
    {
     "name": "stdout",
     "output_type": "stream",
     "text": [
      "{}\n"
     ]
    }
   ],
   "source": [
    "d.clear()\n",
    "print(d)"
   ]
  },
  {
   "cell_type": "code",
   "execution_count": 8,
   "id": "433e8479",
   "metadata": {},
   "outputs": [],
   "source": [
    "del d"
   ]
  },
  {
   "cell_type": "code",
   "execution_count": 9,
   "id": "5385a81f",
   "metadata": {},
   "outputs": [
    {
     "ename": "NameError",
     "evalue": "name 'd' is not defined",
     "output_type": "error",
     "traceback": [
      "\u001b[1;31m---------------------------------------------------------------------------\u001b[0m",
      "\u001b[1;31mNameError\u001b[0m                                 Traceback (most recent call last)",
      "Cell \u001b[1;32mIn[9], line 1\u001b[0m\n\u001b[1;32m----> 1\u001b[0m \u001b[38;5;28mprint\u001b[39m(\u001b[43md\u001b[49m)\n",
      "\u001b[1;31mNameError\u001b[0m: name 'd' is not defined"
     ]
    }
   ],
   "source": [
    "print(d)"
   ]
  },
  {
   "cell_type": "code",
   "execution_count": 10,
   "id": "60b6d785",
   "metadata": {},
   "outputs": [
    {
     "name": "stdout",
     "output_type": "stream",
     "text": [
      "akhil\n"
     ]
    },
    {
     "ename": "KeyError",
     "evalue": "400",
     "output_type": "error",
     "traceback": [
      "\u001b[1;31m---------------------------------------------------------------------------\u001b[0m",
      "\u001b[1;31mKeyError\u001b[0m                                  Traceback (most recent call last)",
      "Cell \u001b[1;32mIn[10], line 3\u001b[0m\n\u001b[0;32m      1\u001b[0m d \u001b[38;5;241m=\u001b[39m {\u001b[38;5;241m100\u001b[39m:\u001b[38;5;124m\"\u001b[39m\u001b[38;5;124makhil\u001b[39m\u001b[38;5;124m\"\u001b[39m, \u001b[38;5;241m101\u001b[39m:\u001b[38;5;124m\"\u001b[39m\u001b[38;5;124msushma\u001b[39m\u001b[38;5;124m\"\u001b[39m, \u001b[38;5;241m102\u001b[39m:\u001b[38;5;124m\"\u001b[39m\u001b[38;5;124msasi\u001b[39m\u001b[38;5;124m\"\u001b[39m}\n\u001b[0;32m      2\u001b[0m \u001b[38;5;28mprint\u001b[39m(d[\u001b[38;5;241m100\u001b[39m])\n\u001b[1;32m----> 3\u001b[0m \u001b[38;5;28mprint\u001b[39m(\u001b[43md\u001b[49m\u001b[43m[\u001b[49m\u001b[38;5;241;43m400\u001b[39;49m\u001b[43m]\u001b[49m)\n",
      "\u001b[1;31mKeyError\u001b[0m: 400"
     ]
    }
   ],
   "source": [
    "d = {100:\"akhil\", 101:\"sushma\", 102:\"sasi\"}\n",
    "print(d[100])\n",
    "print(d[400])"
   ]
  },
  {
   "cell_type": "code",
   "execution_count": 11,
   "id": "f323c7e1",
   "metadata": {},
   "outputs": [
    {
     "name": "stdout",
     "output_type": "stream",
     "text": [
      "akhil\n",
      "None\n"
     ]
    }
   ],
   "source": [
    "print(d.get(100))\n",
    "print(d.get(400))"
   ]
  },
  {
   "cell_type": "code",
   "execution_count": 12,
   "id": "2b442032",
   "metadata": {},
   "outputs": [
    {
     "name": "stdout",
     "output_type": "stream",
     "text": [
      "akhil\n",
      "hello\n"
     ]
    }
   ],
   "source": [
    "print(d.get(100,\"Sudheer\"))\n",
    "print(d.get(400, \"hello\"))"
   ]
  },
  {
   "cell_type": "code",
   "execution_count": 14,
   "id": "598c30d7",
   "metadata": {},
   "outputs": [
    {
     "data": {
      "text/plain": [
       "'akhil'"
      ]
     },
     "execution_count": 14,
     "metadata": {},
     "output_type": "execute_result"
    }
   ],
   "source": [
    "d.pop(100)"
   ]
  },
  {
   "cell_type": "code",
   "execution_count": 15,
   "id": "a389312d",
   "metadata": {},
   "outputs": [
    {
     "data": {
      "text/plain": [
       "{101: 'sushma', 102: 'sasi'}"
      ]
     },
     "execution_count": 15,
     "metadata": {},
     "output_type": "execute_result"
    }
   ],
   "source": [
    "d"
   ]
  },
  {
   "cell_type": "code",
   "execution_count": 16,
   "id": "4c57dace",
   "metadata": {},
   "outputs": [
    {
     "data": {
      "text/plain": [
       "(102, 'sasi')"
      ]
     },
     "execution_count": 16,
     "metadata": {},
     "output_type": "execute_result"
    }
   ],
   "source": [
    "d.popitem()"
   ]
  },
  {
   "cell_type": "code",
   "execution_count": 17,
   "id": "70c22ff3",
   "metadata": {},
   "outputs": [
    {
     "data": {
      "text/plain": [
       "{101: 'sushma'}"
      ]
     },
     "execution_count": 17,
     "metadata": {},
     "output_type": "execute_result"
    }
   ],
   "source": [
    "d"
   ]
  },
  {
   "cell_type": "code",
   "execution_count": 18,
   "id": "8f56eff9",
   "metadata": {},
   "outputs": [
    {
     "ename": "KeyError",
     "evalue": "'popitem(): dictionary is empty'",
     "output_type": "error",
     "traceback": [
      "\u001b[1;31m---------------------------------------------------------------------------\u001b[0m",
      "\u001b[1;31mKeyError\u001b[0m                                  Traceback (most recent call last)",
      "Cell \u001b[1;32mIn[18], line 2\u001b[0m\n\u001b[0;32m      1\u001b[0m d \u001b[38;5;241m=\u001b[39m {}\n\u001b[1;32m----> 2\u001b[0m \u001b[38;5;28mprint\u001b[39m(\u001b[43md\u001b[49m\u001b[38;5;241;43m.\u001b[39;49m\u001b[43mpopitem\u001b[49m\u001b[43m(\u001b[49m\u001b[43m)\u001b[49m)\n",
      "\u001b[1;31mKeyError\u001b[0m: 'popitem(): dictionary is empty'"
     ]
    }
   ],
   "source": [
    "d = {}\n",
    "print(d.popitem())"
   ]
  },
  {
   "cell_type": "code",
   "execution_count": 19,
   "id": "2c979b76",
   "metadata": {},
   "outputs": [
    {
     "name": "stdout",
     "output_type": "stream",
     "text": [
      "dict_keys([100, 101, 102])\n",
      "100 101 102 "
     ]
    }
   ],
   "source": [
    "#keys\n",
    "\n",
    "d = {100:\"akhil\", 101:\"sushma\", 102:\"sasi\"}\n",
    "print(d.keys())\n",
    "for x in d.keys():\n",
    "    print(x, end=\" \")"
   ]
  },
  {
   "cell_type": "code",
   "execution_count": 20,
   "id": "71fd4e97",
   "metadata": {},
   "outputs": [
    {
     "name": "stdout",
     "output_type": "stream",
     "text": [
      "dict_values(['akhil', 'sushma', 'sasi'])\n",
      "akhil sushma sasi "
     ]
    }
   ],
   "source": [
    "#values\n",
    "d = {100:\"akhil\", 101:\"sushma\", 102:\"sasi\"}\n",
    "print(d.values())\n",
    "for x in d.values():\n",
    "    print(x, end=\" \")"
   ]
  },
  {
   "cell_type": "code",
   "execution_count": 23,
   "id": "bb4cabef",
   "metadata": {},
   "outputs": [
    {
     "name": "stdout",
     "output_type": "stream",
     "text": [
      "100 --- akhil\n",
      "101 --- sushma\n",
      "102 --- sasi\n"
     ]
    }
   ],
   "source": [
    "#items\n",
    "d = {100:\"akhil\", 101:\"sushma\", 102:\"sasi\"}\n",
    "for k,v in d.items():\n",
    "    print(k, \"---\", v)"
   ]
  },
  {
   "cell_type": "code",
   "execution_count": 24,
   "id": "52669467",
   "metadata": {},
   "outputs": [
    {
     "name": "stdout",
     "output_type": "stream",
     "text": [
      "{100: 'akhil', 101: 'sushma', 102: 'sasi'}\n"
     ]
    }
   ],
   "source": [
    "d1 = d.copy()\n",
    "print(d1)"
   ]
  },
  {
   "cell_type": "code",
   "execution_count": 26,
   "id": "a504947e",
   "metadata": {},
   "outputs": [
    {
     "name": "stdout",
     "output_type": "stream",
     "text": [
      "akhil\n",
      "{100: 'akhil', 101: 'sushma', 102: 'sasi'}\n",
      "sachin\n",
      "{100: 'akhil', 101: 'sushma', 102: 'sasi', 400: 'sachin'}\n"
     ]
    }
   ],
   "source": [
    "# setdefault\n",
    "d = {100:\"akhil\", 101:\"sushma\", 102:\"sasi\"}\n",
    "print(d.setdefault(100, \"Sudheer\"))\n",
    "print(d)\n",
    "print(d.setdefault(400,\"sachin\"))\n",
    "print(d)"
   ]
  },
  {
   "cell_type": "code",
   "execution_count": 31,
   "id": "47100bc8",
   "metadata": {},
   "outputs": [
    {
     "name": "stdout",
     "output_type": "stream",
     "text": [
      "m occurred 1 times\n",
      "i occurred 4 times\n",
      "s occurred 4 times\n",
      "p occurred 2 times\n"
     ]
    }
   ],
   "source": [
    "#Write a program to find the number of occurrences of each letter present in the given string\n",
    "word = \"mississippi\"\n",
    "d = {}\n",
    "for x in word:\n",
    "    d[x] = d.get(x, 0) +1\n",
    "for k,v in d.items():\n",
    "    print(k, \"occurred\", v, \"times\")"
   ]
  },
  {
   "cell_type": "code",
   "execution_count": 32,
   "id": "1eaf69b7",
   "metadata": {},
   "outputs": [
    {
     "name": "stdout",
     "output_type": "stream",
     "text": [
      "a occurred 4 times\n",
      "i occurred 2 times\n",
      "o occurred 2 times\n"
     ]
    }
   ],
   "source": [
    "#Write a program to find number of occurences of each vowel present in the given string\n",
    "word = \"doganimaldoganimal\"\n",
    "vowels = {\"a\", \"e\", \"i\", \"o\",\"u\"}\n",
    "d = {}\n",
    "for x in word:\n",
    "    if x in vowels:\n",
    "        d[x] = d.get(x, 0) + 1\n",
    "\n",
    "for k,v in sorted(d.items()):\n",
    "    print(k, \"occurred\", v, \"times\")"
   ]
  },
  {
   "cell_type": "code",
   "execution_count": null,
   "id": "7dd7a4ba",
   "metadata": {},
   "outputs": [
    {
     "name": "stdout",
     "output_type": "stream",
     "text": [
      "Student not found akhil\n",
      "Thanks fro using our application\n"
     ]
    }
   ],
   "source": [
    "#write a program to accept student name and marks from the keyboard and creates a dictionary , also display student marks by taking student name as input?\n",
    "n = int(input(\"Enter number of students\"))\n",
    "d = {}\n",
    "for i in range(n):\n",
    "    name = input(\"Enter name of the student\")\n",
    "    marks = input(\"Enter the student marks\")\n",
    "    d[name] = marks\n",
    "while True:\n",
    "    name = input(\"Enter the student name to get marks\")\n",
    "    marks = d.get(name, -1)\n",
    "    if marks == -1:\n",
    "        print(\"Student not found\", name)\n",
    "    else:\n",
    "        print(\"The marks of \", name, \"are\", marks)\n",
    "    option = input(\"Do you want to find another student marks [yes/ no]\")\n",
    "    if option.lower() == \"no\":\n",
    "        break\n",
    "print(\"Thanks fro using our application\")"
   ]
  },
  {
   "cell_type": "markdown",
   "id": "3d5bcb8b",
   "metadata": {},
   "source": [
    "#### Dictionary comprehension"
   ]
  },
  {
   "cell_type": "code",
   "execution_count": 38,
   "id": "bf788d7b",
   "metadata": {},
   "outputs": [
    {
     "name": "stdout",
     "output_type": "stream",
     "text": [
      "{1: 1, 2: 4, 3: 9, 4: 16, 5: 25}\n",
      "{1: 2, 2: 4, 3: 6, 4: 8, 5: 10}\n"
     ]
    }
   ],
   "source": [
    "squares = {x:x*x for x in range(1,6)}\n",
    "print(squares)\n",
    "doubles = {x:2*x for x in range(1,6)}\n",
    "print(doubles)"
   ]
  },
  {
   "cell_type": "markdown",
   "id": "6df8d891",
   "metadata": {},
   "source": [
    "### Functions"
   ]
  },
  {
   "cell_type": "code",
   "execution_count": 39,
   "id": "e7e88bac",
   "metadata": {},
   "outputs": [
    {
     "name": "stdout",
     "output_type": "stream",
     "text": [
      "10 is Even number\n",
      "9 is Odd Number\n"
     ]
    }
   ],
   "source": [
    "#Write a function to check whether the given number is even or odd\n",
    "def even_odd(num):\n",
    "    if num%2 ==0 :\n",
    "        print(num, \"is Even number\")\n",
    "    else:\n",
    "        print(num, \"is Odd Number\")\n",
    "even_odd(10)\n",
    "even_odd(9)"
   ]
  },
  {
   "cell_type": "code",
   "execution_count": 40,
   "id": "ce987ac0",
   "metadata": {},
   "outputs": [
    {
     "name": "stdout",
     "output_type": "stream",
     "text": [
      "The factorial of 1 is 1\n",
      "The factorial of 2 is 2\n",
      "The factorial of 3 is 6\n",
      "The factorial of 4 is 24\n"
     ]
    }
   ],
   "source": [
    "#Write a function to find factorial of given number\n",
    "def factorial(num):\n",
    "    result = 1\n",
    "    while num >= 1:\n",
    "        result = result*num\n",
    "        num = num-1\n",
    "    return result\n",
    "for i in range(1,5):\n",
    "    print(\"The factorial of\",i, \"is\", factorial(i))\n",
    "    "
   ]
  },
  {
   "cell_type": "code",
   "execution_count": 41,
   "id": "841ae032",
   "metadata": {},
   "outputs": [
    {
     "name": "stdout",
     "output_type": "stream",
     "text": [
      "5\n",
      "-75\n"
     ]
    }
   ],
   "source": [
    "#1. Positional Arguments\n",
    "def sub(a,b):\n",
    "    print(a-b)\n",
    "sub(15, 10)\n",
    "sub(15, 90)"
   ]
  },
  {
   "cell_type": "code",
   "execution_count": 42,
   "id": "1630af03",
   "metadata": {},
   "outputs": [
    {
     "name": "stdout",
     "output_type": "stream",
     "text": [
      "5\n",
      "75\n"
     ]
    }
   ],
   "source": [
    "#2. Keyword arguments\n",
    "def sub(a,b):\n",
    "    print(a-b)\n",
    "sub(a=10, b=5)\n",
    "sub(b=15, a=90)"
   ]
  },
  {
   "cell_type": "code",
   "execution_count": 43,
   "id": "5edc5d07",
   "metadata": {},
   "outputs": [
    {
     "name": "stdout",
     "output_type": "stream",
     "text": [
      "Hello Akhil Good morning\n"
     ]
    }
   ],
   "source": [
    "def wish(name, msg):\n",
    "    print(\"Hello\", name, msg)\n",
    "wish(name= \"Akhil\", msg=\"Good morning\" )"
   ]
  },
  {
   "cell_type": "code",
   "execution_count": 44,
   "id": "2ab5a333",
   "metadata": {},
   "outputs": [
    {
     "name": "stdout",
     "output_type": "stream",
     "text": [
      "Hello Akhil Good morning\n"
     ]
    }
   ],
   "source": [
    "wish(\"Akhil\", msg=\"Good morning\" )"
   ]
  },
  {
   "cell_type": "code",
   "execution_count": 45,
   "id": "bb52a296",
   "metadata": {},
   "outputs": [
    {
     "ename": "SyntaxError",
     "evalue": "positional argument follows keyword argument (920209309.py, line 1)",
     "output_type": "error",
     "traceback": [
      "\u001b[1;36m  Cell \u001b[1;32mIn[45], line 1\u001b[1;36m\u001b[0m\n\u001b[1;33m    wish(name= \"Akhil\",\"Good morning\")\u001b[0m\n\u001b[1;37m                                     ^\u001b[0m\n\u001b[1;31mSyntaxError\u001b[0m\u001b[1;31m:\u001b[0m positional argument follows keyword argument\n"
     ]
    }
   ],
   "source": [
    "wish(name= \"Akhil\",\"Good morning\")"
   ]
  },
  {
   "cell_type": "code",
   "execution_count": 46,
   "id": "b70a48aa",
   "metadata": {},
   "outputs": [
    {
     "name": "stdout",
     "output_type": "stream",
     "text": [
      "Hello Akhil Good morning\n",
      "Hello Guest Good morning\n"
     ]
    }
   ],
   "source": [
    "#3. Default arguments\n",
    "def wish(name=\"Guest\"):\n",
    "    print(\"Hello\", name, \"Good morning\")\n",
    "\n",
    "wish(\"Akhil\")\n",
    "wish()"
   ]
  },
  {
   "cell_type": "code",
   "execution_count": 50,
   "id": "52f7917a",
   "metadata": {},
   "outputs": [
    {
     "name": "stdout",
     "output_type": "stream",
     "text": [
      "The sum is 0\n",
      "The sum is 110\n",
      "The sum is 175\n"
     ]
    }
   ],
   "source": [
    "#4. Variable length arguments\n",
    "def sum(*n):\n",
    "    total = 0\n",
    "\n",
    "    for n1 in n:\n",
    "        total = total+n1\n",
    "    print(\"The sum is\", total)\n",
    "sum()\n",
    "sum(10,20,30,50)\n",
    "sum(10,4,56,7,8,90)"
   ]
  },
  {
   "cell_type": "code",
   "execution_count": 52,
   "id": "804a9aca",
   "metadata": {},
   "outputs": [
    {
     "name": "stdout",
     "output_type": "stream",
     "text": [
      "n1 = 10\n",
      "n1 = 10\n",
      "20\n",
      "30\n",
      "40\n",
      "50\n"
     ]
    }
   ],
   "source": [
    "def f1(n1, *s):\n",
    "    print(\"n1 =\",n1)\n",
    "    for s1 in s:\n",
    "        print(s1)\n",
    "f1(10)\n",
    "f1(10,20,30,40,50)\n"
   ]
  },
  {
   "cell_type": "code",
   "execution_count": 53,
   "id": "39892f17",
   "metadata": {},
   "outputs": [
    {
     "ename": "TypeError",
     "evalue": "f1() missing 1 required keyword-only argument: 'n1'",
     "output_type": "error",
     "traceback": [
      "\u001b[1;31m---------------------------------------------------------------------------\u001b[0m",
      "\u001b[1;31mTypeError\u001b[0m                                 Traceback (most recent call last)",
      "Cell \u001b[1;32mIn[53], line 5\u001b[0m\n\u001b[0;32m      3\u001b[0m     \u001b[38;5;28;01mfor\u001b[39;00m s1 \u001b[38;5;129;01min\u001b[39;00m s:\n\u001b[0;32m      4\u001b[0m         \u001b[38;5;28mprint\u001b[39m(s1)\n\u001b[1;32m----> 5\u001b[0m \u001b[43mf1\u001b[49m\u001b[43m(\u001b[49m\u001b[38;5;241;43m10\u001b[39;49m\u001b[43m,\u001b[49m\u001b[38;5;241;43m20\u001b[39;49m\u001b[43m,\u001b[49m\u001b[38;5;241;43m30\u001b[39;49m\u001b[43m,\u001b[49m\u001b[38;5;241;43m40\u001b[39;49m\u001b[43m,\u001b[49m\u001b[38;5;241;43m50\u001b[39;49m\u001b[43m)\u001b[49m\n",
      "\u001b[1;31mTypeError\u001b[0m: f1() missing 1 required keyword-only argument: 'n1'"
     ]
    }
   ],
   "source": [
    "def f1(*s, n1):\n",
    "    print(\"n1 =\",n1)\n",
    "    for s1 in s:\n",
    "        print(s1)\n",
    "f1(10,20,30,40,50)"
   ]
  },
  {
   "cell_type": "code",
   "execution_count": 54,
   "id": "42e7b2fb",
   "metadata": {},
   "outputs": [
    {
     "name": "stdout",
     "output_type": "stream",
     "text": [
      "n1 = 70\n",
      "10\n",
      "20\n",
      "30\n",
      "40\n",
      "50\n"
     ]
    }
   ],
   "source": [
    "def f1(*s, n1):\n",
    "    print(\"n1 =\",n1)\n",
    "    for s1 in s:\n",
    "        print(s1)\n",
    "f1(10,20,30,40,50, n1 = 70)"
   ]
  },
  {
   "cell_type": "code",
   "execution_count": 56,
   "id": "8c4d5875",
   "metadata": {},
   "outputs": [
    {
     "name": "stdout",
     "output_type": "stream",
     "text": [
      "a -- 10\n",
      "b -- 20\n",
      "c -- 30\n",
      "d -- 40\n",
      "--------------\n",
      "name -- Akhil\n",
      "roll_number -- 529\n"
     ]
    }
   ],
   "source": [
    "#Keyword variable length arguments\n",
    "def display(**kwargs):\n",
    "    for k,v in kwargs.items():\n",
    "        print(k, \"--\", v)\n",
    "display(a=10, b= 20, c=30, d=40)\n",
    "print('--------------')\n",
    "display(name=\"Akhil\", roll_number = 529)"
   ]
  },
  {
   "cell_type": "code",
   "execution_count": 57,
   "id": "cc42b71f",
   "metadata": {},
   "outputs": [
    {
     "name": "stdout",
     "output_type": "stream",
     "text": [
      "888\n",
      "10\n"
     ]
    }
   ],
   "source": [
    "#global variable and local variable\n",
    "a=10\n",
    "def f1():\n",
    "    a=888\n",
    "    print(a)\n",
    "def f2():\n",
    "    print(a)\n",
    "f1()\n",
    "f2()"
   ]
  },
  {
   "cell_type": "code",
   "execution_count": 58,
   "id": "96add7b7",
   "metadata": {},
   "outputs": [
    {
     "name": "stdout",
     "output_type": "stream",
     "text": [
      "888\n",
      "888\n"
     ]
    }
   ],
   "source": [
    "a=10\n",
    "def f1():\n",
    "    global a\n",
    "    a=888\n",
    "    print(a)\n",
    "def f2():\n",
    "    print(a)\n",
    "f1()\n",
    "f2()"
   ]
  },
  {
   "cell_type": "code",
   "execution_count": 60,
   "id": "6c0123e6",
   "metadata": {},
   "outputs": [
    {
     "name": "stdout",
     "output_type": "stream",
     "text": [
      "888\n"
     ]
    },
    {
     "ename": "NameError",
     "evalue": "name 'b' is not defined",
     "output_type": "error",
     "traceback": [
      "\u001b[1;31m---------------------------------------------------------------------------\u001b[0m",
      "\u001b[1;31mNameError\u001b[0m                                 Traceback (most recent call last)",
      "Cell \u001b[1;32mIn[60], line 8\u001b[0m\n\u001b[0;32m      6\u001b[0m     \u001b[38;5;28mprint\u001b[39m(b)\n\u001b[0;32m      7\u001b[0m f1()\n\u001b[1;32m----> 8\u001b[0m \u001b[43mf2\u001b[49m\u001b[43m(\u001b[49m\u001b[43m)\u001b[49m\n",
      "Cell \u001b[1;32mIn[60], line 6\u001b[0m, in \u001b[0;36mf2\u001b[1;34m()\u001b[0m\n\u001b[0;32m      5\u001b[0m \u001b[38;5;28;01mdef\u001b[39;00m\u001b[38;5;250m \u001b[39m\u001b[38;5;21mf2\u001b[39m():\n\u001b[1;32m----> 6\u001b[0m     \u001b[38;5;28mprint\u001b[39m(\u001b[43mb\u001b[49m)\n",
      "\u001b[1;31mNameError\u001b[0m: name 'b' is not defined"
     ]
    }
   ],
   "source": [
    "\n",
    "def f1():\n",
    "\n",
    "    b=888\n",
    "    print(b)\n",
    "def f2():\n",
    "    print(b)\n",
    "f1()\n",
    "f2()"
   ]
  },
  {
   "cell_type": "code",
   "execution_count": 61,
   "id": "35216f98",
   "metadata": {},
   "outputs": [
    {
     "name": "stdout",
     "output_type": "stream",
     "text": [
      "888\n",
      "888\n"
     ]
    }
   ],
   "source": [
    "def f1():\n",
    "    global b\n",
    "\n",
    "    b=888\n",
    "    print(b)\n",
    "def f2():\n",
    "    print(b)\n",
    "f1()\n",
    "f2()"
   ]
  },
  {
   "cell_type": "code",
   "execution_count": 62,
   "id": "047fbdc5",
   "metadata": {},
   "outputs": [
    {
     "name": "stdout",
     "output_type": "stream",
     "text": [
      "888\n",
      "10\n"
     ]
    }
   ],
   "source": [
    "c=10\n",
    "def f1():\n",
    "    c=888\n",
    "    print(c)\n",
    "    print(globals()['c'])\n",
    "\n",
    "f1()\n"
   ]
  },
  {
   "cell_type": "markdown",
   "id": "2568dc72",
   "metadata": {},
   "source": [
    "### Recursive Functions"
   ]
  },
  {
   "cell_type": "code",
   "execution_count": 64,
   "id": "fd4e3527",
   "metadata": {},
   "outputs": [
    {
     "name": "stdout",
     "output_type": "stream",
     "text": [
      "factorial of 4 is 24\n",
      "factorial of 5 is 120\n"
     ]
    }
   ],
   "source": [
    "#Write a python function to find the factorial of given number with recursion\n",
    "def factorial(n):\n",
    "    if n==0:\n",
    "        return 1\n",
    "    else:\n",
    "        result = n*factorial(n-1)\n",
    "\n",
    "    return result\n",
    "print(\"factorial of 4 is\",factorial(4))\n",
    "print(\"factorial of 5 is\",factorial(5))"
   ]
  },
  {
   "cell_type": "code",
   "execution_count": 67,
   "id": "4c3da6f0",
   "metadata": {},
   "outputs": [
    {
     "name": "stdout",
     "output_type": "stream",
     "text": [
      "The Square of 4 is 16\n"
     ]
    }
   ],
   "source": [
    "#Write a program to create a lambda function to find square of given number\n",
    "s = lambda x: x*x\n",
    "print(\"The Square of 4 is\", s(4))"
   ]
  },
  {
   "cell_type": "code",
   "execution_count": 68,
   "id": "ed0f1adb",
   "metadata": {},
   "outputs": [
    {
     "name": "stdout",
     "output_type": "stream",
     "text": [
      "The Square of 5 is 25\n"
     ]
    }
   ],
   "source": [
    "print(\"The Square of 5 is\", s(5))"
   ]
  },
  {
   "cell_type": "code",
   "execution_count": 69,
   "id": "79bb8bf8",
   "metadata": {},
   "outputs": [
    {
     "name": "stdout",
     "output_type": "stream",
     "text": [
      "The sum of 5 and 10 is 15\n"
     ]
    }
   ],
   "source": [
    "#Lambda function to find sum of 2 given numbers\n",
    "s = lambda a,b: a+b\n",
    "print(\"The sum of 5 and 10 is\", s(5,10))"
   ]
  },
  {
   "cell_type": "code",
   "execution_count": 70,
   "id": "4a30bc9b",
   "metadata": {},
   "outputs": [
    {
     "name": "stdout",
     "output_type": "stream",
     "text": [
      "The biggest of 10, 20 is 20\n",
      "The biggest of 10, 20 is 200\n"
     ]
    }
   ],
   "source": [
    "#Lambda function to find biggest of given values\n",
    "s = lambda a,b:a if a>b else b\n",
    "print(\"The biggest of 10, 20 is\", s(10,20))\n",
    "print(\"The biggest of 10, 20 is\", s(100,200))"
   ]
  },
  {
   "cell_type": "code",
   "execution_count": 71,
   "id": "87d36364",
   "metadata": {},
   "outputs": [
    {
     "name": "stdout",
     "output_type": "stream",
     "text": [
      "[2, 4, 6, 8, 30]\n"
     ]
    }
   ],
   "source": [
    "#program to filter only even numbers from the list by using filter() function\n",
    "l =[1,2,3,4,5,6,7,8,30,43]\n",
    "l1 = list(filter(lambda x:x%2==0, l))\n",
    "print(l1)"
   ]
  },
  {
   "cell_type": "code",
   "execution_count": 72,
   "id": "b2c13e02",
   "metadata": {},
   "outputs": [
    {
     "name": "stdout",
     "output_type": "stream",
     "text": [
      "[1, 3, 5, 7, 43]\n"
     ]
    }
   ],
   "source": [
    "l1 = list(filter(lambda x:x%2!=0, l))\n",
    "print(l1)"
   ]
  },
  {
   "cell_type": "code",
   "execution_count": 73,
   "id": "b8a30819",
   "metadata": {},
   "outputs": [
    {
     "name": "stdout",
     "output_type": "stream",
     "text": [
      "[2, 4, 6, 8, 10]\n"
     ]
    }
   ],
   "source": [
    "#double\n",
    "l=[1,2,3,4,5]\n",
    "s=list(map(lambda x:2*x,l))\n",
    "print(s)"
   ]
  },
  {
   "cell_type": "code",
   "execution_count": 74,
   "id": "b3c70871",
   "metadata": {},
   "outputs": [
    {
     "name": "stdout",
     "output_type": "stream",
     "text": [
      "[1, 4, 9, 16, 25]\n"
     ]
    }
   ],
   "source": [
    "#Square\n",
    "l=[1,2,3,4,5]\n",
    "s=list(map(lambda x:x*x,l))\n",
    "print(s)"
   ]
  },
  {
   "cell_type": "code",
   "execution_count": 75,
   "id": "65423f5a",
   "metadata": {},
   "outputs": [
    {
     "name": "stdout",
     "output_type": "stream",
     "text": [
      "[2, 6, 12, 20, 30]\n"
     ]
    }
   ],
   "source": [
    "l1 =[1,2,3,4,5]\n",
    "l2 =[2,3,4,5,6]\n",
    "l3 = list(map(lambda x,y:x*y, l1,l2))\n",
    "print(l3)"
   ]
  },
  {
   "cell_type": "code",
   "execution_count": 77,
   "id": "82f81a73",
   "metadata": {},
   "outputs": [
    {
     "name": "stdout",
     "output_type": "stream",
     "text": [
      "210\n"
     ]
    }
   ],
   "source": [
    "#Reduce\n",
    "from functools import *\n",
    "l=[10,20,30,40,50,60]\n",
    "result = reduce(lambda x,y:x+y, l)\n",
    "print(result)"
   ]
  },
  {
   "cell_type": "code",
   "execution_count": 78,
   "id": "c0bdf4b0",
   "metadata": {},
   "outputs": [
    {
     "name": "stdout",
     "output_type": "stream",
     "text": [
      "5050\n"
     ]
    }
   ],
   "source": [
    "from functools import *\n",
    "\n",
    "result = reduce(lambda x,y:x+y, range(1,101))\n",
    "print(result)"
   ]
  },
  {
   "cell_type": "markdown",
   "id": "9b10f66d",
   "metadata": {},
   "source": [
    "### Function Aliasing\n"
   ]
  },
  {
   "cell_type": "code",
   "execution_count": 79,
   "id": "4da809ea",
   "metadata": {},
   "outputs": [
    {
     "name": "stdout",
     "output_type": "stream",
     "text": [
      "Good moring akhil\n",
      "Good moring sudheer\n"
     ]
    }
   ],
   "source": [
    "def wish(name):\n",
    "    print(\"Good moring\", name)\n",
    "greeting = wish\n",
    "greeting(\"akhil\")\n",
    "wish(\"sudheer\")"
   ]
  },
  {
   "cell_type": "code",
   "execution_count": 80,
   "id": "a29cd18e",
   "metadata": {},
   "outputs": [
    {
     "name": "stdout",
     "output_type": "stream",
     "text": [
      "1960175105168\n",
      "1960175105168\n"
     ]
    }
   ],
   "source": [
    "print(id(wish))\n",
    "print(id(greeting))"
   ]
  },
  {
   "cell_type": "code",
   "execution_count": 82,
   "id": "96ca4590",
   "metadata": {},
   "outputs": [
    {
     "name": "stdout",
     "output_type": "stream",
     "text": [
      "Good moring Sasi\n"
     ]
    }
   ],
   "source": [
    "del wish\n",
    "greeting(\"Sasi\")"
   ]
  },
  {
   "cell_type": "code",
   "execution_count": 83,
   "id": "513e3b61",
   "metadata": {},
   "outputs": [
    {
     "ename": "NameError",
     "evalue": "name 'wish' is not defined",
     "output_type": "error",
     "traceback": [
      "\u001b[1;31m---------------------------------------------------------------------------\u001b[0m",
      "\u001b[1;31mNameError\u001b[0m                                 Traceback (most recent call last)",
      "Cell \u001b[1;32mIn[83], line 1\u001b[0m\n\u001b[1;32m----> 1\u001b[0m \u001b[43mwish\u001b[49m(\u001b[38;5;124m\"\u001b[39m\u001b[38;5;124makhil\u001b[39m\u001b[38;5;124m\"\u001b[39m)\n",
      "\u001b[1;31mNameError\u001b[0m: name 'wish' is not defined"
     ]
    }
   ],
   "source": [
    "wish(\"akhil\")"
   ]
  },
  {
   "cell_type": "markdown",
   "id": "b107a83b",
   "metadata": {},
   "source": [
    "### Nested Funcitons"
   ]
  },
  {
   "cell_type": "code",
   "execution_count": 84,
   "id": "89475564",
   "metadata": {},
   "outputs": [
    {
     "name": "stdout",
     "output_type": "stream",
     "text": [
      "Outer function started\n",
      "outer function calling inner function\n",
      "inner function started\n"
     ]
    }
   ],
   "source": [
    "def outer():\n",
    "    print(\"Outer function started\")\n",
    "    def inner():\n",
    "        print(\"inner function started\")\n",
    "    print(\"outer function calling inner function\")\n",
    "    inner()\n",
    "outer()"
   ]
  },
  {
   "cell_type": "code",
   "execution_count": 85,
   "id": "39334354",
   "metadata": {},
   "outputs": [
    {
     "name": "stdout",
     "output_type": "stream",
     "text": [
      "Outer function started\n",
      "Outer function returning inner function\n"
     ]
    }
   ],
   "source": [
    "#A function can return another function\n",
    "def outer():\n",
    "    print(\"Outer function started\")\n",
    "    def inner():\n",
    "        print(\"inner function started\")\n",
    "    print(\"Outer function returning inner function\")\n",
    "    return inner\n",
    "f1 = outer()"
   ]
  },
  {
   "cell_type": "code",
   "execution_count": 86,
   "id": "89afc8b0",
   "metadata": {},
   "outputs": [
    {
     "name": "stdout",
     "output_type": "stream",
     "text": [
      "inner function started\n"
     ]
    }
   ],
   "source": [
    "f1()"
   ]
  },
  {
   "cell_type": "code",
   "execution_count": 87,
   "id": "1d33c890",
   "metadata": {},
   "outputs": [
    {
     "name": "stdout",
     "output_type": "stream",
     "text": [
      "inner function started\n"
     ]
    }
   ],
   "source": [
    "f1()"
   ]
  },
  {
   "cell_type": "markdown",
   "id": "f8cf3c0d",
   "metadata": {},
   "source": [
    "### Modules"
   ]
  },
  {
   "cell_type": "code",
   "execution_count": 89,
   "id": "d9990b22",
   "metadata": {},
   "outputs": [
    {
     "name": "stdout",
     "output_type": "stream",
     "text": [
      "2.0\n",
      "8\n",
      "7\n"
     ]
    }
   ],
   "source": [
    "#Working with the math module\n",
    "from math import *\n",
    "print(sqrt(4))\n",
    "print(ceil(7.1))\n",
    "print(floor(7.1))\n"
   ]
  },
  {
   "cell_type": "code",
   "execution_count": 90,
   "id": "1db134a1",
   "metadata": {},
   "outputs": [
    {
     "name": "stdout",
     "output_type": "stream",
     "text": [
      "0.5992169837932745 0.9478265868161232 0.6998693522709077 0.1595084905739491 0.1718652054729245 0.3635185362320079 0.10562685618945467 0.07951570667170216 0.1695831265425921 0.9074057122085685 "
     ]
    }
   ],
   "source": [
    "#Random\n",
    "from random import *\n",
    "for i in range(10):\n",
    "    print(random(), end= \" \")"
   ]
  },
  {
   "cell_type": "code",
   "execution_count": 92,
   "id": "a8b458d0",
   "metadata": {},
   "outputs": [
    {
     "name": "stdout",
     "output_type": "stream",
     "text": [
      "33,29,409,492,297,"
     ]
    }
   ],
   "source": [
    "#randint\n",
    "from random import *\n",
    "for i in range(5):\n",
    "    print(randint(1,500), end = \",\")"
   ]
  },
  {
   "cell_type": "code",
   "execution_count": 94,
   "id": "962e5c3d",
   "metadata": {},
   "outputs": [
    {
     "name": "stdout",
     "output_type": "stream",
     "text": [
      "7.805463428647914,5.1850772982979185,3.4180932563552426,4.59266251265496,7.232504681917005,"
     ]
    }
   ],
   "source": [
    "from random import *\n",
    "for i in range(5):\n",
    "    print(uniform(1,10), end=\",\")"
   ]
  },
  {
   "cell_type": "code",
   "execution_count": 96,
   "id": "a26b2278",
   "metadata": {},
   "outputs": [
    {
     "name": "stdout",
     "output_type": "stream",
     "text": [
      "2,1,0,1,0,"
     ]
    }
   ],
   "source": [
    "#randrange([start], end, [step])\n",
    "from random import *\n",
    "for i in range(5):\n",
    "    print(randrange(5), end =\",\")"
   ]
  },
  {
   "cell_type": "code",
   "execution_count": 97,
   "id": "2ceb12a3",
   "metadata": {},
   "outputs": [
    {
     "name": "stdout",
     "output_type": "stream",
     "text": [
      "8,6,5,10,7,"
     ]
    }
   ],
   "source": [
    "from random import *\n",
    "for i in range(5):\n",
    "    print(randrange(5, 11), end =\",\")"
   ]
  },
  {
   "cell_type": "code",
   "execution_count": 99,
   "id": "1cb6ecf6",
   "metadata": {},
   "outputs": [
    {
     "name": "stdout",
     "output_type": "stream",
     "text": [
      "5,7,7,5,9,"
     ]
    }
   ],
   "source": [
    "from random import *\n",
    "for i in range(5):\n",
    "    print(randrange(5, 11,2), end =\",\")"
   ]
  },
  {
   "cell_type": "code",
   "execution_count": 100,
   "id": "957c85f3",
   "metadata": {},
   "outputs": [
    {
     "name": "stdout",
     "output_type": "stream",
     "text": [
      "7, 79, 54, 79, 8, 54, 79, 1, 8, 43, "
     ]
    }
   ],
   "source": [
    "#Choice\n",
    "from random import *\n",
    "l=[1,2,3,54,6,7,79,8,43]\n",
    "for i in range(10):\n",
    "    print(choice(l), end=\", \")"
   ]
  },
  {
   "cell_type": "markdown",
   "id": "9f667162",
   "metadata": {},
   "source": [
    "## OOPs"
   ]
  },
  {
   "cell_type": "code",
   "execution_count": 2,
   "id": "c1468fc5",
   "metadata": {},
   "outputs": [
    {
     "name": "stdout",
     "output_type": "stream",
     "text": [
      "Hello My name is Akhil\n",
      "My roll number is 101\n",
      "My marks are 80\n"
     ]
    }
   ],
   "source": [
    "#Write a python program to create a Student class and Creates an object to it. Call the methos talk() to display the student details\n",
    "class Student:\n",
    "    def __init__(self, name, roll_no, marks):\n",
    "        self.name = name\n",
    "        self.roll_no = roll_no\n",
    "        self.marks = marks\n",
    "    def talk(self):\n",
    "        print(\"Hello My name is\", self.name)\n",
    "        print(\"My roll number is\", self.roll_no)\n",
    "        print(\"My marks are\", self.marks)\n",
    "student = Student(\"Akhil\", 101, 80)\n",
    "student.talk()"
   ]
  },
  {
   "cell_type": "code",
   "execution_count": 1,
   "id": "e60ace56",
   "metadata": {},
   "outputs": [
    {
     "name": "stdout",
     "output_type": "stream",
     "text": [
      "Constructor execution\n",
      "Constructor execution\n",
      "Constructor execution\n",
      "Method execution......\n"
     ]
    }
   ],
   "source": [
    "#program to demonistrate constructor will execute only once per object\n",
    "class Test:\n",
    "    def __init__(self):\n",
    "        print(\"Constructor execution\")\n",
    "    def m1(self):\n",
    "        print(\"Method execution......\")\n",
    "t1 = Test()\n",
    "t2= Test()\n",
    "t3=Test()\n",
    "t1.m1()"
   ]
  },
  {
   "cell_type": "code",
   "execution_count": 2,
   "id": "8f16ce57",
   "metadata": {},
   "outputs": [
    {
     "name": "stdout",
     "output_type": "stream",
     "text": [
      "Student Name : Akhil\n",
      "Roll number : 101\n",
      "Marks : 80\n",
      "\n",
      "Student Name : Sasi\n",
      "Roll number : 102\n",
      "Marks : 95\n",
      "\n"
     ]
    }
   ],
   "source": [
    "class Student:\n",
    "    def __init__(self, name, roll_no, marks):\n",
    "        self.name = name\n",
    "        self.roll_no = roll_no\n",
    "        self.marks = marks\n",
    "    def display(self):\n",
    "        print(f\"Student Name : {self.name}\\nRoll number : {self.roll_no}\\nMarks : {self.marks}\\n\")\n",
    "\n",
    "s1 = Student(\"Akhil\", 101, 80)\n",
    "s1.display()\n",
    "s2 = Student(\"Sasi\", 102, 95)\n",
    "s2.display()\n"
   ]
  },
  {
   "cell_type": "markdown",
   "id": "aebc1e3b",
   "metadata": {},
   "source": [
    "### Instance Variables"
   ]
  },
  {
   "cell_type": "code",
   "execution_count": 4,
   "id": "c749f4b9",
   "metadata": {},
   "outputs": [
    {
     "name": "stdout",
     "output_type": "stream",
     "text": [
      "{'a': 100, 'b': 200, 'c': 300}\n"
     ]
    }
   ],
   "source": [
    "class Test:\n",
    "    def __init__(self):\n",
    "        self.a = 100\n",
    "    def m1(self):\n",
    "        self.b=200\n",
    "t = Test()\n",
    "t.m1()\n",
    "t.c = 300\n",
    "print(t.__dict__)"
   ]
  },
  {
   "cell_type": "code",
   "execution_count": 5,
   "id": "c58fd65e",
   "metadata": {},
   "outputs": [
    {
     "name": "stdout",
     "output_type": "stream",
     "text": [
      "100 200\n",
      "100\n",
      "200\n"
     ]
    }
   ],
   "source": [
    "class Test:\n",
    "    def __init__(self):\n",
    "        self.a = 100\n",
    "        self.b = 200\n",
    "    def m1(self):\n",
    "        print(self.a)\n",
    "        print(self.b)\n",
    "t= Test()\n",
    "print(t.a, t.b)\n",
    "t.m1()"
   ]
  },
  {
   "cell_type": "code",
   "execution_count": 9,
   "id": "a1c831f1",
   "metadata": {},
   "outputs": [
    {
     "name": "stdout",
     "output_type": "stream",
     "text": [
      "{'a': 10, 'b': 20, 'c': 30, 'd': 40}\n",
      "{'a': 10, 'b': 20, 'c': 30}\n",
      "{'a': 10, 'b': 20}\n",
      "t2:\n",
      "{'a': 10, 'b': 20, 'c': 30, 'd': 40}\n"
     ]
    }
   ],
   "source": [
    "class Test:\n",
    "    def __init__(self):\n",
    "        self.a = 10\n",
    "        self.b=20\n",
    "        self.c = 30\n",
    "        self.d = 40\n",
    "    def m1(self):\n",
    "        del self.d\n",
    "t = Test()\n",
    "t2 = Test()\n",
    "print(t.__dict__)\n",
    "t.m1()\n",
    "print(t.__dict__)\n",
    "del t.c\n",
    "print(t.__dict__)\n",
    "print(\"t2:\")\n",
    "print(t2.__dict__)"
   ]
  },
  {
   "cell_type": "code",
   "execution_count": 10,
   "id": "28bdfe9e",
   "metadata": {},
   "outputs": [
    {
     "name": "stdout",
     "output_type": "stream",
     "text": [
      "10 20\n",
      "10 20\n"
     ]
    }
   ],
   "source": [
    "#instance variable vs static varible\n",
    "class Test:\n",
    "    x = 10\n",
    "    def __init__(self):\n",
    "        self.y =20\n",
    "t1 = Test()\n",
    "t2 = Test()\n",
    "print(t1.x, t1.y)\n",
    "print(t2.x,t2.y)"
   ]
  },
  {
   "cell_type": "code",
   "execution_count": 13,
   "id": "bb3ea478",
   "metadata": {},
   "outputs": [
    {
     "name": "stdout",
     "output_type": "stream",
     "text": [
      "888 20\n",
      "888 999\n"
     ]
    }
   ],
   "source": [
    "t2.y =999\n",
    "Test.x =888\n",
    "print(t1.x, t1.y)\n",
    "print(t2.x,t2.y)"
   ]
  },
  {
   "cell_type": "code",
   "execution_count": 16,
   "id": "ba9d6fb2",
   "metadata": {},
   "outputs": [
    {
     "name": "stdout",
     "output_type": "stream",
     "text": [
      "{'__module__': '__main__', 'a': 10, '__init__': <function Test.__init__ at 0x000001F468CA0CC0>, 'm1': <function Test.m1 at 0x000001F468CA1080>, 'm2': <classmethod(<function Test.m2 at 0x000001F468CA1120>)>, 'm3': <staticmethod(<function Test.m3 at 0x000001F468CA11C0>)>, '__dict__': <attribute '__dict__' of 'Test' objects>, '__weakref__': <attribute '__weakref__' of 'Test' objects>, '__doc__': None, 'b': 20}\n"
     ]
    }
   ],
   "source": [
    "#Various placess to declare static variable\n",
    "class Test:\n",
    "    a=10\n",
    "    def __init__(self):\n",
    "        Test.b =20\n",
    "    def m1(self):\n",
    "        Test.c = 30\n",
    "    @classmethod\n",
    "    def m2(cls):\n",
    "        cls.d1 = 40\n",
    "        Test.d2 = 400\n",
    "    @staticmethod\n",
    "    def m3():\n",
    "        Test.e = 60\n",
    "t1 = Test()\n",
    "print(Test.__dict__)"
   ]
  },
  {
   "cell_type": "code",
   "execution_count": 17,
   "id": "28282992",
   "metadata": {},
   "outputs": [
    {
     "name": "stdout",
     "output_type": "stream",
     "text": [
      "{'__module__': '__main__', 'm1': <classmethod(<function Test.m1 at 0x000001F468C353A0>)>, '__dict__': <attribute '__dict__' of 'Test' objects>, '__weakref__': <attribute '__weakref__' of 'Test' objects>, '__doc__': None}\n"
     ]
    }
   ],
   "source": [
    "#how to delete static variable of a class\n",
    "class Test:\n",
    "    a=10\n",
    "    @classmethod\n",
    "    def m1(cls):\n",
    "        del Test.a\n",
    "Test.m1()\n",
    "print(Test.__dict__)"
   ]
  },
  {
   "cell_type": "code",
   "execution_count": 19,
   "id": "a4afc084",
   "metadata": {},
   "outputs": [
    {
     "name": "stdout",
     "output_type": "stream",
     "text": [
      "Welome to the AKHILBANK\n",
      "d-Deposit\n",
      "w-Withdraw\n",
      "e-exit\n",
      "Balance after deposit 10000.0\n",
      "d-Deposit\n",
      "w-Withdraw\n",
      "e-exit\n",
      "Balance after deposit 110000.0\n",
      "d-Deposit\n",
      "w-Withdraw\n",
      "e-exit\n",
      "Balance after widraw 102000.0\n",
      "d-Deposit\n",
      "w-Withdraw\n",
      "e-exit\n",
      "Thanks for Banking\n"
     ]
    },
    {
     "ename": "SystemExit",
     "evalue": "",
     "output_type": "error",
     "traceback": [
      "An exception has occurred, use %tb to see the full traceback.\n",
      "\u001b[31mSystemExit\u001b[39m\n"
     ]
    }
   ],
   "source": [
    "import sys\n",
    "class Customer:\n",
    "    \"\"\"Customer class with bank operation\"\"\"\n",
    "    bank_name = \"AKHILBANK\"\n",
    "    def __init__(self, name, balance=0.0):\n",
    "        self.name = name\n",
    "        self.balance = balance\n",
    "    def deposit(self, amt):\n",
    "        self.balance = self.balance + amt\n",
    "        print(f\"Balance after deposit\", self.balance)\n",
    "    def withdraw(self, amt):\n",
    "        if amt>self.balance:\n",
    "            print(\"Insufficient funds...cannot perfom the operation\")\n",
    "            sys.exit()\n",
    "        self.balance = self.balance - amt\n",
    "        print(\"Balance after widraw\", self.balance)\n",
    "\n",
    "print(f\"Welome to the\", Customer.bank_name)\n",
    "name = input(\"Enter your name\")\n",
    "c = Customer(name)\n",
    "while True:\n",
    "    print(\"d-Deposit\\nw-Withdraw\\ne-exit\")\n",
    "    option = input(\"Choose your option\")\n",
    "    if option.lower() == \"d\":\n",
    "        amt = float(input(\"Enter the amount to deposit\"))\n",
    "        c.deposit(amt)\n",
    "    elif option.lower() ==\"w\":\n",
    "        amt = float(input(\"Enter the amount to withdraw\"))\n",
    "        c.withdraw(amt)\n",
    "    elif option.lower() ==\"e\":\n",
    "        print(\"Thanks for Banking\")\n",
    "        sys.exit()\n",
    "    else:\n",
    "        print(\"Invalid option....plz choose valid option\")\n",
    "\n",
    "\n",
    "\n"
   ]
  },
  {
   "cell_type": "code",
   "execution_count": 21,
   "id": "c54339fc",
   "metadata": {},
   "outputs": [
    {
     "name": "stdout",
     "output_type": "stream",
     "text": [
      "100\n",
      "200\n"
     ]
    }
   ],
   "source": [
    "#Local variable\n",
    "class Test:\n",
    "    def m1(self):\n",
    "        a= 100\n",
    "        print(a)\n",
    "    def m2(self):\n",
    "        b=200\n",
    "        print(b)\n",
    "\n",
    "t = Test()\n",
    "t.m1()\n",
    "t.m2()"
   ]
  },
  {
   "cell_type": "code",
   "execution_count": 25,
   "id": "ae4141e9",
   "metadata": {},
   "outputs": [
    {
     "name": "stdout",
     "output_type": "stream",
     "text": [
      "Hi Sasi\n",
      "Your marks: 90\n",
      "Yo got first class\n",
      "\n",
      "Hi Akhil\n",
      "Your marks: 45\n",
      "You got Third class\n",
      "\n"
     ]
    }
   ],
   "source": [
    "#instance methods\n",
    "class Student:\n",
    "    def __init__(self, name, marks):\n",
    "        self.name = name\n",
    "        self.marks = marks\n",
    "    def display(self):\n",
    "        print(f\"Hi\", self.name)\n",
    "        print(\"Your marks:\", self.marks)\n",
    "    def grade(self):\n",
    "        if self.marks>=60:\n",
    "            print(\"Yo got first class\")\n",
    "        elif self.marks >=50:\n",
    "            print(\"You got second class\")\n",
    "        elif self.marks >=35:\n",
    "            print(\"You got Third class\")\n",
    "        else:\n",
    "            print(\"You are failed\")\n",
    "n= int(input(\"Enter number of students\"))\n",
    "for i in range(n):\n",
    "    name = input(\"Enter Name:\")\n",
    "    marks = int(input(\"Enter Marks:\"))\n",
    "    s = Student(name, marks)\n",
    "    s.display()\n",
    "    s.grade()\n",
    "    print()"
   ]
  },
  {
   "cell_type": "code",
   "execution_count": 27,
   "id": "53e4ce96",
   "metadata": {},
   "outputs": [
    {
     "name": "stdout",
     "output_type": "stream",
     "text": [
      "Hi Akhil\n",
      "Your marks are 80\n",
      "\n",
      "Hi Sasi\n",
      "Your marks are 95\n",
      "\n"
     ]
    }
   ],
   "source": [
    "# Setter and Getter\n",
    "class Student:\n",
    "    def setName(self, name):\n",
    "        self.name = name\n",
    "    def getName(self):\n",
    "        return self.name\n",
    "    \n",
    "    def setMarks(self, marks):\n",
    "        self.marks = marks\n",
    "    def getMarks(self):\n",
    "        return self.marks\n",
    "n= int(input(\"Enter number of students\"))\n",
    "for i in range(n):\n",
    "    name = input(\"Enter name\")\n",
    "    marks = int(input(\"Enter marks\"))\n",
    "    s= Student()\n",
    "    s.setName(name)\n",
    "    s.setMarks(marks)\n",
    "    print(\"Hi\", s.getName())\n",
    "    print(\"Your marks are\", s.getMarks())\n",
    "    print()"
   ]
  },
  {
   "cell_type": "code",
   "execution_count": 29,
   "id": "f8260e9c",
   "metadata": {},
   "outputs": [
    {
     "name": "stdout",
     "output_type": "stream",
     "text": [
      "Dog walks with 4 legs\n",
      "Cat walks with 4 legs\n"
     ]
    }
   ],
   "source": [
    "#2. class method\n",
    "class Animal:\n",
    "    legs=4\n",
    "    @classmethod\n",
    "    def walk(cls, name):\n",
    "        print(f\"{name} walks with {Animal.legs} legs\")\n",
    "Animal.walk(\"Dog\")\n",
    "Animal.walk(\"Cat\")"
   ]
  },
  {
   "cell_type": "code",
   "execution_count": 30,
   "id": "64e96d5a",
   "metadata": {},
   "outputs": [
    {
     "name": "stdout",
     "output_type": "stream",
     "text": [
      "The number of objects created for the Test class 2\n",
      "The number of objects created for the Test class 5\n"
     ]
    }
   ],
   "source": [
    "#program to track the number of objects created for a class\n",
    "class Test:\n",
    "    count = 0\n",
    "    def __init__(self):\n",
    "        Test.count = Test.count +1\n",
    "    @classmethod\n",
    "    def noOfObjects(cls):\n",
    "        print(\"The number of objects created for the Test class\", Test.count)\n",
    "t1 = Test()\n",
    "t2= Test()\n",
    "Test.noOfObjects()\n",
    "t3 = Test()\n",
    "t4 = Test()\n",
    "t5=Test()\n",
    "Test.noOfObjects()"
   ]
  },
  {
   "cell_type": "code",
   "execution_count": 31,
   "id": "b212c3ae",
   "metadata": {},
   "outputs": [
    {
     "name": "stdout",
     "output_type": "stream",
     "text": [
      "The Sum 30\n",
      "The Product 50\n",
      "The Average 15.0\n"
     ]
    }
   ],
   "source": [
    "#Static method\n",
    "class AkhilMath:\n",
    "    @staticmethod\n",
    "    def add(x,y):\n",
    "        print(\"The Sum\", x+y)\n",
    "    @staticmethod\n",
    "    def product(x,y):\n",
    "        print(\"The Product\", x*y)\n",
    "    @staticmethod\n",
    "    def average(x,y):\n",
    "        print(\"The Average\", (x+y)/2)\n",
    "AkhilMath.add(10,20)\n",
    "AkhilMath.product(10,5)\n",
    "AkhilMath.average(10,20)"
   ]
  },
  {
   "cell_type": "code",
   "execution_count": 32,
   "id": "128dafd9",
   "metadata": {},
   "outputs": [
    {
     "name": "stdout",
     "output_type": "stream",
     "text": [
      "Employee number : 101\n",
      "Employee Name : Akhil\n",
      "Employee salary : 40000\n"
     ]
    }
   ],
   "source": [
    "#passing members of one class to another class\n",
    "class Employee:\n",
    "    def __init__(self, ename, eno, esal):\n",
    "        self.ename = ename\n",
    "        self.eno = eno\n",
    "        self.esal = esal\n",
    "    def display(self):\n",
    "        print(f\"Employee number : {self.eno}\\nEmployee Name : {self.ename}\\nEmployee salary : {self.esal}\")\n",
    "\n",
    "class Test:\n",
    "    def modify(emp):\n",
    "        emp.esal = emp.esal+10000\n",
    "        emp.display()\n",
    "emp = Employee(\"Akhil\",101,30000)\n",
    "Test.modify(emp)"
   ]
  },
  {
   "cell_type": "code",
   "execution_count": 33,
   "id": "d84e83e5",
   "metadata": {},
   "outputs": [
    {
     "name": "stdout",
     "output_type": "stream",
     "text": [
      "Outer class Object creation\n",
      "Inner class object creation\n",
      "Inner class method\n"
     ]
    }
   ],
   "source": [
    "#Inmner classes\n",
    "class Outer:\n",
    "    def __init__(self):\n",
    "        print(\"Outer class Object creation\")\n",
    "    class Inner:\n",
    "        def __init__(self):\n",
    "            print(\"Inner class object creation\")\n",
    "        def m1(self):\n",
    "            print(\"Inner class method\")\n",
    "o = Outer()\n",
    "i = o.Inner()\n",
    "i.m1()\n"
   ]
  },
  {
   "cell_type": "code",
   "execution_count": 34,
   "id": "d668bedf",
   "metadata": {},
   "outputs": [
    {
     "name": "stdout",
     "output_type": "stream",
     "text": [
      "Outer class Object creation\n",
      "Inner class object creation\n",
      "Inner class method\n"
     ]
    }
   ],
   "source": [
    "x = Outer().Inner()\n",
    "x.m1()"
   ]
  },
  {
   "cell_type": "code",
   "execution_count": 35,
   "id": "af3464fc",
   "metadata": {},
   "outputs": [
    {
     "name": "stdout",
     "output_type": "stream",
     "text": [
      "Outer class Object creation\n",
      "Inner class object creation\n",
      "Inner class method\n"
     ]
    }
   ],
   "source": [
    "Outer().Inner().m1()"
   ]
  },
  {
   "cell_type": "code",
   "execution_count": 40,
   "id": "3416d061",
   "metadata": {},
   "outputs": [
    {
     "name": "stdout",
     "output_type": "stream",
     "text": [
      "Name: Akhil\n",
      "Dob:30-12-2000\n"
     ]
    }
   ],
   "source": [
    "#demo program 2\n",
    "class Person:\n",
    "    def __init__(self):\n",
    "        self.name = \"Akhil\"\n",
    "        self.db = self.Dob()\n",
    "    def display(self):\n",
    "        print(\"Name:\", self.name)\n",
    "    class Dob:\n",
    "        def __init__(self):\n",
    "            self.dd = 30\n",
    "            self.mm = 12\n",
    "            self.yyyy = 2000\n",
    "        def display(self):\n",
    "            print(f\"Dob:{self.dd}-{self.mm}-{self.yyyy}\")\n",
    "p=Person()\n",
    "p.display()\n",
    "x = p.db\n",
    "x.display()"
   ]
  },
  {
   "cell_type": "code",
   "execution_count": 42,
   "id": "d2c3f12c",
   "metadata": {},
   "outputs": [
    {
     "name": "stdout",
     "output_type": "stream",
     "text": [
      "Name Akhil\n",
      "Thinking........\n",
      "Talking.......\n"
     ]
    }
   ],
   "source": [
    "class Human:\n",
    "    def __init__(self):\n",
    "        self.head = self.Head()\n",
    "        self.brain = self.Brain()\n",
    "        self.name = \"Akhil\"\n",
    "    def display(self):\n",
    "        print(\"Name\", self.name)\n",
    "    class Head:\n",
    "        def talk(self):\n",
    "            print(\"Talking.......\")\n",
    "    class Brain:\n",
    "        def think(self):\n",
    "            print(\"Thinking........\")\n",
    "h = Human()\n",
    "h.display()\n",
    "h.brain.think()\n",
    "h.head.talk()"
   ]
  },
  {
   "cell_type": "code",
   "execution_count": 43,
   "id": "6b8ce129",
   "metadata": {},
   "outputs": [
    {
     "name": "stdout",
     "output_type": "stream",
     "text": [
      "True\n",
      "False\n",
      "True\n"
     ]
    }
   ],
   "source": [
    "import gc\n",
    "print(gc.isenabled())\n",
    "gc.disable()\n",
    "print(gc.isenabled())\n",
    "gc.enable()\n",
    "print(gc.isenabled())"
   ]
  },
  {
   "cell_type": "code",
   "execution_count": 47,
   "id": "9bc93f27",
   "metadata": {},
   "outputs": [
    {
     "name": "stdout",
     "output_type": "stream",
     "text": [
      "Object initialization\n",
      "Fulfilling the last wish and performing clean up activities\n",
      "End of application\n"
     ]
    }
   ],
   "source": [
    "#destructor\n",
    "import time\n",
    "class Test:\n",
    "    def __init__(self):\n",
    "        print(\"Object initialization\")\n",
    "    def __del__(self):\n",
    "        print(\"Fulfilling the last wish and performing clean up activities\")\n",
    "t1 = Test()\n",
    "t1 = None\n",
    "time.sleep(5)\n",
    "print(\"End of application\")"
   ]
  },
  {
   "cell_type": "code",
   "execution_count": 52,
   "id": "a7ce735a",
   "metadata": {},
   "outputs": [
    {
     "name": "stdout",
     "output_type": "stream",
     "text": [
      "Constructor Execution......\n",
      "Object not yet destroyed after deleting t1\n",
      "Object not yet destroyed after deleting t2\n",
      "i am trying to delete last reference variable\n",
      "Destructor Execution......\n"
     ]
    }
   ],
   "source": [
    "import time\n",
    "class Test:\n",
    "    def __init__(self):\n",
    "        print(\"Constructor Execution......\")\n",
    "    def __del__(self):\n",
    "        print(\"Destructor Execution......\")\n",
    "t1 = Test()\n",
    "t2=t1\n",
    "t3=t2\n",
    "del t1\n",
    "time.sleep(3)\n",
    "print(\"Object not yet destroyed after deleting t1\")\n",
    "del t2\n",
    "time.sleep(3)\n",
    "print(\"Object not yet destroyed after deleting t2\")\n",
    "\n",
    "print(\"i am trying to delete last reference variable\")\n",
    "time.sleep(3)\n",
    "del t3\n"
   ]
  },
  {
   "cell_type": "code",
   "execution_count": 54,
   "id": "7a6cd6d7",
   "metadata": {},
   "outputs": [
    {
     "name": "stdout",
     "output_type": "stream",
     "text": [
      "Constructor Execution......\n",
      "Constructor Execution......\n",
      "Constructor Execution......\n",
      "Destructor Execution......\n",
      "Destructor Execution......\n",
      "Destructor Execution......\n",
      "End of the application\n"
     ]
    }
   ],
   "source": [
    "import time\n",
    "class Test:\n",
    "    def __init__(self):\n",
    "        print(\"Constructor Execution......\")\n",
    "    def __del__(self):\n",
    "        print(\"Destructor Execution......\")\n",
    "list = [Test(), Test(), Test()]\n",
    "time.sleep(3)\n",
    "del list\n",
    "time.sleep(3)\n",
    "print(\"End of the application\")"
   ]
  },
  {
   "cell_type": "code",
   "execution_count": 55,
   "id": "51ea4484",
   "metadata": {},
   "outputs": [
    {
     "name": "stdout",
     "output_type": "stream",
     "text": [
      "5\n"
     ]
    }
   ],
   "source": [
    "#How to find the number of reference of an object\n",
    "import sys\n",
    "class Test:\n",
    "    pass\n",
    "t1= Test()\n",
    "t2 =t1\n",
    "t3=t1\n",
    "t4 = t1\n",
    "print(sys.getrefcount(t1))"
   ]
  },
  {
   "cell_type": "markdown",
   "id": "c6321180",
   "metadata": {},
   "source": [
    "### 1. By composition (Has-A Relationship)"
   ]
  },
  {
   "cell_type": "code",
   "execution_count": 1,
   "id": "fc451a64",
   "metadata": {},
   "outputs": [
    {
     "name": "stdout",
     "output_type": "stream",
     "text": [
      "Car Engine class functionality\n",
      "10\n",
      "20\n",
      "Engine Specific functionality\n"
     ]
    }
   ],
   "source": [
    "#demo program-1\n",
    "class Engine:\n",
    "    a=10\n",
    "    def __init__(self):\n",
    "        self.b =20\n",
    "    def m1(self):\n",
    "        print(\"Engine Specific functionality\")\n",
    "class Car:\n",
    "    def __init__(self):\n",
    "        self.engine = Engine()\n",
    "    def m2(self):\n",
    "        print(\"Car Engine class functionality\")\n",
    "        print(self.engine.a)\n",
    "        print(self.engine.b)\n",
    "        self.engine.m1()\n",
    "c = Car()\n",
    "c.m2()"
   ]
  },
  {
   "cell_type": "code",
   "execution_count": 3,
   "id": "8c12eaa6",
   "metadata": {},
   "outputs": [
    {
     "name": "stdout",
     "output_type": "stream",
     "text": [
      "Employee Name:Akhil\n",
      "Employee number:101\n",
      "Employee car info:\n",
      "Car name:Innova\n",
      "Model:2.5V\n",
      "Color:Grey\n"
     ]
    }
   ],
   "source": [
    "#Demo program -2\n",
    "class Car:\n",
    "    def __init__(self, name, model, color):\n",
    "        self.name = name\n",
    "        self.model = model\n",
    "        self.color = color\n",
    "    def getInfo(self):\n",
    "        print(f\"Car name:{self.name}\\nModel:{self.model}\\nColor:{self.color}\")\n",
    "class Employee:\n",
    "    def __init__(self, ename, eno, car):\n",
    "        self.ename = ename\n",
    "        self.eno = eno\n",
    "        self.car = car\n",
    "    def empinfo(self):\n",
    "        print(f\"Employee Name:{self.ename}\\nEmployee number:{self.eno}\")\n",
    "        print(\"Employee car info:\")\n",
    "        self.car.getInfo()\n",
    "c = Car(\"Innova\", \"2.5V\", \"Grey\")\n",
    "e = Employee(\"Akhil\", 101, c)\n",
    "e.empinfo()"
   ]
  },
  {
   "cell_type": "code",
   "execution_count": 4,
   "id": "8678e731",
   "metadata": {},
   "outputs": [
    {
     "name": "stdout",
     "output_type": "stream",
     "text": [
      "10\n",
      "20\n",
      "m1 method of X class\n",
      "m2 method of Y class\n",
      "30\n",
      "40\n",
      "m3 method of Y class\n"
     ]
    }
   ],
   "source": [
    "#demo program -3\n",
    "class X:\n",
    "    a=10\n",
    "    def __init__(self):\n",
    "        self.b = 20\n",
    "    def m1(self):\n",
    "        print(\"m1 method of X class\")\n",
    "class Y:\n",
    "    c =30\n",
    "    def __init__(self):\n",
    "        self.d = 40\n",
    "    def m2(self):\n",
    "        print(\"m2 method of Y class\")\n",
    "    def m3(self):\n",
    "        x1 = X()\n",
    "        print(x1.a)\n",
    "        print(x1.b)\n",
    "        x1.m1()\n",
    "        self.m2()\n",
    "        print(Y.c)\n",
    "        print(self.d)\n",
    "        print(\"m3 method of Y class\")\n",
    "y = Y()\n",
    "y.m3()"
   ]
  },
  {
   "cell_type": "markdown",
   "id": "98347e0e",
   "metadata": {},
   "source": [
    "### 2. By inheritance(Is-A relationship)"
   ]
  },
  {
   "cell_type": "code",
   "execution_count": 6,
   "id": "659edd54",
   "metadata": {},
   "outputs": [
    {
     "name": "stdout",
     "output_type": "stream",
     "text": [
      "10\n",
      "20\n",
      "Parent Instance method\n",
      "Parent class method\n",
      "Parent static methos\n"
     ]
    }
   ],
   "source": [
    "class P:\n",
    "    a=10\n",
    "    def __init__(self):\n",
    "        self.b=20\n",
    "    def m1(self):\n",
    "        print(\"Parent Instance method\")\n",
    "    @classmethod\n",
    "    def m2(cls):\n",
    "        print(\"Parent class method\")\n",
    "    @staticmethod\n",
    "    def m3():\n",
    "        print(\"Parent static methos\")\n",
    "class C(P):\n",
    "    pass\n",
    "c= C()\n",
    "print(c.a)\n",
    "print(c.b)\n",
    "c.m1()\n",
    "c.m2()\n",
    "c.m3()"
   ]
  },
  {
   "cell_type": "code",
   "execution_count": 13,
   "id": "4b4aa6ec",
   "metadata": {},
   "outputs": [
    {
     "name": "stdout",
     "output_type": "stream",
     "text": [
      "10 30 20 40\n"
     ]
    }
   ],
   "source": [
    "class P:\n",
    "    a =10\n",
    "    def __init__(self):\n",
    "        self.b =20\n",
    "class C(P):\n",
    "    c = 30\n",
    "    def __init__(self):\n",
    "        super().__init__()\n",
    "        self.d = 40\n",
    "c = C()\n",
    "print(c.a,c.c, c.b,c.d)"
   ]
  },
  {
   "cell_type": "code",
   "execution_count": 14,
   "id": "b288f79c",
   "metadata": {},
   "outputs": [
    {
     "name": "stdout",
     "output_type": "stream",
     "text": [
      "Coding python is very easy\n",
      "Eat Biriyani and Drink Thumpsup\n",
      "Employee name:Akhil\n",
      "Employee age:25\n",
      "Employee Number:101\n",
      "Employee Salary:25000\n"
     ]
    }
   ],
   "source": [
    "#Demo program for inheritance\n",
    "class Person:\n",
    "    def __init__(self, name, age):\n",
    "        self.name = name\n",
    "        self.age = age\n",
    "    def eatndrink(self):\n",
    "        print(\"Eat Biriyani and Drink Thumpsup\")\n",
    "class Employee(Person):\n",
    "    def __init__(self, name, age, eno, esal):\n",
    "        super().__init__(name, age)\n",
    "        self.eno = eno\n",
    "        self.esal = esal\n",
    "    def work(self):\n",
    "        print(\"Coding python is very easy\")\n",
    "    def empinof(self):\n",
    "        print(f\"Employee name:{self.name}\\nEmployee age:{self.age}\\nEmployee Number:{self.eno}\\nEmployee Salary:{self.esal}\")\n",
    "e = Employee(\"Akhil\", 25, 101, 25000)\n",
    "e.work()\n",
    "e.eatndrink()\n",
    "e.empinof()"
   ]
  },
  {
   "cell_type": "code",
   "execution_count": 16,
   "id": "7719cc1d",
   "metadata": {},
   "outputs": [
    {
     "name": "stdout",
     "output_type": "stream",
     "text": [
      "Coding python is easy\n",
      "Eat Biriyani and drink thumpsup\n",
      "Employee Name : Akhil\n",
      "Employee age : 25\n",
      "Employee Number : 101\n",
      " Employee Salary : 25000\n",
      "Employee Car info:\n",
      "\tCar Name : Innova\n",
      "\tModel : 2.5V\n",
      "\tColor : Black\n"
     ]
    }
   ],
   "source": [
    "class Car:\n",
    "    def __init__(self, name, model, color):\n",
    "        self.name = name\n",
    "        self.model = model\n",
    "        self.color = color\n",
    "    def getinfo(self):\n",
    "        print(f\"\\tCar Name : {self.name}\\n\\tModel : {self.model}\\n\\tColor : {self.color}\")\n",
    "class Person:\n",
    "    def __init__(self, name, age):\n",
    "        self.name = name\n",
    "        self.age = age\n",
    "    def eatndrink(self):\n",
    "        print(\"Eat Biriyani and drink thumpsup\")\n",
    "class Employee(Person):\n",
    "    def __init__(self, name, age, eno, esal, car):\n",
    "        super().__init__(name, age)\n",
    "        self.eno = eno\n",
    "        self.esal = esal\n",
    "        self.car = car\n",
    "    def work(self):\n",
    "        print(\"Coding python is easy\")\n",
    "    def empinfo(self):\n",
    "        print(f\"Employee Name : {self.name}\\nEmployee age : {self.age}\\nEmployee Number : {self.eno}\\n Employee Salary : {self.esal}\\nEmployee Car info:\")\n",
    "        self.car.getinfo()\n",
    "c = Car(\"Innova\", \"2.5V\", \"Black\")\n",
    "e = Employee(\"Akhil\",25,101,25000,c)\n",
    "e.work()\n",
    "e.eatndrink()\n",
    "e.empinfo()"
   ]
  },
  {
   "cell_type": "markdown",
   "id": "4ec3a84f",
   "metadata": {},
   "source": [
    "### Single Inheritance"
   ]
  },
  {
   "cell_type": "code",
   "execution_count": 2,
   "id": "98c60c71",
   "metadata": {},
   "outputs": [
    {
     "name": "stdout",
     "output_type": "stream",
     "text": [
      "Parent Method\n",
      "Child Method\n"
     ]
    }
   ],
   "source": [
    "class P:\n",
    "    def m1(self):\n",
    "        print(\"Parent Method\")\n",
    "class C(P):\n",
    "    def m2(self):\n",
    "        print(\"Child Method\")\n",
    "c = C()\n",
    "c.m1()\n",
    "c.m2()"
   ]
  },
  {
   "cell_type": "markdown",
   "id": "49b677af",
   "metadata": {},
   "source": [
    "### Multi level inheritance"
   ]
  },
  {
   "cell_type": "code",
   "execution_count": 3,
   "id": "5000b30a",
   "metadata": {},
   "outputs": [
    {
     "name": "stdout",
     "output_type": "stream",
     "text": [
      "Parent method\n",
      "Child method\n",
      "Sub child class\n"
     ]
    }
   ],
   "source": [
    "class P:\n",
    "    def m1(self):\n",
    "        print(\"Parent method\")\n",
    "class C(P):\n",
    "    def m2(self):\n",
    "        print(\"Child method\")\n",
    "class CC(C):\n",
    "    def m3(self):\n",
    "        print(\"Sub child class\")\n",
    "cc = CC()\n",
    "cc.m1()\n",
    "cc.m2()\n",
    "cc.m3()"
   ]
  },
  {
   "cell_type": "markdown",
   "id": "53dcdbf9",
   "metadata": {},
   "source": [
    "### Hierarchical Inheritance"
   ]
  },
  {
   "cell_type": "code",
   "execution_count": 4,
   "id": "eef80363",
   "metadata": {},
   "outputs": [
    {
     "name": "stdout",
     "output_type": "stream",
     "text": [
      "Parent method\n",
      "Child 1 method\n",
      "Parent method\n",
      "Child 2 method\n"
     ]
    }
   ],
   "source": [
    "class P:\n",
    "    def m1(self):\n",
    "        print(\"Parent method\")\n",
    "class C1(P):\n",
    "    def m2(self):\n",
    "        print(\"Child 1 method\")\n",
    "class C2(P):\n",
    "    def m3(self):\n",
    "        print(\"Child 2 method\")\n",
    "c1= C1()\n",
    "c1.m1()\n",
    "c1.m2()\n",
    "c2 = C2()\n",
    "c2.m1()\n",
    "c2.m3()"
   ]
  },
  {
   "cell_type": "code",
   "execution_count": 5,
   "id": "7f6d4707",
   "metadata": {},
   "outputs": [
    {
     "ename": "AttributeError",
     "evalue": "'C2' object has no attribute 'm2'",
     "output_type": "error",
     "traceback": [
      "\u001b[31m---------------------------------------------------------------------------\u001b[39m",
      "\u001b[31mAttributeError\u001b[39m                            Traceback (most recent call last)",
      "\u001b[36mCell\u001b[39m\u001b[36m \u001b[39m\u001b[32mIn[5]\u001b[39m\u001b[32m, line 1\u001b[39m\n\u001b[32m----> \u001b[39m\u001b[32m1\u001b[39m \u001b[43mc2\u001b[49m\u001b[43m.\u001b[49m\u001b[43mm2\u001b[49m()\n",
      "\u001b[31mAttributeError\u001b[39m: 'C2' object has no attribute 'm2'"
     ]
    }
   ],
   "source": [
    "c2.m2()"
   ]
  },
  {
   "cell_type": "markdown",
   "id": "c6a44555",
   "metadata": {},
   "source": [
    "### Multiple Inheritance"
   ]
  },
  {
   "cell_type": "code",
   "execution_count": 6,
   "id": "e7362549",
   "metadata": {},
   "outputs": [
    {
     "name": "stdout",
     "output_type": "stream",
     "text": [
      "Parent1 method\n",
      "Parent2 method\n",
      "Child method\n"
     ]
    }
   ],
   "source": [
    "class P1:\n",
    "    def m1(self):\n",
    "        print(\"Parent1 method\")\n",
    "class P2:\n",
    "    def m2(self):\n",
    "        print(\"Parent2 method\")\n",
    "class C(P1,P2):\n",
    "    def m3(self):\n",
    "        print(\"Child method\")\n",
    "\n",
    "c = C()\n",
    "c.m1()\n",
    "c.m2()\n",
    "c.m3()"
   ]
  },
  {
   "cell_type": "code",
   "execution_count": 7,
   "id": "a91e9a4e",
   "metadata": {},
   "outputs": [
    {
     "name": "stdout",
     "output_type": "stream",
     "text": [
      "Parent1 method\n",
      "Child method\n"
     ]
    }
   ],
   "source": [
    "class P1:\n",
    "    def m1(self):\n",
    "        print(\"Parent1 method\")\n",
    "class P2:\n",
    "    def m1(self):\n",
    "        print(\"Parent2 method\")\n",
    "class C(P1,P2):\n",
    "    def m2(self):\n",
    "        print(\"Child method\")\n",
    "\n",
    "c = C()\n",
    "c.m1()\n",
    "c.m2()\n"
   ]
  },
  {
   "cell_type": "code",
   "execution_count": 8,
   "id": "611bdf73",
   "metadata": {},
   "outputs": [
    {
     "name": "stdout",
     "output_type": "stream",
     "text": [
      "Parent2 method\n",
      "Child method\n"
     ]
    }
   ],
   "source": [
    "class P1:\n",
    "    def m1(self):\n",
    "        print(\"Parent1 method\")\n",
    "class P2:\n",
    "    def m1(self):\n",
    "        print(\"Parent2 method\")\n",
    "class C(P2,P1):\n",
    "    def m2(self):\n",
    "        print(\"Child method\")\n",
    "\n",
    "c = C()\n",
    "c.m1()\n",
    "c.m2()"
   ]
  },
  {
   "cell_type": "markdown",
   "id": "30130d7a",
   "metadata": {},
   "source": [
    "### Hybrid inheritance"
   ]
  },
  {
   "cell_type": "markdown",
   "id": "b2eed4c7",
   "metadata": {},
   "source": [
    "- Combination of single, multi level, hierarchical and multiple inheritance is known as Hybrid inheritance"
   ]
  },
  {
   "cell_type": "markdown",
   "id": "ea9dbe12",
   "metadata": {},
   "source": [
    "### Method Resolution Order(MRO):-"
   ]
  },
  {
   "cell_type": "markdown",
   "id": "952256b7",
   "metadata": {},
   "source": [
    "- MRO(X) = X + Merge(MRO(P1), MRO(p2),.....,Parent list)"
   ]
  },
  {
   "cell_type": "code",
   "execution_count": 10,
   "id": "9de5edd6",
   "metadata": {},
   "outputs": [
    {
     "name": "stdout",
     "output_type": "stream",
     "text": [
      "[<class '__main__.A'>, <class 'object'>]\n",
      "[<class '__main__.B'>, <class '__main__.A'>, <class 'object'>]\n",
      "[<class '__main__.C'>, <class '__main__.A'>, <class 'object'>]\n",
      "[<class '__main__.D'>, <class '__main__.B'>, <class '__main__.C'>, <class '__main__.A'>, <class 'object'>]\n"
     ]
    }
   ],
   "source": [
    "class A:pass\n",
    "class B(A):pass\n",
    "class C(A):pass\n",
    "class D(B,C):pass\n",
    "print(A.mro())\n",
    "print(B.mro())\n",
    "print(C.mro())\n",
    "print(D.mro())"
   ]
  },
  {
   "cell_type": "code",
   "execution_count": 11,
   "id": "5730843e",
   "metadata": {},
   "outputs": [
    {
     "name": "stdout",
     "output_type": "stream",
     "text": [
      "[<class '__main__.A'>, <class '__main__.B'>, <class '__main__.C'>, <class '__main__.D'>, <class '__main__.E'>, <class '__main__.F'>, <class 'object'>]\n"
     ]
    }
   ],
   "source": [
    "class D:pass\n",
    "class E:pass\n",
    "class F:pass\n",
    "class B(D,E):pass\n",
    "class C(D,F):pass\n",
    "class A(B,C):pass #A,B,C,D,E,F,O\n",
    "print(A.mro())"
   ]
  },
  {
   "cell_type": "markdown",
   "id": "b05cc99f",
   "metadata": {},
   "source": [
    "### super() method"
   ]
  },
  {
   "cell_type": "code",
   "execution_count": 12,
   "id": "0aa6d95f",
   "metadata": {},
   "outputs": [
    {
     "name": "stdout",
     "output_type": "stream",
     "text": [
      "Name: Akhil \n",
      "Age: 25\n",
      "Roll no: 101\n",
      "Marks: 82\n",
      "Name: Akhil\n"
     ]
    }
   ],
   "source": [
    "#Demo program-1 for super()\n",
    "class Person:\n",
    "    def __init__(self, name, age):\n",
    "        self.name = name\n",
    "        self.age = age\n",
    "    def display(self):\n",
    "        print(\"Name:\", self.name,\"\\nAge:\", self.age)\n",
    "class Student(Person):\n",
    "    def __init__(self, name, age, rollno, marks):\n",
    "        super().__init__(name, age)\n",
    "        self.rollno = rollno\n",
    "        self.marks = marks\n",
    "    def display(self):\n",
    "        super().display()\n",
    "        print(\"Roll no:\", self.rollno)\n",
    "        print(\"Marks:\", self.marks)\n",
    "        print(\"Name:\", self.name)\n",
    "s1= Student(\"Akhil\", 25, 101, 82)\n",
    "s1.display()"
   ]
  },
  {
   "cell_type": "code",
   "execution_count": 14,
   "id": "57b876e6",
   "metadata": {},
   "outputs": [
    {
     "name": "stdout",
     "output_type": "stream",
     "text": [
      "10\n",
      "Parent Instance method\n",
      "Parnet class method\n",
      "Parent static method\n"
     ]
    }
   ],
   "source": [
    "#demo program - 2 for super()\n",
    "class P:\n",
    "    a=10\n",
    "    def __init__(self):\n",
    "        self.b = 10\n",
    "    def m1(self):\n",
    "        print(\"Parent Instance method\")\n",
    "    @classmethod\n",
    "    def m2(cls):\n",
    "        print(\"Parnet class method\")\n",
    "    @staticmethod\n",
    "    def m3():\n",
    "        print(\"Parent static method\")\n",
    "class C(P):\n",
    "    a=999\n",
    "    def __init__(self):\n",
    "        self.b = 888\n",
    "        super().__init__()\n",
    "        print(super().a)\n",
    "        super().m1()\n",
    "        super().m2()\n",
    "        super().m3()\n",
    "c = C()\n"
   ]
  },
  {
   "cell_type": "markdown",
   "id": "d4e7afff",
   "metadata": {},
   "source": [
    "#### How to call method of a particular super clas:\n",
    "- super(D,self).m1()\n",
    "- A.m1()"
   ]
  },
  {
   "cell_type": "code",
   "execution_count": 20,
   "id": "dabec460",
   "metadata": {},
   "outputs": [
    {
     "name": "stdout",
     "output_type": "stream",
     "text": [
      "A Method\n"
     ]
    }
   ],
   "source": [
    "class A:\n",
    "    def m1(self):\n",
    "        print(\"A Method\")\n",
    "class B(A):\n",
    "    def m1(self):\n",
    "        print(\"B method\")\n",
    "class C(B):\n",
    "    def m1(self):\n",
    "        print(\"C method\")\n",
    "class D():\n",
    "    def m1(self):\n",
    "        print(\"D method\")\n",
    "class H:pass\n",
    "class E():\n",
    "    def m1(self):\n",
    "        A.m1(self)\n",
    "e = E()\n",
    "e.m1()"
   ]
  },
  {
   "cell_type": "markdown",
   "id": "533bb3bc",
   "metadata": {},
   "source": [
    "### Various important points about super()"
   ]
  },
  {
   "cell_type": "code",
   "execution_count": 22,
   "id": "632d74ce",
   "metadata": {},
   "outputs": [
    {
     "name": "stdout",
     "output_type": "stream",
     "text": [
      "10\n",
      "20\n"
     ]
    },
    {
     "ename": "AttributeError",
     "evalue": "'super' object has no attribute 'b'",
     "output_type": "error",
     "traceback": [
      "\u001b[31m---------------------------------------------------------------------------\u001b[39m",
      "\u001b[31mAttributeError\u001b[39m                            Traceback (most recent call last)",
      "\u001b[36mCell\u001b[39m\u001b[36m \u001b[39m\u001b[32mIn[22]\u001b[39m\u001b[32m, line 14\u001b[39m\n\u001b[32m     12\u001b[39m         \u001b[38;5;28mprint\u001b[39m(\u001b[38;5;28msuper\u001b[39m().b)\n\u001b[32m     13\u001b[39m c = C()\n\u001b[32m---> \u001b[39m\u001b[32m14\u001b[39m \u001b[43mc\u001b[49m\u001b[43m.\u001b[49m\u001b[43mm1\u001b[49m\u001b[43m(\u001b[49m\u001b[43m)\u001b[49m\n",
      "\u001b[36mCell\u001b[39m\u001b[36m \u001b[39m\u001b[32mIn[22]\u001b[39m\u001b[32m, line 12\u001b[39m, in \u001b[36mC.m1\u001b[39m\u001b[34m(self)\u001b[39m\n\u001b[32m     10\u001b[39m \u001b[38;5;28mprint\u001b[39m(\u001b[38;5;28msuper\u001b[39m().a)\n\u001b[32m     11\u001b[39m \u001b[38;5;28mprint\u001b[39m(\u001b[38;5;28mself\u001b[39m.b)\n\u001b[32m---> \u001b[39m\u001b[32m12\u001b[39m \u001b[38;5;28mprint\u001b[39m(\u001b[38;5;28;43msuper\u001b[39;49m\u001b[43m(\u001b[49m\u001b[43m)\u001b[49m\u001b[43m.\u001b[49m\u001b[43mb\u001b[49m)\n",
      "\u001b[31mAttributeError\u001b[39m: 'super' object has no attribute 'b'"
     ]
    }
   ],
   "source": [
    "#1\n",
    "class P:\n",
    "    a=10\n",
    "    def __init__(self):\n",
    "        self.b=20\n",
    "class C(P):\n",
    "    # def __init__(self):\n",
    "    #     super().__init__()\n",
    "    def m1(self):\n",
    "        print(super().a)\n",
    "        print(self.b)\n",
    "        print(super().b)\n",
    "c = C()\n",
    "c.m1()"
   ]
  },
  {
   "cell_type": "code",
   "execution_count": 25,
   "id": "84897624",
   "metadata": {},
   "outputs": [
    {
     "name": "stdout",
     "output_type": "stream",
     "text": [
      "Parent Constructor\n",
      "Parent instance method\n",
      "Parent class method\n",
      "Parent static method\n",
      "Parent Constructor\n",
      "Parent instance method\n",
      "Parent class method\n",
      "Parent static method\n",
      "Parent Constructor\n"
     ]
    }
   ],
   "source": [
    "#2\n",
    "class P:\n",
    "    def __init__(self):\n",
    "        print(\"Parent Constructor\")\n",
    "    def m1(self):\n",
    "        print(\"Parent instance method\")\n",
    "    @classmethod\n",
    "    def m2(cls):\n",
    "        print(\"Parent class method\")\n",
    "    @staticmethod\n",
    "    def m3():\n",
    "        print(\"Parent static method\")\n",
    "class C(P):\n",
    "    def __init__(self):\n",
    "        super().__init__()\n",
    "        \n",
    "        super().m1()\n",
    "        super().m2()\n",
    "        super().m3()\n",
    "    def m1(self):\n",
    "        super().__init__()\n",
    "        super().m1()\n",
    "        super().m2()\n",
    "        super().m3()\n",
    "        P.__init__(self)\n",
    "c = C()\n",
    "c.m1()"
   ]
  },
  {
   "cell_type": "code",
   "execution_count": 29,
   "id": "1eee3572",
   "metadata": {},
   "outputs": [
    {
     "name": "stdout",
     "output_type": "stream",
     "text": [
      "Parent class method\n",
      "Parent static method\n"
     ]
    },
    {
     "ename": "TypeError",
     "evalue": "P.m1() missing 1 required positional argument: 'self'",
     "output_type": "error",
     "traceback": [
      "\u001b[31m---------------------------------------------------------------------------\u001b[39m",
      "\u001b[31mTypeError\u001b[39m                                 Traceback (most recent call last)",
      "\u001b[36mCell\u001b[39m\u001b[36m \u001b[39m\u001b[32mIn[29]\u001b[39m\u001b[32m, line 19\u001b[39m\n\u001b[32m     17\u001b[39m         \u001b[38;5;28msuper\u001b[39m().m3()\n\u001b[32m     18\u001b[39m         \u001b[38;5;28msuper\u001b[39m().m1()\n\u001b[32m---> \u001b[39m\u001b[32m19\u001b[39m \u001b[43mC\u001b[49m\u001b[43m.\u001b[49m\u001b[43mm1\u001b[49m\u001b[43m(\u001b[49m\u001b[43m)\u001b[49m\n",
      "\u001b[36mCell\u001b[39m\u001b[36m \u001b[39m\u001b[32mIn[29]\u001b[39m\u001b[32m, line 18\u001b[39m, in \u001b[36mC.m1\u001b[39m\u001b[34m(cls)\u001b[39m\n\u001b[32m     16\u001b[39m \u001b[38;5;28msuper\u001b[39m().m2()\n\u001b[32m     17\u001b[39m \u001b[38;5;28msuper\u001b[39m().m3()\n\u001b[32m---> \u001b[39m\u001b[32m18\u001b[39m \u001b[38;5;28;43msuper\u001b[39;49m\u001b[43m(\u001b[49m\u001b[43m)\u001b[49m\u001b[43m.\u001b[49m\u001b[43mm1\u001b[49m\u001b[43m(\u001b[49m\u001b[43m)\u001b[49m\n",
      "\u001b[31mTypeError\u001b[39m: P.m1() missing 1 required positional argument: 'self'"
     ]
    }
   ],
   "source": [
    "#3\n",
    "class P:\n",
    "    def __init__(self):\n",
    "        print(\"Parent Constructor\")\n",
    "    def m1(self):\n",
    "        print(\"Parent instance method\")\n",
    "    @classmethod\n",
    "    def m2(cls):\n",
    "        print(\"Parent class method\")\n",
    "    @staticmethod\n",
    "    def m3():\n",
    "        print(\"Parent static method\")\n",
    "class C(P):\n",
    "    @classmethod\n",
    "    def m1(cls):\n",
    "        super().m2()\n",
    "        super().m3()\n",
    "        super().m1()\n",
    "C.m1()"
   ]
  },
  {
   "cell_type": "code",
   "execution_count": 37,
   "id": "6fb411d1",
   "metadata": {},
   "outputs": [
    {
     "name": "stdout",
     "output_type": "stream",
     "text": [
      "Parent instance method\n",
      "Parent Constructor\n",
      "Parent Constructor\n",
      "Parent instance method\n"
     ]
    }
   ],
   "source": [
    "class A:\n",
    "    def __init__(self):\n",
    "        print(\"Parent Constructor\")\n",
    "    def m1(self):\n",
    "        print(\"Parent instance method\")\n",
    "    @classmethod\n",
    "    def m2(cls):\n",
    "        print(\"Parent class method\")\n",
    "    @staticmethod\n",
    "    def m3():\n",
    "        print(\"Parent static method\")\n",
    "class B(A):\n",
    "    @classmethod\n",
    "    def m2(cls):\n",
    "        super(B,cls).m1(cls)\n",
    "        super(B,cls).__init__(cls)\n",
    "        A.__init__(cls)\n",
    "        A.m1(cls)\n",
    "B.m2()"
   ]
  },
  {
   "cell_type": "code",
   "execution_count": 47,
   "id": "70b26dfa",
   "metadata": {},
   "outputs": [
    {
     "name": "stdout",
     "output_type": "stream",
     "text": [
      "Parent static method\n"
     ]
    }
   ],
   "source": [
    "#4\n",
    "#2\n",
    "class P:\n",
    "    def __init__(self):\n",
    "        print(\"Parent Constructor\")\n",
    "    def m1(self):\n",
    "        print(\"Parent instance method\")\n",
    "    @classmethod\n",
    "    def m2(cls):\n",
    "        print(\"Parent class method\")\n",
    "    @staticmethod\n",
    "    def m3():\n",
    "        print(\"Parent static method\")\n",
    "class C(P):\n",
    "    @staticmethod\n",
    "    def m5():\n",
    "        # super().__init__()\n",
    "        # super().m1()\n",
    "        # super().m2()\n",
    "        # super().m3()\n",
    "        # P.m1()\n",
    "        super(C,C).m3()\n",
    "C.m5()"
   ]
  },
  {
   "cell_type": "markdown",
   "id": "9f8a8b79",
   "metadata": {},
   "source": [
    "### Ploymorphism"
   ]
  },
  {
   "cell_type": "code",
   "execution_count": 48,
   "id": "5f5d8a42",
   "metadata": {},
   "outputs": [
    {
     "name": "stdout",
     "output_type": "stream",
     "text": [
      "Quack..Quack.....\n",
      "Bow...Bow....\n",
      "Moew....Moew....\n",
      "Myaah....Myaah....\n"
     ]
    }
   ],
   "source": [
    "class Duck:\n",
    "    def talk(self):\n",
    "        print(\"Quack..Quack.....\")\n",
    "class Dog:\n",
    "    def talk(self):\n",
    "        print(\"Bow...Bow....\")\n",
    "class Cat:\n",
    "    def talk(self):\n",
    "        print(\"Moew....Moew....\")\n",
    "class Goat:\n",
    "    def talk(self):\n",
    "        print(\"Myaah....Myaah....\")\n",
    "def f1(obj):\n",
    "    obj.talk()\n",
    "l=[Duck(), Dog(), Cat(), Goat()]\n",
    "for obj in l:\n",
    "    f1(obj)"
   ]
  },
  {
   "cell_type": "code",
   "execution_count": 50,
   "id": "9dc4dfbc",
   "metadata": {},
   "outputs": [
    {
     "name": "stdout",
     "output_type": "stream",
     "text": [
      "Quack..Quack.....\n"
     ]
    }
   ],
   "source": [
    "class Duck:\n",
    "    def talk(self):\n",
    "        print(\"Quack..Quack.....\")\n",
    "class Dog:\n",
    "    def bark(self):\n",
    "        print(\"Bow...Bow....\")\n",
    "def f1(obj):\n",
    "    obj.talk()\n",
    "d = Duck()\n",
    "f1(d)"
   ]
  },
  {
   "cell_type": "code",
   "execution_count": 51,
   "id": "e098e2a9",
   "metadata": {},
   "outputs": [
    {
     "ename": "AttributeError",
     "evalue": "'Dog' object has no attribute 'talk'",
     "output_type": "error",
     "traceback": [
      "\u001b[31m---------------------------------------------------------------------------\u001b[39m",
      "\u001b[31mAttributeError\u001b[39m                            Traceback (most recent call last)",
      "\u001b[36mCell\u001b[39m\u001b[36m \u001b[39m\u001b[32mIn[51]\u001b[39m\u001b[32m, line 2\u001b[39m\n\u001b[32m      1\u001b[39m d= Dog()\n\u001b[32m----> \u001b[39m\u001b[32m2\u001b[39m \u001b[43mf1\u001b[49m\u001b[43m(\u001b[49m\u001b[43md\u001b[49m\u001b[43m)\u001b[49m\n",
      "\u001b[36mCell\u001b[39m\u001b[36m \u001b[39m\u001b[32mIn[50]\u001b[39m\u001b[32m, line 8\u001b[39m, in \u001b[36mf1\u001b[39m\u001b[34m(obj)\u001b[39m\n\u001b[32m      7\u001b[39m \u001b[38;5;28;01mdef\u001b[39;00m\u001b[38;5;250m \u001b[39m\u001b[34mf1\u001b[39m(obj):\n\u001b[32m----> \u001b[39m\u001b[32m8\u001b[39m     \u001b[43mobj\u001b[49m\u001b[43m.\u001b[49m\u001b[43mtalk\u001b[49m()\n",
      "\u001b[31mAttributeError\u001b[39m: 'Dog' object has no attribute 'talk'"
     ]
    }
   ],
   "source": [
    "d= Dog()\n",
    "f1(d)"
   ]
  },
  {
   "cell_type": "code",
   "execution_count": 54,
   "id": "3070e5a6",
   "metadata": {},
   "outputs": [
    {
     "name": "stdout",
     "output_type": "stream",
     "text": [
      "Quack..Quack.....\n"
     ]
    }
   ],
   "source": [
    "class Duck:\n",
    "    def talk(self):\n",
    "        print(\"Quack..Quack.....\")\n",
    "class Human:\n",
    "    def talk(self):\n",
    "        print(\"Hello -----Hi.... \")\n",
    "class Dog:\n",
    "    def bark(self):\n",
    "        print(\"Bow...Bow....\")\n",
    "def f1(obj):\n",
    "    if hasattr(obj,\"talk\"):\n",
    "        obj.talk()\n",
    "    elif hasattr(obj, \"bark\"):\n",
    "        obj.bark()\n",
    "d = Duck()\n",
    "f1(d)"
   ]
  },
  {
   "cell_type": "code",
   "execution_count": 55,
   "id": "c33d0c0e",
   "metadata": {},
   "outputs": [
    {
     "name": "stdout",
     "output_type": "stream",
     "text": [
      "Bow...Bow....\n"
     ]
    }
   ],
   "source": [
    "d= Dog()\n",
    "f1(d)"
   ]
  },
  {
   "cell_type": "code",
   "execution_count": 56,
   "id": "354c3969",
   "metadata": {},
   "outputs": [
    {
     "name": "stdout",
     "output_type": "stream",
     "text": [
      "Hello -----Hi.... \n"
     ]
    }
   ],
   "source": [
    "h=Human()\n",
    "f1(h)"
   ]
  },
  {
   "cell_type": "markdown",
   "id": "eb3cd784",
   "metadata": {},
   "source": [
    "### Overloading"
   ]
  },
  {
   "cell_type": "markdown",
   "id": "48ab297a",
   "metadata": {},
   "source": [
    "#### 1. Operator Overloading"
   ]
  },
  {
   "cell_type": "code",
   "execution_count": 57,
   "id": "ad964e38",
   "metadata": {},
   "outputs": [
    {
     "ename": "TypeError",
     "evalue": "unsupported operand type(s) for +: 'Book' and 'Book'",
     "output_type": "error",
     "traceback": [
      "\u001b[31m---------------------------------------------------------------------------\u001b[39m",
      "\u001b[31mTypeError\u001b[39m                                 Traceback (most recent call last)",
      "\u001b[36mCell\u001b[39m\u001b[36m \u001b[39m\u001b[32mIn[57]\u001b[39m\u001b[32m, line 6\u001b[39m\n\u001b[32m      4\u001b[39m b1 = Book(\u001b[32m100\u001b[39m)\n\u001b[32m      5\u001b[39m b2 = Book(\u001b[32m200\u001b[39m)\n\u001b[32m----> \u001b[39m\u001b[32m6\u001b[39m \u001b[38;5;28mprint\u001b[39m(\u001b[43mb1\u001b[49m\u001b[43m+\u001b[49m\u001b[43mb2\u001b[49m)\n",
      "\u001b[31mTypeError\u001b[39m: unsupported operand type(s) for +: 'Book' and 'Book'"
     ]
    }
   ],
   "source": [
    "class Book:\n",
    "    def __init__(self, pages):\n",
    "        self.pages = pages\n",
    "b1 = Book(100)\n",
    "b2 = Book(200)\n",
    "print(b1+b2)"
   ]
  },
  {
   "cell_type": "code",
   "execution_count": 59,
   "id": "4007f7e6",
   "metadata": {},
   "outputs": [
    {
     "name": "stdout",
     "output_type": "stream",
     "text": [
      "The total number of pages 300\n"
     ]
    }
   ],
   "source": [
    "class Book:\n",
    "    def __init__(self, pages):\n",
    "        self.pages = pages\n",
    "    def __add__(self, other):\n",
    "\n",
    "        return self.pages + other.pages\n",
    "b1 = Book(100)\n",
    "b2 = Book(200)\n",
    "print(\"The total number of pages\",b1+b2)"
   ]
  },
  {
   "cell_type": "code",
   "execution_count": 60,
   "id": "336363ec",
   "metadata": {},
   "outputs": [
    {
     "name": "stdout",
     "output_type": "stream",
     "text": [
      "10>20 False\n",
      "s1>s2 False\n",
      "s1<s2 True\n",
      "s1>=s2 False\n",
      "s1<=s2 True\n"
     ]
    }
   ],
   "source": [
    "class Student:\n",
    "    def __init__(self, name, marks):\n",
    "        self.name = name\n",
    "        self.marks = marks\n",
    "    def __gt__(self, other):\n",
    "        return self.marks > other.marks\n",
    "    def __le__(self,other):\n",
    "        return self.marks<= other.marks\n",
    "print(\"10>20\", 10>20)\n",
    "s1 = Student(\"Akhil\", 85)\n",
    "s2 = Student(\"Sasi\", 95)\n",
    "print(\"s1>s2\", s1>s2)\n",
    "print(\"s1<s2\", s1<s2)\n",
    "print(\"s1>=s2\", s1>=s2)\n",
    "print(\"s1<=s2\", s1<=s2)\n"
   ]
  },
  {
   "cell_type": "code",
   "execution_count": 62,
   "id": "f9fce6df",
   "metadata": {},
   "outputs": [
    {
     "name": "stdout",
     "output_type": "stream",
     "text": [
      "this month salary 12500\n"
     ]
    }
   ],
   "source": [
    "#Program to overload multiplication operator to work on Employee Objects\n",
    "class Employee:\n",
    "    def __init__(self, name, salary):\n",
    "        self.name = name\n",
    "        self.salary = salary\n",
    "    def __mul__(self, other):\n",
    "        return self.salary * other.days\n",
    "class TimeSheet:\n",
    "    def __init__(self, name, days):\n",
    "        self.name = name\n",
    "        self.days= days\n",
    "e = Employee(\"Akhil\", 500)\n",
    "t = TimeSheet(\"Akhil\", 25)\n",
    "print(\"this month salary\", e*t)"
   ]
  },
  {
   "cell_type": "markdown",
   "id": "87b6be2f",
   "metadata": {},
   "source": [
    "#### 2. Method Overloading"
   ]
  },
  {
   "cell_type": "code",
   "execution_count": 64,
   "id": "2116d061",
   "metadata": {},
   "outputs": [
    {
     "ename": "TypeError",
     "evalue": "Test.m1() missing 2 required positional arguments: 'a' and 'b'",
     "output_type": "error",
     "traceback": [
      "\u001b[31m---------------------------------------------------------------------------\u001b[39m",
      "\u001b[31mTypeError\u001b[39m                                 Traceback (most recent call last)",
      "\u001b[36mCell\u001b[39m\u001b[36m \u001b[39m\u001b[32mIn[64]\u001b[39m\u001b[32m, line 11\u001b[39m\n\u001b[32m      8\u001b[39m         \u001b[38;5;28mprint\u001b[39m(\u001b[33m\"\u001b[39m\u001b[33mTwo-arg method\u001b[39m\u001b[33m\"\u001b[39m)\n\u001b[32m     10\u001b[39m t = Test()\n\u001b[32m---> \u001b[39m\u001b[32m11\u001b[39m \u001b[43mt\u001b[49m\u001b[43m.\u001b[49m\u001b[43mm1\u001b[49m\u001b[43m(\u001b[49m\u001b[43m)\u001b[49m\n",
      "\u001b[31mTypeError\u001b[39m: Test.m1() missing 2 required positional arguments: 'a' and 'b'"
     ]
    }
   ],
   "source": [
    "#Demo program\n",
    "class Test:\n",
    "    def m1(self):\n",
    "        print(\"no-arg method\")\n",
    "    def m1(self,a):\n",
    "        print(\"on-arg method\")\n",
    "    def m1(self,a,b):\n",
    "        print(\"Two-arg method\")\n",
    "\n",
    "t = Test()\n",
    "t.m1()"
   ]
  },
  {
   "cell_type": "code",
   "execution_count": 65,
   "id": "7eebdf19",
   "metadata": {},
   "outputs": [
    {
     "ename": "TypeError",
     "evalue": "Test.m1() missing 1 required positional argument: 'b'",
     "output_type": "error",
     "traceback": [
      "\u001b[31m---------------------------------------------------------------------------\u001b[39m",
      "\u001b[31mTypeError\u001b[39m                                 Traceback (most recent call last)",
      "\u001b[36mCell\u001b[39m\u001b[36m \u001b[39m\u001b[32mIn[65]\u001b[39m\u001b[32m, line 1\u001b[39m\n\u001b[32m----> \u001b[39m\u001b[32m1\u001b[39m \u001b[43mt\u001b[49m\u001b[43m.\u001b[49m\u001b[43mm1\u001b[49m\u001b[43m(\u001b[49m\u001b[32;43m1\u001b[39;49m\u001b[43m)\u001b[49m\n",
      "\u001b[31mTypeError\u001b[39m: Test.m1() missing 1 required positional argument: 'b'"
     ]
    }
   ],
   "source": [
    "t.m1(1)"
   ]
  },
  {
   "cell_type": "code",
   "execution_count": 66,
   "id": "91461efb",
   "metadata": {},
   "outputs": [
    {
     "name": "stdout",
     "output_type": "stream",
     "text": [
      "Two-arg method\n"
     ]
    }
   ],
   "source": [
    "t.m1(1,2)"
   ]
  },
  {
   "cell_type": "code",
   "execution_count": 68,
   "id": "6d8cadd9",
   "metadata": {},
   "outputs": [
    {
     "name": "stdout",
     "output_type": "stream",
     "text": [
      "Please provide 2 or 3 arguments\n",
      "The sum of 2 Numbers 30\n",
      "The sum of 3 numbers 60\n"
     ]
    }
   ],
   "source": [
    "#Demo program with default arguments\n",
    "class Test:\n",
    "    def sum(self, a = None, b=None,c= None):\n",
    "        if a!=None and b!=None and c!=None:\n",
    "            print(\"The sum of 3 numbers\", a+b+c)\n",
    "        elif a!=None and b!=None:\n",
    "            print(\"The sum of 2 Numbers\", a+b)\n",
    "        else:\n",
    "            print(\"Please provide 2 or 3 arguments\")\n",
    "t = Test()\n",
    "t.sum(10)\n",
    "t.sum(10,20)\n",
    "t.sum(10,20,30)\n"
   ]
  },
  {
   "cell_type": "code",
   "execution_count": 69,
   "id": "33de9d30",
   "metadata": {},
   "outputs": [
    {
     "name": "stdout",
     "output_type": "stream",
     "text": [
      "The sum 10\n",
      "The sum 30\n",
      "The sum 60\n",
      "The sum 303\n"
     ]
    }
   ],
   "source": [
    "class Test:\n",
    "    def sum(self, *a):\n",
    "        total = 0\n",
    "        for x in a:\n",
    "            total = total +x\n",
    "        print(\"The sum\", total)\n",
    "t = Test()\n",
    "t.sum(10)\n",
    "t.sum(10,20)\n",
    "t.sum(10,20,30)\n",
    "t.sum(4,5,6,7,8,9,93,5,76,90)"
   ]
  },
  {
   "cell_type": "markdown",
   "id": "630e614a",
   "metadata": {},
   "source": [
    "#### 3. Constructor Overloading"
   ]
  },
  {
   "cell_type": "code",
   "execution_count": 70,
   "id": "2be6b1e3",
   "metadata": {},
   "outputs": [
    {
     "name": "stdout",
     "output_type": "stream",
     "text": [
      "two arg constructor\n"
     ]
    }
   ],
   "source": [
    "class Test:\n",
    "    def __init__(self):\n",
    "        print(\"No arg constructor\")\n",
    "    def __init__(self, a):\n",
    "        print(\"one arg constructor\")\n",
    "    def __init__(self,a,b):\n",
    "        print(\"two arg constructor\")\n",
    "t = Test(10,20)"
   ]
  },
  {
   "cell_type": "code",
   "execution_count": 71,
   "id": "a64e028e",
   "metadata": {},
   "outputs": [
    {
     "ename": "TypeError",
     "evalue": "Test.__init__() missing 2 required positional arguments: 'a' and 'b'",
     "output_type": "error",
     "traceback": [
      "\u001b[31m---------------------------------------------------------------------------\u001b[39m",
      "\u001b[31mTypeError\u001b[39m                                 Traceback (most recent call last)",
      "\u001b[36mCell\u001b[39m\u001b[36m \u001b[39m\u001b[32mIn[71]\u001b[39m\u001b[32m, line 1\u001b[39m\n\u001b[32m----> \u001b[39m\u001b[32m1\u001b[39m t = \u001b[43mTest\u001b[49m\u001b[43m(\u001b[49m\u001b[43m)\u001b[49m\n",
      "\u001b[31mTypeError\u001b[39m: Test.__init__() missing 2 required positional arguments: 'a' and 'b'"
     ]
    }
   ],
   "source": [
    "t = Test()"
   ]
  },
  {
   "cell_type": "code",
   "execution_count": 72,
   "id": "5258a7af",
   "metadata": {},
   "outputs": [
    {
     "name": "stdout",
     "output_type": "stream",
     "text": [
      "Constructor with 0|1|2|3 number of arguemets\n",
      "Constructor with 0|1|2|3 number of arguemets\n",
      "Constructor with 0|1|2|3 number of arguemets\n",
      "Constructor with 0|1|2|3 number of arguemets\n"
     ]
    }
   ],
   "source": [
    "#Constuctor with default arguments\n",
    "class Test:\n",
    "    def __init__(self, a = None, b=None,c= None):\n",
    "        print(\"Constructor with 0|1|2|3 number of arguemets\")\n",
    "t1= Test()\n",
    "t2=Test(10)\n",
    "t3 =Test(10,20)\n",
    "t4=Test(1,2,3)"
   ]
  },
  {
   "cell_type": "code",
   "execution_count": 74,
   "id": "a9b1cbe5",
   "metadata": {},
   "outputs": [
    {
     "name": "stdout",
     "output_type": "stream",
     "text": [
      "Constructor with variable number of arguemets\n",
      "Constructor with variable number of arguemets\n",
      "Constructor with variable number of arguemets\n",
      "Constructor with variable number of arguemets\n",
      "Constructor with variable number of arguemets\n"
     ]
    }
   ],
   "source": [
    "#constructor with variable number of arguments\n",
    "class Test:\n",
    "    def __init__(self, *a):\n",
    "        print(\"Constructor with variable number of arguemets\")\n",
    "t1= Test()\n",
    "t2=Test(10)\n",
    "t3 =Test(10,20)\n",
    "t4=Test(1,2,3)\n",
    "t5=Test(10,20,30,40,50,60)"
   ]
  },
  {
   "cell_type": "markdown",
   "id": "c610a428",
   "metadata": {},
   "source": [
    "### 3. Overriding"
   ]
  },
  {
   "cell_type": "code",
   "execution_count": 75,
   "id": "e3983963",
   "metadata": {},
   "outputs": [
    {
     "name": "stdout",
     "output_type": "stream",
     "text": [
      "Gold+Land+Cash+Power\n",
      "Rashi\n"
     ]
    }
   ],
   "source": [
    "#Demo program for methos overriding\n",
    "class P:\n",
    "    def property(self):\n",
    "        print(\"Gold+Land+Cash+Power\")\n",
    "    def marry(self):\n",
    "        print(\"Appalamma\")\n",
    "class C(P):\n",
    "    def marry(self):\n",
    "        print(\"Rashi\")\n",
    "c=C()\n",
    "c.property()\n",
    "c.marry()"
   ]
  },
  {
   "cell_type": "code",
   "execution_count": 76,
   "id": "52d76120",
   "metadata": {},
   "outputs": [
    {
     "name": "stdout",
     "output_type": "stream",
     "text": [
      "Gold+Land+Cash+Power\n",
      "Appalamma\n",
      "Rashi\n"
     ]
    }
   ],
   "source": [
    "class P:\n",
    "    def property(self):\n",
    "        print(\"Gold+Land+Cash+Power\")\n",
    "    def marry(self):\n",
    "        print(\"Appalamma\")\n",
    "class C(P):\n",
    "    def marry(self):\n",
    "        super().marry()\n",
    "        print(\"Rashi\")\n",
    "c=C()\n",
    "c.property()\n",
    "c.marry()"
   ]
  },
  {
   "cell_type": "code",
   "execution_count": 77,
   "id": "8365a66d",
   "metadata": {},
   "outputs": [
    {
     "name": "stdout",
     "output_type": "stream",
     "text": [
      "Child Constructor\n"
     ]
    }
   ],
   "source": [
    "#Demo program for constructor overriding\n",
    "class P:\n",
    "    def __init__(self):\n",
    "        print(\"Parent Constructor\")\n",
    "class C:\n",
    "    def __init__(self):\n",
    "        print(\"Child Constructor\")\n",
    "c = C()"
   ]
  },
  {
   "cell_type": "code",
   "execution_count": 86,
   "id": "533fecb6",
   "metadata": {},
   "outputs": [
    {
     "name": "stdout",
     "output_type": "stream",
     "text": [
      "Employee Name \t\t: Akhil\n",
      "Employee Salary \t: 25000\n",
      "Employee age \t\t: 25\n",
      "Employee number \t: 101\n"
     ]
    }
   ],
   "source": [
    "#Demo program to call parent class constructor by using super()\n",
    "class Person:\n",
    "    def __init__(self, name, age):\n",
    "        self.name = name\n",
    "        self.age = age\n",
    "class Employee(Person):\n",
    "    def __init__(self, name, age, eno, esal):\n",
    "        super().__init__(name, age)\n",
    "        self.eno = eno\n",
    "        self.esal = esal\n",
    "    def display(self):\n",
    "        print(f\"Employee Name \\t\\t: {self.name}\\nEmployee Salary \\t: {self.esal}\\nEmployee age \\t\\t: {self.age}\\nEmployee number \\t: {self.eno}\")\n",
    "\n",
    "\n",
    "e1 = Employee(\"Akhil\", 25, 101, 25000)\n",
    "e1.display()"
   ]
  },
  {
   "cell_type": "code",
   "execution_count": 87,
   "id": "3709d7a0",
   "metadata": {},
   "outputs": [
    {
     "name": "stdout",
     "output_type": "stream",
     "text": [
      "Employee Name \t\t: Sasi\n",
      "Employee Salary \t: 125000\n",
      "Employee age \t\t: 25\n",
      "Employee number \t: 101\n"
     ]
    }
   ],
   "source": [
    "e2 = Employee(\"Sasi\", 25, 101, 125000)\n",
    "e2.display()"
   ]
  },
  {
   "cell_type": "markdown",
   "id": "6500d9ef",
   "metadata": {},
   "source": [
    "### Abstract method"
   ]
  },
  {
   "cell_type": "code",
   "execution_count": 94,
   "id": "447e95dc",
   "metadata": {},
   "outputs": [
    {
     "ename": "NameError",
     "evalue": "name 'abstractmethod' is not defined",
     "output_type": "error",
     "traceback": [
      "\u001b[31m---------------------------------------------------------------------------\u001b[39m",
      "\u001b[31mNameError\u001b[39m                                 Traceback (most recent call last)",
      "\u001b[36mCell\u001b[39m\u001b[36m \u001b[39m\u001b[32mIn[94]\u001b[39m\u001b[32m, line 1\u001b[39m\n\u001b[32m----> \u001b[39m\u001b[32m1\u001b[39m \u001b[38;5;28;43;01mclass\u001b[39;49;00m\u001b[38;5;250;43m \u001b[39;49m\u001b[34;43;01mTest\u001b[39;49;00m\u001b[43m:\u001b[49m\n\u001b[32m      2\u001b[39m \u001b[43m    \u001b[49m\u001b[38;5;129;43m@abstractmethod\u001b[39;49m\n\u001b[32m      3\u001b[39m \u001b[43m    \u001b[49m\u001b[38;5;28;43;01mdef\u001b[39;49;00m\u001b[38;5;250;43m \u001b[39;49m\u001b[34;43mm1\u001b[39;49m\u001b[43m(\u001b[49m\u001b[38;5;28;43mself\u001b[39;49m\u001b[43m)\u001b[49m\u001b[43m:\u001b[49m\n\u001b[32m      4\u001b[39m \u001b[43m        \u001b[49m\u001b[38;5;28;43;01mpass\u001b[39;49;00m\n",
      "\u001b[36mCell\u001b[39m\u001b[36m \u001b[39m\u001b[32mIn[94]\u001b[39m\u001b[32m, line 2\u001b[39m, in \u001b[36mTest\u001b[39m\u001b[34m()\u001b[39m\n\u001b[32m      1\u001b[39m \u001b[38;5;28;01mclass\u001b[39;00m\u001b[38;5;250m \u001b[39m\u001b[34;01mTest\u001b[39;00m:\n\u001b[32m----> \u001b[39m\u001b[32m2\u001b[39m     \u001b[38;5;129m@abstractmethod\u001b[39m\n\u001b[32m      3\u001b[39m     \u001b[38;5;28;01mdef\u001b[39;00m\u001b[38;5;250m \u001b[39m\u001b[34mm1\u001b[39m(\u001b[38;5;28mself\u001b[39m):\n\u001b[32m      4\u001b[39m         \u001b[38;5;28;01mpass\u001b[39;00m\n",
      "\u001b[31mNameError\u001b[39m: name 'abstractmethod' is not defined"
     ]
    }
   ],
   "source": [
    "class Test:\n",
    "    @abstractmethod\n",
    "    def m1(self):\n",
    "        pass"
   ]
  },
  {
   "cell_type": "code",
   "execution_count": 95,
   "id": "0b339bf3",
   "metadata": {},
   "outputs": [],
   "source": [
    "from abc import *\n",
    "class Test:\n",
    "    @abstractmethod\n",
    "    def m1(self):\n",
    "        pass"
   ]
  },
  {
   "cell_type": "markdown",
   "id": "75aa10a5",
   "metadata": {},
   "source": [
    "### Abstract class"
   ]
  },
  {
   "cell_type": "code",
   "execution_count": 96,
   "id": "f7b417ec",
   "metadata": {},
   "outputs": [],
   "source": [
    "from abc import *\n",
    "class Test:\n",
    "    pass\n",
    "t = Test()"
   ]
  },
  {
   "cell_type": "code",
   "execution_count": 97,
   "id": "0d32eec7",
   "metadata": {},
   "outputs": [],
   "source": [
    "from abc import *\n",
    "class Test(ABC):\n",
    "    pass\n",
    "t = Test()"
   ]
  },
  {
   "cell_type": "code",
   "execution_count": 98,
   "id": "f86b2272",
   "metadata": {},
   "outputs": [
    {
     "ename": "TypeError",
     "evalue": "Can't instantiate abstract class Test without an implementation for abstract method 'm1'",
     "output_type": "error",
     "traceback": [
      "\u001b[31m---------------------------------------------------------------------------\u001b[39m",
      "\u001b[31mTypeError\u001b[39m                                 Traceback (most recent call last)",
      "\u001b[36mCell\u001b[39m\u001b[36m \u001b[39m\u001b[32mIn[98]\u001b[39m\u001b[32m, line 6\u001b[39m\n\u001b[32m      3\u001b[39m     \u001b[38;5;129m@abstractmethod\u001b[39m\n\u001b[32m      4\u001b[39m     \u001b[38;5;28;01mdef\u001b[39;00m\u001b[38;5;250m \u001b[39m\u001b[34mm1\u001b[39m(\u001b[38;5;28mself\u001b[39m):\n\u001b[32m      5\u001b[39m         \u001b[38;5;28;01mpass\u001b[39;00m\n\u001b[32m----> \u001b[39m\u001b[32m6\u001b[39m t = \u001b[43mTest\u001b[49m\u001b[43m(\u001b[49m\u001b[43m)\u001b[49m\n",
      "\u001b[31mTypeError\u001b[39m: Can't instantiate abstract class Test without an implementation for abstract method 'm1'"
     ]
    }
   ],
   "source": [
    "from abc import *\n",
    "class Test(ABC):\n",
    "    @abstractmethod\n",
    "    def m1(self):\n",
    "        pass\n",
    "t = Test()"
   ]
  },
  {
   "cell_type": "code",
   "execution_count": 99,
   "id": "06ce6cf0",
   "metadata": {},
   "outputs": [],
   "source": [
    "from abc import *\n",
    "class Test:\n",
    "    @abstractmethod\n",
    "    def m1(self):\n",
    "        pass\n",
    "t = Test()"
   ]
  },
  {
   "cell_type": "code",
   "execution_count": 100,
   "id": "8a14a004",
   "metadata": {},
   "outputs": [
    {
     "name": "stdout",
     "output_type": "stream",
     "text": [
      "Hello\n"
     ]
    }
   ],
   "source": [
    "from abc import *\n",
    "class Test:\n",
    "    @abstractmethod\n",
    "    def m1(self):\n",
    "        print(\"Hello\")\n",
    "t = Test()\n",
    "t.m1()"
   ]
  },
  {
   "cell_type": "code",
   "execution_count": null,
   "id": "c9c419fa",
   "metadata": {},
   "outputs": [],
   "source": [
    "#case -1\n",
    "from abc import *\n",
    "class Vehicle(ABC):\n",
    "    @abstractmethod\n",
    "    def noofwheels(self):\n",
    "        pass\n",
    "class Bus(Vehicle):pass\n"
   ]
  },
  {
   "cell_type": "code",
   "execution_count": 102,
   "id": "f7123485",
   "metadata": {},
   "outputs": [
    {
     "ename": "TypeError",
     "evalue": "Can't instantiate abstract class Bus without an implementation for abstract method 'noofwheels'",
     "output_type": "error",
     "traceback": [
      "\u001b[31m---------------------------------------------------------------------------\u001b[39m",
      "\u001b[31mTypeError\u001b[39m                                 Traceback (most recent call last)",
      "\u001b[36mCell\u001b[39m\u001b[36m \u001b[39m\u001b[32mIn[102]\u001b[39m\u001b[32m, line 8\u001b[39m\n\u001b[32m      6\u001b[39m         \u001b[38;5;28;01mpass\u001b[39;00m\n\u001b[32m      7\u001b[39m \u001b[38;5;28;01mclass\u001b[39;00m\u001b[38;5;250m \u001b[39m\u001b[34;01mBus\u001b[39;00m(Vehicle):\u001b[38;5;28;01mpass\u001b[39;00m\n\u001b[32m----> \u001b[39m\u001b[32m8\u001b[39m b = \u001b[43mBus\u001b[49m\u001b[43m(\u001b[49m\u001b[43m)\u001b[49m\n",
      "\u001b[31mTypeError\u001b[39m: Can't instantiate abstract class Bus without an implementation for abstract method 'noofwheels'"
     ]
    }
   ],
   "source": [
    "#case -2\n",
    "from abc import *\n",
    "class Vehicle(ABC):\n",
    "    @abstractmethod\n",
    "    def noofwheels(self):\n",
    "        pass\n",
    "class Bus(Vehicle):pass\n",
    "b = Bus()"
   ]
  },
  {
   "cell_type": "code",
   "execution_count": 103,
   "id": "74a10f37",
   "metadata": {},
   "outputs": [
    {
     "name": "stdout",
     "output_type": "stream",
     "text": [
      "7\n",
      "3\n"
     ]
    }
   ],
   "source": [
    "from abc import *\n",
    "class Vehicle(ABC):\n",
    "    @abstractmethod\n",
    "    def noofwheels(self):\n",
    "        pass\n",
    "class Bus(Vehicle):\n",
    "    def noofwheels(self):\n",
    "        return 7\n",
    "class Auto(Vehicle):\n",
    "    def noofwheels(self):\n",
    "        return 3\n",
    "b = Bus()\n",
    "print(b.noofwheels())\n",
    "a = Auto()\n",
    "print(a.noofwheels())"
   ]
  },
  {
   "cell_type": "markdown",
   "id": "66fbd2d0",
   "metadata": {},
   "source": [
    "### Interface in python"
   ]
  },
  {
   "cell_type": "code",
   "execution_count": 106,
   "id": "804bea79",
   "metadata": {},
   "outputs": [
    {
     "name": "stdout",
     "output_type": "stream",
     "text": [
      "Connecting to Sybase database\n",
      "Disconnecting to Sybase database\n"
     ]
    }
   ],
   "source": [
    "from abc import *\n",
    "class DBInterface(ABC):\n",
    "    @abstractmethod\n",
    "    def connect(self):pass\n",
    "\n",
    "    @abstractmethod\n",
    "    def disconnect(self):pass\n",
    "\n",
    "class Oracle(DBInterface):\n",
    "    def connect(self):\n",
    "        print(\"Connecting to Oracle Database\")\n",
    "    def disconnect(self):\n",
    "        print(\"Disconnecting to Oracle database\")\n",
    "\n",
    "class Sybase(DBInterface):\n",
    "    def connect(self):\n",
    "        print(\"Connecting to Sybase database\")\n",
    "    def disconnect(self):\n",
    "        print(\"Disconnecting to Sybase database\")\n",
    "dbname = input(\"Enter the Database name\")\n",
    "classname = globals()[dbname]\n",
    "x = classname()\n",
    "x.connect()\n",
    "x.disconnect()"
   ]
  },
  {
   "cell_type": "code",
   "execution_count": 111,
   "id": "381a91b2",
   "metadata": {},
   "outputs": [
    {
     "name": "stdout",
     "output_type": "stream",
     "text": [
      "Printing from EPSON Printer.....\n",
      "This data has to print....\n",
      "Printing completed on EPSON printer\n"
     ]
    }
   ],
   "source": [
    "#Demo program 2\n",
    "#Reading class name from the file\n",
    "from abc import *\n",
    "class Printer(ABC):\n",
    "    @abstractmethod\n",
    "    def printit(self,text):pass\n",
    "    @abstractmethod\n",
    "    def disconnect(self):pass\n",
    "\n",
    "class EPSON(Printer):\n",
    "    def printit(self, text):\n",
    "        print(\"Printing from EPSON Printer.....\")\n",
    "        print(text)\n",
    "    def disconnect(self):\n",
    "        print(\"Printing completed on EPSON printer\")\n",
    "    \n",
    "class HP(Printer):\n",
    "    def printit(self, text):\n",
    "        print(\"Printing from the HP printer\")\n",
    "        print(text)\n",
    "    def disconnect(self):\n",
    "        print(\"Printing completed on HP Printer.\")\n",
    "\n",
    "with open(\"config.txt\", \"r\") as f:\n",
    "    pname = f.readline()\n",
    "\n",
    "classname = globals()[pname]\n",
    "x = classname()\n",
    "x.printit(\"This data has to print....\")\n",
    "x.disconnect()\n"
   ]
  },
  {
   "cell_type": "code",
   "execution_count": 112,
   "id": "1f815c43",
   "metadata": {},
   "outputs": [
    {
     "name": "stdout",
     "output_type": "stream",
     "text": [
      "m1 method implementation\n",
      "m2 method implementation\n",
      "m3 method implementation\n"
     ]
    }
   ],
   "source": [
    "#concrete class vs abstract clas vs interface\n",
    "from abc import *\n",
    "class CollegeAUtomation(ABC):\n",
    "    @abstractmethod\n",
    "    def m1(self):pass\n",
    "    @abstractmethod\n",
    "    def m2(self):pass\n",
    "    @abstractmethod\n",
    "    def m3(self):pass\n",
    "class AbsCls(CollegeAUtomation):\n",
    "    def m1(self):\n",
    "        print(\"m1 method implementation\")\n",
    "    def m2(self):\n",
    "        print(\"m2 method implementation\")\n",
    "class ConcreteCls(AbsCls):\n",
    "    def m3(self):\n",
    "        print(\"m3 method implementation\")\n",
    "c = ConcreteCls()\n",
    "c.m1()\n",
    "c.m2()\n",
    "c.m3()"
   ]
  },
  {
   "cell_type": "markdown",
   "id": "e5478255",
   "metadata": {},
   "source": [
    "#### public, protected and private attributes"
   ]
  },
  {
   "cell_type": "code",
   "execution_count": 113,
   "id": "9510b9a3",
   "metadata": {},
   "outputs": [
    {
     "name": "stdout",
     "output_type": "stream",
     "text": [
      "10\n",
      "20\n",
      "30\n"
     ]
    }
   ],
   "source": [
    "class Test:\n",
    "    x =10\n",
    "    _y = 20\n",
    "    __z = 30\n",
    "    def m1(self):\n",
    "        print(Test.x)\n",
    "        print(Test._y)\n",
    "        print(Test.__z)\n",
    "t = Test()\n",
    "t.m1()"
   ]
  },
  {
   "cell_type": "code",
   "execution_count": 114,
   "id": "bb757424",
   "metadata": {},
   "outputs": [
    {
     "name": "stdout",
     "output_type": "stream",
     "text": [
      "10\n",
      "20\n"
     ]
    },
    {
     "ename": "AttributeError",
     "evalue": "type object 'Test' has no attribute '__z'",
     "output_type": "error",
     "traceback": [
      "\u001b[31m---------------------------------------------------------------------------\u001b[39m",
      "\u001b[31mAttributeError\u001b[39m                            Traceback (most recent call last)",
      "\u001b[36mCell\u001b[39m\u001b[36m \u001b[39m\u001b[32mIn[114]\u001b[39m\u001b[32m, line 3\u001b[39m\n\u001b[32m      1\u001b[39m \u001b[38;5;28mprint\u001b[39m(Test.x)\n\u001b[32m      2\u001b[39m \u001b[38;5;28mprint\u001b[39m(Test._y)\n\u001b[32m----> \u001b[39m\u001b[32m3\u001b[39m \u001b[38;5;28mprint\u001b[39m(\u001b[43mTest\u001b[49m\u001b[43m.\u001b[49m\u001b[43m__z\u001b[49m)\n",
      "\u001b[31mAttributeError\u001b[39m: type object 'Test' has no attribute '__z'"
     ]
    }
   ],
   "source": [
    "print(Test.x)\n",
    "print(Test._y)\n",
    "print(Test.__z)"
   ]
  },
  {
   "cell_type": "code",
   "execution_count": 115,
   "id": "ba320162",
   "metadata": {},
   "outputs": [
    {
     "name": "stdout",
     "output_type": "stream",
     "text": [
      "30\n"
     ]
    }
   ],
   "source": [
    "print(t._Test__z)"
   ]
  },
  {
   "cell_type": "code",
   "execution_count": 119,
   "id": "f21efe6a",
   "metadata": {},
   "outputs": [
    {
     "name": "stdout",
     "output_type": "stream",
     "text": [
      "This is Student with name:Akhil and rollno:101\n",
      "This is Student with name:Sasi and rollno:102\n"
     ]
    }
   ],
   "source": [
    "class Student:\n",
    "    def __init__(self, name, rollno):\n",
    "        self.name = name\n",
    "        self.rollno = rollno\n",
    "    def __str__(self):\n",
    "        return f\"This is Student with name:{self.name} and rollno:{self.rollno}\"\n",
    "s1 = Student(\"Akhil\",101)\n",
    "s2 = Student(\"Sasi\", 102)\n",
    "print(s1)\n",
    "print(s2)"
   ]
  },
  {
   "cell_type": "code",
   "execution_count": 120,
   "id": "957818e3",
   "metadata": {},
   "outputs": [
    {
     "name": "stdout",
     "output_type": "stream",
     "text": [
      "2025-10-19 16:45:00.682496\n"
     ]
    },
    {
     "ename": "SyntaxError",
     "evalue": "invalid syntax (<string>, line 1)",
     "output_type": "error",
     "traceback": [
      "Traceback \u001b[36m(most recent call last)\u001b[39m:\n",
      "  File \u001b[92me:\\Python Practice\\myenv\\Lib\\site-packages\\IPython\\core\\interactiveshell.py:3699\u001b[39m in \u001b[95mrun_code\u001b[39m\n    exec(code_obj, self.user_global_ns, self.user_ns)\n",
      "\u001b[36m  \u001b[39m\u001b[36mCell\u001b[39m\u001b[36m \u001b[39m\u001b[32mIn[120]\u001b[39m\u001b[32m, line 5\u001b[39m\n\u001b[31m    \u001b[39m\u001b[31md = eval(s)\u001b[39m\n",
      "  \u001b[36mFile \u001b[39m\u001b[32m<string>:1\u001b[39m\n\u001b[31m    \u001b[39m\u001b[31m2025-10-19 16:45:00.682496\u001b[39m\n               ^\n\u001b[31mSyntaxError\u001b[39m\u001b[31m:\u001b[39m invalid syntax\n"
     ]
    }
   ],
   "source": [
    "import datetime\n",
    "today = datetime.datetime.now()\n",
    "s = str(today)\n",
    "print(s)\n",
    "d = eval(s)"
   ]
  },
  {
   "cell_type": "code",
   "execution_count": 121,
   "id": "8b4f312e",
   "metadata": {},
   "outputs": [
    {
     "name": "stdout",
     "output_type": "stream",
     "text": [
      "datetime.datetime(2025, 10, 19, 16, 45, 39, 772581)\n"
     ]
    }
   ],
   "source": [
    "import datetime\n",
    "today = datetime.datetime.now()\n",
    "s = repr(today)\n",
    "print(s)\n",
    "d = eval(s)"
   ]
  },
  {
   "cell_type": "code",
   "execution_count": 122,
   "id": "f6abbabf",
   "metadata": {},
   "outputs": [
    {
     "data": {
      "text/plain": [
       "'datetime.datetime(2025, 10, 19, 16, 45, 39, 772581)'"
      ]
     },
     "execution_count": 122,
     "metadata": {},
     "output_type": "execute_result"
    }
   ],
   "source": [
    "s"
   ]
  },
  {
   "cell_type": "code",
   "execution_count": 123,
   "id": "efd7adf2",
   "metadata": {},
   "outputs": [
    {
     "data": {
      "text/plain": [
       "datetime.datetime(2025, 10, 19, 16, 45, 39, 772581)"
      ]
     },
     "execution_count": 123,
     "metadata": {},
     "output_type": "execute_result"
    }
   ],
   "source": [
    "d"
   ]
  },
  {
   "cell_type": "code",
   "execution_count": 125,
   "id": "2d5999b7",
   "metadata": {},
   "outputs": [
    {
     "name": "stdout",
     "output_type": "stream",
     "text": [
      "Akhi's Savings Account with balance: 15000\n"
     ]
    }
   ],
   "source": [
    "#Mini project: Banking application\n",
    "class Account:\n",
    "    def __init__(self, name, balance, min_balance):\n",
    "        self.name = name\n",
    "        self.balance = balance\n",
    "        self.min_balance = min_balance\n",
    "    def deposit(self, amount):\n",
    "        self.balance = self.balance +amount\n",
    "\n",
    "    def withdraw(self, amount):\n",
    "        if self.balance >= self.min_balance:\n",
    "            self.balance = self.balance - amount\n",
    "        else:\n",
    "            print(\"Sorry, Insufficient Funds\")\n",
    "    def printStatement(self):\n",
    "        print(\"Account balance:\", self.balance)\n",
    "\n",
    "class Savings(Account):\n",
    "    def __init__(self, name, balance):\n",
    "        super().__init__(name, balance, min_balance=0)\n",
    "    def __str__(self):\n",
    "        return f\"{self.name}'s Savings Account with balance: {self.balance}\"\n",
    "class Current(Account):\n",
    "    def __init__(self, name, balance):\n",
    "        super().__init__(name, balance, min_balance=1000)\n",
    "    def __str__(self):\n",
    "        return f\"{self.name}'s Current Account with balance: {self.balance}\"\n",
    "    \n",
    "\n",
    "c = Savings(\"Akhi\", 15000)\n",
    "print(c)"
   ]
  },
  {
   "cell_type": "code",
   "execution_count": 126,
   "id": "4bc24e8d",
   "metadata": {},
   "outputs": [],
   "source": [
    "c.deposit(10000)"
   ]
  },
  {
   "cell_type": "code",
   "execution_count": 128,
   "id": "a5bb049d",
   "metadata": {},
   "outputs": [
    {
     "name": "stdout",
     "output_type": "stream",
     "text": [
      "Akhi's Savings Account with balance: 25000\n"
     ]
    }
   ],
   "source": [
    "print(c)"
   ]
  },
  {
   "cell_type": "code",
   "execution_count": 129,
   "id": "54b233ad",
   "metadata": {},
   "outputs": [
    {
     "name": "stdout",
     "output_type": "stream",
     "text": [
      "Account balance: 25000\n"
     ]
    }
   ],
   "source": [
    "c.printStatement()"
   ]
  },
  {
   "cell_type": "code",
   "execution_count": 130,
   "id": "72ce2c44",
   "metadata": {},
   "outputs": [],
   "source": [
    "c.withdraw(15000)"
   ]
  },
  {
   "cell_type": "code",
   "execution_count": 131,
   "id": "0e1d6465",
   "metadata": {},
   "outputs": [
    {
     "name": "stdout",
     "output_type": "stream",
     "text": [
      "Account balance: 10000\n"
     ]
    }
   ],
   "source": [
    "c.printStatement()"
   ]
  },
  {
   "cell_type": "markdown",
   "id": "ed026630",
   "metadata": {},
   "source": [
    "## Exception handling"
   ]
  },
  {
   "cell_type": "code",
   "execution_count": 135,
   "id": "aeaa9ceb",
   "metadata": {},
   "outputs": [
    {
     "name": "stdout",
     "output_type": "stream",
     "text": [
      "smt-1\n"
     ]
    },
    {
     "ename": "ZeroDivisionError",
     "evalue": "division by zero",
     "output_type": "error",
     "traceback": [
      "\u001b[31m---------------------------------------------------------------------------\u001b[39m",
      "\u001b[31mZeroDivisionError\u001b[39m                         Traceback (most recent call last)",
      "\u001b[36mCell\u001b[39m\u001b[36m \u001b[39m\u001b[32mIn[135]\u001b[39m\u001b[32m, line 2\u001b[39m\n\u001b[32m      1\u001b[39m \u001b[38;5;28mprint\u001b[39m(\u001b[33m\"\u001b[39m\u001b[33msmt-1\u001b[39m\u001b[33m\"\u001b[39m)\n\u001b[32m----> \u001b[39m\u001b[32m2\u001b[39m \u001b[38;5;28mprint\u001b[39m(\u001b[32;43m10\u001b[39;49m\u001b[43m/\u001b[49m\u001b[32;43m0\u001b[39;49m)\n\u001b[32m      3\u001b[39m \u001b[38;5;28mprint\u001b[39m(\u001b[33m\"\u001b[39m\u001b[33msmt-3\u001b[39m\u001b[33m\"\u001b[39m)\n",
      "\u001b[31mZeroDivisionError\u001b[39m: division by zero"
     ]
    }
   ],
   "source": [
    "print(\"smt-1\")\n",
    "print(10/0)\n",
    "print(\"smt-3\")"
   ]
  },
  {
   "cell_type": "code",
   "execution_count": 134,
   "id": "84368e34",
   "metadata": {},
   "outputs": [
    {
     "name": "stdout",
     "output_type": "stream",
     "text": [
      "smt-1\n",
      "5.0\n",
      "smt-3\n"
     ]
    }
   ],
   "source": [
    "print(\"smt-1\")\n",
    "try:\n",
    "    print(10/0)\n",
    "except ZeroDivisionError:\n",
    "    print(10/2)\n",
    "print(\"smt-3\")"
   ]
  },
  {
   "cell_type": "code",
   "execution_count": 136,
   "id": "97723b64",
   "metadata": {},
   "outputs": [
    {
     "name": "stdout",
     "output_type": "stream",
     "text": [
      "exception raised and its description: division by zero\n"
     ]
    }
   ],
   "source": [
    "#How to print exception information\n",
    "try:\n",
    "    print(10/0)\n",
    "except ZeroDivisionError as msg:\n",
    "    print(\"exception raised and its description:\", msg)"
   ]
  },
  {
   "cell_type": "code",
   "execution_count": 139,
   "id": "3a8ce60f",
   "metadata": {},
   "outputs": [
    {
     "name": "stdout",
     "output_type": "stream",
     "text": [
      "0.75\n"
     ]
    }
   ],
   "source": [
    "try:\n",
    "    x = int(input(\"enter first number\"))\n",
    "    y = int(input(\"enter second number\"))\n",
    "    print(x/y)\n",
    "except ZeroDivisionError:\n",
    "    print(\"Can't divided by 0\")\n",
    "except ValueError:\n",
    "    print(\"Please provide int values only\")"
   ]
  },
  {
   "cell_type": "code",
   "execution_count": 140,
   "id": "0f6978b6",
   "metadata": {},
   "outputs": [
    {
     "name": "stdout",
     "output_type": "stream",
     "text": [
      "ArithmeticError\n"
     ]
    }
   ],
   "source": [
    "try:\n",
    "    x = int(input(\"enter first number\"))\n",
    "    y = int(input(\"enter second number\"))\n",
    "    print(x/y)\n",
    "except ArithmeticError:\n",
    "    print(\"ArithmeticError\")\n",
    "except ZeroDivisionError:\n",
    "    print(\"ZeroDivisionError\")\n"
   ]
  },
  {
   "cell_type": "code",
   "execution_count": 142,
   "id": "699e0815",
   "metadata": {},
   "outputs": [
    {
     "name": "stdout",
     "output_type": "stream",
     "text": [
      "Plz provide valid numbers only and problem is: invalid literal for int() with base 10: 'fg'\n"
     ]
    }
   ],
   "source": [
    "#single except block that can handle multiple exceptions\n",
    "try:\n",
    "    x = int(input(\"enter first number\"))\n",
    "    y = int(input(\"enter second number\"))\n",
    "    print(x/y)\n",
    "except (ZeroDivisionError, ValueError) as msg:\n",
    "    print(\"Plz provide valid numbers only and problem is:\", msg)"
   ]
  },
  {
   "cell_type": "code",
   "execution_count": 144,
   "id": "e8134fe5",
   "metadata": {},
   "outputs": [
    {
     "name": "stdout",
     "output_type": "stream",
     "text": [
      "ZeroDivisionError: can't divide by zero\n"
     ]
    }
   ],
   "source": [
    "#Default except block\n",
    "try:\n",
    "    x = int(input(\"enter first number\"))\n",
    "    y = int(input(\"enter second number\"))\n",
    "    print(x/y)\n",
    "except ZeroDivisionError:\n",
    "    print(\"ZeroDivisionError: can't divide by zero\")\n",
    "except:\n",
    "    print(\"Default except: plz provide the valid input only\")"
   ]
  },
  {
   "cell_type": "code",
   "execution_count": 145,
   "id": "978d017a",
   "metadata": {},
   "outputs": [
    {
     "ename": "SyntaxError",
     "evalue": "default 'except:' must be last (3456331201.py, line 3)",
     "output_type": "error",
     "traceback": [
      "  \u001b[36mCell\u001b[39m\u001b[36m \u001b[39m\u001b[32mIn[145]\u001b[39m\u001b[32m, line 3\u001b[39m\n\u001b[31m    \u001b[39m\u001b[31mexcept:\u001b[39m\n    ^\n\u001b[31mSyntaxError\u001b[39m\u001b[31m:\u001b[39m default 'except:' must be last\n"
     ]
    }
   ],
   "source": [
    "try:\n",
    "    print(10/0)\n",
    "except:\n",
    "    print(\"Defalt except\")\n",
    "except ZeroDivisionError:\n",
    "    print(\"ZeroDivisionError\")\n",
    "    \n"
   ]
  },
  {
   "cell_type": "markdown",
   "id": "70619d07",
   "metadata": {},
   "source": [
    "### finally"
   ]
  },
  {
   "cell_type": "code",
   "execution_count": 146,
   "id": "06cfc4c1",
   "metadata": {},
   "outputs": [
    {
     "name": "stdout",
     "output_type": "stream",
     "text": [
      "try\n",
      "Finally\n"
     ]
    }
   ],
   "source": [
    "#Case1=-1\n",
    "try:\n",
    "    print(\"try\")\n",
    "except:\n",
    "    print(\"Except\")\n",
    "finally:\n",
    "    print(\"Finally\")"
   ]
  },
  {
   "cell_type": "code",
   "execution_count": 147,
   "id": "fe0c77e4",
   "metadata": {},
   "outputs": [
    {
     "name": "stdout",
     "output_type": "stream",
     "text": [
      "Try\n",
      "Except\n",
      "Finally\n"
     ]
    }
   ],
   "source": [
    "#case-2\n",
    "try:\n",
    "    print(\"Try\")\n",
    "    print(10/0)\n",
    "except ZeroDivisionError:\n",
    "    print(\"Except\")\n",
    "finally:\n",
    "    print(\"Finally\")"
   ]
  },
  {
   "cell_type": "code",
   "execution_count": 148,
   "id": "a371be16",
   "metadata": {},
   "outputs": [
    {
     "name": "stdout",
     "output_type": "stream",
     "text": [
      "Try\n",
      "Finally\n"
     ]
    },
    {
     "ename": "ZeroDivisionError",
     "evalue": "division by zero",
     "output_type": "error",
     "traceback": [
      "\u001b[31m---------------------------------------------------------------------------\u001b[39m",
      "\u001b[31mZeroDivisionError\u001b[39m                         Traceback (most recent call last)",
      "\u001b[36mCell\u001b[39m\u001b[36m \u001b[39m\u001b[32mIn[148]\u001b[39m\u001b[32m, line 4\u001b[39m\n\u001b[32m      2\u001b[39m \u001b[38;5;28;01mtry\u001b[39;00m:\n\u001b[32m      3\u001b[39m     \u001b[38;5;28mprint\u001b[39m(\u001b[33m\"\u001b[39m\u001b[33mTry\u001b[39m\u001b[33m\"\u001b[39m)\n\u001b[32m----> \u001b[39m\u001b[32m4\u001b[39m     \u001b[38;5;28mprint\u001b[39m(\u001b[32;43m10\u001b[39;49m\u001b[43m/\u001b[49m\u001b[32;43m0\u001b[39;49m)\n\u001b[32m      5\u001b[39m \u001b[38;5;28;01mexcept\u001b[39;00m \u001b[38;5;167;01mNameError\u001b[39;00m:\n\u001b[32m      6\u001b[39m     \u001b[38;5;28mprint\u001b[39m(\u001b[33m\"\u001b[39m\u001b[33mExcept\u001b[39m\u001b[33m\"\u001b[39m)\n",
      "\u001b[31mZeroDivisionError\u001b[39m: division by zero"
     ]
    }
   ],
   "source": [
    "#case-3 \n",
    "try:\n",
    "    print(\"Try\")\n",
    "    print(10/0)\n",
    "except NameError:\n",
    "    print(\"Except\")\n",
    "finally:\n",
    "    print(\"Finally\")"
   ]
  },
  {
   "cell_type": "code",
   "execution_count": 5,
   "id": "06fce6cf",
   "metadata": {},
   "outputs": [
    {
     "name": "stdout",
     "output_type": "stream",
     "text": [
      "Try\n",
      "Finally\n",
      "hello\n"
     ]
    },
    {
     "ename": "ZeroDivisionError",
     "evalue": "division by zero",
     "output_type": "error",
     "traceback": [
      "\u001b[31m---------------------------------------------------------------------------\u001b[39m",
      "\u001b[31mZeroDivisionError\u001b[39m                         Traceback (most recent call last)",
      "\u001b[36mCell\u001b[39m\u001b[36m \u001b[39m\u001b[32mIn[5]\u001b[39m\u001b[32m, line 3\u001b[39m\n\u001b[32m      1\u001b[39m \u001b[38;5;28;01mtry\u001b[39;00m:\n\u001b[32m      2\u001b[39m     \u001b[38;5;28mprint\u001b[39m(\u001b[33m\"\u001b[39m\u001b[33mTry\u001b[39m\u001b[33m\"\u001b[39m)\n\u001b[32m----> \u001b[39m\u001b[32m3\u001b[39m     \u001b[38;5;28mprint\u001b[39m(\u001b[32;43m10\u001b[39;49m\u001b[43m/\u001b[49m\u001b[32;43m0\u001b[39;49m)\n\u001b[32m      4\u001b[39m \u001b[38;5;28;01mexcept\u001b[39;00m \u001b[38;5;167;01mNameError\u001b[39;00m:\n\u001b[32m      5\u001b[39m     \u001b[38;5;28mprint\u001b[39m(\u001b[33m\"\u001b[39m\u001b[33mExcept\u001b[39m\u001b[33m\"\u001b[39m)\n",
      "\u001b[31mZeroDivisionError\u001b[39m: division by zero"
     ]
    }
   ],
   "source": [
    "try:\n",
    "    print(\"Try\")\n",
    "    print(10/0)\n",
    "except NameError:\n",
    "    print(\"Except\")\n",
    "finally:\n",
    "    print(\"Finally\")\n",
    "    print(\"hello\")"
   ]
  },
  {
   "cell_type": "code",
   "execution_count": null,
   "id": "8de1d65d",
   "metadata": {},
   "outputs": [
    {
     "ename": "",
     "evalue": "",
     "output_type": "error",
     "traceback": [
      "\u001b[1;31mThe Kernel crashed while executing code in the current cell or a previous cell. \n",
      "\u001b[1;31mPlease review the code in the cell(s) to identify a possible cause of the failure. \n",
      "\u001b[1;31mClick <a href='https://aka.ms/vscodeJupyterKernelCrash'>here</a> for more info. \n",
      "\u001b[1;31mView Jupyter <a href='command:jupyter.viewOutput'>log</a> for further details."
     ]
    }
   ],
   "source": [
    "import os\n",
    "try:\n",
    "    print(\"try\")\n",
    "    os._exit(0)\n",
    "except NameError:\n",
    "    print(\"Except\")\n",
    "finally:\n",
    "    print(\"Finally\")"
   ]
  },
  {
   "cell_type": "code",
   "execution_count": 4,
   "id": "726970e0",
   "metadata": {},
   "outputs": [
    {
     "name": "stdout",
     "output_type": "stream",
     "text": [
      "Outer try block\n",
      "Inner Try blcok\n",
      "Inner except block\n",
      "inner finally block\n",
      "Outer finally block\n"
     ]
    }
   ],
   "source": [
    "try:\n",
    "    print(\"Outer try block\")\n",
    "    try:\n",
    "        print(\"Inner Try blcok\")\n",
    "        print(10/0)\n",
    "    except ZeroDivisionError:\n",
    "        print(\"Inner except block\")\n",
    "    finally:\n",
    "        print(\"inner finally block\")\n",
    "except:\n",
    "    print(\"Outer except block\")\n",
    "finally:\n",
    "    print(\"Outer finally block\")"
   ]
  },
  {
   "cell_type": "code",
   "execution_count": 8,
   "id": "9a161d03",
   "metadata": {},
   "outputs": [
    {
     "name": "stdout",
     "output_type": "stream",
     "text": [
      "Try\n",
      "Except\n",
      "Finally\n"
     ]
    }
   ],
   "source": [
    "#else block with try-except-finally\n",
    "try:\n",
    "    print(\"Try\")\n",
    "    print(10/0)\n",
    "except ZeroDivisionError:\n",
    "    print(\"Except\")\n",
    "else:\n",
    "    print(\"else\")\n",
    "finally:\n",
    "    print(\"Finally\")"
   ]
  },
  {
   "cell_type": "code",
   "execution_count": 9,
   "id": "6c026dd9",
   "metadata": {},
   "outputs": [
    {
     "name": "stdout",
     "output_type": "stream",
     "text": [
      "Try\n",
      "else\n",
      "Finally\n"
     ]
    }
   ],
   "source": [
    "try:\n",
    "    print(\"Try\")\n",
    "    # print(10/0)\n",
    "except ZeroDivisionError:\n",
    "    print(\"Except\")\n",
    "else:\n",
    "    print(\"else\")\n",
    "finally:\n",
    "    print(\"Finally\")"
   ]
  },
  {
   "cell_type": "markdown",
   "id": "9187fda3",
   "metadata": {},
   "source": [
    "#### How to define and raise customized exceptions\n"
   ]
  },
  {
   "cell_type": "code",
   "execution_count": 12,
   "id": "051bfab5",
   "metadata": {},
   "outputs": [
    {
     "ename": "TooYoungException",
     "evalue": "Plz wait some more time you will get best match soon!!!",
     "output_type": "error",
     "traceback": [
      "\u001b[31m---------------------------------------------------------------------------\u001b[39m",
      "\u001b[31mTooYoungException\u001b[39m                         Traceback (most recent call last)",
      "\u001b[36mCell\u001b[39m\u001b[36m \u001b[39m\u001b[32mIn[12]\u001b[39m\u001b[32m, line 11\u001b[39m\n\u001b[32m      9\u001b[39m age = \u001b[38;5;28mint\u001b[39m(\u001b[38;5;28minput\u001b[39m(\u001b[33m\"\u001b[39m\u001b[33mEnter Age:\u001b[39m\u001b[33m\"\u001b[39m))\n\u001b[32m     10\u001b[39m \u001b[38;5;28;01mif\u001b[39;00m age>=\u001b[32m60\u001b[39m:\n\u001b[32m---> \u001b[39m\u001b[32m11\u001b[39m     \u001b[38;5;28;01mraise\u001b[39;00m TooYoungException(\u001b[33m\"\u001b[39m\u001b[33mPlz wait some more time you will get best match soon!!!\u001b[39m\u001b[33m\"\u001b[39m)\n\u001b[32m     12\u001b[39m \u001b[38;5;28;01melif\u001b[39;00m age<\u001b[32m18\u001b[39m:\n\u001b[32m     13\u001b[39m     \u001b[38;5;28;01mraise\u001b[39;00m TooOldException(\u001b[33m\"\u001b[39m\u001b[33mYour age already crossed marriage age.... no chance of getting marriage\u001b[39m\u001b[33m\"\u001b[39m)\n",
      "\u001b[31mTooYoungException\u001b[39m: Plz wait some more time you will get best match soon!!!"
     ]
    }
   ],
   "source": [
    "class TooYoungException(Exception):\n",
    "    def __init__(self, arg):\n",
    "        self.msg = arg\n",
    "\n",
    "class TooOldException(Exception):\n",
    "    def __init__(self, arg):\n",
    "        self.msg = arg\n",
    "\n",
    "age = int(input(\"Enter Age:\"))\n",
    "if age>=60:\n",
    "    raise TooYoungException(\"Plz wait some more time you will get best match soon!!!\")\n",
    "elif age<18:\n",
    "    raise TooOldException(\"Your age already crossed marriage age.... no chance of getting marriage\")\n",
    "else:\n",
    "    print(\"you will get match details sooon by email\")"
   ]
  },
  {
   "cell_type": "markdown",
   "id": "e8476085",
   "metadata": {},
   "source": [
    "### Python Logging module"
   ]
  },
  {
   "cell_type": "code",
   "execution_count": 13,
   "id": "60ddf787",
   "metadata": {},
   "outputs": [
    {
     "name": "stdout",
     "output_type": "stream",
     "text": [
      "Logging Demo\n"
     ]
    }
   ],
   "source": [
    "#Write a python program to create a log file and write WARNING and higher level messages\n",
    "import logging\n",
    "logging.basicConfig(filename=\"log.txt\", level=logging.WARNING)\n",
    "print(\"Logging Demo\")\n",
    "logging.debug(\"Debug information\")\n",
    "logging.info(\"Info information\")\n",
    "logging.warning(\"Warning information\")\n",
    "logging.error(\"Error information\")\n",
    "logging.critical(\"critical information\")"
   ]
  },
  {
   "cell_type": "code",
   "execution_count": null,
   "id": "f5e52495",
   "metadata": {},
   "outputs": [
    {
     "name": "stdout",
     "output_type": "stream",
     "text": [
      "logging demo\n",
      "-------------\n"
     ]
    }
   ],
   "source": [
    "import logging\n",
    "logging.basicConfig(filename=\"log.txt\", level=logging.DEBUG)\n",
    "print(\"logging demo\")\n",
    "logging.debug(\"Debug information\")\n",
    "logging.info(\"Info information\")\n",
    "logging.warning(\"Warning information\")\n",
    "logging.error(\"Error information\")\n",
    "logging.critical(\"Critical information\")\n",
    "print(\"-------------\")"
   ]
  },
  {
   "cell_type": "code",
   "execution_count": 1,
   "id": "301b45a3",
   "metadata": {},
   "outputs": [
    {
     "name": "stdout",
     "output_type": "stream",
     "text": [
      "logging demo\n",
      "-------------\n"
     ]
    }
   ],
   "source": [
    "import logging\n",
    "logging.basicConfig(filename=\"log.txt\", level=logging.DEBUG,filemode=\"w\")\n",
    "print(\"logging demo\")\n",
    "logging.debug(\"Debug information\")\n",
    "logging.info(\"Info information\")\n",
    "logging.warning(\"Warning information\")\n",
    "logging.error(\"Error information\")\n",
    "logging.critical(\"Critical information\")\n",
    "print(\"-------------\")"
   ]
  },
  {
   "cell_type": "code",
   "execution_count": 1,
   "id": "8f545312",
   "metadata": {},
   "outputs": [
    {
     "name": "stderr",
     "output_type": "stream",
     "text": [
      "WARNING:root:Warning information\n",
      "ERROR:root:Error information\n",
      "CRITICAL:root:Critical information\n"
     ]
    },
    {
     "name": "stdout",
     "output_type": "stream",
     "text": [
      "logging demo\n"
     ]
    }
   ],
   "source": [
    "import logging\n",
    "logging.basicConfig()\n",
    "print(\"logging demo\")\n",
    "logging.debug(\"Debug information\")\n",
    "logging.info(\"Info information\")\n",
    "logging.warning(\"Warning information\")\n",
    "logging.error(\"Error information\")\n",
    "logging.critical(\"Critical information\")"
   ]
  },
  {
   "cell_type": "code",
   "execution_count": 1,
   "id": "2997dea5",
   "metadata": {},
   "outputs": [
    {
     "name": "stderr",
     "output_type": "stream",
     "text": [
      "WARNING\n",
      "ERROR\n",
      "CRITICAL\n"
     ]
    }
   ],
   "source": [
    "import logging\n",
    "logging.basicConfig(format='%(levelname)s')\n",
    "logging.warning(\"Warning information\")\n",
    "logging.error(\"Error information\")\n",
    "logging.critical(\"Critical information\")"
   ]
  },
  {
   "cell_type": "code",
   "execution_count": 1,
   "id": "9d27c71a",
   "metadata": {},
   "outputs": [
    {
     "name": "stderr",
     "output_type": "stream",
     "text": [
      "WARNING:Warning information\n",
      "ERROR:Error information\n",
      "CRITICAL:Critical information\n"
     ]
    }
   ],
   "source": [
    "import logging\n",
    "logging.basicConfig(format='%(levelname)s:%(message)s')\n",
    "logging.warning(\"Warning information\")\n",
    "logging.error(\"Error information\")\n",
    "logging.critical(\"Critical information\")"
   ]
  },
  {
   "cell_type": "code",
   "execution_count": 1,
   "id": "10fc443d",
   "metadata": {},
   "outputs": [
    {
     "name": "stderr",
     "output_type": "stream",
     "text": [
      "2025-10-20 09:51:47,603:WARNING:Warning information\n",
      "2025-10-20 09:51:47,605:ERROR:Error information\n",
      "2025-10-20 09:51:47,607:CRITICAL:Critical information\n"
     ]
    }
   ],
   "source": [
    "import logging\n",
    "logging.basicConfig(format='%(asctime)s:%(levelname)s:%(message)s')\n",
    "logging.warning(\"Warning information\")\n",
    "logging.error(\"Error information\")\n",
    "logging.critical(\"Critical information\")"
   ]
  },
  {
   "cell_type": "code",
   "execution_count": 1,
   "id": "c34b6746",
   "metadata": {},
   "outputs": [
    {
     "name": "stderr",
     "output_type": "stream",
     "text": [
      "20/10/2025 09:53:03 AM:WARNING:Warning information\n",
      "20/10/2025 09:53:03 AM:ERROR:Error information\n",
      "20/10/2025 09:53:03 AM:CRITICAL:Critical information\n"
     ]
    }
   ],
   "source": [
    "import logging\n",
    "logging.basicConfig(format='%(asctime)s:%(levelname)s:%(message)s', datefmt='%d/%m/%Y %I:%M:%S %p')\n",
    "logging.warning(\"Warning information\")\n",
    "logging.error(\"Error information\")\n",
    "logging.critical(\"Critical information\")"
   ]
  },
  {
   "cell_type": "code",
   "execution_count": 4,
   "id": "3edd4c72",
   "metadata": {},
   "outputs": [
    {
     "name": "stdout",
     "output_type": "stream",
     "text": [
      "Please provide valid values only\n"
     ]
    }
   ],
   "source": [
    "import logging\n",
    "logging.basicConfig(filename=\"mylog.txt\", level=logging.INFO, format='%(asctime)s:%(levelname)s:%(message)s', datefmt='%d/%m/%Y %I:%M:%S %p')\n",
    "logging.info(\"A new request came\")\n",
    "try:\n",
    "    x= int(input(\"Enter first number\"))\n",
    "    y = int(input(\"Enter second number\"))\n",
    "    print(\"The result is\", x/y)\n",
    "except ZeroDivisionError as msg:\n",
    "    print(\"Can't divided by 0\")\n",
    "    logging.exception(msg)\n",
    "except ValueError as msg:\n",
    "    print(\"Please provide valid values only\")\n",
    "    logging.exception(msg)\n",
    "logging.info(\"Request processing completed\")"
   ]
  },
  {
   "cell_type": "markdown",
   "id": "9835bbf6",
   "metadata": {},
   "source": [
    "### Problems with root logger"
   ]
  },
  {
   "cell_type": "code",
   "execution_count": 1,
   "id": "cd2ac997",
   "metadata": {},
   "outputs": [
    {
     "name": "stderr",
     "output_type": "stream",
     "text": [
      "20/10/2025 10:18:53 AM:CRITICAL:demologger:It is critical message\n",
      "20/10/2025 10:18:53 AM:ERROR:demologger:It is error message\n",
      "20/10/2025 10:18:53 AM:WARNING:demologger:It is warning message\n",
      "20/10/2025 10:18:53 AM:INFO:demologger:It is info message\n",
      "20/10/2025 10:18:53 AM:DEBUG:demologger:It is debug message\n"
     ]
    }
   ],
   "source": [
    "#Demo program for console handgler\n",
    "import logging\n",
    "logger = logging.getLogger(\"demologger\")\n",
    "logger.setLevel(logging.DEBUG)\n",
    "\n",
    "consoleHandler = logging.StreamHandler()\n",
    "\n",
    "formatter = logging.Formatter('%(asctime)s:%(levelname)s:%(name)s:%(message)s', datefmt='%d/%m/%Y %I:%M:%S %p')\n",
    "\n",
    "consoleHandler.setFormatter(formatter)\n",
    "logger.addHandler(consoleHandler)\n",
    "\n",
    "logger.critical(\"It is critical message\")\n",
    "logger.error(\"It is error message\")\n",
    "logger.warning(\"It is warning message\")\n",
    "logger.info(\"It is info message\")\n",
    "logger.debug(\"It is debug message\")\n"
   ]
  },
  {
   "cell_type": "code",
   "execution_count": 1,
   "id": "7950bb74",
   "metadata": {},
   "outputs": [],
   "source": [
    "#Demo program for the file handler\n",
    "import logging\n",
    "logger = logging.getLogger(\"demologer\")\n",
    "logger.setLevel(logging.DEBUG)\n",
    "\n",
    "fileHandler = logging.FileHandler(\"custtest.log\", mode=\"w\")\n",
    "\n",
    "formatter = logging.Formatter('%(asctime)s:%(levelname)s:%(name)s:%(message)s', datefmt='%d/%m/%Y %I:%M:%S %p')\n",
    "\n",
    "fileHandler.setFormatter(formatter)\n",
    "logger.addHandler(fileHandler)\n",
    "\n",
    "logger.critical(\"It is critical message\")\n",
    "logger.error(\"It is error message\")\n",
    "logger.warning(\"It is warning message\")\n",
    "logger.info(\"It is info message\")\n",
    "logger.debug(\"It is debug message\")\n"
   ]
  },
  {
   "cell_type": "code",
   "execution_count": 1,
   "id": "d380b067",
   "metadata": {},
   "outputs": [
    {
     "name": "stderr",
     "output_type": "stream",
     "text": [
      "20/10/2025 10:30:14 AM:CRITICAL:demologger:It is critical message\n",
      "20/10/2025 10:30:14 AM:ERROR:demologger:It is error message\n",
      "20/10/2025 10:30:14 AM:WARNING:demologger:It is warning message\n",
      "20/10/2025 10:30:14 AM:INFO:demologger:It is info message\n"
     ]
    }
   ],
   "source": [
    "#demo program to use both console and filehandler\n",
    "import logging\n",
    "logger = logging.getLogger(\"demologger\")\n",
    "logger.setLevel(logging.INFO)\n",
    "\n",
    "consoleHandler = logging.StreamHandler()\n",
    "fileHandler = logging.FileHandler(\"abc.txt\", mode = \"w\")\n",
    "formatter = logging.Formatter('%(asctime)s:%(levelname)s:%(name)s:%(message)s', datefmt='%d/%m/%Y %I:%M:%S %p')\n",
    "\n",
    "consoleHandler.setFormatter(formatter)\n",
    "fileHandler.setFormatter(formatter)\n",
    "\n",
    "logger.addHandler(consoleHandler)\n",
    "logger.addHandler(fileHandler)\n",
    "\n",
    "logger.critical(\"It is critical message\")\n",
    "logger.error(\"It is error message\")\n",
    "logger.warning(\"It is warning message\")\n",
    "logger.info(\"It is info message\")\n",
    "logger.debug(\"It is debug message\")"
   ]
  },
  {
   "cell_type": "markdown",
   "id": "a0515550",
   "metadata": {},
   "source": [
    "### Assertions"
   ]
  },
  {
   "cell_type": "code",
   "execution_count": 7,
   "id": "b23731d8",
   "metadata": {},
   "outputs": [
    {
     "ename": "AssertionError",
     "evalue": "The square of 3 is 9",
     "output_type": "error",
     "traceback": [
      "\u001b[31m---------------------------------------------------------------------------\u001b[39m",
      "\u001b[31mAssertionError\u001b[39m                            Traceback (most recent call last)",
      "\u001b[36mCell\u001b[39m\u001b[36m \u001b[39m\u001b[32mIn[7]\u001b[39m\u001b[32m, line 4\u001b[39m\n\u001b[32m      2\u001b[39m     \u001b[38;5;28;01mreturn\u001b[39;00m x**x\n\u001b[32m      3\u001b[39m \u001b[38;5;28;01massert\u001b[39;00m squareit(\u001b[32m2\u001b[39m)==\u001b[32m4\u001b[39m, \u001b[33m\"\u001b[39m\u001b[33mThe square of 2 is 4\u001b[39m\u001b[33m\"\u001b[39m\n\u001b[32m----> \u001b[39m\u001b[32m4\u001b[39m \u001b[38;5;28;01massert\u001b[39;00m squareit(\u001b[32m3\u001b[39m)==\u001b[32m9\u001b[39m, \u001b[33m\"\u001b[39m\u001b[33mThe square of 3 is 9\u001b[39m\u001b[33m\"\u001b[39m\n\u001b[32m      5\u001b[39m \u001b[38;5;28;01massert\u001b[39;00m squareit(\u001b[32m4\u001b[39m)==\u001b[32m16\u001b[39m, \u001b[33m\"\u001b[39m\u001b[33mThe square of 4 is 16\u001b[39m\u001b[33m\"\u001b[39m\n\u001b[32m      6\u001b[39m \u001b[38;5;28mprint\u001b[39m(squareit(\u001b[32m2\u001b[39m))\n",
      "\u001b[31mAssertionError\u001b[39m: The square of 3 is 9"
     ]
    }
   ],
   "source": [
    "def squareit(x):\n",
    "    return x**x\n",
    "assert squareit(2)==4, \"The square of 2 is 4\"\n",
    "assert squareit(3)==9, \"The square of 3 is 9\"\n",
    "assert squareit(4)==16, \"The square of 4 is 16\"\n",
    "print(squareit(2))\n",
    "print(squareit(3))\n",
    "print(squareit(4))"
   ]
  },
  {
   "cell_type": "code",
   "execution_count": 8,
   "id": "546b7c74",
   "metadata": {},
   "outputs": [
    {
     "name": "stdout",
     "output_type": "stream",
     "text": [
      "4\n",
      "9\n",
      "16\n"
     ]
    }
   ],
   "source": [
    "def squareit(x):\n",
    "    return x*x\n",
    "assert squareit(2)==4, \"The square of 2 is 4\"\n",
    "assert squareit(3)==9, \"The square of 3 is 9\"\n",
    "assert squareit(4)==16, \"The square of 4 is 16\"\n",
    "print(squareit(2))\n",
    "print(squareit(3))\n",
    "print(squareit(4))"
   ]
  },
  {
   "cell_type": "markdown",
   "id": "118dc010",
   "metadata": {},
   "source": [
    "### File Handling"
   ]
  },
  {
   "cell_type": "code",
   "execution_count": 10,
   "id": "615e36ae",
   "metadata": {},
   "outputs": [
    {
     "name": "stdout",
     "output_type": "stream",
     "text": [
      "File Name: abc.txt\n",
      "File Mode: w\n",
      "Is the file Readable: False\n",
      "Is the file writable: True\n",
      "is file closed: False\n",
      "is file closed: True\n"
     ]
    }
   ],
   "source": [
    "f = open(\"abc.txt\", \"w\")\n",
    "print(\"File Name:\", f.name)\n",
    "print(\"File Mode:\",f.mode)\n",
    "print(\"Is the file Readable:\", f.readable())\n",
    "print(\"Is the file writable:\", f.writable())\n",
    "print(\"is file closed:\", f.closed)\n",
    "f.close()\n",
    "print(\"is file closed:\", f.closed)"
   ]
  },
  {
   "cell_type": "markdown",
   "id": "9b9934b9",
   "metadata": {},
   "source": [
    "### Write data to text files"
   ]
  },
  {
   "cell_type": "code",
   "execution_count": null,
   "id": "c1bd5dc4",
   "metadata": {},
   "outputs": [
    {
     "name": "stdout",
     "output_type": "stream",
     "text": [
      "Data written to the file successfully\n"
     ]
    }
   ],
   "source": [
    "#write\n",
    "f= open(\"abcd.txt\",\"w\")\n",
    "f.write(\"Akhil\\n\")\n",
    "f.write(\"Sasi\\n\")\n",
    "f.write(\"Naresh\")\n",
    "print(\"Data written to the file successfully\")\n",
    "f.close()"
   ]
  },
  {
   "cell_type": "code",
   "execution_count": 12,
   "id": "abe0b94c",
   "metadata": {},
   "outputs": [
    {
     "name": "stdout",
     "output_type": "stream",
     "text": [
      "List of lines written to the file successfully\n"
     ]
    }
   ],
   "source": [
    "#writelines\n",
    "f=open(\"abcd.txt\",\"w\")\n",
    "l=[\"Akhil\\n\",\"Sudheer\\n\",\"Sasi\\n\", \"Nari\"]\n",
    "f.writelines(l)\n",
    "print(\"List of lines written to the file successfully\")\n",
    "f.close()"
   ]
  },
  {
   "cell_type": "markdown",
   "id": "b5135363",
   "metadata": {},
   "source": [
    "#### Reading character data from the text files"
   ]
  },
  {
   "cell_type": "code",
   "execution_count": 13,
   "id": "d2d29fb8",
   "metadata": {},
   "outputs": [
    {
     "name": "stdout",
     "output_type": "stream",
     "text": [
      "Akhil\n",
      "Sudheer\n",
      "Sasi\n",
      "Nari\n"
     ]
    }
   ],
   "source": [
    "#To read data from the file\n",
    "f=open(\"abcd.txt\", \"r\")\n",
    "data = f.read()\n",
    "print(data)\n",
    "f.close()"
   ]
  },
  {
   "cell_type": "code",
   "execution_count": 14,
   "id": "2b48b1bf",
   "metadata": {},
   "outputs": [
    {
     "name": "stdout",
     "output_type": "stream",
     "text": [
      "Akhil\n",
      "Sudh\n"
     ]
    }
   ],
   "source": [
    "#To read only first 10 characters\n",
    "f=open(\"abcd.txt\", \"r\")\n",
    "data = f.read(10)\n",
    "print(data)\n",
    "f.close()"
   ]
  },
  {
   "cell_type": "code",
   "execution_count": 15,
   "id": "0ff5f3c7",
   "metadata": {},
   "outputs": [
    {
     "name": "stdout",
     "output_type": "stream",
     "text": [
      "Akhil\n",
      "\n",
      "Sudheer\n",
      "\n",
      "Sasi\n",
      "\n"
     ]
    }
   ],
   "source": [
    "#to read data line by line\n",
    "f=open(\"abcd.txt\", \"r\")\n",
    "line1 = f.readline()\n",
    "print(line1)\n",
    "line2 = f.readline()\n",
    "print(line2)\n",
    "line3 = f.readline()\n",
    "print(line3)\n",
    "f.close()"
   ]
  },
  {
   "cell_type": "code",
   "execution_count": 17,
   "id": "771af06a",
   "metadata": {},
   "outputs": [
    {
     "name": "stdout",
     "output_type": "stream",
     "text": [
      "['Akhil\\n', 'Sudheer\\n', 'Sasi\\n', 'Nari']\n",
      "-------\n",
      "Akhil\n",
      "\n",
      "-------\n",
      "Sudheer\n",
      "\n",
      "-------\n",
      "Sasi\n",
      "\n",
      "-------\n",
      "Nari\n"
     ]
    }
   ],
   "source": [
    "# To read all lines into a list\n",
    "f = open(\"abcd.txt\", 'r')\n",
    "lines = f.readlines()\n",
    "print(lines)\n",
    "for line in lines:\n",
    "    print(\"-------\")\n",
    "    print(line)\n",
    "f.close()"
   ]
  },
  {
   "cell_type": "code",
   "execution_count": 18,
   "id": "078eef2d",
   "metadata": {},
   "outputs": [
    {
     "name": "stdout",
     "output_type": "stream",
     "text": [
      "Akhil\n",
      "Sudh\n",
      "eer\n",
      "\n",
      "Sasi\n",
      "\n",
      "Remaining data\n",
      "Nari\n"
     ]
    }
   ],
   "source": [
    "f=open(\"abcd.txt\", \"r\")\n",
    "print(f.read(10))\n",
    "print(f.readline())\n",
    "print(f.read(5))\n",
    "print(\"Remaining data\")\n",
    "print(f.read())"
   ]
  },
  {
   "cell_type": "markdown",
   "id": "36b771f7",
   "metadata": {},
   "source": [
    "#### the with statement"
   ]
  },
  {
   "cell_type": "code",
   "execution_count": 19,
   "id": "2d59e3b5",
   "metadata": {},
   "outputs": [
    {
     "name": "stdout",
     "output_type": "stream",
     "text": [
      "is file closed False\n",
      "is file closed True\n"
     ]
    }
   ],
   "source": [
    "with open(\"abcd.txt\", \"w\") as f:\n",
    "    f.write(\"Hello\\n\")\n",
    "    f.write(\"Good evening.............\\n\")\n",
    "    f.write(\"How are you\")\n",
    "    print(\"is file closed\",f.closed)\n",
    "print(\"is file closed\",f.closed)"
   ]
  },
  {
   "cell_type": "markdown",
   "id": "acf7b2f4",
   "metadata": {},
   "source": [
    "### tell()"
   ]
  },
  {
   "cell_type": "code",
   "execution_count": 20,
   "id": "05e916f0",
   "metadata": {},
   "outputs": [
    {
     "name": "stdout",
     "output_type": "stream",
     "text": [
      "0\n",
      "He\n",
      "2\n",
      "llo\n",
      "5\n"
     ]
    }
   ],
   "source": [
    "with open(\"abcd.txt\", \"r\") as f:\n",
    "    print(f.tell())\n",
    "    print(f.read(2))\n",
    "    print(f.tell())\n",
    "    print(f.read(3))\n",
    "    print(f.tell())"
   ]
  },
  {
   "cell_type": "markdown",
   "id": "d2f56792",
   "metadata": {},
   "source": [
    "#### seek()"
   ]
  },
  {
   "cell_type": "code",
   "execution_count": 1,
   "id": "f6aaa32e",
   "metadata": {},
   "outputs": [
    {
     "name": "stdout",
     "output_type": "stream",
     "text": [
      "All Students are STUPIDS\n",
      "The current cursor position: 24\n",
      "The current cursor position: 17\n",
      "Data After modification\n",
      "All Students are GEMS!!!\n",
      "is the file opened True\n"
     ]
    }
   ],
   "source": [
    "data = \"All Students are STUPIDS\"\n",
    "f = open(\"abc.txt\",\"w\")\n",
    "f.write(data)\n",
    "with open(\"abc.txt\", \"r+\") as f:\n",
    "    text = f.read()\n",
    "    print(text)\n",
    "    print(\"The current cursor position:\",f.tell())\n",
    "    \n",
    "    f.seek(17)\n",
    "    print(\"The current cursor position:\",f.tell())\n",
    "    f.write(\"GEMS!!!\")\n",
    "    \n",
    "    f.seek(0)\n",
    "    text = f.read()\n",
    "    print(\"Data After modification\")\n",
    "    print(text)\n",
    "print(\"is the file opened\",f.closed)"
   ]
  },
  {
   "cell_type": "code",
   "execution_count": 3,
   "id": "9bc465ef",
   "metadata": {},
   "outputs": [
    {
     "name": "stdout",
     "output_type": "stream",
     "text": [
      "File exists: abcd.txt\n",
      "The content of the file is:\n",
      "Hello\n",
      "Good evening.............\n",
      "How are you\n",
      "is the file opened True\n"
     ]
    }
   ],
   "source": [
    "#write a program to check whether the given file exists or not. If it is available then print its content\n",
    "import os, sys\n",
    "fname = input(\"Enter file name\")\n",
    "if os.path.isfile(fname):\n",
    "    print(\"File exists:\", fname)\n",
    "    with open(fname, \"r\") as f:\n",
    "        data = f.read()\n",
    "        print(\"The content of the file is:\")\n",
    "        print(data)\n",
    "else:\n",
    "    print(\"File does not exist:\", fname)\n",
    "    sys.exit(0)\n",
    "print(\"is the file opened\",f.closed)"
   ]
  },
  {
   "cell_type": "code",
   "execution_count": 5,
   "id": "3d0040bf",
   "metadata": {},
   "outputs": [
    {
     "name": "stdout",
     "output_type": "stream",
     "text": [
      "File exists: abc.txt\n",
      "The content of the file is \n",
      "All Students are GEMS!!!\n",
      "is the file opened False\n",
      "is the file opened True\n"
     ]
    }
   ],
   "source": [
    "import os, sys\n",
    "fname = input(\"Enter file name\")\n",
    "if os.path.isfile(fname):\n",
    "    print(\"File exists:\", fname)\n",
    "    f=open(fname,\"r\")\n",
    "\n",
    "else:\n",
    "    print(\"File does not exist:\", fname)\n",
    "    sys.exit(0)\n",
    "print(\"The content of the file is \")\n",
    "data = f.read()\n",
    "print(data)\n",
    "print(\"is the file opened\",f.closed)\n",
    "f.close()\n",
    "print(\"is the file opened\",f.closed)"
   ]
  },
  {
   "cell_type": "code",
   "execution_count": 8,
   "id": "5501ab70",
   "metadata": {},
   "outputs": [
    {
     "name": "stdout",
     "output_type": "stream",
     "text": [
      "File exists: abc.txt\n",
      "The number of Lines: 6\n",
      "The number of words: 24\n",
      "The number of characters: 149\n",
      "is the file opened False\n",
      "is the file opened True\n"
     ]
    }
   ],
   "source": [
    "#program to print the number of lines, words and characters present in the given file\n",
    "import os, sys\n",
    "fname = input(\"Enter the file name\")\n",
    "if os.path.isfile(fname):\n",
    "    print(\"File exists:\", fname)\n",
    "    f= open(fname, \"r\")\n",
    "else:\n",
    "    print(\"The file does not exist\", fname)\n",
    "    sys.exit(0)\n",
    "lcount=wcount=ccount=0\n",
    "for line in f:\n",
    "    lcount = lcount+1\n",
    "    ccount = ccount + len(line)\n",
    "    words = line.split()\n",
    "    wcount = wcount +len(words)\n",
    "print(\"The number of Lines:\", lcount)\n",
    "print(\"The number of words:\", wcount)\n",
    "print(\"The number of characters:\", ccount)\n",
    "print(\"is the file opened\",f.closed)\n",
    "f.close()\n",
    "print(\"is the file opened\",f.closed)"
   ]
  },
  {
   "cell_type": "markdown",
   "id": "4641c57d",
   "metadata": {},
   "source": [
    "### Handling binary data"
   ]
  },
  {
   "cell_type": "markdown",
   "id": "2f1469b7",
   "metadata": {},
   "source": [
    "#### Writing data to csv file"
   ]
  },
  {
   "cell_type": "code",
   "execution_count": 9,
   "id": "e84bb557",
   "metadata": {},
   "outputs": [
    {
     "name": "stdout",
     "output_type": "stream",
     "text": [
      "Total employees data written to csv file successfully.......\n"
     ]
    }
   ],
   "source": [
    "import csv\n",
    "with open(\"emp.csv\", \"w\", newline=\"\") as f:\n",
    "    w = csv.writer(f)\n",
    "    w.writerow([\"ENO\", \"ENAME\", \"ESAL\", \"EADDR\"])\n",
    "    n = int(input(\"Enter number of employees\"))\n",
    "    for i in range(n):\n",
    "        eno = input(\"Enter employee number\")\n",
    "        ename = input(\"Enter employee name\")\n",
    "        esal = input(\"Enter employee salary\")\n",
    "        eaddr = input(\"Enter employee Address\")\n",
    "        w.writerow([eno,ename,esal,eaddr])\n",
    "\n",
    "print(\"Total employees data written to csv file successfully.......\")"
   ]
  },
  {
   "cell_type": "code",
   "execution_count": 10,
   "id": "050ca76f",
   "metadata": {},
   "outputs": [
    {
     "name": "stdout",
     "output_type": "stream",
     "text": [
      "Total employees data written to csv file successfully.......\n"
     ]
    }
   ],
   "source": [
    "import csv\n",
    "with open(\"emp_1.csv\", \"w\") as f:\n",
    "    w = csv.writer(f)\n",
    "    w.writerow([\"ENO\", \"ENAME\", \"ESAL\", \"EADDR\"])\n",
    "    n = int(input(\"Enter number of employees\"))\n",
    "    for i in range(n):\n",
    "        eno = input(\"Enter employee number\")\n",
    "        ename = input(\"Enter employee name\")\n",
    "        esal = input(\"Enter employee salary\")\n",
    "        eaddr = input(\"Enter employee Address\")\n",
    "        w.writerow([eno,ename,esal,eaddr])\n",
    "\n",
    "print(\"Total employees data written to csv file successfully.......\")"
   ]
  },
  {
   "cell_type": "markdown",
   "id": "c754b759",
   "metadata": {},
   "source": [
    "### Reading data from csv file"
   ]
  },
  {
   "cell_type": "code",
   "execution_count": 13,
   "id": "bd97bc57",
   "metadata": {},
   "outputs": [
    {
     "name": "stdout",
     "output_type": "stream",
     "text": [
      "ENO \tENAME \tESAL \tEADDR \t\n",
      "101 \tAkhil \t25000 \tNellore \t\n",
      "102 \tSasi \t40000 \tKalichedu \t\n",
      "103 \tSushma \t80000 \tVizianagaram \t\n"
     ]
    }
   ],
   "source": [
    "import csv\n",
    "with open(\"emp.csv\",\"r\") as f:\n",
    "    r = csv.reader(f)\n",
    "    data = list(r)\n",
    "    for line in data:\n",
    "        for word in line:\n",
    "            print(word, \"\\t\", end=\"\")\n",
    "        print()\n"
   ]
  },
  {
   "cell_type": "markdown",
   "id": "66df00e5",
   "metadata": {},
   "source": [
    "#### zipping and unzipping files"
   ]
  },
  {
   "cell_type": "markdown",
   "id": "2226a74c",
   "metadata": {},
   "source": [
    "##### To create Zip file"
   ]
  },
  {
   "cell_type": "code",
   "execution_count": 14,
   "id": "e95121bb",
   "metadata": {},
   "outputs": [
    {
     "name": "stdout",
     "output_type": "stream",
     "text": [
      "files.zip file created successfully\n"
     ]
    }
   ],
   "source": [
    "from zipfile import *\n",
    "f = ZipFile('files.zip', \"w\", ZIP_DEFLATED)\n",
    "f.write(\"abc.txt\")\n",
    "f.write(\"abc.log\")\n",
    "f.write(\"abcd.txt\")\n",
    "f.close()\n",
    "print(\"files.zip file created successfully\")"
   ]
  },
  {
   "cell_type": "markdown",
   "id": "e3c56335",
   "metadata": {},
   "source": [
    "#### To perform unzip operation"
   ]
  },
  {
   "cell_type": "code",
   "execution_count": 15,
   "id": "a39693a1",
   "metadata": {},
   "outputs": [
    {
     "name": "stdout",
     "output_type": "stream",
     "text": [
      "File name: abc.txt\n",
      "The content of this file is:\n",
      "All Students are GEMS!!!\n",
      "All Students are GEMS!!!\n",
      "All Students are GEMS!!!\n",
      "All Students are GEMS!!!\n",
      "All Students are GEMS!!!\n",
      "All Students are GEMS!!!\n",
      "\n",
      "File name: abc.log\n",
      "The content of this file is:\n",
      "20/10/2025 11:09:34 AM:CRITICAL:logtestlogger:It is critical message from test_1 module\n",
      "20/10/2025 11:09:34 AM:ERROR:logtestlogger:It is error message from test_1 module\n",
      "20/10/2025 11:09:34 AM:WARNING:logtestlogger:It is warning message from test_1 module\n",
      "20/10/2025 11:09:34 AM:INFO:logtestlogger:It is info message from test_1 module\n",
      "20/10/2025 11:09:34 AM:DEBUG:logtestlogger:It is debug message from test_1 module\n",
      "20/10/2025 11:11:40 AM:CRITICAL:logstudentlogger:It is critical message from student_1 module\n",
      "20/10/2025 11:11:40 AM:ERROR:logstudentlogger:It is error message from student_1 module\n",
      "20/10/2025 11:13:43 AM:CRITICAL:f1logger:It is critical message from test_1 module\n",
      "20/10/2025 11:13:43 AM:ERROR:f1logger:It is error message from test_1 module\n",
      "20/10/2025 11:13:43 AM:WARNING:f1logger:It is warning message from test_1 module\n",
      "20/10/2025 11:13:43 AM:INFO:f1logger:It is info message from test_1 module\n",
      "20/10/2025 11:13:43 AM:DEBUG:f1logger:It is debug message from test_1 module\n",
      "20/10/2025 11:13:43 AM:CRITICAL:f2logger:It is critical message from test_1 module\n",
      "20/10/2025 11:13:43 AM:ERROR:f2logger:It is error message from test_1 module\n",
      "20/10/2025 11:13:43 AM:WARNING:f2logger:It is warning message from test_1 module\n",
      "20/10/2025 11:13:43 AM:CRITICAL:f3logger:It is critical message from test_1 module\n",
      "20/10/2025 11:13:43 AM:ERROR:f3logger:It is error message from test_1 module\n",
      "\n",
      "\n",
      "File name: abcd.txt\n",
      "The content of this file is:\n",
      "Hello\n",
      "Good evening.............\n",
      "How are you\n",
      "\n"
     ]
    }
   ],
   "source": [
    "from zipfile import *\n",
    "f = ZipFile(\"files.zip\", \"r\", ZIP_STORED)\n",
    "names = f.namelist()\n",
    "for name in names:\n",
    "    print(\"File name:\", name)\n",
    "    print(\"The content of this file is:\")\n",
    "    f1 = open(name, \"r\")\n",
    "    print(f1.read())\n",
    "    print()\n",
    "    f1.close()\n",
    "f.close()\n"
   ]
  },
  {
   "cell_type": "code",
   "execution_count": 16,
   "id": "ed23a8ab",
   "metadata": {},
   "outputs": [
    {
     "data": {
      "text/plain": [
       "['abc.txt', 'abc.log', 'abcd.txt']"
      ]
     },
     "execution_count": 16,
     "metadata": {},
     "output_type": "execute_result"
    }
   ],
   "source": [
    "names"
   ]
  },
  {
   "cell_type": "code",
   "execution_count": 17,
   "id": "2e9b580e",
   "metadata": {},
   "outputs": [
    {
     "name": "stdout",
     "output_type": "stream",
     "text": [
      "Current working directory: e:\\Python Practice\n"
     ]
    }
   ],
   "source": [
    "#to know current working directory\n",
    "import os\n",
    "cwd = os.getcwd()\n",
    "print(\"Current working directory:\", cwd)"
   ]
  },
  {
   "cell_type": "code",
   "execution_count": 18,
   "id": "a59517bf",
   "metadata": {},
   "outputs": [
    {
     "name": "stdout",
     "output_type": "stream",
     "text": [
      "mysub directory created in cwd\n"
     ]
    }
   ],
   "source": [
    "#To create a sub directory in the current working directory\n",
    "import os\n",
    "os.mkdir(\"mysub\")\n",
    "print(\"mysub directory created in cwd\")"
   ]
  },
  {
   "cell_type": "code",
   "execution_count": 19,
   "id": "c314be44",
   "metadata": {},
   "outputs": [
    {
     "name": "stdout",
     "output_type": "stream",
     "text": [
      "mysub2 created inside mysub\n"
     ]
    }
   ],
   "source": [
    "#To create a sub directory in mysub directory\n",
    "import os\n",
    "os.mkdir(\"mysub/mysub2\")\n",
    "print(\"mysub2 created inside mysub\")"
   ]
  },
  {
   "cell_type": "code",
   "execution_count": 20,
   "id": "6a4b5578",
   "metadata": {},
   "outputs": [
    {
     "name": "stdout",
     "output_type": "stream",
     "text": [
      "sub1 and in that sub2 and in that sub3 directories created\n"
     ]
    }
   ],
   "source": [
    "#to create multiple directories like sub1 in the sub2 in that sub3\n",
    "import os\n",
    "os.makedirs(\"sub1/sub2/sub3\")\n",
    "print(\"sub1 and in that sub2 and in that sub3 directories created\")"
   ]
  },
  {
   "cell_type": "code",
   "execution_count": 21,
   "id": "f3c46c1e",
   "metadata": {},
   "outputs": [
    {
     "name": "stdout",
     "output_type": "stream",
     "text": [
      "mysub2 directory deleted\n"
     ]
    }
   ],
   "source": [
    "#To remove a directory\n",
    "import os \n",
    "os.rmdir(\"mysub/mysub2\")\n",
    "print(\"mysub2 directory deleted\")"
   ]
  },
  {
   "cell_type": "code",
   "execution_count": 22,
   "id": "5fdef74a",
   "metadata": {},
   "outputs": [
    {
     "name": "stdout",
     "output_type": "stream",
     "text": [
      "All 3 directories sub1, sub2, sub3 removed\n"
     ]
    }
   ],
   "source": [
    "#To remove multiple direcories in the path\n",
    "import os\n",
    "os.removedirs(\"sub1/sub2/sub3\")\n",
    "print(\"All 3 directories sub1, sub2, sub3 removed\")"
   ]
  },
  {
   "cell_type": "code",
   "execution_count": 23,
   "id": "ca2f559b",
   "metadata": {},
   "outputs": [
    {
     "name": "stdout",
     "output_type": "stream",
     "text": [
      "mysub directory renamed to new dir\n"
     ]
    }
   ],
   "source": [
    "#To rename a directory\n",
    "import os\n",
    "os.rename(\"mysub\", \"newdire\")\n",
    "print(\"mysub directory renamed to new dir\")"
   ]
  },
  {
   "cell_type": "code",
   "execution_count": 26,
   "id": "c0013875",
   "metadata": {},
   "outputs": [
    {
     "name": "stdout",
     "output_type": "stream",
     "text": [
      "['abc.log', 'abc.txt', 'abcd.txt', 'app.py', 'config.txt', 'custlogger.py', 'custtest.log', 'emp.csv', 'emp_1.csv', 'f1.log', 'f2.log', 'f3.log', 'files.zip', 'log.txt', 'myenv', 'mylog.txt', 'newdire', 'Practice_problems.ipynb', 'python_start_to_end.ipynb', 'student.log', 'student.py', 'student_1.py', 'test.log', 'test.py', 'test_1.py', '__pycache__']\n",
      "26\n"
     ]
    }
   ],
   "source": [
    "#to know contents of directory\n",
    "import os\n",
    "l=os.listdir(\".\")\n",
    "print(l)\n",
    "print(len(l))\n"
   ]
  },
  {
   "cell_type": "code",
   "execution_count": 27,
   "id": "6f3c84ec",
   "metadata": {},
   "outputs": [
    {
     "name": "stdout",
     "output_type": "stream",
     "text": [
      "Current directory path: .\n",
      "Directories: ['myenv', 'newdire', '__pycache__']\n",
      "Files: ['abc.log', 'abc.txt', 'abcd.txt', 'app.py', 'config.txt', 'custlogger.py', 'custtest.log', 'emp.csv', 'emp_1.csv', 'f1.log', 'f2.log', 'f3.log', 'files.zip', 'log.txt', 'mylog.txt', 'Practice_problems.ipynb', 'python_start_to_end.ipynb', 'student.log', 'student.py', 'student_1.py', 'test.log', 'test.py', 'test_1.py']\n",
      "\n",
      "Current directory path: .\\myenv\n",
      "Directories: ['Include', 'Lib', 'Scripts', 'share']\n",
      "Files: ['.gitignore', 'pyvenv.cfg']\n",
      "\n",
      "Current directory path: .\\myenv\\Include\n",
      "Directories: []\n",
      "Files: []\n",
      "\n",
      "Current directory path: .\\myenv\\Lib\n",
      "Directories: ['site-packages']\n",
      "Files: []\n",
      "\n",
      "Current directory path: .\\myenv\\Lib\\site-packages\n",
      "Directories: ['adodbapi', 'asttokens', 'asttokens-3.0.0.dist-info', 'colorama', 'colorama-0.4.6.dist-info', 'comm', 'comm-0.2.3.dist-info', 'dateutil', 'debugpy', 'debugpy-1.8.17.dist-info', 'decorator-5.2.1.dist-info', 'executing', 'executing-2.2.1.dist-info', 'ipykernel', 'ipykernel-7.0.0.dist-info', 'IPython', 'ipython-9.6.0.dist-info', 'ipython_pygments_lexers-1.1.1.dist-info', 'isapi', 'jedi', 'jedi-0.19.2.dist-info', 'jupyter_client', 'jupyter_client-8.6.3.dist-info', 'jupyter_core', 'jupyter_core-5.8.1.dist-info', 'matplotlib_inline', 'matplotlib_inline-0.1.7.dist-info', 'nest_asyncio-1.6.0.dist-info', 'packaging', 'packaging-25.0.dist-info', 'parso', 'parso-0.8.5.dist-info', 'pip', 'pip-25.2.dist-info', 'platformdirs', 'platformdirs-4.5.0.dist-info', 'prompt_toolkit', 'prompt_toolkit-3.0.52.dist-info', 'psutil', 'psutil-7.1.0.dist-info', 'pure_eval', 'pure_eval-0.2.3.dist-info', 'pygments', 'pygments-2.19.2.dist-info', 'pythonwin', 'python_dateutil-2.9.0.post0.dist-info', 'pywin32-311.dist-info', 'pywin32_system32', 'pyzmq-27.1.0.dist-info', 'six-1.17.0.dist-info', 'stack_data', 'stack_data-0.6.3.dist-info', 'tornado', 'tornado-6.5.2.dist-info', 'traitlets', 'traitlets-5.14.3.dist-info', 'wcwidth', 'wcwidth-0.2.14.dist-info', 'win32', 'win32com', 'win32comext', 'zmq', '__pycache__']\n",
      "Files: ['decorator.py', 'ipykernel_launcher.py', 'ipython_pygments_lexers.py', 'jupyter.py', 'nest_asyncio.py', 'pythoncom.py', 'PyWin32.chm', 'pywin32.pth', 'pywin32.version.txt', 'six.py']\n",
      "\n",
      "Current directory path: .\\myenv\\Lib\\site-packages\\adodbapi\n",
      "Directories: ['examples', 'test', '__pycache__']\n",
      "Files: ['adodbapi.py', 'ado_consts.py', 'apibase.py', 'is64bit.py', 'license.txt', 'process_connect_string.py', 'readme.txt', 'schema_table.py', 'setup.py', '__init__.py']\n",
      "\n",
      "Current directory path: .\\myenv\\Lib\\site-packages\\adodbapi\\examples\n",
      "Directories: ['__pycache__']\n",
      "Files: ['db_print.py', 'db_table_names.py', 'xls_read.py', 'xls_write.py']\n",
      "\n",
      "Current directory path: .\\myenv\\Lib\\site-packages\\adodbapi\\examples\\__pycache__\n",
      "Directories: []\n",
      "Files: ['db_print.cpython-313.pyc', 'db_table_names.cpython-313.pyc', 'xls_read.cpython-313.pyc', 'xls_write.cpython-313.pyc']\n",
      "\n",
      "Current directory path: .\\myenv\\Lib\\site-packages\\adodbapi\\test\n",
      "Directories: ['__pycache__']\n",
      "Files: ['adodbapitest.py', 'adodbapitestconfig.py', 'dbapi20.py', 'is64bit.py', 'setuptestframework.py', 'test_adodbapi_dbapi20.py', 'tryconnection.py']\n",
      "\n",
      "Current directory path: .\\myenv\\Lib\\site-packages\\adodbapi\\test\\__pycache__\n",
      "Directories: []\n",
      "Files: ['adodbapitest.cpython-313.pyc', 'adodbapitestconfig.cpython-313.pyc', 'dbapi20.cpython-313.pyc', 'is64bit.cpython-313.pyc', 'setuptestframework.cpython-313.pyc', 'test_adodbapi_dbapi20.cpython-313.pyc', 'tryconnection.cpython-313.pyc']\n",
      "\n",
      "Current directory path: .\\myenv\\Lib\\site-packages\\adodbapi\\__pycache__\n",
      "Directories: []\n",
      "Files: ['adodbapi.cpython-313.pyc', 'ado_consts.cpython-313.pyc', 'apibase.cpython-313.pyc', 'is64bit.cpython-313.pyc', 'process_connect_string.cpython-313.pyc', 'schema_table.cpython-313.pyc', 'setup.cpython-313.pyc', '__init__.cpython-313.pyc']\n",
      "\n",
      "Current directory path: .\\myenv\\Lib\\site-packages\\asttokens\n",
      "Directories: ['__pycache__']\n",
      "Files: ['astroid_compat.py', 'asttokens.py', 'line_numbers.py', 'mark_tokens.py', 'py.typed', 'util.py', 'version.py', '__init__.py']\n",
      "\n",
      "Current directory path: .\\myenv\\Lib\\site-packages\\asttokens\\__pycache__\n",
      "Directories: []\n",
      "Files: ['astroid_compat.cpython-313.pyc', 'asttokens.cpython-313.pyc', 'line_numbers.cpython-313.pyc', 'mark_tokens.cpython-313.pyc', 'util.cpython-313.pyc', 'version.cpython-313.pyc', '__init__.cpython-313.pyc']\n",
      "\n",
      "Current directory path: .\\myenv\\Lib\\site-packages\\asttokens-3.0.0.dist-info\n",
      "Directories: []\n",
      "Files: ['INSTALLER', 'LICENSE', 'METADATA', 'RECORD', 'top_level.txt', 'WHEEL']\n",
      "\n",
      "Current directory path: .\\myenv\\Lib\\site-packages\\colorama\n",
      "Directories: ['tests', '__pycache__']\n",
      "Files: ['ansi.py', 'ansitowin32.py', 'initialise.py', 'win32.py', 'winterm.py', '__init__.py']\n",
      "\n",
      "Current directory path: .\\myenv\\Lib\\site-packages\\colorama\\tests\n",
      "Directories: ['__pycache__']\n",
      "Files: ['ansitowin32_test.py', 'ansi_test.py', 'initialise_test.py', 'isatty_test.py', 'utils.py', 'winterm_test.py', '__init__.py']\n",
      "\n",
      "Current directory path: .\\myenv\\Lib\\site-packages\\colorama\\tests\\__pycache__\n",
      "Directories: []\n",
      "Files: ['ansitowin32_test.cpython-313.pyc', 'ansi_test.cpython-313.pyc', 'initialise_test.cpython-313.pyc', 'isatty_test.cpython-313.pyc', 'utils.cpython-313.pyc', 'winterm_test.cpython-313.pyc', '__init__.cpython-313.pyc']\n",
      "\n",
      "Current directory path: .\\myenv\\Lib\\site-packages\\colorama\\__pycache__\n",
      "Directories: []\n",
      "Files: ['ansi.cpython-313.pyc', 'ansitowin32.cpython-313.pyc', 'initialise.cpython-313.pyc', 'win32.cpython-313.pyc', 'winterm.cpython-313.pyc', '__init__.cpython-313.pyc']\n",
      "\n",
      "Current directory path: .\\myenv\\Lib\\site-packages\\colorama-0.4.6.dist-info\n",
      "Directories: ['licenses']\n",
      "Files: ['INSTALLER', 'METADATA', 'RECORD', 'WHEEL']\n",
      "\n",
      "Current directory path: .\\myenv\\Lib\\site-packages\\colorama-0.4.6.dist-info\\licenses\n",
      "Directories: []\n",
      "Files: ['LICENSE.txt']\n",
      "\n",
      "Current directory path: .\\myenv\\Lib\\site-packages\\comm\n",
      "Directories: ['__pycache__']\n",
      "Files: ['base_comm.py', 'py.typed', '__init__.py']\n",
      "\n",
      "Current directory path: .\\myenv\\Lib\\site-packages\\comm\\__pycache__\n",
      "Directories: []\n",
      "Files: ['base_comm.cpython-313.pyc', '__init__.cpython-313.pyc']\n",
      "\n",
      "Current directory path: .\\myenv\\Lib\\site-packages\\comm-0.2.3.dist-info\n",
      "Directories: ['licenses']\n",
      "Files: ['INSTALLER', 'METADATA', 'RECORD', 'WHEEL']\n",
      "\n",
      "Current directory path: .\\myenv\\Lib\\site-packages\\comm-0.2.3.dist-info\\licenses\n",
      "Directories: []\n",
      "Files: ['LICENSE']\n",
      "\n",
      "Current directory path: .\\myenv\\Lib\\site-packages\\dateutil\n",
      "Directories: ['parser', 'tz', 'zoneinfo', '__pycache__']\n",
      "Files: ['easter.py', 'relativedelta.py', 'rrule.py', 'tzwin.py', 'utils.py', '_common.py', '_version.py', '__init__.py']\n",
      "\n",
      "Current directory path: .\\myenv\\Lib\\site-packages\\dateutil\\parser\n",
      "Directories: ['__pycache__']\n",
      "Files: ['isoparser.py', '_parser.py', '__init__.py']\n",
      "\n",
      "Current directory path: .\\myenv\\Lib\\site-packages\\dateutil\\parser\\__pycache__\n",
      "Directories: []\n",
      "Files: ['isoparser.cpython-313.pyc', '_parser.cpython-313.pyc', '__init__.cpython-313.pyc']\n",
      "\n",
      "Current directory path: .\\myenv\\Lib\\site-packages\\dateutil\\tz\n",
      "Directories: ['__pycache__']\n",
      "Files: ['tz.py', 'win.py', '_common.py', '_factories.py', '__init__.py']\n",
      "\n",
      "Current directory path: .\\myenv\\Lib\\site-packages\\dateutil\\tz\\__pycache__\n",
      "Directories: []\n",
      "Files: ['tz.cpython-313.pyc', 'win.cpython-313.pyc', '_common.cpython-313.pyc', '_factories.cpython-313.pyc', '__init__.cpython-313.pyc']\n",
      "\n",
      "Current directory path: .\\myenv\\Lib\\site-packages\\dateutil\\zoneinfo\n",
      "Directories: ['__pycache__']\n",
      "Files: ['dateutil-zoneinfo.tar.gz', 'rebuild.py', '__init__.py']\n",
      "\n",
      "Current directory path: .\\myenv\\Lib\\site-packages\\dateutil\\zoneinfo\\__pycache__\n",
      "Directories: []\n",
      "Files: ['rebuild.cpython-313.pyc', '__init__.cpython-313.pyc']\n",
      "\n",
      "Current directory path: .\\myenv\\Lib\\site-packages\\dateutil\\__pycache__\n",
      "Directories: []\n",
      "Files: ['easter.cpython-313.pyc', 'relativedelta.cpython-313.pyc', 'rrule.cpython-313.pyc', 'tzwin.cpython-313.pyc', 'utils.cpython-313.pyc', '_common.cpython-313.pyc', '_version.cpython-313.pyc', '__init__.cpython-313.pyc']\n",
      "\n",
      "Current directory path: .\\myenv\\Lib\\site-packages\\debugpy\n",
      "Directories: ['adapter', 'common', 'launcher', 'server', '_vendored', '__pycache__']\n",
      "Files: ['public_api.py', 'ThirdPartyNotices.txt', '_version.py', '__init__.py', '__main__.py']\n",
      "\n",
      "Current directory path: .\\myenv\\Lib\\site-packages\\debugpy\\adapter\n",
      "Directories: ['__pycache__']\n",
      "Files: ['clients.py', 'components.py', 'launchers.py', 'servers.py', 'sessions.py', '__init__.py', '__main__.py']\n",
      "\n",
      "Current directory path: .\\myenv\\Lib\\site-packages\\debugpy\\adapter\\__pycache__\n",
      "Directories: []\n",
      "Files: ['clients.cpython-313.pyc', 'components.cpython-313.pyc', 'launchers.cpython-313.pyc', 'servers.cpython-313.pyc', 'sessions.cpython-313.pyc', '__init__.cpython-313.pyc', '__main__.cpython-313.pyc']\n",
      "\n",
      "Current directory path: .\\myenv\\Lib\\site-packages\\debugpy\\common\n",
      "Directories: ['__pycache__']\n",
      "Files: ['json.py', 'log.py', 'messaging.py', 'singleton.py', 'sockets.py', 'stacks.py', 'timestamp.py', 'util.py', '__init__.py']\n",
      "\n",
      "Current directory path: .\\myenv\\Lib\\site-packages\\debugpy\\common\\__pycache__\n",
      "Directories: []\n",
      "Files: ['json.cpython-313.pyc', 'log.cpython-313.pyc', 'messaging.cpython-313.pyc', 'singleton.cpython-313.pyc', 'sockets.cpython-313.pyc', 'stacks.cpython-313.pyc', 'timestamp.cpython-313.pyc', 'util.cpython-313.pyc', '__init__.cpython-313.pyc']\n",
      "\n",
      "Current directory path: .\\myenv\\Lib\\site-packages\\debugpy\\launcher\n",
      "Directories: ['__pycache__']\n",
      "Files: ['debuggee.py', 'handlers.py', 'output.py', 'winapi.py', '__init__.py', '__main__.py']\n",
      "\n",
      "Current directory path: .\\myenv\\Lib\\site-packages\\debugpy\\launcher\\__pycache__\n",
      "Directories: []\n",
      "Files: ['debuggee.cpython-313.pyc', 'handlers.cpython-313.pyc', 'output.cpython-313.pyc', 'winapi.cpython-313.pyc', '__init__.cpython-313.pyc', '__main__.cpython-313.pyc']\n",
      "\n",
      "Current directory path: .\\myenv\\Lib\\site-packages\\debugpy\\server\n",
      "Directories: ['__pycache__']\n",
      "Files: ['api.py', 'attach_pid_injected.py', 'cli.py', '__init__.py']\n",
      "\n",
      "Current directory path: .\\myenv\\Lib\\site-packages\\debugpy\\server\\__pycache__\n",
      "Directories: []\n",
      "Files: ['api.cpython-313.pyc', 'attach_pid_injected.cpython-313.pyc', 'cli.cpython-313.pyc', '__init__.cpython-313.pyc']\n",
      "\n",
      "Current directory path: .\\myenv\\Lib\\site-packages\\debugpy\\_vendored\n",
      "Directories: ['pydevd', '__pycache__']\n",
      "Files: ['force_pydevd.py', '_pydevd_packaging.py', '_util.py', '__init__.py']\n",
      "\n",
      "Current directory path: .\\myenv\\Lib\\site-packages\\debugpy\\_vendored\\pydevd\n",
      "Directories: ['pydevd_attach_to_process', 'pydevd_plugins', 'pydev_ipython', 'pydev_sitecustomize', '_pydevd_bundle', '_pydevd_frame_eval', '_pydevd_sys_monitoring', '_pydev_bundle', '_pydev_runfiles', '__pycache__']\n",
      "Files: ['pydevconsole.py', 'pydevd.py', 'pydevd_file_utils.py', 'pydevd_tracing.py', 'pydev_app_engine_debug_startup.py', 'pydev_coverage.py', 'pydev_pysrc.py', 'pydev_run_in_console.py', 'setup_pydevd_cython.py']\n",
      "\n",
      "Current directory path: .\\myenv\\Lib\\site-packages\\debugpy\\_vendored\\pydevd\\pydevd_attach_to_process\n",
      "Directories: ['common', 'linux_and_mac', 'winappdbg', 'windows', '__pycache__']\n",
      "Files: ['add_code_to_python_process.py', 'attach_amd64.dll', 'attach_amd64.pdb', 'attach_pydevd.py', 'attach_script.py', 'attach_x86.dll', 'attach_x86.pdb', 'inject_dll_amd64.exe', 'inject_dll_amd64.pdb', 'inject_dll_x86.exe', 'inject_dll_x86.pdb', 'README.txt', 'run_code_on_dllmain_amd64.dll', 'run_code_on_dllmain_amd64.pdb', 'run_code_on_dllmain_x86.dll', 'run_code_on_dllmain_x86.pdb', '_always_live_program.py', '_check.py', '_test_attach_to_process.py', '_test_attach_to_process_linux.py']\n",
      "\n",
      "Current directory path: .\\myenv\\Lib\\site-packages\\debugpy\\_vendored\\pydevd\\pydevd_attach_to_process\\common\n",
      "Directories: []\n",
      "Files: ['python.h', 'py_custom_pyeval_settrace.hpp', 'py_custom_pyeval_settrace_310.hpp', 'py_custom_pyeval_settrace_311.hpp', 'py_custom_pyeval_settrace_common.hpp', 'py_settrace.hpp', 'py_utils.hpp', 'py_version.hpp', 'ref_utils.hpp']\n",
      "\n",
      "Current directory path: .\\myenv\\Lib\\site-packages\\debugpy\\_vendored\\pydevd\\pydevd_attach_to_process\\linux_and_mac\n",
      "Directories: ['__pycache__']\n",
      "Files: ['.gitignore', 'attach.cpp', 'compile_linux.sh', 'compile_mac.sh', 'compile_manylinux.cmd', 'lldb_prepare.py']\n",
      "\n",
      "Current directory path: .\\myenv\\Lib\\site-packages\\debugpy\\_vendored\\pydevd\\pydevd_attach_to_process\\linux_and_mac\\__pycache__\n",
      "Directories: []\n",
      "Files: ['lldb_prepare.cpython-313.pyc']\n",
      "\n",
      "Current directory path: .\\myenv\\Lib\\site-packages\\debugpy\\_vendored\\pydevd\\pydevd_attach_to_process\\winappdbg\n",
      "Directories: ['win32', '__pycache__']\n",
      "Files: ['breakpoint.py', 'compat.py', 'crash.py', 'debug.py', 'disasm.py', 'event.py', 'interactive.py', 'module.py', 'process.py', 'registry.py', 'search.py', 'sql.py', 'system.py', 'textio.py', 'thread.py', 'util.py', 'window.py', '__init__.py']\n",
      "\n",
      "Current directory path: .\\myenv\\Lib\\site-packages\\debugpy\\_vendored\\pydevd\\pydevd_attach_to_process\\winappdbg\\win32\n",
      "Directories: ['__pycache__']\n",
      "Files: ['advapi32.py', 'context_amd64.py', 'context_i386.py', 'dbghelp.py', 'defines.py', 'gdi32.py', 'kernel32.py', 'ntdll.py', 'peb_teb.py', 'psapi.py', 'shell32.py', 'shlwapi.py', 'user32.py', 'version.py', 'wtsapi32.py', '__init__.py']\n",
      "\n",
      "Current directory path: .\\myenv\\Lib\\site-packages\\debugpy\\_vendored\\pydevd\\pydevd_attach_to_process\\winappdbg\\win32\\__pycache__\n",
      "Directories: []\n",
      "Files: ['advapi32.cpython-313.pyc', 'context_amd64.cpython-313.pyc', 'context_i386.cpython-313.pyc', 'dbghelp.cpython-313.pyc', 'defines.cpython-313.pyc', 'gdi32.cpython-313.pyc', 'kernel32.cpython-313.pyc', 'ntdll.cpython-313.pyc', 'peb_teb.cpython-313.pyc', 'psapi.cpython-313.pyc', 'shell32.cpython-313.pyc', 'shlwapi.cpython-313.pyc', 'user32.cpython-313.pyc', 'version.cpython-313.pyc', 'wtsapi32.cpython-313.pyc', '__init__.cpython-313.pyc']\n",
      "\n",
      "Current directory path: .\\myenv\\Lib\\site-packages\\debugpy\\_vendored\\pydevd\\pydevd_attach_to_process\\winappdbg\\__pycache__\n",
      "Directories: []\n",
      "Files: ['breakpoint.cpython-313.pyc', 'compat.cpython-313.pyc', 'crash.cpython-313.pyc', 'debug.cpython-313.pyc', 'disasm.cpython-313.pyc', 'event.cpython-313.pyc', 'interactive.cpython-313.pyc', 'module.cpython-313.pyc', 'process.cpython-313.pyc', 'registry.cpython-313.pyc', 'search.cpython-313.pyc', 'sql.cpython-313.pyc', 'system.cpython-313.pyc', 'textio.cpython-313.pyc', 'thread.cpython-313.pyc', 'util.cpython-313.pyc', 'window.cpython-313.pyc', '__init__.cpython-313.pyc']\n",
      "\n",
      "Current directory path: .\\myenv\\Lib\\site-packages\\debugpy\\_vendored\\pydevd\\pydevd_attach_to_process\\windows\n",
      "Directories: []\n",
      "Files: ['attach.cpp', 'attach.h', 'compile_windows.bat', 'inject_dll.cpp', 'py_win_helpers.hpp', 'run_code_in_memory.hpp', 'run_code_on_dllmain.cpp', 'stdafx.cpp', 'stdafx.h', 'targetver.h']\n",
      "\n",
      "Current directory path: .\\myenv\\Lib\\site-packages\\debugpy\\_vendored\\pydevd\\pydevd_attach_to_process\\__pycache__\n",
      "Directories: []\n",
      "Files: ['add_code_to_python_process.cpython-313.pyc', 'attach_pydevd.cpython-313.pyc', 'attach_script.cpython-313.pyc', '_always_live_program.cpython-313.pyc', '_check.cpython-313.pyc', '_test_attach_to_process.cpython-313.pyc', '_test_attach_to_process_linux.cpython-313.pyc']\n",
      "\n",
      "Current directory path: .\\myenv\\Lib\\site-packages\\debugpy\\_vendored\\pydevd\\pydevd_plugins\n",
      "Directories: ['extensions', '__pycache__']\n",
      "Files: ['django_debug.py', 'jinja2_debug.py', 'pydevd_line_validation.py', '__init__.py']\n",
      "\n",
      "Current directory path: .\\myenv\\Lib\\site-packages\\debugpy\\_vendored\\pydevd\\pydevd_plugins\\extensions\n",
      "Directories: ['types', '__pycache__']\n",
      "Files: ['README.md', '__init__.py']\n",
      "\n",
      "Current directory path: .\\myenv\\Lib\\site-packages\\debugpy\\_vendored\\pydevd\\pydevd_plugins\\extensions\\types\n",
      "Directories: ['__pycache__']\n",
      "Files: ['pydevd_helpers.py', 'pydevd_plugins_django_form_str.py', 'pydevd_plugin_numpy_types.py', 'pydevd_plugin_pandas_types.py', '__init__.py']\n",
      "\n",
      "Current directory path: .\\myenv\\Lib\\site-packages\\debugpy\\_vendored\\pydevd\\pydevd_plugins\\extensions\\types\\__pycache__\n",
      "Directories: []\n",
      "Files: ['pydevd_helpers.cpython-313.pyc', 'pydevd_plugins_django_form_str.cpython-313.pyc', 'pydevd_plugin_numpy_types.cpython-313.pyc', 'pydevd_plugin_pandas_types.cpython-313.pyc', '__init__.cpython-313.pyc']\n",
      "\n",
      "Current directory path: .\\myenv\\Lib\\site-packages\\debugpy\\_vendored\\pydevd\\pydevd_plugins\\extensions\\__pycache__\n",
      "Directories: []\n",
      "Files: ['__init__.cpython-313.pyc']\n",
      "\n",
      "Current directory path: .\\myenv\\Lib\\site-packages\\debugpy\\_vendored\\pydevd\\pydevd_plugins\\__pycache__\n",
      "Directories: []\n",
      "Files: ['django_debug.cpython-313.pyc', 'jinja2_debug.cpython-313.pyc', 'pydevd_line_validation.cpython-313.pyc', '__init__.cpython-313.pyc']\n",
      "\n",
      "Current directory path: .\\myenv\\Lib\\site-packages\\debugpy\\_vendored\\pydevd\\pydev_ipython\n",
      "Directories: ['__pycache__']\n",
      "Files: ['inputhook.py', 'inputhookglut.py', 'inputhookgtk.py', 'inputhookgtk3.py', 'inputhookpyglet.py', 'inputhookqt4.py', 'inputhookqt5.py', 'inputhookqt6.py', 'inputhooktk.py', 'inputhookwx.py', 'matplotlibtools.py', 'qt.py', 'qt_for_kernel.py', 'qt_loaders.py', 'README', 'version.py', '__init__.py']\n",
      "\n",
      "Current directory path: .\\myenv\\Lib\\site-packages\\debugpy\\_vendored\\pydevd\\pydev_ipython\\__pycache__\n",
      "Directories: []\n",
      "Files: ['inputhook.cpython-313.pyc', 'inputhookglut.cpython-313.pyc', 'inputhookgtk.cpython-313.pyc', 'inputhookgtk3.cpython-313.pyc', 'inputhookpyglet.cpython-313.pyc', 'inputhookqt4.cpython-313.pyc', 'inputhookqt5.cpython-313.pyc', 'inputhookqt6.cpython-313.pyc', 'inputhooktk.cpython-313.pyc', 'inputhookwx.cpython-313.pyc', 'matplotlibtools.cpython-313.pyc', 'qt.cpython-313.pyc', 'qt_for_kernel.cpython-313.pyc', 'qt_loaders.cpython-313.pyc', 'version.cpython-313.pyc', '__init__.cpython-313.pyc']\n",
      "\n",
      "Current directory path: .\\myenv\\Lib\\site-packages\\debugpy\\_vendored\\pydevd\\pydev_sitecustomize\n",
      "Directories: ['__pycache__']\n",
      "Files: ['sitecustomize.py', '__not_in_default_pythonpath.txt']\n",
      "\n",
      "Current directory path: .\\myenv\\Lib\\site-packages\\debugpy\\_vendored\\pydevd\\pydev_sitecustomize\\__pycache__\n",
      "Directories: []\n",
      "Files: ['sitecustomize.cpython-313.pyc']\n",
      "\n",
      "Current directory path: .\\myenv\\Lib\\site-packages\\debugpy\\_vendored\\pydevd\\_pydevd_bundle\n",
      "Directories: ['pydevd_concurrency_analyser', '_debug_adapter', '__pycache__']\n",
      "Files: ['pydevconsole_code.py', 'pydevd_additional_thread_info.py', 'pydevd_additional_thread_info_regular.py', 'pydevd_api.py', 'pydevd_breakpoints.py', 'pydevd_bytecode_utils.py', 'pydevd_bytecode_utils_py311.py', 'pydevd_code_to_source.py', 'pydevd_collect_bytecode_info.py', 'pydevd_comm.py', 'pydevd_command_line_handling.py', 'pydevd_comm_constants.py', 'pydevd_console.py', 'pydevd_constants.py', 'pydevd_custom_frames.py', 'pydevd_cython.c', 'pydevd_cython.cp313-win_amd64.pyd', 'pydevd_cython.pxd', 'pydevd_cython.pyx', 'pydevd_cython_wrapper.py', 'pydevd_daemon_thread.py', 'pydevd_defaults.py', 'pydevd_dont_trace.py', 'pydevd_dont_trace_files.py', 'pydevd_exec2.py', 'pydevd_extension_api.py', 'pydevd_extension_utils.py', 'pydevd_filtering.py', 'pydevd_frame.py', 'pydevd_frame_utils.py', 'pydevd_gevent_integration.py', 'pydevd_import_class.py', 'pydevd_io.py', 'pydevd_json_debug_options.py', 'pydevd_net_command.py', 'pydevd_net_command_factory_json.py', 'pydevd_net_command_factory_xml.py', 'pydevd_plugin_utils.py', 'pydevd_process_net_command.py', 'pydevd_process_net_command_json.py', 'pydevd_referrers.py', 'pydevd_reload.py', 'pydevd_resolver.py', 'pydevd_runpy.py', 'pydevd_safe_repr.py', 'pydevd_save_locals.py', 'pydevd_signature.py', 'pydevd_source_mapping.py', 'pydevd_stackless.py', 'pydevd_suspended_frames.py', 'pydevd_thread_lifecycle.py', 'pydevd_timeout.py', 'pydevd_traceproperty.py', 'pydevd_trace_dispatch.py', 'pydevd_trace_dispatch_regular.py', 'pydevd_utils.py', 'pydevd_vars.py', 'pydevd_vm_type.py', 'pydevd_xml.py', '__init__.py']\n",
      "\n",
      "Current directory path: .\\myenv\\Lib\\site-packages\\debugpy\\_vendored\\pydevd\\_pydevd_bundle\\pydevd_concurrency_analyser\n",
      "Directories: ['__pycache__']\n",
      "Files: ['pydevd_concurrency_logger.py', 'pydevd_thread_wrappers.py', '__init__.py']\n",
      "\n",
      "Current directory path: .\\myenv\\Lib\\site-packages\\debugpy\\_vendored\\pydevd\\_pydevd_bundle\\pydevd_concurrency_analyser\\__pycache__\n",
      "Directories: []\n",
      "Files: ['pydevd_concurrency_logger.cpython-313.pyc', 'pydevd_thread_wrappers.cpython-313.pyc', '__init__.cpython-313.pyc']\n",
      "\n",
      "Current directory path: .\\myenv\\Lib\\site-packages\\debugpy\\_vendored\\pydevd\\_pydevd_bundle\\_debug_adapter\n",
      "Directories: ['__pycache__']\n",
      "Files: ['debugProtocol.json', 'debugProtocolCustom.json', 'pydevd_base_schema.py', 'pydevd_schema.py', 'pydevd_schema_log.py', '__init__.py', '__main__pydevd_gen_debug_adapter_protocol.py']\n",
      "\n",
      "Current directory path: .\\myenv\\Lib\\site-packages\\debugpy\\_vendored\\pydevd\\_pydevd_bundle\\_debug_adapter\\__pycache__\n",
      "Directories: []\n",
      "Files: ['pydevd_base_schema.cpython-313.pyc', 'pydevd_schema.cpython-313.pyc', 'pydevd_schema_log.cpython-313.pyc', '__init__.cpython-313.pyc', '__main__pydevd_gen_debug_adapter_protocol.cpython-313.pyc']\n",
      "\n",
      "Current directory path: .\\myenv\\Lib\\site-packages\\debugpy\\_vendored\\pydevd\\_pydevd_bundle\\__pycache__\n",
      "Directories: []\n",
      "Files: ['pydevconsole_code.cpython-313.pyc', 'pydevd_additional_thread_info.cpython-313.pyc', 'pydevd_additional_thread_info_regular.cpython-313.pyc', 'pydevd_api.cpython-313.pyc', 'pydevd_breakpoints.cpython-313.pyc', 'pydevd_bytecode_utils.cpython-313.pyc', 'pydevd_bytecode_utils_py311.cpython-313.pyc', 'pydevd_code_to_source.cpython-313.pyc', 'pydevd_collect_bytecode_info.cpython-313.pyc', 'pydevd_comm.cpython-313.pyc', 'pydevd_command_line_handling.cpython-313.pyc', 'pydevd_comm_constants.cpython-313.pyc', 'pydevd_console.cpython-313.pyc', 'pydevd_constants.cpython-313.pyc', 'pydevd_custom_frames.cpython-313.pyc', 'pydevd_cython_wrapper.cpython-313.pyc', 'pydevd_daemon_thread.cpython-313.pyc', 'pydevd_defaults.cpython-313.pyc', 'pydevd_dont_trace.cpython-313.pyc', 'pydevd_dont_trace_files.cpython-313.pyc', 'pydevd_exec2.cpython-313.pyc', 'pydevd_extension_api.cpython-313.pyc', 'pydevd_extension_utils.cpython-313.pyc', 'pydevd_filtering.cpython-313.pyc', 'pydevd_frame.cpython-313.pyc', 'pydevd_frame_utils.cpython-313.pyc', 'pydevd_gevent_integration.cpython-313.pyc', 'pydevd_import_class.cpython-313.pyc', 'pydevd_io.cpython-313.pyc', 'pydevd_json_debug_options.cpython-313.pyc', 'pydevd_net_command.cpython-313.pyc', 'pydevd_net_command_factory_json.cpython-313.pyc', 'pydevd_net_command_factory_xml.cpython-313.pyc', 'pydevd_plugin_utils.cpython-313.pyc', 'pydevd_process_net_command.cpython-313.pyc', 'pydevd_process_net_command_json.cpython-313.pyc', 'pydevd_referrers.cpython-313.pyc', 'pydevd_reload.cpython-313.pyc', 'pydevd_resolver.cpython-313.pyc', 'pydevd_runpy.cpython-313.pyc', 'pydevd_safe_repr.cpython-313.pyc', 'pydevd_save_locals.cpython-313.pyc', 'pydevd_signature.cpython-313.pyc', 'pydevd_source_mapping.cpython-313.pyc', 'pydevd_stackless.cpython-313.pyc', 'pydevd_suspended_frames.cpython-313.pyc', 'pydevd_thread_lifecycle.cpython-313.pyc', 'pydevd_timeout.cpython-313.pyc', 'pydevd_traceproperty.cpython-313.pyc', 'pydevd_trace_dispatch.cpython-313.pyc', 'pydevd_trace_dispatch_regular.cpython-313.pyc', 'pydevd_utils.cpython-313.pyc', 'pydevd_vars.cpython-313.pyc', 'pydevd_vm_type.cpython-313.pyc', 'pydevd_xml.cpython-313.pyc', '__init__.cpython-313.pyc']\n",
      "\n",
      "Current directory path: .\\myenv\\Lib\\site-packages\\debugpy\\_vendored\\pydevd\\_pydevd_frame_eval\n",
      "Directories: ['vendored', '__pycache__']\n",
      "Files: ['.gitignore', 'pydevd_frame_evaluator.c', 'pydevd_frame_evaluator.pxd', 'pydevd_frame_evaluator.template.pyx', 'pydevd_frame_eval_cython_wrapper.py', 'pydevd_frame_eval_main.py', 'pydevd_frame_tracing.py', 'pydevd_modify_bytecode.py', 'release_mem.h', '__init__.py']\n",
      "\n",
      "Current directory path: .\\myenv\\Lib\\site-packages\\debugpy\\_vendored\\pydevd\\_pydevd_frame_eval\\vendored\n",
      "Directories: ['bytecode', '__pycache__']\n",
      "Files: ['pydevd_fix_code.py', 'README.txt', '__init__.py']\n",
      "\n",
      "Current directory path: .\\myenv\\Lib\\site-packages\\debugpy\\_vendored\\pydevd\\_pydevd_frame_eval\\vendored\\bytecode\n",
      "Directories: ['tests', '__pycache__']\n",
      "Files: ['bytecode.py', 'cfg.py', 'concrete.py', 'flags.py', 'instr.py', 'peephole_opt.py', '__init__.py']\n",
      "\n",
      "Current directory path: .\\myenv\\Lib\\site-packages\\debugpy\\_vendored\\pydevd\\_pydevd_frame_eval\\vendored\\bytecode\\tests\n",
      "Directories: ['__pycache__']\n",
      "Files: ['test_bytecode.py', 'test_cfg.py', 'test_code.py', 'test_concrete.py', 'test_flags.py', 'test_instr.py', 'test_misc.py', 'test_peephole_opt.py', 'util_annotation.py', '__init__.py']\n",
      "\n",
      "Current directory path: .\\myenv\\Lib\\site-packages\\debugpy\\_vendored\\pydevd\\_pydevd_frame_eval\\vendored\\bytecode\\tests\\__pycache__\n",
      "Directories: []\n",
      "Files: ['test_bytecode.cpython-313.pyc', 'test_cfg.cpython-313.pyc', 'test_code.cpython-313.pyc', 'test_concrete.cpython-313.pyc', 'test_flags.cpython-313.pyc', 'test_instr.cpython-313.pyc', 'test_misc.cpython-313.pyc', 'test_peephole_opt.cpython-313.pyc', 'util_annotation.cpython-313.pyc', '__init__.cpython-313.pyc']\n",
      "\n",
      "Current directory path: .\\myenv\\Lib\\site-packages\\debugpy\\_vendored\\pydevd\\_pydevd_frame_eval\\vendored\\bytecode\\__pycache__\n",
      "Directories: []\n",
      "Files: ['bytecode.cpython-313.pyc', 'cfg.cpython-313.pyc', 'concrete.cpython-313.pyc', 'flags.cpython-313.pyc', 'instr.cpython-313.pyc', 'peephole_opt.cpython-313.pyc', '__init__.cpython-313.pyc']\n",
      "\n",
      "Current directory path: .\\myenv\\Lib\\site-packages\\debugpy\\_vendored\\pydevd\\_pydevd_frame_eval\\vendored\\__pycache__\n",
      "Directories: []\n",
      "Files: ['pydevd_fix_code.cpython-313.pyc', '__init__.cpython-313.pyc']\n",
      "\n",
      "Current directory path: .\\myenv\\Lib\\site-packages\\debugpy\\_vendored\\pydevd\\_pydevd_frame_eval\\__pycache__\n",
      "Directories: []\n",
      "Files: ['pydevd_frame_eval_cython_wrapper.cpython-313.pyc', 'pydevd_frame_eval_main.cpython-313.pyc', 'pydevd_frame_tracing.cpython-313.pyc', 'pydevd_modify_bytecode.cpython-313.pyc', '__init__.cpython-313.pyc']\n",
      "\n",
      "Current directory path: .\\myenv\\Lib\\site-packages\\debugpy\\_vendored\\pydevd\\_pydevd_sys_monitoring\n",
      "Directories: ['__pycache__']\n",
      "Files: ['pydevd_sys_monitoring.py', '_pydevd_sys_monitoring.py', '_pydevd_sys_monitoring_cython.c', '_pydevd_sys_monitoring_cython.cp313-win_amd64.pyd', '_pydevd_sys_monitoring_cython.pxd', '_pydevd_sys_monitoring_cython.pyx']\n",
      "\n",
      "Current directory path: .\\myenv\\Lib\\site-packages\\debugpy\\_vendored\\pydevd\\_pydevd_sys_monitoring\\__pycache__\n",
      "Directories: []\n",
      "Files: ['pydevd_sys_monitoring.cpython-313.pyc', '_pydevd_sys_monitoring.cpython-313.pyc']\n",
      "\n",
      "Current directory path: .\\myenv\\Lib\\site-packages\\debugpy\\_vendored\\pydevd\\_pydev_bundle\n",
      "Directories: ['fsnotify', '__pycache__']\n",
      "Files: ['pydev_console_utils.py', 'pydev_imports.py', 'pydev_import_hook.py', 'pydev_ipython_console.py', 'pydev_ipython_console_011.py', 'pydev_is_thread_alive.py', 'pydev_localhost.py', 'pydev_log.py', 'pydev_monkey.py', 'pydev_monkey_qt.py', 'pydev_override.py', 'pydev_umd.py', 'pydev_versioncheck.py', '_pydev_calltip_util.py', '_pydev_completer.py', '_pydev_execfile.py', '_pydev_filesystem_encoding.py', '_pydev_getopt.py', '_pydev_imports_tipper.py', '_pydev_jy_imports_tipper.py', '_pydev_log.py', '_pydev_saved_modules.py', '_pydev_sys_patch.py', '_pydev_tipper_common.py', '__init__.py']\n",
      "\n",
      "Current directory path: .\\myenv\\Lib\\site-packages\\debugpy\\_vendored\\pydevd\\_pydev_bundle\\fsnotify\n",
      "Directories: ['__pycache__']\n",
      "Files: ['__init__.py']\n",
      "\n",
      "Current directory path: .\\myenv\\Lib\\site-packages\\debugpy\\_vendored\\pydevd\\_pydev_bundle\\fsnotify\\__pycache__\n",
      "Directories: []\n",
      "Files: ['__init__.cpython-313.pyc']\n",
      "\n",
      "Current directory path: .\\myenv\\Lib\\site-packages\\debugpy\\_vendored\\pydevd\\_pydev_bundle\\__pycache__\n",
      "Directories: []\n",
      "Files: ['pydev_console_utils.cpython-313.pyc', 'pydev_imports.cpython-313.pyc', 'pydev_import_hook.cpython-313.pyc', 'pydev_ipython_console.cpython-313.pyc', 'pydev_ipython_console_011.cpython-313.pyc', 'pydev_is_thread_alive.cpython-313.pyc', 'pydev_localhost.cpython-313.pyc', 'pydev_log.cpython-313.pyc', 'pydev_monkey.cpython-313.pyc', 'pydev_monkey_qt.cpython-313.pyc', 'pydev_override.cpython-313.pyc', 'pydev_umd.cpython-313.pyc', 'pydev_versioncheck.cpython-313.pyc', '_pydev_calltip_util.cpython-313.pyc', '_pydev_completer.cpython-313.pyc', '_pydev_execfile.cpython-313.pyc', '_pydev_filesystem_encoding.cpython-313.pyc', '_pydev_getopt.cpython-313.pyc', '_pydev_imports_tipper.cpython-313.pyc', '_pydev_jy_imports_tipper.cpython-313.pyc', '_pydev_log.cpython-313.pyc', '_pydev_saved_modules.cpython-313.pyc', '_pydev_sys_patch.cpython-313.pyc', '_pydev_tipper_common.cpython-313.pyc', '__init__.cpython-313.pyc']\n",
      "\n",
      "Current directory path: .\\myenv\\Lib\\site-packages\\debugpy\\_vendored\\pydevd\\_pydev_runfiles\n",
      "Directories: ['__pycache__']\n",
      "Files: ['pydev_runfiles.py', 'pydev_runfiles_coverage.py', 'pydev_runfiles_nose.py', 'pydev_runfiles_parallel.py', 'pydev_runfiles_parallel_client.py', 'pydev_runfiles_pytest2.py', 'pydev_runfiles_unittest.py', 'pydev_runfiles_xml_rpc.py', '__init__.py']\n",
      "\n",
      "Current directory path: .\\myenv\\Lib\\site-packages\\debugpy\\_vendored\\pydevd\\_pydev_runfiles\\__pycache__\n",
      "Directories: []\n",
      "Files: ['pydev_runfiles.cpython-313.pyc', 'pydev_runfiles_coverage.cpython-313.pyc', 'pydev_runfiles_nose.cpython-313.pyc', 'pydev_runfiles_parallel.cpython-313.pyc', 'pydev_runfiles_parallel_client.cpython-313.pyc', 'pydev_runfiles_pytest2.cpython-313.pyc', 'pydev_runfiles_unittest.cpython-313.pyc', 'pydev_runfiles_xml_rpc.cpython-313.pyc', '__init__.cpython-313.pyc']\n",
      "\n",
      "Current directory path: .\\myenv\\Lib\\site-packages\\debugpy\\_vendored\\pydevd\\__pycache__\n",
      "Directories: []\n",
      "Files: ['pydevconsole.cpython-313.pyc', 'pydevd.cpython-313.pyc', 'pydevd_file_utils.cpython-313.pyc', 'pydevd_tracing.cpython-313.pyc', 'pydev_app_engine_debug_startup.cpython-313.pyc', 'pydev_coverage.cpython-313.pyc', 'pydev_pysrc.cpython-313.pyc', 'pydev_run_in_console.cpython-313.pyc', 'setup_pydevd_cython.cpython-313.pyc']\n",
      "\n",
      "Current directory path: .\\myenv\\Lib\\site-packages\\debugpy\\_vendored\\__pycache__\n",
      "Directories: []\n",
      "Files: ['force_pydevd.cpython-313.pyc', '_pydevd_packaging.cpython-313.pyc', '_util.cpython-313.pyc', '__init__.cpython-313.pyc']\n",
      "\n",
      "Current directory path: .\\myenv\\Lib\\site-packages\\debugpy\\__pycache__\n",
      "Directories: []\n",
      "Files: ['public_api.cpython-313.pyc', '_version.cpython-313.pyc', '__init__.cpython-313.pyc', '__main__.cpython-313.pyc']\n",
      "\n",
      "Current directory path: .\\myenv\\Lib\\site-packages\\debugpy-1.8.17.dist-info\n",
      "Directories: ['licenses']\n",
      "Files: ['entry_points.txt', 'INSTALLER', 'METADATA', 'RECORD', 'top_level.txt', 'WHEEL']\n",
      "\n",
      "Current directory path: .\\myenv\\Lib\\site-packages\\debugpy-1.8.17.dist-info\\licenses\n",
      "Directories: []\n",
      "Files: ['LICENSE']\n",
      "\n",
      "Current directory path: .\\myenv\\Lib\\site-packages\\decorator-5.2.1.dist-info\n",
      "Directories: []\n",
      "Files: ['INSTALLER', 'LICENSE.txt', 'METADATA', 'pbr.json', 'RECORD', 'top_level.txt', 'WHEEL']\n",
      "\n",
      "Current directory path: .\\myenv\\Lib\\site-packages\\executing\n",
      "Directories: ['__pycache__']\n",
      "Files: ['executing.py', 'py.typed', 'version.py', '_exceptions.py', '_position_node_finder.py', '_pytest_utils.py', '_utils.py', '__init__.py']\n",
      "\n",
      "Current directory path: .\\myenv\\Lib\\site-packages\\executing\\__pycache__\n",
      "Directories: []\n",
      "Files: ['executing.cpython-313.pyc', 'version.cpython-313.pyc', '_exceptions.cpython-313.pyc', '_position_node_finder.cpython-313.pyc', '_pytest_utils.cpython-313.pyc', '_utils.cpython-313.pyc', '__init__.cpython-313.pyc']\n",
      "\n",
      "Current directory path: .\\myenv\\Lib\\site-packages\\executing-2.2.1.dist-info\n",
      "Directories: []\n",
      "Files: ['INSTALLER', 'LICENSE.txt', 'METADATA', 'RECORD', 'top_level.txt', 'WHEEL']\n",
      "\n",
      "Current directory path: .\\myenv\\Lib\\site-packages\\ipykernel\n",
      "Directories: ['comm', 'gui', 'inprocess', 'pylab', 'resources', '__pycache__']\n",
      "Files: ['compiler.py', 'connect.py', 'control.py', 'debugger.py', 'displayhook.py', 'embed.py', 'eventloops.py', 'heartbeat.py', 'iostream.py', 'ipkernel.py', 'jsonutil.py', 'kernelapp.py', 'kernelbase.py', 'kernelspec.py', 'log.py', 'parentpoller.py', 'py.typed', 'shellchannel.py', 'socket_pair.py', 'subshell.py', 'subshell_manager.py', 'thread.py', 'trio_runner.py', 'utils.py', 'zmqshell.py', '_eventloop_macos.py', '_version.py', '__init__.py', '__main__.py']\n",
      "\n",
      "Current directory path: .\\myenv\\Lib\\site-packages\\ipykernel\\comm\n",
      "Directories: ['__pycache__']\n",
      "Files: ['comm.py', 'manager.py', '__init__.py']\n",
      "\n",
      "Current directory path: .\\myenv\\Lib\\site-packages\\ipykernel\\comm\\__pycache__\n",
      "Directories: []\n",
      "Files: ['comm.cpython-313.pyc', 'manager.cpython-313.pyc', '__init__.cpython-313.pyc']\n",
      "\n",
      "Current directory path: .\\myenv\\Lib\\site-packages\\ipykernel\\gui\n",
      "Directories: ['__pycache__']\n",
      "Files: ['gtk3embed.py', 'gtkembed.py', '__init__.py']\n",
      "\n",
      "Current directory path: .\\myenv\\Lib\\site-packages\\ipykernel\\gui\\__pycache__\n",
      "Directories: []\n",
      "Files: ['gtk3embed.cpython-313.pyc', 'gtkembed.cpython-313.pyc', '__init__.cpython-313.pyc']\n",
      "\n",
      "Current directory path: .\\myenv\\Lib\\site-packages\\ipykernel\\inprocess\n",
      "Directories: ['__pycache__']\n",
      "Files: ['blocking.py', 'channels.py', 'client.py', 'constants.py', 'ipkernel.py', 'manager.py', 'socket.py', '__init__.py']\n",
      "\n",
      "Current directory path: .\\myenv\\Lib\\site-packages\\ipykernel\\inprocess\\__pycache__\n",
      "Directories: []\n",
      "Files: ['blocking.cpython-313.pyc', 'channels.cpython-313.pyc', 'client.cpython-313.pyc', 'constants.cpython-313.pyc', 'ipkernel.cpython-313.pyc', 'manager.cpython-313.pyc', 'socket.cpython-313.pyc', '__init__.cpython-313.pyc']\n",
      "\n",
      "Current directory path: .\\myenv\\Lib\\site-packages\\ipykernel\\pylab\n",
      "Directories: ['__pycache__']\n",
      "Files: ['backend_inline.py', 'config.py', '__init__.py']\n",
      "\n",
      "Current directory path: .\\myenv\\Lib\\site-packages\\ipykernel\\pylab\\__pycache__\n",
      "Directories: []\n",
      "Files: ['backend_inline.cpython-313.pyc', 'config.cpython-313.pyc', '__init__.cpython-313.pyc']\n",
      "\n",
      "Current directory path: .\\myenv\\Lib\\site-packages\\ipykernel\\resources\n",
      "Directories: []\n",
      "Files: ['logo-32x32.png', 'logo-64x64.png', 'logo-svg.svg']\n",
      "\n",
      "Current directory path: .\\myenv\\Lib\\site-packages\\ipykernel\\__pycache__\n",
      "Directories: []\n",
      "Files: ['compiler.cpython-313.pyc', 'connect.cpython-313.pyc', 'control.cpython-313.pyc', 'debugger.cpython-313.pyc', 'displayhook.cpython-313.pyc', 'embed.cpython-313.pyc', 'eventloops.cpython-313.pyc', 'heartbeat.cpython-313.pyc', 'iostream.cpython-313.pyc', 'ipkernel.cpython-313.pyc', 'jsonutil.cpython-313.pyc', 'kernelapp.cpython-313.pyc', 'kernelbase.cpython-313.pyc', 'kernelspec.cpython-313.pyc', 'log.cpython-313.pyc', 'parentpoller.cpython-313.pyc', 'shellchannel.cpython-313.pyc', 'socket_pair.cpython-313.pyc', 'subshell.cpython-313.pyc', 'subshell_manager.cpython-313.pyc', 'thread.cpython-313.pyc', 'trio_runner.cpython-313.pyc', 'utils.cpython-313.pyc', 'zmqshell.cpython-313.pyc', '_eventloop_macos.cpython-313.pyc', '_version.cpython-313.pyc', '__init__.cpython-313.pyc', '__main__.cpython-313.pyc']\n",
      "\n",
      "Current directory path: .\\myenv\\Lib\\site-packages\\ipykernel-7.0.0.dist-info\n",
      "Directories: ['licenses']\n",
      "Files: ['INSTALLER', 'METADATA', 'RECORD', 'REQUESTED', 'WHEEL']\n",
      "\n",
      "Current directory path: .\\myenv\\Lib\\site-packages\\ipykernel-7.0.0.dist-info\\licenses\n",
      "Directories: []\n",
      "Files: ['LICENSE']\n",
      "\n",
      "Current directory path: .\\myenv\\Lib\\site-packages\\IPython\n",
      "Directories: ['core', 'extensions', 'external', 'lib', 'sphinxext', 'terminal', 'testing', 'utils', '__pycache__']\n",
      "Files: ['display.py', 'paths.py', 'py.typed', '__init__.py', '__main__.py']\n",
      "\n",
      "Current directory path: .\\myenv\\Lib\\site-packages\\IPython\\core\n",
      "Directories: ['magics', 'profile', '__pycache__']\n",
      "Files: ['alias.py', 'application.py', 'async_helpers.py', 'autocall.py', 'builtin_trap.py', 'compilerop.py', 'completer.py', 'completerlib.py', 'crashhandler.py', 'debugger.py', 'debugger_backport.py', 'display.py', 'displayhook.py', 'displaypub.py', 'display_functions.py', 'display_trap.py', 'doctb.py', 'error.py', 'events.py', 'extensions.py', 'formatters.py', 'getipython.py', 'guarded_eval.py', 'history.py', 'historyapp.py', 'hooks.py', 'inputtransformer2.py', 'interactiveshell.py', 'latex_symbols.py', 'logger.py', 'macro.py', 'magic.py', 'magic_arguments.py', 'oinspect.py', 'page.py', 'payload.py', 'payloadpage.py', 'prefilter.py', 'profileapp.py', 'profiledir.py', 'pylabtools.py', 'release.py', 'shellapp.py', 'splitinput.py', 'tbtools.py', 'tips.py', 'ultratb.py', 'usage.py', '__init__.py']\n",
      "\n",
      "Current directory path: .\\myenv\\Lib\\site-packages\\IPython\\core\\magics\n",
      "Directories: ['__pycache__']\n",
      "Files: ['ast_mod.py', 'auto.py', 'basic.py', 'code.py', 'config.py', 'display.py', 'execution.py', 'extension.py', 'history.py', 'logging.py', 'namespace.py', 'osm.py', 'packaging.py', 'pylab.py', 'script.py', '__init__.py']\n",
      "\n",
      "Current directory path: .\\myenv\\Lib\\site-packages\\IPython\\core\\magics\\__pycache__\n",
      "Directories: []\n",
      "Files: ['ast_mod.cpython-313.pyc', 'auto.cpython-313.pyc', 'basic.cpython-313.pyc', 'code.cpython-313.pyc', 'config.cpython-313.pyc', 'display.cpython-313.pyc', 'execution.cpython-313.pyc', 'extension.cpython-313.pyc', 'history.cpython-313.pyc', 'logging.cpython-313.pyc', 'namespace.cpython-313.pyc', 'osm.cpython-313.pyc', 'packaging.cpython-313.pyc', 'pylab.cpython-313.pyc', 'script.cpython-313.pyc', '__init__.cpython-313.pyc']\n",
      "\n",
      "Current directory path: .\\myenv\\Lib\\site-packages\\IPython\\core\\profile\n",
      "Directories: []\n",
      "Files: ['README_STARTUP']\n",
      "\n",
      "Current directory path: .\\myenv\\Lib\\site-packages\\IPython\\core\\__pycache__\n",
      "Directories: []\n",
      "Files: ['alias.cpython-313.pyc', 'application.cpython-313.pyc', 'async_helpers.cpython-313.pyc', 'autocall.cpython-313.pyc', 'builtin_trap.cpython-313.pyc', 'compilerop.cpython-313.pyc', 'completer.cpython-313.pyc', 'completerlib.cpython-313.pyc', 'crashhandler.cpython-313.pyc', 'debugger.cpython-313.pyc', 'debugger_backport.cpython-313.pyc', 'display.cpython-313.pyc', 'displayhook.cpython-313.pyc', 'displaypub.cpython-313.pyc', 'display_functions.cpython-313.pyc', 'display_trap.cpython-313.pyc', 'doctb.cpython-313.pyc', 'error.cpython-313.pyc', 'events.cpython-313.pyc', 'extensions.cpython-313.pyc', 'formatters.cpython-313.pyc', 'getipython.cpython-313.pyc', 'guarded_eval.cpython-313.pyc', 'history.cpython-313.pyc', 'historyapp.cpython-313.pyc', 'hooks.cpython-313.pyc', 'inputtransformer2.cpython-313.pyc', 'interactiveshell.cpython-313.pyc', 'latex_symbols.cpython-313.pyc', 'logger.cpython-313.pyc', 'macro.cpython-313.pyc', 'magic.cpython-313.pyc', 'magic_arguments.cpython-313.pyc', 'oinspect.cpython-313.pyc', 'page.cpython-313.pyc', 'payload.cpython-313.pyc', 'payloadpage.cpython-313.pyc', 'prefilter.cpython-313.pyc', 'profileapp.cpython-313.pyc', 'profiledir.cpython-313.pyc', 'pylabtools.cpython-313.pyc', 'release.cpython-313.pyc', 'shellapp.cpython-313.pyc', 'splitinput.cpython-313.pyc', 'tbtools.cpython-313.pyc', 'tips.cpython-313.pyc', 'ultratb.cpython-313.pyc', 'usage.cpython-313.pyc', '__init__.cpython-313.pyc']\n",
      "\n",
      "Current directory path: .\\myenv\\Lib\\site-packages\\IPython\\extensions\n",
      "Directories: ['deduperreload', '__pycache__']\n",
      "Files: ['autoreload.py', 'storemagic.py', '__init__.py']\n",
      "\n",
      "Current directory path: .\\myenv\\Lib\\site-packages\\IPython\\extensions\\deduperreload\n",
      "Directories: ['__pycache__']\n",
      "Files: ['deduperreload.py', 'deduperreload_patching.py', '__init__.py']\n",
      "\n",
      "Current directory path: .\\myenv\\Lib\\site-packages\\IPython\\extensions\\deduperreload\\__pycache__\n",
      "Directories: []\n",
      "Files: ['deduperreload.cpython-313.pyc', 'deduperreload_patching.cpython-313.pyc', '__init__.cpython-313.pyc']\n",
      "\n",
      "Current directory path: .\\myenv\\Lib\\site-packages\\IPython\\extensions\\__pycache__\n",
      "Directories: []\n",
      "Files: ['autoreload.cpython-313.pyc', 'storemagic.cpython-313.pyc', '__init__.cpython-313.pyc']\n",
      "\n",
      "Current directory path: .\\myenv\\Lib\\site-packages\\IPython\\external\n",
      "Directories: ['__pycache__']\n",
      "Files: ['pickleshare.py', 'qt_for_kernel.py', 'qt_loaders.py', '__init__.py']\n",
      "\n",
      "Current directory path: .\\myenv\\Lib\\site-packages\\IPython\\external\\__pycache__\n",
      "Directories: []\n",
      "Files: ['pickleshare.cpython-313.pyc', 'qt_for_kernel.cpython-313.pyc', 'qt_loaders.cpython-313.pyc', '__init__.cpython-313.pyc']\n",
      "\n",
      "Current directory path: .\\myenv\\Lib\\site-packages\\IPython\\lib\n",
      "Directories: ['__pycache__']\n",
      "Files: ['backgroundjobs.py', 'clipboard.py', 'deepreload.py', 'demo.py', 'display.py', 'editorhooks.py', 'guisupport.py', 'latextools.py', 'lexers.py', 'pretty.py', '__init__.py']\n",
      "\n",
      "Current directory path: .\\myenv\\Lib\\site-packages\\IPython\\lib\\__pycache__\n",
      "Directories: []\n",
      "Files: ['backgroundjobs.cpython-313.pyc', 'clipboard.cpython-313.pyc', 'deepreload.cpython-313.pyc', 'demo.cpython-313.pyc', 'display.cpython-313.pyc', 'editorhooks.cpython-313.pyc', 'guisupport.cpython-313.pyc', 'latextools.cpython-313.pyc', 'lexers.cpython-313.pyc', 'pretty.cpython-313.pyc', '__init__.cpython-313.pyc']\n",
      "\n",
      "Current directory path: .\\myenv\\Lib\\site-packages\\IPython\\sphinxext\n",
      "Directories: ['__pycache__']\n",
      "Files: ['custom_doctests.py', 'ipython_console_highlighting.py', 'ipython_directive.py', '__init__.py']\n",
      "\n",
      "Current directory path: .\\myenv\\Lib\\site-packages\\IPython\\sphinxext\\__pycache__\n",
      "Directories: []\n",
      "Files: ['custom_doctests.cpython-313.pyc', 'ipython_console_highlighting.cpython-313.pyc', 'ipython_directive.cpython-313.pyc', '__init__.cpython-313.pyc']\n",
      "\n",
      "Current directory path: .\\myenv\\Lib\\site-packages\\IPython\\terminal\n",
      "Directories: ['pt_inputhooks', 'shortcuts', '__pycache__']\n",
      "Files: ['debugger.py', 'embed.py', 'interactiveshell.py', 'ipapp.py', 'magics.py', 'prompts.py', 'ptutils.py', '__init__.py']\n",
      "\n",
      "Current directory path: .\\myenv\\Lib\\site-packages\\IPython\\terminal\\pt_inputhooks\n",
      "Directories: ['__pycache__']\n",
      "Files: ['asyncio.py', 'glut.py', 'gtk.py', 'gtk3.py', 'gtk4.py', 'osx.py', 'pyglet.py', 'qt.py', 'tk.py', 'wx.py', '__init__.py']\n",
      "\n",
      "Current directory path: .\\myenv\\Lib\\site-packages\\IPython\\terminal\\pt_inputhooks\\__pycache__\n",
      "Directories: []\n",
      "Files: ['asyncio.cpython-313.pyc', 'glut.cpython-313.pyc', 'gtk.cpython-313.pyc', 'gtk3.cpython-313.pyc', 'gtk4.cpython-313.pyc', 'osx.cpython-313.pyc', 'pyglet.cpython-313.pyc', 'qt.cpython-313.pyc', 'tk.cpython-313.pyc', 'wx.cpython-313.pyc', '__init__.cpython-313.pyc']\n",
      "\n",
      "Current directory path: .\\myenv\\Lib\\site-packages\\IPython\\terminal\\shortcuts\n",
      "Directories: ['__pycache__']\n",
      "Files: ['auto_match.py', 'auto_suggest.py', 'filters.py', '__init__.py']\n",
      "\n",
      "Current directory path: .\\myenv\\Lib\\site-packages\\IPython\\terminal\\shortcuts\\__pycache__\n",
      "Directories: []\n",
      "Files: ['auto_match.cpython-313.pyc', 'auto_suggest.cpython-313.pyc', 'filters.cpython-313.pyc', '__init__.cpython-313.pyc']\n",
      "\n",
      "Current directory path: .\\myenv\\Lib\\site-packages\\IPython\\terminal\\__pycache__\n",
      "Directories: []\n",
      "Files: ['debugger.cpython-313.pyc', 'embed.cpython-313.pyc', 'interactiveshell.cpython-313.pyc', 'ipapp.cpython-313.pyc', 'magics.cpython-313.pyc', 'prompts.cpython-313.pyc', 'ptutils.cpython-313.pyc', '__init__.cpython-313.pyc']\n",
      "\n",
      "Current directory path: .\\myenv\\Lib\\site-packages\\IPython\\testing\n",
      "Directories: ['plugin', '__pycache__']\n",
      "Files: ['decorators.py', 'globalipapp.py', 'ipunittest.py', 'skipdoctest.py', 'tools.py', '__init__.py']\n",
      "\n",
      "Current directory path: .\\myenv\\Lib\\site-packages\\IPython\\testing\\plugin\n",
      "Directories: ['__pycache__']\n",
      "Files: ['dtexample.py', 'ipdoctest.py', 'pytest_ipdoctest.py', 'setup.py', 'simple.py', 'simplevars.py', 'test_combo.txt', 'test_example.txt', 'test_exampleip.txt', 'test_ipdoctest.py', 'test_refs.py', '__init__.py']\n",
      "\n",
      "Current directory path: .\\myenv\\Lib\\site-packages\\IPython\\testing\\plugin\\__pycache__\n",
      "Directories: []\n",
      "Files: ['dtexample.cpython-313.pyc', 'ipdoctest.cpython-313.pyc', 'pytest_ipdoctest.cpython-313.pyc', 'setup.cpython-313.pyc', 'simple.cpython-313.pyc', 'simplevars.cpython-313.pyc', 'test_ipdoctest.cpython-313.pyc', 'test_refs.cpython-313.pyc', '__init__.cpython-313.pyc']\n",
      "\n",
      "Current directory path: .\\myenv\\Lib\\site-packages\\IPython\\testing\\__pycache__\n",
      "Directories: []\n",
      "Files: ['decorators.cpython-313.pyc', 'globalipapp.cpython-313.pyc', 'ipunittest.cpython-313.pyc', 'skipdoctest.cpython-313.pyc', 'tools.cpython-313.pyc', '__init__.cpython-313.pyc']\n",
      "\n",
      "Current directory path: .\\myenv\\Lib\\site-packages\\IPython\\utils\n",
      "Directories: ['__pycache__']\n",
      "Files: ['capture.py', 'coloransi.py', 'contexts.py', 'data.py', 'decorators.py', 'dir2.py', 'docs.py', 'encoding.py', 'eventful.py', 'frame.py', 'generics.py', 'importstring.py', 'io.py', 'ipstruct.py', 'jsonutil.py', 'log.py', 'module_paths.py', 'openpy.py', 'path.py', 'process.py', 'py3compat.py', 'PyColorize.py', 'sentinel.py', 'strdispatch.py', 'sysinfo.py', 'syspathcontext.py', 'tempdir.py', 'terminal.py', 'text.py', 'timing.py', 'tokenutil.py', 'wildcard.py', '_process_cli.py', '_process_common.py', '_process_emscripten.py', '_process_posix.py', '_process_win32.py', '_process_win32_controller.py', '_sysinfo.py', '__init__.py']\n",
      "\n",
      "Current directory path: .\\myenv\\Lib\\site-packages\\IPython\\utils\\__pycache__\n",
      "Directories: []\n",
      "Files: ['capture.cpython-313.pyc', 'coloransi.cpython-313.pyc', 'contexts.cpython-313.pyc', 'data.cpython-313.pyc', 'decorators.cpython-313.pyc', 'dir2.cpython-313.pyc', 'docs.cpython-313.pyc', 'encoding.cpython-313.pyc', 'eventful.cpython-313.pyc', 'frame.cpython-313.pyc', 'generics.cpython-313.pyc', 'importstring.cpython-313.pyc', 'io.cpython-313.pyc', 'ipstruct.cpython-313.pyc', 'jsonutil.cpython-313.pyc', 'log.cpython-313.pyc', 'module_paths.cpython-313.pyc', 'openpy.cpython-313.pyc', 'path.cpython-313.pyc', 'process.cpython-313.pyc', 'py3compat.cpython-313.pyc', 'PyColorize.cpython-313.pyc', 'sentinel.cpython-313.pyc', 'strdispatch.cpython-313.pyc', 'sysinfo.cpython-313.pyc', 'syspathcontext.cpython-313.pyc', 'tempdir.cpython-313.pyc', 'terminal.cpython-313.pyc', 'text.cpython-313.pyc', 'timing.cpython-313.pyc', 'tokenutil.cpython-313.pyc', 'wildcard.cpython-313.pyc', '_process_cli.cpython-313.pyc', '_process_common.cpython-313.pyc', '_process_emscripten.cpython-313.pyc', '_process_posix.cpython-313.pyc', '_process_win32.cpython-313.pyc', '_process_win32_controller.cpython-313.pyc', '_sysinfo.cpython-313.pyc', '__init__.cpython-313.pyc']\n",
      "\n",
      "Current directory path: .\\myenv\\Lib\\site-packages\\IPython\\__pycache__\n",
      "Directories: []\n",
      "Files: ['display.cpython-313.pyc', 'paths.cpython-313.pyc', '__init__.cpython-313.pyc', '__main__.cpython-313.pyc']\n",
      "\n",
      "Current directory path: .\\myenv\\Lib\\site-packages\\ipython-9.6.0.dist-info\n",
      "Directories: ['licenses']\n",
      "Files: ['entry_points.txt', 'INSTALLER', 'METADATA', 'RECORD', 'top_level.txt', 'WHEEL']\n",
      "\n",
      "Current directory path: .\\myenv\\Lib\\site-packages\\ipython-9.6.0.dist-info\\licenses\n",
      "Directories: []\n",
      "Files: ['COPYING.rst', 'LICENSE']\n",
      "\n",
      "Current directory path: .\\myenv\\Lib\\site-packages\\ipython_pygments_lexers-1.1.1.dist-info\n",
      "Directories: []\n",
      "Files: ['entry_points.txt', 'INSTALLER', 'LICENSE', 'METADATA', 'RECORD', 'WHEEL']\n",
      "\n",
      "Current directory path: .\\myenv\\Lib\\site-packages\\isapi\n",
      "Directories: ['doc', 'samples', 'test', '__pycache__']\n",
      "Files: ['install.py', 'isapicon.py', 'PyISAPI_loader.dll', 'README.txt', 'simple.py', 'threaded_extension.py', '__init__.py']\n",
      "\n",
      "Current directory path: .\\myenv\\Lib\\site-packages\\isapi\\doc\n",
      "Directories: []\n",
      "Files: ['isapi.html']\n",
      "\n",
      "Current directory path: .\\myenv\\Lib\\site-packages\\isapi\\samples\n",
      "Directories: ['__pycache__']\n",
      "Files: ['advanced.py', 'README.txt', 'redirector.py', 'redirector_asynch.py', 'redirector_with_filter.py', 'test.py']\n",
      "\n",
      "Current directory path: .\\myenv\\Lib\\site-packages\\isapi\\samples\\__pycache__\n",
      "Directories: []\n",
      "Files: ['advanced.cpython-313.pyc', 'redirector.cpython-313.pyc', 'redirector_asynch.cpython-313.pyc', 'redirector_with_filter.cpython-313.pyc', 'test.cpython-313.pyc']\n",
      "\n",
      "Current directory path: .\\myenv\\Lib\\site-packages\\isapi\\test\n",
      "Directories: ['__pycache__']\n",
      "Files: ['extension_simple.py', 'README.txt']\n",
      "\n",
      "Current directory path: .\\myenv\\Lib\\site-packages\\isapi\\test\\__pycache__\n",
      "Directories: []\n",
      "Files: ['extension_simple.cpython-313.pyc']\n",
      "\n",
      "Current directory path: .\\myenv\\Lib\\site-packages\\isapi\\__pycache__\n",
      "Directories: []\n",
      "Files: ['install.cpython-313.pyc', 'isapicon.cpython-313.pyc', 'simple.cpython-313.pyc', 'threaded_extension.cpython-313.pyc', '__init__.cpython-313.pyc']\n",
      "\n",
      "Current directory path: .\\myenv\\Lib\\site-packages\\jedi\n",
      "Directories: ['api', 'inference', 'plugins', 'third_party', '__pycache__']\n",
      "Files: ['cache.py', 'common.py', 'debug.py', 'file_io.py', 'parser_utils.py', 'settings.py', 'utils.py', '_compatibility.py', '__init__.py', '__main__.py']\n",
      "\n",
      "Current directory path: .\\myenv\\Lib\\site-packages\\jedi\\api\n",
      "Directories: ['refactoring', '__pycache__']\n",
      "Files: ['classes.py', 'completion.py', 'completion_cache.py', 'environment.py', 'errors.py', 'exceptions.py', 'file_name.py', 'helpers.py', 'interpreter.py', 'keywords.py', 'project.py', 'replstartup.py', 'strings.py', '__init__.py']\n",
      "\n",
      "Current directory path: .\\myenv\\Lib\\site-packages\\jedi\\api\\refactoring\n",
      "Directories: ['__pycache__']\n",
      "Files: ['extract.py', '__init__.py']\n",
      "\n",
      "Current directory path: .\\myenv\\Lib\\site-packages\\jedi\\api\\refactoring\\__pycache__\n",
      "Directories: []\n",
      "Files: ['extract.cpython-313.pyc', '__init__.cpython-313.pyc']\n",
      "\n",
      "Current directory path: .\\myenv\\Lib\\site-packages\\jedi\\api\\__pycache__\n",
      "Directories: []\n",
      "Files: ['classes.cpython-313.pyc', 'completion.cpython-313.pyc', 'completion_cache.cpython-313.pyc', 'environment.cpython-313.pyc', 'errors.cpython-313.pyc', 'exceptions.cpython-313.pyc', 'file_name.cpython-313.pyc', 'helpers.cpython-313.pyc', 'interpreter.cpython-313.pyc', 'keywords.cpython-313.pyc', 'project.cpython-313.pyc', 'replstartup.cpython-313.pyc', 'strings.cpython-313.pyc', '__init__.cpython-313.pyc']\n",
      "\n",
      "Current directory path: .\\myenv\\Lib\\site-packages\\jedi\\inference\n",
      "Directories: ['compiled', 'gradual', 'value', '__pycache__']\n",
      "Files: ['analysis.py', 'arguments.py', 'base_value.py', 'cache.py', 'context.py', 'docstrings.py', 'docstring_utils.py', 'dynamic_params.py', 'filters.py', 'finder.py', 'flow_analysis.py', 'helpers.py', 'imports.py', 'lazy_value.py', 'names.py', 'param.py', 'parser_cache.py', 'recursion.py', 'references.py', 'signature.py', 'star_args.py', 'syntax_tree.py', 'sys_path.py', 'utils.py', '__init__.py']\n",
      "\n",
      "Current directory path: .\\myenv\\Lib\\site-packages\\jedi\\inference\\compiled\n",
      "Directories: ['subprocess', '__pycache__']\n",
      "Files: ['access.py', 'getattr_static.py', 'mixed.py', 'value.py', '__init__.py']\n",
      "\n",
      "Current directory path: .\\myenv\\Lib\\site-packages\\jedi\\inference\\compiled\\subprocess\n",
      "Directories: ['__pycache__']\n",
      "Files: ['functions.py', '__init__.py', '__main__.py']\n",
      "\n",
      "Current directory path: .\\myenv\\Lib\\site-packages\\jedi\\inference\\compiled\\subprocess\\__pycache__\n",
      "Directories: []\n",
      "Files: ['functions.cpython-313.pyc', '__init__.cpython-313.pyc', '__main__.cpython-313.pyc']\n",
      "\n",
      "Current directory path: .\\myenv\\Lib\\site-packages\\jedi\\inference\\compiled\\__pycache__\n",
      "Directories: []\n",
      "Files: ['access.cpython-313.pyc', 'getattr_static.cpython-313.pyc', 'mixed.cpython-313.pyc', 'value.cpython-313.pyc', '__init__.cpython-313.pyc']\n",
      "\n",
      "Current directory path: .\\myenv\\Lib\\site-packages\\jedi\\inference\\gradual\n",
      "Directories: ['__pycache__']\n",
      "Files: ['annotation.py', 'base.py', 'conversion.py', 'generics.py', 'stub_value.py', 'typeshed.py', 'type_var.py', 'typing.py', 'utils.py', '__init__.py']\n",
      "\n",
      "Current directory path: .\\myenv\\Lib\\site-packages\\jedi\\inference\\gradual\\__pycache__\n",
      "Directories: []\n",
      "Files: ['annotation.cpython-313.pyc', 'base.cpython-313.pyc', 'conversion.cpython-313.pyc', 'generics.cpython-313.pyc', 'stub_value.cpython-313.pyc', 'typeshed.cpython-313.pyc', 'type_var.cpython-313.pyc', 'typing.cpython-313.pyc', 'utils.cpython-313.pyc', '__init__.cpython-313.pyc']\n",
      "\n",
      "Current directory path: .\\myenv\\Lib\\site-packages\\jedi\\inference\\value\n",
      "Directories: ['__pycache__']\n",
      "Files: ['decorator.py', 'dynamic_arrays.py', 'function.py', 'instance.py', 'iterable.py', 'klass.py', 'module.py', 'namespace.py', '__init__.py']\n",
      "\n",
      "Current directory path: .\\myenv\\Lib\\site-packages\\jedi\\inference\\value\\__pycache__\n",
      "Directories: []\n",
      "Files: ['decorator.cpython-313.pyc', 'dynamic_arrays.cpython-313.pyc', 'function.cpython-313.pyc', 'instance.cpython-313.pyc', 'iterable.cpython-313.pyc', 'klass.cpython-313.pyc', 'module.cpython-313.pyc', 'namespace.cpython-313.pyc', '__init__.cpython-313.pyc']\n",
      "\n",
      "Current directory path: .\\myenv\\Lib\\site-packages\\jedi\\inference\\__pycache__\n",
      "Directories: []\n",
      "Files: ['analysis.cpython-313.pyc', 'arguments.cpython-313.pyc', 'base_value.cpython-313.pyc', 'cache.cpython-313.pyc', 'context.cpython-313.pyc', 'docstrings.cpython-313.pyc', 'docstring_utils.cpython-313.pyc', 'dynamic_params.cpython-313.pyc', 'filters.cpython-313.pyc', 'finder.cpython-313.pyc', 'flow_analysis.cpython-313.pyc', 'helpers.cpython-313.pyc', 'imports.cpython-313.pyc', 'lazy_value.cpython-313.pyc', 'names.cpython-313.pyc', 'param.cpython-313.pyc', 'parser_cache.cpython-313.pyc', 'recursion.cpython-313.pyc', 'references.cpython-313.pyc', 'signature.cpython-313.pyc', 'star_args.cpython-313.pyc', 'syntax_tree.cpython-313.pyc', 'sys_path.cpython-313.pyc', 'utils.cpython-313.pyc', '__init__.cpython-313.pyc']\n",
      "\n",
      "Current directory path: .\\myenv\\Lib\\site-packages\\jedi\\plugins\n",
      "Directories: ['__pycache__']\n",
      "Files: ['django.py', 'flask.py', 'pytest.py', 'registry.py', 'stdlib.py', '__init__.py']\n",
      "\n",
      "Current directory path: .\\myenv\\Lib\\site-packages\\jedi\\plugins\\__pycache__\n",
      "Directories: []\n",
      "Files: ['django.cpython-313.pyc', 'flask.cpython-313.pyc', 'pytest.cpython-313.pyc', 'registry.cpython-313.pyc', 'stdlib.cpython-313.pyc', '__init__.cpython-313.pyc']\n",
      "\n",
      "Current directory path: .\\myenv\\Lib\\site-packages\\jedi\\third_party\n",
      "Directories: ['django-stubs', 'typeshed']\n",
      "Files: []\n",
      "\n",
      "Current directory path: .\\myenv\\Lib\\site-packages\\jedi\\third_party\\django-stubs\n",
      "Directories: ['django-stubs']\n",
      "Files: ['LICENSE.txt']\n",
      "\n",
      "Current directory path: .\\myenv\\Lib\\site-packages\\jedi\\third_party\\django-stubs\\django-stubs\n",
      "Directories: ['apps', 'conf', 'contrib', 'core', 'db', 'dispatch', 'forms', 'http', 'middleware', 'template', 'templatetags', 'test', 'urls', 'utils', 'views']\n",
      "Files: ['shortcuts.pyi', '__init__.pyi']\n",
      "\n",
      "Current directory path: .\\myenv\\Lib\\site-packages\\jedi\\third_party\\django-stubs\\django-stubs\\apps\n",
      "Directories: []\n",
      "Files: ['config.pyi', 'registry.pyi', '__init__.pyi']\n",
      "\n",
      "Current directory path: .\\myenv\\Lib\\site-packages\\jedi\\third_party\\django-stubs\\django-stubs\\conf\n",
      "Directories: ['locale', 'urls']\n",
      "Files: ['global_settings.pyi', '__init__.pyi']\n",
      "\n",
      "Current directory path: .\\myenv\\Lib\\site-packages\\jedi\\third_party\\django-stubs\\django-stubs\\conf\\locale\n",
      "Directories: []\n",
      "Files: ['__init__.pyi']\n",
      "\n",
      "Current directory path: .\\myenv\\Lib\\site-packages\\jedi\\third_party\\django-stubs\\django-stubs\\conf\\urls\n",
      "Directories: []\n",
      "Files: ['i18n.pyi', 'static.pyi', '__init__.pyi']\n",
      "\n",
      "Current directory path: .\\myenv\\Lib\\site-packages\\jedi\\third_party\\django-stubs\\django-stubs\\contrib\n",
      "Directories: ['admin', 'admindocs', 'auth', 'contenttypes', 'flatpages', 'gis', 'humanize', 'messages', 'postgres', 'redirects', 'sessions', 'sitemaps', 'sites', 'staticfiles', 'syndication']\n",
      "Files: ['__init__.pyi']\n",
      "\n",
      "Current directory path: .\\myenv\\Lib\\site-packages\\jedi\\third_party\\django-stubs\\django-stubs\\contrib\\admin\n",
      "Directories: ['templatetags', 'views']\n",
      "Files: ['actions.pyi', 'apps.pyi', 'checks.pyi', 'decorators.pyi', 'filters.pyi', 'forms.pyi', 'helpers.pyi', 'models.pyi', 'options.pyi', 'sites.pyi', 'tests.pyi', 'utils.pyi', 'widgets.pyi', '__init__.pyi']\n",
      "\n",
      "Current directory path: .\\myenv\\Lib\\site-packages\\jedi\\third_party\\django-stubs\\django-stubs\\contrib\\admin\\templatetags\n",
      "Directories: []\n",
      "Files: ['admin_list.pyi', 'admin_modify.pyi', 'admin_static.pyi', 'admin_urls.pyi', 'base.pyi', 'log.pyi', '__init__.pyi']\n",
      "\n",
      "Current directory path: .\\myenv\\Lib\\site-packages\\jedi\\third_party\\django-stubs\\django-stubs\\contrib\\admin\\views\n",
      "Directories: []\n",
      "Files: ['autocomplete.pyi', 'decorators.pyi', 'main.pyi', '__init__.pyi']\n",
      "\n",
      "Current directory path: .\\myenv\\Lib\\site-packages\\jedi\\third_party\\django-stubs\\django-stubs\\contrib\\admindocs\n",
      "Directories: []\n",
      "Files: ['middleware.pyi', 'urls.pyi', 'utils.pyi', 'views.pyi', '__init__.pyi']\n",
      "\n",
      "Current directory path: .\\myenv\\Lib\\site-packages\\jedi\\third_party\\django-stubs\\django-stubs\\contrib\\auth\n",
      "Directories: ['handlers', 'management']\n",
      "Files: ['admin.pyi', 'apps.pyi', 'backends.pyi', 'base_user.pyi', 'checks.pyi', 'context_processors.pyi', 'decorators.pyi', 'forms.pyi', 'hashers.pyi', 'middleware.pyi', 'mixins.pyi', 'models.pyi', 'password_validation.pyi', 'signals.pyi', 'tokens.pyi', 'urls.pyi', 'validators.pyi', 'views.pyi', '__init__.pyi']\n",
      "\n",
      "Current directory path: .\\myenv\\Lib\\site-packages\\jedi\\third_party\\django-stubs\\django-stubs\\contrib\\auth\\handlers\n",
      "Directories: []\n",
      "Files: ['modwsgi.pyi', '__init__.pyi']\n",
      "\n",
      "Current directory path: .\\myenv\\Lib\\site-packages\\jedi\\third_party\\django-stubs\\django-stubs\\contrib\\auth\\management\n",
      "Directories: ['commands']\n",
      "Files: ['__init__.pyi']\n",
      "\n",
      "Current directory path: .\\myenv\\Lib\\site-packages\\jedi\\third_party\\django-stubs\\django-stubs\\contrib\\auth\\management\\commands\n",
      "Directories: []\n",
      "Files: ['changepassword.pyi', 'createsuperuser.pyi', '__init__.pyi']\n",
      "\n",
      "Current directory path: .\\myenv\\Lib\\site-packages\\jedi\\third_party\\django-stubs\\django-stubs\\contrib\\contenttypes\n",
      "Directories: ['management']\n",
      "Files: ['admin.pyi', 'apps.pyi', 'checks.pyi', 'fields.pyi', 'forms.pyi', 'models.pyi', 'views.pyi', '__init__.pyi']\n",
      "\n",
      "Current directory path: .\\myenv\\Lib\\site-packages\\jedi\\third_party\\django-stubs\\django-stubs\\contrib\\contenttypes\\management\n",
      "Directories: ['commands']\n",
      "Files: ['__init__.pyi']\n",
      "\n",
      "Current directory path: .\\myenv\\Lib\\site-packages\\jedi\\third_party\\django-stubs\\django-stubs\\contrib\\contenttypes\\management\\commands\n",
      "Directories: []\n",
      "Files: ['remove_stale_contenttypes.pyi', '__init__.pyi']\n",
      "\n",
      "Current directory path: .\\myenv\\Lib\\site-packages\\jedi\\third_party\\django-stubs\\django-stubs\\contrib\\flatpages\n",
      "Directories: ['templatetags']\n",
      "Files: ['forms.pyi', 'middleware.pyi', 'models.pyi', 'sitemaps.pyi', 'urls.pyi', 'views.pyi', '__init__.pyi']\n",
      "\n",
      "Current directory path: .\\myenv\\Lib\\site-packages\\jedi\\third_party\\django-stubs\\django-stubs\\contrib\\flatpages\\templatetags\n",
      "Directories: []\n",
      "Files: ['flatpages.pyi', '__init__.pyi']\n",
      "\n",
      "Current directory path: .\\myenv\\Lib\\site-packages\\jedi\\third_party\\django-stubs\\django-stubs\\contrib\\gis\n",
      "Directories: ['db']\n",
      "Files: ['__init__.pyi']\n",
      "\n",
      "Current directory path: .\\myenv\\Lib\\site-packages\\jedi\\third_party\\django-stubs\\django-stubs\\contrib\\gis\\db\n",
      "Directories: ['models']\n",
      "Files: ['__init__.pyi']\n",
      "\n",
      "Current directory path: .\\myenv\\Lib\\site-packages\\jedi\\third_party\\django-stubs\\django-stubs\\contrib\\gis\\db\\models\n",
      "Directories: []\n",
      "Files: ['fields.pyi', '__init__.pyi']\n",
      "\n",
      "Current directory path: .\\myenv\\Lib\\site-packages\\jedi\\third_party\\django-stubs\\django-stubs\\contrib\\humanize\n",
      "Directories: ['templatetags']\n",
      "Files: ['__init__.pyi']\n",
      "\n",
      "Current directory path: .\\myenv\\Lib\\site-packages\\jedi\\third_party\\django-stubs\\django-stubs\\contrib\\humanize\\templatetags\n",
      "Directories: []\n",
      "Files: ['humanize.pyi', '__init__.pyi']\n",
      "\n",
      "Current directory path: .\\myenv\\Lib\\site-packages\\jedi\\third_party\\django-stubs\\django-stubs\\contrib\\messages\n",
      "Directories: ['storage']\n",
      "Files: ['api.pyi', 'constants.pyi', 'context_processors.pyi', 'middleware.pyi', 'utils.pyi', 'views.pyi', '__init__.pyi']\n",
      "\n",
      "Current directory path: .\\myenv\\Lib\\site-packages\\jedi\\third_party\\django-stubs\\django-stubs\\contrib\\messages\\storage\n",
      "Directories: []\n",
      "Files: ['base.pyi', 'cookie.pyi', 'fallback.pyi', 'session.pyi', '__init__.pyi']\n",
      "\n",
      "Current directory path: .\\myenv\\Lib\\site-packages\\jedi\\third_party\\django-stubs\\django-stubs\\contrib\\postgres\n",
      "Directories: ['aggregates', 'fields']\n",
      "Files: ['constraints.pyi', 'functions.pyi', 'indexes.pyi', 'lookups.pyi', 'operations.pyi', 'search.pyi', 'signals.pyi', 'validators.pyi', '__init__.pyi']\n",
      "\n",
      "Current directory path: .\\myenv\\Lib\\site-packages\\jedi\\third_party\\django-stubs\\django-stubs\\contrib\\postgres\\aggregates\n",
      "Directories: []\n",
      "Files: ['general.pyi', 'mixins.pyi', 'statistics.pyi', '__init__.pyi']\n",
      "\n",
      "Current directory path: .\\myenv\\Lib\\site-packages\\jedi\\third_party\\django-stubs\\django-stubs\\contrib\\postgres\\fields\n",
      "Directories: []\n",
      "Files: ['array.pyi', 'citext.pyi', 'hstore.pyi', 'jsonb.pyi', 'mixins.pyi', 'ranges.pyi', '__init__.pyi']\n",
      "\n",
      "Current directory path: .\\myenv\\Lib\\site-packages\\jedi\\third_party\\django-stubs\\django-stubs\\contrib\\redirects\n",
      "Directories: []\n",
      "Files: ['middleware.pyi', 'models.pyi', '__init__.pyi']\n",
      "\n",
      "Current directory path: .\\myenv\\Lib\\site-packages\\jedi\\third_party\\django-stubs\\django-stubs\\contrib\\sessions\n",
      "Directories: ['backends', 'management']\n",
      "Files: ['base_session.pyi', 'exceptions.pyi', 'middleware.pyi', 'models.pyi', 'serializers.pyi', '__init__.pyi']\n",
      "\n",
      "Current directory path: .\\myenv\\Lib\\site-packages\\jedi\\third_party\\django-stubs\\django-stubs\\contrib\\sessions\\backends\n",
      "Directories: []\n",
      "Files: ['base.pyi', 'cache.pyi', 'cached_db.pyi', 'db.pyi', 'file.pyi', 'signed_cookies.pyi', '__init__.pyi']\n",
      "\n",
      "Current directory path: .\\myenv\\Lib\\site-packages\\jedi\\third_party\\django-stubs\\django-stubs\\contrib\\sessions\\management\n",
      "Directories: ['commands']\n",
      "Files: ['__init__.pyi']\n",
      "\n",
      "Current directory path: .\\myenv\\Lib\\site-packages\\jedi\\third_party\\django-stubs\\django-stubs\\contrib\\sessions\\management\\commands\n",
      "Directories: []\n",
      "Files: ['clearsessions.pyi', '__init__.pyi']\n",
      "\n",
      "Current directory path: .\\myenv\\Lib\\site-packages\\jedi\\third_party\\django-stubs\\django-stubs\\contrib\\sitemaps\n",
      "Directories: ['management']\n",
      "Files: ['views.pyi', '__init__.pyi']\n",
      "\n",
      "Current directory path: .\\myenv\\Lib\\site-packages\\jedi\\third_party\\django-stubs\\django-stubs\\contrib\\sitemaps\\management\n",
      "Directories: ['commands']\n",
      "Files: ['__init__.pyi']\n",
      "\n",
      "Current directory path: .\\myenv\\Lib\\site-packages\\jedi\\third_party\\django-stubs\\django-stubs\\contrib\\sitemaps\\management\\commands\n",
      "Directories: []\n",
      "Files: ['ping_google.pyi', '__init__.pyi']\n",
      "\n",
      "Current directory path: .\\myenv\\Lib\\site-packages\\jedi\\third_party\\django-stubs\\django-stubs\\contrib\\sites\n",
      "Directories: []\n",
      "Files: ['apps.pyi', 'management.pyi', 'managers.pyi', 'middleware.pyi', 'models.pyi', 'requests.pyi', 'shortcuts.pyi', '__init__.pyi']\n",
      "\n",
      "Current directory path: .\\myenv\\Lib\\site-packages\\jedi\\third_party\\django-stubs\\django-stubs\\contrib\\staticfiles\n",
      "Directories: ['management', 'templatetags']\n",
      "Files: ['apps.pyi', 'checks.pyi', 'finders.pyi', 'handlers.pyi', 'storage.pyi', 'testing.pyi', 'urls.pyi', 'utils.pyi', 'views.pyi', '__init__.pyi']\n",
      "\n",
      "Current directory path: .\\myenv\\Lib\\site-packages\\jedi\\third_party\\django-stubs\\django-stubs\\contrib\\staticfiles\\management\n",
      "Directories: ['commands']\n",
      "Files: ['__init__.pyi']\n",
      "\n",
      "Current directory path: .\\myenv\\Lib\\site-packages\\jedi\\third_party\\django-stubs\\django-stubs\\contrib\\staticfiles\\management\\commands\n",
      "Directories: []\n",
      "Files: ['collectstatic.pyi', 'findstatic.pyi', 'runserver.pyi', '__init__.pyi']\n",
      "\n",
      "Current directory path: .\\myenv\\Lib\\site-packages\\jedi\\third_party\\django-stubs\\django-stubs\\contrib\\staticfiles\\templatetags\n",
      "Directories: []\n",
      "Files: ['staticfiles.pyi', '__init__.pyi']\n",
      "\n",
      "Current directory path: .\\myenv\\Lib\\site-packages\\jedi\\third_party\\django-stubs\\django-stubs\\contrib\\syndication\n",
      "Directories: []\n",
      "Files: ['views.pyi', '__init__.pyi']\n",
      "\n",
      "Current directory path: .\\myenv\\Lib\\site-packages\\jedi\\third_party\\django-stubs\\django-stubs\\core\n",
      "Directories: ['cache', 'checks', 'files', 'handlers', 'mail', 'management', 'serializers', 'servers']\n",
      "Files: ['exceptions.pyi', 'paginator.pyi', 'signals.pyi', 'signing.pyi', 'validators.pyi', 'wsgi.pyi', '__init__.pyi']\n",
      "\n",
      "Current directory path: .\\myenv\\Lib\\site-packages\\jedi\\third_party\\django-stubs\\django-stubs\\core\\cache\n",
      "Directories: ['backends']\n",
      "Files: ['utils.pyi', '__init__.pyi']\n",
      "\n",
      "Current directory path: .\\myenv\\Lib\\site-packages\\jedi\\third_party\\django-stubs\\django-stubs\\core\\cache\\backends\n",
      "Directories: []\n",
      "Files: ['base.pyi', 'db.pyi', 'dummy.pyi', 'filebased.pyi', 'locmem.pyi', 'memcached.pyi', '__init__.pyi']\n",
      "\n",
      "Current directory path: .\\myenv\\Lib\\site-packages\\jedi\\third_party\\django-stubs\\django-stubs\\core\\checks\n",
      "Directories: ['security']\n",
      "Files: ['caches.pyi', 'database.pyi', 'messages.pyi', 'model_checks.pyi', 'registry.pyi', 'templates.pyi', 'translation.pyi', 'urls.pyi', '__init__.pyi']\n",
      "\n",
      "Current directory path: .\\myenv\\Lib\\site-packages\\jedi\\third_party\\django-stubs\\django-stubs\\core\\checks\\security\n",
      "Directories: []\n",
      "Files: ['base.pyi', 'csrf.pyi', 'sessions.pyi', '__init__.pyi']\n",
      "\n",
      "Current directory path: .\\myenv\\Lib\\site-packages\\jedi\\third_party\\django-stubs\\django-stubs\\core\\files\n",
      "Directories: []\n",
      "Files: ['base.pyi', 'images.pyi', 'locks.pyi', 'move.pyi', 'storage.pyi', 'temp.pyi', 'uploadedfile.pyi', 'uploadhandler.pyi', 'utils.pyi', '__init__.pyi']\n",
      "\n",
      "Current directory path: .\\myenv\\Lib\\site-packages\\jedi\\third_party\\django-stubs\\django-stubs\\core\\handlers\n",
      "Directories: []\n",
      "Files: ['base.pyi', 'exception.pyi', 'wsgi.pyi', '__init__.pyi']\n",
      "\n",
      "Current directory path: .\\myenv\\Lib\\site-packages\\jedi\\third_party\\django-stubs\\django-stubs\\core\\mail\n",
      "Directories: ['backends']\n",
      "Files: ['message.pyi', 'utils.pyi', '__init__.pyi']\n",
      "\n",
      "Current directory path: .\\myenv\\Lib\\site-packages\\jedi\\third_party\\django-stubs\\django-stubs\\core\\mail\\backends\n",
      "Directories: []\n",
      "Files: ['base.pyi', 'console.pyi', 'dummy.pyi', 'filebased.pyi', 'locmem.pyi', 'smtp.pyi', '__init__.pyi']\n",
      "\n",
      "Current directory path: .\\myenv\\Lib\\site-packages\\jedi\\third_party\\django-stubs\\django-stubs\\core\\management\n",
      "Directories: ['commands']\n",
      "Files: ['base.pyi', 'color.pyi', 'sql.pyi', 'templates.pyi', 'utils.pyi', '__init__.pyi']\n",
      "\n",
      "Current directory path: .\\myenv\\Lib\\site-packages\\jedi\\third_party\\django-stubs\\django-stubs\\core\\management\\commands\n",
      "Directories: []\n",
      "Files: ['dumpdata.pyi', 'loaddata.pyi', 'makemessages.pyi', 'runserver.pyi', 'testserver.pyi', '__init__.pyi']\n",
      "\n",
      "Current directory path: .\\myenv\\Lib\\site-packages\\jedi\\third_party\\django-stubs\\django-stubs\\core\\serializers\n",
      "Directories: []\n",
      "Files: ['base.pyi', 'json.pyi', 'python.pyi', '__init__.pyi']\n",
      "\n",
      "Current directory path: .\\myenv\\Lib\\site-packages\\jedi\\third_party\\django-stubs\\django-stubs\\core\\servers\n",
      "Directories: []\n",
      "Files: ['basehttp.pyi', '__init__.pyi']\n",
      "\n",
      "Current directory path: .\\myenv\\Lib\\site-packages\\jedi\\third_party\\django-stubs\\django-stubs\\db\n",
      "Directories: ['backends', 'migrations', 'models']\n",
      "Files: ['transaction.pyi', 'utils.pyi', '__init__.pyi']\n",
      "\n",
      "Current directory path: .\\myenv\\Lib\\site-packages\\jedi\\third_party\\django-stubs\\django-stubs\\db\\backends\n",
      "Directories: ['base', 'dummy', 'mysql', 'postgresql', 'sqlite3']\n",
      "Files: ['ddl_references.pyi', 'signals.pyi', 'utils.pyi', '__init__.pyi']\n",
      "\n",
      "Current directory path: .\\myenv\\Lib\\site-packages\\jedi\\third_party\\django-stubs\\django-stubs\\db\\backends\\base\n",
      "Directories: []\n",
      "Files: ['base.pyi', 'client.pyi', 'creation.pyi', 'features.pyi', 'introspection.pyi', 'operations.pyi', 'schema.pyi', 'validation.pyi', '__init__.pyi']\n",
      "\n",
      "Current directory path: .\\myenv\\Lib\\site-packages\\jedi\\third_party\\django-stubs\\django-stubs\\db\\backends\\dummy\n",
      "Directories: []\n",
      "Files: ['base.pyi', '__init__.pyi']\n",
      "\n",
      "Current directory path: .\\myenv\\Lib\\site-packages\\jedi\\third_party\\django-stubs\\django-stubs\\db\\backends\\mysql\n",
      "Directories: []\n",
      "Files: ['client.pyi', '__init__.pyi']\n",
      "\n",
      "Current directory path: .\\myenv\\Lib\\site-packages\\jedi\\third_party\\django-stubs\\django-stubs\\db\\backends\\postgresql\n",
      "Directories: []\n",
      "Files: ['base.pyi', 'client.pyi', 'creation.pyi', 'operations.pyi', '__init__.pyi']\n",
      "\n",
      "Current directory path: .\\myenv\\Lib\\site-packages\\jedi\\third_party\\django-stubs\\django-stubs\\db\\backends\\sqlite3\n",
      "Directories: []\n",
      "Files: ['base.pyi', 'creation.pyi', 'features.pyi', 'introspection.pyi', 'operations.pyi', 'schema.pyi', '__init__.pyi']\n",
      "\n",
      "Current directory path: .\\myenv\\Lib\\site-packages\\jedi\\third_party\\django-stubs\\django-stubs\\db\\migrations\n",
      "Directories: ['operations']\n",
      "Files: ['autodetector.pyi', 'exceptions.pyi', 'executor.pyi', 'graph.pyi', 'loader.pyi', 'migration.pyi', 'optimizer.pyi', 'questioner.pyi', 'recorder.pyi', 'serializer.pyi', 'state.pyi', 'topological_sort.pyi', 'utils.pyi', 'writer.pyi', '__init__.pyi']\n",
      "\n",
      "Current directory path: .\\myenv\\Lib\\site-packages\\jedi\\third_party\\django-stubs\\django-stubs\\db\\migrations\\operations\n",
      "Directories: []\n",
      "Files: ['base.pyi', 'fields.pyi', 'models.pyi', 'special.pyi', 'utils.pyi', '__init__.pyi']\n",
      "\n",
      "Current directory path: .\\myenv\\Lib\\site-packages\\jedi\\third_party\\django-stubs\\django-stubs\\db\\models\n",
      "Directories: ['fields', 'functions', 'sql']\n",
      "Files: ['aggregates.pyi', 'base.pyi', 'constraints.pyi', 'deletion.pyi', 'enums.pyi', 'expressions.pyi', 'indexes.pyi', 'lookups.pyi', 'manager.pyi', 'options.pyi', 'query.pyi', 'query_utils.pyi', 'signals.pyi', 'utils.pyi', '__init__.pyi']\n",
      "\n",
      "Current directory path: .\\myenv\\Lib\\site-packages\\jedi\\third_party\\django-stubs\\django-stubs\\db\\models\\fields\n",
      "Directories: []\n",
      "Files: ['files.pyi', 'mixins.pyi', 'proxy.pyi', 'related.pyi', 'related_descriptors.pyi', 'related_lookups.pyi', 'reverse_related.pyi', '__init__.pyi']\n",
      "\n",
      "Current directory path: .\\myenv\\Lib\\site-packages\\jedi\\third_party\\django-stubs\\django-stubs\\db\\models\\functions\n",
      "Directories: []\n",
      "Files: ['comparison.pyi', 'datetime.pyi', 'math.pyi', 'mixins.pyi', 'text.pyi', 'window.pyi', '__init__.pyi']\n",
      "\n",
      "Current directory path: .\\myenv\\Lib\\site-packages\\jedi\\third_party\\django-stubs\\django-stubs\\db\\models\\sql\n",
      "Directories: []\n",
      "Files: ['compiler.pyi', 'constants.pyi', 'datastructures.pyi', 'query.pyi', 'subqueries.pyi', 'where.pyi', '__init__.pyi']\n",
      "\n",
      "Current directory path: .\\myenv\\Lib\\site-packages\\jedi\\third_party\\django-stubs\\django-stubs\\dispatch\n",
      "Directories: []\n",
      "Files: ['dispatcher.pyi', '__init__.pyi']\n",
      "\n",
      "Current directory path: .\\myenv\\Lib\\site-packages\\jedi\\third_party\\django-stubs\\django-stubs\\forms\n",
      "Directories: []\n",
      "Files: ['boundfield.pyi', 'fields.pyi', 'forms.pyi', 'formsets.pyi', 'models.pyi', 'renderers.pyi', 'utils.pyi', 'widgets.pyi', '__init__.pyi']\n",
      "\n",
      "Current directory path: .\\myenv\\Lib\\site-packages\\jedi\\third_party\\django-stubs\\django-stubs\\http\n",
      "Directories: []\n",
      "Files: ['cookie.pyi', 'multipartparser.pyi', 'request.pyi', 'response.pyi', '__init__.pyi']\n",
      "\n",
      "Current directory path: .\\myenv\\Lib\\site-packages\\jedi\\third_party\\django-stubs\\django-stubs\\middleware\n",
      "Directories: []\n",
      "Files: ['cache.pyi', 'clickjacking.pyi', 'common.pyi', 'csrf.pyi', 'gzip.pyi', 'http.pyi', 'locale.pyi', 'security.pyi', '__init__.pyi']\n",
      "\n",
      "Current directory path: .\\myenv\\Lib\\site-packages\\jedi\\third_party\\django-stubs\\django-stubs\\template\n",
      "Directories: ['backends', 'loaders']\n",
      "Files: ['base.pyi', 'context.pyi', 'context_processors.pyi', 'defaultfilters.pyi', 'defaulttags.pyi', 'engine.pyi', 'exceptions.pyi', 'library.pyi', 'loader.pyi', 'loader_tags.pyi', 'response.pyi', 'smartif.pyi', 'utils.pyi', '__init__.pyi']\n",
      "\n",
      "Current directory path: .\\myenv\\Lib\\site-packages\\jedi\\third_party\\django-stubs\\django-stubs\\template\\backends\n",
      "Directories: []\n",
      "Files: ['base.pyi', 'django.pyi', 'dummy.pyi', 'jinja2.pyi', 'utils.pyi', '__init__.pyi']\n",
      "\n",
      "Current directory path: .\\myenv\\Lib\\site-packages\\jedi\\third_party\\django-stubs\\django-stubs\\template\\loaders\n",
      "Directories: []\n",
      "Files: ['app_directories.pyi', 'base.pyi', 'cached.pyi', 'filesystem.pyi', 'locmem.pyi', '__init__.pyi']\n",
      "\n",
      "Current directory path: .\\myenv\\Lib\\site-packages\\jedi\\third_party\\django-stubs\\django-stubs\\templatetags\n",
      "Directories: []\n",
      "Files: ['cache.pyi', 'i18n.pyi', 'l10n.pyi', 'static.pyi', 'tz.pyi', '__init__.pyi']\n",
      "\n",
      "Current directory path: .\\myenv\\Lib\\site-packages\\jedi\\third_party\\django-stubs\\django-stubs\\test\n",
      "Directories: []\n",
      "Files: ['client.pyi', 'html.pyi', 'runner.pyi', 'selenium.pyi', 'signals.pyi', 'testcases.pyi', 'utils.pyi', '__init__.pyi']\n",
      "\n",
      "Current directory path: .\\myenv\\Lib\\site-packages\\jedi\\third_party\\django-stubs\\django-stubs\\urls\n",
      "Directories: []\n",
      "Files: ['base.pyi', 'conf.pyi', 'converters.pyi', 'exceptions.pyi', 'resolvers.pyi', 'utils.pyi', '__init__.pyi']\n",
      "\n",
      "Current directory path: .\\myenv\\Lib\\site-packages\\jedi\\third_party\\django-stubs\\django-stubs\\utils\n",
      "Directories: ['translation']\n",
      "Files: ['archive.pyi', 'autoreload.pyi', 'baseconv.pyi', 'cache.pyi', 'crypto.pyi', 'datastructures.pyi', 'dateformat.pyi', 'dateparse.pyi', 'dates.pyi', 'datetime_safe.pyi', 'deconstruct.pyi', 'decorators.pyi', 'deprecation.pyi', 'duration.pyi', 'encoding.pyi', 'feedgenerator.pyi', 'formats.pyi', 'functional.pyi', 'hashable.pyi', 'html.pyi', 'http.pyi', 'inspect.pyi', 'ipv6.pyi', 'itercompat.pyi', 'jslex.pyi', 'log.pyi', 'lorem_ipsum.pyi', 'module_loading.pyi', 'numberformat.pyi', 'regex_helper.pyi', 'safestring.pyi', 'six.pyi', 'termcolors.pyi', 'text.pyi', 'timesince.pyi', 'timezone.pyi', 'topological_sort.pyi', 'tree.pyi', 'version.pyi', 'xmlutils.pyi', '_os.pyi', '__init__.pyi']\n",
      "\n",
      "Current directory path: .\\myenv\\Lib\\site-packages\\jedi\\third_party\\django-stubs\\django-stubs\\utils\\translation\n",
      "Directories: []\n",
      "Files: ['reloader.pyi', 'template.pyi', 'trans_null.pyi', 'trans_real.pyi', '__init__.pyi']\n",
      "\n",
      "Current directory path: .\\myenv\\Lib\\site-packages\\jedi\\third_party\\django-stubs\\django-stubs\\views\n",
      "Directories: ['decorators', 'generic']\n",
      "Files: ['csrf.pyi', 'debug.pyi', 'defaults.pyi', 'i18n.pyi', 'static.pyi', '__init__.pyi']\n",
      "\n",
      "Current directory path: .\\myenv\\Lib\\site-packages\\jedi\\third_party\\django-stubs\\django-stubs\\views\\decorators\n",
      "Directories: []\n",
      "Files: ['cache.pyi', 'clickjacking.pyi', 'csrf.pyi', 'debug.pyi', 'gzip.pyi', 'http.pyi', 'vary.pyi', '__init__.pyi']\n",
      "\n",
      "Current directory path: .\\myenv\\Lib\\site-packages\\jedi\\third_party\\django-stubs\\django-stubs\\views\\generic\n",
      "Directories: []\n",
      "Files: ['base.pyi', 'dates.pyi', 'detail.pyi', 'edit.pyi', 'list.pyi', '__init__.pyi']\n",
      "\n",
      "Current directory path: .\\myenv\\Lib\\site-packages\\jedi\\third_party\\typeshed\n",
      "Directories: ['stdlib', 'third_party']\n",
      "Files: ['LICENSE']\n",
      "\n",
      "Current directory path: .\\myenv\\Lib\\site-packages\\jedi\\third_party\\typeshed\\stdlib\n",
      "Directories: ['2', '2and3', '3', '3.7', '3.9']\n",
      "Files: []\n",
      "\n",
      "Current directory path: .\\myenv\\Lib\\site-packages\\jedi\\third_party\\typeshed\\stdlib\\2\n",
      "Directories: ['distutils', 'email', 'encodings', 'multiprocessing', 'os']\n",
      "Files: ['abc.pyi', 'ast.pyi', 'atexit.pyi', 'BaseHTTPServer.pyi', 'builtins.pyi', 'CGIHTTPServer.pyi', 'collections.pyi', 'commands.pyi', 'compileall.pyi', 'ConfigParser.pyi', 'Cookie.pyi', 'cookielib.pyi', 'copy_reg.pyi', 'cPickle.pyi', 'cStringIO.pyi', 'dircache.pyi', 'dummy_thread.pyi', 'exceptions.pyi', 'fcntl.pyi', 'fnmatch.pyi', 'functools.pyi', 'future_builtins.pyi', 'gc.pyi', 'getopt.pyi', 'getpass.pyi', 'gettext.pyi', 'glob.pyi', 'gzip.pyi', 'hashlib.pyi', 'heapq.pyi', 'htmlentitydefs.pyi', 'HTMLParser.pyi', 'httplib.pyi', 'imp.pyi', 'importlib.pyi', 'inspect.pyi', 'io.pyi', 'itertools.pyi', 'json.pyi', 'markupbase.pyi', 'md5.pyi', 'mimetools.pyi', 'mutex.pyi', 'ntpath.pyi', 'nturl2path.pyi', 'os2emxpath.pyi', 'pipes.pyi', 'platform.pyi', 'popen2.pyi', 'posix.pyi', 'posixpath.pyi', 'Queue.pyi', 'random.pyi', 're.pyi', 'repr.pyi', 'resource.pyi', 'rfc822.pyi', 'robotparser.pyi', 'runpy.pyi', 'sets.pyi', 'sha.pyi', 'shelve.pyi', 'shlex.pyi', 'signal.pyi', 'SimpleHTTPServer.pyi', 'smtplib.pyi', 'SocketServer.pyi', 'spwd.pyi', 'sre_constants.pyi', 'sre_parse.pyi', 'stat.pyi', 'string.pyi', 'StringIO.pyi', 'stringold.pyi', 'strop.pyi', 'subprocess.pyi', 'symbol.pyi', 'sys.pyi', 'tempfile.pyi', 'textwrap.pyi', 'thread.pyi', 'toaiff.pyi', 'tokenize.pyi', 'types.pyi', 'typing.pyi', 'unittest.pyi', 'urllib.pyi', 'urllib2.pyi', 'urlparse.pyi', 'user.pyi', 'UserDict.pyi', 'UserList.pyi', 'UserString.pyi', 'whichdb.pyi', 'xmlrpclib.pyi', '_ast.pyi', '_collections.pyi', '_functools.pyi', '_hotshot.pyi', '_io.pyi', '_json.pyi', '_md5.pyi', '_sha.pyi', '_sha256.pyi', '_sha512.pyi', '_socket.pyi', '_sre.pyi', '_struct.pyi', '_symtable.pyi', '_threading_local.pyi', '_winreg.pyi', '__builtin__.pyi']\n",
      "\n",
      "Current directory path: .\\myenv\\Lib\\site-packages\\jedi\\third_party\\typeshed\\stdlib\\2\\distutils\n",
      "Directories: ['command']\n",
      "Files: ['archive_util.pyi', 'bcppcompiler.pyi', 'ccompiler.pyi', 'cmd.pyi', 'config.pyi', 'core.pyi', 'cygwinccompiler.pyi', 'debug.pyi', 'dep_util.pyi', 'dir_util.pyi', 'dist.pyi', 'emxccompiler.pyi', 'errors.pyi', 'extension.pyi', 'fancy_getopt.pyi', 'filelist.pyi', 'file_util.pyi', 'log.pyi', 'msvccompiler.pyi', 'spawn.pyi', 'sysconfig.pyi', 'text_file.pyi', 'unixccompiler.pyi', 'util.pyi', 'version.pyi', '__init__.pyi']\n",
      "\n",
      "Current directory path: .\\myenv\\Lib\\site-packages\\jedi\\third_party\\typeshed\\stdlib\\2\\distutils\\command\n",
      "Directories: []\n",
      "Files: ['bdist.pyi', 'bdist_dumb.pyi', 'bdist_msi.pyi', 'bdist_packager.pyi', 'bdist_rpm.pyi', 'bdist_wininst.pyi', 'build.pyi', 'build_clib.pyi', 'build_ext.pyi', 'build_py.pyi', 'build_scripts.pyi', 'check.pyi', 'clean.pyi', 'config.pyi', 'install.pyi', 'install_data.pyi', 'install_egg_info.pyi', 'install_headers.pyi', 'install_lib.pyi', 'install_scripts.pyi', 'register.pyi', 'sdist.pyi', 'upload.pyi', '__init__.pyi']\n",
      "\n",
      "Current directory path: .\\myenv\\Lib\\site-packages\\jedi\\third_party\\typeshed\\stdlib\\2\\email\n",
      "Directories: ['mime']\n",
      "Files: ['base64mime.pyi', 'charset.pyi', 'encoders.pyi', 'feedparser.pyi', 'generator.pyi', 'header.pyi', 'iterators.pyi', 'message.pyi', 'MIMEText.pyi', 'parser.pyi', 'quoprimime.pyi', 'utils.pyi', '_parseaddr.pyi', '__init__.pyi']\n",
      "\n",
      "Current directory path: .\\myenv\\Lib\\site-packages\\jedi\\third_party\\typeshed\\stdlib\\2\\email\\mime\n",
      "Directories: []\n",
      "Files: ['application.pyi', 'audio.pyi', 'base.pyi', 'image.pyi', 'message.pyi', 'multipart.pyi', 'nonmultipart.pyi', 'text.pyi', '__init__.pyi']\n",
      "\n",
      "Current directory path: .\\myenv\\Lib\\site-packages\\jedi\\third_party\\typeshed\\stdlib\\2\\encodings\n",
      "Directories: []\n",
      "Files: ['utf_8.pyi', '__init__.pyi']\n",
      "\n",
      "Current directory path: .\\myenv\\Lib\\site-packages\\jedi\\third_party\\typeshed\\stdlib\\2\\multiprocessing\n",
      "Directories: ['dummy']\n",
      "Files: ['pool.pyi', 'process.pyi', 'util.pyi', '__init__.pyi']\n",
      "\n",
      "Current directory path: .\\myenv\\Lib\\site-packages\\jedi\\third_party\\typeshed\\stdlib\\2\\multiprocessing\\dummy\n",
      "Directories: []\n",
      "Files: ['connection.pyi', '__init__.pyi']\n",
      "\n",
      "Current directory path: .\\myenv\\Lib\\site-packages\\jedi\\third_party\\typeshed\\stdlib\\2\\os\n",
      "Directories: []\n",
      "Files: ['path.pyi', '__init__.pyi']\n",
      "\n",
      "Current directory path: .\\myenv\\Lib\\site-packages\\jedi\\third_party\\typeshed\\stdlib\\2and3\n",
      "Directories: ['ctypes', 'curses', 'ensurepip', 'lib2to3', 'logging', 'msilib', 'pydoc_data', 'pyexpat', 'sqlite3', 'wsgiref', 'xml', '_typeshed']\n",
      "Files: ['aifc.pyi', 'antigravity.pyi', 'argparse.pyi', 'array.pyi', 'asynchat.pyi', 'asyncore.pyi', 'audioop.pyi', 'base64.pyi', 'bdb.pyi', 'binascii.pyi', 'binhex.pyi', 'bisect.pyi', 'bz2.pyi', 'calendar.pyi', 'cgi.pyi', 'cgitb.pyi', 'chunk.pyi', 'cmath.pyi', 'cmd.pyi', 'code.pyi', 'codecs.pyi', 'codeop.pyi', 'colorsys.pyi', 'contextlib.pyi', 'copy.pyi', 'cProfile.pyi', 'crypt.pyi', 'csv.pyi', 'datetime.pyi', 'decimal.pyi', 'difflib.pyi', 'dis.pyi', 'doctest.pyi', 'dummy_threading.pyi', 'errno.pyi', 'filecmp.pyi', 'fileinput.pyi', 'formatter.pyi', 'fractions.pyi', 'ftplib.pyi', 'genericpath.pyi', 'grp.pyi', 'hmac.pyi', 'imaplib.pyi', 'imghdr.pyi', 'keyword.pyi', 'linecache.pyi', 'locale.pyi', 'macpath.pyi', 'mailbox.pyi', 'mailcap.pyi', 'marshal.pyi', 'math.pyi', 'mimetypes.pyi', 'mmap.pyi', 'modulefinder.pyi', 'msvcrt.pyi', 'netrc.pyi', 'nis.pyi', 'numbers.pyi', 'opcode.pyi', 'operator.pyi', 'optparse.pyi', 'parser.pyi', 'pdb.pyi', 'pickle.pyi', 'pickletools.pyi', 'pkgutil.pyi', 'plistlib.pyi', 'poplib.pyi', 'pprint.pyi', 'profile.pyi', 'pstats.pyi', 'pty.pyi', 'pwd.pyi', 'pyclbr.pyi', 'pydoc.pyi', 'py_compile.pyi', 'quopri.pyi', 'readline.pyi', 'rlcompleter.pyi', 'sched.pyi', 'select.pyi', 'shutil.pyi', 'site.pyi', 'smtpd.pyi', 'sndhdr.pyi', 'socket.pyi', 'sre_compile.pyi', 'ssl.pyi', 'stringprep.pyi', 'struct.pyi', 'sunau.pyi', 'symtable.pyi', 'sysconfig.pyi', 'syslog.pyi', 'tabnanny.pyi', 'tarfile.pyi', 'telnetlib.pyi', 'termios.pyi', 'this.pyi', 'threading.pyi', 'time.pyi', 'timeit.pyi', 'token.pyi', 'trace.pyi', 'traceback.pyi', 'tty.pyi', 'turtle.pyi', 'unicodedata.pyi', 'uu.pyi', 'uuid.pyi', 'warnings.pyi', 'wave.pyi', 'weakref.pyi', 'webbrowser.pyi', 'winsound.pyi', 'xdrlib.pyi', 'zipfile.pyi', 'zipimport.pyi', 'zlib.pyi', '_bisect.pyi', '_codecs.pyi', '_csv.pyi', '_curses.pyi', '_dummy_threading.pyi', '_heapq.pyi', '_msi.pyi', '_random.pyi', '_warnings.pyi', '_weakref.pyi', '_weakrefset.pyi', '__future__.pyi']\n",
      "\n",
      "Current directory path: .\\myenv\\Lib\\site-packages\\jedi\\third_party\\typeshed\\stdlib\\2and3\\ctypes\n",
      "Directories: []\n",
      "Files: ['util.pyi', 'wintypes.pyi', '__init__.pyi']\n",
      "\n",
      "Current directory path: .\\myenv\\Lib\\site-packages\\jedi\\third_party\\typeshed\\stdlib\\2and3\\curses\n",
      "Directories: []\n",
      "Files: ['ascii.pyi', 'panel.pyi', 'textpad.pyi', '__init__.pyi']\n",
      "\n",
      "Current directory path: .\\myenv\\Lib\\site-packages\\jedi\\third_party\\typeshed\\stdlib\\2and3\\ensurepip\n",
      "Directories: []\n",
      "Files: ['__init__.pyi']\n",
      "\n",
      "Current directory path: .\\myenv\\Lib\\site-packages\\jedi\\third_party\\typeshed\\stdlib\\2and3\\lib2to3\n",
      "Directories: ['pgen2']\n",
      "Files: ['pygram.pyi', 'pytree.pyi', '__init__.pyi']\n",
      "\n",
      "Current directory path: .\\myenv\\Lib\\site-packages\\jedi\\third_party\\typeshed\\stdlib\\2and3\\lib2to3\\pgen2\n",
      "Directories: []\n",
      "Files: ['driver.pyi', 'grammar.pyi', 'literals.pyi', 'parse.pyi', 'pgen.pyi', 'token.pyi', 'tokenize.pyi', '__init__.pyi']\n",
      "\n",
      "Current directory path: .\\myenv\\Lib\\site-packages\\jedi\\third_party\\typeshed\\stdlib\\2and3\\logging\n",
      "Directories: []\n",
      "Files: ['config.pyi', 'handlers.pyi', '__init__.pyi']\n",
      "\n",
      "Current directory path: .\\myenv\\Lib\\site-packages\\jedi\\third_party\\typeshed\\stdlib\\2and3\\msilib\n",
      "Directories: []\n",
      "Files: ['schema.pyi', 'sequence.pyi', 'text.pyi', '__init__.pyi']\n",
      "\n",
      "Current directory path: .\\myenv\\Lib\\site-packages\\jedi\\third_party\\typeshed\\stdlib\\2and3\\pydoc_data\n",
      "Directories: []\n",
      "Files: ['topics.pyi', '__init__.pyi']\n",
      "\n",
      "Current directory path: .\\myenv\\Lib\\site-packages\\jedi\\third_party\\typeshed\\stdlib\\2and3\\pyexpat\n",
      "Directories: []\n",
      "Files: ['errors.pyi', 'model.pyi', '__init__.pyi']\n",
      "\n",
      "Current directory path: .\\myenv\\Lib\\site-packages\\jedi\\third_party\\typeshed\\stdlib\\2and3\\sqlite3\n",
      "Directories: []\n",
      "Files: ['dbapi2.pyi', '__init__.pyi']\n",
      "\n",
      "Current directory path: .\\myenv\\Lib\\site-packages\\jedi\\third_party\\typeshed\\stdlib\\2and3\\wsgiref\n",
      "Directories: []\n",
      "Files: ['handlers.pyi', 'headers.pyi', 'simple_server.pyi', 'types.pyi', 'util.pyi', 'validate.pyi', '__init__.pyi']\n",
      "\n",
      "Current directory path: .\\myenv\\Lib\\site-packages\\jedi\\third_party\\typeshed\\stdlib\\2and3\\xml\n",
      "Directories: ['dom', 'etree', 'parsers', 'sax']\n",
      "Files: ['__init__.pyi']\n",
      "\n",
      "Current directory path: .\\myenv\\Lib\\site-packages\\jedi\\third_party\\typeshed\\stdlib\\2and3\\xml\\dom\n",
      "Directories: []\n",
      "Files: ['domreg.pyi', 'expatbuilder.pyi', 'minicompat.pyi', 'minidom.pyi', 'NodeFilter.pyi', 'pulldom.pyi', 'xmlbuilder.pyi', '__init__.pyi']\n",
      "\n",
      "Current directory path: .\\myenv\\Lib\\site-packages\\jedi\\third_party\\typeshed\\stdlib\\2and3\\xml\\etree\n",
      "Directories: []\n",
      "Files: ['cElementTree.pyi', 'ElementInclude.pyi', 'ElementPath.pyi', 'ElementTree.pyi', '__init__.pyi']\n",
      "\n",
      "Current directory path: .\\myenv\\Lib\\site-packages\\jedi\\third_party\\typeshed\\stdlib\\2and3\\xml\\parsers\n",
      "Directories: ['expat']\n",
      "Files: ['__init__.pyi']\n",
      "\n",
      "Current directory path: .\\myenv\\Lib\\site-packages\\jedi\\third_party\\typeshed\\stdlib\\2and3\\xml\\parsers\\expat\n",
      "Directories: []\n",
      "Files: ['errors.pyi', 'model.pyi', '__init__.pyi']\n",
      "\n",
      "Current directory path: .\\myenv\\Lib\\site-packages\\jedi\\third_party\\typeshed\\stdlib\\2and3\\xml\\sax\n",
      "Directories: []\n",
      "Files: ['handler.pyi', 'saxutils.pyi', 'xmlreader.pyi', '__init__.pyi']\n",
      "\n",
      "Current directory path: .\\myenv\\Lib\\site-packages\\jedi\\third_party\\typeshed\\stdlib\\2and3\\_typeshed\n",
      "Directories: []\n",
      "Files: ['wsgi.pyi', 'xml.pyi', '__init__.pyi']\n",
      "\n",
      "Current directory path: .\\myenv\\Lib\\site-packages\\jedi\\third_party\\typeshed\\stdlib\\3\n",
      "Directories: ['asyncio', 'collections', 'concurrent', 'dbm', 'distutils', 'email', 'encodings', 'html', 'http', 'importlib', 'json', 'multiprocessing', 'os', 'tkinter', 'unittest', 'urllib', 'venv', 'xmlrpc']\n",
      "Files: ['abc.pyi', 'ast.pyi', 'atexit.pyi', 'builtins.pyi', 'compileall.pyi', 'configparser.pyi', 'copyreg.pyi', 'enum.pyi', 'faulthandler.pyi', 'fcntl.pyi', 'fnmatch.pyi', 'functools.pyi', 'gc.pyi', 'getopt.pyi', 'getpass.pyi', 'gettext.pyi', 'glob.pyi', 'gzip.pyi', 'hashlib.pyi', 'heapq.pyi', 'imp.pyi', 'inspect.pyi', 'io.pyi', 'ipaddress.pyi', 'itertools.pyi', 'lzma.pyi', 'macurl2path.pyi', 'nntplib.pyi', 'ntpath.pyi', 'nturl2path.pyi', 'pathlib.pyi', 'pipes.pyi', 'platform.pyi', 'posix.pyi', 'posixpath.pyi', 'queue.pyi', 'random.pyi', 're.pyi', 'reprlib.pyi', 'resource.pyi', 'runpy.pyi', 'secrets.pyi', 'selectors.pyi', 'shelve.pyi', 'shlex.pyi', 'signal.pyi', 'smtplib.pyi', 'socketserver.pyi', 'spwd.pyi', 'sre_constants.pyi', 'sre_parse.pyi', 'stat.pyi', 'statistics.pyi', 'string.pyi', 'subprocess.pyi', 'symbol.pyi', 'sys.pyi', 'tempfile.pyi', 'textwrap.pyi', 'tokenize.pyi', 'tracemalloc.pyi', 'types.pyi', 'typing.pyi', 'winreg.pyi', 'xxlimited.pyi', 'zipapp.pyi', '_ast.pyi', '_bootlocale.pyi', '_compat_pickle.pyi', '_compression.pyi', '_decimal.pyi', '_dummy_thread.pyi', '_imp.pyi', '_importlib_modulespec.pyi', '_json.pyi', '_markupbase.pyi', '_operator.pyi', '_osx_support.pyi', '_posixsubprocess.pyi', '_pydecimal.pyi', '_sitebuiltins.pyi', '_stat.pyi', '_thread.pyi', '_threading_local.pyi', '_tkinter.pyi', '_tracemalloc.pyi', '_winapi.pyi']\n",
      "\n",
      "Current directory path: .\\myenv\\Lib\\site-packages\\jedi\\third_party\\typeshed\\stdlib\\3\\asyncio\n",
      "Directories: []\n",
      "Files: ['base_events.pyi', 'base_futures.pyi', 'base_subprocess.pyi', 'base_tasks.pyi', 'compat.pyi', 'constants.pyi', 'coroutines.pyi', 'events.pyi', 'exceptions.pyi', 'format_helpers.pyi', 'futures.pyi', 'locks.pyi', 'log.pyi', 'proactor_events.pyi', 'protocols.pyi', 'queues.pyi', 'runners.pyi', 'selector_events.pyi', 'sslproto.pyi', 'staggered.pyi', 'streams.pyi', 'subprocess.pyi', 'tasks.pyi', 'threads.pyi', 'transports.pyi', 'trsock.pyi', 'unix_events.pyi', 'windows_events.pyi', 'windows_utils.pyi', '__init__.pyi']\n",
      "\n",
      "Current directory path: .\\myenv\\Lib\\site-packages\\jedi\\third_party\\typeshed\\stdlib\\3\\collections\n",
      "Directories: []\n",
      "Files: ['abc.pyi', '__init__.pyi']\n",
      "\n",
      "Current directory path: .\\myenv\\Lib\\site-packages\\jedi\\third_party\\typeshed\\stdlib\\3\\concurrent\n",
      "Directories: ['futures']\n",
      "Files: ['__init__.pyi']\n",
      "\n",
      "Current directory path: .\\myenv\\Lib\\site-packages\\jedi\\third_party\\typeshed\\stdlib\\3\\concurrent\\futures\n",
      "Directories: []\n",
      "Files: ['process.pyi', 'thread.pyi', '_base.pyi', '__init__.pyi']\n",
      "\n",
      "Current directory path: .\\myenv\\Lib\\site-packages\\jedi\\third_party\\typeshed\\stdlib\\3\\dbm\n",
      "Directories: []\n",
      "Files: ['dumb.pyi', 'gnu.pyi', 'ndbm.pyi', '__init__.pyi']\n",
      "\n",
      "Current directory path: .\\myenv\\Lib\\site-packages\\jedi\\third_party\\typeshed\\stdlib\\3\\distutils\n",
      "Directories: ['command']\n",
      "Files: ['archive_util.pyi', 'bcppcompiler.pyi', 'ccompiler.pyi', 'cmd.pyi', 'config.pyi', 'core.pyi', 'cygwinccompiler.pyi', 'debug.pyi', 'dep_util.pyi', 'dir_util.pyi', 'dist.pyi', 'errors.pyi', 'extension.pyi', 'fancy_getopt.pyi', 'filelist.pyi', 'file_util.pyi', 'log.pyi', 'msvccompiler.pyi', 'spawn.pyi', 'sysconfig.pyi', 'text_file.pyi', 'unixccompiler.pyi', 'util.pyi', 'version.pyi', '__init__.pyi']\n",
      "\n",
      "Current directory path: .\\myenv\\Lib\\site-packages\\jedi\\third_party\\typeshed\\stdlib\\3\\distutils\\command\n",
      "Directories: []\n",
      "Files: ['bdist.pyi', 'bdist_dumb.pyi', 'bdist_msi.pyi', 'bdist_packager.pyi', 'bdist_rpm.pyi', 'bdist_wininst.pyi', 'build.pyi', 'build_clib.pyi', 'build_ext.pyi', 'build_py.pyi', 'build_scripts.pyi', 'check.pyi', 'clean.pyi', 'config.pyi', 'install.pyi', 'install_data.pyi', 'install_egg_info.pyi', 'install_headers.pyi', 'install_lib.pyi', 'install_scripts.pyi', 'register.pyi', 'sdist.pyi', 'upload.pyi', '__init__.pyi']\n",
      "\n",
      "Current directory path: .\\myenv\\Lib\\site-packages\\jedi\\third_party\\typeshed\\stdlib\\3\\email\n",
      "Directories: ['mime']\n",
      "Files: ['charset.pyi', 'contentmanager.pyi', 'encoders.pyi', 'errors.pyi', 'feedparser.pyi', 'generator.pyi', 'header.pyi', 'headerregistry.pyi', 'iterators.pyi', 'message.pyi', 'parser.pyi', 'policy.pyi', 'utils.pyi', '__init__.pyi']\n",
      "\n",
      "Current directory path: .\\myenv\\Lib\\site-packages\\jedi\\third_party\\typeshed\\stdlib\\3\\email\\mime\n",
      "Directories: []\n",
      "Files: ['application.pyi', 'audio.pyi', 'base.pyi', 'image.pyi', 'message.pyi', 'multipart.pyi', 'nonmultipart.pyi', 'text.pyi', '__init__.pyi']\n",
      "\n",
      "Current directory path: .\\myenv\\Lib\\site-packages\\jedi\\third_party\\typeshed\\stdlib\\3\\encodings\n",
      "Directories: []\n",
      "Files: ['utf_8.pyi', '__init__.pyi']\n",
      "\n",
      "Current directory path: .\\myenv\\Lib\\site-packages\\jedi\\third_party\\typeshed\\stdlib\\3\\html\n",
      "Directories: []\n",
      "Files: ['entities.pyi', 'parser.pyi', '__init__.pyi']\n",
      "\n",
      "Current directory path: .\\myenv\\Lib\\site-packages\\jedi\\third_party\\typeshed\\stdlib\\3\\http\n",
      "Directories: []\n",
      "Files: ['client.pyi', 'cookiejar.pyi', 'cookies.pyi', 'server.pyi', '__init__.pyi']\n",
      "\n",
      "Current directory path: .\\myenv\\Lib\\site-packages\\jedi\\third_party\\typeshed\\stdlib\\3\\importlib\n",
      "Directories: []\n",
      "Files: ['abc.pyi', 'machinery.pyi', 'metadata.pyi', 'resources.pyi', 'util.pyi', '__init__.pyi']\n",
      "\n",
      "Current directory path: .\\myenv\\Lib\\site-packages\\jedi\\third_party\\typeshed\\stdlib\\3\\json\n",
      "Directories: []\n",
      "Files: ['decoder.pyi', 'encoder.pyi', 'tool.pyi', '__init__.pyi']\n",
      "\n",
      "Current directory path: .\\myenv\\Lib\\site-packages\\jedi\\third_party\\typeshed\\stdlib\\3\\multiprocessing\n",
      "Directories: ['dummy']\n",
      "Files: ['connection.pyi', 'context.pyi', 'managers.pyi', 'pool.pyi', 'process.pyi', 'queues.pyi', 'sharedctypes.pyi', 'shared_memory.pyi', 'spawn.pyi', 'synchronize.pyi', '__init__.pyi']\n",
      "\n",
      "Current directory path: .\\myenv\\Lib\\site-packages\\jedi\\third_party\\typeshed\\stdlib\\3\\multiprocessing\\dummy\n",
      "Directories: []\n",
      "Files: ['connection.pyi', '__init__.pyi']\n",
      "\n",
      "Current directory path: .\\myenv\\Lib\\site-packages\\jedi\\third_party\\typeshed\\stdlib\\3\\os\n",
      "Directories: []\n",
      "Files: ['path.pyi', '__init__.pyi']\n",
      "\n",
      "Current directory path: .\\myenv\\Lib\\site-packages\\jedi\\third_party\\typeshed\\stdlib\\3\\tkinter\n",
      "Directories: []\n",
      "Files: ['commondialog.pyi', 'constants.pyi', 'dialog.pyi', 'filedialog.pyi', 'font.pyi', 'messagebox.pyi', 'ttk.pyi', '__init__.pyi']\n",
      "\n",
      "Current directory path: .\\myenv\\Lib\\site-packages\\jedi\\third_party\\typeshed\\stdlib\\3\\unittest\n",
      "Directories: []\n",
      "Files: ['async_case.pyi', 'case.pyi', 'loader.pyi', 'main.pyi', 'mock.pyi', 'result.pyi', 'runner.pyi', 'signals.pyi', 'suite.pyi', 'util.pyi', '__init__.pyi']\n",
      "\n",
      "Current directory path: .\\myenv\\Lib\\site-packages\\jedi\\third_party\\typeshed\\stdlib\\3\\urllib\n",
      "Directories: []\n",
      "Files: ['error.pyi', 'parse.pyi', 'request.pyi', 'response.pyi', 'robotparser.pyi', '__init__.pyi']\n",
      "\n",
      "Current directory path: .\\myenv\\Lib\\site-packages\\jedi\\third_party\\typeshed\\stdlib\\3\\venv\n",
      "Directories: []\n",
      "Files: ['__init__.pyi']\n",
      "\n",
      "Current directory path: .\\myenv\\Lib\\site-packages\\jedi\\third_party\\typeshed\\stdlib\\3\\xmlrpc\n",
      "Directories: []\n",
      "Files: ['client.pyi', 'server.pyi', '__init__.pyi']\n",
      "\n",
      "Current directory path: .\\myenv\\Lib\\site-packages\\jedi\\third_party\\typeshed\\stdlib\\3.7\n",
      "Directories: []\n",
      "Files: ['contextvars.pyi', 'dataclasses.pyi', '_py_abc.pyi']\n",
      "\n",
      "Current directory path: .\\myenv\\Lib\\site-packages\\jedi\\third_party\\typeshed\\stdlib\\3.9\n",
      "Directories: ['zoneinfo']\n",
      "Files: ['graphlib.pyi']\n",
      "\n",
      "Current directory path: .\\myenv\\Lib\\site-packages\\jedi\\third_party\\typeshed\\stdlib\\3.9\\zoneinfo\n",
      "Directories: []\n",
      "Files: ['__init__.pyi']\n",
      "\n",
      "Current directory path: .\\myenv\\Lib\\site-packages\\jedi\\third_party\\typeshed\\third_party\n",
      "Directories: ['2', '2and3', '3']\n",
      "Files: []\n",
      "\n",
      "Current directory path: .\\myenv\\Lib\\site-packages\\jedi\\third_party\\typeshed\\third_party\\2\n",
      "Directories: ['concurrent', 'fb303', 'kazoo', 'OpenSSL', 'routes', 'scribe', 'six', 'tornado']\n",
      "Files: ['enum.pyi', 'ipaddress.pyi', 'pathlib2.pyi', 'pymssql.pyi']\n",
      "\n",
      "Current directory path: .\\myenv\\Lib\\site-packages\\jedi\\third_party\\typeshed\\third_party\\2\\concurrent\n",
      "Directories: ['futures']\n",
      "Files: ['__init__.pyi']\n",
      "\n",
      "Current directory path: .\\myenv\\Lib\\site-packages\\jedi\\third_party\\typeshed\\third_party\\2\\concurrent\\futures\n",
      "Directories: []\n",
      "Files: ['process.pyi', 'thread.pyi', '_base.pyi', '__init__.pyi']\n",
      "\n",
      "Current directory path: .\\myenv\\Lib\\site-packages\\jedi\\third_party\\typeshed\\third_party\\2\\fb303\n",
      "Directories: []\n",
      "Files: ['FacebookService.pyi', '__init__.pyi']\n",
      "\n",
      "Current directory path: .\\myenv\\Lib\\site-packages\\jedi\\third_party\\typeshed\\third_party\\2\\kazoo\n",
      "Directories: ['recipe']\n",
      "Files: ['client.pyi', 'exceptions.pyi', '__init__.pyi']\n",
      "\n",
      "Current directory path: .\\myenv\\Lib\\site-packages\\jedi\\third_party\\typeshed\\third_party\\2\\kazoo\\recipe\n",
      "Directories: []\n",
      "Files: ['watchers.pyi', '__init__.pyi']\n",
      "\n",
      "Current directory path: .\\myenv\\Lib\\site-packages\\jedi\\third_party\\typeshed\\third_party\\2\\OpenSSL\n",
      "Directories: []\n",
      "Files: ['crypto.pyi', '__init__.pyi']\n",
      "\n",
      "Current directory path: .\\myenv\\Lib\\site-packages\\jedi\\third_party\\typeshed\\third_party\\2\\routes\n",
      "Directories: []\n",
      "Files: ['mapper.pyi', 'util.pyi', '__init__.pyi']\n",
      "\n",
      "Current directory path: .\\myenv\\Lib\\site-packages\\jedi\\third_party\\typeshed\\third_party\\2\\scribe\n",
      "Directories: []\n",
      "Files: ['scribe.pyi', 'ttypes.pyi', '__init__.pyi']\n",
      "\n",
      "Current directory path: .\\myenv\\Lib\\site-packages\\jedi\\third_party\\typeshed\\third_party\\2\\six\n",
      "Directories: ['moves']\n",
      "Files: ['__init__.pyi']\n",
      "\n",
      "Current directory path: .\\myenv\\Lib\\site-packages\\jedi\\third_party\\typeshed\\third_party\\2\\six\\moves\n",
      "Directories: ['urllib']\n",
      "Files: ['BaseHTTPServer.pyi', 'CGIHTTPServer.pyi', 'collections_abc.pyi', 'configparser.pyi', 'cPickle.pyi', 'email_mime_base.pyi', 'email_mime_multipart.pyi', 'email_mime_nonmultipart.pyi', 'email_mime_text.pyi', 'html_entities.pyi', 'html_parser.pyi', 'http_client.pyi', 'http_cookiejar.pyi', 'http_cookies.pyi', 'queue.pyi', 'reprlib.pyi', 'SimpleHTTPServer.pyi', 'socketserver.pyi', 'urllib_error.pyi', 'urllib_parse.pyi', 'urllib_request.pyi', 'urllib_response.pyi', 'urllib_robotparser.pyi', 'xmlrpc_client.pyi', '_dummy_thread.pyi', '_thread.pyi', '__init__.pyi']\n",
      "\n",
      "Current directory path: .\\myenv\\Lib\\site-packages\\jedi\\third_party\\typeshed\\third_party\\2\\six\\moves\\urllib\n",
      "Directories: []\n",
      "Files: ['error.pyi', 'parse.pyi', 'request.pyi', 'response.pyi', 'robotparser.pyi', '__init__.pyi']\n",
      "\n",
      "Current directory path: .\\myenv\\Lib\\site-packages\\jedi\\third_party\\typeshed\\third_party\\2\\tornado\n",
      "Directories: []\n",
      "Files: ['concurrent.pyi', 'gen.pyi', 'httpclient.pyi', 'httpserver.pyi', 'httputil.pyi', 'ioloop.pyi', 'locks.pyi', 'netutil.pyi', 'process.pyi', 'tcpserver.pyi', 'testing.pyi', 'util.pyi', 'web.pyi', '__init__.pyi']\n",
      "\n",
      "Current directory path: .\\myenv\\Lib\\site-packages\\jedi\\third_party\\typeshed\\third_party\\2and3\n",
      "Directories: ['atomicwrites', 'attr', 'backports', 'bleach', 'boto', 'cachetools', 'characteristic', 'chardet', 'click', 'cryptography', 'datetimerange', 'dateutil', 'deprecated', 'emoji', 'flask', 'geoip2', 'google', 'jinja2', 'markdown', 'markupsafe', 'maxminddb', 'nmap', 'paramiko', 'pymysql', 'pynamodb', 'pytz', 'pyVmomi', 'redis', 'requests', 'retry', 'simplejson', 'slugify', 'tzlocal', 'werkzeug', 'yaml']\n",
      "Files: ['backports_abc.pyi', 'certifi.pyi', 'croniter.pyi', 'dateparser.pyi', 'decorator.pyi', 'first.pyi', 'gflags.pyi', 'itsdangerous.pyi', 'mock.pyi', 'mypy_extensions.pyi', 'polib.pyi', 'pycurl.pyi', 'pyre_extensions.pyi', 'singledispatch.pyi', 'tabulate.pyi', 'termcolor.pyi', 'toml.pyi', 'typing_extensions.pyi', 'ujson.pyi']\n",
      "\n",
      "Current directory path: .\\myenv\\Lib\\site-packages\\jedi\\third_party\\typeshed\\third_party\\2and3\\atomicwrites\n",
      "Directories: []\n",
      "Files: ['__init__.pyi']\n",
      "\n",
      "Current directory path: .\\myenv\\Lib\\site-packages\\jedi\\third_party\\typeshed\\third_party\\2and3\\attr\n",
      "Directories: []\n",
      "Files: ['converters.pyi', 'exceptions.pyi', 'filters.pyi', 'validators.pyi', '_version_info.pyi', '__init__.pyi']\n",
      "\n",
      "Current directory path: .\\myenv\\Lib\\site-packages\\jedi\\third_party\\typeshed\\third_party\\2and3\\backports\n",
      "Directories: []\n",
      "Files: ['ssl_match_hostname.pyi', '__init__.pyi']\n",
      "\n",
      "Current directory path: .\\myenv\\Lib\\site-packages\\jedi\\third_party\\typeshed\\third_party\\2and3\\bleach\n",
      "Directories: []\n",
      "Files: ['callbacks.pyi', 'linkifier.pyi', 'sanitizer.pyi', 'utils.pyi', '__init__.pyi']\n",
      "\n",
      "Current directory path: .\\myenv\\Lib\\site-packages\\jedi\\third_party\\typeshed\\third_party\\2and3\\boto\n",
      "Directories: ['ec2', 'elb', 'kms', 's3']\n",
      "Files: ['auth.pyi', 'auth_handler.pyi', 'compat.pyi', 'connection.pyi', 'exception.pyi', 'plugin.pyi', 'regioninfo.pyi', 'utils.pyi', '__init__.pyi']\n",
      "\n",
      "Current directory path: .\\myenv\\Lib\\site-packages\\jedi\\third_party\\typeshed\\third_party\\2and3\\boto\\ec2\n",
      "Directories: []\n",
      "Files: ['__init__.pyi']\n",
      "\n",
      "Current directory path: .\\myenv\\Lib\\site-packages\\jedi\\third_party\\typeshed\\third_party\\2and3\\boto\\elb\n",
      "Directories: []\n",
      "Files: ['__init__.pyi']\n",
      "\n",
      "Current directory path: .\\myenv\\Lib\\site-packages\\jedi\\third_party\\typeshed\\third_party\\2and3\\boto\\kms\n",
      "Directories: []\n",
      "Files: ['exceptions.pyi', 'layer1.pyi', '__init__.pyi']\n",
      "\n",
      "Current directory path: .\\myenv\\Lib\\site-packages\\jedi\\third_party\\typeshed\\third_party\\2and3\\boto\\s3\n",
      "Directories: []\n",
      "Files: ['acl.pyi', 'bucket.pyi', 'bucketlistresultset.pyi', 'bucketlogging.pyi', 'connection.pyi', 'cors.pyi', 'deletemarker.pyi', 'key.pyi', 'keyfile.pyi', 'lifecycle.pyi', 'multidelete.pyi', 'multipart.pyi', 'prefix.pyi', 'tagging.pyi', 'user.pyi', 'website.pyi', '__init__.pyi']\n",
      "\n",
      "Current directory path: .\\myenv\\Lib\\site-packages\\jedi\\third_party\\typeshed\\third_party\\2and3\\cachetools\n",
      "Directories: []\n",
      "Files: ['abc.pyi', 'cache.pyi', 'decorators.pyi', 'func.pyi', 'lfu.pyi', 'lru.pyi', 'rr.pyi', 'ttl.pyi', '__init__.pyi']\n",
      "\n",
      "Current directory path: .\\myenv\\Lib\\site-packages\\jedi\\third_party\\typeshed\\third_party\\2and3\\characteristic\n",
      "Directories: []\n",
      "Files: ['__init__.pyi']\n",
      "\n",
      "Current directory path: .\\myenv\\Lib\\site-packages\\jedi\\third_party\\typeshed\\third_party\\2and3\\chardet\n",
      "Directories: []\n",
      "Files: ['enums.pyi', 'langbulgarianmodel.pyi', 'langcyrillicmodel.pyi', 'langgreekmodel.pyi', 'langhebrewmodel.pyi', 'langhungarianmodel.pyi', 'langthaimodel.pyi', 'langturkishmodel.pyi', 'universaldetector.pyi', 'version.pyi', '__init__.pyi']\n",
      "\n",
      "Current directory path: .\\myenv\\Lib\\site-packages\\jedi\\third_party\\typeshed\\third_party\\2and3\\click\n",
      "Directories: []\n",
      "Files: ['core.pyi', 'decorators.pyi', 'exceptions.pyi', 'formatting.pyi', 'globals.pyi', 'parser.pyi', 'termui.pyi', 'testing.pyi', 'types.pyi', 'utils.pyi', '_termui_impl.pyi', '__init__.pyi']\n",
      "\n",
      "Current directory path: .\\myenv\\Lib\\site-packages\\jedi\\third_party\\typeshed\\third_party\\2and3\\cryptography\n",
      "Directories: ['hazmat', 'x509']\n",
      "Files: ['exceptions.pyi', 'fernet.pyi', '__init__.pyi']\n",
      "\n",
      "Current directory path: .\\myenv\\Lib\\site-packages\\jedi\\third_party\\typeshed\\third_party\\2and3\\cryptography\\hazmat\n",
      "Directories: ['backends', 'bindings', 'primitives']\n",
      "Files: ['__init__.pyi']\n",
      "\n",
      "Current directory path: .\\myenv\\Lib\\site-packages\\jedi\\third_party\\typeshed\\third_party\\2and3\\cryptography\\hazmat\\backends\n",
      "Directories: []\n",
      "Files: ['interfaces.pyi', '__init__.pyi']\n",
      "\n",
      "Current directory path: .\\myenv\\Lib\\site-packages\\jedi\\third_party\\typeshed\\third_party\\2and3\\cryptography\\hazmat\\bindings\n",
      "Directories: ['openssl']\n",
      "Files: ['__init__.pyi']\n",
      "\n",
      "Current directory path: .\\myenv\\Lib\\site-packages\\jedi\\third_party\\typeshed\\third_party\\2and3\\cryptography\\hazmat\\bindings\\openssl\n",
      "Directories: []\n",
      "Files: ['binding.pyi', '__init__.pyi']\n",
      "\n",
      "Current directory path: .\\myenv\\Lib\\site-packages\\jedi\\third_party\\typeshed\\third_party\\2and3\\cryptography\\hazmat\\primitives\n",
      "Directories: ['asymmetric', 'ciphers', 'kdf', 'serialization', 'twofactor']\n",
      "Files: ['cmac.pyi', 'constant_time.pyi', 'hashes.pyi', 'hmac.pyi', 'keywrap.pyi', 'padding.pyi', 'poly1305.pyi', '__init__.pyi']\n",
      "\n",
      "Current directory path: .\\myenv\\Lib\\site-packages\\jedi\\third_party\\typeshed\\third_party\\2and3\\cryptography\\hazmat\\primitives\\asymmetric\n",
      "Directories: []\n",
      "Files: ['dh.pyi', 'dsa.pyi', 'ec.pyi', 'ed25519.pyi', 'ed448.pyi', 'padding.pyi', 'rsa.pyi', 'utils.pyi', 'x25519.pyi', 'x448.pyi', '__init__.pyi']\n",
      "\n",
      "Current directory path: .\\myenv\\Lib\\site-packages\\jedi\\third_party\\typeshed\\third_party\\2and3\\cryptography\\hazmat\\primitives\\ciphers\n",
      "Directories: []\n",
      "Files: ['aead.pyi', 'algorithms.pyi', 'modes.pyi', '__init__.pyi']\n",
      "\n",
      "Current directory path: .\\myenv\\Lib\\site-packages\\jedi\\third_party\\typeshed\\third_party\\2and3\\cryptography\\hazmat\\primitives\\kdf\n",
      "Directories: []\n",
      "Files: ['concatkdf.pyi', 'hkdf.pyi', 'kbkdf.pyi', 'pbkdf2.pyi', 'scrypt.pyi', 'x963kdf.pyi', '__init__.pyi']\n",
      "\n",
      "Current directory path: .\\myenv\\Lib\\site-packages\\jedi\\third_party\\typeshed\\third_party\\2and3\\cryptography\\hazmat\\primitives\\serialization\n",
      "Directories: []\n",
      "Files: ['pkcs12.pyi', '__init__.pyi']\n",
      "\n",
      "Current directory path: .\\myenv\\Lib\\site-packages\\jedi\\third_party\\typeshed\\third_party\\2and3\\cryptography\\hazmat\\primitives\\twofactor\n",
      "Directories: []\n",
      "Files: ['hotp.pyi', 'totp.pyi', '__init__.pyi']\n",
      "\n",
      "Current directory path: .\\myenv\\Lib\\site-packages\\jedi\\third_party\\typeshed\\third_party\\2and3\\cryptography\\x509\n",
      "Directories: []\n",
      "Files: ['extensions.pyi', 'oid.pyi', '__init__.pyi']\n",
      "\n",
      "Current directory path: .\\myenv\\Lib\\site-packages\\jedi\\third_party\\typeshed\\third_party\\2and3\\datetimerange\n",
      "Directories: []\n",
      "Files: ['__init__.pyi']\n",
      "\n",
      "Current directory path: .\\myenv\\Lib\\site-packages\\jedi\\third_party\\typeshed\\third_party\\2and3\\dateutil\n",
      "Directories: ['tz']\n",
      "Files: ['easter.pyi', 'parser.pyi', 'relativedelta.pyi', 'rrule.pyi', 'utils.pyi', '_common.pyi', '__init__.pyi']\n",
      "\n",
      "Current directory path: .\\myenv\\Lib\\site-packages\\jedi\\third_party\\typeshed\\third_party\\2and3\\dateutil\\tz\n",
      "Directories: []\n",
      "Files: ['tz.pyi', '_common.pyi', '__init__.pyi']\n",
      "\n",
      "Current directory path: .\\myenv\\Lib\\site-packages\\jedi\\third_party\\typeshed\\third_party\\2and3\\deprecated\n",
      "Directories: []\n",
      "Files: ['classic.pyi', 'sphinx.pyi', '__init__.pyi']\n",
      "\n",
      "Current directory path: .\\myenv\\Lib\\site-packages\\jedi\\third_party\\typeshed\\third_party\\2and3\\emoji\n",
      "Directories: []\n",
      "Files: ['core.pyi', 'unicode_codes.pyi', '__init__.pyi']\n",
      "\n",
      "Current directory path: .\\myenv\\Lib\\site-packages\\jedi\\third_party\\typeshed\\third_party\\2and3\\flask\n",
      "Directories: ['json']\n",
      "Files: ['app.pyi', 'blueprints.pyi', 'cli.pyi', 'config.pyi', 'ctx.pyi', 'debughelpers.pyi', 'globals.pyi', 'helpers.pyi', 'logging.pyi', 'sessions.pyi', 'signals.pyi', 'templating.pyi', 'testing.pyi', 'views.pyi', 'wrappers.pyi', '__init__.pyi']\n",
      "\n",
      "Current directory path: .\\myenv\\Lib\\site-packages\\jedi\\third_party\\typeshed\\third_party\\2and3\\flask\\json\n",
      "Directories: []\n",
      "Files: ['tag.pyi', '__init__.pyi']\n",
      "\n",
      "Current directory path: .\\myenv\\Lib\\site-packages\\jedi\\third_party\\typeshed\\third_party\\2and3\\geoip2\n",
      "Directories: []\n",
      "Files: ['database.pyi', 'errors.pyi', 'mixins.pyi', 'models.pyi', 'records.pyi', '__init__.pyi']\n",
      "\n",
      "Current directory path: .\\myenv\\Lib\\site-packages\\jedi\\third_party\\typeshed\\third_party\\2and3\\google\n",
      "Directories: ['protobuf']\n",
      "Files: ['__init__.pyi']\n",
      "\n",
      "Current directory path: .\\myenv\\Lib\\site-packages\\jedi\\third_party\\typeshed\\third_party\\2and3\\google\\protobuf\n",
      "Directories: ['compiler', 'internal', 'util']\n",
      "Files: ['any_pb2.pyi', 'api_pb2.pyi', 'descriptor.pyi', 'descriptor_pb2.pyi', 'descriptor_pool.pyi', 'duration_pb2.pyi', 'empty_pb2.pyi', 'field_mask_pb2.pyi', 'json_format.pyi', 'message.pyi', 'message_factory.pyi', 'reflection.pyi', 'service.pyi', 'source_context_pb2.pyi', 'struct_pb2.pyi', 'symbol_database.pyi', 'timestamp_pb2.pyi', 'type_pb2.pyi', 'wrappers_pb2.pyi', '__init__.pyi']\n",
      "\n",
      "Current directory path: .\\myenv\\Lib\\site-packages\\jedi\\third_party\\typeshed\\third_party\\2and3\\google\\protobuf\\compiler\n",
      "Directories: []\n",
      "Files: ['plugin_pb2.pyi', '__init__.pyi']\n",
      "\n",
      "Current directory path: .\\myenv\\Lib\\site-packages\\jedi\\third_party\\typeshed\\third_party\\2and3\\google\\protobuf\\internal\n",
      "Directories: []\n",
      "Files: ['containers.pyi', 'decoder.pyi', 'encoder.pyi', 'enum_type_wrapper.pyi', 'extension_dict.pyi', 'message_listener.pyi', 'python_message.pyi', 'well_known_types.pyi', 'wire_format.pyi', '__init__.pyi']\n",
      "\n",
      "Current directory path: .\\myenv\\Lib\\site-packages\\jedi\\third_party\\typeshed\\third_party\\2and3\\google\\protobuf\\util\n",
      "Directories: []\n",
      "Files: ['__init__.pyi']\n",
      "\n",
      "Current directory path: .\\myenv\\Lib\\site-packages\\jedi\\third_party\\typeshed\\third_party\\2and3\\jinja2\n",
      "Directories: []\n",
      "Files: ['bccache.pyi', 'compiler.pyi', 'constants.pyi', 'debug.pyi', 'defaults.pyi', 'environment.pyi', 'exceptions.pyi', 'ext.pyi', 'filters.pyi', 'lexer.pyi', 'loaders.pyi', 'meta.pyi', 'nodes.pyi', 'optimizer.pyi', 'parser.pyi', 'runtime.pyi', 'sandbox.pyi', 'tests.pyi', 'utils.pyi', 'visitor.pyi', '_compat.pyi', '_stringdefs.pyi', '__init__.pyi']\n",
      "\n",
      "Current directory path: .\\myenv\\Lib\\site-packages\\jedi\\third_party\\typeshed\\third_party\\2and3\\markdown\n",
      "Directories: ['extensions']\n",
      "Files: ['blockparser.pyi', 'blockprocessors.pyi', 'core.pyi', 'inlinepatterns.pyi', 'pep562.pyi', 'postprocessors.pyi', 'preprocessors.pyi', 'serializers.pyi', 'treeprocessors.pyi', 'util.pyi', '__init__.pyi', '__meta__.pyi']\n",
      "\n",
      "Current directory path: .\\myenv\\Lib\\site-packages\\jedi\\third_party\\typeshed\\third_party\\2and3\\markdown\\extensions\n",
      "Directories: []\n",
      "Files: ['abbr.pyi', 'admonition.pyi', 'attr_list.pyi', 'codehilite.pyi', 'def_list.pyi', 'extra.pyi', 'fenced_code.pyi', 'footnotes.pyi', 'legacy_attrs.pyi', 'legacy_em.pyi', 'md_in_html.pyi', 'meta.pyi', 'nl2br.pyi', 'sane_lists.pyi', 'smarty.pyi', 'tables.pyi', 'toc.pyi', 'wikilinks.pyi', '__init__.pyi']\n",
      "\n",
      "Current directory path: .\\myenv\\Lib\\site-packages\\jedi\\third_party\\typeshed\\third_party\\2and3\\markupsafe\n",
      "Directories: []\n",
      "Files: ['_compat.pyi', '_constants.pyi', '_native.pyi', '_speedups.pyi', '__init__.pyi']\n",
      "\n",
      "Current directory path: .\\myenv\\Lib\\site-packages\\jedi\\third_party\\typeshed\\third_party\\2and3\\maxminddb\n",
      "Directories: []\n",
      "Files: ['compat.pyi', 'const.pyi', 'decoder.pyi', 'errors.pyi', 'extension.pyi', 'reader.pyi', '__init__.pyi']\n",
      "\n",
      "Current directory path: .\\myenv\\Lib\\site-packages\\jedi\\third_party\\typeshed\\third_party\\2and3\\nmap\n",
      "Directories: []\n",
      "Files: ['nmap.pyi', '__init__.pyi']\n",
      "\n",
      "Current directory path: .\\myenv\\Lib\\site-packages\\jedi\\third_party\\typeshed\\third_party\\2and3\\paramiko\n",
      "Directories: []\n",
      "Files: ['agent.pyi', 'auth_handler.pyi', 'ber.pyi', 'buffered_pipe.pyi', 'channel.pyi', 'client.pyi', 'common.pyi', 'compress.pyi', 'config.pyi', 'dsskey.pyi', 'ecdsakey.pyi', 'ed25519key.pyi', 'file.pyi', 'hostkeys.pyi', 'kex_curve25519.pyi', 'kex_ecdh_nist.pyi', 'kex_gex.pyi', 'kex_group1.pyi', 'kex_group14.pyi', 'kex_group16.pyi', 'kex_gss.pyi', 'message.pyi', 'packet.pyi', 'pipe.pyi', 'pkey.pyi', 'primes.pyi', 'proxy.pyi', 'py3compat.pyi', 'rsakey.pyi', 'server.pyi', 'sftp.pyi', 'sftp_attr.pyi', 'sftp_client.pyi', 'sftp_file.pyi', 'sftp_handle.pyi', 'sftp_server.pyi', 'sftp_si.pyi', 'ssh_exception.pyi', 'ssh_gss.pyi', 'transport.pyi', 'util.pyi', 'win_pageant.pyi', '_version.pyi', '_winapi.pyi', '__init__.pyi']\n",
      "\n",
      "Current directory path: .\\myenv\\Lib\\site-packages\\jedi\\third_party\\typeshed\\third_party\\2and3\\pymysql\n",
      "Directories: ['constants']\n",
      "Files: ['charset.pyi', 'connections.pyi', 'converters.pyi', 'cursors.pyi', 'err.pyi', 'times.pyi', 'util.pyi', '__init__.pyi']\n",
      "\n",
      "Current directory path: .\\myenv\\Lib\\site-packages\\jedi\\third_party\\typeshed\\third_party\\2and3\\pymysql\\constants\n",
      "Directories: []\n",
      "Files: ['CLIENT.pyi', 'COMMAND.pyi', 'ER.pyi', 'FIELD_TYPE.pyi', 'FLAG.pyi', 'SERVER_STATUS.pyi', '__init__.pyi']\n",
      "\n",
      "Current directory path: .\\myenv\\Lib\\site-packages\\jedi\\third_party\\typeshed\\third_party\\2and3\\pynamodb\n",
      "Directories: ['connection']\n",
      "Files: ['attributes.pyi', 'constants.pyi', 'exceptions.pyi', 'indexes.pyi', 'models.pyi', 'settings.pyi', 'throttle.pyi', 'types.pyi', '__init__.pyi']\n",
      "\n",
      "Current directory path: .\\myenv\\Lib\\site-packages\\jedi\\third_party\\typeshed\\third_party\\2and3\\pynamodb\\connection\n",
      "Directories: []\n",
      "Files: ['base.pyi', 'table.pyi', 'util.pyi', '__init__.pyi']\n",
      "\n",
      "Current directory path: .\\myenv\\Lib\\site-packages\\jedi\\third_party\\typeshed\\third_party\\2and3\\pytz\n",
      "Directories: []\n",
      "Files: ['__init__.pyi']\n",
      "\n",
      "Current directory path: .\\myenv\\Lib\\site-packages\\jedi\\third_party\\typeshed\\third_party\\2and3\\pyVmomi\n",
      "Directories: ['vim', 'vmodl']\n",
      "Files: ['__init__.pyi']\n",
      "\n",
      "Current directory path: .\\myenv\\Lib\\site-packages\\jedi\\third_party\\typeshed\\third_party\\2and3\\pyVmomi\\vim\n",
      "Directories: []\n",
      "Files: ['event.pyi', 'fault.pyi', 'option.pyi', 'view.pyi', '__init__.pyi']\n",
      "\n",
      "Current directory path: .\\myenv\\Lib\\site-packages\\jedi\\third_party\\typeshed\\third_party\\2and3\\pyVmomi\\vmodl\n",
      "Directories: []\n",
      "Files: ['fault.pyi', 'query.pyi', '__init__.pyi']\n",
      "\n",
      "Current directory path: .\\myenv\\Lib\\site-packages\\jedi\\third_party\\typeshed\\third_party\\2and3\\redis\n",
      "Directories: []\n",
      "Files: ['client.pyi', 'connection.pyi', 'exceptions.pyi', 'utils.pyi', '__init__.pyi']\n",
      "\n",
      "Current directory path: .\\myenv\\Lib\\site-packages\\jedi\\third_party\\typeshed\\third_party\\2and3\\requests\n",
      "Directories: ['packages']\n",
      "Files: ['adapters.pyi', 'api.pyi', 'auth.pyi', 'compat.pyi', 'cookies.pyi', 'exceptions.pyi', 'hooks.pyi', 'models.pyi', 'sessions.pyi', 'status_codes.pyi', 'structures.pyi', 'utils.pyi', '__init__.pyi']\n",
      "\n",
      "Current directory path: .\\myenv\\Lib\\site-packages\\jedi\\third_party\\typeshed\\third_party\\2and3\\requests\\packages\n",
      "Directories: ['urllib3']\n",
      "Files: ['__init__.pyi']\n",
      "\n",
      "Current directory path: .\\myenv\\Lib\\site-packages\\jedi\\third_party\\typeshed\\third_party\\2and3\\requests\\packages\\urllib3\n",
      "Directories: ['contrib', 'packages', 'util']\n",
      "Files: ['connection.pyi', 'connectionpool.pyi', 'exceptions.pyi', 'fields.pyi', 'filepost.pyi', 'poolmanager.pyi', 'request.pyi', 'response.pyi', '_collections.pyi', '__init__.pyi']\n",
      "\n",
      "Current directory path: .\\myenv\\Lib\\site-packages\\jedi\\third_party\\typeshed\\third_party\\2and3\\requests\\packages\\urllib3\\contrib\n",
      "Directories: []\n",
      "Files: ['__init__.pyi']\n",
      "\n",
      "Current directory path: .\\myenv\\Lib\\site-packages\\jedi\\third_party\\typeshed\\third_party\\2and3\\requests\\packages\\urllib3\\packages\n",
      "Directories: ['ssl_match_hostname']\n",
      "Files: ['__init__.pyi']\n",
      "\n",
      "Current directory path: .\\myenv\\Lib\\site-packages\\jedi\\third_party\\typeshed\\third_party\\2and3\\requests\\packages\\urllib3\\packages\\ssl_match_hostname\n",
      "Directories: []\n",
      "Files: ['_implementation.pyi', '__init__.pyi']\n",
      "\n",
      "Current directory path: .\\myenv\\Lib\\site-packages\\jedi\\third_party\\typeshed\\third_party\\2and3\\requests\\packages\\urllib3\\util\n",
      "Directories: []\n",
      "Files: ['connection.pyi', 'request.pyi', 'response.pyi', 'retry.pyi', 'ssl_.pyi', 'timeout.pyi', 'url.pyi', '__init__.pyi']\n",
      "\n",
      "Current directory path: .\\myenv\\Lib\\site-packages\\jedi\\third_party\\typeshed\\third_party\\2and3\\retry\n",
      "Directories: []\n",
      "Files: ['api.pyi', '__init__.pyi']\n",
      "\n",
      "Current directory path: .\\myenv\\Lib\\site-packages\\jedi\\third_party\\typeshed\\third_party\\2and3\\simplejson\n",
      "Directories: []\n",
      "Files: ['decoder.pyi', 'encoder.pyi', 'scanner.pyi', '__init__.pyi']\n",
      "\n",
      "Current directory path: .\\myenv\\Lib\\site-packages\\jedi\\third_party\\typeshed\\third_party\\2and3\\slugify\n",
      "Directories: []\n",
      "Files: ['slugify.pyi', 'special.pyi', '__init__.pyi']\n",
      "\n",
      "Current directory path: .\\myenv\\Lib\\site-packages\\jedi\\third_party\\typeshed\\third_party\\2and3\\tzlocal\n",
      "Directories: []\n",
      "Files: ['__init__.pyi']\n",
      "\n",
      "Current directory path: .\\myenv\\Lib\\site-packages\\jedi\\third_party\\typeshed\\third_party\\2and3\\werkzeug\n",
      "Directories: ['contrib', 'debug', 'middleware']\n",
      "Files: ['datastructures.pyi', 'exceptions.pyi', 'filesystem.pyi', 'formparser.pyi', 'http.pyi', 'local.pyi', 'posixemulation.pyi', 'routing.pyi', 'script.pyi', 'security.pyi', 'serving.pyi', 'test.pyi', 'testapp.pyi', 'urls.pyi', 'useragents.pyi', 'utils.pyi', 'wrappers.pyi', 'wsgi.pyi', '_compat.pyi', '_internal.pyi', '_reloader.pyi', '__init__.pyi']\n",
      "\n",
      "Current directory path: .\\myenv\\Lib\\site-packages\\jedi\\third_party\\typeshed\\third_party\\2and3\\werkzeug\\contrib\n",
      "Directories: []\n",
      "Files: ['atom.pyi', 'cache.pyi', 'fixers.pyi', 'iterio.pyi', 'jsrouting.pyi', 'limiter.pyi', 'lint.pyi', 'profiler.pyi', 'securecookie.pyi', 'sessions.pyi', 'testtools.pyi', 'wrappers.pyi', '__init__.pyi']\n",
      "\n",
      "Current directory path: .\\myenv\\Lib\\site-packages\\jedi\\third_party\\typeshed\\third_party\\2and3\\werkzeug\\debug\n",
      "Directories: []\n",
      "Files: ['console.pyi', 'repr.pyi', 'tbtools.pyi', '__init__.pyi']\n",
      "\n",
      "Current directory path: .\\myenv\\Lib\\site-packages\\jedi\\third_party\\typeshed\\third_party\\2and3\\werkzeug\\middleware\n",
      "Directories: []\n",
      "Files: ['dispatcher.pyi', 'http_proxy.pyi', 'lint.pyi', 'profiler.pyi', 'proxy_fix.pyi', 'shared_data.pyi', '__init__.pyi']\n",
      "\n",
      "Current directory path: .\\myenv\\Lib\\site-packages\\jedi\\third_party\\typeshed\\third_party\\2and3\\yaml\n",
      "Directories: []\n",
      "Files: ['composer.pyi', 'constructor.pyi', 'cyaml.pyi', 'dumper.pyi', 'emitter.pyi', 'error.pyi', 'events.pyi', 'loader.pyi', 'nodes.pyi', 'parser.pyi', 'reader.pyi', 'representer.pyi', 'resolver.pyi', 'scanner.pyi', 'serializer.pyi', 'tokens.pyi', '__init__.pyi']\n",
      "\n",
      "Current directory path: .\\myenv\\Lib\\site-packages\\jedi\\third_party\\typeshed\\third_party\\3\n",
      "Directories: ['aiofiles', 'docutils', 'filelock', 'freezegun', 'jwt', 'pkg_resources', 'pyrfc3339', 'six', 'typed_ast', 'waitress']\n",
      "Files: ['contextvars.pyi', 'dataclasses.pyi', 'frozendict.pyi', 'orjson.pyi']\n",
      "\n",
      "Current directory path: .\\myenv\\Lib\\site-packages\\jedi\\third_party\\typeshed\\third_party\\3\\aiofiles\n",
      "Directories: ['threadpool']\n",
      "Files: ['base.pyi', 'os.pyi', '__init__.pyi']\n",
      "\n",
      "Current directory path: .\\myenv\\Lib\\site-packages\\jedi\\third_party\\typeshed\\third_party\\3\\aiofiles\\threadpool\n",
      "Directories: []\n",
      "Files: ['binary.pyi', 'text.pyi', '__init__.pyi']\n",
      "\n",
      "Current directory path: .\\myenv\\Lib\\site-packages\\jedi\\third_party\\typeshed\\third_party\\3\\docutils\n",
      "Directories: ['parsers']\n",
      "Files: ['examples.pyi', 'nodes.pyi', '__init__.pyi']\n",
      "\n",
      "Current directory path: .\\myenv\\Lib\\site-packages\\jedi\\third_party\\typeshed\\third_party\\3\\docutils\\parsers\n",
      "Directories: ['rst']\n",
      "Files: ['__init__.pyi']\n",
      "\n",
      "Current directory path: .\\myenv\\Lib\\site-packages\\jedi\\third_party\\typeshed\\third_party\\3\\docutils\\parsers\\rst\n",
      "Directories: []\n",
      "Files: ['nodes.pyi', 'roles.pyi', 'states.pyi', '__init__.pyi']\n",
      "\n",
      "Current directory path: .\\myenv\\Lib\\site-packages\\jedi\\third_party\\typeshed\\third_party\\3\\filelock\n",
      "Directories: []\n",
      "Files: ['__init__.pyi']\n",
      "\n",
      "Current directory path: .\\myenv\\Lib\\site-packages\\jedi\\third_party\\typeshed\\third_party\\3\\freezegun\n",
      "Directories: []\n",
      "Files: ['api.pyi', '__init__.pyi']\n",
      "\n",
      "Current directory path: .\\myenv\\Lib\\site-packages\\jedi\\third_party\\typeshed\\third_party\\3\\jwt\n",
      "Directories: ['contrib']\n",
      "Files: ['algorithms.pyi', '__init__.pyi']\n",
      "\n",
      "Current directory path: .\\myenv\\Lib\\site-packages\\jedi\\third_party\\typeshed\\third_party\\3\\jwt\\contrib\n",
      "Directories: ['algorithms']\n",
      "Files: ['__init__.pyi']\n",
      "\n",
      "Current directory path: .\\myenv\\Lib\\site-packages\\jedi\\third_party\\typeshed\\third_party\\3\\jwt\\contrib\\algorithms\n",
      "Directories: []\n",
      "Files: ['pycrypto.pyi', 'py_ecdsa.pyi', '__init__.pyi']\n",
      "\n",
      "Current directory path: .\\myenv\\Lib\\site-packages\\jedi\\third_party\\typeshed\\third_party\\3\\pkg_resources\n",
      "Directories: []\n",
      "Files: ['py31compat.pyi', '__init__.pyi']\n",
      "\n",
      "Current directory path: .\\myenv\\Lib\\site-packages\\jedi\\third_party\\typeshed\\third_party\\3\\pyrfc3339\n",
      "Directories: []\n",
      "Files: ['generator.pyi', 'parser.pyi', 'utils.pyi', '__init__.pyi']\n",
      "\n",
      "Current directory path: .\\myenv\\Lib\\site-packages\\jedi\\third_party\\typeshed\\third_party\\3\\six\n",
      "Directories: ['moves']\n",
      "Files: ['__init__.pyi']\n",
      "\n",
      "Current directory path: .\\myenv\\Lib\\site-packages\\jedi\\third_party\\typeshed\\third_party\\3\\six\\moves\n",
      "Directories: ['urllib']\n",
      "Files: ['BaseHTTPServer.pyi', 'builtins.pyi', 'CGIHTTPServer.pyi', 'collections_abc.pyi', 'configparser.pyi', 'cPickle.pyi', 'email_mime_base.pyi', 'email_mime_multipart.pyi', 'email_mime_nonmultipart.pyi', 'email_mime_text.pyi', 'html_entities.pyi', 'html_parser.pyi', 'http_client.pyi', 'http_cookiejar.pyi', 'http_cookies.pyi', 'queue.pyi', 'reprlib.pyi', 'SimpleHTTPServer.pyi', 'socketserver.pyi', 'tkinter.pyi', 'tkinter_commondialog.pyi', 'tkinter_constants.pyi', 'tkinter_dialog.pyi', 'tkinter_filedialog.pyi', 'tkinter_tkfiledialog.pyi', 'tkinter_ttk.pyi', 'urllib_error.pyi', 'urllib_parse.pyi', 'urllib_request.pyi', 'urllib_response.pyi', 'urllib_robotparser.pyi', '_dummy_thread.pyi', '_thread.pyi', '__init__.pyi']\n",
      "\n",
      "Current directory path: .\\myenv\\Lib\\site-packages\\jedi\\third_party\\typeshed\\third_party\\3\\six\\moves\\urllib\n",
      "Directories: []\n",
      "Files: ['error.pyi', 'parse.pyi', 'request.pyi', 'response.pyi', 'robotparser.pyi', '__init__.pyi']\n",
      "\n",
      "Current directory path: .\\myenv\\Lib\\site-packages\\jedi\\third_party\\typeshed\\third_party\\3\\typed_ast\n",
      "Directories: []\n",
      "Files: ['ast27.pyi', 'ast3.pyi', 'conversions.pyi', '__init__.pyi']\n",
      "\n",
      "Current directory path: .\\myenv\\Lib\\site-packages\\jedi\\third_party\\typeshed\\third_party\\3\\waitress\n",
      "Directories: []\n",
      "Files: ['adjustments.pyi', 'buffers.pyi', 'channel.pyi', 'compat.pyi', 'parser.pyi', 'proxy_headers.pyi', 'receiver.pyi', 'rfc7230.pyi', 'runner.pyi', 'server.pyi', 'task.pyi', 'trigger.pyi', 'utilities.pyi', 'wasyncore.pyi', '__init__.pyi']\n",
      "\n",
      "Current directory path: .\\myenv\\Lib\\site-packages\\jedi\\__pycache__\n",
      "Directories: []\n",
      "Files: ['cache.cpython-313.pyc', 'common.cpython-313.pyc', 'debug.cpython-313.pyc', 'file_io.cpython-313.pyc', 'parser_utils.cpython-313.pyc', 'settings.cpython-313.pyc', 'utils.cpython-313.pyc', '_compatibility.cpython-313.pyc', '__init__.cpython-313.pyc', '__main__.cpython-313.pyc']\n",
      "\n",
      "Current directory path: .\\myenv\\Lib\\site-packages\\jedi-0.19.2.dist-info\n",
      "Directories: []\n",
      "Files: ['AUTHORS.txt', 'INSTALLER', 'LICENSE.txt', 'METADATA', 'RECORD', 'top_level.txt', 'WHEEL']\n",
      "\n",
      "Current directory path: .\\myenv\\Lib\\site-packages\\jupyter_client\n",
      "Directories: ['asynchronous', 'blocking', 'ioloop', 'provisioning', 'ssh', '__pycache__']\n",
      "Files: ['adapter.py', 'channels.py', 'channelsabc.py', 'client.py', 'clientabc.py', 'connect.py', 'consoleapp.py', 'jsonutil.py', 'kernelapp.py', 'kernelspec.py', 'kernelspecapp.py', 'launcher.py', 'localinterfaces.py', 'manager.py', 'managerabc.py', 'multikernelmanager.py', 'py.typed', 'restarter.py', 'runapp.py', 'session.py', 'threaded.py', 'utils.py', 'win_interrupt.py', '_version.py', '__init__.py']\n",
      "\n",
      "Current directory path: .\\myenv\\Lib\\site-packages\\jupyter_client\\asynchronous\n",
      "Directories: ['__pycache__']\n",
      "Files: ['client.py', '__init__.py']\n",
      "\n",
      "Current directory path: .\\myenv\\Lib\\site-packages\\jupyter_client\\asynchronous\\__pycache__\n",
      "Directories: []\n",
      "Files: ['client.cpython-313.pyc', '__init__.cpython-313.pyc']\n",
      "\n",
      "Current directory path: .\\myenv\\Lib\\site-packages\\jupyter_client\\blocking\n",
      "Directories: ['__pycache__']\n",
      "Files: ['client.py', '__init__.py']\n",
      "\n",
      "Current directory path: .\\myenv\\Lib\\site-packages\\jupyter_client\\blocking\\__pycache__\n",
      "Directories: []\n",
      "Files: ['client.cpython-313.pyc', '__init__.cpython-313.pyc']\n",
      "\n",
      "Current directory path: .\\myenv\\Lib\\site-packages\\jupyter_client\\ioloop\n",
      "Directories: ['__pycache__']\n",
      "Files: ['manager.py', 'restarter.py', '__init__.py']\n",
      "\n",
      "Current directory path: .\\myenv\\Lib\\site-packages\\jupyter_client\\ioloop\\__pycache__\n",
      "Directories: []\n",
      "Files: ['manager.cpython-313.pyc', 'restarter.cpython-313.pyc', '__init__.cpython-313.pyc']\n",
      "\n",
      "Current directory path: .\\myenv\\Lib\\site-packages\\jupyter_client\\provisioning\n",
      "Directories: ['__pycache__']\n",
      "Files: ['factory.py', 'local_provisioner.py', 'provisioner_base.py', '__init__.py']\n",
      "\n",
      "Current directory path: .\\myenv\\Lib\\site-packages\\jupyter_client\\provisioning\\__pycache__\n",
      "Directories: []\n",
      "Files: ['factory.cpython-313.pyc', 'local_provisioner.cpython-313.pyc', 'provisioner_base.cpython-313.pyc', '__init__.cpython-313.pyc']\n",
      "\n",
      "Current directory path: .\\myenv\\Lib\\site-packages\\jupyter_client\\ssh\n",
      "Directories: ['__pycache__']\n",
      "Files: ['forward.py', 'tunnel.py', '__init__.py']\n",
      "\n",
      "Current directory path: .\\myenv\\Lib\\site-packages\\jupyter_client\\ssh\\__pycache__\n",
      "Directories: []\n",
      "Files: ['forward.cpython-313.pyc', 'tunnel.cpython-313.pyc', '__init__.cpython-313.pyc']\n",
      "\n",
      "Current directory path: .\\myenv\\Lib\\site-packages\\jupyter_client\\__pycache__\n",
      "Directories: []\n",
      "Files: ['adapter.cpython-313.pyc', 'channels.cpython-313.pyc', 'channelsabc.cpython-313.pyc', 'client.cpython-313.pyc', 'clientabc.cpython-313.pyc', 'connect.cpython-313.pyc', 'consoleapp.cpython-313.pyc', 'jsonutil.cpython-313.pyc', 'kernelapp.cpython-313.pyc', 'kernelspec.cpython-313.pyc', 'kernelspecapp.cpython-313.pyc', 'launcher.cpython-313.pyc', 'localinterfaces.cpython-313.pyc', 'manager.cpython-313.pyc', 'managerabc.cpython-313.pyc', 'multikernelmanager.cpython-313.pyc', 'restarter.cpython-313.pyc', 'runapp.cpython-313.pyc', 'session.cpython-313.pyc', 'threaded.cpython-313.pyc', 'utils.cpython-313.pyc', 'win_interrupt.cpython-313.pyc', '_version.cpython-313.pyc', '__init__.cpython-313.pyc']\n",
      "\n",
      "Current directory path: .\\myenv\\Lib\\site-packages\\jupyter_client-8.6.3.dist-info\n",
      "Directories: ['licenses']\n",
      "Files: ['entry_points.txt', 'INSTALLER', 'METADATA', 'RECORD', 'WHEEL']\n",
      "\n",
      "Current directory path: .\\myenv\\Lib\\site-packages\\jupyter_client-8.6.3.dist-info\\licenses\n",
      "Directories: []\n",
      "Files: ['LICENSE']\n",
      "\n",
      "Current directory path: .\\myenv\\Lib\\site-packages\\jupyter_core\n",
      "Directories: ['utils', '__pycache__']\n",
      "Files: ['application.py', 'command.py', 'migrate.py', 'paths.py', 'py.typed', 'troubleshoot.py', 'version.py', '__init__.py', '__main__.py']\n",
      "\n",
      "Current directory path: .\\myenv\\Lib\\site-packages\\jupyter_core\\utils\n",
      "Directories: ['__pycache__']\n",
      "Files: ['__init__.py']\n",
      "\n",
      "Current directory path: .\\myenv\\Lib\\site-packages\\jupyter_core\\utils\\__pycache__\n",
      "Directories: []\n",
      "Files: ['__init__.cpython-313.pyc']\n",
      "\n",
      "Current directory path: .\\myenv\\Lib\\site-packages\\jupyter_core\\__pycache__\n",
      "Directories: []\n",
      "Files: ['application.cpython-313.pyc', 'command.cpython-313.pyc', 'migrate.cpython-313.pyc', 'paths.cpython-313.pyc', 'troubleshoot.cpython-313.pyc', 'version.cpython-313.pyc', '__init__.cpython-313.pyc', '__main__.cpython-313.pyc']\n",
      "\n",
      "Current directory path: .\\myenv\\Lib\\site-packages\\jupyter_core-5.8.1.dist-info\n",
      "Directories: ['licenses']\n",
      "Files: ['entry_points.txt', 'INSTALLER', 'METADATA', 'RECORD', 'WHEEL']\n",
      "\n",
      "Current directory path: .\\myenv\\Lib\\site-packages\\jupyter_core-5.8.1.dist-info\\licenses\n",
      "Directories: []\n",
      "Files: ['LICENSE']\n",
      "\n",
      "Current directory path: .\\myenv\\Lib\\site-packages\\matplotlib_inline\n",
      "Directories: ['__pycache__']\n",
      "Files: ['backend_inline.py', 'config.py', '__init__.py']\n",
      "\n",
      "Current directory path: .\\myenv\\Lib\\site-packages\\matplotlib_inline\\__pycache__\n",
      "Directories: []\n",
      "Files: ['backend_inline.cpython-313.pyc', 'config.cpython-313.pyc', '__init__.cpython-313.pyc']\n",
      "\n",
      "Current directory path: .\\myenv\\Lib\\site-packages\\matplotlib_inline-0.1.7.dist-info\n",
      "Directories: []\n",
      "Files: ['entry_points.txt', 'INSTALLER', 'LICENSE', 'METADATA', 'RECORD', 'top_level.txt', 'WHEEL']\n",
      "\n",
      "Current directory path: .\\myenv\\Lib\\site-packages\\nest_asyncio-1.6.0.dist-info\n",
      "Directories: []\n",
      "Files: ['INSTALLER', 'LICENSE', 'METADATA', 'RECORD', 'top_level.txt', 'WHEEL']\n",
      "\n",
      "Current directory path: .\\myenv\\Lib\\site-packages\\packaging\n",
      "Directories: ['licenses', '__pycache__']\n",
      "Files: ['markers.py', 'metadata.py', 'py.typed', 'requirements.py', 'specifiers.py', 'tags.py', 'utils.py', 'version.py', '_elffile.py', '_manylinux.py', '_musllinux.py', '_parser.py', '_structures.py', '_tokenizer.py', '__init__.py']\n",
      "\n",
      "Current directory path: .\\myenv\\Lib\\site-packages\\packaging\\licenses\n",
      "Directories: ['__pycache__']\n",
      "Files: ['_spdx.py', '__init__.py']\n",
      "\n",
      "Current directory path: .\\myenv\\Lib\\site-packages\\packaging\\licenses\\__pycache__\n",
      "Directories: []\n",
      "Files: ['_spdx.cpython-313.pyc', '__init__.cpython-313.pyc']\n",
      "\n",
      "Current directory path: .\\myenv\\Lib\\site-packages\\packaging\\__pycache__\n",
      "Directories: []\n",
      "Files: ['markers.cpython-313.pyc', 'metadata.cpython-313.pyc', 'requirements.cpython-313.pyc', 'specifiers.cpython-313.pyc', 'tags.cpython-313.pyc', 'utils.cpython-313.pyc', 'version.cpython-313.pyc', '_elffile.cpython-313.pyc', '_manylinux.cpython-313.pyc', '_musllinux.cpython-313.pyc', '_parser.cpython-313.pyc', '_structures.cpython-313.pyc', '_tokenizer.cpython-313.pyc', '__init__.cpython-313.pyc']\n",
      "\n",
      "Current directory path: .\\myenv\\Lib\\site-packages\\packaging-25.0.dist-info\n",
      "Directories: ['licenses']\n",
      "Files: ['INSTALLER', 'METADATA', 'RECORD', 'WHEEL']\n",
      "\n",
      "Current directory path: .\\myenv\\Lib\\site-packages\\packaging-25.0.dist-info\\licenses\n",
      "Directories: []\n",
      "Files: ['LICENSE', 'LICENSE.APACHE', 'LICENSE.BSD']\n",
      "\n",
      "Current directory path: .\\myenv\\Lib\\site-packages\\parso\n",
      "Directories: ['pgen2', 'python', '__pycache__']\n",
      "Files: ['cache.py', 'file_io.py', 'grammar.py', 'normalizer.py', 'parser.py', 'py.typed', 'tree.py', 'utils.py', '_compatibility.py', '__init__.py']\n",
      "\n",
      "Current directory path: .\\myenv\\Lib\\site-packages\\parso\\pgen2\n",
      "Directories: ['__pycache__']\n",
      "Files: ['generator.py', 'grammar_parser.py', '__init__.py']\n",
      "\n",
      "Current directory path: .\\myenv\\Lib\\site-packages\\parso\\pgen2\\__pycache__\n",
      "Directories: []\n",
      "Files: ['generator.cpython-313.pyc', 'grammar_parser.cpython-313.pyc', '__init__.cpython-313.pyc']\n",
      "\n",
      "Current directory path: .\\myenv\\Lib\\site-packages\\parso\\python\n",
      "Directories: ['__pycache__']\n",
      "Files: ['diff.py', 'errors.py', 'grammar310.txt', 'grammar311.txt', 'grammar312.txt', 'grammar313.txt', 'grammar314.txt', 'grammar36.txt', 'grammar37.txt', 'grammar38.txt', 'grammar39.txt', 'parser.py', 'pep8.py', 'prefix.py', 'token.py', 'tokenize.py', 'tree.py', '__init__.py']\n",
      "\n",
      "Current directory path: .\\myenv\\Lib\\site-packages\\parso\\python\\__pycache__\n",
      "Directories: []\n",
      "Files: ['diff.cpython-313.pyc', 'errors.cpython-313.pyc', 'parser.cpython-313.pyc', 'pep8.cpython-313.pyc', 'prefix.cpython-313.pyc', 'token.cpython-313.pyc', 'tokenize.cpython-313.pyc', 'tree.cpython-313.pyc', '__init__.cpython-313.pyc']\n",
      "\n",
      "Current directory path: .\\myenv\\Lib\\site-packages\\parso\\__pycache__\n",
      "Directories: []\n",
      "Files: ['cache.cpython-313.pyc', 'file_io.cpython-313.pyc', 'grammar.cpython-313.pyc', 'normalizer.cpython-313.pyc', 'parser.cpython-313.pyc', 'tree.cpython-313.pyc', 'utils.cpython-313.pyc', '_compatibility.cpython-313.pyc', '__init__.cpython-313.pyc']\n",
      "\n",
      "Current directory path: .\\myenv\\Lib\\site-packages\\parso-0.8.5.dist-info\n",
      "Directories: ['licenses']\n",
      "Files: ['INSTALLER', 'METADATA', 'RECORD', 'top_level.txt', 'WHEEL']\n",
      "\n",
      "Current directory path: .\\myenv\\Lib\\site-packages\\parso-0.8.5.dist-info\\licenses\n",
      "Directories: []\n",
      "Files: ['AUTHORS.txt', 'LICENSE.txt']\n",
      "\n",
      "Current directory path: .\\myenv\\Lib\\site-packages\\pip\n",
      "Directories: ['_internal', '_vendor', '__pycache__']\n",
      "Files: ['py.typed', '__init__.py', '__main__.py', '__pip-runner__.py']\n",
      "\n",
      "Current directory path: .\\myenv\\Lib\\site-packages\\pip\\_internal\n",
      "Directories: ['cli', 'commands', 'distributions', 'index', 'locations', 'metadata', 'models', 'network', 'operations', 'req', 'resolution', 'utils', 'vcs', '__pycache__']\n",
      "Files: ['build_env.py', 'cache.py', 'configuration.py', 'exceptions.py', 'main.py', 'pyproject.py', 'self_outdated_check.py', 'wheel_builder.py', '__init__.py']\n",
      "\n",
      "Current directory path: .\\myenv\\Lib\\site-packages\\pip\\_internal\\cli\n",
      "Directories: ['__pycache__']\n",
      "Files: ['autocompletion.py', 'base_command.py', 'cmdoptions.py', 'command_context.py', 'index_command.py', 'main.py', 'main_parser.py', 'parser.py', 'progress_bars.py', 'req_command.py', 'spinners.py', 'status_codes.py', '__init__.py']\n",
      "\n",
      "Current directory path: .\\myenv\\Lib\\site-packages\\pip\\_internal\\cli\\__pycache__\n",
      "Directories: []\n",
      "Files: ['autocompletion.cpython-313.pyc', 'base_command.cpython-313.pyc', 'cmdoptions.cpython-313.pyc', 'command_context.cpython-313.pyc', 'index_command.cpython-313.pyc', 'main.cpython-313.pyc', 'main_parser.cpython-313.pyc', 'parser.cpython-313.pyc', 'progress_bars.cpython-313.pyc', 'req_command.cpython-313.pyc', 'spinners.cpython-313.pyc', 'status_codes.cpython-313.pyc', '__init__.cpython-313.pyc']\n",
      "\n",
      "Current directory path: .\\myenv\\Lib\\site-packages\\pip\\_internal\\commands\n",
      "Directories: ['__pycache__']\n",
      "Files: ['cache.py', 'check.py', 'completion.py', 'configuration.py', 'debug.py', 'download.py', 'freeze.py', 'hash.py', 'help.py', 'index.py', 'inspect.py', 'install.py', 'list.py', 'lock.py', 'search.py', 'show.py', 'uninstall.py', 'wheel.py', '__init__.py']\n",
      "\n",
      "Current directory path: .\\myenv\\Lib\\site-packages\\pip\\_internal\\commands\\__pycache__\n",
      "Directories: []\n",
      "Files: ['cache.cpython-313.pyc', 'check.cpython-313.pyc', 'completion.cpython-313.pyc', 'configuration.cpython-313.pyc', 'debug.cpython-313.pyc', 'download.cpython-313.pyc', 'freeze.cpython-313.pyc', 'hash.cpython-313.pyc', 'help.cpython-313.pyc', 'index.cpython-313.pyc', 'inspect.cpython-313.pyc', 'install.cpython-313.pyc', 'list.cpython-313.pyc', 'lock.cpython-313.pyc', 'search.cpython-313.pyc', 'show.cpython-313.pyc', 'uninstall.cpython-313.pyc', 'wheel.cpython-313.pyc', '__init__.cpython-313.pyc']\n",
      "\n",
      "Current directory path: .\\myenv\\Lib\\site-packages\\pip\\_internal\\distributions\n",
      "Directories: ['__pycache__']\n",
      "Files: ['base.py', 'installed.py', 'sdist.py', 'wheel.py', '__init__.py']\n",
      "\n",
      "Current directory path: .\\myenv\\Lib\\site-packages\\pip\\_internal\\distributions\\__pycache__\n",
      "Directories: []\n",
      "Files: ['base.cpython-313.pyc', 'installed.cpython-313.pyc', 'sdist.cpython-313.pyc', 'wheel.cpython-313.pyc', '__init__.cpython-313.pyc']\n",
      "\n",
      "Current directory path: .\\myenv\\Lib\\site-packages\\pip\\_internal\\index\n",
      "Directories: ['__pycache__']\n",
      "Files: ['collector.py', 'package_finder.py', 'sources.py', '__init__.py']\n",
      "\n",
      "Current directory path: .\\myenv\\Lib\\site-packages\\pip\\_internal\\index\\__pycache__\n",
      "Directories: []\n",
      "Files: ['collector.cpython-313.pyc', 'package_finder.cpython-313.pyc', 'sources.cpython-313.pyc', '__init__.cpython-313.pyc']\n",
      "\n",
      "Current directory path: .\\myenv\\Lib\\site-packages\\pip\\_internal\\locations\n",
      "Directories: ['__pycache__']\n",
      "Files: ['base.py', '_distutils.py', '_sysconfig.py', '__init__.py']\n",
      "\n",
      "Current directory path: .\\myenv\\Lib\\site-packages\\pip\\_internal\\locations\\__pycache__\n",
      "Directories: []\n",
      "Files: ['base.cpython-313.pyc', '_distutils.cpython-313.pyc', '_sysconfig.cpython-313.pyc', '__init__.cpython-313.pyc']\n",
      "\n",
      "Current directory path: .\\myenv\\Lib\\site-packages\\pip\\_internal\\metadata\n",
      "Directories: ['importlib', '__pycache__']\n",
      "Files: ['base.py', 'pkg_resources.py', '_json.py', '__init__.py']\n",
      "\n",
      "Current directory path: .\\myenv\\Lib\\site-packages\\pip\\_internal\\metadata\\importlib\n",
      "Directories: ['__pycache__']\n",
      "Files: ['_compat.py', '_dists.py', '_envs.py', '__init__.py']\n",
      "\n",
      "Current directory path: .\\myenv\\Lib\\site-packages\\pip\\_internal\\metadata\\importlib\\__pycache__\n",
      "Directories: []\n",
      "Files: ['_compat.cpython-313.pyc', '_dists.cpython-313.pyc', '_envs.cpython-313.pyc', '__init__.cpython-313.pyc']\n",
      "\n",
      "Current directory path: .\\myenv\\Lib\\site-packages\\pip\\_internal\\metadata\\__pycache__\n",
      "Directories: []\n",
      "Files: ['base.cpython-313.pyc', 'pkg_resources.cpython-313.pyc', '_json.cpython-313.pyc', '__init__.cpython-313.pyc']\n",
      "\n",
      "Current directory path: .\\myenv\\Lib\\site-packages\\pip\\_internal\\models\n",
      "Directories: ['__pycache__']\n",
      "Files: ['candidate.py', 'direct_url.py', 'format_control.py', 'index.py', 'installation_report.py', 'link.py', 'pylock.py', 'scheme.py', 'search_scope.py', 'selection_prefs.py', 'target_python.py', 'wheel.py', '__init__.py']\n",
      "\n",
      "Current directory path: .\\myenv\\Lib\\site-packages\\pip\\_internal\\models\\__pycache__\n",
      "Directories: []\n",
      "Files: ['candidate.cpython-313.pyc', 'direct_url.cpython-313.pyc', 'format_control.cpython-313.pyc', 'index.cpython-313.pyc', 'installation_report.cpython-313.pyc', 'link.cpython-313.pyc', 'pylock.cpython-313.pyc', 'scheme.cpython-313.pyc', 'search_scope.cpython-313.pyc', 'selection_prefs.cpython-313.pyc', 'target_python.cpython-313.pyc', 'wheel.cpython-313.pyc', '__init__.cpython-313.pyc']\n",
      "\n",
      "Current directory path: .\\myenv\\Lib\\site-packages\\pip\\_internal\\network\n",
      "Directories: ['__pycache__']\n",
      "Files: ['auth.py', 'cache.py', 'download.py', 'lazy_wheel.py', 'session.py', 'utils.py', 'xmlrpc.py', '__init__.py']\n",
      "\n",
      "Current directory path: .\\myenv\\Lib\\site-packages\\pip\\_internal\\network\\__pycache__\n",
      "Directories: []\n",
      "Files: ['auth.cpython-313.pyc', 'cache.cpython-313.pyc', 'download.cpython-313.pyc', 'lazy_wheel.cpython-313.pyc', 'session.cpython-313.pyc', 'utils.cpython-313.pyc', 'xmlrpc.cpython-313.pyc', '__init__.cpython-313.pyc']\n",
      "\n",
      "Current directory path: .\\myenv\\Lib\\site-packages\\pip\\_internal\\operations\n",
      "Directories: ['build', 'install', '__pycache__']\n",
      "Files: ['check.py', 'freeze.py', 'prepare.py', '__init__.py']\n",
      "\n",
      "Current directory path: .\\myenv\\Lib\\site-packages\\pip\\_internal\\operations\\build\n",
      "Directories: ['__pycache__']\n",
      "Files: ['build_tracker.py', 'metadata.py', 'metadata_editable.py', 'metadata_legacy.py', 'wheel.py', 'wheel_editable.py', 'wheel_legacy.py', '__init__.py']\n",
      "\n",
      "Current directory path: .\\myenv\\Lib\\site-packages\\pip\\_internal\\operations\\build\\__pycache__\n",
      "Directories: []\n",
      "Files: ['build_tracker.cpython-313.pyc', 'metadata.cpython-313.pyc', 'metadata_editable.cpython-313.pyc', 'metadata_legacy.cpython-313.pyc', 'wheel.cpython-313.pyc', 'wheel_editable.cpython-313.pyc', 'wheel_legacy.cpython-313.pyc', '__init__.cpython-313.pyc']\n",
      "\n",
      "Current directory path: .\\myenv\\Lib\\site-packages\\pip\\_internal\\operations\\install\n",
      "Directories: ['__pycache__']\n",
      "Files: ['editable_legacy.py', 'wheel.py', '__init__.py']\n",
      "\n",
      "Current directory path: .\\myenv\\Lib\\site-packages\\pip\\_internal\\operations\\install\\__pycache__\n",
      "Directories: []\n",
      "Files: ['editable_legacy.cpython-313.pyc', 'wheel.cpython-313.pyc', '__init__.cpython-313.pyc']\n",
      "\n",
      "Current directory path: .\\myenv\\Lib\\site-packages\\pip\\_internal\\operations\\__pycache__\n",
      "Directories: []\n",
      "Files: ['check.cpython-313.pyc', 'freeze.cpython-313.pyc', 'prepare.cpython-313.pyc', '__init__.cpython-313.pyc']\n",
      "\n",
      "Current directory path: .\\myenv\\Lib\\site-packages\\pip\\_internal\\req\n",
      "Directories: ['__pycache__']\n",
      "Files: ['constructors.py', 'req_dependency_group.py', 'req_file.py', 'req_install.py', 'req_set.py', 'req_uninstall.py', '__init__.py']\n",
      "\n",
      "Current directory path: .\\myenv\\Lib\\site-packages\\pip\\_internal\\req\\__pycache__\n",
      "Directories: []\n",
      "Files: ['constructors.cpython-313.pyc', 'req_dependency_group.cpython-313.pyc', 'req_file.cpython-313.pyc', 'req_install.cpython-313.pyc', 'req_set.cpython-313.pyc', 'req_uninstall.cpython-313.pyc', '__init__.cpython-313.pyc']\n",
      "\n",
      "Current directory path: .\\myenv\\Lib\\site-packages\\pip\\_internal\\resolution\n",
      "Directories: ['legacy', 'resolvelib', '__pycache__']\n",
      "Files: ['base.py', '__init__.py']\n",
      "\n",
      "Current directory path: .\\myenv\\Lib\\site-packages\\pip\\_internal\\resolution\\legacy\n",
      "Directories: ['__pycache__']\n",
      "Files: ['resolver.py', '__init__.py']\n",
      "\n",
      "Current directory path: .\\myenv\\Lib\\site-packages\\pip\\_internal\\resolution\\legacy\\__pycache__\n",
      "Directories: []\n",
      "Files: ['resolver.cpython-313.pyc', '__init__.cpython-313.pyc']\n",
      "\n",
      "Current directory path: .\\myenv\\Lib\\site-packages\\pip\\_internal\\resolution\\resolvelib\n",
      "Directories: ['__pycache__']\n",
      "Files: ['base.py', 'candidates.py', 'factory.py', 'found_candidates.py', 'provider.py', 'reporter.py', 'requirements.py', 'resolver.py', '__init__.py']\n",
      "\n",
      "Current directory path: .\\myenv\\Lib\\site-packages\\pip\\_internal\\resolution\\resolvelib\\__pycache__\n",
      "Directories: []\n",
      "Files: ['base.cpython-313.pyc', 'candidates.cpython-313.pyc', 'factory.cpython-313.pyc', 'found_candidates.cpython-313.pyc', 'provider.cpython-313.pyc', 'reporter.cpython-313.pyc', 'requirements.cpython-313.pyc', 'resolver.cpython-313.pyc', '__init__.cpython-313.pyc']\n",
      "\n",
      "Current directory path: .\\myenv\\Lib\\site-packages\\pip\\_internal\\resolution\\__pycache__\n",
      "Directories: []\n",
      "Files: ['base.cpython-313.pyc', '__init__.cpython-313.pyc']\n",
      "\n",
      "Current directory path: .\\myenv\\Lib\\site-packages\\pip\\_internal\\utils\n",
      "Directories: ['__pycache__']\n",
      "Files: ['appdirs.py', 'compat.py', 'compatibility_tags.py', 'datetime.py', 'deprecation.py', 'direct_url_helpers.py', 'egg_link.py', 'entrypoints.py', 'filesystem.py', 'filetypes.py', 'glibc.py', 'hashes.py', 'logging.py', 'misc.py', 'packaging.py', 'retry.py', 'setuptools_build.py', 'subprocess.py', 'temp_dir.py', 'unpacking.py', 'urls.py', 'virtualenv.py', 'wheel.py', '_jaraco_text.py', '_log.py', '__init__.py']\n",
      "\n",
      "Current directory path: .\\myenv\\Lib\\site-packages\\pip\\_internal\\utils\\__pycache__\n",
      "Directories: []\n",
      "Files: ['appdirs.cpython-313.pyc', 'compat.cpython-313.pyc', 'compatibility_tags.cpython-313.pyc', 'datetime.cpython-313.pyc', 'deprecation.cpython-313.pyc', 'direct_url_helpers.cpython-313.pyc', 'egg_link.cpython-313.pyc', 'entrypoints.cpython-313.pyc', 'filesystem.cpython-313.pyc', 'filetypes.cpython-313.pyc', 'glibc.cpython-313.pyc', 'hashes.cpython-313.pyc', 'logging.cpython-313.pyc', 'misc.cpython-313.pyc', 'packaging.cpython-313.pyc', 'retry.cpython-313.pyc', 'setuptools_build.cpython-313.pyc', 'subprocess.cpython-313.pyc', 'temp_dir.cpython-313.pyc', 'unpacking.cpython-313.pyc', 'urls.cpython-313.pyc', 'virtualenv.cpython-313.pyc', 'wheel.cpython-313.pyc', '_jaraco_text.cpython-313.pyc', '_log.cpython-313.pyc', '__init__.cpython-313.pyc']\n",
      "\n",
      "Current directory path: .\\myenv\\Lib\\site-packages\\pip\\_internal\\vcs\n",
      "Directories: ['__pycache__']\n",
      "Files: ['bazaar.py', 'git.py', 'mercurial.py', 'subversion.py', 'versioncontrol.py', '__init__.py']\n",
      "\n",
      "Current directory path: .\\myenv\\Lib\\site-packages\\pip\\_internal\\vcs\\__pycache__\n",
      "Directories: []\n",
      "Files: ['bazaar.cpython-313.pyc', 'git.cpython-313.pyc', 'mercurial.cpython-313.pyc', 'subversion.cpython-313.pyc', 'versioncontrol.cpython-313.pyc', '__init__.cpython-313.pyc']\n",
      "\n",
      "Current directory path: .\\myenv\\Lib\\site-packages\\pip\\_internal\\__pycache__\n",
      "Directories: []\n",
      "Files: ['build_env.cpython-313.pyc', 'cache.cpython-313.pyc', 'configuration.cpython-313.pyc', 'exceptions.cpython-313.pyc', 'main.cpython-313.pyc', 'pyproject.cpython-313.pyc', 'self_outdated_check.cpython-313.pyc', 'wheel_builder.cpython-313.pyc', '__init__.cpython-313.pyc']\n",
      "\n",
      "Current directory path: .\\myenv\\Lib\\site-packages\\pip\\_vendor\n",
      "Directories: ['cachecontrol', 'certifi', 'dependency_groups', 'distlib', 'distro', 'idna', 'msgpack', 'packaging', 'pkg_resources', 'platformdirs', 'pygments', 'pyproject_hooks', 'requests', 'resolvelib', 'rich', 'tomli', 'tomli_w', 'truststore', 'urllib3', '__pycache__']\n",
      "Files: ['vendor.txt', '__init__.py']\n",
      "\n",
      "Current directory path: .\\myenv\\Lib\\site-packages\\pip\\_vendor\\cachecontrol\n",
      "Directories: ['caches', '__pycache__']\n",
      "Files: ['adapter.py', 'cache.py', 'controller.py', 'filewrapper.py', 'heuristics.py', 'py.typed', 'serialize.py', 'wrapper.py', '_cmd.py', '__init__.py']\n",
      "\n",
      "Current directory path: .\\myenv\\Lib\\site-packages\\pip\\_vendor\\cachecontrol\\caches\n",
      "Directories: ['__pycache__']\n",
      "Files: ['file_cache.py', 'redis_cache.py', '__init__.py']\n",
      "\n",
      "Current directory path: .\\myenv\\Lib\\site-packages\\pip\\_vendor\\cachecontrol\\caches\\__pycache__\n",
      "Directories: []\n",
      "Files: ['file_cache.cpython-313.pyc', 'redis_cache.cpython-313.pyc', '__init__.cpython-313.pyc']\n",
      "\n",
      "Current directory path: .\\myenv\\Lib\\site-packages\\pip\\_vendor\\cachecontrol\\__pycache__\n",
      "Directories: []\n",
      "Files: ['adapter.cpython-313.pyc', 'cache.cpython-313.pyc', 'controller.cpython-313.pyc', 'filewrapper.cpython-313.pyc', 'heuristics.cpython-313.pyc', 'serialize.cpython-313.pyc', 'wrapper.cpython-313.pyc', '_cmd.cpython-313.pyc', '__init__.cpython-313.pyc']\n",
      "\n",
      "Current directory path: .\\myenv\\Lib\\site-packages\\pip\\_vendor\\certifi\n",
      "Directories: ['__pycache__']\n",
      "Files: ['cacert.pem', 'core.py', 'py.typed', '__init__.py', '__main__.py']\n",
      "\n",
      "Current directory path: .\\myenv\\Lib\\site-packages\\pip\\_vendor\\certifi\\__pycache__\n",
      "Directories: []\n",
      "Files: ['core.cpython-313.pyc', '__init__.cpython-313.pyc', '__main__.cpython-313.pyc']\n",
      "\n",
      "Current directory path: .\\myenv\\Lib\\site-packages\\pip\\_vendor\\dependency_groups\n",
      "Directories: ['__pycache__']\n",
      "Files: ['py.typed', '_implementation.py', '_lint_dependency_groups.py', '_pip_wrapper.py', '_toml_compat.py', '__init__.py', '__main__.py']\n",
      "\n",
      "Current directory path: .\\myenv\\Lib\\site-packages\\pip\\_vendor\\dependency_groups\\__pycache__\n",
      "Directories: []\n",
      "Files: ['_implementation.cpython-313.pyc', '_lint_dependency_groups.cpython-313.pyc', '_pip_wrapper.cpython-313.pyc', '_toml_compat.cpython-313.pyc', '__init__.cpython-313.pyc', '__main__.cpython-313.pyc']\n",
      "\n",
      "Current directory path: .\\myenv\\Lib\\site-packages\\pip\\_vendor\\distlib\n",
      "Directories: ['__pycache__']\n",
      "Files: ['compat.py', 'resources.py', 'scripts.py', 't32.exe', 't64-arm.exe', 't64.exe', 'util.py', 'w32.exe', 'w64-arm.exe', 'w64.exe', '__init__.py']\n",
      "\n",
      "Current directory path: .\\myenv\\Lib\\site-packages\\pip\\_vendor\\distlib\\__pycache__\n",
      "Directories: []\n",
      "Files: ['compat.cpython-313.pyc', 'resources.cpython-313.pyc', 'scripts.cpython-313.pyc', 'util.cpython-313.pyc', '__init__.cpython-313.pyc']\n",
      "\n",
      "Current directory path: .\\myenv\\Lib\\site-packages\\pip\\_vendor\\distro\n",
      "Directories: ['__pycache__']\n",
      "Files: ['distro.py', 'py.typed', '__init__.py', '__main__.py']\n",
      "\n",
      "Current directory path: .\\myenv\\Lib\\site-packages\\pip\\_vendor\\distro\\__pycache__\n",
      "Directories: []\n",
      "Files: ['distro.cpython-313.pyc', '__init__.cpython-313.pyc', '__main__.cpython-313.pyc']\n",
      "\n",
      "Current directory path: .\\myenv\\Lib\\site-packages\\pip\\_vendor\\idna\n",
      "Directories: ['__pycache__']\n",
      "Files: ['codec.py', 'compat.py', 'core.py', 'idnadata.py', 'intranges.py', 'package_data.py', 'py.typed', 'uts46data.py', '__init__.py']\n",
      "\n",
      "Current directory path: .\\myenv\\Lib\\site-packages\\pip\\_vendor\\idna\\__pycache__\n",
      "Directories: []\n",
      "Files: ['codec.cpython-313.pyc', 'compat.cpython-313.pyc', 'core.cpython-313.pyc', 'idnadata.cpython-313.pyc', 'intranges.cpython-313.pyc', 'package_data.cpython-313.pyc', 'uts46data.cpython-313.pyc', '__init__.cpython-313.pyc']\n",
      "\n",
      "Current directory path: .\\myenv\\Lib\\site-packages\\pip\\_vendor\\msgpack\n",
      "Directories: ['__pycache__']\n",
      "Files: ['exceptions.py', 'ext.py', 'fallback.py', '__init__.py']\n",
      "\n",
      "Current directory path: .\\myenv\\Lib\\site-packages\\pip\\_vendor\\msgpack\\__pycache__\n",
      "Directories: []\n",
      "Files: ['exceptions.cpython-313.pyc', 'ext.cpython-313.pyc', 'fallback.cpython-313.pyc', '__init__.cpython-313.pyc']\n",
      "\n",
      "Current directory path: .\\myenv\\Lib\\site-packages\\pip\\_vendor\\packaging\n",
      "Directories: ['licenses', '__pycache__']\n",
      "Files: ['markers.py', 'metadata.py', 'py.typed', 'requirements.py', 'specifiers.py', 'tags.py', 'utils.py', 'version.py', '_elffile.py', '_manylinux.py', '_musllinux.py', '_parser.py', '_structures.py', '_tokenizer.py', '__init__.py']\n",
      "\n",
      "Current directory path: .\\myenv\\Lib\\site-packages\\pip\\_vendor\\packaging\\licenses\n",
      "Directories: ['__pycache__']\n",
      "Files: ['_spdx.py', '__init__.py']\n",
      "\n",
      "Current directory path: .\\myenv\\Lib\\site-packages\\pip\\_vendor\\packaging\\licenses\\__pycache__\n",
      "Directories: []\n",
      "Files: ['_spdx.cpython-313.pyc', '__init__.cpython-313.pyc']\n",
      "\n",
      "Current directory path: .\\myenv\\Lib\\site-packages\\pip\\_vendor\\packaging\\__pycache__\n",
      "Directories: []\n",
      "Files: ['markers.cpython-313.pyc', 'metadata.cpython-313.pyc', 'requirements.cpython-313.pyc', 'specifiers.cpython-313.pyc', 'tags.cpython-313.pyc', 'utils.cpython-313.pyc', 'version.cpython-313.pyc', '_elffile.cpython-313.pyc', '_manylinux.cpython-313.pyc', '_musllinux.cpython-313.pyc', '_parser.cpython-313.pyc', '_structures.cpython-313.pyc', '_tokenizer.cpython-313.pyc', '__init__.cpython-313.pyc']\n",
      "\n",
      "Current directory path: .\\myenv\\Lib\\site-packages\\pip\\_vendor\\pkg_resources\n",
      "Directories: ['__pycache__']\n",
      "Files: ['__init__.py']\n",
      "\n",
      "Current directory path: .\\myenv\\Lib\\site-packages\\pip\\_vendor\\pkg_resources\\__pycache__\n",
      "Directories: []\n",
      "Files: ['__init__.cpython-313.pyc']\n",
      "\n",
      "Current directory path: .\\myenv\\Lib\\site-packages\\pip\\_vendor\\platformdirs\n",
      "Directories: ['__pycache__']\n",
      "Files: ['android.py', 'api.py', 'macos.py', 'py.typed', 'unix.py', 'version.py', 'windows.py', '__init__.py', '__main__.py']\n",
      "\n",
      "Current directory path: .\\myenv\\Lib\\site-packages\\pip\\_vendor\\platformdirs\\__pycache__\n",
      "Directories: []\n",
      "Files: ['android.cpython-313.pyc', 'api.cpython-313.pyc', 'macos.cpython-313.pyc', 'unix.cpython-313.pyc', 'version.cpython-313.pyc', 'windows.cpython-313.pyc', '__init__.cpython-313.pyc', '__main__.cpython-313.pyc']\n",
      "\n",
      "Current directory path: .\\myenv\\Lib\\site-packages\\pip\\_vendor\\pygments\n",
      "Directories: ['filters', 'formatters', 'lexers', 'styles', '__pycache__']\n",
      "Files: ['console.py', 'filter.py', 'formatter.py', 'lexer.py', 'modeline.py', 'plugin.py', 'regexopt.py', 'scanner.py', 'sphinxext.py', 'style.py', 'token.py', 'unistring.py', 'util.py', '__init__.py', '__main__.py']\n",
      "\n",
      "Current directory path: .\\myenv\\Lib\\site-packages\\pip\\_vendor\\pygments\\filters\n",
      "Directories: ['__pycache__']\n",
      "Files: ['__init__.py']\n",
      "\n",
      "Current directory path: .\\myenv\\Lib\\site-packages\\pip\\_vendor\\pygments\\filters\\__pycache__\n",
      "Directories: []\n",
      "Files: ['__init__.cpython-313.pyc']\n",
      "\n",
      "Current directory path: .\\myenv\\Lib\\site-packages\\pip\\_vendor\\pygments\\formatters\n",
      "Directories: ['__pycache__']\n",
      "Files: ['_mapping.py', '__init__.py']\n",
      "\n",
      "Current directory path: .\\myenv\\Lib\\site-packages\\pip\\_vendor\\pygments\\formatters\\__pycache__\n",
      "Directories: []\n",
      "Files: ['_mapping.cpython-313.pyc', '__init__.cpython-313.pyc']\n",
      "\n",
      "Current directory path: .\\myenv\\Lib\\site-packages\\pip\\_vendor\\pygments\\lexers\n",
      "Directories: ['__pycache__']\n",
      "Files: ['python.py', '_mapping.py', '__init__.py']\n",
      "\n",
      "Current directory path: .\\myenv\\Lib\\site-packages\\pip\\_vendor\\pygments\\lexers\\__pycache__\n",
      "Directories: []\n",
      "Files: ['python.cpython-313.pyc', '_mapping.cpython-313.pyc', '__init__.cpython-313.pyc']\n",
      "\n",
      "Current directory path: .\\myenv\\Lib\\site-packages\\pip\\_vendor\\pygments\\styles\n",
      "Directories: ['__pycache__']\n",
      "Files: ['_mapping.py', '__init__.py']\n",
      "\n",
      "Current directory path: .\\myenv\\Lib\\site-packages\\pip\\_vendor\\pygments\\styles\\__pycache__\n",
      "Directories: []\n",
      "Files: ['_mapping.cpython-313.pyc', '__init__.cpython-313.pyc']\n",
      "\n",
      "Current directory path: .\\myenv\\Lib\\site-packages\\pip\\_vendor\\pygments\\__pycache__\n",
      "Directories: []\n",
      "Files: ['console.cpython-313.pyc', 'filter.cpython-313.pyc', 'formatter.cpython-313.pyc', 'lexer.cpython-313.pyc', 'modeline.cpython-313.pyc', 'plugin.cpython-313.pyc', 'regexopt.cpython-313.pyc', 'scanner.cpython-313.pyc', 'sphinxext.cpython-313.pyc', 'style.cpython-313.pyc', 'token.cpython-313.pyc', 'unistring.cpython-313.pyc', 'util.cpython-313.pyc', '__init__.cpython-313.pyc', '__main__.cpython-313.pyc']\n",
      "\n",
      "Current directory path: .\\myenv\\Lib\\site-packages\\pip\\_vendor\\pyproject_hooks\n",
      "Directories: ['_in_process', '__pycache__']\n",
      "Files: ['py.typed', '_impl.py', '__init__.py']\n",
      "\n",
      "Current directory path: .\\myenv\\Lib\\site-packages\\pip\\_vendor\\pyproject_hooks\\_in_process\n",
      "Directories: ['__pycache__']\n",
      "Files: ['_in_process.py', '__init__.py']\n",
      "\n",
      "Current directory path: .\\myenv\\Lib\\site-packages\\pip\\_vendor\\pyproject_hooks\\_in_process\\__pycache__\n",
      "Directories: []\n",
      "Files: ['_in_process.cpython-313.pyc', '__init__.cpython-313.pyc']\n",
      "\n",
      "Current directory path: .\\myenv\\Lib\\site-packages\\pip\\_vendor\\pyproject_hooks\\__pycache__\n",
      "Directories: []\n",
      "Files: ['_impl.cpython-313.pyc', '__init__.cpython-313.pyc']\n",
      "\n",
      "Current directory path: .\\myenv\\Lib\\site-packages\\pip\\_vendor\\requests\n",
      "Directories: ['__pycache__']\n",
      "Files: ['adapters.py', 'api.py', 'auth.py', 'certs.py', 'compat.py', 'cookies.py', 'exceptions.py', 'help.py', 'hooks.py', 'models.py', 'packages.py', 'sessions.py', 'status_codes.py', 'structures.py', 'utils.py', '_internal_utils.py', '__init__.py', '__version__.py']\n",
      "\n",
      "Current directory path: .\\myenv\\Lib\\site-packages\\pip\\_vendor\\requests\\__pycache__\n",
      "Directories: []\n",
      "Files: ['adapters.cpython-313.pyc', 'api.cpython-313.pyc', 'auth.cpython-313.pyc', 'certs.cpython-313.pyc', 'compat.cpython-313.pyc', 'cookies.cpython-313.pyc', 'exceptions.cpython-313.pyc', 'help.cpython-313.pyc', 'hooks.cpython-313.pyc', 'models.cpython-313.pyc', 'packages.cpython-313.pyc', 'sessions.cpython-313.pyc', 'status_codes.cpython-313.pyc', 'structures.cpython-313.pyc', 'utils.cpython-313.pyc', '_internal_utils.cpython-313.pyc', '__init__.cpython-313.pyc', '__version__.cpython-313.pyc']\n",
      "\n",
      "Current directory path: .\\myenv\\Lib\\site-packages\\pip\\_vendor\\resolvelib\n",
      "Directories: ['resolvers', '__pycache__']\n",
      "Files: ['providers.py', 'py.typed', 'reporters.py', 'structs.py', '__init__.py']\n",
      "\n",
      "Current directory path: .\\myenv\\Lib\\site-packages\\pip\\_vendor\\resolvelib\\resolvers\n",
      "Directories: ['__pycache__']\n",
      "Files: ['abstract.py', 'criterion.py', 'exceptions.py', 'resolution.py', '__init__.py']\n",
      "\n",
      "Current directory path: .\\myenv\\Lib\\site-packages\\pip\\_vendor\\resolvelib\\resolvers\\__pycache__\n",
      "Directories: []\n",
      "Files: ['abstract.cpython-313.pyc', 'criterion.cpython-313.pyc', 'exceptions.cpython-313.pyc', 'resolution.cpython-313.pyc', '__init__.cpython-313.pyc']\n",
      "\n",
      "Current directory path: .\\myenv\\Lib\\site-packages\\pip\\_vendor\\resolvelib\\__pycache__\n",
      "Directories: []\n",
      "Files: ['providers.cpython-313.pyc', 'reporters.cpython-313.pyc', 'structs.cpython-313.pyc', '__init__.cpython-313.pyc']\n",
      "\n",
      "Current directory path: .\\myenv\\Lib\\site-packages\\pip\\_vendor\\rich\n",
      "Directories: ['__pycache__']\n",
      "Files: ['abc.py', 'align.py', 'ansi.py', 'bar.py', 'box.py', 'cells.py', 'color.py', 'color_triplet.py', 'columns.py', 'console.py', 'constrain.py', 'containers.py', 'control.py', 'default_styles.py', 'diagnose.py', 'emoji.py', 'errors.py', 'filesize.py', 'file_proxy.py', 'highlighter.py', 'json.py', 'jupyter.py', 'layout.py', 'live.py', 'live_render.py', 'logging.py', 'markup.py', 'measure.py', 'padding.py', 'pager.py', 'palette.py', 'panel.py', 'pretty.py', 'progress.py', 'progress_bar.py', 'prompt.py', 'protocol.py', 'py.typed', 'region.py', 'repr.py', 'rule.py', 'scope.py', 'screen.py', 'segment.py', 'spinner.py', 'status.py', 'style.py', 'styled.py', 'syntax.py', 'table.py', 'terminal_theme.py', 'text.py', 'theme.py', 'themes.py', 'traceback.py', 'tree.py', '_cell_widths.py', '_emoji_codes.py', '_emoji_replace.py', '_export_format.py', '_extension.py', '_fileno.py', '_inspect.py', '_log_render.py', '_loop.py', '_null_file.py', '_palettes.py', '_pick.py', '_ratio.py', '_spinners.py', '_stack.py', '_timer.py', '_win32_console.py', '_windows.py', '_windows_renderer.py', '_wrap.py', '__init__.py', '__main__.py']\n",
      "\n",
      "Current directory path: .\\myenv\\Lib\\site-packages\\pip\\_vendor\\rich\\__pycache__\n",
      "Directories: []\n",
      "Files: ['abc.cpython-313.pyc', 'align.cpython-313.pyc', 'ansi.cpython-313.pyc', 'bar.cpython-313.pyc', 'box.cpython-313.pyc', 'cells.cpython-313.pyc', 'color.cpython-313.pyc', 'color_triplet.cpython-313.pyc', 'columns.cpython-313.pyc', 'console.cpython-313.pyc', 'constrain.cpython-313.pyc', 'containers.cpython-313.pyc', 'control.cpython-313.pyc', 'default_styles.cpython-313.pyc', 'diagnose.cpython-313.pyc', 'emoji.cpython-313.pyc', 'errors.cpython-313.pyc', 'filesize.cpython-313.pyc', 'file_proxy.cpython-313.pyc', 'highlighter.cpython-313.pyc', 'json.cpython-313.pyc', 'jupyter.cpython-313.pyc', 'layout.cpython-313.pyc', 'live.cpython-313.pyc', 'live_render.cpython-313.pyc', 'logging.cpython-313.pyc', 'markup.cpython-313.pyc', 'measure.cpython-313.pyc', 'padding.cpython-313.pyc', 'pager.cpython-313.pyc', 'palette.cpython-313.pyc', 'panel.cpython-313.pyc', 'pretty.cpython-313.pyc', 'progress.cpython-313.pyc', 'progress_bar.cpython-313.pyc', 'prompt.cpython-313.pyc', 'protocol.cpython-313.pyc', 'region.cpython-313.pyc', 'repr.cpython-313.pyc', 'rule.cpython-313.pyc', 'scope.cpython-313.pyc', 'screen.cpython-313.pyc', 'segment.cpython-313.pyc', 'spinner.cpython-313.pyc', 'status.cpython-313.pyc', 'style.cpython-313.pyc', 'styled.cpython-313.pyc', 'syntax.cpython-313.pyc', 'table.cpython-313.pyc', 'terminal_theme.cpython-313.pyc', 'text.cpython-313.pyc', 'theme.cpython-313.pyc', 'themes.cpython-313.pyc', 'traceback.cpython-313.pyc', 'tree.cpython-313.pyc', '_cell_widths.cpython-313.pyc', '_emoji_codes.cpython-313.pyc', '_emoji_replace.cpython-313.pyc', '_export_format.cpython-313.pyc', '_extension.cpython-313.pyc', '_fileno.cpython-313.pyc', '_inspect.cpython-313.pyc', '_log_render.cpython-313.pyc', '_loop.cpython-313.pyc', '_null_file.cpython-313.pyc', '_palettes.cpython-313.pyc', '_pick.cpython-313.pyc', '_ratio.cpython-313.pyc', '_spinners.cpython-313.pyc', '_stack.cpython-313.pyc', '_timer.cpython-313.pyc', '_win32_console.cpython-313.pyc', '_windows.cpython-313.pyc', '_windows_renderer.cpython-313.pyc', '_wrap.cpython-313.pyc', '__init__.cpython-313.pyc', '__main__.cpython-313.pyc']\n",
      "\n",
      "Current directory path: .\\myenv\\Lib\\site-packages\\pip\\_vendor\\tomli\n",
      "Directories: ['__pycache__']\n",
      "Files: ['py.typed', '_parser.py', '_re.py', '_types.py', '__init__.py']\n",
      "\n",
      "Current directory path: .\\myenv\\Lib\\site-packages\\pip\\_vendor\\tomli\\__pycache__\n",
      "Directories: []\n",
      "Files: ['_parser.cpython-313.pyc', '_re.cpython-313.pyc', '_types.cpython-313.pyc', '__init__.cpython-313.pyc']\n",
      "\n",
      "Current directory path: .\\myenv\\Lib\\site-packages\\pip\\_vendor\\tomli_w\n",
      "Directories: ['__pycache__']\n",
      "Files: ['py.typed', '_writer.py', '__init__.py']\n",
      "\n",
      "Current directory path: .\\myenv\\Lib\\site-packages\\pip\\_vendor\\tomli_w\\__pycache__\n",
      "Directories: []\n",
      "Files: ['_writer.cpython-313.pyc', '__init__.cpython-313.pyc']\n",
      "\n",
      "Current directory path: .\\myenv\\Lib\\site-packages\\pip\\_vendor\\truststore\n",
      "Directories: ['__pycache__']\n",
      "Files: ['py.typed', '_api.py', '_macos.py', '_openssl.py', '_ssl_constants.py', '_windows.py', '__init__.py']\n",
      "\n",
      "Current directory path: .\\myenv\\Lib\\site-packages\\pip\\_vendor\\truststore\\__pycache__\n",
      "Directories: []\n",
      "Files: ['_api.cpython-313.pyc', '_macos.cpython-313.pyc', '_openssl.cpython-313.pyc', '_ssl_constants.cpython-313.pyc', '_windows.cpython-313.pyc', '__init__.cpython-313.pyc']\n",
      "\n",
      "Current directory path: .\\myenv\\Lib\\site-packages\\pip\\_vendor\\urllib3\n",
      "Directories: ['contrib', 'packages', 'util', '__pycache__']\n",
      "Files: ['connection.py', 'connectionpool.py', 'exceptions.py', 'fields.py', 'filepost.py', 'poolmanager.py', 'request.py', 'response.py', '_collections.py', '_version.py', '__init__.py']\n",
      "\n",
      "Current directory path: .\\myenv\\Lib\\site-packages\\pip\\_vendor\\urllib3\\contrib\n",
      "Directories: ['_securetransport', '__pycache__']\n",
      "Files: ['appengine.py', 'ntlmpool.py', 'pyopenssl.py', 'securetransport.py', 'socks.py', '_appengine_environ.py', '__init__.py']\n",
      "\n",
      "Current directory path: .\\myenv\\Lib\\site-packages\\pip\\_vendor\\urllib3\\contrib\\_securetransport\n",
      "Directories: ['__pycache__']\n",
      "Files: ['bindings.py', 'low_level.py', '__init__.py']\n",
      "\n",
      "Current directory path: .\\myenv\\Lib\\site-packages\\pip\\_vendor\\urllib3\\contrib\\_securetransport\\__pycache__\n",
      "Directories: []\n",
      "Files: ['bindings.cpython-313.pyc', 'low_level.cpython-313.pyc', '__init__.cpython-313.pyc']\n",
      "\n",
      "Current directory path: .\\myenv\\Lib\\site-packages\\pip\\_vendor\\urllib3\\contrib\\__pycache__\n",
      "Directories: []\n",
      "Files: ['appengine.cpython-313.pyc', 'ntlmpool.cpython-313.pyc', 'pyopenssl.cpython-313.pyc', 'securetransport.cpython-313.pyc', 'socks.cpython-313.pyc', '_appengine_environ.cpython-313.pyc', '__init__.cpython-313.pyc']\n",
      "\n",
      "Current directory path: .\\myenv\\Lib\\site-packages\\pip\\_vendor\\urllib3\\packages\n",
      "Directories: ['backports', '__pycache__']\n",
      "Files: ['six.py', '__init__.py']\n",
      "\n",
      "Current directory path: .\\myenv\\Lib\\site-packages\\pip\\_vendor\\urllib3\\packages\\backports\n",
      "Directories: ['__pycache__']\n",
      "Files: ['makefile.py', 'weakref_finalize.py', '__init__.py']\n",
      "\n",
      "Current directory path: .\\myenv\\Lib\\site-packages\\pip\\_vendor\\urllib3\\packages\\backports\\__pycache__\n",
      "Directories: []\n",
      "Files: ['makefile.cpython-313.pyc', 'weakref_finalize.cpython-313.pyc', '__init__.cpython-313.pyc']\n",
      "\n",
      "Current directory path: .\\myenv\\Lib\\site-packages\\pip\\_vendor\\urllib3\\packages\\__pycache__\n",
      "Directories: []\n",
      "Files: ['six.cpython-313.pyc', '__init__.cpython-313.pyc']\n",
      "\n",
      "Current directory path: .\\myenv\\Lib\\site-packages\\pip\\_vendor\\urllib3\\util\n",
      "Directories: ['__pycache__']\n",
      "Files: ['connection.py', 'proxy.py', 'queue.py', 'request.py', 'response.py', 'retry.py', 'ssltransport.py', 'ssl_.py', 'ssl_match_hostname.py', 'timeout.py', 'url.py', 'wait.py', '__init__.py']\n",
      "\n",
      "Current directory path: .\\myenv\\Lib\\site-packages\\pip\\_vendor\\urllib3\\util\\__pycache__\n",
      "Directories: []\n",
      "Files: ['connection.cpython-313.pyc', 'proxy.cpython-313.pyc', 'queue.cpython-313.pyc', 'request.cpython-313.pyc', 'response.cpython-313.pyc', 'retry.cpython-313.pyc', 'ssltransport.cpython-313.pyc', 'ssl_.cpython-313.pyc', 'ssl_match_hostname.cpython-313.pyc', 'timeout.cpython-313.pyc', 'url.cpython-313.pyc', 'wait.cpython-313.pyc', '__init__.cpython-313.pyc']\n",
      "\n",
      "Current directory path: .\\myenv\\Lib\\site-packages\\pip\\_vendor\\urllib3\\__pycache__\n",
      "Directories: []\n",
      "Files: ['connection.cpython-313.pyc', 'connectionpool.cpython-313.pyc', 'exceptions.cpython-313.pyc', 'fields.cpython-313.pyc', 'filepost.cpython-313.pyc', 'poolmanager.cpython-313.pyc', 'request.cpython-313.pyc', 'response.cpython-313.pyc', '_collections.cpython-313.pyc', '_version.cpython-313.pyc', '__init__.cpython-313.pyc']\n",
      "\n",
      "Current directory path: .\\myenv\\Lib\\site-packages\\pip\\_vendor\\__pycache__\n",
      "Directories: []\n",
      "Files: ['__init__.cpython-313.pyc']\n",
      "\n",
      "Current directory path: .\\myenv\\Lib\\site-packages\\pip\\__pycache__\n",
      "Directories: []\n",
      "Files: ['__init__.cpython-313.pyc', '__main__.cpython-313.pyc', '__pip-runner__.cpython-313.pyc']\n",
      "\n",
      "Current directory path: .\\myenv\\Lib\\site-packages\\pip-25.2.dist-info\n",
      "Directories: ['licenses']\n",
      "Files: ['entry_points.txt', 'INSTALLER', 'METADATA', 'RECORD', 'REQUESTED', 'top_level.txt', 'WHEEL']\n",
      "\n",
      "Current directory path: .\\myenv\\Lib\\site-packages\\pip-25.2.dist-info\\licenses\n",
      "Directories: ['src']\n",
      "Files: ['AUTHORS.txt', 'LICENSE.txt']\n",
      "\n",
      "Current directory path: .\\myenv\\Lib\\site-packages\\pip-25.2.dist-info\\licenses\\src\n",
      "Directories: ['pip']\n",
      "Files: []\n",
      "\n",
      "Current directory path: .\\myenv\\Lib\\site-packages\\pip-25.2.dist-info\\licenses\\src\\pip\n",
      "Directories: ['_vendor']\n",
      "Files: []\n",
      "\n",
      "Current directory path: .\\myenv\\Lib\\site-packages\\pip-25.2.dist-info\\licenses\\src\\pip\\_vendor\n",
      "Directories: ['cachecontrol', 'certifi', 'dependency_groups', 'distlib', 'distro', 'idna', 'msgpack', 'packaging', 'pkg_resources', 'platformdirs', 'pygments', 'pyproject_hooks', 'requests', 'resolvelib', 'rich', 'tomli', 'tomli_w', 'truststore', 'urllib3']\n",
      "Files: []\n",
      "\n",
      "Current directory path: .\\myenv\\Lib\\site-packages\\pip-25.2.dist-info\\licenses\\src\\pip\\_vendor\\cachecontrol\n",
      "Directories: []\n",
      "Files: ['LICENSE.txt']\n",
      "\n",
      "Current directory path: .\\myenv\\Lib\\site-packages\\pip-25.2.dist-info\\licenses\\src\\pip\\_vendor\\certifi\n",
      "Directories: []\n",
      "Files: ['LICENSE']\n",
      "\n",
      "Current directory path: .\\myenv\\Lib\\site-packages\\pip-25.2.dist-info\\licenses\\src\\pip\\_vendor\\dependency_groups\n",
      "Directories: []\n",
      "Files: ['LICENSE.txt']\n",
      "\n",
      "Current directory path: .\\myenv\\Lib\\site-packages\\pip-25.2.dist-info\\licenses\\src\\pip\\_vendor\\distlib\n",
      "Directories: []\n",
      "Files: ['LICENSE.txt']\n",
      "\n",
      "Current directory path: .\\myenv\\Lib\\site-packages\\pip-25.2.dist-info\\licenses\\src\\pip\\_vendor\\distro\n",
      "Directories: []\n",
      "Files: ['LICENSE']\n",
      "\n",
      "Current directory path: .\\myenv\\Lib\\site-packages\\pip-25.2.dist-info\\licenses\\src\\pip\\_vendor\\idna\n",
      "Directories: []\n",
      "Files: ['LICENSE.md']\n",
      "\n",
      "Current directory path: .\\myenv\\Lib\\site-packages\\pip-25.2.dist-info\\licenses\\src\\pip\\_vendor\\msgpack\n",
      "Directories: []\n",
      "Files: ['COPYING']\n",
      "\n",
      "Current directory path: .\\myenv\\Lib\\site-packages\\pip-25.2.dist-info\\licenses\\src\\pip\\_vendor\\packaging\n",
      "Directories: []\n",
      "Files: ['LICENSE', 'LICENSE.APACHE', 'LICENSE.BSD']\n",
      "\n",
      "Current directory path: .\\myenv\\Lib\\site-packages\\pip-25.2.dist-info\\licenses\\src\\pip\\_vendor\\pkg_resources\n",
      "Directories: []\n",
      "Files: ['LICENSE']\n",
      "\n",
      "Current directory path: .\\myenv\\Lib\\site-packages\\pip-25.2.dist-info\\licenses\\src\\pip\\_vendor\\platformdirs\n",
      "Directories: []\n",
      "Files: ['LICENSE']\n",
      "\n",
      "Current directory path: .\\myenv\\Lib\\site-packages\\pip-25.2.dist-info\\licenses\\src\\pip\\_vendor\\pygments\n",
      "Directories: []\n",
      "Files: ['LICENSE']\n",
      "\n",
      "Current directory path: .\\myenv\\Lib\\site-packages\\pip-25.2.dist-info\\licenses\\src\\pip\\_vendor\\pyproject_hooks\n",
      "Directories: []\n",
      "Files: ['LICENSE']\n",
      "\n",
      "Current directory path: .\\myenv\\Lib\\site-packages\\pip-25.2.dist-info\\licenses\\src\\pip\\_vendor\\requests\n",
      "Directories: []\n",
      "Files: ['LICENSE']\n",
      "\n",
      "Current directory path: .\\myenv\\Lib\\site-packages\\pip-25.2.dist-info\\licenses\\src\\pip\\_vendor\\resolvelib\n",
      "Directories: []\n",
      "Files: ['LICENSE']\n",
      "\n",
      "Current directory path: .\\myenv\\Lib\\site-packages\\pip-25.2.dist-info\\licenses\\src\\pip\\_vendor\\rich\n",
      "Directories: []\n",
      "Files: ['LICENSE']\n",
      "\n",
      "Current directory path: .\\myenv\\Lib\\site-packages\\pip-25.2.dist-info\\licenses\\src\\pip\\_vendor\\tomli\n",
      "Directories: []\n",
      "Files: ['LICENSE', 'LICENSE-HEADER']\n",
      "\n",
      "Current directory path: .\\myenv\\Lib\\site-packages\\pip-25.2.dist-info\\licenses\\src\\pip\\_vendor\\tomli_w\n",
      "Directories: []\n",
      "Files: ['LICENSE']\n",
      "\n",
      "Current directory path: .\\myenv\\Lib\\site-packages\\pip-25.2.dist-info\\licenses\\src\\pip\\_vendor\\truststore\n",
      "Directories: []\n",
      "Files: ['LICENSE']\n",
      "\n",
      "Current directory path: .\\myenv\\Lib\\site-packages\\pip-25.2.dist-info\\licenses\\src\\pip\\_vendor\\urllib3\n",
      "Directories: []\n",
      "Files: ['LICENSE.txt']\n",
      "\n",
      "Current directory path: .\\myenv\\Lib\\site-packages\\platformdirs\n",
      "Directories: ['__pycache__']\n",
      "Files: ['android.py', 'api.py', 'macos.py', 'py.typed', 'unix.py', 'version.py', 'windows.py', '__init__.py', '__main__.py']\n",
      "\n",
      "Current directory path: .\\myenv\\Lib\\site-packages\\platformdirs\\__pycache__\n",
      "Directories: []\n",
      "Files: ['android.cpython-313.pyc', 'api.cpython-313.pyc', 'macos.cpython-313.pyc', 'unix.cpython-313.pyc', 'version.cpython-313.pyc', 'windows.cpython-313.pyc', '__init__.cpython-313.pyc', '__main__.cpython-313.pyc']\n",
      "\n",
      "Current directory path: .\\myenv\\Lib\\site-packages\\platformdirs-4.5.0.dist-info\n",
      "Directories: ['licenses']\n",
      "Files: ['INSTALLER', 'METADATA', 'RECORD', 'WHEEL']\n",
      "\n",
      "Current directory path: .\\myenv\\Lib\\site-packages\\platformdirs-4.5.0.dist-info\\licenses\n",
      "Directories: []\n",
      "Files: ['LICENSE']\n",
      "\n",
      "Current directory path: .\\myenv\\Lib\\site-packages\\prompt_toolkit\n",
      "Directories: ['application', 'clipboard', 'completion', 'contrib', 'eventloop', 'filters', 'formatted_text', 'input', 'key_binding', 'layout', 'lexers', 'output', 'shortcuts', 'styles', 'widgets', '__pycache__']\n",
      "Files: ['auto_suggest.py', 'buffer.py', 'cache.py', 'cursor_shapes.py', 'data_structures.py', 'document.py', 'enums.py', 'history.py', 'keys.py', 'log.py', 'mouse_events.py', 'patch_stdout.py', 'py.typed', 'renderer.py', 'search.py', 'selection.py', 'token.py', 'utils.py', 'validation.py', 'win32_types.py', '__init__.py']\n",
      "\n",
      "Current directory path: .\\myenv\\Lib\\site-packages\\prompt_toolkit\\application\n",
      "Directories: ['__pycache__']\n",
      "Files: ['application.py', 'current.py', 'dummy.py', 'run_in_terminal.py', '__init__.py']\n",
      "\n",
      "Current directory path: .\\myenv\\Lib\\site-packages\\prompt_toolkit\\application\\__pycache__\n",
      "Directories: []\n",
      "Files: ['application.cpython-313.pyc', 'current.cpython-313.pyc', 'dummy.cpython-313.pyc', 'run_in_terminal.cpython-313.pyc', '__init__.cpython-313.pyc']\n",
      "\n",
      "Current directory path: .\\myenv\\Lib\\site-packages\\prompt_toolkit\\clipboard\n",
      "Directories: ['__pycache__']\n",
      "Files: ['base.py', 'in_memory.py', 'pyperclip.py', '__init__.py']\n",
      "\n",
      "Current directory path: .\\myenv\\Lib\\site-packages\\prompt_toolkit\\clipboard\\__pycache__\n",
      "Directories: []\n",
      "Files: ['base.cpython-313.pyc', 'in_memory.cpython-313.pyc', 'pyperclip.cpython-313.pyc', '__init__.cpython-313.pyc']\n",
      "\n",
      "Current directory path: .\\myenv\\Lib\\site-packages\\prompt_toolkit\\completion\n",
      "Directories: ['__pycache__']\n",
      "Files: ['base.py', 'deduplicate.py', 'filesystem.py', 'fuzzy_completer.py', 'nested.py', 'word_completer.py', '__init__.py']\n",
      "\n",
      "Current directory path: .\\myenv\\Lib\\site-packages\\prompt_toolkit\\completion\\__pycache__\n",
      "Directories: []\n",
      "Files: ['base.cpython-313.pyc', 'deduplicate.cpython-313.pyc', 'filesystem.cpython-313.pyc', 'fuzzy_completer.cpython-313.pyc', 'nested.cpython-313.pyc', 'word_completer.cpython-313.pyc', '__init__.cpython-313.pyc']\n",
      "\n",
      "Current directory path: .\\myenv\\Lib\\site-packages\\prompt_toolkit\\contrib\n",
      "Directories: ['completers', 'regular_languages', 'ssh', 'telnet', '__pycache__']\n",
      "Files: ['__init__.py']\n",
      "\n",
      "Current directory path: .\\myenv\\Lib\\site-packages\\prompt_toolkit\\contrib\\completers\n",
      "Directories: ['__pycache__']\n",
      "Files: ['system.py', '__init__.py']\n",
      "\n",
      "Current directory path: .\\myenv\\Lib\\site-packages\\prompt_toolkit\\contrib\\completers\\__pycache__\n",
      "Directories: []\n",
      "Files: ['system.cpython-313.pyc', '__init__.cpython-313.pyc']\n",
      "\n",
      "Current directory path: .\\myenv\\Lib\\site-packages\\prompt_toolkit\\contrib\\regular_languages\n",
      "Directories: ['__pycache__']\n",
      "Files: ['compiler.py', 'completion.py', 'lexer.py', 'regex_parser.py', 'validation.py', '__init__.py']\n",
      "\n",
      "Current directory path: .\\myenv\\Lib\\site-packages\\prompt_toolkit\\contrib\\regular_languages\\__pycache__\n",
      "Directories: []\n",
      "Files: ['compiler.cpython-313.pyc', 'completion.cpython-313.pyc', 'lexer.cpython-313.pyc', 'regex_parser.cpython-313.pyc', 'validation.cpython-313.pyc', '__init__.cpython-313.pyc']\n",
      "\n",
      "Current directory path: .\\myenv\\Lib\\site-packages\\prompt_toolkit\\contrib\\ssh\n",
      "Directories: ['__pycache__']\n",
      "Files: ['server.py', '__init__.py']\n",
      "\n",
      "Current directory path: .\\myenv\\Lib\\site-packages\\prompt_toolkit\\contrib\\ssh\\__pycache__\n",
      "Directories: []\n",
      "Files: ['server.cpython-313.pyc', '__init__.cpython-313.pyc']\n",
      "\n",
      "Current directory path: .\\myenv\\Lib\\site-packages\\prompt_toolkit\\contrib\\telnet\n",
      "Directories: ['__pycache__']\n",
      "Files: ['log.py', 'protocol.py', 'server.py', '__init__.py']\n",
      "\n",
      "Current directory path: .\\myenv\\Lib\\site-packages\\prompt_toolkit\\contrib\\telnet\\__pycache__\n",
      "Directories: []\n",
      "Files: ['log.cpython-313.pyc', 'protocol.cpython-313.pyc', 'server.cpython-313.pyc', '__init__.cpython-313.pyc']\n",
      "\n",
      "Current directory path: .\\myenv\\Lib\\site-packages\\prompt_toolkit\\contrib\\__pycache__\n",
      "Directories: []\n",
      "Files: ['__init__.cpython-313.pyc']\n",
      "\n",
      "Current directory path: .\\myenv\\Lib\\site-packages\\prompt_toolkit\\eventloop\n",
      "Directories: ['__pycache__']\n",
      "Files: ['async_generator.py', 'inputhook.py', 'utils.py', 'win32.py', '__init__.py']\n",
      "\n",
      "Current directory path: .\\myenv\\Lib\\site-packages\\prompt_toolkit\\eventloop\\__pycache__\n",
      "Directories: []\n",
      "Files: ['async_generator.cpython-313.pyc', 'inputhook.cpython-313.pyc', 'utils.cpython-313.pyc', 'win32.cpython-313.pyc', '__init__.cpython-313.pyc']\n",
      "\n",
      "Current directory path: .\\myenv\\Lib\\site-packages\\prompt_toolkit\\filters\n",
      "Directories: ['__pycache__']\n",
      "Files: ['app.py', 'base.py', 'cli.py', 'utils.py', '__init__.py']\n",
      "\n",
      "Current directory path: .\\myenv\\Lib\\site-packages\\prompt_toolkit\\filters\\__pycache__\n",
      "Directories: []\n",
      "Files: ['app.cpython-313.pyc', 'base.cpython-313.pyc', 'cli.cpython-313.pyc', 'utils.cpython-313.pyc', '__init__.cpython-313.pyc']\n",
      "\n",
      "Current directory path: .\\myenv\\Lib\\site-packages\\prompt_toolkit\\formatted_text\n",
      "Directories: ['__pycache__']\n",
      "Files: ['ansi.py', 'base.py', 'html.py', 'pygments.py', 'utils.py', '__init__.py']\n",
      "\n",
      "Current directory path: .\\myenv\\Lib\\site-packages\\prompt_toolkit\\formatted_text\\__pycache__\n",
      "Directories: []\n",
      "Files: ['ansi.cpython-313.pyc', 'base.cpython-313.pyc', 'html.cpython-313.pyc', 'pygments.cpython-313.pyc', 'utils.cpython-313.pyc', '__init__.cpython-313.pyc']\n",
      "\n",
      "Current directory path: .\\myenv\\Lib\\site-packages\\prompt_toolkit\\input\n",
      "Directories: ['__pycache__']\n",
      "Files: ['ansi_escape_sequences.py', 'base.py', 'defaults.py', 'posix_pipe.py', 'posix_utils.py', 'typeahead.py', 'vt100.py', 'vt100_parser.py', 'win32.py', 'win32_pipe.py', '__init__.py']\n",
      "\n",
      "Current directory path: .\\myenv\\Lib\\site-packages\\prompt_toolkit\\input\\__pycache__\n",
      "Directories: []\n",
      "Files: ['ansi_escape_sequences.cpython-313.pyc', 'base.cpython-313.pyc', 'defaults.cpython-313.pyc', 'posix_pipe.cpython-313.pyc', 'posix_utils.cpython-313.pyc', 'typeahead.cpython-313.pyc', 'vt100.cpython-313.pyc', 'vt100_parser.cpython-313.pyc', 'win32.cpython-313.pyc', 'win32_pipe.cpython-313.pyc', '__init__.cpython-313.pyc']\n",
      "\n",
      "Current directory path: .\\myenv\\Lib\\site-packages\\prompt_toolkit\\key_binding\n",
      "Directories: ['bindings', '__pycache__']\n",
      "Files: ['defaults.py', 'digraphs.py', 'emacs_state.py', 'key_bindings.py', 'key_processor.py', 'vi_state.py', '__init__.py']\n",
      "\n",
      "Current directory path: .\\myenv\\Lib\\site-packages\\prompt_toolkit\\key_binding\\bindings\n",
      "Directories: ['__pycache__']\n",
      "Files: ['auto_suggest.py', 'basic.py', 'completion.py', 'cpr.py', 'emacs.py', 'focus.py', 'mouse.py', 'named_commands.py', 'open_in_editor.py', 'page_navigation.py', 'scroll.py', 'search.py', 'vi.py', '__init__.py']\n",
      "\n",
      "Current directory path: .\\myenv\\Lib\\site-packages\\prompt_toolkit\\key_binding\\bindings\\__pycache__\n",
      "Directories: []\n",
      "Files: ['auto_suggest.cpython-313.pyc', 'basic.cpython-313.pyc', 'completion.cpython-313.pyc', 'cpr.cpython-313.pyc', 'emacs.cpython-313.pyc', 'focus.cpython-313.pyc', 'mouse.cpython-313.pyc', 'named_commands.cpython-313.pyc', 'open_in_editor.cpython-313.pyc', 'page_navigation.cpython-313.pyc', 'scroll.cpython-313.pyc', 'search.cpython-313.pyc', 'vi.cpython-313.pyc', '__init__.cpython-313.pyc']\n",
      "\n",
      "Current directory path: .\\myenv\\Lib\\site-packages\\prompt_toolkit\\key_binding\\__pycache__\n",
      "Directories: []\n",
      "Files: ['defaults.cpython-313.pyc', 'digraphs.cpython-313.pyc', 'emacs_state.cpython-313.pyc', 'key_bindings.cpython-313.pyc', 'key_processor.cpython-313.pyc', 'vi_state.cpython-313.pyc', '__init__.cpython-313.pyc']\n",
      "\n",
      "Current directory path: .\\myenv\\Lib\\site-packages\\prompt_toolkit\\layout\n",
      "Directories: ['__pycache__']\n",
      "Files: ['containers.py', 'controls.py', 'dimension.py', 'dummy.py', 'layout.py', 'margins.py', 'menus.py', 'mouse_handlers.py', 'processors.py', 'screen.py', 'scrollable_pane.py', 'utils.py', '__init__.py']\n",
      "\n",
      "Current directory path: .\\myenv\\Lib\\site-packages\\prompt_toolkit\\layout\\__pycache__\n",
      "Directories: []\n",
      "Files: ['containers.cpython-313.pyc', 'controls.cpython-313.pyc', 'dimension.cpython-313.pyc', 'dummy.cpython-313.pyc', 'layout.cpython-313.pyc', 'margins.cpython-313.pyc', 'menus.cpython-313.pyc', 'mouse_handlers.cpython-313.pyc', 'processors.cpython-313.pyc', 'screen.cpython-313.pyc', 'scrollable_pane.cpython-313.pyc', 'utils.cpython-313.pyc', '__init__.cpython-313.pyc']\n",
      "\n",
      "Current directory path: .\\myenv\\Lib\\site-packages\\prompt_toolkit\\lexers\n",
      "Directories: ['__pycache__']\n",
      "Files: ['base.py', 'pygments.py', '__init__.py']\n",
      "\n",
      "Current directory path: .\\myenv\\Lib\\site-packages\\prompt_toolkit\\lexers\\__pycache__\n",
      "Directories: []\n",
      "Files: ['base.cpython-313.pyc', 'pygments.cpython-313.pyc', '__init__.cpython-313.pyc']\n",
      "\n",
      "Current directory path: .\\myenv\\Lib\\site-packages\\prompt_toolkit\\output\n",
      "Directories: ['__pycache__']\n",
      "Files: ['base.py', 'color_depth.py', 'conemu.py', 'defaults.py', 'flush_stdout.py', 'plain_text.py', 'vt100.py', 'win32.py', 'windows10.py', '__init__.py']\n",
      "\n",
      "Current directory path: .\\myenv\\Lib\\site-packages\\prompt_toolkit\\output\\__pycache__\n",
      "Directories: []\n",
      "Files: ['base.cpython-313.pyc', 'color_depth.cpython-313.pyc', 'conemu.cpython-313.pyc', 'defaults.cpython-313.pyc', 'flush_stdout.cpython-313.pyc', 'plain_text.cpython-313.pyc', 'vt100.cpython-313.pyc', 'win32.cpython-313.pyc', 'windows10.cpython-313.pyc', '__init__.cpython-313.pyc']\n",
      "\n",
      "Current directory path: .\\myenv\\Lib\\site-packages\\prompt_toolkit\\shortcuts\n",
      "Directories: ['progress_bar', '__pycache__']\n",
      "Files: ['choice_input.py', 'dialogs.py', 'prompt.py', 'utils.py', '__init__.py']\n",
      "\n",
      "Current directory path: .\\myenv\\Lib\\site-packages\\prompt_toolkit\\shortcuts\\progress_bar\n",
      "Directories: ['__pycache__']\n",
      "Files: ['base.py', 'formatters.py', '__init__.py']\n",
      "\n",
      "Current directory path: .\\myenv\\Lib\\site-packages\\prompt_toolkit\\shortcuts\\progress_bar\\__pycache__\n",
      "Directories: []\n",
      "Files: ['base.cpython-313.pyc', 'formatters.cpython-313.pyc', '__init__.cpython-313.pyc']\n",
      "\n",
      "Current directory path: .\\myenv\\Lib\\site-packages\\prompt_toolkit\\shortcuts\\__pycache__\n",
      "Directories: []\n",
      "Files: ['choice_input.cpython-313.pyc', 'dialogs.cpython-313.pyc', 'prompt.cpython-313.pyc', 'utils.cpython-313.pyc', '__init__.cpython-313.pyc']\n",
      "\n",
      "Current directory path: .\\myenv\\Lib\\site-packages\\prompt_toolkit\\styles\n",
      "Directories: ['__pycache__']\n",
      "Files: ['base.py', 'defaults.py', 'named_colors.py', 'pygments.py', 'style.py', 'style_transformation.py', '__init__.py']\n",
      "\n",
      "Current directory path: .\\myenv\\Lib\\site-packages\\prompt_toolkit\\styles\\__pycache__\n",
      "Directories: []\n",
      "Files: ['base.cpython-313.pyc', 'defaults.cpython-313.pyc', 'named_colors.cpython-313.pyc', 'pygments.cpython-313.pyc', 'style.cpython-313.pyc', 'style_transformation.cpython-313.pyc', '__init__.cpython-313.pyc']\n",
      "\n",
      "Current directory path: .\\myenv\\Lib\\site-packages\\prompt_toolkit\\widgets\n",
      "Directories: ['__pycache__']\n",
      "Files: ['base.py', 'dialogs.py', 'menus.py', 'toolbars.py', '__init__.py']\n",
      "\n",
      "Current directory path: .\\myenv\\Lib\\site-packages\\prompt_toolkit\\widgets\\__pycache__\n",
      "Directories: []\n",
      "Files: ['base.cpython-313.pyc', 'dialogs.cpython-313.pyc', 'menus.cpython-313.pyc', 'toolbars.cpython-313.pyc', '__init__.cpython-313.pyc']\n",
      "\n",
      "Current directory path: .\\myenv\\Lib\\site-packages\\prompt_toolkit\\__pycache__\n",
      "Directories: []\n",
      "Files: ['auto_suggest.cpython-313.pyc', 'buffer.cpython-313.pyc', 'cache.cpython-313.pyc', 'cursor_shapes.cpython-313.pyc', 'data_structures.cpython-313.pyc', 'document.cpython-313.pyc', 'enums.cpython-313.pyc', 'history.cpython-313.pyc', 'keys.cpython-313.pyc', 'log.cpython-313.pyc', 'mouse_events.cpython-313.pyc', 'patch_stdout.cpython-313.pyc', 'renderer.cpython-313.pyc', 'search.cpython-313.pyc', 'selection.cpython-313.pyc', 'token.cpython-313.pyc', 'utils.cpython-313.pyc', 'validation.cpython-313.pyc', 'win32_types.cpython-313.pyc', '__init__.cpython-313.pyc']\n",
      "\n",
      "Current directory path: .\\myenv\\Lib\\site-packages\\prompt_toolkit-3.0.52.dist-info\n",
      "Directories: ['licenses']\n",
      "Files: ['INSTALLER', 'METADATA', 'RECORD', 'top_level.txt', 'WHEEL']\n",
      "\n",
      "Current directory path: .\\myenv\\Lib\\site-packages\\prompt_toolkit-3.0.52.dist-info\\licenses\n",
      "Directories: []\n",
      "Files: ['AUTHORS.rst', 'LICENSE']\n",
      "\n",
      "Current directory path: .\\myenv\\Lib\\site-packages\\psutil\n",
      "Directories: ['tests', '__pycache__']\n",
      "Files: ['_common.py', '_psaix.py', '_psbsd.py', '_pslinux.py', '_psosx.py', '_psposix.py', '_pssunos.py', '_psutil_windows.pyd', '_pswindows.py', '__init__.py']\n",
      "\n",
      "Current directory path: .\\myenv\\Lib\\site-packages\\psutil\\tests\n",
      "Directories: ['__pycache__']\n",
      "Files: ['test_aix.py', 'test_bsd.py', 'test_connections.py', 'test_contracts.py', 'test_linux.py', 'test_memleaks.py', 'test_misc.py', 'test_osx.py', 'test_posix.py', 'test_process.py', 'test_process_all.py', 'test_scripts.py', 'test_sudo.py', 'test_sunos.py', 'test_system.py', 'test_testutils.py', 'test_unicode.py', 'test_windows.py', '__init__.py', '__main__.py']\n",
      "\n",
      "Current directory path: .\\myenv\\Lib\\site-packages\\psutil\\tests\\__pycache__\n",
      "Directories: []\n",
      "Files: ['test_aix.cpython-313.pyc', 'test_bsd.cpython-313.pyc', 'test_connections.cpython-313.pyc', 'test_contracts.cpython-313.pyc', 'test_linux.cpython-313.pyc', 'test_memleaks.cpython-313.pyc', 'test_misc.cpython-313.pyc', 'test_osx.cpython-313.pyc', 'test_posix.cpython-313.pyc', 'test_process.cpython-313.pyc', 'test_process_all.cpython-313.pyc', 'test_scripts.cpython-313.pyc', 'test_sudo.cpython-313.pyc', 'test_sunos.cpython-313.pyc', 'test_system.cpython-313.pyc', 'test_testutils.cpython-313.pyc', 'test_unicode.cpython-313.pyc', 'test_windows.cpython-313.pyc', '__init__.cpython-313.pyc', '__main__.cpython-313.pyc']\n",
      "\n",
      "Current directory path: .\\myenv\\Lib\\site-packages\\psutil\\__pycache__\n",
      "Directories: []\n",
      "Files: ['_common.cpython-313.pyc', '_psaix.cpython-313.pyc', '_psbsd.cpython-313.pyc', '_pslinux.cpython-313.pyc', '_psosx.cpython-313.pyc', '_psposix.cpython-313.pyc', '_pssunos.cpython-313.pyc', '_pswindows.cpython-313.pyc', '__init__.cpython-313.pyc']\n",
      "\n",
      "Current directory path: .\\myenv\\Lib\\site-packages\\psutil-7.1.0.dist-info\n",
      "Directories: []\n",
      "Files: ['INSTALLER', 'LICENSE', 'METADATA', 'RECORD', 'top_level.txt', 'WHEEL']\n",
      "\n",
      "Current directory path: .\\myenv\\Lib\\site-packages\\pure_eval\n",
      "Directories: ['__pycache__']\n",
      "Files: ['core.py', 'my_getattr_static.py', 'py.typed', 'utils.py', 'version.py', '__init__.py']\n",
      "\n",
      "Current directory path: .\\myenv\\Lib\\site-packages\\pure_eval\\__pycache__\n",
      "Directories: []\n",
      "Files: ['core.cpython-313.pyc', 'my_getattr_static.cpython-313.pyc', 'utils.cpython-313.pyc', 'version.cpython-313.pyc', '__init__.cpython-313.pyc']\n",
      "\n",
      "Current directory path: .\\myenv\\Lib\\site-packages\\pure_eval-0.2.3.dist-info\n",
      "Directories: []\n",
      "Files: ['INSTALLER', 'LICENSE.txt', 'METADATA', 'RECORD', 'top_level.txt', 'WHEEL']\n",
      "\n",
      "Current directory path: .\\myenv\\Lib\\site-packages\\pygments\n",
      "Directories: ['filters', 'formatters', 'lexers', 'styles', '__pycache__']\n",
      "Files: ['cmdline.py', 'console.py', 'filter.py', 'formatter.py', 'lexer.py', 'modeline.py', 'plugin.py', 'regexopt.py', 'scanner.py', 'sphinxext.py', 'style.py', 'token.py', 'unistring.py', 'util.py', '__init__.py', '__main__.py']\n",
      "\n",
      "Current directory path: .\\myenv\\Lib\\site-packages\\pygments\\filters\n",
      "Directories: ['__pycache__']\n",
      "Files: ['__init__.py']\n",
      "\n",
      "Current directory path: .\\myenv\\Lib\\site-packages\\pygments\\filters\\__pycache__\n",
      "Directories: []\n",
      "Files: ['__init__.cpython-313.pyc']\n",
      "\n",
      "Current directory path: .\\myenv\\Lib\\site-packages\\pygments\\formatters\n",
      "Directories: ['__pycache__']\n",
      "Files: ['bbcode.py', 'groff.py', 'html.py', 'img.py', 'irc.py', 'latex.py', 'other.py', 'pangomarkup.py', 'rtf.py', 'svg.py', 'terminal.py', 'terminal256.py', '_mapping.py', '__init__.py']\n",
      "\n",
      "Current directory path: .\\myenv\\Lib\\site-packages\\pygments\\formatters\\__pycache__\n",
      "Directories: []\n",
      "Files: ['bbcode.cpython-313.pyc', 'groff.cpython-313.pyc', 'html.cpython-313.pyc', 'img.cpython-313.pyc', 'irc.cpython-313.pyc', 'latex.cpython-313.pyc', 'other.cpython-313.pyc', 'pangomarkup.cpython-313.pyc', 'rtf.cpython-313.pyc', 'svg.cpython-313.pyc', 'terminal.cpython-313.pyc', 'terminal256.cpython-313.pyc', '_mapping.cpython-313.pyc', '__init__.cpython-313.pyc']\n",
      "\n",
      "Current directory path: .\\myenv\\Lib\\site-packages\\pygments\\lexers\n",
      "Directories: ['__pycache__']\n",
      "Files: ['actionscript.py', 'ada.py', 'agile.py', 'algebra.py', 'ambient.py', 'amdgpu.py', 'ampl.py', 'apdlexer.py', 'apl.py', 'archetype.py', 'arrow.py', 'arturo.py', 'asc.py', 'asm.py', 'asn1.py', 'automation.py', 'bare.py', 'basic.py', 'bdd.py', 'berry.py', 'bibtex.py', 'blueprint.py', 'boa.py', 'bqn.py', 'business.py', 'capnproto.py', 'carbon.py', 'cddl.py', 'chapel.py', 'clean.py', 'codeql.py', 'comal.py', 'compiled.py', 'configs.py', 'console.py', 'cplint.py', 'crystal.py', 'csound.py', 'css.py', 'c_cpp.py', 'c_like.py', 'd.py', 'dalvik.py', 'data.py', 'dax.py', 'devicetree.py', 'diff.py', 'dns.py', 'dotnet.py', 'dsls.py', 'dylan.py', 'ecl.py', 'eiffel.py', 'elm.py', 'elpi.py', 'email.py', 'erlang.py', 'esoteric.py', 'ezhil.py', 'factor.py', 'fantom.py', 'felix.py', 'fift.py', 'floscript.py', 'forth.py', 'fortran.py', 'foxpro.py', 'freefem.py', 'func.py', 'functional.py', 'futhark.py', 'gcodelexer.py', 'gdscript.py', 'gleam.py', 'go.py', 'grammar_notation.py', 'graph.py', 'graphics.py', 'graphql.py', 'graphviz.py', 'gsql.py', 'hare.py', 'haskell.py', 'haxe.py', 'hdl.py', 'hexdump.py', 'html.py', 'idl.py', 'igor.py', 'inferno.py', 'installers.py', 'int_fiction.py', 'iolang.py', 'j.py', 'javascript.py', 'jmespath.py', 'jslt.py', 'json5.py', 'jsonnet.py', 'jsx.py', 'julia.py', 'jvm.py', 'kuin.py', 'kusto.py', 'ldap.py', 'lean.py', 'lilypond.py', 'lisp.py', 'macaulay2.py', 'make.py', 'maple.py', 'markup.py', 'math.py', 'matlab.py', 'maxima.py', 'meson.py', 'mime.py', 'minecraft.py', 'mips.py', 'ml.py', 'modeling.py', 'modula2.py', 'mojo.py', 'monte.py', 'mosel.py', 'ncl.py', 'nimrod.py', 'nit.py', 'nix.py', 'numbair.py', 'oberon.py', 'objective.py', 'ooc.py', 'openscad.py', 'other.py', 'parasail.py', 'parsers.py', 'pascal.py', 'pawn.py', 'pddl.py', 'perl.py', 'phix.py', 'php.py', 'pointless.py', 'pony.py', 'praat.py', 'procfile.py', 'prolog.py', 'promql.py', 'prql.py', 'ptx.py', 'python.py', 'q.py', 'qlik.py', 'qvt.py', 'r.py', 'rdf.py', 'rebol.py', 'rego.py', 'resource.py', 'ride.py', 'rita.py', 'rnc.py', 'roboconf.py', 'robotframework.py', 'ruby.py', 'rust.py', 'sas.py', 'savi.py', 'scdoc.py', 'scripting.py', 'sgf.py', 'shell.py', 'sieve.py', 'slash.py', 'smalltalk.py', 'smithy.py', 'smv.py', 'snobol.py', 'solidity.py', 'soong.py', 'sophia.py', 'special.py', 'spice.py', 'sql.py', 'srcinfo.py', 'stata.py', 'supercollider.py', 'tablegen.py', 'tact.py', 'tal.py', 'tcl.py', 'teal.py', 'templates.py', 'teraterm.py', 'testing.py', 'text.py', 'textedit.py', 'textfmts.py', 'theorem.py', 'thingsdb.py', 'tlb.py', 'tls.py', 'tnt.py', 'trafficscript.py', 'typoscript.py', 'typst.py', 'ul4.py', 'unicon.py', 'urbi.py', 'usd.py', 'varnish.py', 'verification.py', 'verifpal.py', 'vip.py', 'vyper.py', 'web.py', 'webassembly.py', 'webidl.py', 'webmisc.py', 'wgsl.py', 'whiley.py', 'wowtoc.py', 'wren.py', 'x10.py', 'xorg.py', 'yang.py', 'yara.py', 'zig.py', '_ada_builtins.py', '_asy_builtins.py', '_cl_builtins.py', '_cocoa_builtins.py', '_csound_builtins.py', '_css_builtins.py', '_googlesql_builtins.py', '_julia_builtins.py', '_lasso_builtins.py', '_lilypond_builtins.py', '_luau_builtins.py', '_lua_builtins.py', '_mapping.py', '_mql_builtins.py', '_mysql_builtins.py', '_openedge_builtins.py', '_php_builtins.py', '_postgres_builtins.py', '_qlik_builtins.py', '_scheme_builtins.py', '_scilab_builtins.py', '_sourcemod_builtins.py', '_sql_builtins.py', '_stan_builtins.py', '_stata_builtins.py', '_tsql_builtins.py', '_usd_builtins.py', '_vbscript_builtins.py', '_vim_builtins.py', '__init__.py']\n",
      "\n",
      "Current directory path: .\\myenv\\Lib\\site-packages\\pygments\\lexers\\__pycache__\n",
      "Directories: []\n",
      "Files: ['actionscript.cpython-313.pyc', 'ada.cpython-313.pyc', 'agile.cpython-313.pyc', 'algebra.cpython-313.pyc', 'ambient.cpython-313.pyc', 'amdgpu.cpython-313.pyc', 'ampl.cpython-313.pyc', 'apdlexer.cpython-313.pyc', 'apl.cpython-313.pyc', 'archetype.cpython-313.pyc', 'arrow.cpython-313.pyc', 'arturo.cpython-313.pyc', 'asc.cpython-313.pyc', 'asm.cpython-313.pyc', 'asn1.cpython-313.pyc', 'automation.cpython-313.pyc', 'bare.cpython-313.pyc', 'basic.cpython-313.pyc', 'bdd.cpython-313.pyc', 'berry.cpython-313.pyc', 'bibtex.cpython-313.pyc', 'blueprint.cpython-313.pyc', 'boa.cpython-313.pyc', 'bqn.cpython-313.pyc', 'business.cpython-313.pyc', 'capnproto.cpython-313.pyc', 'carbon.cpython-313.pyc', 'cddl.cpython-313.pyc', 'chapel.cpython-313.pyc', 'clean.cpython-313.pyc', 'codeql.cpython-313.pyc', 'comal.cpython-313.pyc', 'compiled.cpython-313.pyc', 'configs.cpython-313.pyc', 'console.cpython-313.pyc', 'cplint.cpython-313.pyc', 'crystal.cpython-313.pyc', 'csound.cpython-313.pyc', 'css.cpython-313.pyc', 'c_cpp.cpython-313.pyc', 'c_like.cpython-313.pyc', 'd.cpython-313.pyc', 'dalvik.cpython-313.pyc', 'data.cpython-313.pyc', 'dax.cpython-313.pyc', 'devicetree.cpython-313.pyc', 'diff.cpython-313.pyc', 'dns.cpython-313.pyc', 'dotnet.cpython-313.pyc', 'dsls.cpython-313.pyc', 'dylan.cpython-313.pyc', 'ecl.cpython-313.pyc', 'eiffel.cpython-313.pyc', 'elm.cpython-313.pyc', 'elpi.cpython-313.pyc', 'email.cpython-313.pyc', 'erlang.cpython-313.pyc', 'esoteric.cpython-313.pyc', 'ezhil.cpython-313.pyc', 'factor.cpython-313.pyc', 'fantom.cpython-313.pyc', 'felix.cpython-313.pyc', 'fift.cpython-313.pyc', 'floscript.cpython-313.pyc', 'forth.cpython-313.pyc', 'fortran.cpython-313.pyc', 'foxpro.cpython-313.pyc', 'freefem.cpython-313.pyc', 'func.cpython-313.pyc', 'functional.cpython-313.pyc', 'futhark.cpython-313.pyc', 'gcodelexer.cpython-313.pyc', 'gdscript.cpython-313.pyc', 'gleam.cpython-313.pyc', 'go.cpython-313.pyc', 'grammar_notation.cpython-313.pyc', 'graph.cpython-313.pyc', 'graphics.cpython-313.pyc', 'graphql.cpython-313.pyc', 'graphviz.cpython-313.pyc', 'gsql.cpython-313.pyc', 'hare.cpython-313.pyc', 'haskell.cpython-313.pyc', 'haxe.cpython-313.pyc', 'hdl.cpython-313.pyc', 'hexdump.cpython-313.pyc', 'html.cpython-313.pyc', 'idl.cpython-313.pyc', 'igor.cpython-313.pyc', 'inferno.cpython-313.pyc', 'installers.cpython-313.pyc', 'int_fiction.cpython-313.pyc', 'iolang.cpython-313.pyc', 'j.cpython-313.pyc', 'javascript.cpython-313.pyc', 'jmespath.cpython-313.pyc', 'jslt.cpython-313.pyc', 'json5.cpython-313.pyc', 'jsonnet.cpython-313.pyc', 'jsx.cpython-313.pyc', 'julia.cpython-313.pyc', 'jvm.cpython-313.pyc', 'kuin.cpython-313.pyc', 'kusto.cpython-313.pyc', 'ldap.cpython-313.pyc', 'lean.cpython-313.pyc', 'lilypond.cpython-313.pyc', 'lisp.cpython-313.pyc', 'macaulay2.cpython-313.pyc', 'make.cpython-313.pyc', 'maple.cpython-313.pyc', 'markup.cpython-313.pyc', 'math.cpython-313.pyc', 'matlab.cpython-313.pyc', 'maxima.cpython-313.pyc', 'meson.cpython-313.pyc', 'mime.cpython-313.pyc', 'minecraft.cpython-313.pyc', 'mips.cpython-313.pyc', 'ml.cpython-313.pyc', 'modeling.cpython-313.pyc', 'modula2.cpython-313.pyc', 'mojo.cpython-313.pyc', 'monte.cpython-313.pyc', 'mosel.cpython-313.pyc', 'ncl.cpython-313.pyc', 'nimrod.cpython-313.pyc', 'nit.cpython-313.pyc', 'nix.cpython-313.pyc', 'numbair.cpython-313.pyc', 'oberon.cpython-313.pyc', 'objective.cpython-313.pyc', 'ooc.cpython-313.pyc', 'openscad.cpython-313.pyc', 'other.cpython-313.pyc', 'parasail.cpython-313.pyc', 'parsers.cpython-313.pyc', 'pascal.cpython-313.pyc', 'pawn.cpython-313.pyc', 'pddl.cpython-313.pyc', 'perl.cpython-313.pyc', 'phix.cpython-313.pyc', 'php.cpython-313.pyc', 'pointless.cpython-313.pyc', 'pony.cpython-313.pyc', 'praat.cpython-313.pyc', 'procfile.cpython-313.pyc', 'prolog.cpython-313.pyc', 'promql.cpython-313.pyc', 'prql.cpython-313.pyc', 'ptx.cpython-313.pyc', 'python.cpython-313.pyc', 'q.cpython-313.pyc', 'qlik.cpython-313.pyc', 'qvt.cpython-313.pyc', 'r.cpython-313.pyc', 'rdf.cpython-313.pyc', 'rebol.cpython-313.pyc', 'rego.cpython-313.pyc', 'resource.cpython-313.pyc', 'ride.cpython-313.pyc', 'rita.cpython-313.pyc', 'rnc.cpython-313.pyc', 'roboconf.cpython-313.pyc', 'robotframework.cpython-313.pyc', 'ruby.cpython-313.pyc', 'rust.cpython-313.pyc', 'sas.cpython-313.pyc', 'savi.cpython-313.pyc', 'scdoc.cpython-313.pyc', 'scripting.cpython-313.pyc', 'sgf.cpython-313.pyc', 'shell.cpython-313.pyc', 'sieve.cpython-313.pyc', 'slash.cpython-313.pyc', 'smalltalk.cpython-313.pyc', 'smithy.cpython-313.pyc', 'smv.cpython-313.pyc', 'snobol.cpython-313.pyc', 'solidity.cpython-313.pyc', 'soong.cpython-313.pyc', 'sophia.cpython-313.pyc', 'special.cpython-313.pyc', 'spice.cpython-313.pyc', 'sql.cpython-313.pyc', 'srcinfo.cpython-313.pyc', 'stata.cpython-313.pyc', 'supercollider.cpython-313.pyc', 'tablegen.cpython-313.pyc', 'tact.cpython-313.pyc', 'tal.cpython-313.pyc', 'tcl.cpython-313.pyc', 'teal.cpython-313.pyc', 'templates.cpython-313.pyc', 'teraterm.cpython-313.pyc', 'testing.cpython-313.pyc', 'text.cpython-313.pyc', 'textedit.cpython-313.pyc', 'textfmts.cpython-313.pyc', 'theorem.cpython-313.pyc', 'thingsdb.cpython-313.pyc', 'tlb.cpython-313.pyc', 'tls.cpython-313.pyc', 'tnt.cpython-313.pyc', 'trafficscript.cpython-313.pyc', 'typoscript.cpython-313.pyc', 'typst.cpython-313.pyc', 'ul4.cpython-313.pyc', 'unicon.cpython-313.pyc', 'urbi.cpython-313.pyc', 'usd.cpython-313.pyc', 'varnish.cpython-313.pyc', 'verification.cpython-313.pyc', 'verifpal.cpython-313.pyc', 'vip.cpython-313.pyc', 'vyper.cpython-313.pyc', 'web.cpython-313.pyc', 'webassembly.cpython-313.pyc', 'webidl.cpython-313.pyc', 'webmisc.cpython-313.pyc', 'wgsl.cpython-313.pyc', 'whiley.cpython-313.pyc', 'wowtoc.cpython-313.pyc', 'wren.cpython-313.pyc', 'x10.cpython-313.pyc', 'xorg.cpython-313.pyc', 'yang.cpython-313.pyc', 'yara.cpython-313.pyc', 'zig.cpython-313.pyc', '_ada_builtins.cpython-313.pyc', '_asy_builtins.cpython-313.pyc', '_cl_builtins.cpython-313.pyc', '_cocoa_builtins.cpython-313.pyc', '_csound_builtins.cpython-313.pyc', '_css_builtins.cpython-313.pyc', '_googlesql_builtins.cpython-313.pyc', '_julia_builtins.cpython-313.pyc', '_lasso_builtins.cpython-313.pyc', '_lilypond_builtins.cpython-313.pyc', '_luau_builtins.cpython-313.pyc', '_lua_builtins.cpython-313.pyc', '_mapping.cpython-313.pyc', '_mql_builtins.cpython-313.pyc', '_mysql_builtins.cpython-313.pyc', '_openedge_builtins.cpython-313.pyc', '_php_builtins.cpython-313.pyc', '_postgres_builtins.cpython-313.pyc', '_qlik_builtins.cpython-313.pyc', '_scheme_builtins.cpython-313.pyc', '_scilab_builtins.cpython-313.pyc', '_sourcemod_builtins.cpython-313.pyc', '_sql_builtins.cpython-313.pyc', '_stan_builtins.cpython-313.pyc', '_stata_builtins.cpython-313.pyc', '_tsql_builtins.cpython-313.pyc', '_usd_builtins.cpython-313.pyc', '_vbscript_builtins.cpython-313.pyc', '_vim_builtins.cpython-313.pyc', '__init__.cpython-313.pyc']\n",
      "\n",
      "Current directory path: .\\myenv\\Lib\\site-packages\\pygments\\styles\n",
      "Directories: ['__pycache__']\n",
      "Files: ['abap.py', 'algol.py', 'algol_nu.py', 'arduino.py', 'autumn.py', 'borland.py', 'bw.py', 'coffee.py', 'colorful.py', 'default.py', 'dracula.py', 'emacs.py', 'friendly.py', 'friendly_grayscale.py', 'fruity.py', 'gh_dark.py', 'gruvbox.py', 'igor.py', 'inkpot.py', 'lightbulb.py', 'lilypond.py', 'lovelace.py', 'manni.py', 'material.py', 'monokai.py', 'murphy.py', 'native.py', 'nord.py', 'onedark.py', 'paraiso_dark.py', 'paraiso_light.py', 'pastie.py', 'perldoc.py', 'rainbow_dash.py', 'rrt.py', 'sas.py', 'solarized.py', 'staroffice.py', 'stata_dark.py', 'stata_light.py', 'tango.py', 'trac.py', 'vim.py', 'vs.py', 'xcode.py', 'zenburn.py', '_mapping.py', '__init__.py']\n",
      "\n",
      "Current directory path: .\\myenv\\Lib\\site-packages\\pygments\\styles\\__pycache__\n",
      "Directories: []\n",
      "Files: ['abap.cpython-313.pyc', 'algol.cpython-313.pyc', 'algol_nu.cpython-313.pyc', 'arduino.cpython-313.pyc', 'autumn.cpython-313.pyc', 'borland.cpython-313.pyc', 'bw.cpython-313.pyc', 'coffee.cpython-313.pyc', 'colorful.cpython-313.pyc', 'default.cpython-313.pyc', 'dracula.cpython-313.pyc', 'emacs.cpython-313.pyc', 'friendly.cpython-313.pyc', 'friendly_grayscale.cpython-313.pyc', 'fruity.cpython-313.pyc', 'gh_dark.cpython-313.pyc', 'gruvbox.cpython-313.pyc', 'igor.cpython-313.pyc', 'inkpot.cpython-313.pyc', 'lightbulb.cpython-313.pyc', 'lilypond.cpython-313.pyc', 'lovelace.cpython-313.pyc', 'manni.cpython-313.pyc', 'material.cpython-313.pyc', 'monokai.cpython-313.pyc', 'murphy.cpython-313.pyc', 'native.cpython-313.pyc', 'nord.cpython-313.pyc', 'onedark.cpython-313.pyc', 'paraiso_dark.cpython-313.pyc', 'paraiso_light.cpython-313.pyc', 'pastie.cpython-313.pyc', 'perldoc.cpython-313.pyc', 'rainbow_dash.cpython-313.pyc', 'rrt.cpython-313.pyc', 'sas.cpython-313.pyc', 'solarized.cpython-313.pyc', 'staroffice.cpython-313.pyc', 'stata_dark.cpython-313.pyc', 'stata_light.cpython-313.pyc', 'tango.cpython-313.pyc', 'trac.cpython-313.pyc', 'vim.cpython-313.pyc', 'vs.cpython-313.pyc', 'xcode.cpython-313.pyc', 'zenburn.cpython-313.pyc', '_mapping.cpython-313.pyc', '__init__.cpython-313.pyc']\n",
      "\n",
      "Current directory path: .\\myenv\\Lib\\site-packages\\pygments\\__pycache__\n",
      "Directories: []\n",
      "Files: ['cmdline.cpython-313.pyc', 'console.cpython-313.pyc', 'filter.cpython-313.pyc', 'formatter.cpython-313.pyc', 'lexer.cpython-313.pyc', 'modeline.cpython-313.pyc', 'plugin.cpython-313.pyc', 'regexopt.cpython-313.pyc', 'scanner.cpython-313.pyc', 'sphinxext.cpython-313.pyc', 'style.cpython-313.pyc', 'token.cpython-313.pyc', 'unistring.cpython-313.pyc', 'util.cpython-313.pyc', '__init__.cpython-313.pyc', '__main__.cpython-313.pyc']\n",
      "\n",
      "Current directory path: .\\myenv\\Lib\\site-packages\\pygments-2.19.2.dist-info\n",
      "Directories: ['licenses']\n",
      "Files: ['entry_points.txt', 'INSTALLER', 'METADATA', 'RECORD', 'WHEEL']\n",
      "\n",
      "Current directory path: .\\myenv\\Lib\\site-packages\\pygments-2.19.2.dist-info\\licenses\n",
      "Directories: []\n",
      "Files: ['AUTHORS', 'LICENSE']\n",
      "\n",
      "Current directory path: .\\myenv\\Lib\\site-packages\\pythonwin\n",
      "Directories: ['pywin']\n",
      "Files: ['dde.pyd', 'license.txt', 'mfc140u.dll', 'Pythonwin.exe', 'scintilla.dll', 'start_pythonwin.pyw', 'win32ui.pyd', 'win32uiole.pyd']\n",
      "\n",
      "Current directory path: .\\myenv\\Lib\\site-packages\\pythonwin\\pywin\n",
      "Directories: ['debugger', 'Demos', 'dialogs', 'docking', 'framework', 'idle', 'mfc', 'scintilla', 'tools', '__pycache__']\n",
      "Files: ['default.cfg', 'IDLE.cfg', '__init__.py']\n",
      "\n",
      "Current directory path: .\\myenv\\Lib\\site-packages\\pythonwin\\pywin\\debugger\n",
      "Directories: ['__pycache__']\n",
      "Files: ['configui.py', 'dbgcon.py', 'dbgpyapp.py', 'debugger.py', 'fail.py', '__init__.py']\n",
      "\n",
      "Current directory path: .\\myenv\\Lib\\site-packages\\pythonwin\\pywin\\debugger\\__pycache__\n",
      "Directories: []\n",
      "Files: ['configui.cpython-313.pyc', 'dbgcon.cpython-313.pyc', 'dbgpyapp.cpython-313.pyc', 'debugger.cpython-313.pyc', 'fail.cpython-313.pyc', '__init__.cpython-313.pyc']\n",
      "\n"
     ]
    },
    {
     "ename": "KeyboardInterrupt",
     "evalue": "",
     "output_type": "error",
     "traceback": [
      "\u001b[31m---------------------------------------------------------------------------\u001b[39m",
      "\u001b[31mKeyboardInterrupt\u001b[39m                         Traceback (most recent call last)",
      "\u001b[36mCell\u001b[39m\u001b[36m \u001b[39m\u001b[32mIn[27]\u001b[39m\u001b[32m, line 3\u001b[39m\n\u001b[32m      1\u001b[39m \u001b[38;5;66;03m#to know contents of directory including sub directories\u001b[39;00m\n\u001b[32m      2\u001b[39m \u001b[38;5;28;01mimport\u001b[39;00m\u001b[38;5;250m \u001b[39m\u001b[34;01mos\u001b[39;00m\n\u001b[32m----> \u001b[39m\u001b[32m3\u001b[39m \u001b[38;5;28;43;01mfor\u001b[39;49;00m\u001b[43m \u001b[49m\u001b[43mdirpath\u001b[49m\u001b[43m,\u001b[49m\u001b[43m \u001b[49m\u001b[43mdirnames\u001b[49m\u001b[43m,\u001b[49m\u001b[43m \u001b[49m\u001b[43mfilenames\u001b[49m\u001b[43m \u001b[49m\u001b[38;5;129;43;01min\u001b[39;49;00m\u001b[43m \u001b[49m\u001b[43mos\u001b[49m\u001b[43m.\u001b[49m\u001b[43mwalk\u001b[49m\u001b[43m(\u001b[49m\u001b[33;43m\"\u001b[39;49m\u001b[33;43m.\u001b[39;49m\u001b[33;43m\"\u001b[39;49m\u001b[43m)\u001b[49m\u001b[43m:\u001b[49m\n\u001b[32m      4\u001b[39m \u001b[43m    \u001b[49m\u001b[38;5;28;43mprint\u001b[39;49m\u001b[43m(\u001b[49m\u001b[33;43m\"\u001b[39;49m\u001b[33;43mCurrent directory path:\u001b[39;49m\u001b[33;43m\"\u001b[39;49m\u001b[43m,\u001b[49m\u001b[43m \u001b[49m\u001b[43mdirpath\u001b[49m\u001b[43m)\u001b[49m\n\u001b[32m      5\u001b[39m \u001b[43m    \u001b[49m\u001b[38;5;28;43mprint\u001b[39;49m\u001b[43m(\u001b[49m\u001b[33;43m\"\u001b[39;49m\u001b[33;43mDirectories:\u001b[39;49m\u001b[33;43m\"\u001b[39;49m\u001b[43m,\u001b[49m\u001b[43m \u001b[49m\u001b[43mdirnames\u001b[49m\u001b[43m)\u001b[49m\n",
      "\u001b[36mFile \u001b[39m\u001b[32m<frozen os>:369\u001b[39m, in \u001b[36mwalk\u001b[39m\u001b[34m(top, topdown, onerror, followlinks)\u001b[39m\n",
      "\u001b[31mKeyboardInterrupt\u001b[39m: "
     ]
    }
   ],
   "source": [
    "#to know contents of directory including sub directories\n",
    "import os\n",
    "for dirpath, dirnames, filenames in os.walk(\".\"):\n",
    "    print(\"Current directory path:\", dirpath)\n",
    "    print(\"Directories:\", dirnames)\n",
    "    print(\"Files:\", filenames)\n",
    "    print()"
   ]
  },
  {
   "cell_type": "code",
   "execution_count": 28,
   "id": "fc00f639",
   "metadata": {},
   "outputs": [
    {
     "data": {
      "text/plain": [
       "0"
      ]
     },
     "execution_count": 28,
     "metadata": {},
     "output_type": "execute_result"
    }
   ],
   "source": [
    "#Running other programs from python programs\n",
    "import os\n",
    "os.system(\"py test.py\")"
   ]
  },
  {
   "cell_type": "code",
   "execution_count": 29,
   "id": "494d38cc",
   "metadata": {},
   "outputs": [
    {
     "name": "stdout",
     "output_type": "stream",
     "text": [
      "os.stat_result(st_mode=33206, st_ino=3659174697241129, st_dev=4215478972607335273, st_nlink=1, st_uid=0, st_gid=0, st_size=154, st_atime=1760966366, st_mtime=1760960400, st_ctime=1760936414)\n"
     ]
    }
   ],
   "source": [
    "#how to get information about a file\n",
    "import os\n",
    "stats = os.stat(\"abc.txt\")\n",
    "print(stats)"
   ]
  },
  {
   "cell_type": "code",
   "execution_count": 30,
   "id": "d85507f5",
   "metadata": {},
   "outputs": [
    {
     "name": "stdout",
     "output_type": "stream",
     "text": [
      "File size in bytes: 154\n",
      "File last accessed time: 2025-10-20 18:49:26.458995\n",
      "File las modified time: 2025-10-20 17:10:00.584784\n"
     ]
    }
   ],
   "source": [
    "#to print specified properties\n",
    "import os\n",
    "from datetime import *\n",
    "stats = os.stat(\"abc.txt\")\n",
    "print(\"File size in bytes:\", stats.st_size)\n",
    "print(\"File last accessed time:\", datetime.fromtimestamp(stats.st_atime))\n",
    "print(\"File las modified time:\", datetime.fromtimestamp(stats.st_mtime))"
   ]
  },
  {
   "cell_type": "code",
   "execution_count": 3,
   "id": "3ade42aa",
   "metadata": {},
   "outputs": [
    {
     "name": "stdout",
     "output_type": "stream",
     "text": [
      "Pickling of employee object completed.............\n",
      "Printing employee information after unpickling\n",
      "101 \t Akhil \t 25000 \t Kollapanaidupalli\n"
     ]
    }
   ],
   "source": [
    "#Writing and reading state of object by using pickle module\n",
    "import pickle\n",
    "class Employee:\n",
    "    def __init__(self, eno, ename, esal, eaddr):\n",
    "        self.eno = eno\n",
    "        self.ename = ename\n",
    "        self.esal = esal\n",
    "        self.eaddr = eaddr\n",
    "    def display(self):\n",
    "        print(self.eno,\"\\t\", self.ename,\"\\t\", self.esal,\"\\t\", self.eaddr)\n",
    "\n",
    "with open(\"emp.dat\", 'wb') as f:\n",
    "    e = Employee(101, \"Akhil\", 25000, \"Kollapanaidupalli\")\n",
    "    pickle.dump(e,f)\n",
    "    print(\"Pickling of employee object completed.............\")\n",
    "\n",
    "with open(\"emp.dat\", \"rb\") as f:\n",
    "    obj = pickle.load(f)\n",
    "    print(\"Printing employee information after unpickling\")\n",
    "    obj.display()"
   ]
  },
  {
   "cell_type": "markdown",
   "id": "7fad78c2",
   "metadata": {},
   "source": [
    "### Object serialization"
   ]
  },
  {
   "cell_type": "code",
   "execution_count": 4,
   "id": "77e307a7",
   "metadata": {},
   "outputs": [
    {
     "name": "stdout",
     "output_type": "stream",
     "text": [
      "{\n",
      "    \"ismarried\": false,\n",
      "    \"name\": \"akhil\",\n",
      "    \"salary\": 25000\n",
      "}\n"
     ]
    }
   ],
   "source": [
    "# Demo program for serialization\n",
    "import json\n",
    "employee = {\n",
    "    \"name\":\"akhil\",\n",
    "    \"salary\":25000,\n",
    "    \"ismarried\":False,\n",
    "}\n",
    "json_string = json.dumps(employee, indent=4, sort_keys=True)\n",
    "print(json_string)\n",
    "\n",
    "with open(\"emp.json\", \"w\") as f:\n",
    "    json.dump(employee, f, indent=4)"
   ]
  },
  {
   "cell_type": "code",
   "execution_count": 7,
   "id": "5cfe3763",
   "metadata": {},
   "outputs": [
    {
     "name": "stdout",
     "output_type": "stream",
     "text": [
      "<class 'dict'>\n",
      "Employee Name akhil\n",
      "ismarried:False\n",
      "name:akhil\n",
      "salary:25000\n"
     ]
    }
   ],
   "source": [
    "#demo program for deserialization from json string\n",
    "import json\n",
    "emp_dict = json.loads(json_string)\n",
    "\n",
    "print(type(emp_dict))\n",
    "print(\"Employee Name\", emp_dict[\"name\"])\n",
    "for k,v in emp_dict.items():\n",
    "    print(f\"{k}:{v}\")\n"
   ]
  },
  {
   "cell_type": "code",
   "execution_count": 9,
   "id": "b1c4da32",
   "metadata": {},
   "outputs": [
    {
     "name": "stdout",
     "output_type": "stream",
     "text": [
      "<class 'dict'>\n",
      "name:akhil\n",
      "salary:25000\n",
      "ismarried:False\n"
     ]
    }
   ],
   "source": [
    "#demo program for deserialization from json file\n",
    "import json\n",
    "with open(\"emp.json\", \"r\") as f:\n",
    "    emp_dict = json.load(f)\n",
    "print(type(emp_dict))\n",
    "for k,v in emp_dict.items():\n",
    "    print(f\"{k}:{v}\")"
   ]
  },
  {
   "cell_type": "code",
   "execution_count": 1,
   "id": "409956c7",
   "metadata": {},
   "outputs": [
    {
     "name": "stdout",
     "output_type": "stream",
     "text": [
      "{\"py/object\": \"__main__.Employee\", \"eno\": 101, \"ename\": \"akhil\", \"esal\": 25000, \"eaddr\": \"Nellore\"}\n",
      "----------------\n",
      "<__main__.Employee object at 0x0000025979562210>\n",
      "101 \t akhil \t 25000 \t Nellore\n",
      "101 \t akhil \t 25000 \t Nellore\n"
     ]
    }
   ],
   "source": [
    "#Demo program for serialization and deserialization by using jsonpickle\n",
    "import jsonpickle\n",
    "class Employee:\n",
    "    def __init__(self, eno, ename, esal, eaddr):\n",
    "        self.eno = eno\n",
    "        self.ename = ename\n",
    "        self.esal = esal\n",
    "        self.eaddr = eaddr\n",
    "    def display(self):\n",
    "        print(self.eno,\"\\t\", self.ename,\"\\t\", self.esal,\"\\t\", self.eaddr)\n",
    "\n",
    "#Serialization to string\n",
    "e = Employee(101, \"akhil\", 25000, \"Nellore\")\n",
    "json_string = jsonpickle.encode(e)\n",
    "print(json_string)\n",
    "\n",
    "#Serialization to file\n",
    "with open(\"emp.json\", \"w\") as f:\n",
    "    f.write(json_string)\n",
    "\n",
    "#Deserialization\n",
    "newEmp = jsonpickle.decode(json_string)\n",
    "print(\"----------------\")\n",
    "print(newEmp)\n",
    "newEmp.display()\n",
    "\n",
    "#Deserilization from the file\n",
    "with open(\"emp.json\",\"r\") as f:\n",
    "    json_string = f.readline()\n",
    "newEmp = jsonpickle.decode(json_string)\n",
    "newEmp.display()"
   ]
  },
  {
   "cell_type": "markdown",
   "id": "779cc96b",
   "metadata": {},
   "source": [
    "### Object serialization with YAML"
   ]
  },
  {
   "cell_type": "code",
   "execution_count": 6,
   "id": "c256d2eb",
   "metadata": {},
   "outputs": [
    {
     "name": "stdout",
     "output_type": "stream",
     "text": [
      "age: 25\n",
      "name: akhil\n",
      "salary: 25000\n",
      "\n",
      "{'age': 25, 'name': 'akhil', 'salary': 25000}\n",
      "age:25\n",
      "name:akhil\n",
      "salary:25000\n",
      "{'age': 25, 'name': 'akhil', 'salary': 25000}\n"
     ]
    }
   ],
   "source": [
    "#demo program for serialization and deserialization by using yaml\n",
    "from pyaml import yaml\n",
    "emp_dict = {\n",
    "    \"name\":\"akhil\",\n",
    "    \"age\":25,\n",
    "    \"salary\" : 25000\n",
    "}\n",
    "#Serialization to yaml string\n",
    "yaml_string = yaml.dump(emp_dict)\n",
    "print(yaml_string)\n",
    "\n",
    "#Serialization to yaml file\n",
    "with open(\"emp.yaml\", \"w\") as f:\n",
    "    yaml.dump(emp_dict, f)\n",
    "\n",
    "#Deserialization from yaml_string\n",
    "ed = yaml.safe_load(yaml_string)\n",
    "print(ed)\n",
    "for k, v in ed.items():\n",
    "    print(f\"{k}:{v}\")\n",
    "\n",
    "#Deserialization from yaml file\n",
    "with open(\"emp.yaml\", \"r\") as f:\n",
    "    edf = yaml.safe_load(f)\n",
    "print(edf)"
   ]
  },
  {
   "cell_type": "markdown",
   "id": "511db384",
   "metadata": {},
   "source": [
    "### Decorator functions"
   ]
  },
  {
   "cell_type": "code",
   "execution_count": null,
   "id": "242c3b9a",
   "metadata": {},
   "outputs": [
    {
     "name": "stdout",
     "output_type": "stream",
     "text": [
      "Hello Akhil good morning\n",
      "Hello Sasi good morning\n",
      "Hello Sushma good morning\n"
     ]
    }
   ],
   "source": [
    "def wish(name):\n",
    "    print(\"Hello\", name, \"good morning\")\n",
    "wish(\"Akhil\")\n",
    "wish(\"Sasi\")\n",
    "wish(\"Sushma\")"
   ]
  },
  {
   "cell_type": "code",
   "execution_count": 2,
   "id": "da70a077",
   "metadata": {},
   "outputs": [
    {
     "name": "stdout",
     "output_type": "stream",
     "text": [
      "Hello Akhil Good morning\n",
      "Hello Sasi Good morning\n",
      "Hello Sushma Good morning\n",
      "Hello Sunny bad morning\n"
     ]
    }
   ],
   "source": [
    "def decor(func):\n",
    "    def inner(name):\n",
    "        if name==\"Sunny\":\n",
    "            print(\"Hello Sunny bad morning\")\n",
    "        else:\n",
    "            func(name)\n",
    "    return inner\n",
    "\n",
    "@decor\n",
    "def wish(name):\n",
    "    print(\"Hello\", name, \"Good morning\")\n",
    "wish(\"Akhil\")\n",
    "wish(\"Sasi\")\n",
    "wish(\"Sushma\")\n",
    "wish(\"Sunny\")"
   ]
  },
  {
   "cell_type": "code",
   "execution_count": 3,
   "id": "7dbc582f",
   "metadata": {},
   "outputs": [
    {
     "name": "stdout",
     "output_type": "stream",
     "text": [
      "Hello Akhil good morning\n",
      "Hello Sasi good morning\n",
      "Hello Sushma good morning\n",
      "Hello Sunny good morning\n",
      "--------------------With decorfunction------------------------------\n",
      "Hello Akhil good morning\n",
      "Hello Sasi good morning\n",
      "Hello Sushma good morning\n",
      "Hello, Sunny, bad morning\n"
     ]
    }
   ],
   "source": [
    "#How to call same function with decorator and without decorator:\n",
    "def decor(func):\n",
    "    def inner(name):\n",
    "        if name == \"Sunny\":\n",
    "            print(\"Hello, Sunny, bad morning\")\n",
    "        else:\n",
    "            func(name)\n",
    "    return inner\n",
    "\n",
    "def wish(name):\n",
    "    print(\"Hello\", name, \"good morning\")\n",
    "\n",
    "decorfunction = decor(wish)\n",
    "wish(\"Akhil\")\n",
    "wish(\"Sasi\")\n",
    "wish(\"Sushma\")\n",
    "wish(\"Sunny\")\n",
    "print(\"--------------------With decorfunction------------------------------\")\n",
    "decorfunction(\"Akhil\")\n",
    "decorfunction(\"Sasi\")\n",
    "decorfunction(\"Sushma\")\n",
    "decorfunction(\"Sunny\")"
   ]
  },
  {
   "cell_type": "code",
   "execution_count": 8,
   "id": "558e0489",
   "metadata": {},
   "outputs": [
    {
     "name": "stdout",
     "output_type": "stream",
     "text": [
      "We are dividing 20 with 2\n",
      "10.0\n",
      "We are dividing 20 with 0\n",
      "OOPS.....we cannot divided.\n",
      "We are dividing 20 with 3\n",
      "6.666666666666667\n"
     ]
    }
   ],
   "source": [
    "def smart_division(func):\n",
    "    def inner(a,b):\n",
    "        print(\"We are dividing\", a, 'with', b)\n",
    "        if b==0:\n",
    "            # print(\"OOPS.....we cannot divided.\")\n",
    "            return \"OOPS.....we cannot divided.\"\n",
    "        else:\n",
    "            return func(a,b)\n",
    "    return inner\n",
    "\n",
    "@smart_division\n",
    "def division(a,b):\n",
    "    return a/b\n",
    "print(division(20,2))\n",
    "print(division(20,0))\n",
    "print(division(20,3))\n"
   ]
  },
  {
   "cell_type": "code",
   "execution_count": 9,
   "id": "6193b25e",
   "metadata": {},
   "outputs": [
    {
     "name": "stdout",
     "output_type": "stream",
     "text": [
      "Hair decoration\n",
      "Face decoration with platinum package\n",
      "Fair and lovely etc...\n",
      "Ready for the marriage\n"
     ]
    }
   ],
   "source": [
    "def marriagedecor(func):\n",
    "    def inner():\n",
    "        print(\"Hair decoration\")\n",
    "        print(\"Face decoration with platinum package\")\n",
    "        print(\"Fair and lovely etc...\")\n",
    "        func()\n",
    "    return inner\n",
    "def getready():\n",
    "    print(\"Ready for the marriage\")\n",
    "\n",
    "decorated_getready = marriagedecor(getready)\n",
    "decorated_getready()"
   ]
  },
  {
   "cell_type": "code",
   "execution_count": 13,
   "id": "9c64791d",
   "metadata": {},
   "outputs": [
    {
     "name": "stdout",
     "output_type": "stream",
     "text": [
      "400\n"
     ]
    }
   ],
   "source": [
    "#Decorator chaining\n",
    "def decor1(func):\n",
    "    def inner():\n",
    "        x=func()\n",
    "        return x*x\n",
    "    return inner\n",
    "def decor(func):\n",
    "    def inner():\n",
    "        x=func()\n",
    "        return 2*x\n",
    "    return inner\n",
    "\n",
    "@decor1\n",
    "@decor\n",
    "def num():\n",
    "    return 10\n",
    "print(num())"
   ]
  },
  {
   "cell_type": "code",
   "execution_count": 14,
   "id": "0832afc2",
   "metadata": {},
   "outputs": [
    {
     "name": "stdout",
     "output_type": "stream",
     "text": [
      "200\n"
     ]
    }
   ],
   "source": [
    "def decor1(func):\n",
    "    def inner():\n",
    "        x=func()\n",
    "        return x*x\n",
    "    return inner\n",
    "def decor(func):\n",
    "    def inner():\n",
    "        x=func()\n",
    "        return 2*x\n",
    "    return inner\n",
    "\n",
    "@decor\n",
    "@decor1\n",
    "def num():\n",
    "    return 10\n",
    "print(num())"
   ]
  },
  {
   "cell_type": "markdown",
   "id": "fdc141be",
   "metadata": {},
   "source": [
    "### Generator functions"
   ]
  },
  {
   "cell_type": "code",
   "execution_count": 15,
   "id": "58cc748f",
   "metadata": {},
   "outputs": [
    {
     "name": "stdout",
     "output_type": "stream",
     "text": [
      "<class 'generator'>\n",
      "A\n",
      "B\n",
      "C\n"
     ]
    },
    {
     "ename": "StopIteration",
     "evalue": "",
     "output_type": "error",
     "traceback": [
      "\u001b[31m---------------------------------------------------------------------------\u001b[39m",
      "\u001b[31mStopIteration\u001b[39m                             Traceback (most recent call last)",
      "\u001b[36mCell\u001b[39m\u001b[36m \u001b[39m\u001b[32mIn[15]\u001b[39m\u001b[32m, line 10\u001b[39m\n\u001b[32m      8\u001b[39m \u001b[38;5;28mprint\u001b[39m(\u001b[38;5;28mnext\u001b[39m(g))\n\u001b[32m      9\u001b[39m \u001b[38;5;28mprint\u001b[39m(\u001b[38;5;28mnext\u001b[39m(g))\n\u001b[32m---> \u001b[39m\u001b[32m10\u001b[39m \u001b[38;5;28mprint\u001b[39m(\u001b[38;5;28;43mnext\u001b[39;49m\u001b[43m(\u001b[49m\u001b[43mg\u001b[49m\u001b[43m)\u001b[49m)\n",
      "\u001b[31mStopIteration\u001b[39m: "
     ]
    }
   ],
   "source": [
    "def mygen():\n",
    "    yield \"A\"\n",
    "    yield \"B\"\n",
    "    yield \"C\"\n",
    "g = mygen()\n",
    "print(type(g))\n",
    "print(next(g))\n",
    "print(next(g))\n",
    "print(next(g))\n",
    "print(next(g))"
   ]
  },
  {
   "cell_type": "code",
   "execution_count": 16,
   "id": "f96fc9fa",
   "metadata": {},
   "outputs": [
    {
     "name": "stdout",
     "output_type": "stream",
     "text": [
      "Start countdown\n",
      "5\n",
      "4\n",
      "3\n",
      "2\n",
      "1\n"
     ]
    }
   ],
   "source": [
    "def countdown(num):\n",
    "    print(\"Start countdown\")\n",
    "    while num>0:\n",
    "        yield num\n",
    "        num = num -1\n",
    "    \n",
    "values = countdown(5)\n",
    "for x in values:\n",
    "    print(x)"
   ]
  },
  {
   "cell_type": "code",
   "execution_count": 17,
   "id": "a7f4cffc",
   "metadata": {},
   "outputs": [
    {
     "name": "stdout",
     "output_type": "stream",
     "text": [
      "<generator object firstn at 0x00000205BE2A7580>\n",
      "1\n",
      "2\n",
      "3\n",
      "4\n",
      "5\n"
     ]
    }
   ],
   "source": [
    "#to generate first n numbers\n",
    "def firstn(num):\n",
    "    n= 1\n",
    "    while n<=num:\n",
    "        yield n\n",
    "        n= n+1\n",
    "values=firstn(5)\n",
    "print(values)\n",
    "for x in values:\n",
    "    print(x)"
   ]
  },
  {
   "cell_type": "code",
   "execution_count": 18,
   "id": "306e034b",
   "metadata": {},
   "outputs": [
    {
     "name": "stdout",
     "output_type": "stream",
     "text": [
      "0\n",
      "1\n",
      "1\n",
      "2\n",
      "3\n",
      "5\n",
      "8\n",
      "13\n",
      "21\n",
      "34\n",
      "55\n",
      "89\n"
     ]
    }
   ],
   "source": [
    "#To generate fibonacci numbers\n",
    "def fib():\n",
    "    a,b = 0,1\n",
    "    while True:\n",
    "        yield a\n",
    "        a,b = b, a+b\n",
    "for f in fib():\n",
    "    if f>100:\n",
    "        break\n",
    "    print(f)"
   ]
  },
  {
   "cell_type": "code",
   "execution_count": 24,
   "id": "d2160696",
   "metadata": {},
   "outputs": [
    {
     "ename": "MemoryError",
     "evalue": "",
     "output_type": "error",
     "traceback": [
      "\u001b[31m---------------------------------------------------------------------------\u001b[39m",
      "\u001b[31mMemoryError\u001b[39m                               Traceback (most recent call last)",
      "\u001b[36mCell\u001b[39m\u001b[36m \u001b[39m\u001b[32mIn[24]\u001b[39m\u001b[32m, line 19\u001b[39m\n\u001b[32m     17\u001b[39m     \u001b[38;5;28;01mreturn\u001b[39;00m results\n\u001b[32m     18\u001b[39m t1 = time.perf_counter()\n\u001b[32m---> \u001b[39m\u001b[32m19\u001b[39m people = \u001b[43mpeople_list\u001b[49m\u001b[43m(\u001b[49m\u001b[32;43m10000000000000000\u001b[39;49m\u001b[43m)\u001b[49m\n\u001b[32m     20\u001b[39m t2 = time.perf_counter()\n\u001b[32m     21\u001b[39m \u001b[38;5;28mprint\u001b[39m(\u001b[33mf\u001b[39m\u001b[33m\"\u001b[39m\u001b[33mTook \u001b[39m\u001b[38;5;132;01m{\u001b[39;00mt2-t1\u001b[38;5;132;01m}\u001b[39;00m\u001b[33m\"\u001b[39m)\n",
      "\u001b[36mCell\u001b[39m\u001b[36m \u001b[39m\u001b[32mIn[24]\u001b[39m\u001b[32m, line 16\u001b[39m, in \u001b[36mpeople_list\u001b[39m\u001b[34m(num_people)\u001b[39m\n\u001b[32m     10\u001b[39m \u001b[38;5;28;01mfor\u001b[39;00m i \u001b[38;5;129;01min\u001b[39;00m \u001b[38;5;28mrange\u001b[39m(num_people):\n\u001b[32m     11\u001b[39m     person ={\n\u001b[32m     12\u001b[39m         \u001b[33m\"\u001b[39m\u001b[33mid\u001b[39m\u001b[33m\"\u001b[39m:i,\n\u001b[32m     13\u001b[39m         \u001b[33m\"\u001b[39m\u001b[33mname\u001b[39m\u001b[33m\"\u001b[39m:random.choice(names),\n\u001b[32m     14\u001b[39m         \u001b[33m\"\u001b[39m\u001b[33msubject\u001b[39m\u001b[33m\"\u001b[39m:random.choice(subjects)\n\u001b[32m     15\u001b[39m     }\n\u001b[32m---> \u001b[39m\u001b[32m16\u001b[39m     \u001b[43mresults\u001b[49m\u001b[43m.\u001b[49m\u001b[43mappend\u001b[49m\u001b[43m(\u001b[49m\u001b[43mperson\u001b[49m\u001b[43m)\u001b[49m\n\u001b[32m     17\u001b[39m \u001b[38;5;28;01mreturn\u001b[39;00m results\n",
      "\u001b[31mMemoryError\u001b[39m: "
     ]
    }
   ],
   "source": [
    "#Generators vs normal collections wrt performance\n",
    "import random\n",
    "import time\n",
    "\n",
    "names = [\"Sunny\", \"Bunny\", \"Chinny\", \"Vinny\"]\n",
    "subjects = [\"Python\",\"Java\", \"Blockchain\"]\n",
    "\n",
    "def people_list(num_people):\n",
    "    results = []\n",
    "    for i in range(num_people):\n",
    "        person ={\n",
    "            \"id\":i,\n",
    "            \"name\":random.choice(names),\n",
    "            \"subject\":random.choice(subjects)\n",
    "        }\n",
    "        results.append(person)\n",
    "    return results\n",
    "t1 = time.perf_counter()\n",
    "people = people_list(10000000000000000)\n",
    "t2 = time.perf_counter()\n",
    "print(f\"Took {t2-t1}\")"
   ]
  },
  {
   "cell_type": "code",
   "execution_count": 25,
   "id": "55339501",
   "metadata": {},
   "outputs": [
    {
     "name": "stdout",
     "output_type": "stream",
     "text": [
      "Took 9.560000034980476e-05\n"
     ]
    }
   ],
   "source": [
    "import random\n",
    "import time\n",
    "\n",
    "names = [\"Sunny\", \"Bunny\", \"Chinny\", \"Vinny\"]\n",
    "subjects = [\"Python\",\"Java\", \"Blockchain\"]\n",
    "def people_generator(num_people):\n",
    "    for i in range(num_people):\n",
    "        person ={\n",
    "            \"id\":i,\n",
    "            \"name\":random.choice(names),\n",
    "            \"subject\":random.choice(subjects)\n",
    "        }\n",
    "        yield person\n",
    "t1 = time.perf_counter()\n",
    "people = people_generator(10000000000000000)\n",
    "t2 = time.perf_counter()\n",
    "print(f\"Took {t2-t1}\")"
   ]
  },
  {
   "cell_type": "code",
   "execution_count": null,
   "id": "1f66733e",
   "metadata": {},
   "outputs": [],
   "source": []
  }
 ],
 "metadata": {
  "kernelspec": {
   "display_name": "myenv",
   "language": "python",
   "name": "python3"
  },
  "language_info": {
   "codemirror_mode": {
    "name": "ipython",
    "version": 3
   },
   "file_extension": ".py",
   "mimetype": "text/x-python",
   "name": "python",
   "nbconvert_exporter": "python",
   "pygments_lexer": "ipython3",
   "version": "3.13.9"
  }
 },
 "nbformat": 4,
 "nbformat_minor": 5
}
