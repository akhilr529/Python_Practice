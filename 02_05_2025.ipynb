{
 "cells": [
  {
   "cell_type": "markdown",
   "id": "3278b889",
   "metadata": {},
   "source": [
    "### How to get information about a file\n",
    "```py\n",
    "statitics = os.stat(\"abc.txt\")\n",
    "```\n",
    "-> We can get statistics of a file like size, last accessed time and last modified time etc, by using stat() function of as module."
   ]
  },
  {
   "cell_type": "code",
   "execution_count": 1,
   "id": "4de2c595",
   "metadata": {},
   "outputs": [],
   "source": [
    "import os \n",
    "statistics = os.stat(\"abc.txt\")"
   ]
  },
  {
   "cell_type": "code",
   "execution_count": 2,
   "id": "cc8d6b31",
   "metadata": {},
   "outputs": [
    {
     "data": {
      "text/plain": [
       "os.stat_result(st_mode=33206, st_ino=281474976988016, st_dev=2154007401, st_nlink=1, st_uid=0, st_gid=0, st_size=24, st_atime=1746102216, st_mtime=1745319742, st_ctime=1745037070)"
      ]
     },
     "execution_count": 2,
     "metadata": {},
     "output_type": "execute_result"
    }
   ],
   "source": [
    "statistics"
   ]
  },
  {
   "cell_type": "markdown",
   "id": "9f641a4b",
   "metadata": {},
   "source": [
    "- The statistics of a file includes the following parameters:-\n",
    "\n",
    "```py\n",
    "st_mode ==> Protection bits\n",
    "st_ino ==>  Inode Number\n",
    "st_dev ==> Device\n",
    "st_nlink ==> Number of Hard links\n",
    "st_uid ==> User Id of the owner\n",
    "st_gid ==> Group id of the owner\n",
    "st_size ==> The size of the file in bytes\n",
    "st_atime ==> Time of the most recent access\n",
    "st_mtime ==> Time of Most recent modification\n",
    "st_ctime ==> Time of most recent meta data change\n",
    "```\n",
    "    - Note:-\n",
    "\n",
    "st_atime, st_mtime, st_ctime returns the time as number of milli seconds since jan 1st 1970 12:00Am. this is called Epoche time standard. By using datetime module __fromtimestamp()__ function, we can get exact date and time."
   ]
  },
  {
   "cell_type": "code",
   "execution_count": 1,
   "id": "4ad2a999",
   "metadata": {},
   "outputs": [
    {
     "name": "stdout",
     "output_type": "stream",
     "text": [
      "The size In bytes: 24\n",
      "Last modified time: 2025-04-22 16:32:22.377607\n"
     ]
    }
   ],
   "source": [
    "#Demo program to print specified properties\n",
    "import os\n",
    "from datetime import *\n",
    "\n",
    "statistics = os.stat('abc.txt')\n",
    "print(\"The size In bytes:\", statistics.st_size)\n",
    "print(\"Last modified time:\", datetime.fromtimestamp(statistics.st_mtime))"
   ]
  },
  {
   "cell_type": "markdown",
   "id": "3de27c63",
   "metadata": {},
   "source": [
    "### Running other programs from python program\n",
    "\n",
    "1. os module contains system() function to run programs and commands.\n",
    "2. It is exactly same as systems() function in c language\n",
    "```py\n",
    "os.system(\"command string\")\n",
    "```\n",
    "3. The argument can be any valid command which is executing."
   ]
  },
  {
   "cell_type": "code",
   "execution_count": 3,
   "id": "5523cf00",
   "metadata": {},
   "outputs": [
    {
     "name": "stdout",
     "output_type": "stream",
     "text": [
      "Executing test9.py\n",
      "make directory \n"
     ]
    },
    {
     "data": {
      "text/plain": [
       "1"
      ]
     },
     "execution_count": 3,
     "metadata": {},
     "output_type": "execute_result"
    }
   ],
   "source": [
    "#Demo program to running other programs from python program\n",
    "\n",
    "import os\n",
    "print(\"Executing test9.py\")\n",
    "os.system(\"py test9.py\")\n",
    "print(\"make directory \")\n",
    "os.system('mkdir shashi')"
   ]
  },
  {
   "cell_type": "markdown",
   "id": "8864a709",
   "metadata": {},
   "source": []
  }
 ],
 "metadata": {
  "kernelspec": {
   "display_name": "Python 3",
   "language": "python",
   "name": "python3"
  },
  "language_info": {
   "codemirror_mode": {
    "name": "ipython",
    "version": 3
   },
   "file_extension": ".py",
   "mimetype": "text/x-python",
   "name": "python",
   "nbconvert_exporter": "python",
   "pygments_lexer": "ipython3",
   "version": "3.10.0"
  }
 },
 "nbformat": 4,
 "nbformat_minor": 5
}
