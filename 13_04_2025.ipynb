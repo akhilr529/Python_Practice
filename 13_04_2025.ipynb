{
 "cells": [
  {
   "cell_type": "markdown",
   "metadata": {},
   "source": [
    "### Data Hiding\n",
    "1. Our internal data should not go out directly, i.e., outside person should not access our internal data directly.\n",
    "2. Thiss OOP feature is nothing but data hiding.\n",
    "3. By declaring data members as private we can implement Data Hiding."
   ]
  },
  {
   "cell_type": "code",
   "execution_count": null,
   "metadata": {},
   "outputs": [
    {
     "ename": "AttributeError",
     "evalue": "'Account' object has no attribute '__balance'",
     "output_type": "error",
     "traceback": [
      "\u001b[1;31m---------------------------------------------------------------------------\u001b[0m",
      "\u001b[1;31mAttributeError\u001b[0m                            Traceback (most recent call last)",
      "Cell \u001b[1;32mIn[1], line 8\u001b[0m\n\u001b[0;32m      5\u001b[0m         \u001b[38;5;28;01mreturn\u001b[39;00m \u001b[38;5;28mself\u001b[39m\u001b[38;5;241m.\u001b[39m__balance\n\u001b[0;32m      7\u001b[0m a \u001b[38;5;241m=\u001b[39m Account(\u001b[38;5;241m10000\u001b[39m)\n\u001b[1;32m----> 8\u001b[0m \u001b[38;5;28mprint\u001b[39m(\u001b[43ma\u001b[49m\u001b[38;5;241;43m.\u001b[39;49m\u001b[43m__balance\u001b[49m)\n",
      "\u001b[1;31mAttributeError\u001b[0m: 'Account' object has no attribute '__balance'"
     ]
    }
   ],
   "source": [
    "class Account:\n",
    "    def __init__(self,initial_balance):\n",
    "        self.__balance = initial_balance\n",
    "    def getBalance(self):\n",
    "        #Validation/Authentication\n",
    "        return self.__balance\n",
    "\n",
    "a = Account(10000)\n",
    "print(a.__balance)\n"
   ]
  },
  {
   "cell_type": "code",
   "execution_count": 2,
   "metadata": {},
   "outputs": [
    {
     "name": "stdout",
     "output_type": "stream",
     "text": [
      "10000\n"
     ]
    }
   ],
   "source": [
    "print(a.getBalance())"
   ]
  },
  {
   "cell_type": "markdown",
   "metadata": {},
   "source": [
    "### Abstraction\n",
    "- Hiding internal implementation and just highlight the set of services is the concept of abstraction.\n",
    "> Eg:-\n",
    "- Through Bank ATM GUI screen, Bank people are highlighting the set of services what they are offering without highlighting internal implementation. This is nothing but abstraction.\n",
    "\n",
    "#### How to implement Abstraction:-\n",
    "- By using GUI screens, APIs we can implement abstraction.\n",
    "\n",
    "#### Advantages :-\n",
    "1. Security\n",
    "2. Enhancement will become very easy\n",
    "3. Maintainability and Modularity of the application."
   ]
  },
  {
   "cell_type": "markdown",
   "metadata": {},
   "source": [
    "### Encapsulation :-\n",
    "1. The process of Binding/Grouping/Encapsulating data and corresponding behaviour(methods) into a single unit is nothing but encapsulation.\n",
    "2. Every python class is an example of encapsulation.\n",
    "3. If any component follows data hiding and abstraction, such component is said to be encapsulated component.\n",
    "\n",
    "> Encapsulation :- Data Hiding + Abstraction.\n",
    "\n",
    "\n",
    "- Hiding data behind methods in the control concept of encapsualtion\n",
    "\n",
    "#### Advantages of encapsulation:-\n",
    "1. The main advantage of encapsulation is Security.\n",
    "2. The main limitation of encapsulation is it increases length of the code and slows down execution. We should compromise with performance.\n",
    "3. If we want security we should compromise with performance.\n",
    "4. If we want Performance we should compromise with security."
   ]
  },
  {
   "cell_type": "code",
   "execution_count": 3,
   "metadata": {},
   "outputs": [],
   "source": [
    "class Account:\n",
    "    def __init__(self,initial_balance):\n",
    "        self.__balance = initial_balance\n",
    "    def getBalance(self):\n",
    "        #Validation/Authentication\n",
    "        return self.__balance\n",
    "    \n",
    "    def deposit(self, amount):\n",
    "        #Validation/Authentication\n",
    "        self.__balance = self.__balance + amount\n",
    "    \n",
    "    def withdraw(self, amount):\n",
    "        #Validation/Authentication\n",
    "        self.__balance = self.__balance - amount\n",
    "\n",
    "        "
   ]
  },
  {
   "cell_type": "markdown",
   "metadata": {},
   "source": []
  }
 ],
 "metadata": {
  "kernelspec": {
   "display_name": "Python 3",
   "language": "python",
   "name": "python3"
  },
  "language_info": {
   "codemirror_mode": {
    "name": "ipython",
    "version": 3
   },
   "file_extension": ".py",
   "mimetype": "text/x-python",
   "name": "python",
   "nbconvert_exporter": "python",
   "pygments_lexer": "ipython3",
   "version": "3.10.0"
  }
 },
 "nbformat": 4,
 "nbformat_minor": 2
}
