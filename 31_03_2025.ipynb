{
 "cells": [
  {
   "cell_type": "markdown",
   "metadata": {},
   "source": [
    "### Composition:-\n",
    "- Without existing container object, if there is no chance of existing contained objects then container and contained objects are strongly associated and this strong association is nothing but composition.\n",
    "\n",
    "- Eg :- University contains several departments. without existing university there is no chance of existing department object. Hence University and Department are strongly associated and this strong association is nothing but composition.\n",
    "\n",
    "### Aggregation:-\n",
    "- Without existing container object, if there is a chance of existing contained object, then container and contained objects are weakly associated and this weak association is nothing but aggregation.\n",
    "\n",
    "- Eg:- Several professors may work in the department without existing department still there may be a chance of existing professor. Hence department and professor objects are weakly associated and this weak association is nothing but aggregation.\n",
    "\n",
    "\n",
    "### Composition Vs Aggregation\n",
    "- In composition objects are strongly associated where as in aggregation objects are weakly associated.\n",
    "- In composition, container object holds directly contained objects, where as in Aggregation container object just holds references of contained objects.\n",
    "\n",
    "\n",
    "### Types of Inheritance :-\n",
    "1. Single Inheritance\n",
    "2. Multi level Inheritance\n",
    "3. Hierarchical Inheritance\n",
    "4. Multiple Inheritance\n",
    "5. Hybrid Inheritance\n",
    "6. Cyclic Inheritance\n",
    "\n",
    "\n",
    "### 1. Single Inheritance\n",
    "\n",
    "- Parent ----> Child\n",
    "1. The concept of inheriting members from one class to another class is known as single inheritance.\n",
    "2. Sinlge parent and single child\n"
   ]
  },
  {
   "cell_type": "code",
   "execution_count": 5,
   "metadata": {},
   "outputs": [
    {
     "name": "stdout",
     "output_type": "stream",
     "text": [
      "Parent Method\n",
      "Child mehtod\n"
     ]
    }
   ],
   "source": [
    "class P:\n",
    "    def m1(self):\n",
    "        print(\"Parent Method\")\n",
    "\n",
    "class C(P):\n",
    "    def m2(self):\n",
    "        print(\"Child mehtod\")\n",
    "\n",
    "c = C()\n",
    "c.m1()\n",
    "c.m2()"
   ]
  },
  {
   "cell_type": "markdown",
   "metadata": {},
   "source": [
    "### 2. Multi level Inheritance\n",
    "- Grand parent ---> Parent ----> Child\n",
    "\n",
    "1. The concept of inheriting members from multiple classes to a single class with the concept of one after another is known as multi level inheritance.\n",
    "\n",
    "- Multiple level of inheritance ==> Multi level inheritance"
   ]
  },
  {
   "cell_type": "code",
   "execution_count": 6,
   "metadata": {},
   "outputs": [
    {
     "name": "stdout",
     "output_type": "stream",
     "text": [
      "Parent Method\n",
      "Child method\n",
      "Sub Child method\n"
     ]
    }
   ],
   "source": [
    "class P:\n",
    "    def m1(self):\n",
    "        print(\"Parent Method\")\n",
    "\n",
    "class C(P):\n",
    "    def m2(self):\n",
    "        print(\"Child method\")\n",
    "\n",
    "class CC(C):\n",
    "    def m3(self):\n",
    "        print(\"Sub Child method\")\n",
    "\n",
    "\n",
    "cc = CC()\n",
    "cc.m1()\n",
    "cc.m2()\n",
    "cc.m3()"
   ]
  },
  {
   "cell_type": "markdown",
   "metadata": {},
   "source": [
    "### 3. Hierarchical inheritance\n",
    "\n",
    "1. The concept of inheriting members from one class to multiple classes which present at same level is known as Hierarchical inheritance.\n",
    "\n",
    "- One parent but multiple child classes and all child classes are at same level."
   ]
  },
  {
   "cell_type": "code",
   "execution_count": 7,
   "metadata": {},
   "outputs": [
    {
     "name": "stdout",
     "output_type": "stream",
     "text": [
      "Parent Method\n",
      "Child1 method\n"
     ]
    }
   ],
   "source": [
    "class P:\n",
    "    def m1(self):\n",
    "        print(\"Parent Method\")\n",
    "\n",
    "class C1(P):\n",
    "    def m2(self):\n",
    "        print(\"Child1 method\")\n",
    "\n",
    "class C2(P):\n",
    "    def m3(self):\n",
    "        print(\"Child2 method\")\n",
    "\n",
    "c1 = C1()\n",
    "c1.m1()\n",
    "c1.m2()"
   ]
  },
  {
   "cell_type": "code",
   "execution_count": 8,
   "metadata": {},
   "outputs": [
    {
     "ename": "AttributeError",
     "evalue": "'C1' object has no attribute 'm3'",
     "output_type": "error",
     "traceback": [
      "\u001b[1;31m---------------------------------------------------------------------------\u001b[0m",
      "\u001b[1;31mAttributeError\u001b[0m                            Traceback (most recent call last)",
      "Cell \u001b[1;32mIn[8], line 1\u001b[0m\n\u001b[1;32m----> 1\u001b[0m \u001b[43mc1\u001b[49m\u001b[38;5;241;43m.\u001b[39;49m\u001b[43mm3\u001b[49m()\n",
      "\u001b[1;31mAttributeError\u001b[0m: 'C1' object has no attribute 'm3'"
     ]
    }
   ],
   "source": [
    "c1.m3()"
   ]
  },
  {
   "cell_type": "code",
   "execution_count": 9,
   "metadata": {},
   "outputs": [
    {
     "name": "stdout",
     "output_type": "stream",
     "text": [
      "Parent Method\n",
      "Child2 method\n"
     ]
    }
   ],
   "source": [
    "c2 = C2()\n",
    "c2.m1()\n",
    "c2.m3()"
   ]
  },
  {
   "cell_type": "markdown",
   "metadata": {},
   "source": [
    "### 4. Multiple Inheritance\n",
    "\n",
    "- Reverse of Hierarchical inheritance\n",
    "- Hierarchical : One parent and multiple child classes.\n",
    "- Multiple : Multiple Parents and single child.\n",
    "\n",
    "1. The concept of inheriting the members from multiple classes to a single class at a time is known as mutliple inheritance.\n",
    "2. Multiple Parents but single child."
   ]
  },
  {
   "cell_type": "code",
   "execution_count": 10,
   "metadata": {},
   "outputs": [
    {
     "name": "stdout",
     "output_type": "stream",
     "text": [
      "Parent1 method\n",
      "Parent2 method\n",
      "Child method\n"
     ]
    }
   ],
   "source": [
    "class P1:\n",
    "    def m1(self):\n",
    "        print(\"Parent1 method\")\n",
    "\n",
    "class P2:\n",
    "    def m2(self):\n",
    "        print(\"Parent2 method\")\n",
    "class C(P1, P2):\n",
    "    def m3(self):\n",
    "        print(\"Child method\")\n",
    "\n",
    "c = C()\n",
    "c.m1()\n",
    "c.m2()\n",
    "c.m3()"
   ]
  },
  {
   "cell_type": "markdown",
   "metadata": {},
   "source": [
    "### Why java won't support multiple inheritance\n",
    "\n",
    "1. If the same method is inheritance from both parent classes, then python will always consider the order of parent classes in the declaration of the child class\n",
    "- class C(P1, P2) ---> P1 method will be considered\n",
    "- class C(P2, P1) ---> P2 method will be considered"
   ]
  },
  {
   "cell_type": "markdown",
   "metadata": {},
   "source": [
    "### 5. Hybrid Inheritance\n",
    "1. Hybrid means mixing/combination\n",
    "2. Combination of single, multi level, multiple and Hierarchical inheritance is known as Hybrid Inheritance.\n",
    "\n",
    "    - __Note:-__\n",
    "    - In hybrid inheritance, method resolution is based on MRO algorithm\n",
    "\n",
    "\n",
    "### 6. Cyclic inheritance\n",
    "1. The concept of inheritance members from one class to another class in cyclic way is called cyclic inheritance.\n",
    "\n",
    "    - __Note:-__\n",
    "    - Really cyclic inheritance is not required. Hence programming languages like java, python won't provide support."
   ]
  },
  {
   "cell_type": "markdown",
   "metadata": {},
   "source": [
    "### Method Resolution Order (MRO)"
   ]
  },
  {
   "cell_type": "code",
   "execution_count": 12,
   "metadata": {},
   "outputs": [
    {
     "name": "stdout",
     "output_type": "stream",
     "text": [
      "[<class '__main__.A'>, <class 'object'>]\n",
      "[<class '__main__.B'>, <class '__main__.A'>, <class 'object'>]\n",
      "[<class '__main__.C'>, <class '__main__.A'>, <class 'object'>]\n",
      "[<class '__main__.D'>, <class '__main__.B'>, <class '__main__.C'>, <class '__main__.A'>, <class 'object'>]\n"
     ]
    }
   ],
   "source": [
    "class A: pass\n",
    "class B(A): pass\n",
    "class C(A): pass\n",
    "class D(B,C): pass\n",
    "\n",
    "print(A.mro())\n",
    "print(B.mro())\n",
    "print(C.mro())\n",
    "print(D.mro())"
   ]
  },
  {
   "cell_type": "code",
   "execution_count": 16,
   "metadata": {},
   "outputs": [
    {
     "name": "stdout",
     "output_type": "stream",
     "text": [
      "D class method\n"
     ]
    }
   ],
   "source": [
    "class A:\n",
    "    def m1(self):\n",
    "        print(\"A class method\")\n",
    "class B(A):\n",
    "    def m1(self):\n",
    "        print(\"B class method\")\n",
    "\n",
    "class C(A):\n",
    "    def m1(self):\n",
    "        print(\"C class method\")\n",
    "\n",
    "class D(B, C):\n",
    "    def m1(self):\n",
    "        print(\"D class method\")\n",
    "\n",
    "\n",
    "d = D() #DBCAO\n",
    "d.m1()"
   ]
  },
  {
   "cell_type": "markdown",
   "metadata": {},
   "source": [
    "### Method Resolution Order(MRO)\n",
    "1. In Hybrid Inheritance the method resolution order is decided based on MRO algorithm\n",
    "2. We can find MRO of any class by using mro() function\n",
    "3. This algorithm is also known as c3 algorithm\n",
    "4. Samuele Pedroni proposed this algorithm\n",
    "5. It follows DLR(Depth First Left to Right)\n",
    "- i.e., child will get more priority than parent.\n",
    "- Left parent will get more priority than Right parent.\n",
    "\n",
    "__MRO(X) = X + merge(MRO(P1), MRO(P2)...... Parent list)__\n",
    "- Here we have to considered only immediate parent\n",
    "\n",
    "### Head element vs tail terminology\n",
    "\n",
    "- Assume c1, c2, c3....are classes\n",
    "- In the list : C1, C2, C3, c4...\n",
    "- First element is considered as Head Element and Remaining is considered as tail part\n",
    "- Head element : c1\n",
    "- Tail element : c2 c3 c4\n",
    "\n",
    "### How to find merge\n",
    "1. Take head of the first list\n",
    "2. If the head is not in the tail part of any other list, then add this head element to the result and remove it from the lists.\n",
    "3. If the head present in tail part of any other list, then consider head element of the next list and continue the same process."
   ]
  },
  {
   "cell_type": "markdown",
   "metadata": {},
   "source": [
    "### The complete story of super() function-Theory\n",
    "1. Parent class members are by default available to the child class. In the child class we can access parent class members directly.\n",
    "2. If parent class and child class contains a member with the same name, then to call explicitly parent class members, from the child class we should use super()\n",
    "3. super() is a built-in function which is useful to call the super class constructors, methods and variables explicitly from the child class."
   ]
  },
  {
   "cell_type": "code",
   "execution_count": 18,
   "metadata": {},
   "outputs": [
    {
     "name": "stdout",
     "output_type": "stream",
     "text": [
      "Child constructor\n",
      "10\n",
      "Parent Instance method\n",
      "Parent class method\n",
      "Parent static method\n",
      "Child constructor\n"
     ]
    }
   ],
   "source": [
    "#Demo programs to describe use of super() function.\n",
    "\n",
    "class P:\n",
    "    a = 10\n",
    "    def __init__(self):\n",
    "        print(\"Parent constructor\")\n",
    "\n",
    "    def m1(self):\n",
    "        print(\"Parent Instance method\")\n",
    "\n",
    "    @classmethod\n",
    "    def m2(cls):\n",
    "        print(\"Parent class method\")\n",
    "\n",
    "    @staticmethod\n",
    "    def m3():\n",
    "        print(\"Parent static method\")\n",
    "\n",
    "class C(P):\n",
    "    def __init__(self):\n",
    "        print(\"Child constructor\")\n",
    "\n",
    "    def method1(self):\n",
    "        print(self.a)\n",
    "        self.m1()\n",
    "        self.m2()\n",
    "        self.m3()\n",
    "        self.__init__()\n",
    "        # print(super().a)\n",
    "        # super().m1()\n",
    "        # super().m2()\n",
    "        # super().m3()\n",
    "        # super().__init__()\n",
    "\n",
    "c= C()\n",
    "c.method1()"
   ]
  },
  {
   "cell_type": "code",
   "execution_count": 20,
   "metadata": {},
   "outputs": [
    {
     "name": "stdout",
     "output_type": "stream",
     "text": [
      "D class method\n",
      "E class method\n"
     ]
    }
   ],
   "source": [
    "class A:\n",
    "    def m1(self):\n",
    "        print(\"A class method\")\n",
    "\n",
    "class B(A):\n",
    "    def m1(self):\n",
    "        print(\"B class method\")\n",
    "\n",
    "class C(B):\n",
    "    def m1(self):\n",
    "        print(\"C class method\")\n",
    "\n",
    "class D(C):\n",
    "    def m1(self):\n",
    "        print(\"D class method\")\n",
    "\n",
    "class E(D):\n",
    "    def m1(self):\n",
    "        super().m1()\n",
    "        print(\"E class method\")\n",
    "\n",
    "\n",
    "e = E()\n",
    "e.m1()"
   ]
  },
  {
   "cell_type": "markdown",
   "metadata": {},
   "source": []
  },
  {
   "cell_type": "code",
   "execution_count": null,
   "metadata": {},
   "outputs": [],
   "source": []
  }
 ],
 "metadata": {
  "kernelspec": {
   "display_name": "Python 3",
   "language": "python",
   "name": "python3"
  },
  "language_info": {
   "codemirror_mode": {
    "name": "ipython",
    "version": 3
   },
   "file_extension": ".py",
   "mimetype": "text/x-python",
   "name": "python",
   "nbconvert_exporter": "python",
   "pygments_lexer": "ipython3",
   "version": "3.10.0"
  }
 },
 "nbformat": 4,
 "nbformat_minor": 2
}
