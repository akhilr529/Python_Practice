{
 "cells": [
  {
   "cell_type": "markdown",
   "metadata": {},
   "source": [
    "## Input and output statements:-\n",
    "### Input\n",
    "1. raw_input() it was not applicable for the python_3 vs input()\n",
    "2. python_3 input()\n",
    "3. How to read multiple values from the keyboard in a single line\n",
    "4. Command line arguements\n",
    "\n",
    "### Output\n",
    "5. Output statement : print() function\n",
    "6. sep attribute\n",
    "7. end attribute\n",
    "8. printing formatted string\n",
    "9. Replacement operator : {}"
   ]
  },
  {
   "cell_type": "code",
   "execution_count": 1,
   "metadata": {},
   "outputs": [
    {
     "name": "stdout",
     "output_type": "stream",
     "text": [
      "<class 'str'>\n"
     ]
    }
   ],
   "source": [
    "#python 3x\n",
    "#Only input()\n",
    "#Always return str type only\n",
    "\n",
    "x= input(\"Enter something\")\n",
    "print(type(x))"
   ]
  },
  {
   "cell_type": "code",
   "execution_count": 2,
   "metadata": {},
   "outputs": [
    {
     "name": "stdout",
     "output_type": "stream",
     "text": [
      "The Values of x and y 8 8\n",
      "the sum 16\n"
     ]
    }
   ],
   "source": [
    "x=input(\"Enter 1st number\")\n",
    "y=input(\"Enter 2nd number\")\n",
    "i=(int(x))\n",
    "j=int(y)\n",
    "print(\"The Values of x and y\", x, y)\n",
    "print(\"the sum\",i+j)"
   ]
  },
  {
   "cell_type": "code",
   "execution_count": 3,
   "metadata": {},
   "outputs": [
    {
     "name": "stdout",
     "output_type": "stream",
     "text": [
      "The sum = 16\n"
     ]
    }
   ],
   "source": [
    "print(\"The sum =\", int(input(\"Enter a number\"))+ int(input(\"Enter another number\")))"
   ]
  },
  {
   "cell_type": "code",
   "execution_count": null,
   "metadata": {},
   "outputs": [
    {
     "name": "stdout",
     "output_type": "stream",
     "text": [
      "Employee number = 4 Employee name = akhil Employee salary = 900000.0 Employee address = hyd\n"
     ]
    }
   ],
   "source": [
    "#Write a program to read employee data from the keyboard and print that data\n",
    "eno= int(input(\"Enter the employee number\"))\n",
    "ename = input(\"Enter empoyee name\")\n",
    "esal = float(input(\"Enter the employee Salary\"))\n",
    "eaddr = input(\"Enter employee address\")\n",
    "print(\"Employee number =\", eno, \"Employee name =\", ename, \"Employee salary =\", esal, \"Employee address =\", eaddr)"
   ]
  },
  {
   "cell_type": "code",
   "execution_count": 5,
   "metadata": {},
   "outputs": [
    {
     "name": "stdout",
     "output_type": "stream",
     "text": [
      "the sum = 10\n"
     ]
    }
   ],
   "source": [
    "#how to read multiple values from the keyboard in a single line\n",
    "a,b = [int(x) for x in input(\"Enter two numbers\").split()]\n",
    "print(\"the sum =\", a+b)"
   ]
  },
  {
   "cell_type": "code",
   "execution_count": 6,
   "metadata": {},
   "outputs": [
    {
     "name": "stdout",
     "output_type": "stream",
     "text": [
      "The sum =  22.0 The values are  5.0 8.0 9.0\n"
     ]
    }
   ],
   "source": [
    "#write a program to read 3 float values from the keyboard with \",\" seperation and print the sum\n",
    "a,b,c = [float(x) for x in input(\"Enter 3 values\").split(\",\")]\n",
    "print(\"The sum = \", a+b+c, \"The values are \", a,b,c)"
   ]
  },
  {
   "cell_type": "markdown",
   "metadata": {},
   "source": [
    "## eval()"
   ]
  },
  {
   "cell_type": "code",
   "execution_count": 12,
   "metadata": {},
   "outputs": [
    {
     "name": "stdout",
     "output_type": "stream",
     "text": [
      "<class 'int'>\n",
      "60\n"
     ]
    }
   ],
   "source": [
    "x=eval(input(\"Enter something\"))\n",
    "print(type(x))\n",
    "print(x)"
   ]
  },
  {
   "cell_type": "markdown",
   "metadata": {},
   "source": [
    "## Output statements"
   ]
  },
  {
   "cell_type": "markdown",
   "metadata": {},
   "source": [
    "### 1. print() without any argument"
   ]
  },
  {
   "cell_type": "code",
   "execution_count": 13,
   "metadata": {},
   "outputs": [
    {
     "name": "stdout",
     "output_type": "stream",
     "text": [
      "akhil\n",
      "\n",
      "Renangi\n"
     ]
    }
   ],
   "source": [
    "print(\"akhil\")\n",
    "print()\n",
    "print(\"Renangi\")"
   ]
  },
  {
   "cell_type": "code",
   "execution_count": 14,
   "metadata": {},
   "outputs": [
    {
     "name": "stdout",
     "output_type": "stream",
     "text": [
      "akhil\n",
      "akhil\n",
      "renangi\n",
      "akhil\trenangi\n"
     ]
    }
   ],
   "source": [
    "#2. print(string)\n",
    "print(\"akhil\")\n",
    "print(\"akhil\\nrenangi\")\n",
    "print(\"akhil\\trenangi\")"
   ]
  },
  {
   "cell_type": "code",
   "execution_count": 15,
   "metadata": {},
   "outputs": [
    {
     "name": "stdout",
     "output_type": "stream",
     "text": [
      "The values are = 10 20 30\n"
     ]
    }
   ],
   "source": [
    "#3\n",
    "a,b,c = 10,20,30\n",
    "print(\"The values are =\", a,b,c)"
   ]
  },
  {
   "cell_type": "markdown",
   "metadata": {},
   "source": [
    "### 4. sep attribute"
   ]
  },
  {
   "cell_type": "code",
   "execution_count": 16,
   "metadata": {},
   "outputs": [
    {
     "name": "stdout",
     "output_type": "stream",
     "text": [
      "10 20 30 40\n"
     ]
    }
   ],
   "source": [
    "a,b,c,d=10,20,30,40\n",
    "print(a,b,c,d)"
   ]
  },
  {
   "cell_type": "code",
   "execution_count": 17,
   "metadata": {},
   "outputs": [
    {
     "name": "stdout",
     "output_type": "stream",
     "text": [
      "10:20:30:40\n"
     ]
    }
   ],
   "source": [
    "print(a,b,c,d, sep=\":\")"
   ]
  },
  {
   "cell_type": "markdown",
   "metadata": {},
   "source": [
    "### 5. end attribute"
   ]
  },
  {
   "cell_type": "code",
   "execution_count": 18,
   "metadata": {},
   "outputs": [
    {
     "name": "stdout",
     "output_type": "stream",
     "text": [
      "Hello akhil Renangi\n"
     ]
    }
   ],
   "source": [
    "print(\"Hello\", end=\" \")\n",
    "print(\"akhil\", end=\" \")\n",
    "print(\"Renangi\")"
   ]
  },
  {
   "cell_type": "code",
   "execution_count": 19,
   "metadata": {},
   "outputs": [
    {
     "name": "stdout",
     "output_type": "stream",
     "text": [
      "Hello::akhil**Renangi\n"
     ]
    }
   ],
   "source": [
    "print(\"Hello\", end=\"::\")\n",
    "print(\"akhil\", end=\"**\")\n",
    "print(\"Renangi\")"
   ]
  },
  {
   "cell_type": "code",
   "execution_count": 21,
   "metadata": {},
   "outputs": [
    {
     "name": "stdout",
     "output_type": "stream",
     "text": [
      "10:20:30:40***50:60\n",
      "70**80**90$$100 110\n"
     ]
    }
   ],
   "source": [
    "print(10,20,30,40, sep=\":\", end=\"***\")\n",
    "print(50,60,sep=\":\")\n",
    "print(70,80,90, sep=\"**\", end=\"$$\")\n",
    "print(100,110)"
   ]
  },
  {
   "cell_type": "markdown",
   "metadata": {},
   "source": [
    "### 6. print(object)"
   ]
  },
  {
   "cell_type": "code",
   "execution_count": 22,
   "metadata": {},
   "outputs": [
    {
     "name": "stdout",
     "output_type": "stream",
     "text": [
      "[10, 20, 30, 40]\n",
      "(1, 2, 3, 4)\n"
     ]
    }
   ],
   "source": [
    "l=[10,20,30,40]\n",
    "print(l)\n",
    "t=(1,2,3,4)\n",
    "print(t)"
   ]
  },
  {
   "cell_type": "markdown",
   "metadata": {},
   "source": [
    "### 7. print() with replacement operator {}"
   ]
  },
  {
   "cell_type": "code",
   "execution_count": 23,
   "metadata": {},
   "outputs": [
    {
     "name": "stdout",
     "output_type": "stream",
     "text": [
      "Hello akhil, your salary is 120000 and your friend sasi is waiting\n"
     ]
    }
   ],
   "source": [
    "name = \"akhil\"\n",
    "salary = 120000\n",
    "friend = \"sasi\"\n",
    "print(\"Hello {}, your salary is {} and your friend {} is waiting\".format(name, salary, friend))"
   ]
  },
  {
   "cell_type": "code",
   "execution_count": 24,
   "metadata": {},
   "outputs": [
    {
     "name": "stdout",
     "output_type": "stream",
     "text": [
      "Hello sasi, your salary is 120000 and your friend akhil is waiting\n"
     ]
    }
   ],
   "source": [
    "print(\"Hello {2}, your salary is {1} and your friend {0} is waiting\".format(name, salary, friend))"
   ]
  },
  {
   "cell_type": "code",
   "execution_count": 25,
   "metadata": {},
   "outputs": [
    {
     "name": "stdout",
     "output_type": "stream",
     "text": [
      "a=10, b=20, c=30,d=40\n"
     ]
    }
   ],
   "source": [
    "a,b,c,d=10,20,30,40\n",
    "print(\"a={}, b={}, c={},d={}\".format(a,b,c,d))"
   ]
  },
  {
   "cell_type": "markdown",
   "metadata": {},
   "source": [
    "### print() with formated string\n",
    "1. %i ---> signed decimal value\n",
    "2. %d ---> signed decimal value\n",
    "3. %f ---> float value\n",
    "4. %s ---> string, any other objects list, set"
   ]
  },
  {
   "cell_type": "code",
   "execution_count": 26,
   "metadata": {},
   "outputs": [
    {
     "name": "stdout",
     "output_type": "stream",
     "text": [
      "a value is 10\n"
     ]
    }
   ],
   "source": [
    "a=10\n",
    "print(\"a value is %i\"%a)"
   ]
  },
  {
   "cell_type": "code",
   "execution_count": 27,
   "metadata": {},
   "outputs": [
    {
     "name": "stdout",
     "output_type": "stream",
     "text": [
      "a=10, b=20, c=30\n"
     ]
    }
   ],
   "source": [
    "a=10\n",
    "b=20\n",
    "c=30\n",
    "print(\"a=%d, b=%i, c=%d\"%(a,b,c))"
   ]
  },
  {
   "cell_type": "code",
   "execution_count": 28,
   "metadata": {},
   "outputs": [
    {
     "name": "stdout",
     "output_type": "stream",
     "text": [
      "Hello akhil, your marks list:[10, 20, 30, 40]\n"
     ]
    }
   ],
   "source": [
    "name =\"akhil\"\n",
    "marks =[10,20,30,40]\n",
    "print(\"Hello %s, your marks list:%s\"%(name,marks))"
   ]
  },
  {
   "cell_type": "code",
   "execution_count": 33,
   "metadata": {},
   "outputs": [
    {
     "name": "stdout",
     "output_type": "stream",
     "text": [
      "price value=70.56789\n",
      "price value= 70.57\n"
     ]
    }
   ],
   "source": [
    "price=70.56789\n",
    "print(\"price value={}\".format(price))\n",
    "print(\"price value= %.2f\"%(price))"
   ]
  },
  {
   "cell_type": "markdown",
   "metadata": {},
   "source": [
    "----"
   ]
  },
  {
   "cell_type": "markdown",
   "metadata": {},
   "source": [
    "## Python Flow Control"
   ]
  },
  {
   "cell_type": "markdown",
   "metadata": {},
   "source": [
    "### if statemnent"
   ]
  },
  {
   "cell_type": "code",
   "execution_count": 34,
   "metadata": {},
   "outputs": [
    {
     "name": "stdout",
     "output_type": "stream",
     "text": [
      "Hello Akhil, good morning\n",
      "How are you!\n"
     ]
    }
   ],
   "source": [
    "name = input(\"Enter Name\")\n",
    "if name == \"akhil\":\n",
    "    print(\"Hello Akhil, good morning\")\n",
    "print(\"How are you!\")"
   ]
  },
  {
   "cell_type": "markdown",
   "metadata": {},
   "source": [
    "### if-else statement"
   ]
  },
  {
   "cell_type": "code",
   "execution_count": 37,
   "metadata": {},
   "outputs": [
    {
     "name": "stdout",
     "output_type": "stream",
     "text": [
      "Hello guest, good morning\n",
      "How are you!\n"
     ]
    }
   ],
   "source": [
    "name = input(\"Enter Name\")\n",
    "if name == \"akhil\":\n",
    "    print(\"Hello Akhil, good morning\")\n",
    "else:\n",
    "    print(\"Hello guest, good morning\")\n",
    "print(\"How are you!\")"
   ]
  },
  {
   "cell_type": "markdown",
   "metadata": {},
   "source": [
    "### if-elif-else"
   ]
  },
  {
   "cell_type": "code",
   "execution_count": 38,
   "metadata": {},
   "outputs": [
    {
     "name": "stdout",
     "output_type": "stream",
     "text": [
      "It is to high\n"
     ]
    }
   ],
   "source": [
    "brand = input(\"Enter your favourite brand\")\n",
    "if brand == \"KF\":\n",
    "    print(\"It is childrens brand\")\n",
    "elif brand == \"KO\":\n",
    "    print(\"It is to high\")\n",
    "elif brand == \"RC\":\n",
    "    print(\"It is not that much kick\")\n",
    "elif brand == \"FO\":\n",
    "    print(\"Buy one get One\")\n",
    "else:\n",
    "    print(\"Other brands are not  recommended\")"
   ]
  },
  {
   "cell_type": "code",
   "execution_count": 39,
   "metadata": {},
   "outputs": [
    {
     "name": "stdout",
     "output_type": "stream",
     "text": [
      "6 is bigger than 5\n"
     ]
    }
   ],
   "source": [
    "#Write to find biggest of 2 given numbers\n",
    "a= int(input(\"Enter a number\"))\n",
    "b= int(input(\"Enter a number\"))\n",
    "if a>b:\n",
    "    print(f\"{a} is bigger than {b}\")\n",
    "else:\n",
    "    print(f\"{b} is bigger\")"
   ]
  },
  {
   "cell_type": "code",
   "execution_count": 40,
   "metadata": {},
   "outputs": [
    {
     "name": "stdout",
     "output_type": "stream",
     "text": [
      "biggest number: 7\n"
     ]
    }
   ],
   "source": [
    "#WAP to find biggest of 3 given numbers\n",
    "a= int(input(\"Enter a number\"))\n",
    "b= int(input(\"Enter a number\"))\n",
    "c= int(input(\"Enter a number\"))\n",
    "if a>b and a>c:\n",
    "    print(f\"{a} is biggest\")\n",
    "elif b>c:\n",
    "    print(\"biggest number:\", b)\n",
    "\n",
    "else:\n",
    "    print(\"Biggest number\",c)"
   ]
  },
  {
   "cell_type": "code",
   "execution_count": 20,
   "metadata": {},
   "outputs": [
    {
     "name": "stdout",
     "output_type": "stream",
     "text": [
      "1 \n",
      "1 2 \n",
      "1 2 3 \n",
      "1 2 3 4 \n",
      "1 2 3 4 5 \n",
      "1 2 3 4 5 6 \n",
      "1 2 3 4 5 6 7 \n"
     ]
    }
   ],
   "source": [
    "n=7\n",
    "for i in range(1,n+1):\n",
    "    for j in range(1,i+1):\n",
    "        star = j\n",
    "        print(star, end=\" \")\n",
    "    print()"
   ]
  },
  {
   "cell_type": "code",
   "execution_count": 36,
   "metadata": {},
   "outputs": [
    {
     "name": "stdout",
     "output_type": "stream",
     "text": [
      "* \n",
      "* * \n",
      "* * * \n",
      "* * * * \n",
      "* * * * * \n"
     ]
    }
   ],
   "source": [
    "n=5\n",
    "for i in range(n,0,-1):\n",
    "    print(\"* \"*(n-i+1))\n",
    "    \n"
   ]
  },
  {
   "cell_type": "code",
   "execution_count": 30,
   "metadata": {},
   "outputs": [
    {
     "name": "stdout",
     "output_type": "stream",
     "text": [
      "* * * * * \n",
      "* * * * \n",
      "* * * \n",
      "* * \n",
      "* \n"
     ]
    }
   ],
   "source": [
    "for i in range(n):\n",
    "    star=\"* \"* (n-i)\n",
    "    print(star)"
   ]
  },
  {
   "cell_type": "code",
   "execution_count": null,
   "metadata": {},
   "outputs": [],
   "source": []
  }
 ],
 "metadata": {
  "kernelspec": {
   "display_name": "Python 3",
   "language": "python",
   "name": "python3"
  },
  "language_info": {
   "codemirror_mode": {
    "name": "ipython",
    "version": 3
   },
   "file_extension": ".py",
   "mimetype": "text/x-python",
   "name": "python",
   "nbconvert_exporter": "python",
   "pygments_lexer": "ipython3",
   "version": "3.10.0"
  }
 },
 "nbformat": 4,
 "nbformat_minor": 2
}
