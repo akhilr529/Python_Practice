{
 "cells": [
  {
   "cell_type": "markdown",
   "metadata": {},
   "source": [
    "### __Polymorphism__\n",
    "\n",
    "- poly --> many  \n",
    "- morphs --> forms\n",
    "\n",
    "- One Name but multiple forms is the concept of polymorphism.\n",
    "\n",
    "\n"
   ]
  },
  {
   "cell_type": "markdown",
   "metadata": {},
   "source": [
    "- __+ operator__"
   ]
  },
  {
   "cell_type": "markdown",
   "metadata": {},
   "source": [
    "### __Overloading__\n",
    "1. operator overloading\n",
    "2. Method overloading\n",
    "3. Constructor overloading\n",
    "\n",
    "### __Overriding__\n",
    "1. Method Overriding\n",
    "2. Constructor overriding\n",
    "\n",
    "### __Python Behavior__\n",
    "1. Duck typing\n",
    "2. Easire to ask forgiveness than permission(EAFP)\n",
    "3. Monkey patching"
   ]
  },
  {
   "cell_type": "code",
   "execution_count": 3,
   "metadata": {},
   "outputs": [
    {
     "name": "stdout",
     "output_type": "stream",
     "text": [
      "30\n",
      "Akhil Renangi\n"
     ]
    }
   ],
   "source": [
    "#Operator overloading\n",
    "print(10+20)\n",
    "print(\"Akhil \"+\"Renangi\")"
   ]
  },
  {
   "cell_type": "code",
   "execution_count": 4,
   "metadata": {},
   "outputs": [
    {
     "name": "stdout",
     "output_type": "stream",
     "text": [
      "Rashi Khanna\n"
     ]
    }
   ],
   "source": [
    "#Method overriding\n",
    "class P:\n",
    "    def marry(self):\n",
    "        print(\"Subba laxmi\")\n",
    "\n",
    "class C(P):\n",
    "    def marry(self):\n",
    "        print(\"Rashi Khanna\")\n",
    "\n",
    "c = C()\n",
    "c.marry()"
   ]
  },
  {
   "cell_type": "markdown",
   "metadata": {},
   "source": [
    "### Overloading\n",
    "1. operator overloading\n",
    "2. Method overloading\n",
    "3. Constructor overloading"
   ]
  },
  {
   "cell_type": "markdown",
   "metadata": {},
   "source": [
    "### Operator overloading\n",
    "1. We can use same operator for multiple purposes which is nothing but operator overloading.\n",
    "2. Python supports operator overloading\n",
    "3. Java won't provide support for operator overloading"
   ]
  },
  {
   "cell_type": "code",
   "execution_count": 5,
   "metadata": {},
   "outputs": [
    {
     "name": "stdout",
     "output_type": "stream",
     "text": [
      "40\n",
      "Ahil Renangi\n"
     ]
    }
   ],
   "source": [
    "# \"+\" Operator\n",
    "\n",
    "print(10+30)\n",
    "print(\"Ahil \"+ \"Renangi\")"
   ]
  },
  {
   "cell_type": "code",
   "execution_count": 7,
   "metadata": {},
   "outputs": [
    {
     "name": "stdout",
     "output_type": "stream",
     "text": [
      "20\n",
      "akhilakhilakhilakhilakhil\n"
     ]
    }
   ],
   "source": [
    "# \"*\" operator\n",
    "print(10*2)\n",
    "print(\"akhil\"*5)"
   ]
  },
  {
   "cell_type": "code",
   "execution_count": 8,
   "metadata": {},
   "outputs": [
    {
     "name": "stdout",
     "output_type": "stream",
     "text": [
      "300\n"
     ]
    }
   ],
   "source": [
    "class Book:\n",
    "    def __init__(self, pages):\n",
    "        self.pages = pages\n",
    "\n",
    "    def __add__(self, others):\n",
    "        total_pages = self.pages + others.pages\n",
    "        return total_pages\n",
    "    \n",
    "\n",
    "b1 = Book(100)\n",
    "b2 = Book(200)\n",
    "print(b1+b2)"
   ]
  },
  {
   "cell_type": "code",
   "execution_count": 9,
   "metadata": {},
   "outputs": [
    {
     "name": "stdout",
     "output_type": "stream",
     "text": [
      "600\n"
     ]
    }
   ],
   "source": [
    "b3 = Book(500)\n",
    "print(b1+b3)"
   ]
  },
  {
   "cell_type": "code",
   "execution_count": 10,
   "metadata": {},
   "outputs": [
    {
     "ename": "TypeError",
     "evalue": "unsupported operand type(s) for +: 'int' and 'Book'",
     "output_type": "error",
     "traceback": [
      "\u001b[1;31m---------------------------------------------------------------------------\u001b[0m",
      "\u001b[1;31mTypeError\u001b[0m                                 Traceback (most recent call last)",
      "Cell \u001b[1;32mIn[10], line 1\u001b[0m\n\u001b[1;32m----> 1\u001b[0m \u001b[38;5;28mprint\u001b[39m(\u001b[43mb1\u001b[49m\u001b[38;5;241;43m+\u001b[39;49m\u001b[43mb2\u001b[49m\u001b[38;5;241;43m+\u001b[39;49m\u001b[43mb3\u001b[49m)\n",
      "\u001b[1;31mTypeError\u001b[0m: unsupported operand type(s) for +: 'int' and 'Book'"
     ]
    }
   ],
   "source": [
    "print(b1+b2+b3)"
   ]
  },
  {
   "cell_type": "markdown",
   "metadata": {},
   "source": [
    "### Operators and corresponding Magic methods\n",
    "\n",
    "1. \"+\" ==> __add_()\n",
    "2. \"-\" ==> __sub_()\n",
    "3. \"*\" ==> __mul_()\n",
    "4. \"/\" ==> __div_()\n",
    "5. \"//\" ==> __floordiv_()\n",
    "6. \"%\" ==> __mod_()\n",
    "7. \"**\" ==> __pow_()\n",
    "8. \"+=\" ==> __iadd_()\n",
    "9. \"-=\" ==> __isub_()\n",
    "-------\n",
    "\n",
    "1. \"<\" ==> __lt_()\n",
    "2. \"<=\" ==> __le-()\n",
    "3. \">\" ==> __gt_()\n",
    "4. \">=\" ==> __ge_()\n",
    "5. \"==\" ==> __eq_()\n",
    "6. \"!=\" ==> __ne_()\n",
    "\n"
   ]
  },
  {
   "cell_type": "code",
   "execution_count": 12,
   "metadata": {},
   "outputs": [
    {
     "name": "stdout",
     "output_type": "stream",
     "text": [
      "False\n"
     ]
    }
   ],
   "source": [
    "#Overloading of > and <= operators for student class objects\n",
    "\n",
    "class Student:\n",
    "    def __init__(self, name, marks):\n",
    "        self.name = name\n",
    "        self.marks = marks\n",
    "\n",
    "    def __gt__(self, other):\n",
    "        return self.marks > other.marks\n",
    "    \n",
    "    def __le__(self, other):\n",
    "        return self.marks <= other.marks\n",
    "    \n",
    "s1 = Student(\"Akhil\", 82)\n",
    "s2 = Student(\"Durga\", 99)\n",
    "print(s1>s2)"
   ]
  },
  {
   "cell_type": "code",
   "execution_count": 13,
   "metadata": {},
   "outputs": [
    {
     "name": "stdout",
     "output_type": "stream",
     "text": [
      "True\n"
     ]
    }
   ],
   "source": [
    "print(s1<s2)"
   ]
  },
  {
   "cell_type": "code",
   "execution_count": 14,
   "metadata": {},
   "outputs": [
    {
     "name": "stdout",
     "output_type": "stream",
     "text": [
      "True\n"
     ]
    }
   ],
   "source": [
    "print(s1<=s2)"
   ]
  },
  {
   "cell_type": "code",
   "execution_count": 19,
   "metadata": {},
   "outputs": [
    {
     "ename": "TypeError",
     "evalue": "unsupported operand type(s) for *: 'Employee' and 'Timesheet'",
     "output_type": "error",
     "traceback": [
      "\u001b[1;31m---------------------------------------------------------------------------\u001b[0m",
      "\u001b[1;31mTypeError\u001b[0m                                 Traceback (most recent call last)",
      "Cell \u001b[1;32mIn[19], line 18\u001b[0m\n\u001b[0;32m     16\u001b[0m e \u001b[38;5;241m=\u001b[39m Employee(\u001b[38;5;124m\"\u001b[39m\u001b[38;5;124mDurga\u001b[39m\u001b[38;5;124m\"\u001b[39m, \u001b[38;5;241m500\u001b[39m)\n\u001b[0;32m     17\u001b[0m t \u001b[38;5;241m=\u001b[39m Timesheet(\u001b[38;5;124m\"\u001b[39m\u001b[38;5;124mDurga\u001b[39m\u001b[38;5;124m\"\u001b[39m, \u001b[38;5;241m25\u001b[39m)\n\u001b[1;32m---> 18\u001b[0m \u001b[38;5;28mprint\u001b[39m(\u001b[38;5;124m\"\u001b[39m\u001b[38;5;124mThe month salary : \u001b[39m\u001b[38;5;124m\"\u001b[39m, \u001b[43me\u001b[49m\u001b[38;5;241;43m*\u001b[39;49m\u001b[43mt\u001b[49m)\n\u001b[0;32m     19\u001b[0m \u001b[38;5;28mprint\u001b[39m(\u001b[38;5;124m\"\u001b[39m\u001b[38;5;124mThis month salary : \u001b[39m\u001b[38;5;124m\"\u001b[39m, t\u001b[38;5;241m*\u001b[39me)\n",
      "\u001b[1;31mTypeError\u001b[0m: unsupported operand type(s) for *: 'Employee' and 'Timesheet'"
     ]
    }
   ],
   "source": [
    "#program to overload multiplication orperator to work on employee objects.\n",
    "class Employee:\n",
    "    def __init__(self, name, salaryPerDay):\n",
    "        self.name = name\n",
    "        self.salaryPerDay = salaryPerDay\n",
    "\n",
    "class Timesheet:\n",
    "    def __init__(self, name, workingDays):\n",
    "        self.name = name\n",
    "        self.workingDays = workingDays\n",
    "\n",
    "    def __mul__(self, other):\n",
    "        return (self.workingDays * other.salaryPerDay)\n",
    "    \n",
    "\n",
    "e = Employee(\"Durga\", 500)\n",
    "t = Timesheet(\"Durga\", 25)\n",
    "print(\"The month salary : \", e*t)\n",
    "print(\"This month salary : \", t*e)"
   ]
  },
  {
   "cell_type": "code",
   "execution_count": 20,
   "metadata": {},
   "outputs": [
    {
     "name": "stdout",
     "output_type": "stream",
     "text": [
      "This month salary :  12500\n"
     ]
    }
   ],
   "source": [
    "print(\"This month salary : \", t*e)"
   ]
  },
  {
   "cell_type": "markdown",
   "metadata": {},
   "source": [
    "### Importance of __str_() method\n",
    "1. Whenever we are trying to print any object reference, internally _._str__() method will be called.\n",
    "2. The default implementation of this method returns te string in the following format\n",
    "- __<_._main__.Student object at 0x000001DDA4B81840>__\n",
    "3. To provide meaningful string representation for our object, we have to override _._str__() method in our class"
   ]
  },
  {
   "cell_type": "code",
   "execution_count": 21,
   "metadata": {},
   "outputs": [
    {
     "name": "stdout",
     "output_type": "stream",
     "text": [
      "<__main__.Student object at 0x000001DDA4B81840>\n",
      "<__main__.Student object at 0x000001DDA4B82890>\n"
     ]
    }
   ],
   "source": [
    "class Student:\n",
    "    def __init__(self, name, rollno, marks):\n",
    "        self.name = name\n",
    "        self.rollno = rollno\n",
    "        self.marks = marks\n",
    "s1 = Student(\"Akhil\", 101, 78)\n",
    "s2 = Student(\"Ravi\", 102, 99)\n",
    "print(s1)\n",
    "print(s2)"
   ]
  },
  {
   "cell_type": "code",
   "execution_count": 22,
   "metadata": {},
   "outputs": [
    {
     "name": "stdout",
     "output_type": "stream",
     "text": [
      "Name = Akhil, Roll No = 101, Marks = 78\n",
      "Name = Ravi, Roll No = 102, Marks = 99\n"
     ]
    }
   ],
   "source": [
    "class Student:\n",
    "    def __init__(self, name, rollno, marks):\n",
    "        self.name = name\n",
    "        self.rollno = rollno\n",
    "        self.marks = marks\n",
    "\n",
    "    def __str__(self):\n",
    "        return \"Name = {}, Roll No = {}, Marks = {}\".format(self.name, self.rollno, self.marks)\n",
    "s1 = Student(\"Akhil\", 101, 78)\n",
    "s2 = Student(\"Ravi\", 102, 99)\n",
    "print(s1)\n",
    "print(s2)"
   ]
  },
  {
   "cell_type": "code",
   "execution_count": 29,
   "metadata": {},
   "outputs": [
    {
     "name": "stdout",
     "output_type": "stream",
     "text": [
      "The total no. of pages = 100\n",
      "The total no. of pages = 800\n",
      "The total no. of pages = 1600\n",
      "The total no. of pages = 100900\n"
     ]
    }
   ],
   "source": [
    "#Overloading of + operator for nesting requirement\n",
    "class Book:\n",
    "    def __init__(self, pages):\n",
    "        self.pages = pages\n",
    "\n",
    "    def __add__(self, other):\n",
    "        return Book(self.pages + other.pages)\n",
    "    \n",
    "    def __str__(self):\n",
    "        return \"The total no. of pages = {}\".format(self.pages)\n",
    "    \n",
    "    def __mul__(self, other):\n",
    "        return Book(self.pages * other.pages)\n",
    "    \n",
    "\n",
    "b1 = Book(100)\n",
    "b2 = Book(200)\n",
    "b3 = Book(500)\n",
    "b4 = Book(800)\n",
    "print(b1)\n",
    "print(b1+b2+b3)\n",
    "print(b1+b2+b3+b4)\n",
    "print(b1+b2*b3+b4)"
   ]
  },
  {
   "cell_type": "code",
   "execution_count": null,
   "metadata": {},
   "outputs": [],
   "source": []
  }
 ],
 "metadata": {
  "kernelspec": {
   "display_name": "Python 3",
   "language": "python",
   "name": "python3"
  },
  "language_info": {
   "codemirror_mode": {
    "name": "ipython",
    "version": 3
   },
   "file_extension": ".py",
   "mimetype": "text/x-python",
   "name": "python",
   "nbconvert_exporter": "python",
   "pygments_lexer": "ipython3",
   "version": "3.10.0"
  }
 },
 "nbformat": 4,
 "nbformat_minor": 2
}
