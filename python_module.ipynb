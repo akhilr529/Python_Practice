{
 "cells": [
  {
   "cell_type": "markdown",
   "metadata": {},
   "source": [
    "#### Module Aliasing"
   ]
  },
  {
   "cell_type": "code",
   "execution_count": 2,
   "metadata": {},
   "outputs": [
    {
     "name": "stdout",
     "output_type": "stream",
     "text": [
      "888\n",
      "The product : 25\n"
     ]
    }
   ],
   "source": [
    "import akhil_math as m\n",
    "print(m.x)\n",
    "m.product(5,5)"
   ]
  },
  {
   "cell_type": "markdown",
   "metadata": {},
   "source": [
    "##### from __ import"
   ]
  },
  {
   "cell_type": "code",
   "execution_count": 5,
   "metadata": {},
   "outputs": [
    {
     "name": "stdout",
     "output_type": "stream",
     "text": [
      "888\n",
      "999\n"
     ]
    },
    {
     "ename": "NameError",
     "evalue": "name 'add' is not defined",
     "output_type": "error",
     "traceback": [
      "\u001b[1;31m---------------------------------------------------------------------------\u001b[0m",
      "\u001b[1;31mNameError\u001b[0m                                 Traceback (most recent call last)",
      "Cell \u001b[1;32mIn[5], line 4\u001b[0m\n\u001b[0;32m      2\u001b[0m \u001b[38;5;28mprint\u001b[39m(x)\n\u001b[0;32m      3\u001b[0m \u001b[38;5;28mprint\u001b[39m(y)\n\u001b[1;32m----> 4\u001b[0m \u001b[43madd\u001b[49m(\u001b[38;5;241m10\u001b[39m,\u001b[38;5;241m20\u001b[39m)\n",
      "\u001b[1;31mNameError\u001b[0m: name 'add' is not defined"
     ]
    }
   ],
   "source": [
    "from akhil_math import x, y\n",
    "print(x)\n",
    "print(y)\n",
    "add(10,20)"
   ]
  },
  {
   "cell_type": "markdown",
   "metadata": {},
   "source": [
    "#### Member aliasing"
   ]
  },
  {
   "cell_type": "code",
   "execution_count": 6,
   "metadata": {},
   "outputs": [
    {
     "name": "stdout",
     "output_type": "stream",
     "text": [
      "The sum: 30\n",
      "The product : 45\n"
     ]
    }
   ],
   "source": [
    "from akhil_math import add as a, product as p\n",
    "a(10,20)\n",
    "p(9,5)"
   ]
  },
  {
   "cell_type": "markdown",
   "metadata": {},
   "source": [
    "### Various Possibilities of import statement\n",
    "1. import module\n",
    "2. import module1, module2, module3\n",
    "3. import module as m1\n",
    "4. import module as m1, module2 as m2\n",
    "5. from module1 import member1\n",
    "6. form module1 import member1, member2\n",
    "7. from module1 import *\n",
    "8. from module1 import memb1 as m1\n",
    "9. from module1 import member1 as m1, member2 as 2"
   ]
  },
  {
   "cell_type": "markdown",
   "metadata": {},
   "source": [
    "#### Module naming conflicts"
   ]
  },
  {
   "cell_type": "code",
   "execution_count": 7,
   "metadata": {},
   "outputs": [
    {
     "name": "stdout",
     "output_type": "stream",
     "text": [
      "Module2 add function\n",
      "The Sum : 30\n"
     ]
    }
   ],
   "source": [
    "from module1 import *\n",
    "from module2 import *\n",
    "add(10,20)"
   ]
  },
  {
   "cell_type": "code",
   "execution_count": 8,
   "metadata": {},
   "outputs": [
    {
     "name": "stdout",
     "output_type": "stream",
     "text": [
      "Module1 add function\n",
      "The Sum : 30\n",
      "Module2 add function\n",
      "The Sum : 30\n"
     ]
    }
   ],
   "source": [
    "#solution - 1\n",
    "import module1\n",
    "import module2\n",
    "module1.add(10,20)\n",
    "module2.add(10,20)"
   ]
  },
  {
   "cell_type": "code",
   "execution_count": 9,
   "metadata": {},
   "outputs": [
    {
     "name": "stdout",
     "output_type": "stream",
     "text": [
      "Module1 add function\n",
      "The Sum : 30\n",
      "Module2 add function\n",
      "The Sum : 30\n"
     ]
    }
   ],
   "source": [
    "#solution - 2\n",
    "from module1 import add as a1\n",
    "from module2 import add as a2\n",
    "a1(10,20)\n",
    "a2(10,20)"
   ]
  },
  {
   "cell_type": "markdown",
   "metadata": {},
   "source": [
    "### Reloading a module"
   ]
  },
  {
   "cell_type": "code",
   "execution_count": 14,
   "metadata": {},
   "outputs": [
    {
     "name": "stdout",
     "output_type": "stream",
     "text": [
      "Module1 add function\n",
      "The Sum : 30\n"
     ]
    },
    {
     "ename": "AttributeError",
     "evalue": "module 'module1' has no attribute 'product'",
     "output_type": "error",
     "traceback": [
      "\u001b[1;31m---------------------------------------------------------------------------\u001b[0m",
      "\u001b[1;31mAttributeError\u001b[0m                            Traceback (most recent call last)",
      "Cell \u001b[1;32mIn[14], line 7\u001b[0m\n\u001b[0;32m      5\u001b[0m time\u001b[38;5;241m.\u001b[39msleep(\u001b[38;5;241m15\u001b[39m)\n\u001b[0;32m      6\u001b[0m \u001b[38;5;28;01mimport\u001b[39;00m \u001b[38;5;21;01mmodule1\u001b[39;00m\n\u001b[1;32m----> 7\u001b[0m \u001b[43mmodule1\u001b[49m\u001b[38;5;241;43m.\u001b[39;49m\u001b[43mproduct\u001b[49m(\u001b[38;5;241m10\u001b[39m,\u001b[38;5;241m20\u001b[39m)\n",
      "\u001b[1;31mAttributeError\u001b[0m: module 'module1' has no attribute 'product'"
     ]
    }
   ],
   "source": [
    "from imp import reload\n",
    "import module1\n",
    "import time\n",
    "module1.add(10,20)\n",
    "time.sleep(15)\n",
    "import module1\n",
    "module1.product(10,20)\n"
   ]
  },
  {
   "cell_type": "code",
   "execution_count": 15,
   "metadata": {},
   "outputs": [
    {
     "name": "stdout",
     "output_type": "stream",
     "text": [
      "The product : 200\n"
     ]
    }
   ],
   "source": [
    "reload(module1)\n",
    "module1.product(10,20)"
   ]
  },
  {
   "cell_type": "code",
   "execution_count": 16,
   "metadata": {},
   "outputs": [
    {
     "name": "stdout",
     "output_type": "stream",
     "text": [
      "Module1 add function\n",
      "The Sum : 30\n"
     ]
    }
   ],
   "source": [
    "module1.add(10,20)"
   ]
  },
  {
   "cell_type": "code",
   "execution_count": 20,
   "metadata": {},
   "outputs": [
    {
     "name": "stdout",
     "output_type": "stream",
     "text": [
      "Module2 add function\n",
      "The Sum : 30\n"
     ]
    }
   ],
   "source": [
    "import module2\n",
    "module2.add(10,20)"
   ]
  },
  {
   "cell_type": "code",
   "execution_count": 25,
   "metadata": {},
   "outputs": [
    {
     "name": "stdout",
     "output_type": "stream",
     "text": [
      "The product : 200\n"
     ]
    }
   ],
   "source": [
    "reload(module2)\n",
    "import module2\n",
    "module2.product(10,20)"
   ]
  },
  {
   "cell_type": "markdown",
   "metadata": {},
   "source": [
    "#### Finding members of module by using dir() function\n",
    "1. dir() ===> to listout all members of current module\n",
    "2. dir(modulename) ===> to listout all members of specified module "
   ]
  },
  {
   "cell_type": "code",
   "execution_count": 26,
   "metadata": {},
   "outputs": [
    {
     "name": "stdout",
     "output_type": "stream",
     "text": [
      "['__doc__', '__loader__', '__name__', '__package__', '__spec__', 'acos', 'acosh', 'asin', 'asinh', 'atan', 'atan2', 'atanh', 'ceil', 'comb', 'copysign', 'cos', 'cosh', 'degrees', 'dist', 'e', 'erf', 'erfc', 'exp', 'expm1', 'fabs', 'factorial', 'floor', 'fmod', 'frexp', 'fsum', 'gamma', 'gcd', 'hypot', 'inf', 'isclose', 'isfinite', 'isinf', 'isnan', 'isqrt', 'lcm', 'ldexp', 'lgamma', 'log', 'log10', 'log1p', 'log2', 'modf', 'nan', 'nextafter', 'perm', 'pi', 'pow', 'prod', 'radians', 'remainder', 'sin', 'sinh', 'sqrt', 'tan', 'tanh', 'tau', 'trunc', 'ulp']\n"
     ]
    }
   ],
   "source": [
    "import math\n",
    "print(dir(math))"
   ]
  },
  {
   "cell_type": "markdown",
   "metadata": {},
   "source": [
    "#### Expain difference between dir() and help() functions?\n",
    "- dir(math)   vs help(math)\n",
    "- [members]    vs document\n",
    "- dir() function just list out all members of the given module\n",
    "- help() function provides documentation related to the module"
   ]
  },
  {
   "cell_type": "code",
   "execution_count": 27,
   "metadata": {},
   "outputs": [
    {
     "name": "stdout",
     "output_type": "stream",
     "text": [
      "['__doc__', '__loader__', '__name__', '__package__', '__spec__', 'acos', 'acosh', 'asin', 'asinh', 'atan', 'atan2', 'atanh', 'ceil', 'comb', 'copysign', 'cos', 'cosh', 'degrees', 'dist', 'e', 'erf', 'erfc', 'exp', 'expm1', 'fabs', 'factorial', 'floor', 'fmod', 'frexp', 'fsum', 'gamma', 'gcd', 'hypot', 'inf', 'isclose', 'isfinite', 'isinf', 'isnan', 'isqrt', 'lcm', 'ldexp', 'lgamma', 'log', 'log10', 'log1p', 'log2', 'modf', 'nan', 'nextafter', 'perm', 'pi', 'pow', 'prod', 'radians', 'remainder', 'sin', 'sinh', 'sqrt', 'tan', 'tanh', 'tau', 'trunc', 'ulp']\n"
     ]
    }
   ],
   "source": [
    "import math\n",
    "print(dir(math))"
   ]
  },
  {
   "cell_type": "code",
   "execution_count": 29,
   "metadata": {},
   "outputs": [
    {
     "name": "stdout",
     "output_type": "stream",
     "text": [
      "Help on built-in module math:\n",
      "\n",
      "NAME\n",
      "    math\n",
      "\n",
      "DESCRIPTION\n",
      "    This module provides access to the mathematical functions\n",
      "    defined by the C standard.\n",
      "\n",
      "FUNCTIONS\n",
      "    acos(x, /)\n",
      "        Return the arc cosine (measured in radians) of x.\n",
      "        \n",
      "        The result is between 0 and pi.\n",
      "    \n",
      "    acosh(x, /)\n",
      "        Return the inverse hyperbolic cosine of x.\n",
      "    \n",
      "    asin(x, /)\n",
      "        Return the arc sine (measured in radians) of x.\n",
      "        \n",
      "        The result is between -pi/2 and pi/2.\n",
      "    \n",
      "    asinh(x, /)\n",
      "        Return the inverse hyperbolic sine of x.\n",
      "    \n",
      "    atan(x, /)\n",
      "        Return the arc tangent (measured in radians) of x.\n",
      "        \n",
      "        The result is between -pi/2 and pi/2.\n",
      "    \n",
      "    atan2(y, x, /)\n",
      "        Return the arc tangent (measured in radians) of y/x.\n",
      "        \n",
      "        Unlike atan(y/x), the signs of both x and y are considered.\n",
      "    \n",
      "    atanh(x, /)\n",
      "        Return the inverse hyperbolic tangent of x.\n",
      "    \n",
      "    ceil(x, /)\n",
      "        Return the ceiling of x as an Integral.\n",
      "        \n",
      "        This is the smallest integer >= x.\n",
      "    \n",
      "    comb(n, k, /)\n",
      "        Number of ways to choose k items from n items without repetition and without order.\n",
      "        \n",
      "        Evaluates to n! / (k! * (n - k)!) when k <= n and evaluates\n",
      "        to zero when k > n.\n",
      "        \n",
      "        Also called the binomial coefficient because it is equivalent\n",
      "        to the coefficient of k-th term in polynomial expansion of the\n",
      "        expression (1 + x)**n.\n",
      "        \n",
      "        Raises TypeError if either of the arguments are not integers.\n",
      "        Raises ValueError if either of the arguments are negative.\n",
      "    \n",
      "    copysign(x, y, /)\n",
      "        Return a float with the magnitude (absolute value) of x but the sign of y.\n",
      "        \n",
      "        On platforms that support signed zeros, copysign(1.0, -0.0)\n",
      "        returns -1.0.\n",
      "    \n",
      "    cos(x, /)\n",
      "        Return the cosine of x (measured in radians).\n",
      "    \n",
      "    cosh(x, /)\n",
      "        Return the hyperbolic cosine of x.\n",
      "    \n",
      "    degrees(x, /)\n",
      "        Convert angle x from radians to degrees.\n",
      "    \n",
      "    dist(p, q, /)\n",
      "        Return the Euclidean distance between two points p and q.\n",
      "        \n",
      "        The points should be specified as sequences (or iterables) of\n",
      "        coordinates.  Both inputs must have the same dimension.\n",
      "        \n",
      "        Roughly equivalent to:\n",
      "            sqrt(sum((px - qx) ** 2.0 for px, qx in zip(p, q)))\n",
      "    \n",
      "    erf(x, /)\n",
      "        Error function at x.\n",
      "    \n",
      "    erfc(x, /)\n",
      "        Complementary error function at x.\n",
      "    \n",
      "    exp(x, /)\n",
      "        Return e raised to the power of x.\n",
      "    \n",
      "    expm1(x, /)\n",
      "        Return exp(x)-1.\n",
      "        \n",
      "        This function avoids the loss of precision involved in the direct evaluation of exp(x)-1 for small x.\n",
      "    \n",
      "    fabs(x, /)\n",
      "        Return the absolute value of the float x.\n",
      "    \n",
      "    factorial(x, /)\n",
      "        Find x!.\n",
      "        \n",
      "        Raise a ValueError if x is negative or non-integral.\n",
      "    \n",
      "    floor(x, /)\n",
      "        Return the floor of x as an Integral.\n",
      "        \n",
      "        This is the largest integer <= x.\n",
      "    \n",
      "    fmod(x, y, /)\n",
      "        Return fmod(x, y), according to platform C.\n",
      "        \n",
      "        x % y may differ.\n",
      "    \n",
      "    frexp(x, /)\n",
      "        Return the mantissa and exponent of x, as pair (m, e).\n",
      "        \n",
      "        m is a float and e is an int, such that x = m * 2.**e.\n",
      "        If x is 0, m and e are both 0.  Else 0.5 <= abs(m) < 1.0.\n",
      "    \n",
      "    fsum(seq, /)\n",
      "        Return an accurate floating point sum of values in the iterable seq.\n",
      "        \n",
      "        Assumes IEEE-754 floating point arithmetic.\n",
      "    \n",
      "    gamma(x, /)\n",
      "        Gamma function at x.\n",
      "    \n",
      "    gcd(*integers)\n",
      "        Greatest Common Divisor.\n",
      "    \n",
      "    hypot(...)\n",
      "        hypot(*coordinates) -> value\n",
      "        \n",
      "        Multidimensional Euclidean distance from the origin to a point.\n",
      "        \n",
      "        Roughly equivalent to:\n",
      "            sqrt(sum(x**2 for x in coordinates))\n",
      "        \n",
      "        For a two dimensional point (x, y), gives the hypotenuse\n",
      "        using the Pythagorean theorem:  sqrt(x*x + y*y).\n",
      "        \n",
      "        For example, the hypotenuse of a 3/4/5 right triangle is:\n",
      "        \n",
      "            >>> hypot(3.0, 4.0)\n",
      "            5.0\n",
      "    \n",
      "    isclose(a, b, *, rel_tol=1e-09, abs_tol=0.0)\n",
      "        Determine whether two floating point numbers are close in value.\n",
      "        \n",
      "          rel_tol\n",
      "            maximum difference for being considered \"close\", relative to the\n",
      "            magnitude of the input values\n",
      "          abs_tol\n",
      "            maximum difference for being considered \"close\", regardless of the\n",
      "            magnitude of the input values\n",
      "        \n",
      "        Return True if a is close in value to b, and False otherwise.\n",
      "        \n",
      "        For the values to be considered close, the difference between them\n",
      "        must be smaller than at least one of the tolerances.\n",
      "        \n",
      "        -inf, inf and NaN behave similarly to the IEEE 754 Standard.  That\n",
      "        is, NaN is not close to anything, even itself.  inf and -inf are\n",
      "        only close to themselves.\n",
      "    \n",
      "    isfinite(x, /)\n",
      "        Return True if x is neither an infinity nor a NaN, and False otherwise.\n",
      "    \n",
      "    isinf(x, /)\n",
      "        Return True if x is a positive or negative infinity, and False otherwise.\n",
      "    \n",
      "    isnan(x, /)\n",
      "        Return True if x is a NaN (not a number), and False otherwise.\n",
      "    \n",
      "    isqrt(n, /)\n",
      "        Return the integer part of the square root of the input.\n",
      "    \n",
      "    lcm(*integers)\n",
      "        Least Common Multiple.\n",
      "    \n",
      "    ldexp(x, i, /)\n",
      "        Return x * (2**i).\n",
      "        \n",
      "        This is essentially the inverse of frexp().\n",
      "    \n",
      "    lgamma(x, /)\n",
      "        Natural logarithm of absolute value of Gamma function at x.\n",
      "    \n",
      "    log(...)\n",
      "        log(x, [base=math.e])\n",
      "        Return the logarithm of x to the given base.\n",
      "        \n",
      "        If the base not specified, returns the natural logarithm (base e) of x.\n",
      "    \n",
      "    log10(x, /)\n",
      "        Return the base 10 logarithm of x.\n",
      "    \n",
      "    log1p(x, /)\n",
      "        Return the natural logarithm of 1+x (base e).\n",
      "        \n",
      "        The result is computed in a way which is accurate for x near zero.\n",
      "    \n",
      "    log2(x, /)\n",
      "        Return the base 2 logarithm of x.\n",
      "    \n",
      "    modf(x, /)\n",
      "        Return the fractional and integer parts of x.\n",
      "        \n",
      "        Both results carry the sign of x and are floats.\n",
      "    \n",
      "    nextafter(x, y, /)\n",
      "        Return the next floating-point value after x towards y.\n",
      "    \n",
      "    perm(n, k=None, /)\n",
      "        Number of ways to choose k items from n items without repetition and with order.\n",
      "        \n",
      "        Evaluates to n! / (n - k)! when k <= n and evaluates\n",
      "        to zero when k > n.\n",
      "        \n",
      "        If k is not specified or is None, then k defaults to n\n",
      "        and the function returns n!.\n",
      "        \n",
      "        Raises TypeError if either of the arguments are not integers.\n",
      "        Raises ValueError if either of the arguments are negative.\n",
      "    \n",
      "    pow(x, y, /)\n",
      "        Return x**y (x to the power of y).\n",
      "    \n",
      "    prod(iterable, /, *, start=1)\n",
      "        Calculate the product of all the elements in the input iterable.\n",
      "        \n",
      "        The default start value for the product is 1.\n",
      "        \n",
      "        When the iterable is empty, return the start value.  This function is\n",
      "        intended specifically for use with numeric values and may reject\n",
      "        non-numeric types.\n",
      "    \n",
      "    radians(x, /)\n",
      "        Convert angle x from degrees to radians.\n",
      "    \n",
      "    remainder(x, y, /)\n",
      "        Difference between x and the closest integer multiple of y.\n",
      "        \n",
      "        Return x - n*y where n*y is the closest integer multiple of y.\n",
      "        In the case where x is exactly halfway between two multiples of\n",
      "        y, the nearest even value of n is used. The result is always exact.\n",
      "    \n",
      "    sin(x, /)\n",
      "        Return the sine of x (measured in radians).\n",
      "    \n",
      "    sinh(x, /)\n",
      "        Return the hyperbolic sine of x.\n",
      "    \n",
      "    sqrt(x, /)\n",
      "        Return the square root of x.\n",
      "    \n",
      "    tan(x, /)\n",
      "        Return the tangent of x (measured in radians).\n",
      "    \n",
      "    tanh(x, /)\n",
      "        Return the hyperbolic tangent of x.\n",
      "    \n",
      "    trunc(x, /)\n",
      "        Truncates the Real x to the nearest Integral toward 0.\n",
      "        \n",
      "        Uses the __trunc__ magic method.\n",
      "    \n",
      "    ulp(x, /)\n",
      "        Return the value of the least significant bit of the float x.\n",
      "\n",
      "DATA\n",
      "    e = 2.718281828459045\n",
      "    inf = inf\n",
      "    nan = nan\n",
      "    pi = 3.141592653589793\n",
      "    tau = 6.283185307179586\n",
      "\n",
      "FILE\n",
      "    (built-in)\n",
      "\n",
      "\n",
      "None\n"
     ]
    }
   ],
   "source": [
    "print(help(math))"
   ]
  },
  {
   "cell_type": "markdown",
   "metadata": {},
   "source": [
    "### Extra members added by python interpreter[pvm] for every module\n",
    "- __doc__\n",
    "- __file__\n",
    "- __name__\n",
    "- __loader__\n",
    "- __package__"
   ]
  },
  {
   "cell_type": "markdown",
   "metadata": {},
   "source": [
    "#### Special variable __name__"
   ]
  },
  {
   "cell_type": "code",
   "execution_count": 34,
   "metadata": {},
   "outputs": [
    {
     "name": "stdout",
     "output_type": "stream",
     "text": [
      "module3\n",
      "Indirect exection because import\n",
      "Test module\n"
     ]
    }
   ],
   "source": [
    "reload(module3)\n",
    "import module3\n",
    "print(\"Test module\")"
   ]
  },
  {
   "cell_type": "markdown",
   "metadata": {},
   "source": [
    "#### Working with math module"
   ]
  },
  {
   "cell_type": "code",
   "execution_count": 35,
   "metadata": {},
   "outputs": [
    {
     "name": "stdout",
     "output_type": "stream",
     "text": [
      "24\n",
      "2.0\n",
      "10.6\n",
      "10.6\n",
      "11\n",
      "10\n"
     ]
    }
   ],
   "source": [
    "from math import *\n",
    "print(factorial(4))\n",
    "print(sqrt(4))\n",
    "print(fabs(-10.6))\n",
    "print(fabs(10.6))\n",
    "print(ceil(10.5))\n",
    "print(floor(10.5))"
   ]
  },
  {
   "cell_type": "code",
   "execution_count": 39,
   "metadata": {},
   "outputs": [
    {
     "name": "stdout",
     "output_type": "stream",
     "text": [
      "Area of circle : 78.54\n"
     ]
    }
   ],
   "source": [
    "#Area of the Circle\n",
    "from math import *\n",
    "r=int(input(\"Enter the Radius of circle\"))\n",
    "# area = pi*r**2\n",
    "area = pi*pow(r,2)\n",
    "print(\"Area of circle :\", round(area,2))"
   ]
  },
  {
   "cell_type": "markdown",
   "metadata": {},
   "source": [
    "### Working with random module\n",
    "1. random()\n",
    "2. uniform()\n",
    "3. randint()\n",
    "4. randrange()\n",
    "5. choice()\n"
   ]
  },
  {
   "cell_type": "markdown",
   "metadata": {},
   "source": [
    "### 1. random()\n",
    "- Random float numbers between 0 and 1(not inclusive) ---> 0<x<1"
   ]
  },
  {
   "cell_type": "code",
   "execution_count": 41,
   "metadata": {},
   "outputs": [
    {
     "name": "stdout",
     "output_type": "stream",
     "text": [
      "0.24664942609853846\n"
     ]
    }
   ],
   "source": [
    "from random import *\n",
    "print(random())"
   ]
  },
  {
   "cell_type": "markdown",
   "metadata": {},
   "source": [
    "### 2. uniform(begin, end)\n",
    "- begin<x<end\n",
    "- Random float number between begin and end (not inclusive)"
   ]
  },
  {
   "cell_type": "code",
   "execution_count": 42,
   "metadata": {},
   "outputs": [
    {
     "name": "stdout",
     "output_type": "stream",
     "text": [
      "1.9658919128281096\n"
     ]
    }
   ],
   "source": [
    "from random import *\n",
    "print(uniform(1,5))"
   ]
  },
  {
   "cell_type": "markdown",
   "metadata": {},
   "source": [
    "### 3. randint(begin, end)\n",
    "- Random int value between begin and end(inclusive)\n"
   ]
  },
  {
   "cell_type": "code",
   "execution_count": 43,
   "metadata": {},
   "outputs": [
    {
     "name": "stdout",
     "output_type": "stream",
     "text": [
      "5\n"
     ]
    }
   ],
   "source": [
    "from random import *\n",
    "print(randint(1,20))"
   ]
  },
  {
   "cell_type": "markdown",
   "metadata": {},
   "source": [
    "### 4. randrange(begin, end, step)\n",
    "- from begin to end-1\n",
    "- begin is optional & default value is 0\n",
    "- step is opetional & default value is 1\n"
   ]
  },
  {
   "cell_type": "code",
   "execution_count": 44,
   "metadata": {},
   "outputs": [
    {
     "name": "stdout",
     "output_type": "stream",
     "text": [
      "1\n"
     ]
    }
   ],
   "source": [
    "from random import *\n",
    "print(randrange(5))"
   ]
  },
  {
   "cell_type": "markdown",
   "metadata": {},
   "source": [
    "### 5. choice()\n",
    "- To generate a random object from list, tuple, string etc\n",
    "- Syntax==> choice(sequence)"
   ]
  },
  {
   "cell_type": "code",
   "execution_count": 45,
   "metadata": {},
   "outputs": [
    {
     "name": "stdout",
     "output_type": "stream",
     "text": [
      "Mango\n"
     ]
    }
   ],
   "source": [
    "from random import *\n",
    "l=[\"Apple\", \"Banana\", \"Orange\", \"Mango\"]\n",
    "print(choice(l))"
   ]
  },
  {
   "cell_type": "code",
   "execution_count": 46,
   "metadata": {},
   "outputs": [
    {
     "name": "stdout",
     "output_type": "stream",
     "text": [
      "483127\n"
     ]
    }
   ],
   "source": [
    "#WAP to generate 6-digit random numbers which can be used as OTP\n",
    "from random import *\n",
    "print(randint(0,9),randint(0,9),randint(0,9),randint(0,9),randint(0,9),randint(0,9), sep=\"\")"
   ]
  },
  {
   "cell_type": "code",
   "execution_count": 48,
   "metadata": {},
   "outputs": [
    {
     "name": "stdout",
     "output_type": "stream",
     "text": [
      "262429\n"
     ]
    }
   ],
   "source": [
    "OTP =\"\"\n",
    "for i in range(6):\n",
    "    OTP = OTP + str(randint(0,9))\n",
    "print(OTP)"
   ]
  },
  {
   "cell_type": "code",
   "execution_count": 49,
   "metadata": {},
   "outputs": [
    {
     "name": "stdout",
     "output_type": "stream",
     "text": [
      "E8G2Q3\n"
     ]
    }
   ],
   "source": [
    "# Write a program to generate a random password of 6 length where 1,3,5 characters are alphabet symbols and 2,4,6 characters are digits\n",
    "from random import *\n",
    "alphabets = \"ABCDEFGHIJKLMNOPQRSTUVWXYZ\"\n",
    "digits = \"0123456789\"\n",
    "print(choice(alphabets), choice(digits),choice(alphabets),choice(digits),choice(alphabets),choice(digits), sep=\"\")"
   ]
  },
  {
   "cell_type": "markdown",
   "metadata": {},
   "source": [
    "### Write a program to generate fake Employee data for data base testing?\n",
    "\n",
    "1. Employee name\n",
    "2. Employee number\n",
    "3. Employee Salary\n",
    "4. Employee city\n",
    "5. Employee mobile number\n",
    "6. Designation\n",
    "\n",
    "#### Employee Name requirements\n",
    "1. The name should contains 3 to 10 characters\n",
    "2. first character should be upper case and remaining characters should be lower case.\n",
    "\n",
    "#### Employee Number Requirement\n",
    "1. Employee number should starts with \"e-\" followed by 4 digits. ==> eg:- e-1234\n",
    "\n",
    "#### Employee Salary Requirement:\n",
    "- Employee salary should be float value from 10000 to 50000\n",
    "\n",
    "#### Employee City Requirements:\n",
    "1. Employee city should be from : [\"Hyderabad\",\"Chennai\",\"Bangalore\",\"Pune\",\"Delhi\",\"Mumbai\"]\n",
    "\n",
    "#### Mobile number requirement\n",
    "1. Mobile number should contains exactly 10-digits where first number should be 6 to 9\n",
    "2. No restrictions on remaining digits\n",
    "3. eg:- 9848098480\n",
    "\n",
    "#### Designation Requirements:-\n",
    "1. Employee Designation should be from: [\"Software Engineer\",\"Senior Software Engineer\",\"Team Lead\",\"Project lead\",\"Project Manager\"]"
   ]
  },
  {
   "cell_type": "code",
   "execution_count": 51,
   "metadata": {},
   "outputs": [
    {
     "name": "stdout",
     "output_type": "stream",
     "text": [
      "Employee Name : Bqtkykvo\n",
      "Employee Number : e-5309\n",
      "Employee Salary : 21312.2\n",
      "Employee City : Pune\n",
      "Employee Mobile Number : 7975300559\n",
      "Employee Designation : Team Lead\n"
     ]
    }
   ],
   "source": [
    "from random import *\n",
    "alphabets = \"abcdefghijklmnopqrstuvwxyz\"\n",
    "digits =\"0123456789\"\n",
    "cities = [\"Hyderabad\",\"Chennai\",\"Bangalore\",\"Pune\",\"Delhi\",\"Mumbai\"]\n",
    "designations = [\"Software Engineer\",\"Senior Software Engineer\",\"Team Lead\",\"Project lead\",\"Project Manager\"]\n",
    "\n",
    "\n",
    "def get_fake_name():\n",
    "    name = choice(alphabets).upper()\n",
    "    n = randint(2,9)\n",
    "    for i in range(n):\n",
    "        name = name + choice(alphabets)\n",
    "    return name\n",
    "\n",
    "def get_fake_number():\n",
    "    e_no = \"e-\"\n",
    "    for i in range(4):\n",
    "        e_no = e_no + choice(digits)\n",
    "    return e_no\n",
    "\n",
    "def get_fake_salary():\n",
    "    e_salary = uniform(10000, 50000)\n",
    "    return e_salary\n",
    "\n",
    "def get_fake_city():\n",
    "    e_city = choice(cities)\n",
    "    return e_city\n",
    "\n",
    "def get_fake_mobile():\n",
    "    e_mobile_no = choice(\"6789\")\n",
    "    for i in range(9):\n",
    "        e_mobile_no =e_mobile_no + choice(digits)\n",
    "    return e_mobile_no\n",
    "\n",
    "def get_fake_designation():\n",
    "    e_designation = choice(designations)\n",
    "    return e_designation\n",
    "\n",
    "\n",
    "def get_fake_emp_data():\n",
    "    print(\"Employee Name :\", get_fake_name())\n",
    "    print(\"Employee Number :\", get_fake_number())\n",
    "    print(\"Employee Salary :\", round(get_fake_salary(),2))\n",
    "    print(\"Employee City :\", get_fake_city())\n",
    "    print(\"Employee Mobile Number :\", get_fake_mobile())\n",
    "    print(\"Employee Designation :\", get_fake_designation())\n",
    "\n",
    "\n",
    "get_fake_emp_data()"
   ]
  },
  {
   "cell_type": "code",
   "execution_count": 52,
   "metadata": {},
   "outputs": [
    {
     "name": "stdout",
     "output_type": "stream",
     "text": [
      "Employee Name : Wipsyd\n",
      "Employee Number : e-2295\n",
      "Employee Salary : 48936.49\n",
      "Employee City : Bangalore\n",
      "Employee Mobile Number : 7805919074\n",
      "Employee Designation : Project lead\n"
     ]
    }
   ],
   "source": [
    "get_fake_emp_data()"
   ]
  },
  {
   "cell_type": "code",
   "execution_count": 53,
   "metadata": {},
   "outputs": [
    {
     "name": "stdout",
     "output_type": "stream",
     "text": [
      "Employee Name : Fjcftnmjuo\n",
      "Employee Number : e-4476\n",
      "Employee Salary : 37087.42\n",
      "Employee City : Mumbai\n",
      "Employee Mobile Number : 7568271162\n",
      "Employee Designation : Project lead\n"
     ]
    }
   ],
   "source": [
    "get_fake_emp_data()"
   ]
  },
  {
   "cell_type": "code",
   "execution_count": 54,
   "metadata": {},
   "outputs": [
    {
     "name": "stdout",
     "output_type": "stream",
     "text": [
      "Employee Name : Odhegxrhm\n",
      "Employee Number : e-9191\n",
      "Employee Salary : 11323.5\n",
      "Employee City : Mumbai\n",
      "Employee Mobile Number : 7051289449\n",
      "Employee Designation : Project Manager\n"
     ]
    }
   ],
   "source": [
    "get_fake_emp_data()"
   ]
  },
  {
   "cell_type": "code",
   "execution_count": 55,
   "metadata": {},
   "outputs": [
    {
     "name": "stdout",
     "output_type": "stream",
     "text": [
      "Employee Name : Gjx\n",
      "Employee Number : e-0788\n",
      "Employee Salary : 24732.06\n",
      "Employee City : Pune\n",
      "Employee Mobile Number : 8065845244\n",
      "Employee Designation : Project Manager\n",
      "\n",
      "Employee Name : Mjlixa\n",
      "Employee Number : e-0222\n",
      "Employee Salary : 33381.46\n",
      "Employee City : Chennai\n",
      "Employee Mobile Number : 9465959146\n",
      "Employee Designation : Project Manager\n",
      "\n",
      "Employee Name : Ytopszs\n",
      "Employee Number : e-9591\n",
      "Employee Salary : 24562.56\n",
      "Employee City : Delhi\n",
      "Employee Mobile Number : 9565704074\n",
      "Employee Designation : Senior Software Engineer\n",
      "\n",
      "Employee Name : Sykpxyzb\n",
      "Employee Number : e-3477\n",
      "Employee Salary : 29280.96\n",
      "Employee City : Chennai\n",
      "Employee Mobile Number : 6658655168\n",
      "Employee Designation : Senior Software Engineer\n"
     ]
    }
   ],
   "source": [
    "get_fake_emp_data()\n",
    "print()\n",
    "get_fake_emp_data()\n",
    "print()\n",
    "get_fake_emp_data()\n",
    "print()\n",
    "get_fake_emp_data()"
   ]
  },
  {
   "cell_type": "code",
   "execution_count": null,
   "metadata": {},
   "outputs": [],
   "source": []
  }
 ],
 "metadata": {
  "kernelspec": {
   "display_name": "Python 3",
   "language": "python",
   "name": "python3"
  },
  "language_info": {
   "codemirror_mode": {
    "name": "ipython",
    "version": 3
   },
   "file_extension": ".py",
   "mimetype": "text/x-python",
   "name": "python",
   "nbconvert_exporter": "python",
   "pygments_lexer": "ipython3",
   "version": "3.10.0"
  }
 },
 "nbformat": 4,
 "nbformat_minor": 2
}
