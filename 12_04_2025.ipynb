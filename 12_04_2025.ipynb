{
 "cells": [
  {
   "cell_type": "markdown",
   "metadata": {},
   "source": [
    "### FAQ's\n",
    "\n",
    "1. What is abstract method?\n",
    "- The method which has only declaration but not implementation (i.e., empty implementation)\n",
    "\n",
    "2. How to declare abstract method?\n",
    "- by using @abstractmethod decorator.\n",
    "\n",
    "3. What is abstract class?\n",
    "- Partially implemented class is nothing but abstract class.\n",
    "\n",
    "4. How to declare abstract class in python?\n",
    "- The class should be child class of ABC\n",
    "\n",
    "5. Who is responsible to provide implementation for abstract methods?\n",
    "- Child classes are responsible to provide implementation for parent class abstract methods.\n",
    "\n",
    "6. What is the advantage of declaring abstract method in parent class?\n",
    "- By declaring abstract methods in Parent class we can provide guidelines to the child classes, such that which methods compulsory they should implement."
   ]
  },
  {
   "cell_type": "markdown",
   "metadata": {},
   "source": [
    "### The most important conclusion:-\n",
    "1. If a class contains at least one abstract method and if we are extending ABC class then instantiation is not possible. \"For Abstract class with abstract methods, instantiation is not possible.\""
   ]
  },
  {
   "cell_type": "code",
   "execution_count": 1,
   "metadata": {},
   "outputs": [],
   "source": [
    "class Test:\n",
    "    pass\n",
    "t= Test()\n"
   ]
  },
  {
   "cell_type": "code",
   "execution_count": 2,
   "metadata": {},
   "outputs": [],
   "source": [
    "from abc import *\n",
    "class Test(ABC):\n",
    "    pass\n",
    "t=Test()"
   ]
  },
  {
   "cell_type": "code",
   "execution_count": 3,
   "metadata": {},
   "outputs": [
    {
     "ename": "TypeError",
     "evalue": "Can't instantiate abstract class Test with abstract method m1",
     "output_type": "error",
     "traceback": [
      "\u001b[1;31m---------------------------------------------------------------------------\u001b[0m",
      "\u001b[1;31mTypeError\u001b[0m                                 Traceback (most recent call last)",
      "Cell \u001b[1;32mIn[3], line 6\u001b[0m\n\u001b[0;32m      3\u001b[0m     \u001b[38;5;129m@abstractmethod\u001b[39m\n\u001b[0;32m      4\u001b[0m     \u001b[38;5;28;01mdef\u001b[39;00m \u001b[38;5;21mm1\u001b[39m(\u001b[38;5;28mself\u001b[39m):\n\u001b[0;32m      5\u001b[0m         \u001b[38;5;28;01mpass\u001b[39;00m\n\u001b[1;32m----> 6\u001b[0m t\u001b[38;5;241m=\u001b[39m \u001b[43mTest\u001b[49m\u001b[43m(\u001b[49m\u001b[43m)\u001b[49m\n",
      "\u001b[1;31mTypeError\u001b[0m: Can't instantiate abstract class Test with abstract method m1"
     ]
    }
   ],
   "source": [
    "from abc import *\n",
    "class Test(ABC):\n",
    "    @abstractmethod\n",
    "    def m1(self):\n",
    "        pass\n",
    "t= Test()"
   ]
  },
  {
   "cell_type": "code",
   "execution_count": 4,
   "metadata": {},
   "outputs": [],
   "source": [
    "from abc import *\n",
    "class Test:\n",
    "    @abstractmethod\n",
    "    def m1(self):\n",
    "        pass\n",
    "\n",
    "t = Test()"
   ]
  },
  {
   "cell_type": "markdown",
   "metadata": {},
   "source": [
    "-----"
   ]
  },
  {
   "cell_type": "markdown",
   "metadata": {},
   "source": [
    "2. If we are creating child class for abstract class, then for every abstract method of parent class compulsory we should provide implementation in the child class, otherwise child class is also abstract and we cannot create an object for the child class"
   ]
  },
  {
   "cell_type": "code",
   "execution_count": 5,
   "metadata": {},
   "outputs": [
    {
     "ename": "TypeError",
     "evalue": "Can't instantiate abstract class SubTest with abstract method m1",
     "output_type": "error",
     "traceback": [
      "\u001b[1;31m---------------------------------------------------------------------------\u001b[0m",
      "\u001b[1;31mTypeError\u001b[0m                                 Traceback (most recent call last)",
      "Cell \u001b[1;32mIn[5], line 7\u001b[0m\n\u001b[0;32m      5\u001b[0m         \u001b[38;5;28;01mpass\u001b[39;00m\n\u001b[0;32m      6\u001b[0m \u001b[38;5;28;01mclass\u001b[39;00m \u001b[38;5;21;01mSubTest\u001b[39;00m(Test):\u001b[38;5;28;01mpass\u001b[39;00m\n\u001b[1;32m----> 7\u001b[0m s\u001b[38;5;241m=\u001b[39m \u001b[43mSubTest\u001b[49m\u001b[43m(\u001b[49m\u001b[43m)\u001b[49m\n",
      "\u001b[1;31mTypeError\u001b[0m: Can't instantiate abstract class SubTest with abstract method m1"
     ]
    }
   ],
   "source": [
    "from abc import *\n",
    "class Test(ABC):\n",
    "    @abstractmethod\n",
    "    def m1(self):\n",
    "        pass\n",
    "class SubTest(Test):pass\n",
    "s= SubTest()"
   ]
  },
  {
   "cell_type": "code",
   "execution_count": 6,
   "metadata": {},
   "outputs": [
    {
     "ename": "TypeError",
     "evalue": "Can't instantiate abstract class SubTest with abstract method m2",
     "output_type": "error",
     "traceback": [
      "\u001b[1;31m---------------------------------------------------------------------------\u001b[0m",
      "\u001b[1;31mTypeError\u001b[0m                                 Traceback (most recent call last)",
      "Cell \u001b[1;32mIn[6], line 14\u001b[0m\n\u001b[0;32m     12\u001b[0m     \u001b[38;5;28;01mdef\u001b[39;00m \u001b[38;5;21mm1\u001b[39m(\u001b[38;5;28mself\u001b[39m):\n\u001b[0;32m     13\u001b[0m         \u001b[38;5;28mprint\u001b[39m(\u001b[38;5;124m\"\u001b[39m\u001b[38;5;124mM1 method\u001b[39m\u001b[38;5;124m\"\u001b[39m)\n\u001b[1;32m---> 14\u001b[0m s\u001b[38;5;241m=\u001b[39m \u001b[43mSubTest\u001b[49m\u001b[43m(\u001b[49m\u001b[43m)\u001b[49m\n\u001b[0;32m     15\u001b[0m s\u001b[38;5;241m.\u001b[39mm1()\n",
      "\u001b[1;31mTypeError\u001b[0m: Can't instantiate abstract class SubTest with abstract method m2"
     ]
    }
   ],
   "source": [
    "from abc import *\n",
    "class Test(ABC):\n",
    "    @abstractmethod\n",
    "    def m1(self):\n",
    "        pass\n",
    "\n",
    "    @abstractmethod\n",
    "    def m2(self):\n",
    "        pass\n",
    "\n",
    "class SubTest(Test):\n",
    "    def m1(self):\n",
    "        print(\"M1 method\")\n",
    "s= SubTest()\n",
    "s.m1()"
   ]
  },
  {
   "cell_type": "code",
   "execution_count": 7,
   "metadata": {},
   "outputs": [
    {
     "name": "stdout",
     "output_type": "stream",
     "text": [
      "M1 method\n",
      "M2 method\n"
     ]
    }
   ],
   "source": [
    "from abc import *\n",
    "class Test(ABC):\n",
    "    @abstractmethod\n",
    "    def m1(self):\n",
    "        pass\n",
    "\n",
    "    @abstractmethod\n",
    "    def m2(self):\n",
    "        pass\n",
    "\n",
    "class SubTest(Test):\n",
    "    def m1(self):\n",
    "        print(\"M1 method\")\n",
    "    \n",
    "    def m2(self):\n",
    "        print(\"M2 method\")\n",
    "s= SubTest()\n",
    "s.m1()\n",
    "s.m2()"
   ]
  },
  {
   "cell_type": "code",
   "execution_count": 8,
   "metadata": {},
   "outputs": [
    {
     "name": "stdout",
     "output_type": "stream",
     "text": [
      "Non-Abstract method\n",
      "M2 method\n"
     ]
    }
   ],
   "source": [
    "from abc import *\n",
    "class Test(ABC):\n",
    "\n",
    "    def m1(self):\n",
    "        print(\"Non-Abstract method\")\n",
    "\n",
    "    @abstractmethod\n",
    "    def m2(self):\n",
    "        pass\n",
    "\n",
    "class SubTest(Test):\n",
    "\n",
    "    \n",
    "    def m2(self):\n",
    "        print(\"M2 method\")\n",
    "s= SubTest()\n",
    "s.m1()\n",
    "s.m2()"
   ]
  },
  {
   "cell_type": "markdown",
   "metadata": {},
   "source": [
    "- Q. Is a class can contain both abstract and non-abstract methods?\n",
    "- Yes.\n",
    "    - Note :-\n",
    "    - If a class contains both abstract and non-abstract methods then child class is responsible to provide implementation only for abstract methods."
   ]
  },
  {
   "cell_type": "markdown",
   "metadata": {},
   "source": [
    "### Interfaces in python.\n",
    "- An abstract class can contains both abstract and non-abstract methods.\n",
    "- If an abstract class contains only abstract methods, such type of abstract class is nothing but interface.\n",
    "- 100% pure abstract class is nothing but interface.\n",
    "- Interface simply acts as Service Requirement Specifications(SRS)"
   ]
  },
  {
   "cell_type": "markdown",
   "metadata": {},
   "source": [
    "### Interface vs Abstract class Vs Concrete class.\n",
    "\n",
    "1. If we don't know anything about implementation and just we have requirement specificationthen we should go for __interface__ \n",
    "> SRS - Service Requirement Specification\n",
    "\n",
    "2. If we are talking about implementation but not completely then we should go for __abstract class__\n",
    "> Partially Implemented class\n",
    "\n",
    "3. If we are talking about implementation completely and ready to provide service then we should go for __concrete class__\n",
    "> Fully implemented class\n",
    "\n"
   ]
  },
  {
   "cell_type": "markdown",
   "metadata": {},
   "source": [
    "### Public Members :-\n",
    "1. If a member(either method or variable) is public, then we can access that member from anywhere either within the class or from outside of the class.\n",
    "2. By default every member present in python class is public. Hence we can access from anywhere either within the class or from outside of the class."
   ]
  },
  {
   "cell_type": "code",
   "execution_count": 9,
   "metadata": {},
   "outputs": [
    {
     "name": "stdout",
     "output_type": "stream",
     "text": [
      "10\n",
      "Public Method\n",
      "10\n",
      "Public Method\n"
     ]
    }
   ],
   "source": [
    "class Test:\n",
    "    def __init__(self):\n",
    "        self.x = 10\n",
    "\n",
    "    def m1(self):\n",
    "        print(\"Public Method\")\n",
    "    \n",
    "    def m2(self):\n",
    "        print(self.x)\n",
    "        self.m1()\n",
    "\n",
    "t= Test()\n",
    "t.m2()\n",
    "print(t.x)\n",
    "t.m1()"
   ]
  },
  {
   "cell_type": "markdown",
   "metadata": {},
   "source": [
    "### Private Members :-\n",
    "> x =10 ==> public\n",
    "\n",
    "> __x = 10 ==> private\n",
    "1. If a member is private then we can access that memeber only within the class and from outside of the class we cannot acess.\n",
    "2. We can declare a member as private explicitly by prefixing with two underscore symbols."
   ]
  },
  {
   "cell_type": "code",
   "execution_count": null,
   "metadata": {},
   "outputs": [
    {
     "name": "stdout",
     "output_type": "stream",
     "text": [
      "10\n",
      "Private Method\n"
     ]
    }
   ],
   "source": [
    "class Test:\n",
    "    def __init__(self):\n",
    "        self.__x = 10\n",
    "    def __m1(self):\n",
    "        print(\"Private Method\")\n",
    "    def m2(self):\n",
    "        print(self.__x)\n",
    "        self.__m1()\n",
    "\n",
    "t = Test()\n",
    "t.m2()\n"
   ]
  },
  {
   "cell_type": "code",
   "execution_count": 11,
   "metadata": {},
   "outputs": [
    {
     "ename": "AttributeError",
     "evalue": "'Test' object has no attribute '__x'",
     "output_type": "error",
     "traceback": [
      "\u001b[1;31m---------------------------------------------------------------------------\u001b[0m",
      "\u001b[1;31mAttributeError\u001b[0m                            Traceback (most recent call last)",
      "Cell \u001b[1;32mIn[11], line 1\u001b[0m\n\u001b[1;32m----> 1\u001b[0m \u001b[38;5;28mprint\u001b[39m(\u001b[43mt\u001b[49m\u001b[38;5;241;43m.\u001b[39;49m\u001b[43m__x\u001b[49m)\n",
      "\u001b[1;31mAttributeError\u001b[0m: 'Test' object has no attribute '__x'"
     ]
    }
   ],
   "source": [
    "print(t.__x)"
   ]
  },
  {
   "cell_type": "markdown",
   "metadata": {},
   "source": [
    "#### Name managing and Accessing Private members from outside of the class.\n",
    "1. We cannot access private members directly from outside of the class. But we can access indirectly as follows.\n",
    "2. Name managing will be happened for the private variables. Hence every private variable name will be changed to new name.\n",
    "> __variableName ==> _className__variableName\n",
    "3. Hence we can access private variable from outside of the class as follows:\n",
    "> print(objectreference._classname__variableName)"
   ]
  },
  {
   "cell_type": "markdown",
   "metadata": {},
   "source": [
    "### Protected Members :-\n",
    "> x = 10 ===> public\n",
    "\n",
    "> __x = 10 ==> Private\n",
    "\n",
    "> _x = 10 ==> Protected\n",
    "\n",
    "1. Protected members we can access within the class from anywhere but from outside of the class, we can access only in child classes.\n",
    "2. We can declare members as protected expicitly by prefixing with one underscore symbol.\n",
    "3. But it is just naming convention and it is not implemeted in python, may be for the future versions purpose."
   ]
  },
  {
   "cell_type": "code",
   "execution_count": 12,
   "metadata": {},
   "outputs": [
    {
     "name": "stdout",
     "output_type": "stream",
     "text": [
      "10\n",
      "10\n",
      "10\n"
     ]
    }
   ],
   "source": [
    "class Test:\n",
    "    def __init__(self):\n",
    "        self._x =10\n",
    "    def m1(self):\n",
    "        print(self._x)\n",
    "\n",
    "class SubTest(Test):\n",
    "    def m2(self):\n",
    "        print(self._x)\n",
    "\n",
    "t = SubTest()\n",
    "t.m1()\n",
    "t.m2()\n",
    "print(t._x)"
   ]
  },
  {
   "cell_type": "code",
   "execution_count": null,
   "metadata": {},
   "outputs": [],
   "source": []
  }
 ],
 "metadata": {
  "kernelspec": {
   "display_name": "Python 3",
   "language": "python",
   "name": "python3"
  },
  "language_info": {
   "codemirror_mode": {
    "name": "ipython",
    "version": 3
   },
   "file_extension": ".py",
   "mimetype": "text/x-python",
   "name": "python",
   "nbconvert_exporter": "python",
   "pygments_lexer": "ipython3",
   "version": "3.10.0"
  }
 },
 "nbformat": 4,
 "nbformat_minor": 2
}
