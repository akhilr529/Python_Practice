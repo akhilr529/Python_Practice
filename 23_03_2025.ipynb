{
 "cells": [
  {
   "cell_type": "markdown",
   "metadata": {},
   "source": [
    "#### Return statement"
   ]
  },
  {
   "cell_type": "code",
   "execution_count": 2,
   "metadata": {},
   "outputs": [
    {
     "name": "stdout",
     "output_type": "stream",
     "text": [
      "30\n"
     ]
    }
   ],
   "source": [
    "#Write a function to accept 2 numbers as input and return sum?\n",
    "def add(a,b):\n",
    "    return a+b\n",
    "result = add(10,20)\n",
    "print(result)"
   ]
  },
  {
   "cell_type": "code",
   "execution_count": 3,
   "metadata": {},
   "outputs": [
    {
     "name": "stdout",
     "output_type": "stream",
     "text": [
      "hello\n",
      "None\n"
     ]
    }
   ],
   "source": [
    "def f1():\n",
    "    print(\"hello\")\n",
    "x=f1()\n",
    "print(x)"
   ]
  },
  {
   "cell_type": "code",
   "execution_count": 5,
   "metadata": {},
   "outputs": [
    {
     "name": "stdout",
     "output_type": "stream",
     "text": [
      "The factorial of 3 is 6\n"
     ]
    }
   ],
   "source": [
    "#Write a function to find factorial of given positive int value?\n",
    "def factorial(num):\n",
    "    result = 1\n",
    "    while num>=1:\n",
    "        result = result * num\n",
    "        num= num -1\n",
    "    return result\n",
    "print(\"The factorial of 3 is\", factorial(3))"
   ]
  },
  {
   "cell_type": "code",
   "execution_count": 6,
   "metadata": {},
   "outputs": [
    {
     "name": "stdout",
     "output_type": "stream",
     "text": [
      "The factorial of 1 is 1\n",
      "The factorial of 2 is 2\n",
      "The factorial of 3 is 6\n",
      "The factorial of 4 is 24\n",
      "The factorial of 5 is 120\n"
     ]
    }
   ],
   "source": [
    "for i in range(1,6):\n",
    "    print(\"The factorial of\", i, \"is\", factorial(i))"
   ]
  },
  {
   "cell_type": "markdown",
   "metadata": {},
   "source": [
    "#### Returning multiple values from a function"
   ]
  },
  {
   "cell_type": "code",
   "execution_count": 7,
   "metadata": {},
   "outputs": [
    {
     "name": "stdout",
     "output_type": "stream",
     "text": [
      "sum = 30 sub = 10\n"
     ]
    }
   ],
   "source": [
    "def sum_sub(a,b):\n",
    "    sum= a+b\n",
    "    sub = a-b\n",
    "    return sum, sub\n",
    "x,y = sum_sub(20,10)\n",
    "print(\"sum =\", x, \"sub =\",y)"
   ]
  },
  {
   "cell_type": "code",
   "execution_count": 8,
   "metadata": {},
   "outputs": [
    {
     "name": "stdout",
     "output_type": "stream",
     "text": [
      "<class 'tuple'>\n",
      "(30, 10, 200, 2.0)\n"
     ]
    }
   ],
   "source": [
    "def calc(a,b):\n",
    "    sum=a+b\n",
    "    sub=a-b\n",
    "    mul=a*b\n",
    "    div=a/b\n",
    "    return sum, sub, mul, div\n",
    "t = calc(20,10)\n",
    "print(type(t))\n",
    "print(t)"
   ]
  },
  {
   "cell_type": "markdown",
   "metadata": {},
   "source": [
    "#### Types of arguments \n",
    "1. positional arguments\n",
    "2. keyword arguments\n",
    "3. default arguments\n",
    "4. variable length arguments"
   ]
  },
  {
   "cell_type": "code",
   "execution_count": 9,
   "metadata": {},
   "outputs": [
    {
     "name": "stdout",
     "output_type": "stream",
     "text": [
      "10 20\n"
     ]
    }
   ],
   "source": [
    "def f1(a,b):# formaal parameters\n",
    "    print(a,b)\n",
    "f1(10,20) # actual parameters"
   ]
  },
  {
   "cell_type": "markdown",
   "metadata": {},
   "source": [
    "#### 1. Positional arguments\n",
    "- Order is important\n"
   ]
  },
  {
   "cell_type": "code",
   "execution_count": 10,
   "metadata": {},
   "outputs": [
    {
     "name": "stdout",
     "output_type": "stream",
     "text": [
      "100\n",
      "-100\n"
     ]
    },
    {
     "ename": "TypeError",
     "evalue": "sub() missing 1 required positional argument: 'b'",
     "output_type": "error",
     "traceback": [
      "\u001b[1;31m---------------------------------------------------------------------------\u001b[0m",
      "\u001b[1;31mTypeError\u001b[0m                                 Traceback (most recent call last)",
      "Cell \u001b[1;32mIn[10], line 5\u001b[0m\n\u001b[0;32m      3\u001b[0m sub(\u001b[38;5;241m200\u001b[39m,\u001b[38;5;241m100\u001b[39m)\n\u001b[0;32m      4\u001b[0m sub(\u001b[38;5;241m100\u001b[39m,\u001b[38;5;241m200\u001b[39m)\n\u001b[1;32m----> 5\u001b[0m \u001b[43msub\u001b[49m\u001b[43m(\u001b[49m\u001b[38;5;241;43m100\u001b[39;49m\u001b[43m)\u001b[49m\n",
      "\u001b[1;31mTypeError\u001b[0m: sub() missing 1 required positional argument: 'b'"
     ]
    }
   ],
   "source": [
    "def sub(a,b):\n",
    "    print(a-b)\n",
    "sub(200,100)\n",
    "sub(100,200)\n",
    "sub(100)"
   ]
  },
  {
   "cell_type": "markdown",
   "metadata": {},
   "source": [
    "#### 2. Keyword arguments\n",
    "- We can use both positional arguments and keyword arguments simultaneously\n",
    "- But, first we have to take positional arguments and then keyword arguments,\n",
    "- i.e., After keyword arguments we cannot take positional arguments"
   ]
  },
  {
   "cell_type": "code",
   "execution_count": 11,
   "metadata": {},
   "outputs": [
    {
     "name": "stdout",
     "output_type": "stream",
     "text": [
      "100\n",
      "100\n",
      "100\n"
     ]
    }
   ],
   "source": [
    "def sub(a,b):\n",
    "    print(a-b)\n",
    "sub(200,100)\n",
    "sub(a=200, b=100)\n",
    "sub(b=100, a=200)"
   ]
  },
  {
   "cell_type": "code",
   "execution_count": 12,
   "metadata": {},
   "outputs": [
    {
     "ename": "SyntaxError",
     "evalue": "positional argument follows keyword argument (1251675691.py, line 1)",
     "output_type": "error",
     "traceback": [
      "\u001b[1;36m  Cell \u001b[1;32mIn[12], line 1\u001b[1;36m\u001b[0m\n\u001b[1;33m    sub(a=200,100)\u001b[0m\n\u001b[1;37m                 ^\u001b[0m\n\u001b[1;31mSyntaxError\u001b[0m\u001b[1;31m:\u001b[0m positional argument follows keyword argument\n"
     ]
    }
   ],
   "source": [
    "sub(a=200,100)"
   ]
  },
  {
   "cell_type": "code",
   "execution_count": 13,
   "metadata": {},
   "outputs": [
    {
     "name": "stdout",
     "output_type": "stream",
     "text": [
      "100\n"
     ]
    }
   ],
   "source": [
    "sub(200,b=100)"
   ]
  },
  {
   "cell_type": "markdown",
   "metadata": {},
   "source": [
    "#### 3. Default arguments\n",
    "- If we are not passing any name then only default value will be considered.\n",
    "- After default arguments, we should not take non-default arguments."
   ]
  },
  {
   "cell_type": "code",
   "execution_count": 14,
   "metadata": {},
   "outputs": [
    {
     "name": "stdout",
     "output_type": "stream",
     "text": [
      "Hello Akhil Good morning!\n"
     ]
    }
   ],
   "source": [
    "def wish(name):\n",
    "    print(\"Hello\", name,\"Good morning!\")\n",
    "wish(\"Akhil\")"
   ]
  },
  {
   "cell_type": "code",
   "execution_count": 15,
   "metadata": {},
   "outputs": [
    {
     "ename": "TypeError",
     "evalue": "wish() missing 1 required positional argument: 'name'",
     "output_type": "error",
     "traceback": [
      "\u001b[1;31m---------------------------------------------------------------------------\u001b[0m",
      "\u001b[1;31mTypeError\u001b[0m                                 Traceback (most recent call last)",
      "Cell \u001b[1;32mIn[15], line 1\u001b[0m\n\u001b[1;32m----> 1\u001b[0m \u001b[43mwish\u001b[49m\u001b[43m(\u001b[49m\u001b[43m)\u001b[49m\n",
      "\u001b[1;31mTypeError\u001b[0m: wish() missing 1 required positional argument: 'name'"
     ]
    }
   ],
   "source": [
    "wish()"
   ]
  },
  {
   "cell_type": "code",
   "execution_count": 16,
   "metadata": {},
   "outputs": [
    {
     "name": "stdout",
     "output_type": "stream",
     "text": [
      "Hi Guest Good morning!\n"
     ]
    }
   ],
   "source": [
    "def wish(name=\"Guest\"):\n",
    "    print(\"Hi\", name, \"Good morning!\")\n",
    "wish()"
   ]
  },
  {
   "cell_type": "code",
   "execution_count": 17,
   "metadata": {},
   "outputs": [
    {
     "name": "stdout",
     "output_type": "stream",
     "text": [
      "Hi Sasi Good morning!\n"
     ]
    }
   ],
   "source": [
    "wish(\"Sasi\")"
   ]
  },
  {
   "cell_type": "code",
   "execution_count": 18,
   "metadata": {},
   "outputs": [
    {
     "ename": "SyntaxError",
     "evalue": "non-default argument follows default argument (1230350270.py, line 10)",
     "output_type": "error",
     "traceback": [
      "\u001b[1;36m  Cell \u001b[1;32mIn[18], line 10\u001b[1;36m\u001b[0m\n\u001b[1;33m    def wish(name=\"Akhil\", msg):\u001b[0m\n\u001b[1;37m                           ^\u001b[0m\n\u001b[1;31mSyntaxError\u001b[0m\u001b[1;31m:\u001b[0m non-default argument follows default argument\n"
     ]
    }
   ],
   "source": [
    "#==================✔️\n",
    "def wish(name,msg):\n",
    "    pass\n",
    "def wish(name=\"Akhil\", msg= \"Good morning\"):\n",
    "    pass\n",
    "def wish(name, msg=\"Good morning\"):\n",
    "    pass\n",
    "#======================\n",
    "#======================❌\n",
    "def wish(name=\"Akhil\", msg):\n",
    "    pass"
   ]
  },
  {
   "cell_type": "markdown",
   "metadata": {},
   "source": [
    "#### 4. Variable length arguments\n",
    "- After variable length arguments if we are taking any normal arguments then we have to provide values by using keywords for that normal argument\n",
    "- More than one variable length arguments are not allowed"
   ]
  },
  {
   "cell_type": "code",
   "execution_count": 19,
   "metadata": {},
   "outputs": [
    {
     "name": "stdout",
     "output_type": "stream",
     "text": [
      "Variable length arguemnt function\n",
      "Variable length arguemnt function\n",
      "Variable length arguemnt function\n"
     ]
    }
   ],
   "source": [
    "def f1(*n):\n",
    "    print(\"Variable length arguemnt function\")\n",
    "f1()\n",
    "f1(10)\n",
    "f1(10,20)"
   ]
  },
  {
   "cell_type": "code",
   "execution_count": 20,
   "metadata": {},
   "outputs": [
    {
     "name": "stdout",
     "output_type": "stream",
     "text": [
      "The sum: 30\n",
      "The sum: 0\n",
      "The sum: 10\n"
     ]
    }
   ],
   "source": [
    "def sum(*n):\n",
    "    total =0\n",
    "    for i in n:\n",
    "        total =total+i\n",
    "    print(\"The sum:\", total)\n",
    "sum(10,20)\n",
    "sum()\n",
    "sum(1,2,3,4)"
   ]
  },
  {
   "cell_type": "code",
   "execution_count": 21,
   "metadata": {},
   "outputs": [
    {
     "name": "stdout",
     "output_type": "stream",
     "text": [
      "(10, 20)\n",
      "()\n",
      "(10,)\n",
      "((10, 20), (30, 40))\n"
     ]
    }
   ],
   "source": [
    "def f1(*n):\n",
    "    print(n)\n",
    "f1(10,20)\n",
    "f1()\n",
    "f1(10)\n",
    "f1((10,20),(30,40))"
   ]
  },
  {
   "cell_type": "code",
   "execution_count": 23,
   "metadata": {},
   "outputs": [
    {
     "name": "stdout",
     "output_type": "stream",
     "text": [
      "x= 10\n",
      "20\n",
      "30\n",
      "40\n"
     ]
    }
   ],
   "source": [
    "def f1(x,*y):\n",
    "    print(\"x=\",x)\n",
    "    for y1 in y:\n",
    "        print(y1)\n",
    "f1(10,20,30,40)"
   ]
  },
  {
   "cell_type": "code",
   "execution_count": 24,
   "metadata": {},
   "outputs": [
    {
     "name": "stdout",
     "output_type": "stream",
     "text": [
      "x= 10\n"
     ]
    }
   ],
   "source": [
    "f1(10)"
   ]
  },
  {
   "cell_type": "code",
   "execution_count": 25,
   "metadata": {},
   "outputs": [
    {
     "ename": "TypeError",
     "evalue": "f1() missing 1 required positional argument: 'x'",
     "output_type": "error",
     "traceback": [
      "\u001b[1;31m---------------------------------------------------------------------------\u001b[0m",
      "\u001b[1;31mTypeError\u001b[0m                                 Traceback (most recent call last)",
      "Cell \u001b[1;32mIn[25], line 1\u001b[0m\n\u001b[1;32m----> 1\u001b[0m \u001b[43mf1\u001b[49m\u001b[43m(\u001b[49m\u001b[43m)\u001b[49m\n",
      "\u001b[1;31mTypeError\u001b[0m: f1() missing 1 required positional argument: 'x'"
     ]
    }
   ],
   "source": [
    "f1()"
   ]
  },
  {
   "cell_type": "code",
   "execution_count": 26,
   "metadata": {},
   "outputs": [
    {
     "ename": "TypeError",
     "evalue": "f1() missing 1 required keyword-only argument: 'y'",
     "output_type": "error",
     "traceback": [
      "\u001b[1;31m---------------------------------------------------------------------------\u001b[0m",
      "\u001b[1;31mTypeError\u001b[0m                                 Traceback (most recent call last)",
      "Cell \u001b[1;32mIn[26], line 4\u001b[0m\n\u001b[0;32m      2\u001b[0m     \u001b[38;5;28mprint\u001b[39m(\u001b[38;5;124m\"\u001b[39m\u001b[38;5;124mx=\u001b[39m\u001b[38;5;124m\"\u001b[39m,x)\n\u001b[0;32m      3\u001b[0m     \u001b[38;5;28mprint\u001b[39m(\u001b[38;5;124m\"\u001b[39m\u001b[38;5;124my=\u001b[39m\u001b[38;5;124m\"\u001b[39m,y)\n\u001b[1;32m----> 4\u001b[0m \u001b[43mf1\u001b[49m\u001b[43m(\u001b[49m\u001b[38;5;241;43m10\u001b[39;49m\u001b[43m,\u001b[49m\u001b[38;5;241;43m20\u001b[39;49m\u001b[43m,\u001b[49m\u001b[38;5;241;43m30\u001b[39;49m\u001b[43m,\u001b[49m\u001b[38;5;241;43m40\u001b[39;49m\u001b[43m)\u001b[49m\n",
      "\u001b[1;31mTypeError\u001b[0m: f1() missing 1 required keyword-only argument: 'y'"
     ]
    }
   ],
   "source": [
    "def f1(*x, y):\n",
    "    print(\"x=\",x)\n",
    "    print(\"y=\",y)\n",
    "f1(10,20,30,40)"
   ]
  },
  {
   "cell_type": "code",
   "execution_count": 27,
   "metadata": {},
   "outputs": [
    {
     "name": "stdout",
     "output_type": "stream",
     "text": [
      "x= (10, 20, 30)\n",
      "y= 60\n"
     ]
    }
   ],
   "source": [
    "f1(10,20,30,y=60)"
   ]
  },
  {
   "cell_type": "code",
   "execution_count": 28,
   "metadata": {},
   "outputs": [
    {
     "ename": "SyntaxError",
     "evalue": "invalid syntax (3489987988.py, line 1)",
     "output_type": "error",
     "traceback": [
      "\u001b[1;36m  Cell \u001b[1;32mIn[28], line 1\u001b[1;36m\u001b[0m\n\u001b[1;33m    def f1(*x, *y):\u001b[0m\n\u001b[1;37m               ^\u001b[0m\n\u001b[1;31mSyntaxError\u001b[0m\u001b[1;31m:\u001b[0m invalid syntax\n"
     ]
    }
   ],
   "source": [
    "def f1(*x, *y):\n",
    "    print(\"x=\",x)\n",
    "    print(\"y=\",y)\n",
    "f1(10,20,30,40)"
   ]
  },
  {
   "cell_type": "markdown",
   "metadata": {},
   "source": [
    "#### Explain Difference between *args and **kwargs\n",
    "| *args    | **kwargs |\n",
    "| -------- | ------- |\n",
    "| Variable length arguments  | Variable length ley-word arguments    |\n",
    "| f1(*n): ==> Tuple | f1(**n): ==> Dictionary      |"
   ]
  },
  {
   "cell_type": "code",
   "execution_count": 29,
   "metadata": {},
   "outputs": [
    {
     "name": "stdout",
     "output_type": "stream",
     "text": [
      "(10, 20)\n",
      "(10,)\n",
      "()\n"
     ]
    }
   ],
   "source": [
    "def f1(*n):\n",
    "    print(n)\n",
    "f1(10,20)\n",
    "f1(10)\n",
    "f1()"
   ]
  },
  {
   "cell_type": "code",
   "execution_count": 30,
   "metadata": {},
   "outputs": [
    {
     "name": "stdout",
     "output_type": "stream",
     "text": [
      "{}\n",
      "{'name': 'akhil', 'RollNo': 101}\n"
     ]
    }
   ],
   "source": [
    "def f1(**kwargs):\n",
    "    print(kwargs)\n",
    "f1()\n",
    "f1(name=\"akhil\", RollNo=101)"
   ]
  },
  {
   "cell_type": "code",
   "execution_count": 31,
   "metadata": {},
   "outputs": [
    {
     "name": "stdout",
     "output_type": "stream",
     "text": [
      "(10, 20)\n",
      "{'A': 30, 'B': 40}\n"
     ]
    }
   ],
   "source": [
    "def f1(*args, **kwargs):\n",
    "    print(args)\n",
    "    print(kwargs)\n",
    "f1(10,20, A=30,B=40)"
   ]
  },
  {
   "cell_type": "code",
   "execution_count": 32,
   "metadata": {},
   "outputs": [
    {
     "ename": "SyntaxError",
     "evalue": "invalid syntax (1754660975.py, line 1)",
     "output_type": "error",
     "traceback": [
      "\u001b[1;36m  Cell \u001b[1;32mIn[32], line 1\u001b[1;36m\u001b[0m\n\u001b[1;33m    def f1(**kwargs, *args):\u001b[0m\n\u001b[1;37m                     ^\u001b[0m\n\u001b[1;31mSyntaxError\u001b[0m\u001b[1;31m:\u001b[0m invalid syntax\n"
     ]
    }
   ],
   "source": [
    "def f1(**kwargs, *args):\n",
    "    print(kwargs)\n",
    "    print(args)\n",
    "f1(A=10,B=20, 30,40)"
   ]
  },
  {
   "cell_type": "code",
   "execution_count": 33,
   "metadata": {},
   "outputs": [
    {
     "name": "stdout",
     "output_type": "stream",
     "text": [
      "(10, 20, 30)\n",
      "29\n"
     ]
    }
   ],
   "source": [
    "def f1(*y, x=10):\n",
    "    print(y)\n",
    "    print(x)\n",
    "f1(10,20,30,x=29)"
   ]
  },
  {
   "cell_type": "markdown",
   "metadata": {},
   "source": [
    "#### Positional vs Kwyword arguments\n",
    "- We can use both positional arguments and keyword arguments simultaneously.\n",
    "- But first we have to take positional arguments and then keyword arguments, i.e., after keyword arguments we cannot take posiotional arguments.\n",
    "#### Default vs non-default arguments\n",
    "- If we are not passing any value then only default value will be considered.\n",
    "- After default arguments, we should not take non-default arguments, i.e., default arguments should be last arguments\n",
    "#### Variable length vs Normal arguments\n",
    "- After variable length arguments if we are taking any normal argument then we have to provide values by using keyword for that normal arguments. \n",
    "- More than one variable length arguments are not allowed. "
   ]
  },
  {
   "cell_type": "markdown",
   "metadata": {},
   "source": [
    "### Types of variables\n",
    "1. Global Variables\n",
    "2. Local variables"
   ]
  },
  {
   "cell_type": "code",
   "execution_count": 34,
   "metadata": {},
   "outputs": [
    {
     "name": "stdout",
     "output_type": "stream",
     "text": [
      "10\n",
      "10\n"
     ]
    }
   ],
   "source": [
    "#Global Variable\n",
    "a=10\n",
    "def f1():\n",
    "    print(a)\n",
    "def f2():\n",
    "    print(a)\n",
    "f1()\n",
    "f2()"
   ]
  },
  {
   "cell_type": "code",
   "execution_count": 37,
   "metadata": {},
   "outputs": [
    {
     "name": "stdout",
     "output_type": "stream",
     "text": [
      "10\n"
     ]
    },
    {
     "ename": "NameError",
     "evalue": "name 'z' is not defined",
     "output_type": "error",
     "traceback": [
      "\u001b[1;31m---------------------------------------------------------------------------\u001b[0m",
      "\u001b[1;31mNameError\u001b[0m                                 Traceback (most recent call last)",
      "Cell \u001b[1;32mIn[37], line 8\u001b[0m\n\u001b[0;32m      6\u001b[0m     \u001b[38;5;28mprint\u001b[39m(z)\n\u001b[0;32m      7\u001b[0m f1()\n\u001b[1;32m----> 8\u001b[0m \u001b[43mf2\u001b[49m\u001b[43m(\u001b[49m\u001b[43m)\u001b[49m\n",
      "Cell \u001b[1;32mIn[37], line 6\u001b[0m, in \u001b[0;36mf2\u001b[1;34m()\u001b[0m\n\u001b[0;32m      5\u001b[0m \u001b[38;5;28;01mdef\u001b[39;00m \u001b[38;5;21mf2\u001b[39m():\n\u001b[1;32m----> 6\u001b[0m     \u001b[38;5;28mprint\u001b[39m(\u001b[43mz\u001b[49m)\n",
      "\u001b[1;31mNameError\u001b[0m: name 'z' is not defined"
     ]
    }
   ],
   "source": [
    "#Local variables\n",
    "def f1():\n",
    "    z=10\n",
    "    print(z)\n",
    "def f2():\n",
    "    print(z)\n",
    "f1()\n",
    "f2()"
   ]
  },
  {
   "cell_type": "markdown",
   "metadata": {},
   "source": [
    "#### Need of global keyword\n",
    "1. To make global variable available to the function, so that we can program required modification.\n",
    "2. To declare global variable directly inside function explicitly\n",
    "3. Prior to global declaration, we cannot use any variable, i.e., before using global keyword we cannot use that variable, Global declaration first and then we can use the variable."
   ]
  },
  {
   "cell_type": "code",
   "execution_count": 38,
   "metadata": {},
   "outputs": [
    {
     "name": "stdout",
     "output_type": "stream",
     "text": [
      "20\n",
      "10\n"
     ]
    }
   ],
   "source": [
    "a=10\n",
    "def f1():\n",
    "    a=20\n",
    "    print(a)\n",
    "def f2():\n",
    "    print(a)\n",
    "f1()\n",
    "f2()"
   ]
  },
  {
   "cell_type": "code",
   "execution_count": 39,
   "metadata": {},
   "outputs": [
    {
     "name": "stdout",
     "output_type": "stream",
     "text": [
      "20\n",
      "20\n"
     ]
    }
   ],
   "source": [
    "a=10\n",
    "def f1():\n",
    "    global a\n",
    "    a=20\n",
    "    print(a)\n",
    "def f2():\n",
    "    print(a)\n",
    "f1()\n",
    "f2()"
   ]
  },
  {
   "cell_type": "code",
   "execution_count": 40,
   "metadata": {},
   "outputs": [
    {
     "ename": "SyntaxError",
     "evalue": "name 'a' is used prior to global declaration (4035766357.py, line 4)",
     "output_type": "error",
     "traceback": [
      "\u001b[1;36m  Cell \u001b[1;32mIn[40], line 4\u001b[1;36m\u001b[0m\n\u001b[1;33m    global a\u001b[0m\n\u001b[1;37m    ^\u001b[0m\n\u001b[1;31mSyntaxError\u001b[0m\u001b[1;31m:\u001b[0m name 'a' is used prior to global declaration\n"
     ]
    }
   ],
   "source": [
    "a=777\n",
    "def f1():\n",
    "    print(a)\n",
    "    global a\n",
    "    a=999\n",
    "    print(a)\n",
    "f1()"
   ]
  },
  {
   "cell_type": "code",
   "execution_count": 41,
   "metadata": {},
   "outputs": [
    {
     "name": "stdout",
     "output_type": "stream",
     "text": [
      "777\n",
      "888\n"
     ]
    }
   ],
   "source": [
    "a=777\n",
    "def f1():\n",
    "    global a \n",
    "    print(a)\n",
    "    a=888\n",
    "    print(a)\n",
    "f1()"
   ]
  },
  {
   "cell_type": "markdown",
   "metadata": {},
   "source": [
    "### Recursive functions\n",
    "1. Complex problems \n",
    "2. Length of code"
   ]
  },
  {
   "cell_type": "code",
   "execution_count": 42,
   "metadata": {},
   "outputs": [
    {
     "name": "stdout",
     "output_type": "stream",
     "text": [
      "The factorial of 4 is : 24\n"
     ]
    }
   ],
   "source": [
    "#Factorial\n",
    "#without recursion:\n",
    "def factorial(num):\n",
    "    result=1\n",
    "    while num>=1:\n",
    "        result =result *num\n",
    "        num = num-1\n",
    "    return result\n",
    "print(\"The factorial of 4 is :\", factorial(4))\n",
    "\n"
   ]
  },
  {
   "cell_type": "code",
   "execution_count": 57,
   "metadata": {},
   "outputs": [
    {
     "name": "stdout",
     "output_type": "stream",
     "text": [
      "The factorial of 4 is : 24\n"
     ]
    }
   ],
   "source": [
    "#with recursion\n",
    "def factorial(n):\n",
    "    if n==0:\n",
    "        result=1\n",
    "    else:\n",
    "        result = n*factorial(n-1)\n",
    "    return result\n",
    "print(\"The factorial of 4 is :\", factorial(4))\n"
   ]
  },
  {
   "cell_type": "code",
   "execution_count": 58,
   "metadata": {},
   "outputs": [
    {
     "name": "stdout",
     "output_type": "stream",
     "text": [
      "Execution of factorial function for n: 3\n",
      "Execution of factorial function for n: 2\n",
      "Execution of factorial function for n: 1\n",
      "Execution of factorial function for n: 0\n",
      "6\n",
      "4\n"
     ]
    }
   ],
   "source": [
    "count=0\n",
    "def factorial(n):\n",
    "    global count\n",
    "    count = count+1\n",
    "    print(\"Execution of factorial function for n:\", n)\n",
    "    if n==0:\n",
    "        result =1\n",
    "    else:\n",
    "        result = n* factorial(n-1)\n",
    "    return result\n",
    "print(factorial(3))\n",
    "print(count)"
   ]
  },
  {
   "cell_type": "markdown",
   "metadata": {},
   "source": [
    "### Anonymous functions(lambda functions)\n",
    "1. Nameless function\n",
    "2. Instant use(one time usage)"
   ]
  },
  {
   "cell_type": "code",
   "execution_count": 59,
   "metadata": {},
   "outputs": [
    {
     "name": "stdout",
     "output_type": "stream",
     "text": [
      "3\n",
      "300\n"
     ]
    }
   ],
   "source": [
    "#Lambda function to find sum of two numbers\n",
    "s= lambda a,b: a+b\n",
    "print(s(1,2))\n",
    "print(s(100,200))"
   ]
  },
  {
   "cell_type": "code",
   "execution_count": null,
   "metadata": {},
   "outputs": [
    {
     "name": "stdout",
     "output_type": "stream",
     "text": [
      "300\n",
      "600\n"
     ]
    }
   ],
   "source": [
    "#Lambda function to find biggest of given numbers \n",
    "# 2 input values\n",
    "bigger = lambda a,b: a if a>b else b\n",
    "print(bigger(100,300))\n",
    "print(bigger(600,4))"
   ]
  },
  {
   "cell_type": "code",
   "execution_count": 64,
   "metadata": {},
   "outputs": [
    {
     "name": "stdout",
     "output_type": "stream",
     "text": [
      "3\n",
      "35433537\n"
     ]
    }
   ],
   "source": [
    "#3 input values\n",
    "bigger = lambda a,b,c: a if a>b and a>c else b if b>c else c\n",
    "print(bigger(1,2,3))\n",
    "print(bigger(4243454,35433537,28288))"
   ]
  },
  {
   "cell_type": "markdown",
   "metadata": {},
   "source": [
    "##### Function as argument to another function\n",
    "- filter(function, sequence)\n",
    "- map(function, sequence)\n",
    "- reduce(function, sequence)"
   ]
  },
  {
   "cell_type": "markdown",
   "metadata": {},
   "source": [
    "### filter()"
   ]
  },
  {
   "cell_type": "code",
   "execution_count": null,
   "metadata": {},
   "outputs": [
    {
     "name": "stdout",
     "output_type": "stream",
     "text": [
      "[0, 2, 4, 6, 8, 10]\n"
     ]
    }
   ],
   "source": [
    "\n",
    "#Without filter function\n",
    "l=[0,1,2,3,4,5,6,7,8,9,10]\n",
    "def isEven(n):\n",
    "    if n%2 ==0:\n",
    "        return True\n",
    "    else:\n",
    "        return False\n",
    "l1=[]\n",
    "for n in l:\n",
    "    if isEven(n) == True:\n",
    "        l1.append(n)\n",
    "print(l1)"
   ]
  },
  {
   "cell_type": "code",
   "execution_count": 66,
   "metadata": {},
   "outputs": [
    {
     "name": "stdout",
     "output_type": "stream",
     "text": [
      "[0, 2, 4, 6, 8, 10]\n"
     ]
    }
   ],
   "source": [
    "#with filter function\n",
    "l=[0,1,2,3,4,5,6,7,8,9,10]\n",
    "def isEven(n):\n",
    "    if n%2 ==0:\n",
    "        return True\n",
    "    else:\n",
    "        return False\n",
    "l1= list(filter(isEven, l))\n",
    "print(l1)"
   ]
  },
  {
   "cell_type": "code",
   "execution_count": 67,
   "metadata": {},
   "outputs": [
    {
     "name": "stdout",
     "output_type": "stream",
     "text": [
      "[0, 2, 4, 6, 8, 10]\n"
     ]
    }
   ],
   "source": [
    "#filter with lambda function\n",
    "l=[0,1,2,3,4,5,6,7,8,9,10]\n",
    "l1=list(filter(lambda n:n%2==0,l ))\n",
    "print(l1)"
   ]
  },
  {
   "cell_type": "code",
   "execution_count": 68,
   "metadata": {},
   "outputs": [
    {
     "name": "stdout",
     "output_type": "stream",
     "text": [
      "[3, 9]\n"
     ]
    }
   ],
   "source": [
    "#The numbers which are divisible by 3 and odd.\n",
    "l=[0,1,2,3,4,5,6,7,8,9,10]\n",
    "nby3odd = list(filter(lambda n:n%3==0 and n%2!=0, l))\n",
    "print(nby3odd)"
   ]
  },
  {
   "cell_type": "code",
   "execution_count": 69,
   "metadata": {},
   "outputs": [
    {
     "name": "stdout",
     "output_type": "stream",
     "text": [
      "['katrinakaif', 'kajal']\n"
     ]
    }
   ],
   "source": [
    "heroines =[\"katrinakaif\", \"anuska\",\"depika\", \"sunny leone\", \"kajal\"]\n",
    "startswithk = list(filter(lambda name: name[0] ==\"k\", heroines))\n",
    "print(startswithk)"
   ]
  },
  {
   "cell_type": "markdown",
   "metadata": {},
   "source": [
    "### map()"
   ]
  },
  {
   "cell_type": "markdown",
   "metadata": {},
   "source": [
    "#### filter() function\n",
    "- We can use filter() to filter values from the given sequence based on some condition\n",
    "- filter(function, sequence)\n",
    "- Function arguments is responsible to perform the condition\n",
    "\n",
    "#### map() function\n",
    "- For every element present in the given sequence, apply some function and generate new element with required modification \n",
    "- map(function, sequence)\n",
    "- Function argument can be applied to each element of sequence and generate a new sequence."
   ]
  },
  {
   "cell_type": "markdown",
   "metadata": {},
   "source": [
    "### map()"
   ]
  },
  {
   "cell_type": "code",
   "execution_count": 70,
   "metadata": {},
   "outputs": [
    {
     "name": "stdout",
     "output_type": "stream",
     "text": [
      "[1, 4, 9, 16, 25, 36]\n"
     ]
    }
   ],
   "source": [
    "l=[1,2,3,4,5,6]\n",
    "def squareIt(n):\n",
    "    return n*n\n",
    "l1=list(map(squareIt,l))\n",
    "print(l1)"
   ]
  },
  {
   "cell_type": "code",
   "execution_count": 71,
   "metadata": {},
   "outputs": [
    {
     "name": "stdout",
     "output_type": "stream",
     "text": [
      "[5, 20, 45, 80, 125]\n"
     ]
    }
   ],
   "source": [
    "l1=[1,2,3,4,5]\n",
    "l2 = [5,10,15,20,25]\n",
    "l3=list(map(lambda x,y: x*y, l1,l2))\n",
    "print(l3)"
   ]
  },
  {
   "cell_type": "markdown",
   "metadata": {},
   "source": [
    "#### 3. reduce() function\n",
    "- reduce() function reduces sequence of elements into a single element by applying the specified function\n",
    "- reduce(function, sequence)\n",
    "\n",
    "    Note:-\n",
    "    - reduce() function is not python's inbuilt function we have to import explictly from functools module"
   ]
  },
  {
   "cell_type": "code",
   "execution_count": 72,
   "metadata": {},
   "outputs": [
    {
     "name": "stdout",
     "output_type": "stream",
     "text": [
      "150\n"
     ]
    }
   ],
   "source": [
    "from functools import reduce\n",
    "l=[10,20,30,40,50]\n",
    "result = reduce(lambda x,y:x+y, l)\n",
    "print(result)"
   ]
  },
  {
   "cell_type": "code",
   "execution_count": 74,
   "metadata": {},
   "outputs": [
    {
     "name": "stdout",
     "output_type": "stream",
     "text": [
      "5050\n"
     ]
    }
   ],
   "source": [
    "#Find the sum of first 100 natural numbers by using reduce function\n",
    "from functools import reduce\n",
    "result = reduce(lambda x,y: x+y, range(1,101))\n",
    "print(result)"
   ]
  },
  {
   "cell_type": "code",
   "execution_count": null,
   "metadata": {},
   "outputs": [],
   "source": []
  }
 ],
 "metadata": {
  "kernelspec": {
   "display_name": "Python 3",
   "language": "python",
   "name": "python3"
  },
  "language_info": {
   "codemirror_mode": {
    "name": "ipython",
    "version": 3
   },
   "file_extension": ".py",
   "mimetype": "text/x-python",
   "name": "python",
   "nbconvert_exporter": "python",
   "pygments_lexer": "ipython3",
   "version": "3.10.0"
  }
 },
 "nbformat": 4,
 "nbformat_minor": 2
}
