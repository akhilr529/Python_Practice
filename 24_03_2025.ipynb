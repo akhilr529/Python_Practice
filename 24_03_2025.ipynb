{
 "cells": [
  {
   "cell_type": "markdown",
   "metadata": {},
   "source": [
    "## Python object oriented programming (OOPs)"
   ]
  },
  {
   "cell_type": "markdown",
   "metadata": {},
   "source": [
    "### The three important terms of OOPS\n",
    "1. class \n",
    "2. Object\n",
    "3. Reference variable\n",
    "\n",
    "- class :- A blue print/template/plan/model/design\n",
    "-       :- Represents data members & behaviour of object\n",
    "- object :- A physical existance of a class/An Instance of a class is nothing but object\n"
   ]
  },
  {
   "cell_type": "markdown",
   "metadata": {},
   "source": [
    "### What is class?\n",
    "1. Class acts as a blueprint/template/plan/model/design\n",
    "2. class represents properties(attributes) and actions(behaviours) of an object\n",
    "\n",
    "### What is an object?\n",
    "1. A physical existance of a class is nothing but object\n",
    "2. An instance of a class is nothing but object \n",
    "3. We can create any number of objects for a class\n",
    "\n",
    "### What is Reference variable\n",
    "1. The variable which can be used to refer object is called reference variable\n",
    "2. By using reference variable we can perform required operations on the object\n",
    "3. By using reference variable we can access properties and methods of an object\n",
    "4. An object can have multiple reference variables\n"
   ]
  },
  {
   "cell_type": "markdown",
   "metadata": {},
   "source": [
    "### How to define class?"
   ]
  },
  {
   "cell_type": "markdown",
   "metadata": {},
   "source": [
    "#### Syntax"
   ]
  },
  {
   "cell_type": "code",
   "execution_count": 2,
   "metadata": {},
   "outputs": [
    {
     "name": "stdout",
     "output_type": "stream",
     "text": [
      "Documentation string\n",
      "-----\n",
      "Help on class class_name in module __main__:\n",
      "\n",
      "class class_name(builtins.object)\n",
      " |  Documentation string\n",
      " |  \n",
      " |  Data descriptors defined here:\n",
      " |  \n",
      " |  __dict__\n",
      " |      dictionary for instance variables (if defined)\n",
      " |  \n",
      " |  __weakref__\n",
      " |      list of weak references to the object (if defined)\n",
      "\n"
     ]
    }
   ],
   "source": [
    "class class_name:\n",
    "    \"\"\"Documentation string\"\"\"\n",
    "    #Variables\n",
    "    #methods\n",
    "print(class_name.__doc__)\n",
    "print(\"-----\")\n",
    "help(class_name)"
   ]
  },
  {
   "cell_type": "code",
   "execution_count": 3,
   "metadata": {},
   "outputs": [
    {
     "name": "stdout",
     "output_type": "stream",
     "text": [
      "This class developed by Akhil for the demo\n",
      "---------------\n",
      "Help on class Student in module __main__:\n",
      "\n",
      "class Student(builtins.object)\n",
      " |  This class developed by Akhil for the demo\n",
      " |  \n",
      " |  Data descriptors defined here:\n",
      " |  \n",
      " |  __dict__\n",
      " |      dictionary for instance variables (if defined)\n",
      " |  \n",
      " |  __weakref__\n",
      " |      list of weak references to the object (if defined)\n",
      "\n"
     ]
    }
   ],
   "source": [
    "class Student:\n",
    "    \"\"\"This class developed by Akhil for the demo\"\"\"\n",
    "    #Variables\n",
    "    #methods\n",
    "\n",
    "print(Student.__doc__)\n",
    "print(\"---------------\")\n",
    "help(Student)"
   ]
  },
  {
   "cell_type": "markdown",
   "metadata": {},
   "source": [
    "#### Variables(3)\n",
    "1. Instance variables(object level variables)\n",
    "2. Static variables(class level variables)\n",
    "3. Local variables(Method level variables)\n",
    "\n",
    "#### Method(3)\n",
    "1. Instance methods\n",
    "2. class methods\n",
    "3. static methods"
   ]
  },
  {
   "cell_type": "markdown",
   "metadata": {},
   "source": [
    "#### Demo programs to define and use a class."
   ]
  },
  {
   "cell_type": "code",
   "execution_count": 4,
   "metadata": {},
   "outputs": [
    {
     "name": "stdout",
     "output_type": "stream",
     "text": [
      "Akhil\n",
      "83\n",
      "529\n",
      "Hello I am : Akhil\n",
      "My roll number : 529\n",
      "My marks are : 83\n"
     ]
    }
   ],
   "source": [
    "class Student:\n",
    "    \"\"\"Class developed by Akhil for Demo.\"\"\"\n",
    "    def __init__(self):\n",
    "        self.name = \"Akhil\"\n",
    "        self.rollno = 529\n",
    "        self.marks = 83\n",
    "    def talk(self):\n",
    "        print(\"Hello I am :\", self.name)\n",
    "        print(\"My roll number :\", self.rollno)\n",
    "        print(\"My marks are :\", self.marks)\n",
    "s=Student()\n",
    "print(s.name)\n",
    "print(s.marks)\n",
    "print(s.rollno)\n",
    "s.talk()"
   ]
  },
  {
   "cell_type": "code",
   "execution_count": 5,
   "metadata": {},
   "outputs": [
    {
     "name": "stdout",
     "output_type": "stream",
     "text": [
      "Hello I am : Akhil\n",
      "My roll number : 529\n",
      "My marks are : 83\n"
     ]
    }
   ],
   "source": [
    "class Student:\n",
    "    def __init__(self, name, rollno, marks):\n",
    "        self.name = name\n",
    "        self.rollno = rollno\n",
    "        self.marks = marks\n",
    "    def talk(self):\n",
    "        print(\"Hello I am :\", self.name)\n",
    "        print(\"My roll number :\", self.rollno)\n",
    "        print(\"My marks are :\", self.marks)\n",
    "s1=Student(\"Akhil\", 529,83)\n",
    "s2=Student(\"Sudheer\", 528,90)\n",
    "s3=Student(\"Sasi\", 526,99)\n",
    "s1.talk()"
   ]
  },
  {
   "cell_type": "code",
   "execution_count": 6,
   "metadata": {},
   "outputs": [
    {
     "name": "stdout",
     "output_type": "stream",
     "text": [
      "Hello I am : Sudheer\n",
      "My roll number : 528\n",
      "My marks are : 90\n",
      "-------------\n",
      "Hello I am : Sasi\n",
      "My roll number : 526\n",
      "My marks are : 99\n"
     ]
    }
   ],
   "source": [
    "s2.talk()\n",
    "print(\"-------------\")\n",
    "s3.talk()"
   ]
  },
  {
   "cell_type": "markdown",
   "metadata": {},
   "source": [
    "#### Self Variable"
   ]
  },
  {
   "cell_type": "code",
   "execution_count": 7,
   "metadata": {},
   "outputs": [
    {
     "name": "stdout",
     "output_type": "stream",
     "text": [
      "Address of object pointed by self : 2368267662720\n",
      "Address of object pointed by t : 2368267662720\n"
     ]
    }
   ],
   "source": [
    "class Test:\n",
    "    def __init__(self):\n",
    "        print(\"Address of object pointed by self :\", id(self))\n",
    "\n",
    "t=Test()\n",
    "print(\"Address of object pointed by t :\", id(t))"
   ]
  },
  {
   "cell_type": "code",
   "execution_count": 10,
   "metadata": {},
   "outputs": [
    {
     "name": "stdout",
     "output_type": "stream",
     "text": [
      "Constructor\n",
      "x value : 10\n"
     ]
    }
   ],
   "source": [
    "class Test:\n",
    "    def __init__(self):\n",
    "        print(\"Constructor\")\n",
    "    def m1(self, x):\n",
    "        print(\"x value :\", x)\n",
    "t=Test()\n",
    "t.m1(10)"
   ]
  },
  {
   "cell_type": "code",
   "execution_count": 11,
   "metadata": {},
   "outputs": [
    {
     "name": "stdout",
     "output_type": "stream",
     "text": [
      "Hello I am : Akhil\n",
      "My roll number : 529\n",
      "My marks are : 83\n"
     ]
    }
   ],
   "source": [
    "class Student:\n",
    "    def __init__(self, name, rollno, marks):\n",
    "        self.name = name\n",
    "        self.rollno = rollno\n",
    "        self.marks = marks\n",
    "    def talk(self):\n",
    "        print(\"Hello I am :\", self.name)\n",
    "        print(\"My roll number :\", self.rollno)\n",
    "        print(\"My marks are :\", self.marks)\n",
    "s1=Student(\"Akhil\", 529,83)\n",
    "s1.talk()"
   ]
  },
  {
   "cell_type": "code",
   "execution_count": 12,
   "metadata": {},
   "outputs": [
    {
     "name": "stdout",
     "output_type": "stream",
     "text": [
      "Hello I am : Akhil\n",
      "My roll number : 529\n",
      "My marks are : 83\n"
     ]
    }
   ],
   "source": [
    "class Student:\n",
    "    def __init__(delf, name, rollno, marks):\n",
    "        delf.name = name\n",
    "        delf.rollno = rollno\n",
    "        delf.marks = marks\n",
    "    def talk(kelf):\n",
    "        print(\"Hello I am :\", kelf.name)\n",
    "        print(\"My roll number :\", kelf.rollno)\n",
    "        print(\"My marks are :\", kelf.marks)\n",
    "s1=Student(\"Akhil\", 529,83)\n",
    "s1.talk()"
   ]
  },
  {
   "cell_type": "markdown",
   "metadata": {},
   "source": []
  }
 ],
 "metadata": {
  "kernelspec": {
   "display_name": "Python 3",
   "language": "python",
   "name": "python3"
  },
  "language_info": {
   "codemirror_mode": {
    "name": "ipython",
    "version": 3
   },
   "file_extension": ".py",
   "mimetype": "text/x-python",
   "name": "python",
   "nbconvert_exporter": "python",
   "pygments_lexer": "ipython3",
   "version": "3.10.0"
  }
 },
 "nbformat": 4,
 "nbformat_minor": 2
}
