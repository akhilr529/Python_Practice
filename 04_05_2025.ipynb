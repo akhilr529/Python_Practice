{
 "cells": [
  {
   "cell_type": "markdown",
   "id": "5c2ae6b8",
   "metadata": {},
   "source": [
    "## Object Serialization (Pickle, json, yaml)"
   ]
  },
  {
   "cell_type": "markdown",
   "id": "8645e7df",
   "metadata": {},
   "source": [
    "1. The process of converting an object from python supported form to other file supported form or network supported form, is called __Serialization(Marshaling or pickling)__\n",
    "2. The process of converting  an object from either file supported form or network supported form to python supported form is called __Deserialization(Unmarshaling or unpickling)__.\n",
    "\n",
    "### Object Serialization:-\n",
    "1. Object serialization by using Pickle.\n",
    "2. Object serialization by using JSON.\n",
    "3. Object serialization by using YAML"
   ]
  },
  {
   "cell_type": "markdown",
   "id": "ea684ec8",
   "metadata": {},
   "source": [
    "### Object Serialization by using pickle.\n",
    "\n",
    "1. We can perform serialization and deserialization of an object wrt file by using pickle module. It is python's inbuilt module. Pickle module contains dumps() function to perform serialization or pickling.\n",
    "\n",
    "```py\n",
    "pickle.dump(object, file)\n",
    "```\n",
    "2. Pickle module contains load() function to perform Deserialization(unpickling)\n",
    "```py\n",
    "object = pickle.load(file)\n",
    "```"
   ]
  },
  {
   "cell_type": "code",
   "execution_count": 2,
   "id": "a2687115",
   "metadata": {},
   "outputs": [
    {
     "name": "stdout",
     "output_type": "stream",
     "text": [
      "Pickling of Employee object completed\n",
      "Unpickling of employee object\n",
      "ENO:100\n",
      "ENAME:Akhil\n",
      "ESAL:27000\n",
      "EADDR:Nellore\n"
     ]
    }
   ],
   "source": [
    "#Program to perform pickling and unpickling of employee object.\n",
    "import pickle\n",
    "class Employee:\n",
    "    def __init__(self, eno, ename, esal, eaddr):\n",
    "        self.eno= eno\n",
    "        self.ename = ename\n",
    "        self.esal = esal\n",
    "        self.eaddr = eaddr\n",
    "    def display(self):\n",
    "        print(\"ENO:{}\\nENAME:{}\\nESAL:{}\\nEADDR:{}\".format(self.eno, self.ename, self.esal, self.eaddr))\n",
    "e = Employee(100, \"Akhil\", 27000, \"Nellore\")\n",
    "\n",
    "with open(\"emp.ser\", \"wb\") as f:\n",
    "    pickle.dump(e, f)\n",
    "print(\"Pickling of Employee object completed\")\n",
    "\n",
    "with open(\"emp.ser\", \"rb\") as f:\n",
    "    new_obj = pickle.load(f)\n",
    "print(\"Unpickling of employee object\")\n",
    "new_obj.display()"
   ]
  },
  {
   "cell_type": "markdown",
   "id": "3fd30cd9",
   "metadata": {},
   "source": [
    "### Object Serialization by using JSON\n",
    "> JSON :- JavaScript Object Notation\n",
    "1. Any programming language can understand json. Hence JSON is the most commonly used message format for applications irrespective of programming language and platform. It is very helpful for interoperability between applications\n",
    "2. It is human readable format\n",
    "3. It is light weight and required less memory to store data.\n",
    "\n",
    "### case study\n",
    "1. Java Application sends request to python application.\n",
    "2. Python application provide required response in json form.\n",
    "3. Java application can understand json form and can be used based on its application."
   ]
  },
  {
   "cell_type": "markdown",
   "id": "103bd584",
   "metadata": {},
   "source": [
    "### What is JSON?\n",
    "<style>\n",
    "td, th {\n",
    "   border: none!important;\n",
    "}\n",
    "</style>\n",
    "| Python   | |JavaScript |\n",
    "| -------- | --|------- |\n",
    "| int  | &rarr;|number |\n",
    "| float | &rarr;|number     |\n",
    "| str    |&rarr; |String   |\n",
    "| list    |&rarr; |Array   |\n",
    "| dict    |&rarr; |__object(JSON)__  |\n",
    "| True    |&rarr; |true   |\n",
    "| False    |&rarr; |false   |\n",
    "| None    |&rarr; |null   |\n",
    "\n",
    "1. In javascript if we want to represent a group of key value pairs, then we should go for object data type, which is nothing but json\n",
    "2. JSON is very similar to Python's dict object\n",
    "#### why preference for JSON over XML:-\n",
    "1. light weight \n",
    "2. Human readable format\n",
    "\n",
    "### Python's JSON module\n",
    "\n",
    "1. As the part of programming, it is very common requirement to convert python object into json form and from json form to python object, for these conversions(Seriliazation and Deserialization) Python provides inbuilt module json.\n",
    "2. json module defines multiple functions for serialization and deserialization.\n",
    "\n",
    "### For serialization purpose[From python to JSON form]\n",
    "1. dumps() ----> It serializes python dict object to json string\n",
    "2. dump() -----> Converting python dict object to json and write that json data to provided json file. It serialize to a file\n",
    "\n",
    "### For Deserializarion purpose[from JASON form to python form]\n",
    "1. loads() ----> Converting JSON string to python dict. It deserializes from json string.\n",
    "2. load() ---> Reading json from a file and converting to python dict object. It deserilizes from a json file."
   ]
  },
  {
   "cell_type": "code",
   "execution_count": 4,
   "id": "91b2760c",
   "metadata": {},
   "outputs": [
    {
     "name": "stdout",
     "output_type": "stream",
     "text": [
      "{\"name\": \"Akhil\", \"Age\": 25, \"salary\": 27000, \"isMarried\": true, \"isHavingGF\": null}\n",
      "Open emp.json to see the data\n"
     ]
    }
   ],
   "source": [
    "# Demo program for serialization\n",
    "import json\n",
    "employee = {\"name\": \"Akhil\", \"Age\":25, \"salary\": 27000, \"isMarried\":True, \"isHavingGF\":None}\n",
    "json_string = json.dumps(employee)\n",
    "print(json_string)\n",
    "with open(\"emp.json\",\"w\") as f:\n",
    "    json.dump(employee,f)\n",
    "print(\"Open emp.json to see the data\")\n"
   ]
  },
  {
   "cell_type": "code",
   "execution_count": 9,
   "id": "6bdfd9bc",
   "metadata": {},
   "outputs": [
    {
     "name": "stdout",
     "output_type": "stream",
     "text": [
      "{\n",
      "    \"name\": \"Akhil\",\n",
      "    \"Age\": 25,\n",
      "    \"salary\": 27000,\n",
      "    \"isMarried\": true,\n",
      "    \"isHavingGF\": null\n",
      "}\n",
      "Open emp.json to see the data\n"
     ]
    }
   ],
   "source": [
    "import json\n",
    "employee = {\"name\": \"Akhil\", \"Age\":25, \"salary\": 27000, \"isMarried\":True, \"isHavingGF\":None}\n",
    "json_string = json.dumps(employee, indent=4)\n",
    "print(json_string)\n",
    "with open(\"emp.json\", \"w\") as f:\n",
    "    json_string = json.dump(employee,f,indent=4, sort_keys=True)\n",
    "\n",
    "print(\"Open emp.json to see the data\")"
   ]
  },
  {
   "cell_type": "code",
   "execution_count": 10,
   "id": "3c2728a4",
   "metadata": {},
   "outputs": [
    {
     "name": "stdout",
     "output_type": "stream",
     "text": [
      "<class 'dict'>\n",
      "{'name': 'Akhil', 'Age': 25, 'salary': 27000, 'isMarried': True, 'isHavingGF': None}\n"
     ]
    }
   ],
   "source": [
    "#Demo program for Deserialization from json string\n",
    "import json\n",
    "json_string = '''{\n",
    "                \"name\": \"Akhil\",\n",
    "                \"Age\": 25,\n",
    "                \"salary\": 27000,\n",
    "                \"isMarried\": true,\n",
    "                \"isHavingGF\": null\n",
    "            }'''\n",
    "\n",
    "employee = json.loads(json_string)\n",
    "print(type(employee))\n",
    "print(employee)\n"
   ]
  },
  {
   "cell_type": "code",
   "execution_count": 12,
   "id": "8e45848b",
   "metadata": {},
   "outputs": [
    {
     "name": "stdout",
     "output_type": "stream",
     "text": [
      "Employee name Akhil\n",
      "Employee Age 25\n",
      "Employee salary 27000\n",
      "Is employee Married True\n",
      "is employee has GF None\n"
     ]
    }
   ],
   "source": [
    "print(\"Employee name\", employee[\"name\"])\n",
    "print(\"Employee Age\", employee[\"Age\"])\n",
    "print(\"Employee salary\", employee[\"salary\"])\n",
    "print(\"Is employee Married\", employee[\"isMarried\"])\n",
    "print(\"is employee has GF\", employee[\"isHavingGF\"])"
   ]
  },
  {
   "cell_type": "code",
   "execution_count": 14,
   "id": "231b3e58",
   "metadata": {},
   "outputs": [
    {
     "name": "stdout",
     "output_type": "stream",
     "text": [
      "name : Akhil\n",
      "Age : 25\n",
      "salary : 27000\n",
      "isMarried : True\n",
      "isHavingGF : None\n"
     ]
    }
   ],
   "source": [
    "for k, v in employee.items():\n",
    "    print(k,\":\", v)"
   ]
  },
  {
   "cell_type": "code",
   "execution_count": 15,
   "id": "9f716369",
   "metadata": {},
   "outputs": [
    {
     "name": "stdout",
     "output_type": "stream",
     "text": [
      "<class 'dict'>\n",
      "Age : 25\n",
      "isHavingGF : None\n",
      "isMarried : True\n",
      "name : Akhil\n",
      "salary : 27000\n"
     ]
    }
   ],
   "source": [
    "#Demo Program for Deserialization from json file\n",
    "with open(\"emp.json\", \"r\") as f:\n",
    "    employee = json.load(f)\n",
    "print(type(employee))\n",
    "for k,v in employee.items():\n",
    "    print(k,\":\", v)"
   ]
  },
  {
   "cell_type": "markdown",
   "id": "072ab0f8",
   "metadata": {},
   "source": [
    "### FAQ's from json module\n",
    "1. What is the difference between dumps() and load() functions of json module?\n",
    "2. What is the difference between dump() and dumps() function of json module?\n",
    "3. What is the difference between load() and loads() function of json module?"
   ]
  },
  {
   "cell_type": "markdown",
   "id": "282961e4",
   "metadata": {},
   "source": [
    "### Communicate with coindesk application to get bitcoin price\n",
    "```py\n",
    "response =requests.get(url)\n",
    "binfo = response.json()\n",
    "```\n",
    "1. If we send http request to coindesk application it will provide bitcoin current price information.\n",
    "2. We can send http request from python application by using requests module. We have to install this module seperately.\n",
    "> pip install requests\n",
    "\n",
    "3. We can send request to coindesk application by using the url\n",
    "> https://api.coindesk.com/v1/bpi/currentprice.json.\n",
    "4. It will provide the response in json format\n"
   ]
  },
  {
   "cell_type": "markdown",
   "id": "a5a72587",
   "metadata": {},
   "source": [
    "### How to perform serialization and deserialization of customized class objects.\n",
    "1. dumps() &rarr; python dict to json string\n",
    "2. dump() &rarr; python dict ot json file\n",
    "3. loads() &rarr; json string to python dict\n",
    "4. load() &rarr; json file to python dict\n",
    "\n",
    "5. dumps(), dump() functions will work only for python dict objects, and we cannot use for our customized class objects like Employee, Customer etc.\n",
    "6. load(), loads() functions will always provide, pythong dict objects as return type and we won't get our customized class objects directly.\n",
    "\n",
    "7. They required conversions we have to take care explicitly."
   ]
  },
  {
   "cell_type": "code",
   "execution_count": 29,
   "id": "62b8adb3",
   "metadata": {},
   "outputs": [
    {
     "name": "stdout",
     "output_type": "stream",
     "text": [
      "{'eno': 100, 'ename': 'Akhil', 'esal': 100000, 'eaddr': 'Nellore'}\n",
      "ENO:100\n",
      "ENAME:Akhil\n",
      "ESAL:100000\n",
      "EADDR:Nellore\n",
      "\n"
     ]
    }
   ],
   "source": [
    "import json\n",
    "class Employee:\n",
    "    def __init__(self, eno, ename, esal, eaddr):\n",
    "        self.eno= eno\n",
    "        self.ename = ename\n",
    "        self.esal = esal\n",
    "        self.eaddr = eaddr\n",
    "    def display(self):\n",
    "        print(\"ENO:{}\\nENAME:{}\\nESAL:{}\\nEADDR:{}\\n\".format(self.eno, self.ename, self.esal, self.eaddr))\n",
    "\n",
    "e = Employee(100, \"Akhil\", 100000, \"Nellore\")\n",
    "e_dict = e.__dict__\n",
    "#Serializing to JSON string\n",
    "json_string = json.dumps(e_dict, indent=4)\n",
    "# print(json_string)\n",
    "#Serializing to json file\n",
    "with open(\"emp.json\", \"w\") as f:\n",
    "    json.dump(e_dict,f, indent=4)\n",
    "#Deserializating from a file\n",
    "with open(\"emp.json\", \"r\") as f:\n",
    "    e_dict = json.load(f)\n",
    "print(e_dict)\n",
    "e = Employee(e_dict['eno'], e_dict['ename'], e_dict['esal'], e_dict[\"eaddr\"])\n",
    "e.display()"
   ]
  },
  {
   "cell_type": "markdown",
   "id": "ec862bbf",
   "metadata": {},
   "source": [
    "### jsonpickle module\n",
    "\n",
    "1. By using __jsonpickle__ module we can serialize our custom class objects directly to json and we can deserialize json to our custom class objects directly.\n",
    "2. __jsonpickle__ is not available by default and we have to install explicitly\n",
    "```py\n",
    "pip install jsonpickle\n",
    "```\n",
    "3. __jsonpickle__ module contains the following functions to perform serialization and deserialization\n",
    "    1. encode() --> To convert any object to json_string directly\n",
    "    2. decode() --> To convert json_string to our original object"
   ]
  },
  {
   "cell_type": "code",
   "execution_count": 40,
   "id": "8c1eedcf",
   "metadata": {},
   "outputs": [
    {
     "name": "stdout",
     "output_type": "stream",
     "text": [
      "{\n",
      "    \"py/object\": \"__main__.Employee\",\n",
      "    \"eno\": 100,\n",
      "    \"ename\": \"Akhil\",\n",
      "    \"esal\": 100000,\n",
      "    \"eaddr\": \"Hyd\",\n",
      "    \"isMarried\": true\n",
      "}\n",
      "<class '__main__.Employee'>\n",
      "ENO:100\n",
      "ENAME:Akhil\n",
      "ESAL:100000\n",
      "EADDR:Hyd\n",
      "IsMarried:True\n",
      "\n",
      "ENO:100\n",
      "ENAME:Akhil\n",
      "ESAL:100000\n",
      "EADDR:Hyd\n",
      "IsMarried:True\n",
      "\n"
     ]
    }
   ],
   "source": [
    "#Demo program to serialization and deserialization by using jsonpickle\n",
    "import jsonpickle\n",
    "class Employee:\n",
    "    def __init__(self, eno, ename, esal, eaddr, isMarried):\n",
    "        self.eno= eno\n",
    "        self.ename = ename\n",
    "        self.esal = esal\n",
    "        self.eaddr = eaddr\n",
    "        self.isMarried = isMarried\n",
    "    def display(self):\n",
    "        print(\"ENO:{}\\nENAME:{}\\nESAL:{}\\nEADDR:{}\\nIsMarried:{}\\n\".format(self.eno, self.ename, self.esal, self.eaddr, self.isMarried))\n",
    "\n",
    "e = Employee(100, \"Akhil\", 100000, \"Hyd\", True)\n",
    "#Serialization to json string\n",
    "json_string = jsonpickle.encode(e, indent=4)\n",
    "print(json_string)\n",
    "\n",
    "# Serialization to json file\n",
    "with open(\"emp.json\", \"w\") as f:\n",
    "    f.write(json_string)\n",
    "\n",
    "#Deserialization from json string\n",
    "e2 = jsonpickle.decode(json_string)\n",
    "print(type(e2))\n",
    "e2.display()\n",
    "\n",
    "#Deserialization from json file\n",
    "with open(\"emp.json\", 'r') as f:\n",
    "    json_string = f.read()\n",
    "e3 = jsonpickle.decode(json_string)\n",
    "e3.display()"
   ]
  },
  {
   "cell_type": "markdown",
   "id": "96a7457b",
   "metadata": {},
   "source": [
    "### Object serialization with YAML\n",
    "- YAML --> Yaml ain't markup language, Yet another markup language\n",
    "1. YAML ---> A retronym for YAML Ain't markup language that meant originally Yet Another Markup Language\n",
    "2. It is alternative to JSON\n",
    "3. It is also light weight and human understandable form\n",
    "4. It is more readable that JSON.\n",
    "\n",
    "---\n",
    "1. To serialize and deserialize our python data to yaml, we have to go for pyaml library. This library by default not available and we have to install seperately\n",
    "```py\n",
    "pip install pyaml\n",
    "```\n",
    "2. pyaml library contains yaml module\n",
    "3. yaml moudle contains dump() and load() functions to perform serialization and deserialization.\n",
    "\n",
    "#### For serialization\n",
    "\n",
    "dump() ---> To serialize python dict object to yaml string or yaml file.\n",
    "#### For deserialization\n",
    "load() ----> To deserialize from yaml string or yaml file to python dict object\n",
    "\n",
    ">Note:-\n",
    "load() is deprecated and we have to use __safe_load()__ function."
   ]
  },
  {
   "cell_type": "code",
   "execution_count": null,
   "id": "9ac46c06",
   "metadata": {},
   "outputs": [
    {
     "name": "stdout",
     "output_type": "stream",
     "text": [
      "age: 25\n",
      "isMarrieed: true\n",
      "name: Akhil\n",
      "salary: 10000\n",
      "\n"
     ]
    }
   ],
   "source": [
    "#Demo program for serialization and deserialization by using yaml\n",
    "from pyaml import yaml\n",
    "emp_dict ={\n",
    "        \"name\":\"Akhil\",\n",
    "        \"age\":25,\n",
    "        \"salary\":10000,\n",
    "        \"isMarrieed\":True\n",
    "    }\n",
    "#Serialization to yaml string\n",
    "yaml_string = yaml.dump(emp_dict)\n",
    "print(yaml_string)\n",
    "#Serialization to yaml file\n",
    "with open(\"emp.yaml\", \"w\") as f:\n",
    "    yaml.dump(emp_dict, f)\n",
    "\n"
   ]
  },
  {
   "cell_type": "code",
   "execution_count": 46,
   "id": "ff5fcbb0",
   "metadata": {},
   "outputs": [
    {
     "name": "stdout",
     "output_type": "stream",
     "text": [
      "<class 'dict'>\n",
      "{'age': 25, 'isMarrieed': True, 'name': 'Akhil', 'salary': 10000}\n"
     ]
    }
   ],
   "source": [
    "#Deserialization form yaml string\n",
    "new_dict = yaml.safe_load(yaml_string)\n",
    "print(type(new_dict))\n",
    "print(new_dict)"
   ]
  },
  {
   "cell_type": "code",
   "execution_count": 47,
   "id": "9c4fa67a",
   "metadata": {},
   "outputs": [
    {
     "name": "stdout",
     "output_type": "stream",
     "text": [
      "age : 25\n",
      "isMarrieed : True\n",
      "name : Akhil\n",
      "salary : 10000\n"
     ]
    }
   ],
   "source": [
    "for k,v in new_dict.items():\n",
    "    print(k,\":\",v)"
   ]
  },
  {
   "cell_type": "code",
   "execution_count": 48,
   "id": "a95064c0",
   "metadata": {},
   "outputs": [
    {
     "name": "stdout",
     "output_type": "stream",
     "text": [
      "{'age': 25, 'isMarrieed': True, 'name': 'Akhil', 'salary': 10000}\n"
     ]
    }
   ],
   "source": [
    "#Deserialization from yaml file\n",
    "with open(\"emp.yaml\", \"r\") as f:\n",
    "    new_dict = yaml.safe_load(f)\n",
    "print(new_dict)"
   ]
  },
  {
   "cell_type": "code",
   "execution_count": null,
   "id": "b6a1fa9f",
   "metadata": {},
   "outputs": [],
   "source": []
  }
 ],
 "metadata": {
  "kernelspec": {
   "display_name": "Python 3",
   "language": "python",
   "name": "python3"
  },
  "language_info": {
   "codemirror_mode": {
    "name": "ipython",
    "version": 3
   },
   "file_extension": ".py",
   "mimetype": "text/x-python",
   "name": "python",
   "nbconvert_exporter": "python",
   "pygments_lexer": "ipython3",
   "version": "3.10.0"
  }
 },
 "nbformat": 4,
 "nbformat_minor": 5
}
