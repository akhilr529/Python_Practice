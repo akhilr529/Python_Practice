{
 "cells": [
  {
   "cell_type": "markdown",
   "metadata": {},
   "source": [
    "## Self variable conclusions:\n",
    "1. Within the python class to refer current object, some variable must be required which is nothing, but self.\n",
    "2. self is reference variable always pointing to the current object.\n",
    "3. The first argument to the constructor and instance method is always self.\n",
    "4. At the time of calling constructor or instance method, we are not required to pass any value to self variable, Internally PVM is responsible to provide the value.\n",
    "5. The main purpose of self variable within the class is to declare instance and to access the values of the instance variable\n",
    "6. Self is not a keyword and instead of \"self\" we can use any name like delf etc., but recommended to use self.\n",
    "7. We cannot use self from outside of the class"
   ]
  },
  {
   "cell_type": "markdown",
   "metadata": {},
   "source": [
    "## The complete story of python constructors"
   ]
  },
  {
   "cell_type": "code",
   "execution_count": 1,
   "metadata": {},
   "outputs": [
    {
     "name": "stdout",
     "output_type": "stream",
     "text": [
      "Constuctors execution\n"
     ]
    }
   ],
   "source": [
    "class Student:\n",
    "    def __init__(self):\n",
    "        print(\"Constuctors execution\")\n",
    "s1 = Student()"
   ]
  },
  {
   "cell_type": "code",
   "execution_count": 2,
   "metadata": {},
   "outputs": [],
   "source": [
    "class Student:\n",
    "    def __init__(self, name, rollno, marks):\n",
    "        self.name = name\n",
    "        self.rollno = rollno\n",
    "        self.marks = marks\n",
    "s1 = Student(\"Akhil\", 529, 83)\n",
    "s2 = Student(\"Sudheer\", 526, 93)\n",
    "s3 = Student(\"Sasi\", 527, 90)"
   ]
  },
  {
   "cell_type": "markdown",
   "metadata": {},
   "source": [
    "## Constructor conclusions :-\n",
    "1. Constructor is a special method in python.\n",
    "2. The name of the constructor is always : (__ init__())\n",
    "3. We are not required to call constructor explicitly. Whenever we are creating an object, automatically constructor will be executed.\n",
    "4. Per object constructor will be executed only one.\n",
    "5. The main purpose of constructor is to declare and initialize instance variables.\n",
    "6. Constructor can take atleast one argument(atleast self).\n",
    "7. Within the class constructor is optional. If we are not writing constructor, then python will provide default constructor.\n",
    "8. Based on our requirement we can call constructor explicitly, then it will be executed just like a normal method.\n",
    "9. Overloading concept is not applicable for constructor. Hence we cannot define multiple constructors within the same class. If we are trying to define multiple constuctors. Only last constuctor will be considered."
   ]
  },
  {
   "cell_type": "markdown",
   "metadata": {},
   "source": [
    "### Mini application to explain object orient programming"
   ]
  },
  {
   "cell_type": "code",
   "execution_count": 5,
   "metadata": {},
   "outputs": [
    {
     "name": "stdout",
     "output_type": "stream",
     "text": [
      "Successfully added the Movies\n",
      "Successfully added the Movies\n",
      "All the movies information..............\n",
      "Movie name : Rebel\n",
      "Hero name : Prabas\n",
      "Heroine name : Thamanna\n",
      "\n",
      "Movie name : Nayak\n",
      "Hero name : Ram Charan\n",
      "Heroine name : Kajal\n",
      "\n"
     ]
    }
   ],
   "source": [
    "class Movie:\n",
    "    \"\"\"This class is developed by Akhil for the demo\"\"\"\n",
    "    def __init__(self, title, hero, heroine):\n",
    "        self.title = title\n",
    "        self.hero = hero\n",
    "        self.heroine = heroine\n",
    "    def info(self):\n",
    "        print(\"Movie name :\", self.title)\n",
    "        print(\"Hero name :\", self.hero)\n",
    "        print(\"Heroine name :\", self.heroine)\n",
    "    \n",
    "list_of_movies = []\n",
    "while True:\n",
    "    title = input(\"Enter the Movie name \")\n",
    "    hero = input(\"Enter the hero name\")\n",
    "    heroine = input(\"Enter the heroine\")\n",
    "    m = Movie(title, hero, heroine)\n",
    "    list_of_movies.append(m)\n",
    "    print(\"Successfully added the Movies\")\n",
    "    option = input(\"Do you want to add one movie [yes/no]\")\n",
    "    if option.lower() == \"no\":\n",
    "        break\n",
    "print(\"All the movies information..............\")\n",
    "for movies in list_of_movies:\n",
    "    movies.info()\n",
    "    print()"
   ]
  },
  {
   "cell_type": "markdown",
   "metadata": {},
   "source": [
    "### Difference between method and constructor\n",
    "\n",
    "|    | Method    | Constructor |\n",
    "| -- | -------- | ------- |\n",
    "| 1 | Method name can be any name | Constructor name should be __init_._()   |\n",
    "| 2 | Methods won't be executed automatically, we have to call explicitly, then only methods will executed | Constructors will be executed automatically whenever we are creating an object and we are not required to call explicitly     |\n",
    "| 3 | Per object, we can call method any number of times    | Per object constructor will be executed only one time.    |\n",
    "| 4 | Inside method, we can write business logic based on our programming requirement    | Inside constructor we have to declare and initialize instance variables.    |"
   ]
  },
  {
   "cell_type": "markdown",
   "metadata": {},
   "source": [
    "### What happens if we provide method name same as class name?"
   ]
  },
  {
   "cell_type": "code",
   "execution_count": 7,
   "metadata": {},
   "outputs": [
    {
     "name": "stdout",
     "output_type": "stream",
     "text": [
      "---\n",
      "Method\n"
     ]
    }
   ],
   "source": [
    "class Test:\n",
    "    def Test(self):\n",
    "        print(\"Method\")\n",
    "t=Test()\n",
    "print(\"---\")\n",
    "t.Test()"
   ]
  },
  {
   "cell_type": "markdown",
   "metadata": {},
   "source": []
  }
 ],
 "metadata": {
  "kernelspec": {
   "display_name": "Python 3",
   "language": "python",
   "name": "python3"
  },
  "language_info": {
   "codemirror_mode": {
    "name": "ipython",
    "version": 3
   },
   "file_extension": ".py",
   "mimetype": "text/x-python",
   "name": "python",
   "nbconvert_exporter": "python",
   "pygments_lexer": "ipython3",
   "version": "3.10.0"
  }
 },
 "nbformat": 4,
 "nbformat_minor": 2
}
