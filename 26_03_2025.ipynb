{
 "cells": [
  {
   "cell_type": "markdown",
   "metadata": {},
   "source": [
    "### Basic idea about types of variables\n",
    "1. instance variables\n",
    "2. static variables\n",
    "3. local variables\n",
    "\n",
    "### Instance variables\n",
    "\n",
    "1. If the value of a variable is varied from object to object, such type of variables are called instance variables or object level variables.\n",
    "- eg :- name and rollno of the student\n",
    "2. For every object a seperate copy of instance variables will be created.\n",
    "3. Most of the times instance variables will be declared inside constructor by using self variable.\n",
    "\n",
    "### Static variables\n",
    "1. If the value of a variable is not varied from object to object, then it is not recommended to declare those variables as instance variables. We have to declare at class level as static variables.\n",
    "2. In the case of instance variables, for every object a seperate copy will be created. But in the case of static variables at class level only one coppy will be created and shared by every object of that class.\n",
    "3. Most of the times, static variables should be declared within the class directly.\n",
    "\n",
    "### Local variables\n",
    "1. To meet temporaty requirement of the programmer, sometimes we can declare variables inside a method, such type of variables are called local variables or method level variables."
   ]
  },
  {
   "cell_type": "code",
   "execution_count": 1,
   "metadata": {},
   "outputs": [
    {
     "name": "stdout",
     "output_type": "stream",
     "text": [
      "Sri Sainadh\n",
      "0 1 2 3 4 5 6 7 8 9 "
     ]
    }
   ],
   "source": [
    "class Student:\n",
    "    #static variables\n",
    "    school_name = \"Sri Sainadh\" \n",
    "    def __init__(self, name, rollno):\n",
    "        #instance variables\n",
    "        self.name = name\n",
    "        self.rollno = rollno\n",
    "    def info(self):\n",
    "        #Local variables\n",
    "        x=10\n",
    "        for i in range(x):\n",
    "            print(i, end=\" \")\n",
    "s= Student(\"akhil\",529)\n",
    "print(s.school_name)\n",
    "s.info()"
   ]
  },
  {
   "cell_type": "markdown",
   "metadata": {},
   "source": [
    "### Basic idea about types of methods\n",
    "1. Instance method\n",
    "2. class method\n",
    "3. Static method\n",
    "\n",
    "### Instance method\n",
    "1. Inside a method if we trying to access instance variables, then that method always talks about a particular object and that method should be declared as instance method.\n",
    "2. The first argument to the instance method is always self, which is reference variable to the current object.\n",
    "\n",
    "### class method\n",
    "1. Inside method if we are using only static variables and if we are not using any instance variable, than that method is no way related to a particular object and it is class level method. Such type of methods we have to declare as class methods.\n",
    "2. We have to declare class method with __@classmethod__ decorator.\n",
    "3. The first argument to the class method is always cls, which is reference variable to class object.\n",
    "4. For every class one special object will be created by the PVM to maintain class level information, which is nothing but class level object. cls is the reference variable pointing to that object.\n",
    "\n",
    "### static method\n",
    "1. Inside a method if we are not using any instance variable or static variable, such type of methods are generally utility methods and these methods we have to declare as static methods.\n",
    "2. static method should be declare by using __@staticmethod__ decorator."
   ]
  },
  {
   "cell_type": "code",
   "execution_count": 2,
   "metadata": {},
   "outputs": [],
   "source": [
    "class Student:\n",
    "    school_name = \"Sri Sainadh\"\n",
    "    def __init__(self, name, rollno):\n",
    "        self.name = name\n",
    "        self.rollno = rollno\n",
    "\n",
    "    #Instance method\n",
    "    def getStudentInfo(self):\n",
    "        print(\"Student Name :\", self.name)\n",
    "        print(\"Student Roll number :\", self.rollno)\n",
    "\n",
    "    #class method\n",
    "    @classmethod\n",
    "    def getSchoolName(cls):\n",
    "        print(\"School Name :\", cls.school_name)\n",
    "        \n",
    "    #static method\n",
    "    @staticmethod\n",
    "    def getSum(a,b):\n",
    "        sum = a+b\n",
    "        return sum"
   ]
  },
  {
   "cell_type": "markdown",
   "metadata": {},
   "source": [
    "### The complete story of instance varibles\n",
    "1. Inside constructor by using self\n",
    "2. Inside instance method by using self\n",
    "3. Outside of the class by using object refernce variable"
   ]
  },
  {
   "cell_type": "code",
   "execution_count": 4,
   "metadata": {},
   "outputs": [
    {
     "name": "stdout",
     "output_type": "stream",
     "text": [
      "{'a': 10, 'b': 20}\n",
      "{'a': 10, 'b': 20, 'c': 30}\n",
      "{'a': 10, 'b': 20, 'c': 30, 'd': 40}\n"
     ]
    }
   ],
   "source": [
    "class Test:\n",
    "    def __init__(self):\n",
    "        self.a = 10\n",
    "        self.b = 20\n",
    "    def m1(self):\n",
    "        self.c = 30\n",
    "\n",
    "t = Test() # a, b will be added to object\n",
    "print(t.__dict__)\n",
    "t.m1() # c will be added to object\n",
    "print(t.__dict__)\n",
    "t.d = 40 # d will be added to object\n",
    "print(t.__dict__)"
   ]
  },
  {
   "cell_type": "markdown",
   "metadata": {},
   "source": [
    "### Inside instance method by using self\n",
    "\n",
    "1. We can also declare instance variable inside the instance method by using self variable\n",
    "2. If we declare any instance variable inside instance method, that variable will be added to the object once we call that method.\n",
    "5. If we are not calling that instance method then those variables won't be added to the object.\n",
    "\n",
    "## __Very Important__\n",
    "1. The number of instance variables will be varied from object to object in python.\n",
    "2. But in java the number of instance variables are always same of every object.\n",
    "\n",
    "### How to access instance variable\n",
    "1. Within the class, we can access instance variables by using self(of course inside constructor and instance method)\n",
    "2. But outside of the class, we can access by using object reference."
   ]
  },
  {
   "cell_type": "code",
   "execution_count": 5,
   "metadata": {},
   "outputs": [
    {
     "name": "stdout",
     "output_type": "stream",
     "text": [
      "10\n",
      "20\n",
      "\n",
      "10\n",
      "20\n"
     ]
    }
   ],
   "source": [
    "class Test:\n",
    "    def __init__(self):\n",
    "        self.a = 10\n",
    "        self.b = 20\n",
    "    def display(self):\n",
    "        print(self.a)\n",
    "        print(self.b)\n",
    "\n",
    "t=Test()\n",
    "t.display()\n",
    "print()\n",
    "print(t.a)\n",
    "print(t.b)"
   ]
  },
  {
   "cell_type": "markdown",
   "metadata": {},
   "source": [
    "### How to delete instance variables\n",
    "1. Based on our programming requirement, we can delet instance variables from the object.\n",
    "    1. within the class by using self\n",
    "        - del self.variablename\n",
    "        - eg :- self.a\n",
    "\n",
    "    2. Outside of the class by using object reference.\n",
    "        - del objectreference.variablename\n",
    "        - eg :- del t.a\n",
    "    - Note :-\n",
    "    - We can delte multiple instance variables also del t.a, t.b, t.c\n",
    "\n",
    "### Very important point :-\n",
    "1. The instance variables which are deleted from one object, won't be deleted from other objects, because for every object seperate copy there.\n",
    "2. If we change the vaues of instance variables of one object, then those changes won't be reflected to other objects, because for every object a seperate copy of instance variables are available.\n",
    "\n",
    "\n",
    "### Various places to declare static variables\n",
    "\n",
    "1. Within the class directly, but outside of any method or constructor \n",
    "2. Inside constructor method by using classname\n",
    "3. Inside instance method by using classname\n",
    "4. Inside class method by using either cls or classname\n",
    "5. Inside static method by using class name\n",
    "6. Outside of class by using classname"
   ]
  },
  {
   "cell_type": "code",
   "execution_count": 6,
   "metadata": {},
   "outputs": [
    {
     "name": "stdout",
     "output_type": "stream",
     "text": [
      "{'__module__': '__main__', 'a': 10, '__init__': <function Test.__init__ at 0x0000012681797AC0>, 'm1': <function Test.m1 at 0x0000012681797F40>, 'm2': <classmethod(<function Test.m2 at 0x0000012681796440>)>, 'm3': <staticmethod(<function Test.m3 at 0x0000012681797760>)>, '__dict__': <attribute '__dict__' of 'Test' objects>, '__weakref__': <attribute '__weakref__' of 'Test' objects>, '__doc__': None, 'b': 20}\n",
      "{'__module__': '__main__', 'a': 10, '__init__': <function Test.__init__ at 0x0000012681797AC0>, 'm1': <function Test.m1 at 0x0000012681797F40>, 'm2': <classmethod(<function Test.m2 at 0x0000012681796440>)>, 'm3': <staticmethod(<function Test.m3 at 0x0000012681797760>)>, '__dict__': <attribute '__dict__' of 'Test' objects>, '__weakref__': <attribute '__weakref__' of 'Test' objects>, '__doc__': None, 'b': 20, 'c': 30, 'd': 40, 'e': 50, 'f': 60, 'g': 70}\n"
     ]
    }
   ],
   "source": [
    "class Test:\n",
    "    a = 10\n",
    "    def __init__(self):\n",
    "        Test.b = 20\n",
    "    def m1(self):\n",
    "        Test.c = 30\n",
    "    @classmethod\n",
    "    def m2(cls):\n",
    "        cls.d = 40\n",
    "        Test.e = 50\n",
    "    @staticmethod\n",
    "    def m3():\n",
    "        Test.f = 60\n",
    "\n",
    "t = Test()\n",
    "print(Test.__dict__)\n",
    "t.m1()\n",
    "\n",
    "Test.m2()\n",
    "Test.m3()\n",
    "Test.g = 70\n",
    "print(Test.__dict__)\n"
   ]
  },
  {
   "cell_type": "markdown",
   "metadata": {},
   "source": [
    "### How to access static variable\n",
    "1. Inside constructor by using self or classname\n",
    "2. Inside instance method by using self or classname\n",
    "3. Inside classmethod by using cls or classname\n",
    "4. Inside staticmethod by using classname\n",
    "5. Outside of the class either by object reference or by class name."
   ]
  },
  {
   "cell_type": "code",
   "execution_count": 7,
   "metadata": {},
   "outputs": [
    {
     "name": "stdout",
     "output_type": "stream",
     "text": [
      "10\n",
      "10\n",
      "10\n",
      "10\n",
      "10\n",
      "10\n",
      "10\n",
      "10\n",
      "10\n"
     ]
    }
   ],
   "source": [
    "class Test:\n",
    "    a = 10\n",
    "    def __init__(self):\n",
    "        print(self.a)\n",
    "        print(Test.a)\n",
    "    def m1(self):\n",
    "        print(self.a)\n",
    "        print(Test.a)\n",
    "    @classmethod\n",
    "    def m2(cls):\n",
    "        print(cls.a)\n",
    "        print(Test.a)\n",
    "    @staticmethod\n",
    "    def m3():\n",
    "        print(Test.a)\n",
    "\n",
    "t = Test()\n",
    "t.m1()\n",
    "Test.m2()\n",
    "Test.m3()\n",
    "print(Test.a)\n",
    "print(t.a)"
   ]
  },
  {
   "cell_type": "markdown",
   "metadata": {},
   "source": [
    "### Where we can modify value of static variable.\n",
    "- We can modify the value of static variable anywhere(either within the class or outside of the class) by using class name, But inside class method, we can also use cls variable.\n",
    "\n",
    "- __Note:-__\n",
    "- We cannot modify static variable value by using self or object reference."
   ]
  },
  {
   "cell_type": "code",
   "execution_count": 11,
   "metadata": {},
   "outputs": [
    {
     "name": "stdout",
     "output_type": "stream",
     "text": [
      "20\n",
      "30\n",
      "50\n",
      "60\n",
      "70\n"
     ]
    }
   ],
   "source": [
    "class Test:\n",
    "    a = 10\n",
    "    def __init__(self):\n",
    "        Test.a =20\n",
    "    def m1(self):\n",
    "        Test.a =30\n",
    "    @classmethod\n",
    "    def m2(cls):\n",
    "        Test.a = 40\n",
    "        cls.a = 50\n",
    "    @staticmethod\n",
    "    def m3():\n",
    "        Test.a = 60\n",
    "\n",
    "t = Test()\n",
    "print(t.a)\n",
    "t.m1()\n",
    "print(t.a)\n",
    "Test.m2()\n",
    "print(t.a)\n",
    "Test.m3()\n",
    "print(t.a)\n",
    "Test.a = 70\n",
    "print(t.a)"
   ]
  },
  {
   "cell_type": "code",
   "execution_count": 13,
   "metadata": {},
   "outputs": [
    {
     "name": "stdout",
     "output_type": "stream",
     "text": [
      "10\n",
      "8888\n"
     ]
    }
   ],
   "source": [
    "#Example programs set-1 about instance and static variable\n",
    "class Test:\n",
    "    a = 10\n",
    "    def m1(self):\n",
    "        self.a = 8888\n",
    "t1 = Test()\n",
    "t1.m1()\n",
    "print(Test.a)\n",
    "print(t1.a)"
   ]
  },
  {
   "cell_type": "markdown",
   "metadata": {},
   "source": [
    "### Important Conclusion\n",
    "- If we are trying to change the value of static variable by using self or object reference variable, then the value of static variable won't be changed, jsut a new instance variable with that name will be added to that particular object."
   ]
  },
  {
   "cell_type": "code",
   "execution_count": 14,
   "metadata": {},
   "outputs": [
    {
     "name": "stdout",
     "output_type": "stream",
     "text": [
      "{'__module__': '__main__', 'a': 10, '__init__': <function Test.__init__ at 0x0000012681797B50>, 'm1': <function Test.m1 at 0x00000126817965F0>, 'm2': <classmethod(<function Test.m2 at 0x00000126817964D0>)>, 'm3': <staticmethod(<function Test.m3 at 0x0000012681989090>)>, '__dict__': <attribute '__dict__' of 'Test' objects>, '__weakref__': <attribute '__weakref__' of 'Test' objects>, '__doc__': None}\n",
      "{'__module__': '__main__', '__init__': <function Test.__init__ at 0x0000012681797B50>, 'm1': <function Test.m1 at 0x00000126817965F0>, 'm2': <classmethod(<function Test.m2 at 0x00000126817964D0>)>, 'm3': <staticmethod(<function Test.m3 at 0x0000012681989090>)>, '__dict__': <attribute '__dict__' of 'Test' objects>, '__weakref__': <attribute '__weakref__' of 'Test' objects>, '__doc__': None}\n"
     ]
    }
   ],
   "source": [
    "# How to delete static variable\n",
    "class Test:\n",
    "    a = 10\n",
    "    def __init__(self):\n",
    "        Test.b = 20\n",
    "        del Test.a\n",
    "    def m1(self):\n",
    "        Test.c = 30\n",
    "        del Test.b\n",
    "    @classmethod\n",
    "    def m2(cls):\n",
    "        Test.d = 40\n",
    "        del Test.c\n",
    "    @staticmethod\n",
    "    def m3():\n",
    "        Test.e = 50\n",
    "        del Test.d\n",
    "\n",
    "print(Test.__dict__)\n",
    "t = Test()\n",
    "t.m1()\n",
    "t.m2()\n",
    "t.m3()\n",
    "del Test.e\n",
    "print(Test.__dict__)"
   ]
  },
  {
   "cell_type": "markdown",
   "metadata": {},
   "source": [
    "- We can delete static variables either by class name or cls variable\n",
    "\n",
    "- __Note:-__\n",
    "- We cannot modify/delete static variable by using object reference or self, but we can access static variables by using object reference/self and classname"
   ]
  },
  {
   "cell_type": "code",
   "execution_count": 16,
   "metadata": {},
   "outputs": [
    {
     "name": "stdout",
     "output_type": "stream",
     "text": [
      "10\n"
     ]
    },
    {
     "ename": "AttributeError",
     "evalue": "a",
     "output_type": "error",
     "traceback": [
      "\u001b[1;31m---------------------------------------------------------------------------\u001b[0m",
      "\u001b[1;31mAttributeError\u001b[0m                            Traceback (most recent call last)",
      "Cell \u001b[1;32mIn[16], line 5\u001b[0m\n\u001b[0;32m      3\u001b[0m t\u001b[38;5;241m=\u001b[39mTest()\n\u001b[0;32m      4\u001b[0m \u001b[38;5;28mprint\u001b[39m(t\u001b[38;5;241m.\u001b[39ma)\n\u001b[1;32m----> 5\u001b[0m \u001b[38;5;28;01mdel\u001b[39;00m t\u001b[38;5;241m.\u001b[39ma\n",
      "\u001b[1;31mAttributeError\u001b[0m: a"
     ]
    }
   ],
   "source": [
    "class Test:\n",
    "    a=10\n",
    "t=Test()\n",
    "print(t.a)\n",
    "del t.a"
   ]
  },
  {
   "cell_type": "markdown",
   "metadata": {},
   "source": [
    "\n",
    "### Instance variable vs static variable\n",
    "\n",
    "| | Instance variable    | static variable |\n",
    "|--| -------- | ------- |\n",
    "| 1 | These are object level variables  | These are class level variables   |\n",
    "| 2 | For every object a seperate copy will be created | A single copy will be created at class level and shared by all objects of that class. |\n",
    "| 3 | By using one object reference, if we are trying to perform any changes to the instance variable then these changes, won't be reflected to the remainging objects, because for every object a seperate copy of the instance variables will be there    | If we perform any change to the static variable, then those changes will be reflected to all objects, because a single copy of static variabla will be maintained at class level    |"
   ]
  },
  {
   "cell_type": "markdown",
   "metadata": {},
   "source": [
    "### Local Variables\n",
    "- Some times to meet temporary requirements of the programmer, we can declare variable inside a method directly without using self, classname or cls variable. Such type of variables are called local variables or temporary variables.\n",
    "- Local variables can be used to hold temporary results.\n",
    "- The local variables of a method can not be accessed from outside of that method."
   ]
  },
  {
   "cell_type": "code",
   "execution_count": 17,
   "metadata": {},
   "outputs": [
    {
     "name": "stdout",
     "output_type": "stream",
     "text": [
      "The average : 3.0\n"
     ]
    }
   ],
   "source": [
    "class Test:\n",
    "    @staticmethod\n",
    "    def average(list1):\n",
    "        result = sum(list1)/len(list1)\n",
    "        print(\"The average :\", result)\n",
    "\n",
    "list1 = [1,2,3,4,5]\n",
    "Test.average(list1)"
   ]
  },
  {
   "cell_type": "markdown",
   "metadata": {},
   "source": [
    "### Mini Bank Application"
   ]
  },
  {
   "cell_type": "code",
   "execution_count": 20,
   "metadata": {},
   "outputs": [
    {
     "name": "stdout",
     "output_type": "stream",
     "text": [
      "Welcome to Akhil Bank\n",
      "After withdraw, balance : 0.0\n",
      "After deposite balance : 10000.0\n",
      "After withdraw, balance : 5000.0\n",
      "Thanks for Banking\n"
     ]
    }
   ],
   "source": [
    "class Customer:\n",
    "    \"\"\"This class is Developed by Akhil and describes bank operations.\"\"\"\n",
    "    bank_name = \"Akhil Bank\"\n",
    "    def __init__(self, name, balance = 0):\n",
    "        self.name = name\n",
    "        self.balance = balance\n",
    "    def deposit(self, amount):\n",
    "        self.balance = amount + self.balance\n",
    "        print(\"After deposite balance :\", self.balance)\n",
    "    def withdraw(self, amount):\n",
    "        if amount > self.balance:\n",
    "            print(\"Insufficient funds...... Cannot perform  this operation\")\n",
    "        else:\n",
    "            self.balance = self.balance - amount\n",
    "            print(\"After withdraw, balance :\", self.balance)\n",
    "\n",
    "print(\"Welcome to\", Customer.bank_name)\n",
    "name = input(\"Enter your name\")\n",
    "c =  Customer(name)\n",
    "\n",
    "while True:\n",
    "    option = input(\"Enter the option to proceed, \\nd - Deposit\\nw - Widraw\\ne - Exit\")\n",
    "    if option.lower() == \"d\":\n",
    "        amount = float(input(\"Enter amount to deposit\"))\n",
    "        c.deposit(amount)\n",
    "    elif option.lower() == \"w\":\n",
    "        amount = float(input(\"Enter the amount to withdraw\"))\n",
    "        c.withdraw(amount)\n",
    "    elif option.lower() == \"e\":\n",
    "        print(\"Thanks for Banking\")\n",
    "        break\n",
    "    else:\n",
    "        print(\"Your option is invalid.... plz choose valid option.\")  "
   ]
  },
  {
   "cell_type": "markdown",
   "metadata": {},
   "source": [
    "### Jokes about student Grades :-\n",
    "1. Most first class students get technical seats and become doctors or Engineers.\n",
    "2. The second class students pass MBA to become Administors and contol the first class\n",
    "3. The third class students enters politics(ministers) and control both first and second class\n",
    "4. Lastly, the failures join the underworld and control all the above."
   ]
  },
  {
   "cell_type": "markdown",
   "metadata": {},
   "source": [
    "### Instance method."
   ]
  },
  {
   "cell_type": "code",
   "execution_count": 21,
   "metadata": {},
   "outputs": [
    {
     "name": "stdout",
     "output_type": "stream",
     "text": [
      "Student name : Akhil\n",
      "Student marks : 83\n",
      "You got first class.\n",
      "\n",
      "Student name : Sasi\n",
      "Student marks : 94\n",
      "You got first class.\n",
      "\n"
     ]
    }
   ],
   "source": [
    "class Student:\n",
    "    def __init__(self, name, marks):\n",
    "        self.name = name\n",
    "        self.marks = marks\n",
    "\n",
    "    def display(self):\n",
    "        print(\"Student name :\", self.name)\n",
    "        print(\"Student marks :\", self.marks)\n",
    "\n",
    "    def grade(self):\n",
    "        if self.marks >= 60:\n",
    "            print(\"You got first class.\")\n",
    "        elif self.marks >= 50:\n",
    "            print(\"You got second class.\")\n",
    "        elif self.marks >=35:\n",
    "            print(\"You got third class\")\n",
    "        else:\n",
    "            print(\"You failed\")\n",
    "\n",
    "\n",
    "n = int(input(\"Enter number of students:\"))\n",
    "for i in range(n):\n",
    "    name = input(\"Enter the student name\")\n",
    "    marks = int(input(\"Enter the student marks\"))\n",
    "    s = Student(name, marks)\n",
    "    s.display()\n",
    "    s.grade()\n",
    "    print()"
   ]
  },
  {
   "cell_type": "markdown",
   "metadata": {},
   "source": [
    "### Setter and Getter methods\n",
    "1. We can set and get the values of instance variables by using setter and getter methods\n",
    "\n",
    "| | Setter method | Getter method |\n",
    "| -- | ------ | ---- |\n",
    "| 1 |   Mutator method   | Accessor method |\n",
    "| 2 |   We can use setter methods to set values to the instance variables. These setter methods also know as mutator methods | Getter methods can be used to get values of the instance variables. Getter methods also known as accessor methods |\n"
   ]
  },
  {
   "cell_type": "code",
   "execution_count": 23,
   "metadata": {},
   "outputs": [
    {
     "name": "stdout",
     "output_type": "stream",
     "text": [
      "Hello Sasi\n",
      "Your marks 97\n",
      "\n",
      "Hello Akhil\n",
      "Your marks 8\n",
      "\n"
     ]
    }
   ],
   "source": [
    "class Student:\n",
    "    def setName(self, name):\n",
    "        self.name = name\n",
    "    \n",
    "    def getName(self):\n",
    "        return self.name\n",
    "    def setMarks(self, marks):\n",
    "        self.marks = marks\n",
    "    def getMarks(self):\n",
    "        return self.marks\n",
    "n = int(input(\"Enter the no. of students\"))\n",
    "students = []\n",
    "for i in range(n):\n",
    "    s= Student()\n",
    "    name = input(\"Enter name\")\n",
    "    marks = int(input(\"Enter marks\"))\n",
    "    s.setName(name)\n",
    "    s.setMarks(marks)\n",
    "    students.append(s)\n",
    "\n",
    "for s in students:\n",
    "    print(\"Hello\", s.getName())\n",
    "    print(\"Your marks\", s.getMarks())\n",
    "    print()"
   ]
  },
  {
   "cell_type": "markdown",
   "metadata": {},
   "source": [
    "### Class methods demo"
   ]
  },
  {
   "cell_type": "code",
   "execution_count": 24,
   "metadata": {},
   "outputs": [
    {
     "name": "stdout",
     "output_type": "stream",
     "text": [
      "Parrot flying with 2 wings\n"
     ]
    }
   ],
   "source": [
    "class Bird:\n",
    "    wings = 2\n",
    "    @classmethod\n",
    "    def fly(cls, name):\n",
    "        print(\"{} flying with {} wings\".format(name, cls.wings))\n",
    "\n",
    "Bird.fly(\"Parrot\")"
   ]
  },
  {
   "cell_type": "markdown",
   "metadata": {},
   "source": [
    "### program to track number of objects created for a class?"
   ]
  },
  {
   "cell_type": "code",
   "execution_count": 26,
   "metadata": {},
   "outputs": [
    {
     "name": "stdout",
     "output_type": "stream",
     "text": [
      "The number of objects created : 0\n",
      "The number of objects created : 2\n"
     ]
    }
   ],
   "source": [
    "class Test:\n",
    "    count = 0\n",
    "    def __init__(self):\n",
    "        Test.count = Test.count +1\n",
    "    @classmethod\n",
    "    def getNoofObjects(cls):\n",
    "        print(\"The number of objects created :\", Test.count)\n",
    "Test.getNoofObjects()\n",
    "t=Test()\n",
    "t1 = Test()\n",
    "Test.getNoofObjects()"
   ]
  },
  {
   "cell_type": "markdown",
   "metadata": {},
   "source": [
    "### Difference between Instance and class mehtod\n",
    "\n",
    "|    | Instance method    | class method |\n",
    "| ---| -------- | ------- |\n",
    "| 1   | Inside method body if we are using at least one instance variable then compulsory we should declare that method as instance method  | Inside method body if we are using only static variables and if we are not using instance variables then we have to declare that method as class method  |\n",
    "| 2 | Inside instance method we can access both instance and static variables | Inside classmethod we can access only static variables and we cannot access instance variables |\n",
    "| 3 | To declare instance method we are not required to use any decorator | To declare class method compulsory we should use @classmethod decorator |\n",
    "| 4 | The first argument to the instance method should be self, which is reference to current object and by using self, we can access instance variable inside method | The first argument to the classmethod should be cls, which is reference variable current class object and by using that we can access static variables |\n",
    "| 5 | We can call instance method by using object reference | We can call classmethod either by using object reference or by using class name, but recomended to use class name |"
   ]
  },
  {
   "cell_type": "markdown",
   "metadata": {},
   "source": [
    "### Static method\n",
    "1. Inside a method implementation, if we are not using any instance variable or static variable, such type of methods are general utility methods and these methods are static methods\n",
    "2. For static methods we won't provide self or cls at the time of declaration.\n",
    "3. We can declare static methods explicitly by using @statimethod decorator.\n",
    "4. We can access static method either by object reference or by class name. But recommended to use class name"
   ]
  },
  {
   "cell_type": "code",
   "execution_count": 27,
   "metadata": {},
   "outputs": [
    {
     "name": "stdout",
     "output_type": "stream",
     "text": [
      "The sum : 30\n",
      "The product : 6\n",
      "The Average  3.0\n"
     ]
    }
   ],
   "source": [
    "class AkhilMath:\n",
    "    @staticmethod\n",
    "    def add(a, b):\n",
    "        print(\"The sum :\", a+b)\n",
    "\n",
    "    @staticmethod\n",
    "    def product(a, b):\n",
    "        print(\"The product :\", a*b)\n",
    "\n",
    "    @staticmethod\n",
    "    def average(a,b):\n",
    "        print(\"The Average \", (a+b)/2)\n",
    "\n",
    "AkhilMath.add(10,20)\n",
    "AkhilMath.product(2,3)\n",
    "AkhilMath.average(2,4)\n"
   ]
  },
  {
   "cell_type": "markdown",
   "metadata": {},
   "source": [
    "### Instance method vs class method vs static method\n",
    "1. If we are using any instance variables inside method body then we should go for instance mehtod, we should call by using object reference only.\n",
    "2. If we are using only static variables inside method body then this method no way related to a particular object, we should declare such type of method as classmethod we can declare class method explicitly by using __@classmethod__ decorator. We can call either by using object reference or by using class name.\n",
    "3. If we are not using any instance variable and any static variable inside method body to define such type of general utility methods we should go for static methods. We can declare static methods explicitly by using __@staticmethod__ decorator. We can call either by using object reference or by using class name.\n",
    "\n",
    "------\n",
    "\n",
    "- If we are using only instance variable ---> Instance method\n",
    "- If we are using only static variables --> classmethod\n",
    "- If we are using Instance variables and static variables ---> Instance method\n",
    "- if we are using Instance variables and local variables ---> Instance method\n",
    "- If we are using static variables and local variables --> class method\n",
    "- If we are using local variables --> static method\n",
    "\n",
    "- __If we are not using any decorator__\n",
    "- For classmethod, __@classmethod__ decorator is mandatory\n",
    "- For staticmethod, __@staticmethod__ decorator is optional\n",
    "- Without any decorator the method can be either instance method or static method\n",
    "- If we are calling by using object reference then it is treated as instance method.\n",
    "- If we are calling by using class name then it is treated as static method.\n"
   ]
  },
  {
   "cell_type": "markdown",
   "metadata": {},
   "source": [
    "### Instance method"
   ]
  },
  {
   "cell_type": "code",
   "execution_count": 28,
   "metadata": {},
   "outputs": [
    {
     "ename": "TypeError",
     "evalue": "Test.m1() takes 0 positional arguments but 1 was given",
     "output_type": "error",
     "traceback": [
      "\u001b[1;31m---------------------------------------------------------------------------\u001b[0m",
      "\u001b[1;31mTypeError\u001b[0m                                 Traceback (most recent call last)",
      "Cell \u001b[1;32mIn[28], line 5\u001b[0m\n\u001b[0;32m      3\u001b[0m         \u001b[38;5;28mprint\u001b[39m(\u001b[38;5;124m\"\u001b[39m\u001b[38;5;124msome class\u001b[39m\u001b[38;5;124m\"\u001b[39m)\n\u001b[0;32m      4\u001b[0m t\u001b[38;5;241m=\u001b[39mTest()\n\u001b[1;32m----> 5\u001b[0m \u001b[43mt\u001b[49m\u001b[38;5;241;43m.\u001b[39;49m\u001b[43mm1\u001b[49m\u001b[43m(\u001b[49m\u001b[43m)\u001b[49m\n",
      "\u001b[1;31mTypeError\u001b[0m: Test.m1() takes 0 positional arguments but 1 was given"
     ]
    }
   ],
   "source": [
    "class Test:\n",
    "    def m1():\n",
    "        print(\"some class\")\n",
    "t=Test()\n",
    "t.m1()"
   ]
  },
  {
   "cell_type": "code",
   "execution_count": 29,
   "metadata": {},
   "outputs": [
    {
     "name": "stdout",
     "output_type": "stream",
     "text": [
      "some class\n"
     ]
    }
   ],
   "source": [
    "class Test:\n",
    "    def m1(x):\n",
    "        print(\"some class\")\n",
    "t=Test()\n",
    "t.m1()"
   ]
  },
  {
   "cell_type": "code",
   "execution_count": 30,
   "metadata": {},
   "outputs": [
    {
     "ename": "TypeError",
     "evalue": "Test.m1() takes 1 positional argument but 2 were given",
     "output_type": "error",
     "traceback": [
      "\u001b[1;31m---------------------------------------------------------------------------\u001b[0m",
      "\u001b[1;31mTypeError\u001b[0m                                 Traceback (most recent call last)",
      "Cell \u001b[1;32mIn[30], line 1\u001b[0m\n\u001b[1;32m----> 1\u001b[0m \u001b[43mt\u001b[49m\u001b[38;5;241;43m.\u001b[39;49m\u001b[43mm1\u001b[49m\u001b[43m(\u001b[49m\u001b[38;5;241;43m10\u001b[39;49m\u001b[43m)\u001b[49m\n",
      "\u001b[1;31mTypeError\u001b[0m: Test.m1() takes 1 positional argument but 2 were given"
     ]
    }
   ],
   "source": [
    "t.m1(10)"
   ]
  },
  {
   "cell_type": "markdown",
   "metadata": {},
   "source": [
    "### Static method"
   ]
  },
  {
   "cell_type": "code",
   "execution_count": 31,
   "metadata": {},
   "outputs": [
    {
     "name": "stdout",
     "output_type": "stream",
     "text": [
      "some class\n"
     ]
    }
   ],
   "source": [
    "class Test:\n",
    "    def m1():\n",
    "        print(\"some class\")\n",
    "\n",
    "Test.m1()"
   ]
  },
  {
   "cell_type": "code",
   "execution_count": 32,
   "metadata": {},
   "outputs": [
    {
     "ename": "TypeError",
     "evalue": "Test.m1() missing 1 required positional argument: 'x'",
     "output_type": "error",
     "traceback": [
      "\u001b[1;31m---------------------------------------------------------------------------\u001b[0m",
      "\u001b[1;31mTypeError\u001b[0m                                 Traceback (most recent call last)",
      "Cell \u001b[1;32mIn[32], line 5\u001b[0m\n\u001b[0;32m      2\u001b[0m     \u001b[38;5;28;01mdef\u001b[39;00m \u001b[38;5;21mm1\u001b[39m(x):\n\u001b[0;32m      3\u001b[0m         \u001b[38;5;28mprint\u001b[39m(\u001b[38;5;124m\"\u001b[39m\u001b[38;5;124msome class\u001b[39m\u001b[38;5;124m\"\u001b[39m)\n\u001b[1;32m----> 5\u001b[0m \u001b[43mTest\u001b[49m\u001b[38;5;241;43m.\u001b[39;49m\u001b[43mm1\u001b[49m\u001b[43m(\u001b[49m\u001b[43m)\u001b[49m\n",
      "\u001b[1;31mTypeError\u001b[0m: Test.m1() missing 1 required positional argument: 'x'"
     ]
    }
   ],
   "source": [
    "class Test:\n",
    "    def m1(x):\n",
    "        print(\"some class\")\n",
    "\n",
    "Test.m1()"
   ]
  },
  {
   "cell_type": "code",
   "execution_count": 33,
   "metadata": {},
   "outputs": [
    {
     "name": "stdout",
     "output_type": "stream",
     "text": [
      "some class\n"
     ]
    }
   ],
   "source": [
    "Test.m1(10)"
   ]
  },
  {
   "cell_type": "code",
   "execution_count": null,
   "metadata": {},
   "outputs": [],
   "source": []
  }
 ],
 "metadata": {
  "kernelspec": {
   "display_name": "Python 3",
   "language": "python",
   "name": "python3"
  },
  "language_info": {
   "codemirror_mode": {
    "name": "ipython",
    "version": 3
   },
   "file_extension": ".py",
   "mimetype": "text/x-python",
   "name": "python",
   "nbconvert_exporter": "python",
   "pygments_lexer": "ipython3",
   "version": "3.10.0"
  }
 },
 "nbformat": 4,
 "nbformat_minor": 2
}
