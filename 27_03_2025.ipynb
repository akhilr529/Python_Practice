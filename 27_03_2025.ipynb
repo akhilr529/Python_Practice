{
 "cells": [
  {
   "cell_type": "markdown",
   "metadata": {},
   "source": [
    "### Accessing members of one class inside another class."
   ]
  },
  {
   "cell_type": "code",
   "execution_count": 1,
   "metadata": {},
   "outputs": [
    {
     "name": "stdout",
     "output_type": "stream",
     "text": [
      "Employee number : 529\n",
      "Employee name : Akhil\n",
      "Employee Salary : 38000\n"
     ]
    }
   ],
   "source": [
    "class Employee:\n",
    "    def __init__(self, eno, ename, esal):\n",
    "        self.eno = eno\n",
    "        self.ename = ename\n",
    "        self.esal = esal\n",
    "    def display(self):\n",
    "        print(\"Employee number :\", self.eno)\n",
    "        print(\"Employee name :\", self.ename)\n",
    "        print(\"Employee Salary :\", self.esal)\n",
    "class Manager:\n",
    "    def updateEmpSal(emp):\n",
    "        emp.esal = emp.esal + 10000\n",
    "        emp.display()\n",
    "\n",
    "\n",
    "\n",
    "emp = Employee(529, \"Akhil\", 28000)\n",
    "Manager.updateEmpSal(emp)"
   ]
  },
  {
   "cell_type": "markdown",
   "metadata": {},
   "source": [
    "### Inner class\n",
    "1. Without existing one type of object, if there is no chance of existing another type of object.\n",
    "2. Sometimes we can declare class inside a class, such type of classes are called inner class.\n",
    "3. Without existing outer class, ther is no chance of existing inner class object. Inner class is strongly associated with outer class object.\n",
    "\n",
    "### Advantages of Inner classes :-\n",
    "1. It improves modularity of the application.\n",
    "2. It improves security of the application."
   ]
  },
  {
   "cell_type": "code",
   "execution_count": null,
   "metadata": {},
   "outputs": [
    {
     "name": "stdout",
     "output_type": "stream",
     "text": [
      "Outer object creation.....\n",
      "------------\n",
      "Inner object creation....\n",
      "------------\n",
      "Inner class method..\n",
      "------------\n"
     ]
    }
   ],
   "source": [
    "class Outer:\n",
    "    def __init__(self):\n",
    "        print(\"Outer object creation.....\")\n",
    "    class Inner:\n",
    "        def __init__(self):\n",
    "            print(\"Inner object creation....\")\n",
    "        def m1(self):\n",
    "            print(\"Inner class method..\")\n",
    "o = Outer()\n",
    "print(\"------------\")\n",
    "i = o.Inner()\n",
    "print(\"------------\")\n",
    "i.m1()\n",
    "print(\"------------\")"
   ]
  },
  {
   "cell_type": "code",
   "execution_count": 8,
   "metadata": {},
   "outputs": [
    {
     "name": "stdout",
     "output_type": "stream",
     "text": [
      "Outer object creation.....\n",
      "Inner object creation....\n",
      "-------------\n",
      "Inner class method..\n"
     ]
    }
   ],
   "source": [
    "i = Outer().Inner()\n",
    "print(\"-------------\")\n",
    "i.m1()"
   ]
  },
  {
   "cell_type": "code",
   "execution_count": 9,
   "metadata": {},
   "outputs": [
    {
     "name": "stdout",
     "output_type": "stream",
     "text": [
      "Outer object creation.....\n",
      "Inner object creation....\n",
      "Inner class method..\n"
     ]
    }
   ],
   "source": [
    "Outer().Inner().m1()"
   ]
  },
  {
   "cell_type": "markdown",
   "metadata": {},
   "source": [
    "### Nesting of Inner class:"
   ]
  },
  {
   "cell_type": "code",
   "execution_count": 12,
   "metadata": {},
   "outputs": [
    {
     "name": "stdout",
     "output_type": "stream",
     "text": [
      "Outer class object creation..\n",
      "Inner class object creation\n",
      "Inner Inner class object creation.\n",
      "Nested Inner class\n"
     ]
    }
   ],
   "source": [
    "class Outer:\n",
    "    def __init__(self):\n",
    "        print(\"Outer class object creation..\")\n",
    "    class Inner:\n",
    "        def __init__(self):\n",
    "            print(\"Inner class object creation\")\n",
    "        class InnerInner:\n",
    "            def __init__(self):\n",
    "                print(\"Inner Inner class object creation.\")\n",
    "            def m1(self):\n",
    "                print(\"Nested Inner class\")\n",
    "\n",
    "o = Outer()\n",
    "i = o.Inner()\n",
    "ii = i.InnerInner()\n",
    "ii.m1()"
   ]
  },
  {
   "cell_type": "code",
   "execution_count": 13,
   "metadata": {},
   "outputs": [
    {
     "name": "stdout",
     "output_type": "stream",
     "text": [
      "Outer class object creation..\n",
      "Inner class object creation\n",
      "Inner Inner class object creation.\n",
      "Nested Inner class\n"
     ]
    }
   ],
   "source": [
    "Outer().Inner().InnerInner().m1()"
   ]
  },
  {
   "cell_type": "code",
   "execution_count": 15,
   "metadata": {},
   "outputs": [],
   "source": [
    "class Outer:\n",
    "    def __init__(self):\n",
    "        print(\"Outer class object creation..\")\n",
    "    class Inner:\n",
    "        def __init__(self):\n",
    "            print(\"Inner class object creation\")\n",
    "        class InnerInner:\n",
    "            def __init__(self):\n",
    "                print(\"Inner Inner class object creation.\")\n",
    "            def m1():\n",
    "                print(\"Nested Inner class\")"
   ]
  },
  {
   "cell_type": "code",
   "execution_count": 16,
   "metadata": {},
   "outputs": [
    {
     "name": "stdout",
     "output_type": "stream",
     "text": [
      "Outer class object creation..\n",
      "Inner class object creation\n",
      "Nested Inner class\n"
     ]
    }
   ],
   "source": [
    "Outer().Inner().InnerInner.m1()"
   ]
  },
  {
   "cell_type": "code",
   "execution_count": 17,
   "metadata": {},
   "outputs": [
    {
     "name": "stdout",
     "output_type": "stream",
     "text": [
      "Talking...\n",
      "Thinking\n"
     ]
    }
   ],
   "source": [
    "class Human:\n",
    "    class Head:\n",
    "        def talk(self):\n",
    "            print(\"Talking...\")\n",
    "        class Brain:\n",
    "            def think(self):\n",
    "                print(\"Thinking\")\n",
    "h = Human()\n",
    "head = h.Head()\n",
    "head.talk()\n",
    "b = head.Brain()\n",
    "b.think()"
   ]
  },
  {
   "cell_type": "code",
   "execution_count": 18,
   "metadata": {},
   "outputs": [
    {
     "name": "stdout",
     "output_type": "stream",
     "text": [
      "Hello, my self : Akhil\n",
      "I am full busy with\n",
      "Talking...\n",
      "Thinking....\n"
     ]
    }
   ],
   "source": [
    "class Human:\n",
    "    def __init__(self, name):\n",
    "        self.name = name\n",
    "        self.head = self.Head()\n",
    "    def info(self):\n",
    "        print(\"Hello, my self :\", self.name)\n",
    "        print(\"I am full busy with\")\n",
    "        self.head.talk()\n",
    "        self.head.brain.think()\n",
    "    class Head:\n",
    "        def __init__(self):\n",
    "            self.brain = self.Brain()\n",
    "        def talk(self):\n",
    "            print(\"Talking...\")\n",
    "        class Brain:\n",
    "            def think(self):\n",
    "                print(\"Thinking....\")\n",
    "\n",
    "\n",
    "human = Human(\"Akhil\")\n",
    "human.info()"
   ]
  },
  {
   "cell_type": "code",
   "execution_count": 19,
   "metadata": {},
   "outputs": [
    {
     "name": "stdout",
     "output_type": "stream",
     "text": [
      "Person object creation\n",
      "DOB object creeation\n",
      "Name : Akhil\n",
      "DOB : 30/12/2000\n"
     ]
    }
   ],
   "source": [
    "class Person:\n",
    "    def __init__(self,name, dd, mm, yyyy):\n",
    "        print(\"Person object creation\")\n",
    "        self.name = name\n",
    "        self.dob = self.Dob(dd, mm, yyyy)\n",
    "    def info(self):\n",
    "        print(\"Name :\", self.name)\n",
    "        self.dob.display()\n",
    "    class Dob:\n",
    "        def __init__(self, dd, mm, yyyy):\n",
    "            print(\"DOB object creeation\")\n",
    "            self.dd = dd\n",
    "            self.mm = mm\n",
    "            self.yyyy = yyyy\n",
    "        def display(self):\n",
    "            print(\"DOB : {}/{}/{}\".format(self.dd,self.mm,self.yyyy))\n",
    "\n",
    "\n",
    "person = Person(\"Akhil\", 30,12,2000)\n",
    "person.info()"
   ]
  },
  {
   "cell_type": "markdown",
   "metadata": {},
   "source": [
    "### Nested Methods\n",
    "1. We can define a method inside another method, such type of methods are called Nested methods.\n",
    "2. Inside a method if any functionality repeatedly required, that functionality we can define as a seperate method and we can call that method any number of times based on our requirement.\n",
    "\n",
    "### Advantages of Nested methods:-\n",
    "1. Code Reuseability \n",
    "2. Modularity of the application will be improved."
   ]
  },
  {
   "cell_type": "markdown",
   "metadata": {},
   "source": [
    "### Garbage Collection Information\n",
    "1. In languages like C++, Programmer is responsible for both creation and destruction of objects. Usually the programmer taking very much care while creating objects, but neglecting destruction of useless objects. Because of his negligence, total memory may filled with useless objects which creates memory problems and total application will be down with these memory problems.\n",
    "2. But in python, we have some assistant which is always running in the background to destroy useless objects, because of this assistant, the chance of failing python program with memory problems in very less. This assistant is nothing but Garbage collector.\n",
    "3. Hence, the main objective of Garbage collector is to destroy useless objects.\n",
    "\n",
    "### When object eligible for Garbage Collection:-\n",
    "1. If the object does not contain any refernce variable then only it is eligible for Garbage collection, i.e., if the reference count is zero then only object eligible for Garbage collection.\n",
    "\n",
    "#### How to enable and disable Garbage collector in our program.\n",
    "- gc module"
   ]
  },
  {
   "cell_type": "code",
   "execution_count": 20,
   "metadata": {},
   "outputs": [
    {
     "name": "stdout",
     "output_type": "stream",
     "text": [
      "True\n",
      "False\n",
      "True\n"
     ]
    }
   ],
   "source": [
    "import gc\n",
    "\n",
    "print(gc.isenabled())\n",
    "gc.disable()\n",
    "print(gc.isenabled())\n",
    "gc.enable()\n",
    "print(gc.isenabled())"
   ]
  },
  {
   "cell_type": "markdown",
   "metadata": {},
   "source": [
    "#### Advantages\n",
    "1. Memory problem\n",
    "2. Very less objects"
   ]
  },
  {
   "cell_type": "markdown",
   "metadata": {},
   "source": [
    "### Destructor:-\n",
    "\n",
    "1. Destructor is a special method and the name should be '_._del__()\n",
    "2. Just before destroying an object, Garbage Collector always calls destructor to perform cleanup activities(like Resources deallocation activities like close db connection etc)\n",
    "3. Once destructor execution completes then Garbage Collector automatically destroys that object.\n",
    "\n",
    "__Important Conclusion :- Destructor__\n",
    "\n",
    "1. The job of destructor is not to destroy object and it is just to perform clean up activities. Destroying object will take care by PVM."
   ]
  },
  {
   "cell_type": "code",
   "execution_count": null,
   "metadata": {},
   "outputs": [],
   "source": []
  }
 ],
 "metadata": {
  "kernelspec": {
   "display_name": "Python 3",
   "language": "python",
   "name": "python3"
  },
  "language_info": {
   "codemirror_mode": {
    "name": "ipython",
    "version": 3
   },
   "file_extension": ".py",
   "mimetype": "text/x-python",
   "name": "python",
   "nbconvert_exporter": "python",
   "pygments_lexer": "ipython3",
   "version": "3.10.0"
  }
 },
 "nbformat": 4,
 "nbformat_minor": 2
}
