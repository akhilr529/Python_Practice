{
 "cells": [
  {
   "cell_type": "markdown",
   "metadata": {},
   "source": [
    "### TO find index of all occurences:-"
   ]
  },
  {
   "cell_type": "code",
   "execution_count": 2,
   "metadata": {},
   "outputs": [
    {
     "name": "stdout",
     "output_type": "stream",
     "text": [
      "ABC present at index 0\n",
      "ABC present at index 3\n",
      "ABC present at index 6\n",
      "The no. fo occurances :  3\n",
      "3\n"
     ]
    }
   ],
   "source": [
    "s=\"ABCABCABCA\"\n",
    "subs=\"ABC\"\n",
    "i=s.find(subs)\n",
    "if i==-1:\n",
    "    print(\"Substring not found\")\n",
    "count = 0\n",
    "while i != -1:\n",
    "    print(\"{} present at index {}\".format(subs,i))\n",
    "    i = s.find(subs, i+ len(subs), len(s))\n",
    "    count = count+1\n",
    "print(\"The no. fo occurances : \", s.count(subs))\n",
    "print(count)\n"
   ]
  },
  {
   "cell_type": "markdown",
   "metadata": {},
   "source": [
    "### Replacing a string with another string"
   ]
  },
  {
   "cell_type": "code",
   "execution_count": 3,
   "metadata": {},
   "outputs": [
    {
     "name": "stdout",
     "output_type": "stream",
     "text": [
      "BBBBBBB\n"
     ]
    }
   ],
   "source": [
    "s=\"ABABABA\"\n",
    "s1=s.replace(\"A\",\"B\")\n",
    "print(s1)"
   ]
  },
  {
   "cell_type": "code",
   "execution_count": 4,
   "metadata": {},
   "outputs": [
    {
     "name": "stdout",
     "output_type": "stream",
     "text": [
      "2575312244656\n",
      "2575330232816\n",
      "BBBBBBB\n"
     ]
    }
   ],
   "source": [
    "s=\"ABABABA\"\n",
    "print(id(s))\n",
    "s=s.replace(\"A\",\"B\")\n",
    "print(id(s))\n",
    "print(s1)"
   ]
  },
  {
   "cell_type": "markdown",
   "metadata": {},
   "source": [
    "### Splitting of strings:-"
   ]
  },
  {
   "cell_type": "code",
   "execution_count": 5,
   "metadata": {},
   "outputs": [
    {
     "name": "stdout",
     "output_type": "stream",
     "text": [
      "['Durga', 'Software', 'Solutions']\n"
     ]
    }
   ],
   "source": [
    "s= \"Durga Software Solutions\"\n",
    "l= s.split()\n",
    "print(l)"
   ]
  },
  {
   "cell_type": "code",
   "execution_count": 6,
   "metadata": {},
   "outputs": [
    {
     "name": "stdout",
     "output_type": "stream",
     "text": [
      "['18', '03', '2025']\n"
     ]
    }
   ],
   "source": [
    "d=\"18-03-2025\"\n",
    "l=d.split(\"-\")\n",
    "print(l)"
   ]
  },
  {
   "cell_type": "markdown",
   "metadata": {},
   "source": [
    "### Joining of strings:-"
   ]
  },
  {
   "cell_type": "code",
   "execution_count": 7,
   "metadata": {},
   "outputs": [
    {
     "name": "stdout",
     "output_type": "stream",
     "text": [
      "Durga Software Solutions\n"
     ]
    }
   ],
   "source": [
    "l=['Durga', 'Software', 'Solutions']\n",
    "s= \" \".join(l)\n",
    "print(s)"
   ]
  },
  {
   "cell_type": "code",
   "execution_count": 8,
   "metadata": {},
   "outputs": [
    {
     "name": "stdout",
     "output_type": "stream",
     "text": [
      "18-03-2025\n"
     ]
    }
   ],
   "source": [
    "l=['18', '03', '2025']\n",
    "s=\"-\".join(l)\n",
    "print(s)"
   ]
  },
  {
   "cell_type": "markdown",
   "metadata": {},
   "source": [
    "### Changing the case of characters of the string"
   ]
  },
  {
   "cell_type": "code",
   "execution_count": 9,
   "metadata": {},
   "outputs": [
    {
     "name": "stdout",
     "output_type": "stream",
     "text": [
      "LEARNING PYTHON IS VERY EASY\n",
      "learning python is very easy\n",
      "lEARNING pYTHON IS VERY EASY\n",
      "Learning Python Is Very Easy\n",
      "Learning python is very easy\n"
     ]
    }
   ],
   "source": [
    "s= \"Learning Python is very easy\"\n",
    "print(s.upper())\n",
    "print(s.lower())\n",
    "print(s.swapcase())\n",
    "print(s.title())\n",
    "print(s.capitalize())"
   ]
  },
  {
   "cell_type": "code",
   "execution_count": 10,
   "metadata": {},
   "outputs": [
    {
     "name": "stdout",
     "output_type": "stream",
     "text": [
      "Both strings are equal\n"
     ]
    }
   ],
   "source": [
    "#WAP to check whether the given 2 strings are equal or not by ignoring case\n",
    "s1 = input(\"Enter a string\")\n",
    "s2 = input(\"Enter a string\")\n",
    "if s1.lower()==s2.lower():\n",
    "    print(\"Both strings are equal\")\n",
    "else:\n",
    "    print(\"Both strings are not equal\")"
   ]
  },
  {
   "cell_type": "code",
   "execution_count": 11,
   "metadata": {},
   "outputs": [
    {
     "name": "stdout",
     "output_type": "stream",
     "text": [
      "Valid\n"
     ]
    }
   ],
   "source": [
    "#WAP to check whether provided username and password are valid or not? username is not case sensitive, but password should be case sensitive.\n",
    "username = input(\"Enter username\")\n",
    "password = input(\"Enter password\")\n",
    "if username.lower() == \"akhil\" and password==\"Sa@3012\":\n",
    "    print(\"Valid\")\n",
    "else:\n",
    "    print(\"Not valid\")"
   ]
  },
  {
   "cell_type": "code",
   "execution_count": 13,
   "metadata": {},
   "outputs": [
    {
     "name": "stdout",
     "output_type": "stream",
     "text": [
      "AkhiL\n"
     ]
    }
   ],
   "source": [
    "#WAP to convert first and last characters as upper case and all remaining characters should be lower case of the given string\n",
    "s= input(\"Enter a string\")\n",
    "output = s[0].upper() + s[1:len(s)-1].lower()+ s[-1].upper()\n",
    "print(output)"
   ]
  },
  {
   "cell_type": "markdown",
   "metadata": {},
   "source": [
    "### Checking starting and ending part of the string"
   ]
  },
  {
   "cell_type": "code",
   "execution_count": 14,
   "metadata": {},
   "outputs": [
    {
     "name": "stdout",
     "output_type": "stream",
     "text": [
      "True\n",
      "True\n",
      "False\n",
      "True\n"
     ]
    }
   ],
   "source": [
    "s= \"Learning Python is very easy\"\n",
    "print(s.startswith(\"Learning\"))\n",
    "print(s.endswith(\"easy\"))\n",
    "print(s.startswith(\"lea\"))\n",
    "print(s.startswith(\"Lea\"))"
   ]
  },
  {
   "cell_type": "markdown",
   "metadata": {},
   "source": [
    "### To check type of characters present in a string"
   ]
  },
  {
   "cell_type": "code",
   "execution_count": 20,
   "metadata": {},
   "outputs": [
    {
     "name": "stdout",
     "output_type": "stream",
     "text": [
      "It is alpha number characters\n",
      "It is a digit\n"
     ]
    }
   ],
   "source": [
    "#WAP to check the type of character entered from the keyboard\n",
    "s=input(\"Enter any character\")\n",
    "if s.isalnum():\n",
    "    print(\"It is alpha number characters\")\n",
    "    if s.isalpha():\n",
    "        print(\"It is alphabet characters\")\n",
    "        if s.islower():\n",
    "            print(\"It is lower case alphabet characters\")\n",
    "        else:\n",
    "            print(\"It is upper case alphabet characters\")\n",
    "    else:\n",
    "        print(\"It is a digit\")\n",
    "elif s.isspace():\n",
    "    print(\"It is a space character\")\n",
    "else:\n",
    "    print(\"It is non-space space special characters\")"
   ]
  },
  {
   "cell_type": "markdown",
   "metadata": {},
   "source": [
    "## String Methods:\n",
    "\n",
    "### Removing spaces from the string\n",
    "\n",
    "1. strip() ---> To remove spaces present at both sides of the string\n",
    "2. rstrip() ---> To remove spaces present at end of the string\n",
    "3. lstrip() --> to remove spaces present at begining of the string\n",
    "\n",
    "-----\n",
    "\n",
    "### Finding substring\n",
    "\n",
    "##### Total 4 methods\n",
    "1. find()\n",
    "2. rfind()\n",
    "3. index()\n",
    "3. rindex()\n",
    "\n",
    "1. s.find(substring)\n",
    "- It returns the index of the first occurance of the given substring\n",
    "- If it is not available then it returns -1\n",
    "\n",
    "2. s.find(substring, begin, end)\n",
    "- To search  in the boundary\n",
    "- It will always search for the given substring from begin index to end-1 index\n",
    "\n",
    "3. s.index(substring)\n",
    "- It returns the index of first occurance of given substring\n",
    "- if it is not available then we will get ValueError\n",
    "\n",
    "4. s.index(substring, begin, end)\n",
    "- To search in the boundary\n",
    "- It will alwasys search for the given substring from the begin index to end-1 index\n",
    "- It returns index of first occurence of given substring, if it is not available then we will get ValueError\n",
    "\n",
    "-------\n",
    "\n",
    "### Counting of substring\n",
    "\n",
    "1. s.count(substring)\n",
    "- Returns the number of occurences of the given substring in the total string\n",
    "\n",
    "2. s.count(substring, begin , end)\n",
    "- Returns the number of occurences of the given substring from begin index to end-1 index\n",
    "\n",
    "-----\n",
    "\n",
    "### Replacing a string with another\n",
    "\n",
    "1. s.replace(oldstring, newstring)\n",
    "- Inside s, every occurence of olstring will be replaced with new string\n",
    "\n",
    "-----\n",
    "### Splitting of strings\n",
    "1. s.split(separator)\n",
    "- To split the given string s according to the given seperator\n",
    "- The default separator is space\n",
    "\n",
    "-----\n",
    "### Joining of string\n",
    "1. s=separator.join(group of strings)\n",
    "- To join group of strings(list or tuple) according to given separator\n",
    "\n",
    "-----\n",
    "### Changing case of a string\n",
    "\n",
    "1. uppper()\n",
    "- To convert all characters to upper case\n",
    "2. lower()\n",
    "- To convert all characters to lower case\n",
    "3. swapcase()\n",
    "- To convert lower case characters to upper case and upper case to lower case\n",
    "4. title()\n",
    "- To convert all characters to title case, i.e., first character in every word should be upper case and all remaining should be in lower case\n",
    "5. capitalize()\n",
    "- Only first character will be converted to upper case and all remaining characters can be converted to lower case.\n",
    "\n",
    "-----\n",
    "### Checking starting and ending part of the string\n",
    "1. s.startswith(substring)\n",
    "- Returns True if the string starts with provided substring\n",
    "2. s.endswith(substring)\n",
    "- Returns True if the string ends with the provided substring\n",
    "\n",
    "-----\n",
    "### To check type of characters present in a string\n",
    "1. isalnum()\n",
    "- Return True if all characters are alpha numeric\n",
    "-       (a-z, A-Z, 0-9)\n",
    "2. isalpha()\n",
    "- Returns True if all characters are only alphabets\n",
    "-       (a-z, A-Z)\n",
    "3. isdigit()\n",
    "- Retruns True if all characters are only digits\n",
    "-       (0-9)\n",
    "4. islower()\n",
    "- Returns True if all characters are lowercase alphabet symbols\n",
    "5. isupper()\n",
    "- Returns True if all characters are uppercase alphabet symbols\n",
    "6. istitle()\n",
    "- Returns True if string is in title case\n",
    "7. issapace()\n",
    "- Returns True if string contains only spaces"
   ]
  },
  {
   "cell_type": "markdown",
   "metadata": {},
   "source": [
    "-----------------"
   ]
  },
  {
   "cell_type": "markdown",
   "metadata": {},
   "source": [
    "## List data structure:-"
   ]
  },
  {
   "cell_type": "markdown",
   "metadata": {},
   "source": [
    "1. Insertion order preserved\n",
    "2. Allowed duplicate objects\n",
    "3. Heterogeneous objects are allowed\n",
    "4. List is Dynamic\n",
    "5. Mutable\n",
    "6. []"
   ]
  },
  {
   "cell_type": "markdown",
   "metadata": {},
   "source": [
    "#### Creation of list object"
   ]
  },
  {
   "cell_type": "code",
   "execution_count": null,
   "metadata": {},
   "outputs": [
    {
     "name": "stdout",
     "output_type": "stream",
     "text": [
      "<class 'list'>\n"
     ]
    }
   ],
   "source": [
    "#1. Empty list object\n",
    "l=[]\n",
    "print(type(l))"
   ]
  },
  {
   "cell_type": "code",
   "execution_count": null,
   "metadata": {},
   "outputs": [
    {
     "name": "stdout",
     "output_type": "stream",
     "text": [
      "<class 'list'>\n"
     ]
    }
   ],
   "source": [
    "#2. If we know the data already\n",
    "l=[10,20,30,40]\n",
    "print(type(l))"
   ]
  },
  {
   "cell_type": "code",
   "execution_count": 3,
   "metadata": {},
   "outputs": [
    {
     "name": "stdout",
     "output_type": "stream",
     "text": [
      "<class 'list'>\n"
     ]
    }
   ],
   "source": [
    "#3. Dynamic input\n",
    "l= eval(input(\"Enter list\"))\n",
    "print(type(l))"
   ]
  },
  {
   "cell_type": "code",
   "execution_count": 5,
   "metadata": {},
   "outputs": [
    {
     "name": "stdout",
     "output_type": "stream",
     "text": [
      "['a', 'k', 'h', 'i', 'l']\n",
      "<class 'list'>\n"
     ]
    }
   ],
   "source": [
    "#4. By using list()\n",
    "l= list(\"akhil\")\n",
    "print(l)\n",
    "print(type(l))"
   ]
  },
  {
   "cell_type": "code",
   "execution_count": 6,
   "metadata": {},
   "outputs": [
    {
     "name": "stdout",
     "output_type": "stream",
     "text": [
      "[0, 1, 2, 3, 4, 5, 6, 7, 8, 9]\n"
     ]
    }
   ],
   "source": [
    "l=list(range(10))\n",
    "print(l)"
   ]
  },
  {
   "cell_type": "code",
   "execution_count": 7,
   "metadata": {},
   "outputs": [
    {
     "name": "stdout",
     "output_type": "stream",
     "text": [
      "['Learning', 'Python', 'is', 'easy']\n",
      "<class 'list'>\n"
     ]
    }
   ],
   "source": [
    "#5. split()\n",
    "s= \"Learning Python is easy\"\n",
    "l=s.split()\n",
    "print(l)\n",
    "print(type(l))"
   ]
  },
  {
   "cell_type": "markdown",
   "metadata": {},
   "source": [
    "#### Accessing elements of list\n",
    "1. By using index\n",
    "2. By using slice operator"
   ]
  },
  {
   "cell_type": "code",
   "execution_count": 8,
   "metadata": {},
   "outputs": [
    {
     "name": "stdout",
     "output_type": "stream",
     "text": [
      "10\n",
      "40\n"
     ]
    },
    {
     "ename": "IndexError",
     "evalue": "list index out of range",
     "output_type": "error",
     "traceback": [
      "\u001b[1;31m---------------------------------------------------------------------------\u001b[0m",
      "\u001b[1;31mIndexError\u001b[0m                                Traceback (most recent call last)",
      "Cell \u001b[1;32mIn[8], line 4\u001b[0m\n\u001b[0;32m      2\u001b[0m \u001b[38;5;28mprint\u001b[39m(l[\u001b[38;5;241m0\u001b[39m])\n\u001b[0;32m      3\u001b[0m \u001b[38;5;28mprint\u001b[39m(l[\u001b[38;5;241m-\u001b[39m\u001b[38;5;241m1\u001b[39m])\n\u001b[1;32m----> 4\u001b[0m \u001b[38;5;28mprint\u001b[39m(\u001b[43ml\u001b[49m\u001b[43m[\u001b[49m\u001b[38;5;241;43m100\u001b[39;49m\u001b[43m]\u001b[49m)\n",
      "\u001b[1;31mIndexError\u001b[0m: list index out of range"
     ]
    }
   ],
   "source": [
    "l=[10,20,30,40]\n",
    "print(l[0])\n",
    "print(l[-1])\n",
    "print(l[100])"
   ]
  },
  {
   "cell_type": "markdown",
   "metadata": {},
   "source": [
    "#### Slice operator\n",
    "\n",
    "- Step value can be +ve or -ve\n",
    "- If step value is +ve then we have to consider forward direction(from left to right) from begin index to end-1\n",
    "- If step value is -ve then we have to consider backward direction(from right to left) from begin index to end+1 index\n",
    "\n",
    "       Note:-\n",
    "1. In forward direction if end value is 0 then result is always empty\n",
    "2. In backward direction if end value is -1 then result is always empty\n",
    "- Either froward direction or backward direction, we can take both +ve adn -ve values for begin to end value\n",
    "\n",
    "      In Forward direction:-\n",
    "- default value for begin:-1\n",
    "- default value for end :- len(list)\n",
    "\n",
    "      In backward direction:-\n",
    "- default value for begin :- -1\n",
    "- default value for end :- -(len(list)+1)"
   ]
  },
  {
   "cell_type": "code",
   "execution_count": 10,
   "metadata": {},
   "outputs": [
    {
     "name": "stdout",
     "output_type": "stream",
     "text": [
      "[30, 40, 50, 60, 70]\n"
     ]
    }
   ],
   "source": [
    "l=[10,20,30,40,50,60,70,80,90,100]\n",
    "print(l[2:7])"
   ]
  },
  {
   "cell_type": "code",
   "execution_count": 11,
   "metadata": {},
   "outputs": [
    {
     "data": {
      "text/plain": [
       "[30, 50, 70]"
      ]
     },
     "execution_count": 11,
     "metadata": {},
     "output_type": "execute_result"
    }
   ],
   "source": [
    "l[2:7:2]"
   ]
  },
  {
   "cell_type": "code",
   "execution_count": 12,
   "metadata": {},
   "outputs": [
    {
     "data": {
      "text/plain": [
       "[50, 70, 90]"
      ]
     },
     "execution_count": 12,
     "metadata": {},
     "output_type": "execute_result"
    }
   ],
   "source": [
    "l[4::2]"
   ]
  },
  {
   "cell_type": "code",
   "execution_count": 13,
   "metadata": {},
   "outputs": [
    {
     "data": {
      "text/plain": [
       "[]"
      ]
     },
     "execution_count": 13,
     "metadata": {},
     "output_type": "execute_result"
    }
   ],
   "source": [
    "l[4:0:2]"
   ]
  },
  {
   "cell_type": "code",
   "execution_count": 14,
   "metadata": {},
   "outputs": [
    {
     "data": {
      "text/plain": [
       "[50, 60, 70, 80, 90, 100]"
      ]
     },
     "execution_count": 14,
     "metadata": {},
     "output_type": "execute_result"
    }
   ],
   "source": [
    "l[4:10000]"
   ]
  },
  {
   "cell_type": "code",
   "execution_count": 15,
   "metadata": {},
   "outputs": [
    {
     "data": {
      "text/plain": [
       "[10, 20, 30, 40, 50, 60, 70, 80, 90, 100]"
      ]
     },
     "execution_count": 15,
     "metadata": {},
     "output_type": "execute_result"
    }
   ],
   "source": [
    "l[::1]"
   ]
  },
  {
   "cell_type": "code",
   "execution_count": 16,
   "metadata": {},
   "outputs": [
    {
     "data": {
      "text/plain": [
       "[100, 90, 80, 70, 60, 50, 40, 30, 20, 10]"
      ]
     },
     "execution_count": 16,
     "metadata": {},
     "output_type": "execute_result"
    }
   ],
   "source": [
    "l[::-1]"
   ]
  },
  {
   "cell_type": "markdown",
   "metadata": {},
   "source": [
    "#### Traversing elements of list"
   ]
  },
  {
   "cell_type": "code",
   "execution_count": 17,
   "metadata": {},
   "outputs": [
    {
     "name": "stdout",
     "output_type": "stream",
     "text": [
      "0--1--2--3--4--5--6--7--8--9--10--"
     ]
    }
   ],
   "source": [
    "l=[0,1,2,3,4,5,6,7,8,9,10]\n",
    "#By using while loop\n",
    "i = 0\n",
    "while i<len(l):\n",
    "    print(l[i], end=\"--\")\n",
    "    i = i+1"
   ]
  },
  {
   "cell_type": "code",
   "execution_count": 18,
   "metadata": {},
   "outputs": [
    {
     "name": "stdout",
     "output_type": "stream",
     "text": [
      "0..1..2..3..4..5..6..7..8..9..10.."
     ]
    }
   ],
   "source": [
    "#By using for loop\n",
    "for i in l:\n",
    "    print(i, end=\"..\")"
   ]
  },
  {
   "cell_type": "code",
   "execution_count": 19,
   "metadata": {},
   "outputs": [
    {
     "name": "stdout",
     "output_type": "stream",
     "text": [
      "0==2==4==6==8==10=="
     ]
    }
   ],
   "source": [
    "#3. To print only even numbers\n",
    "for x in l:\n",
    "    if x%2 ==0:\n",
    "        print(x, end=\"==\")"
   ]
  },
  {
   "cell_type": "code",
   "execution_count": 20,
   "metadata": {},
   "outputs": [
    {
     "name": "stdout",
     "output_type": "stream",
     "text": [
      "The element present at +ve index :0 and -ve index :-6 is :10\n",
      "The element present at +ve index :1 and -ve index :-5 is :20\n",
      "The element present at +ve index :2 and -ve index :-4 is :30\n",
      "The element present at +ve index :3 and -ve index :-3 is :40\n",
      "The element present at +ve index :4 and -ve index :-2 is :50\n",
      "The element present at +ve index :5 and -ve index :-1 is :60\n"
     ]
    }
   ],
   "source": [
    "#To print elements of list index wise\n",
    "l=[10,20,30,40,50,60]\n",
    "i=0\n",
    "while i<len(l):\n",
    "    print(f\"The element present at +ve index :{i} and -ve index :{i-len(l)} is :{l[i]}\")\n",
    "    i=i+1"
   ]
  },
  {
   "cell_type": "markdown",
   "metadata": {},
   "source": [
    "#### Mathematical operators for list\n",
    "1. concatination operator (+)\n",
    "2. Repetition operator (*)"
   ]
  },
  {
   "cell_type": "code",
   "execution_count": 21,
   "metadata": {},
   "outputs": [
    {
     "name": "stdout",
     "output_type": "stream",
     "text": [
      "[10, 20, 30, 40, 50, 60]\n"
     ]
    }
   ],
   "source": [
    "#1. Concatination operator(+)\n",
    "l1= [10,20,30]\n",
    "l2=[40,50,60]\n",
    "l3 = l1+l2\n",
    "print(l3)"
   ]
  },
  {
   "cell_type": "code",
   "execution_count": 22,
   "metadata": {},
   "outputs": [
    {
     "ename": "TypeError",
     "evalue": "can only concatenate list (not \"int\") to list",
     "output_type": "error",
     "traceback": [
      "\u001b[1;31m---------------------------------------------------------------------------\u001b[0m",
      "\u001b[1;31mTypeError\u001b[0m                                 Traceback (most recent call last)",
      "Cell \u001b[1;32mIn[22], line 2\u001b[0m\n\u001b[0;32m      1\u001b[0m l1\u001b[38;5;241m=\u001b[39m[\u001b[38;5;241m10\u001b[39m,\u001b[38;5;241m20\u001b[39m,\u001b[38;5;241m30\u001b[39m]\n\u001b[1;32m----> 2\u001b[0m l2 \u001b[38;5;241m=\u001b[39m \u001b[43ml1\u001b[49m\u001b[38;5;241;43m+\u001b[39;49m\u001b[38;5;241;43m40\u001b[39;49m\n",
      "\u001b[1;31mTypeError\u001b[0m: can only concatenate list (not \"int\") to list"
     ]
    }
   ],
   "source": [
    "l1=[10,20,30]\n",
    "l2 = l1+40"
   ]
  },
  {
   "cell_type": "code",
   "execution_count": 24,
   "metadata": {},
   "outputs": [
    {
     "name": "stdout",
     "output_type": "stream",
     "text": [
      "[10, 20, 30, 40]\n"
     ]
    }
   ],
   "source": [
    "l2=l1+[40]\n",
    "print(l2)"
   ]
  },
  {
   "cell_type": "code",
   "execution_count": 25,
   "metadata": {},
   "outputs": [
    {
     "name": "stdout",
     "output_type": "stream",
     "text": [
      "[10, 20, 10, 20]\n"
     ]
    }
   ],
   "source": [
    "#Repetition operator(*)\n",
    "l1=[10,20]\n",
    "l2=l1*2\n",
    "print(l2)"
   ]
  },
  {
   "cell_type": "code",
   "execution_count": 26,
   "metadata": {},
   "outputs": [
    {
     "ename": "TypeError",
     "evalue": "can't multiply sequence by non-int of type 'list'",
     "output_type": "error",
     "traceback": [
      "\u001b[1;31m---------------------------------------------------------------------------\u001b[0m",
      "\u001b[1;31mTypeError\u001b[0m                                 Traceback (most recent call last)",
      "Cell \u001b[1;32mIn[26], line 1\u001b[0m\n\u001b[1;32m----> 1\u001b[0m l2\u001b[38;5;241m=\u001b[39m\u001b[43ml1\u001b[49m\u001b[38;5;241;43m*\u001b[39;49m\u001b[43ml1\u001b[49m\n",
      "\u001b[1;31mTypeError\u001b[0m: can't multiply sequence by non-int of type 'list'"
     ]
    }
   ],
   "source": [
    "l2=l1*l1"
   ]
  },
  {
   "cell_type": "code",
   "execution_count": 27,
   "metadata": {},
   "outputs": [
    {
     "name": "stdout",
     "output_type": "stream",
     "text": [
      "[10, 20, 30, 40]\n",
      "[10, 20, 30, 40, 10, 20, 30, 40, 10, 20, 30, 40]\n"
     ]
    }
   ],
   "source": [
    "l1=[10,20]\n",
    "l2=[30,40]\n",
    "l3=l1+l2\n",
    "print(l3)\n",
    "l4=l3*3\n",
    "print(l4)"
   ]
  },
  {
   "cell_type": "markdown",
   "metadata": {},
   "source": [
    "#### Equality operator for the list objects\n",
    "        ==, !=\n",
    "\n",
    "1. The number of elements must be same\n",
    "2. The order of elements must be same\n",
    "3. The content must be same including case"
   ]
  },
  {
   "cell_type": "code",
   "execution_count": 28,
   "metadata": {},
   "outputs": [
    {
     "name": "stdout",
     "output_type": "stream",
     "text": [
      "True\n",
      "False\n",
      "False\n",
      "True\n"
     ]
    }
   ],
   "source": [
    "l1=[\"Dog\", \"Cat\", \"Rat\"]\n",
    "l2 =[\"Dog\", \"Cat\", \"Rat\"]\n",
    "l3=[\"DOG\", \"CAT\", \"RAT\"]\n",
    "l4 = [\"Cat\", \"Rat\", \"Dog\"]\n",
    "print(l1==l2)\n",
    "print(l1==l3)\n",
    "print(l1==l4)\n",
    "print(l1!=l4)"
   ]
  },
  {
   "cell_type": "markdown",
   "metadata": {},
   "source": [
    "#### Relational operators\n",
    "        <,>,<=,>="
   ]
  },
  {
   "cell_type": "code",
   "execution_count": 29,
   "metadata": {},
   "outputs": [
    {
     "name": "stdout",
     "output_type": "stream",
     "text": [
      "True\n",
      "True\n",
      "False\n",
      "False\n"
     ]
    }
   ],
   "source": [
    "l1=[10,20,30,40]\n",
    "l2=[50,60]\n",
    "print(l1<l2)\n",
    "print(l1<=l2)\n",
    "print(l1>l2)\n",
    "print(l1>=l2)"
   ]
  },
  {
   "cell_type": "code",
   "execution_count": 32,
   "metadata": {},
   "outputs": [
    {
     "name": "stdout",
     "output_type": "stream",
     "text": [
      "True\n"
     ]
    }
   ],
   "source": [
    "l1=[\"Ramba\", \"Ramya\"]\n",
    "l2 = [\"Roja\", \"Sunny\"]\n",
    "print(l1<l2)"
   ]
  },
  {
   "cell_type": "markdown",
   "metadata": {},
   "source": [
    "#### Membership operators\n",
    "        in, not in"
   ]
  },
  {
   "cell_type": "code",
   "execution_count": 33,
   "metadata": {},
   "outputs": [
    {
     "name": "stdout",
     "output_type": "stream",
     "text": [
      "True\n",
      "False\n",
      "True\n"
     ]
    }
   ],
   "source": [
    "l1=[10,20,30,40]\n",
    "print(10 in l1)\n",
    "print(100 in l1)\n",
    "print(50 not in l1)"
   ]
  },
  {
   "cell_type": "markdown",
   "metadata": {},
   "source": [
    "#### Important methods and functions for list\n"
   ]
  },
  {
   "cell_type": "code",
   "execution_count": 34,
   "metadata": {},
   "outputs": [
    {
     "name": "stdout",
     "output_type": "stream",
     "text": [
      "4\n",
      "[10, 20, 30, 40]\n",
      "[10]\n"
     ]
    }
   ],
   "source": [
    "l=[10,20,30,40]\n",
    "print(len(l))\n",
    "print(sorted(l))\n",
    "l=[]\n",
    "l.append(10)\n",
    "print(l)"
   ]
  },
  {
   "cell_type": "markdown",
   "metadata": {},
   "source": [
    "#### To get information about list:-\n",
    "1. len()\n",
    "- Returns the number of elements present in the list\n",
    "2. count()\n",
    "- Returns the number of occurrences of specified elements present in the list\n",
    "3. index()\n",
    "- Returns index of the first occurence of the specified item"
   ]
  },
  {
   "cell_type": "code",
   "execution_count": 35,
   "metadata": {},
   "outputs": [
    {
     "name": "stdout",
     "output_type": "stream",
     "text": [
      "2\n",
      "1\n",
      "0\n"
     ]
    }
   ],
   "source": [
    "l=[10,20,30,10,20,20,40]\n",
    "print(l.count(10))\n",
    "print(l.count(40))\n",
    "print(l.count(50))"
   ]
  },
  {
   "cell_type": "markdown",
   "metadata": {},
   "source": [
    "#### 3. index()"
   ]
  },
  {
   "cell_type": "code",
   "execution_count": 36,
   "metadata": {},
   "outputs": [
    {
     "name": "stdout",
     "output_type": "stream",
     "text": [
      "0\n"
     ]
    }
   ],
   "source": [
    "l=[1,2,1,2,3,4]\n",
    "print(l.index(1))"
   ]
  },
  {
   "cell_type": "code",
   "execution_count": 37,
   "metadata": {},
   "outputs": [
    {
     "name": "stdout",
     "output_type": "stream",
     "text": [
      "1\n"
     ]
    },
    {
     "ename": "ValueError",
     "evalue": "28 is not in list",
     "output_type": "error",
     "traceback": [
      "\u001b[1;31m---------------------------------------------------------------------------\u001b[0m",
      "\u001b[1;31mValueError\u001b[0m                                Traceback (most recent call last)",
      "Cell \u001b[1;32mIn[37], line 2\u001b[0m\n\u001b[0;32m      1\u001b[0m \u001b[38;5;28mprint\u001b[39m(l\u001b[38;5;241m.\u001b[39mindex(\u001b[38;5;241m2\u001b[39m))\n\u001b[1;32m----> 2\u001b[0m \u001b[38;5;28mprint\u001b[39m(\u001b[43ml\u001b[49m\u001b[38;5;241;43m.\u001b[39;49m\u001b[43mindex\u001b[49m\u001b[43m(\u001b[49m\u001b[38;5;241;43m28\u001b[39;49m\u001b[43m)\u001b[49m)\n",
      "\u001b[1;31mValueError\u001b[0m: 28 is not in list"
     ]
    }
   ],
   "source": [
    "print(l.index(2))\n",
    "print(l.index(28))"
   ]
  },
  {
   "cell_type": "code",
   "execution_count": 39,
   "metadata": {},
   "outputs": [
    {
     "name": "stdout",
     "output_type": "stream",
     "text": [
      "3 present at index 4\n"
     ]
    }
   ],
   "source": [
    "l=[1,2,1,2,3,4]\n",
    "x= int(input(\"Enter element to find \"))\n",
    "if x in l:\n",
    "    print(\"{} present at index {}\".format(x, l.index(x)))\n",
    "else:\n",
    "    print(x, \"is not present in the list\")"
   ]
  },
  {
   "cell_type": "markdown",
   "metadata": {},
   "source": [
    "#### Manuplating elements of list:-"
   ]
  },
  {
   "cell_type": "code",
   "execution_count": 40,
   "metadata": {},
   "outputs": [
    {
     "name": "stdout",
     "output_type": "stream",
     "text": [
      "[10, 20, 30]\n"
     ]
    }
   ],
   "source": [
    "#1. append()\n",
    "l=[]\n",
    "l.append(10)\n",
    "l.append(20)\n",
    "l.append(30)\n",
    "print(l)"
   ]
  },
  {
   "cell_type": "code",
   "execution_count": 41,
   "metadata": {},
   "outputs": [
    {
     "name": "stdout",
     "output_type": "stream",
     "text": [
      "[10, 20, 30, 40, 50, 60, 70, 80, 90, 100]\n"
     ]
    }
   ],
   "source": [
    "#add numbers which are divisible by 10 from 1 to 100\n",
    "l=[]\n",
    "for i in range(1,101):\n",
    "    if i%10 ==0:\n",
    "        l.append(i)\n",
    "print(l)"
   ]
  },
  {
   "cell_type": "markdown",
   "metadata": {},
   "source": [
    "#### 2. insert()\n",
    "         l.insert(index, element)"
   ]
  },
  {
   "cell_type": "code",
   "execution_count": 42,
   "metadata": {},
   "outputs": [
    {
     "name": "stdout",
     "output_type": "stream",
     "text": [
      "[10, 7777, 20, 30, 40]\n"
     ]
    }
   ],
   "source": [
    "l = [10,20,30,40]\n",
    "l.insert(1,7777)\n",
    "print(l)"
   ]
  },
  {
   "cell_type": "code",
   "execution_count": 45,
   "metadata": {},
   "outputs": [
    {
     "data": {
      "text/plain": [
       "[10, 7777, 20, 30, 40, 8888, 8888]"
      ]
     },
     "execution_count": 45,
     "metadata": {},
     "output_type": "execute_result"
    }
   ],
   "source": [
    "l.insert(100,8888)\n",
    "l"
   ]
  },
  {
   "cell_type": "code",
   "execution_count": 48,
   "metadata": {},
   "outputs": [
    {
     "data": {
      "text/plain": [
       "[878, 878, 10, 7777, 20, 30, 40, 8888, 8888]"
      ]
     },
     "execution_count": 48,
     "metadata": {},
     "output_type": "execute_result"
    }
   ],
   "source": [
    "\n",
    "l.insert(-1000, 878)\n",
    "l"
   ]
  },
  {
   "cell_type": "markdown",
   "metadata": {},
   "source": [
    "#### 3. extend()\n",
    "- To add elements of given sequence to list\n",
    "- l1.extend(l2)"
   ]
  },
  {
   "cell_type": "code",
   "execution_count": 49,
   "metadata": {},
   "outputs": [
    {
     "name": "stdout",
     "output_type": "stream",
     "text": [
      "['chicken', 'mutton', 'fish', 'KF', 'Ko', 'RC']\n"
     ]
    }
   ],
   "source": [
    "order1=[\"chicken\", \"mutton\", \"fish\"]\n",
    "order2=[\"KF\", \"Ko\", \"RC\"]\n",
    "order1.extend(order2)\n",
    "print(order1)"
   ]
  },
  {
   "cell_type": "code",
   "execution_count": 50,
   "metadata": {},
   "outputs": [
    {
     "name": "stdout",
     "output_type": "stream",
     "text": [
      "['KF', 'Ko', 'RC']\n"
     ]
    }
   ],
   "source": [
    "print(order2)"
   ]
  },
  {
   "cell_type": "code",
   "execution_count": 51,
   "metadata": {},
   "outputs": [
    {
     "name": "stdout",
     "output_type": "stream",
     "text": [
      "[10, 20, [30, 40]]\n"
     ]
    }
   ],
   "source": [
    "l1= [10,20]\n",
    "l2=[30,40]\n",
    "l1.append(l2)\n",
    "print(l1)"
   ]
  },
  {
   "cell_type": "code",
   "execution_count": 52,
   "metadata": {},
   "outputs": [
    {
     "name": "stdout",
     "output_type": "stream",
     "text": [
      "3\n"
     ]
    }
   ],
   "source": [
    "print(len(l1))"
   ]
  },
  {
   "cell_type": "code",
   "execution_count": 53,
   "metadata": {},
   "outputs": [
    {
     "name": "stdout",
     "output_type": "stream",
     "text": [
      "[10, 20, 30, 'ABC']\n"
     ]
    }
   ],
   "source": [
    "l1=[10,20,30]\n",
    "l1.append(\"ABC\")\n",
    "print(l1)"
   ]
  },
  {
   "cell_type": "code",
   "execution_count": 54,
   "metadata": {},
   "outputs": [],
   "source": [
    "l1=[10,20,30]\n",
    "l1.extend(\"ABC\")"
   ]
  },
  {
   "cell_type": "code",
   "execution_count": 55,
   "metadata": {},
   "outputs": [
    {
     "name": "stdout",
     "output_type": "stream",
     "text": [
      "6\n",
      "[10, 20, 30, 'A', 'B', 'C']\n"
     ]
    }
   ],
   "source": [
    "print(len(l1))\n",
    "print(l1)"
   ]
  },
  {
   "cell_type": "markdown",
   "metadata": {},
   "source": [
    "#### Manuplating elements of list\n",
    "1. append()\n",
    "- To add item at the end of list\n",
    "2. insert()\n",
    "- To insert item at the specified index\n",
    "3. extend()\n",
    "- To add all elements of the given sequence to the list"
   ]
  },
  {
   "cell_type": "markdown",
   "metadata": {},
   "source": [
    "#### 1. remove()"
   ]
  },
  {
   "cell_type": "code",
   "execution_count": 56,
   "metadata": {},
   "outputs": [
    {
     "name": "stdout",
     "output_type": "stream",
     "text": [
      "[10, 20, 30, 50]\n"
     ]
    }
   ],
   "source": [
    "l= [10,20,30,40,50]\n",
    "l.remove(40)\n",
    "print(l)"
   ]
  },
  {
   "cell_type": "code",
   "execution_count": 57,
   "metadata": {},
   "outputs": [
    {
     "name": "stdout",
     "output_type": "stream",
     "text": [
      "[10, 20, 30, 40]\n"
     ]
    }
   ],
   "source": [
    "l=[10,20,30,40,40]\n",
    "l.remove(40)\n",
    "print(l)"
   ]
  },
  {
   "cell_type": "code",
   "execution_count": 58,
   "metadata": {},
   "outputs": [
    {
     "ename": "ValueError",
     "evalue": "list.remove(x): x not in list",
     "output_type": "error",
     "traceback": [
      "\u001b[1;31m---------------------------------------------------------------------------\u001b[0m",
      "\u001b[1;31mValueError\u001b[0m                                Traceback (most recent call last)",
      "Cell \u001b[1;32mIn[58], line 1\u001b[0m\n\u001b[1;32m----> 1\u001b[0m \u001b[43ml\u001b[49m\u001b[38;5;241;43m.\u001b[39;49m\u001b[43mremove\u001b[49m\u001b[43m(\u001b[49m\u001b[38;5;241;43m50\u001b[39;49m\u001b[43m)\u001b[49m\n",
      "\u001b[1;31mValueError\u001b[0m: list.remove(x): x not in list"
     ]
    }
   ],
   "source": [
    "l.remove(50)"
   ]
  },
  {
   "cell_type": "code",
   "execution_count": 61,
   "metadata": {},
   "outputs": [
    {
     "name": "stdout",
     "output_type": "stream",
     "text": [
      "Befor removal [1, 2, 3, 4, 5, 6]\n",
      "8 not present in the list\n"
     ]
    }
   ],
   "source": [
    "l=[1,2,3,4,5,6]\n",
    "print(\"Befor removal\", l)\n",
    "x = int(input(\"Enter the element to remove\"))\n",
    "if x in l:\n",
    "    l.remove(x)\n",
    "    print(\"After removal\",l)\n",
    "else:\n",
    "    print(x, \"not present in the list\")"
   ]
  },
  {
   "cell_type": "code",
   "execution_count": 64,
   "metadata": {},
   "outputs": [
    {
     "name": "stdout",
     "output_type": "stream",
     "text": [
      "After removal: [2, 2, 3, 3, 4]\n"
     ]
    }
   ],
   "source": [
    "#How to remove all occurances\n",
    "l=[1,1,1,1,1,2,2,3,3,4]\n",
    "x= int(input(\"Enter the element to remove\"))\n",
    "while True:\n",
    "    if x in l:\n",
    "        l.remove(x)\n",
    "    else:\n",
    "        break\n",
    "print(\"After removal:\",l)"
   ]
  },
  {
   "cell_type": "markdown",
   "metadata": {},
   "source": [
    "#### 2. pop()"
   ]
  },
  {
   "cell_type": "code",
   "execution_count": 65,
   "metadata": {},
   "outputs": [
    {
     "data": {
      "text/plain": [
       "30"
      ]
     },
     "execution_count": 65,
     "metadata": {},
     "output_type": "execute_result"
    }
   ],
   "source": [
    "l=[10,20,30]\n",
    "l.pop()"
   ]
  },
  {
   "cell_type": "code",
   "execution_count": 66,
   "metadata": {},
   "outputs": [
    {
     "data": {
      "text/plain": [
       "[10, 20]"
      ]
     },
     "execution_count": 66,
     "metadata": {},
     "output_type": "execute_result"
    }
   ],
   "source": [
    "l"
   ]
  },
  {
   "cell_type": "code",
   "execution_count": 67,
   "metadata": {},
   "outputs": [
    {
     "data": {
      "text/plain": [
       "10"
      ]
     },
     "execution_count": 67,
     "metadata": {},
     "output_type": "execute_result"
    }
   ],
   "source": [
    "l.pop()\n",
    "l.pop()"
   ]
  },
  {
   "cell_type": "code",
   "execution_count": 68,
   "metadata": {},
   "outputs": [
    {
     "data": {
      "text/plain": [
       "[]"
      ]
     },
     "execution_count": 68,
     "metadata": {},
     "output_type": "execute_result"
    }
   ],
   "source": [
    "l"
   ]
  },
  {
   "cell_type": "code",
   "execution_count": 69,
   "metadata": {},
   "outputs": [
    {
     "ename": "IndexError",
     "evalue": "pop from empty list",
     "output_type": "error",
     "traceback": [
      "\u001b[1;31m---------------------------------------------------------------------------\u001b[0m",
      "\u001b[1;31mIndexError\u001b[0m                                Traceback (most recent call last)",
      "Cell \u001b[1;32mIn[69], line 1\u001b[0m\n\u001b[1;32m----> 1\u001b[0m \u001b[43ml\u001b[49m\u001b[38;5;241;43m.\u001b[39;49m\u001b[43mpop\u001b[49m\u001b[43m(\u001b[49m\u001b[43m)\u001b[49m\n",
      "\u001b[1;31mIndexError\u001b[0m: pop from empty list"
     ]
    }
   ],
   "source": [
    "l.pop()"
   ]
  },
  {
   "cell_type": "code",
   "execution_count": 70,
   "metadata": {},
   "outputs": [
    {
     "data": {
      "text/plain": [
       "20"
      ]
     },
     "execution_count": 70,
     "metadata": {},
     "output_type": "execute_result"
    }
   ],
   "source": [
    "l=[10,20,30,40]\n",
    "l.pop(1)"
   ]
  },
  {
   "cell_type": "code",
   "execution_count": 71,
   "metadata": {},
   "outputs": [
    {
     "data": {
      "text/plain": [
       "[10, 30, 40]"
      ]
     },
     "execution_count": 71,
     "metadata": {},
     "output_type": "execute_result"
    }
   ],
   "source": [
    "l"
   ]
  },
  {
   "cell_type": "code",
   "execution_count": 72,
   "metadata": {},
   "outputs": [
    {
     "ename": "IndexError",
     "evalue": "pop index out of range",
     "output_type": "error",
     "traceback": [
      "\u001b[1;31m---------------------------------------------------------------------------\u001b[0m",
      "\u001b[1;31mIndexError\u001b[0m                                Traceback (most recent call last)",
      "Cell \u001b[1;32mIn[72], line 1\u001b[0m\n\u001b[1;32m----> 1\u001b[0m \u001b[43ml\u001b[49m\u001b[38;5;241;43m.\u001b[39;49m\u001b[43mpop\u001b[49m\u001b[43m(\u001b[49m\u001b[38;5;241;43m1000\u001b[39;49m\u001b[43m)\u001b[49m\n",
      "\u001b[1;31mIndexError\u001b[0m: pop index out of range"
     ]
    }
   ],
   "source": [
    "l.pop(1000)"
   ]
  },
  {
   "cell_type": "markdown",
   "metadata": {},
   "source": [
    "#### Difference between remove() and pop() methods\n",
    "\n",
    "|   | remove()    | pop() |\n",
    "| -- | -------- | ------- |\n",
    "| 1 | l.remove(x)       To remove specified element    | l.pop()        To remove and return last elements  |\n",
    "|  |   | l.pop(index) To remove and return element present at specified index   |\n",
    "| 2 | If the list is empty then we will get ValueError | If the list is empty, then we will get IndexError |\n",
    "| 3 | The return value is None and won't return removed element | It returns removed element |              \n"
   ]
  },
  {
   "cell_type": "markdown",
   "metadata": {},
   "source": [
    "#### 3. clear()"
   ]
  },
  {
   "cell_type": "code",
   "execution_count": 73,
   "metadata": {},
   "outputs": [
    {
     "name": "stdout",
     "output_type": "stream",
     "text": [
      "[]\n"
     ]
    }
   ],
   "source": [
    "l=[10,20,30]\n",
    "l.clear()\n",
    "print(l)"
   ]
  },
  {
   "cell_type": "markdown",
   "metadata": {},
   "source": [
    "#### Manuplating elements of list:-\n",
    "1. remove()\n",
    "- To remove specified element from the list\n",
    "2. pop()\n",
    "- To remove and return the last element from the list\n",
    "3. pop(index)\n",
    "- To remove and return the element present at specified index from the list\n",
    "4. clear()\n",
    "- To remove all elements from the list"
   ]
  },
  {
   "cell_type": "markdown",
   "metadata": {},
   "source": [
    "#### Ordering elements of list\n"
   ]
  },
  {
   "cell_type": "markdown",
   "metadata": {},
   "source": [
    "1. Reversing order"
   ]
  },
  {
   "cell_type": "code",
   "execution_count": 74,
   "metadata": {},
   "outputs": [
    {
     "name": "stdout",
     "output_type": "stream",
     "text": [
      "[30, 20, 10]\n"
     ]
    }
   ],
   "source": [
    "l=[10,20,30]\n",
    "l.reverse()\n",
    "print(l)"
   ]
  },
  {
   "cell_type": "code",
   "execution_count": 77,
   "metadata": {},
   "outputs": [
    {
     "name": "stdout",
     "output_type": "stream",
     "text": [
      "<list_reverseiterator object at 0x0000023AC2813820>\n",
      "[30, 20, 10]\n"
     ]
    }
   ],
   "source": [
    "l=[10,20,30]\n",
    "r= reversed(l)\n",
    "print(r)\n",
    "l1=list(r)\n",
    "print(l1)\n"
   ]
  },
  {
   "cell_type": "markdown",
   "metadata": {},
   "source": [
    "2. Sorting elements of list"
   ]
  },
  {
   "cell_type": "code",
   "execution_count": 78,
   "metadata": {},
   "outputs": [
    {
     "name": "stdout",
     "output_type": "stream",
     "text": [
      "[20, 3, 4, 1, 21, 0, 10]\n",
      "[0, 1, 3, 4, 10, 20, 21]\n"
     ]
    }
   ],
   "source": [
    "l=[20,3,4,1,21,0,10]\n",
    "print(l)\n",
    "l.sort()\n",
    "print(l)"
   ]
  },
  {
   "cell_type": "code",
   "execution_count": 79,
   "metadata": {},
   "outputs": [
    {
     "name": "stdout",
     "output_type": "stream",
     "text": [
      "['Apple', 'Banana', 'Cat']\n"
     ]
    }
   ],
   "source": [
    "l=[\"Banana\", \"Cat\", \"Apple\"]\n",
    "l.sort()\n",
    "print(l)"
   ]
  },
  {
   "cell_type": "code",
   "execution_count": 80,
   "metadata": {},
   "outputs": [
    {
     "name": "stdout",
     "output_type": "stream",
     "text": [
      "[54, 39, 10, 2]\n"
     ]
    }
   ],
   "source": [
    "l=[10,2,39,54]\n",
    "l.sort(reverse=True)\n",
    "print(l)"
   ]
  },
  {
   "cell_type": "code",
   "execution_count": 81,
   "metadata": {},
   "outputs": [
    {
     "name": "stdout",
     "output_type": "stream",
     "text": [
      "[10, 20, 30, 3, 53, 2]\n",
      "[2, 3, 10, 20, 30, 53]\n"
     ]
    }
   ],
   "source": [
    "l1=[10,20,30,3,53,2]\n",
    "l2= sorted(l1)\n",
    "print(l1)\n",
    "print(l2)"
   ]
  },
  {
   "cell_type": "markdown",
   "metadata": {},
   "source": [
    "#### Aliasing and cloning of list object"
   ]
  },
  {
   "cell_type": "code",
   "execution_count": 82,
   "metadata": {},
   "outputs": [
    {
     "name": "stdout",
     "output_type": "stream",
     "text": [
      "[10, 7777, 30, 40]\n",
      "[10, 7777, 30, 40]\n"
     ]
    }
   ],
   "source": [
    "l1=[10,20,30,40]\n",
    "l2=l1\n",
    "l1[1]=7777\n",
    "print(l1)\n",
    "print(l2)"
   ]
  },
  {
   "cell_type": "markdown",
   "metadata": {},
   "source": [
    "#### Cloning"
   ]
  },
  {
   "cell_type": "code",
   "execution_count": 83,
   "metadata": {},
   "outputs": [
    {
     "name": "stdout",
     "output_type": "stream",
     "text": [
      "2451400198400\n",
      "2451375013568\n"
     ]
    }
   ],
   "source": [
    "l1=[10,20,30,40,50]\n",
    "l2=l1.copy()\n",
    "print(id(l1))\n",
    "print(id(l2))"
   ]
  },
  {
   "cell_type": "code",
   "execution_count": 84,
   "metadata": {},
   "outputs": [
    {
     "name": "stdout",
     "output_type": "stream",
     "text": [
      "2451400081600\n",
      "2451399828672\n"
     ]
    }
   ],
   "source": [
    "l1=[10,20,30,40,50]\n",
    "l2=l1[::]\n",
    "print(id(l1))\n",
    "print(id(l2))"
   ]
  },
  {
   "cell_type": "code",
   "execution_count": 85,
   "metadata": {},
   "outputs": [
    {
     "name": "stdout",
     "output_type": "stream",
     "text": [
      "[10, 7777, 30, 40, 50]\n",
      "[10, 20, 30, 40, 50]\n"
     ]
    }
   ],
   "source": [
    "l1[1]=7777\n",
    "print(l1)\n",
    "print(l2)"
   ]
  },
  {
   "cell_type": "markdown",
   "metadata": {},
   "source": [
    "#### Nested lists"
   ]
  },
  {
   "cell_type": "code",
   "execution_count": 87,
   "metadata": {},
   "outputs": [
    {
     "name": "stdout",
     "output_type": "stream",
     "text": [
      "10\n",
      "[30, 40]\n",
      "30\n"
     ]
    }
   ],
   "source": [
    "l=[10,20,[30,40]]\n",
    "print(l[0])\n",
    "print(l[2])\n",
    "print(l[2][0])\n"
   ]
  },
  {
   "cell_type": "markdown",
   "metadata": {},
   "source": [
    "#### Nested list as matrix"
   ]
  },
  {
   "cell_type": "code",
   "execution_count": 88,
   "metadata": {},
   "outputs": [
    {
     "name": "stdout",
     "output_type": "stream",
     "text": [
      "Elements Row wise:\n",
      "[10, 20, 30]\n",
      "[40, 50, 60]\n",
      "[70, 80, 90]\n"
     ]
    }
   ],
   "source": [
    "l=[[10,20,30],[40,50,60],[70,80,90]]\n",
    "print(\"Elements Row wise:\")\n",
    "for i in l:\n",
    "    print(i)"
   ]
  },
  {
   "cell_type": "code",
   "execution_count": 89,
   "metadata": {},
   "outputs": [
    {
     "name": "stdout",
     "output_type": "stream",
     "text": [
      "Elements in metrix style:\n",
      "10 20 30 \n",
      "40 50 60 \n",
      "70 80 90 \n"
     ]
    }
   ],
   "source": [
    "print(\"Elements in metrix style:\")\n",
    "for x in l:\n",
    "    for y in x:\n",
    "        print(y, end=\" \")\n",
    "    print()"
   ]
  },
  {
   "cell_type": "markdown",
   "metadata": {},
   "source": [
    "#### List comprehension"
   ]
  },
  {
   "cell_type": "code",
   "execution_count": 90,
   "metadata": {},
   "outputs": [
    {
     "name": "stdout",
     "output_type": "stream",
     "text": [
      "[1, 2, 3, 4, 5, 6, 7, 8, 9, 10]\n"
     ]
    }
   ],
   "source": [
    "#l=[1,2,3,4,5,6,7,8,9,10]\n",
    "#Normal way\n",
    "l=[]\n",
    "for x in range(1,11):\n",
    "    l.append(x)\n",
    "print(l)"
   ]
  },
  {
   "cell_type": "code",
   "execution_count": 91,
   "metadata": {},
   "outputs": [
    {
     "name": "stdout",
     "output_type": "stream",
     "text": [
      "[1, 2, 3, 4, 5, 6, 7, 8, 9, 10]\n"
     ]
    }
   ],
   "source": [
    "#list comprehension\n",
    "l=[x for x in range(1,11)]\n",
    "print(l)"
   ]
  },
  {
   "cell_type": "markdown",
   "metadata": {},
   "source": [
    "#### Syntax\n",
    "- l = [expression for each_element in sequence]\n",
    "- l = [expression for each_element in sequence if condtion]"
   ]
  },
  {
   "cell_type": "code",
   "execution_count": 92,
   "metadata": {},
   "outputs": [],
   "source": [
    "l = [x**2 for x in range(1, 11)]"
   ]
  },
  {
   "cell_type": "code",
   "execution_count": 93,
   "metadata": {},
   "outputs": [
    {
     "data": {
      "text/plain": [
       "[1, 4, 9, 16, 25, 36, 49, 64, 81, 100]"
      ]
     },
     "execution_count": 93,
     "metadata": {},
     "output_type": "execute_result"
    }
   ],
   "source": [
    "l"
   ]
  },
  {
   "cell_type": "code",
   "execution_count": 94,
   "metadata": {},
   "outputs": [
    {
     "name": "stdout",
     "output_type": "stream",
     "text": [
      "[2, 4, 8, 16, 32]\n"
     ]
    }
   ],
   "source": [
    "l= [2**x for x in range(1,6)]\n",
    "print(l)"
   ]
  },
  {
   "cell_type": "code",
   "execution_count": 95,
   "metadata": {},
   "outputs": [
    {
     "name": "stdout",
     "output_type": "stream",
     "text": [
      "[10, 20, 30, 40, 50, 60, 70, 80, 90, 100]\n"
     ]
    }
   ],
   "source": [
    "l= [x for x in range(1,101) if x%10 == 0]\n",
    "print(l)"
   ]
  },
  {
   "cell_type": "code",
   "execution_count": 96,
   "metadata": {},
   "outputs": [
    {
     "name": "stdout",
     "output_type": "stream",
     "text": [
      "[10, 20]\n"
     ]
    }
   ],
   "source": [
    "#Crate list with elements present in l1 but not in l2\n",
    "l1=[10,20,30,40]\n",
    "l2=[30,40,50,60]\n",
    "l3 = [x for x in l1 if x not in l2]\n",
    "print(l3)"
   ]
  },
  {
   "cell_type": "code",
   "execution_count": 97,
   "metadata": {},
   "outputs": [
    {
     "name": "stdout",
     "output_type": "stream",
     "text": [
      "[30, 40]\n"
     ]
    }
   ],
   "source": [
    "#Create list with elements present in both l1 and l2\n",
    "l4=[x for x in l1 if x in l2]\n",
    "print(l4)"
   ]
  },
  {
   "cell_type": "code",
   "execution_count": 98,
   "metadata": {},
   "outputs": [
    {
     "name": "stdout",
     "output_type": "stream",
     "text": [
      "['B', 'N', 'V', 'C']\n"
     ]
    }
   ],
   "source": [
    "l=[\"Balaiah\", \"Nag\", \"Venky\", \"Chiru\"]\n",
    "l1=[word[0] for word in l]\n",
    "print(l1)"
   ]
  },
  {
   "cell_type": "code",
   "execution_count": 99,
   "metadata": {},
   "outputs": [
    {
     "name": "stdout",
     "output_type": "stream",
     "text": [
      "[['THE', 3], ['QUICK', 5], ['BROWN', 5], ['FOR', 3], ['JUMPS', 5], ['OVER', 4], ['THE', 3], ['LAZY', 4], ['DOG', 3]]\n"
     ]
    }
   ],
   "source": [
    "s=\"the quick brown for jumps over the lazy dog\"\n",
    "l=s.split()\n",
    "l1= [[word.upper(), len(word)] for word in l]\n",
    "print(l1)"
   ]
  },
  {
   "cell_type": "code",
   "execution_count": 102,
   "metadata": {},
   "outputs": [
    {
     "name": "stdout",
     "output_type": "stream",
     "text": [
      "aakafhiol\n",
      "['a', 'i', 'o']\n",
      "The no. of unique vowels: 3\n"
     ]
    }
   ],
   "source": [
    "#Program to display uniqre vowels present in tye given word\n",
    "vowels = ['a', 'e', 'i', 'o', 'u']\n",
    "word = input(\"Enter any string\")\n",
    "print(word)\n",
    "result = []\n",
    "for ch in word:\n",
    "    if ch in vowels:\n",
    "        if ch not in result:\n",
    "            result.append(ch)\n",
    "print(result)\n",
    "print(\"The no. of unique vowels:\", len(result))"
   ]
  },
  {
   "cell_type": "code",
   "execution_count": 103,
   "metadata": {},
   "outputs": [
    {
     "name": "stdout",
     "output_type": "stream",
     "text": [
      "kjhksahfkahsforionfajkliosadfha\n",
      "['a', 'i', 'o']\n",
      "The no. of unique vowels: 3\n"
     ]
    }
   ],
   "source": [
    "#another logic\n",
    "vowels = ['a', 'e', 'i', 'o', 'u']\n",
    "word = input(\"Enter any string\")\n",
    "print(word)\n",
    "res=[]\n",
    "for ch in vowels:\n",
    "    if ch in word:\n",
    "        res.append(ch)\n",
    "\n",
    "print(res)\n",
    "print(\"The no. of unique vowels:\", len(res))"
   ]
  },
  {
   "cell_type": "code",
   "execution_count": 106,
   "metadata": {},
   "outputs": [
    {
     "name": "stdout",
     "output_type": "stream",
     "text": [
      "jkafjakljfdshguit\n",
      "['a', 'i', 'u']\n"
     ]
    }
   ],
   "source": [
    "vowels = ['a', 'e', 'i', 'o', 'u']\n",
    "word = input(\"Enter any string\")\n",
    "print(word)\n",
    "result = [ch for ch in vowels if ch in word]\n",
    "print(result)"
   ]
  },
  {
   "cell_type": "code",
   "execution_count": null,
   "metadata": {},
   "outputs": [],
   "source": []
  }
 ],
 "metadata": {
  "kernelspec": {
   "display_name": "Python 3",
   "language": "python",
   "name": "python3"
  },
  "language_info": {
   "codemirror_mode": {
    "name": "ipython",
    "version": 3
   },
   "file_extension": ".py",
   "mimetype": "text/x-python",
   "name": "python",
   "nbconvert_exporter": "python",
   "pygments_lexer": "ipython3",
   "version": "3.10.0"
  }
 },
 "nbformat": 4,
 "nbformat_minor": 2
}
