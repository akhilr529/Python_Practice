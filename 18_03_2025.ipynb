{
 "cells": [
  {
   "cell_type": "markdown",
   "metadata": {},
   "source": [
    "### TO find index of all occurences:-"
   ]
  },
  {
   "cell_type": "code",
   "execution_count": 2,
   "metadata": {},
   "outputs": [
    {
     "name": "stdout",
     "output_type": "stream",
     "text": [
      "ABC present at index 0\n",
      "ABC present at index 3\n",
      "ABC present at index 6\n",
      "The no. fo occurances :  3\n",
      "3\n"
     ]
    }
   ],
   "source": [
    "s=\"ABCABCABCA\"\n",
    "subs=\"ABC\"\n",
    "i=s.find(subs)\n",
    "if i==-1:\n",
    "    print(\"Substring not found\")\n",
    "count = 0\n",
    "while i != -1:\n",
    "    print(\"{} present at index {}\".format(subs,i))\n",
    "    i = s.find(subs, i+ len(subs), len(s))\n",
    "    count = count+1\n",
    "print(\"The no. fo occurances : \", s.count(subs))\n",
    "print(count)\n"
   ]
  },
  {
   "cell_type": "markdown",
   "metadata": {},
   "source": [
    "### Replacing a string with another string"
   ]
  },
  {
   "cell_type": "code",
   "execution_count": 3,
   "metadata": {},
   "outputs": [
    {
     "name": "stdout",
     "output_type": "stream",
     "text": [
      "BBBBBBB\n"
     ]
    }
   ],
   "source": [
    "s=\"ABABABA\"\n",
    "s1=s.replace(\"A\",\"B\")\n",
    "print(s1)"
   ]
  },
  {
   "cell_type": "code",
   "execution_count": 4,
   "metadata": {},
   "outputs": [
    {
     "name": "stdout",
     "output_type": "stream",
     "text": [
      "2575312244656\n",
      "2575330232816\n",
      "BBBBBBB\n"
     ]
    }
   ],
   "source": [
    "s=\"ABABABA\"\n",
    "print(id(s))\n",
    "s=s.replace(\"A\",\"B\")\n",
    "print(id(s))\n",
    "print(s1)"
   ]
  },
  {
   "cell_type": "markdown",
   "metadata": {},
   "source": [
    "### Splitting of strings:-"
   ]
  },
  {
   "cell_type": "code",
   "execution_count": 5,
   "metadata": {},
   "outputs": [
    {
     "name": "stdout",
     "output_type": "stream",
     "text": [
      "['Durga', 'Software', 'Solutions']\n"
     ]
    }
   ],
   "source": [
    "s= \"Durga Software Solutions\"\n",
    "l= s.split()\n",
    "print(l)"
   ]
  },
  {
   "cell_type": "code",
   "execution_count": 6,
   "metadata": {},
   "outputs": [
    {
     "name": "stdout",
     "output_type": "stream",
     "text": [
      "['18', '03', '2025']\n"
     ]
    }
   ],
   "source": [
    "d=\"18-03-2025\"\n",
    "l=d.split(\"-\")\n",
    "print(l)"
   ]
  },
  {
   "cell_type": "markdown",
   "metadata": {},
   "source": [
    "### Joining of strings:-"
   ]
  },
  {
   "cell_type": "code",
   "execution_count": 7,
   "metadata": {},
   "outputs": [
    {
     "name": "stdout",
     "output_type": "stream",
     "text": [
      "Durga Software Solutions\n"
     ]
    }
   ],
   "source": [
    "l=['Durga', 'Software', 'Solutions']\n",
    "s= \" \".join(l)\n",
    "print(s)"
   ]
  },
  {
   "cell_type": "code",
   "execution_count": 8,
   "metadata": {},
   "outputs": [
    {
     "name": "stdout",
     "output_type": "stream",
     "text": [
      "18-03-2025\n"
     ]
    }
   ],
   "source": [
    "l=['18', '03', '2025']\n",
    "s=\"-\".join(l)\n",
    "print(s)"
   ]
  },
  {
   "cell_type": "markdown",
   "metadata": {},
   "source": [
    "### Changing the case of characters of the string"
   ]
  },
  {
   "cell_type": "code",
   "execution_count": 9,
   "metadata": {},
   "outputs": [
    {
     "name": "stdout",
     "output_type": "stream",
     "text": [
      "LEARNING PYTHON IS VERY EASY\n",
      "learning python is very easy\n",
      "lEARNING pYTHON IS VERY EASY\n",
      "Learning Python Is Very Easy\n",
      "Learning python is very easy\n"
     ]
    }
   ],
   "source": [
    "s= \"Learning Python is very easy\"\n",
    "print(s.upper())\n",
    "print(s.lower())\n",
    "print(s.swapcase())\n",
    "print(s.title())\n",
    "print(s.capitalize())"
   ]
  },
  {
   "cell_type": "code",
   "execution_count": 10,
   "metadata": {},
   "outputs": [
    {
     "name": "stdout",
     "output_type": "stream",
     "text": [
      "Both strings are equal\n"
     ]
    }
   ],
   "source": [
    "#WAP to check whether the given 2 strings are equal or not by ignoring case\n",
    "s1 = input(\"Enter a string\")\n",
    "s2 = input(\"Enter a string\")\n",
    "if s1.lower()==s2.lower():\n",
    "    print(\"Both strings are equal\")\n",
    "else:\n",
    "    print(\"Both strings are not equal\")"
   ]
  },
  {
   "cell_type": "code",
   "execution_count": 11,
   "metadata": {},
   "outputs": [
    {
     "name": "stdout",
     "output_type": "stream",
     "text": [
      "Valid\n"
     ]
    }
   ],
   "source": [
    "#WAP to check whether provided username and password are valid or not? username is not case sensitive, but password should be case sensitive.\n",
    "username = input(\"Enter username\")\n",
    "password = input(\"Enter password\")\n",
    "if username.lower() == \"akhil\" and password==\"Sa@3012\":\n",
    "    print(\"Valid\")\n",
    "else:\n",
    "    print(\"Not valid\")"
   ]
  },
  {
   "cell_type": "code",
   "execution_count": 13,
   "metadata": {},
   "outputs": [
    {
     "name": "stdout",
     "output_type": "stream",
     "text": [
      "AkhiL\n"
     ]
    }
   ],
   "source": [
    "#WAP to convert first and last characters as upper case and all remaining characters should be lower case of the given string\n",
    "s= input(\"Enter a string\")\n",
    "output = s[0].upper() + s[1:len(s)-1].lower()+ s[-1].upper()\n",
    "print(output)"
   ]
  },
  {
   "cell_type": "markdown",
   "metadata": {},
   "source": [
    "### Checking starting and ending part of the string"
   ]
  },
  {
   "cell_type": "code",
   "execution_count": 14,
   "metadata": {},
   "outputs": [
    {
     "name": "stdout",
     "output_type": "stream",
     "text": [
      "True\n",
      "True\n",
      "False\n",
      "True\n"
     ]
    }
   ],
   "source": [
    "s= \"Learning Python is very easy\"\n",
    "print(s.startswith(\"Learning\"))\n",
    "print(s.endswith(\"easy\"))\n",
    "print(s.startswith(\"lea\"))\n",
    "print(s.startswith(\"Lea\"))"
   ]
  },
  {
   "cell_type": "markdown",
   "metadata": {},
   "source": [
    "### To check type of characters present in a string"
   ]
  },
  {
   "cell_type": "code",
   "execution_count": 20,
   "metadata": {},
   "outputs": [
    {
     "name": "stdout",
     "output_type": "stream",
     "text": [
      "It is alpha number characters\n",
      "It is a digit\n"
     ]
    }
   ],
   "source": [
    "#WAP to check the type of character entered from the keyboard\n",
    "s=input(\"Enter any character\")\n",
    "if s.isalnum():\n",
    "    print(\"It is alpha number characters\")\n",
    "    if s.isalpha():\n",
    "        print(\"It is alphabet characters\")\n",
    "        if s.islower():\n",
    "            print(\"It is lower case alphabet characters\")\n",
    "        else:\n",
    "            print(\"It is upper case alphabet characters\")\n",
    "    else:\n",
    "        print(\"It is a digit\")\n",
    "elif s.isspace():\n",
    "    print(\"It is a space character\")\n",
    "else:\n",
    "    print(\"It is non-space space special characters\")"
   ]
  },
  {
   "cell_type": "markdown",
   "metadata": {},
   "source": [
    "## String Methods:\n",
    "\n",
    "### Removing spaces from the string\n",
    "\n",
    "1. strip() ---> To remove spaces present at both sides of the string\n",
    "2. rstrip() ---> To remove spaces present at end of the string\n",
    "3. lstrip() --> to remove spaces present at begining of the string\n",
    "\n",
    "-----\n",
    "\n",
    "### Finding substring\n",
    "\n",
    "##### Total 4 methods\n",
    "1. find()\n",
    "2. rfind()\n",
    "3. index()\n",
    "3. rindex()\n",
    "\n",
    "1. s.find(substring)\n",
    "- It returns the index of the first occurance of the given substring\n",
    "- If it is not available then it returns -1\n",
    "\n",
    "2. s.find(substring, begin, end)\n",
    "- To search  in the boundary\n",
    "- It will always search for the given substring from begin index to end-1 index\n",
    "\n",
    "3. s.index(substring)\n",
    "- It returns the index of first occurance of given substring\n",
    "- if it is not available then we will get ValueError\n",
    "\n",
    "4. s.index(substring, begin, end)\n",
    "- To search in the boundary\n",
    "- It will alwasys search for the given substring from the begin index to end-1 index\n",
    "- It returns index of first occurence of given substring, if it is not available then we will get ValueError\n",
    "\n",
    "-------\n",
    "\n",
    "### Counting of substring\n",
    "\n",
    "1. s.count(substring)\n",
    "- Returns the number of occurences of the given substring in the total string\n",
    "\n",
    "2. s.count(substring, begin , end)\n",
    "- Returns the number of occurences of the given substring from begin index to end-1 index\n",
    "\n",
    "-----\n",
    "\n",
    "### Replacing a string with another\n",
    "\n",
    "1. s.replace(oldstring, newstring)\n",
    "- Inside s, every occurence of olstring will be replaced with new string\n",
    "\n",
    "-----\n",
    "### Splitting of strings\n",
    "1. s.split(separator)\n",
    "- To split the given string s according to the given seperator\n",
    "- The default separator is space\n",
    "\n",
    "-----\n",
    "### Joining of string\n",
    "1. s=separator.join(group of strings)\n",
    "- To join group of strings(list or tuple) according to given separator\n",
    "\n",
    "-----\n",
    "### Changing case of a string\n",
    "\n",
    "1. uppper()\n",
    "- To convert all characters to upper case\n",
    "2. lower()\n",
    "- To convert all characters to lower case\n",
    "3. swapcase()\n",
    "- To convert lower case characters to upper case and upper case to lower case\n",
    "4. title()\n",
    "- To convert all characters to title case, i.e., first character in every word should be upper case and all remaining should be in lower case\n",
    "5. capitalize()\n",
    "- Only first character will be converted to upper case and all remaining characters can be converted to lower case.\n",
    "\n",
    "-----\n",
    "### Checking starting and ending part of the string\n",
    "1. s.startswith(substring)\n",
    "- Returns True if the string starts with provided substring\n",
    "2. s.endswith(substring)\n",
    "- Returns True if the string ends with the provided substring\n",
    "\n",
    "-----\n",
    "### To check type of characters present in a string\n",
    "1. isalnum()\n",
    "- Return True if all characters are alpha numeric\n",
    "-       (a-z, A-Z, 0-9)\n",
    "2. isalpha()\n",
    "- Returns True if all characters are only alphabets\n",
    "-       (a-z, A-Z)\n",
    "3. isdigit()\n",
    "- Retruns True if all characters are only digits\n",
    "-       (0-9)\n",
    "4. islower()\n",
    "- Returns True if all characters are lowercase alphabet symbols\n",
    "5. isupper()\n",
    "- Returns True if all characters are uppercase alphabet symbols\n",
    "6. istitle()\n",
    "- Returns True if string is in title case\n",
    "7. issapace()\n",
    "- Returns True if string contains only spaces"
   ]
  },
  {
   "cell_type": "code",
   "execution_count": null,
   "metadata": {},
   "outputs": [],
   "source": []
  }
 ],
 "metadata": {
  "kernelspec": {
   "display_name": "Python 3",
   "language": "python",
   "name": "python3"
  },
  "language_info": {
   "codemirror_mode": {
    "name": "ipython",
    "version": 3
   },
   "file_extension": ".py",
   "mimetype": "text/x-python",
   "name": "python",
   "nbconvert_exporter": "python",
   "pygments_lexer": "ipython3",
   "version": "3.10.0"
  }
 },
 "nbformat": 4,
 "nbformat_minor": 2
}
