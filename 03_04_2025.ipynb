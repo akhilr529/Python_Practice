{
 "cells": [
  {
   "cell_type": "markdown",
   "metadata": {},
   "source": [
    "### Method overloading Introduction:-"
   ]
  },
  {
   "cell_type": "code",
   "execution_count": 1,
   "metadata": {},
   "outputs": [
    {
     "ename": "TypeError",
     "evalue": "Test.m1() missing 2 required positional arguments: 'x' and 'y'",
     "output_type": "error",
     "traceback": [
      "\u001b[1;31m---------------------------------------------------------------------------\u001b[0m",
      "\u001b[1;31mTypeError\u001b[0m                                 Traceback (most recent call last)",
      "Cell \u001b[1;32mIn[1], line 11\u001b[0m\n\u001b[0;32m      8\u001b[0m         \u001b[38;5;28mprint\u001b[39m(\u001b[38;5;124m\"\u001b[39m\u001b[38;5;124mtwo-arg method\u001b[39m\u001b[38;5;124m\"\u001b[39m)\n\u001b[0;32m     10\u001b[0m t \u001b[38;5;241m=\u001b[39m Test()\n\u001b[1;32m---> 11\u001b[0m \u001b[43mt\u001b[49m\u001b[38;5;241;43m.\u001b[39;49m\u001b[43mm1\u001b[49m\u001b[43m(\u001b[49m\u001b[43m)\u001b[49m\n",
      "\u001b[1;31mTypeError\u001b[0m: Test.m1() missing 2 required positional arguments: 'x' and 'y'"
     ]
    }
   ],
   "source": [
    "class Test:\n",
    "    def m1(self):\n",
    "        print(\"no-arg method\")\n",
    "    def m1(self, x):\n",
    "        print(\"one-arg method\")\n",
    "\n",
    "    def m1(self, x,y):\n",
    "        print(\"two-arg method\")\n",
    "\n",
    "t = Test()\n",
    "t.m1()"
   ]
  },
  {
   "cell_type": "code",
   "execution_count": 2,
   "metadata": {},
   "outputs": [
    {
     "name": "stdout",
     "output_type": "stream",
     "text": [
      "two-arg method\n"
     ]
    }
   ],
   "source": [
    "t.m1(1,2)"
   ]
  },
  {
   "cell_type": "markdown",
   "metadata": {},
   "source": [
    "### Why pthon won't support method overloading\n",
    "1. Two methods are said to be overloaded if both methods having same name, but different arguments types.\n",
    "2. But in python, we cannonet declare type explicitly. Based on provided value type will be considered automatically(Dynamically Typed). As type concept is not applicable, method overloading concept is not applicable in python."
   ]
  },
  {
   "cell_type": "code",
   "execution_count": 4,
   "metadata": {},
   "outputs": [
    {
     "name": "stdout",
     "output_type": "stream",
     "text": [
      "int argument method\n",
      "float argument method\n"
     ]
    }
   ],
   "source": [
    "class Test:\n",
    "    def m1(self,x):\n",
    "        print(\"{} argument method\".format(x.__class__.__name__))\n",
    "t= Test()\n",
    "t.m1(10)\n",
    "t.m1(10.5)"
   ]
  },
  {
   "cell_type": "code",
   "execution_count": 5,
   "metadata": {},
   "outputs": [
    {
     "name": "stdout",
     "output_type": "stream",
     "text": [
      "Two-argument method\n"
     ]
    },
    {
     "ename": "TypeError",
     "evalue": "Test.m1() takes from 1 to 4 positional arguments but 5 were given",
     "output_type": "error",
     "traceback": [
      "\u001b[1;31m---------------------------------------------------------------------------\u001b[0m",
      "\u001b[1;31mTypeError\u001b[0m                                 Traceback (most recent call last)",
      "Cell \u001b[1;32mIn[5], line 17\u001b[0m\n\u001b[0;32m     15\u001b[0m t\u001b[38;5;241m=\u001b[39mTest()\n\u001b[0;32m     16\u001b[0m t\u001b[38;5;241m.\u001b[39mm1(\u001b[38;5;241m10\u001b[39m,\u001b[38;5;241m20\u001b[39m)\n\u001b[1;32m---> 17\u001b[0m \u001b[43mt\u001b[49m\u001b[38;5;241;43m.\u001b[39;49m\u001b[43mm1\u001b[49m\u001b[43m(\u001b[49m\u001b[38;5;241;43m1\u001b[39;49m\u001b[43m,\u001b[49m\u001b[38;5;241;43m2\u001b[39;49m\u001b[43m,\u001b[49m\u001b[38;5;241;43m3\u001b[39;49m\u001b[43m,\u001b[49m\u001b[38;5;241;43m4\u001b[39;49m\u001b[43m)\u001b[49m\n",
      "\u001b[1;31mTypeError\u001b[0m: Test.m1() takes from 1 to 4 positional arguments but 5 were given"
     ]
    }
   ],
   "source": [
    "class Test:\n",
    "    def m1(self, a = None, b=None, c=None):\n",
    "        if a is not None and b is not None and c is not None:\n",
    "            print(\"Three-argument method\")\n",
    "\n",
    "        elif a is not None and b is not None:\n",
    "            print(\"Two-argument method\")\n",
    "        elif a is not None:\n",
    "            print(\"One-argument method\")\n",
    "\n",
    "        else:\n",
    "            print(\"0-argument method\")\n",
    "\n",
    "\n",
    "t=Test()\n",
    "t.m1(10,20)\n",
    "t.m1(1,2,3,4)"
   ]
  },
  {
   "cell_type": "code",
   "execution_count": 6,
   "metadata": {},
   "outputs": [
    {
     "name": "stdout",
     "output_type": "stream",
     "text": [
      "Variable length argument method\n",
      "Variable length argument method\n",
      "Variable length argument method\n"
     ]
    }
   ],
   "source": [
    "class Test:\n",
    "    def m1(self, *args):\n",
    "        print(\"Variable length argument method\")\n",
    "\n",
    "t = Test()\n",
    "t.m1()\n",
    "t.m1(1,2,3)\n",
    "t.m1(90,8467,3,177)"
   ]
  },
  {
   "cell_type": "code",
   "execution_count": 7,
   "metadata": {},
   "outputs": [
    {
     "name": "stdout",
     "output_type": "stream",
     "text": [
      "The sum = 30\n",
      "The sum = 10\n"
     ]
    }
   ],
   "source": [
    "class Test:\n",
    "    def m1(self, *args):\n",
    "        total = 0\n",
    "        for x in args:\n",
    "            total = total + x\n",
    "\n",
    "        print(\"The sum =\", total)\n",
    "\n",
    "t = Test()\n",
    "t.m1(10,20)\n",
    "t.m1(1,2,3,4)"
   ]
  },
  {
   "cell_type": "markdown",
   "metadata": {},
   "source": [
    "### Constructor Overloading\n",
    "1. Constructor overloading is not possible in python.\n",
    "2. If we are trying to declare multiple constructors, then PVM will always consider last constructor.\n"
   ]
  },
  {
   "cell_type": "code",
   "execution_count": 8,
   "metadata": {},
   "outputs": [
    {
     "ename": "TypeError",
     "evalue": "Test.__init__() missing 2 required positional arguments: 'x' and 'y'",
     "output_type": "error",
     "traceback": [
      "\u001b[1;31m---------------------------------------------------------------------------\u001b[0m",
      "\u001b[1;31mTypeError\u001b[0m                                 Traceback (most recent call last)",
      "Cell \u001b[1;32mIn[8], line 10\u001b[0m\n\u001b[0;32m      7\u001b[0m     \u001b[38;5;28;01mdef\u001b[39;00m \u001b[38;5;21m__init__\u001b[39m(\u001b[38;5;28mself\u001b[39m, x,y):\n\u001b[0;32m      8\u001b[0m         \u001b[38;5;28mprint\u001b[39m(\u001b[38;5;124m\"\u001b[39m\u001b[38;5;124mTwo arg constructor\u001b[39m\u001b[38;5;124m\"\u001b[39m)\n\u001b[1;32m---> 10\u001b[0m t\u001b[38;5;241m=\u001b[39m \u001b[43mTest\u001b[49m\u001b[43m(\u001b[49m\u001b[43m)\u001b[49m\n",
      "\u001b[1;31mTypeError\u001b[0m: Test.__init__() missing 2 required positional arguments: 'x' and 'y'"
     ]
    }
   ],
   "source": [
    "class Test:\n",
    "    def __init__(self):\n",
    "        print(\"no arg constructor\")\n",
    "\n",
    "    def __init__(self, x):\n",
    "        print(\"One arg constructor\")\n",
    "    def __init__(self, x,y):\n",
    "        print(\"Two arg constructor\")\n",
    "\n",
    "t= Test()\n"
   ]
  },
  {
   "cell_type": "code",
   "execution_count": 9,
   "metadata": {},
   "outputs": [
    {
     "name": "stdout",
     "output_type": "stream",
     "text": [
      "Two arg constructor\n"
     ]
    }
   ],
   "source": [
    "t= Test(10,20)"
   ]
  },
  {
   "cell_type": "code",
   "execution_count": 11,
   "metadata": {},
   "outputs": [
    {
     "name": "stdout",
     "output_type": "stream",
     "text": [
      "Constructor with 0/1/2/3 argument\n",
      "Constructor with 0/1/2/3 argument\n",
      "Constructor with 0/1/2/3 argument\n",
      "Constructor with 0/1/2/3 argument\n"
     ]
    }
   ],
   "source": [
    "#How to define a constructor with variable number of arguments\n",
    "#1. Constructor with default arguments.\n",
    "class Test:\n",
    "    def __init__(self, a= None, b=None, c=None):\n",
    "        print(\"Constructor with 0/1/2/3 argument\")\n",
    "\n",
    "t = Test()\n",
    "t = Test(10)\n",
    "t = Test(10,20)\n",
    "t = Test(10,20,30)"
   ]
  },
  {
   "cell_type": "code",
   "execution_count": 12,
   "metadata": {},
   "outputs": [
    {
     "name": "stdout",
     "output_type": "stream",
     "text": [
      "Constructor with variable no. of argument\n",
      "Constructor with variable no. of argument\n",
      "Constructor with variable no. of argument\n",
      "Constructor with variable no. of argument\n"
     ]
    }
   ],
   "source": [
    "#2. Constructor with variable number of arguments\n",
    "class Test:\n",
    "    def __init__(self, *args):\n",
    "        print(\"Constructor with variable no. of argument\")\n",
    "\n",
    "t = Test()\n",
    "t = Test(10)\n",
    "t = Test(10,20)\n",
    "t = Test(10,20,30)"
   ]
  },
  {
   "cell_type": "markdown",
   "metadata": {},
   "source": [
    "### Overriding\n",
    "1. Whatever members present in parent class are by default available to the child class through inheritance. Sometimes child class may not satisfy with parent class implementation, then child class is allowed to redefine that method based on its requirements. This process is called overriding\n",
    "2. Overriding concept applicable for methods and constructors\n"
   ]
  },
  {
   "cell_type": "markdown",
   "metadata": {},
   "source": [
    "### Method overriding"
   ]
  },
  {
   "cell_type": "code",
   "execution_count": 14,
   "metadata": {},
   "outputs": [
    {
     "name": "stdout",
     "output_type": "stream",
     "text": [
      "Karina kaif\n"
     ]
    }
   ],
   "source": [
    "class Parent:\n",
    "    def property(self):\n",
    "        print(\"Land + Gold + Cash + Power\")\n",
    "\n",
    "    def marry(self):\n",
    "        print(\"Appalamma\")\n",
    "\n",
    "class Child(Parent):\n",
    "    def marry(self):\n",
    "        # super().marry()\n",
    "        print(\"Karina kaif\")\n",
    "\n",
    "c = Child()\n",
    "c.marry()"
   ]
  },
  {
   "cell_type": "markdown",
   "metadata": {},
   "source": [
    "### Constructor Overriding"
   ]
  },
  {
   "cell_type": "code",
   "execution_count": 16,
   "metadata": {},
   "outputs": [
    {
     "name": "stdout",
     "output_type": "stream",
     "text": [
      "Child Constructor\n"
     ]
    }
   ],
   "source": [
    "class Parent:\n",
    "    def __init__(self):\n",
    "        print(\"Parent Constructor\")\n",
    "\n",
    "class Child(Parent):\n",
    "    def __init__(self):\n",
    "        # super().__init__()\n",
    "        print(\"Child Constructor\")\n",
    "\n",
    "\n",
    "c= Child()"
   ]
  },
  {
   "cell_type": "markdown",
   "metadata": {},
   "source": [
    "### Overriding Demo program"
   ]
  },
  {
   "cell_type": "code",
   "execution_count": 21,
   "metadata": {},
   "outputs": [
    {
     "name": "stdout",
     "output_type": "stream",
     "text": [
      "Name = Akhil\n",
      "Age = 48\n",
      "Height = 5.5\n",
      "Weight = 68\n",
      "Employee Number = 87245\n",
      "Employee Salary = 50000\n"
     ]
    }
   ],
   "source": [
    "class Person:\n",
    "    def __init__(self, name, age, height, weight):\n",
    "        self.name = name\n",
    "        self.age = age\n",
    "        self.height = height\n",
    "        self.weight = weight\n",
    "\n",
    "    def display(self):\n",
    "        print(\"Name =\", self.name)\n",
    "        print(\"Age =\", self.age)\n",
    "        print(\"Height =\", self.height)\n",
    "        print(\"Weight =\", self.weight)\n",
    "\n",
    "class Employee(Person):\n",
    "    def __init__(self, name, age, height, weight, eno, esal):\n",
    "        super().__init__(name, age, height, weight)\n",
    "        # self.name = name\n",
    "        # self.age = age\n",
    "        # self.height = height\n",
    "        # self.weight = weight\n",
    "        self.eno = eno\n",
    "        self.esal = esal\n",
    "    def display(self):\n",
    "        super().display()\n",
    "        # print(\"Name =\", self.name)\n",
    "        # print(\"Age =\", self.age)\n",
    "        # print(\"Height =\", self.height)\n",
    "        # print(\"Weight =\", self.weight)\n",
    "        print(\"Employee Number =\", self.eno)\n",
    "        print(\"Employee Salary =\", self.esal)\n",
    "\n",
    "\n",
    "e= Employee(\"Akhil\", 48, 5.5, 68, 87245, 50000)\n",
    "e.display()"
   ]
  },
  {
   "cell_type": "markdown",
   "metadata": {},
   "source": [
    "### Beautiful definition of Polymorphism\n",
    "1. A Boy starts love with the word Friendship.\n",
    "2. A Girl ends love with the same word Friendship.\n",
    "3. Word is same, but purpose is the different. This beautiful concept of OOPs is nothing but Polymorphism."
   ]
  },
  {
   "cell_type": "markdown",
   "metadata": {},
   "source": [
    "### Abstraction\n",
    "1. Abstraction Method\n",
    "2. Abstraction class\n",
    "3. Interface"
   ]
  },
  {
   "cell_type": "markdown",
   "metadata": {},
   "source": [
    "### Abstract Method\n",
    "1. Sometimes we don't know about implementation, still we can declare a method. Such type of methods are called abstract methods i.e., abstract method has only declaration but not implementation(empty implementation)\n",
    "2. In python, we can declare abstract method by using @abstractmethod decorator\n",
    "3. Abstract decorator present in abc module. Hence compulsory we should import abc module.\n",
    "4. Child classes are responsible to provide implementation for Parent class abstract methods.\n",
    "\n"
   ]
  },
  {
   "cell_type": "code",
   "execution_count": 22,
   "metadata": {},
   "outputs": [],
   "source": [
    "from abc import abstractmethod\n",
    "class Vehicle:\n",
    "    @abstractmethod\n",
    "    def getNoOfWheels(self):\n",
    "        pass"
   ]
  },
  {
   "cell_type": "markdown",
   "metadata": {},
   "source": [
    "### Abstract class\n",
    "1. Sometimes implementation of a class is not complete, such type of partially implemented classes are called abstract classes.\n",
    "- Abstract class ====> Partially implemented class.\n",
    "2. Every abstract class in python should be child class of ABC class, which is present in abc module.\n",
    "- ABC ===> Abstract Base Class\n",
    "3. Child classes are responsible to provide implementation for parent class abstract methods."
   ]
  },
  {
   "cell_type": "code",
   "execution_count": 23,
   "metadata": {},
   "outputs": [],
   "source": [
    "from abc import abstractmethod, ABC\n",
    "class Vehicle(ABC):\n",
    "    @abstractmethod\n",
    "    def getNoOfWheels(self):\n",
    "        pass\n"
   ]
  },
  {
   "cell_type": "code",
   "execution_count": 24,
   "metadata": {},
   "outputs": [
    {
     "name": "stdout",
     "output_type": "stream",
     "text": [
      "6\n",
      "3\n"
     ]
    }
   ],
   "source": [
    "from abc import abstractmethod, ABC\n",
    "class Vehicle(ABC):\n",
    "    @abstractmethod\n",
    "    def getNoOfWheels(self):\n",
    "        pass\n",
    "\n",
    "class Bus(Vehicle):\n",
    "    def getNoOfWheels(self):\n",
    "        return 6\n",
    "\n",
    "class Auto(Vehicle):\n",
    "    def getNoOfWheels(self):\n",
    "        return 3\n",
    "    \n",
    "b = Bus()\n",
    "print(b.getNoOfWheels())\n",
    "a = Auto()\n",
    "print(a.getNoOfWheels())\n"
   ]
  },
  {
   "cell_type": "code",
   "execution_count": null,
   "metadata": {},
   "outputs": [],
   "source": []
  }
 ],
 "metadata": {
  "kernelspec": {
   "display_name": "Python 3",
   "language": "python",
   "name": "python3"
  },
  "language_info": {
   "codemirror_mode": {
    "name": "ipython",
    "version": 3
   },
   "file_extension": ".py",
   "mimetype": "text/x-python",
   "name": "python",
   "nbconvert_exporter": "python",
   "pygments_lexer": "ipython3",
   "version": "3.10.0"
  }
 },
 "nbformat": 4,
 "nbformat_minor": 2
}
